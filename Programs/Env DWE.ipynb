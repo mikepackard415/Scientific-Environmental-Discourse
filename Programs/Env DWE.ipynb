{
 "cells": [
  {
   "cell_type": "code",
   "execution_count": 5,
   "id": "bc1a47e2",
   "metadata": {},
   "outputs": [],
   "source": [
    "import pandas as pd\n",
    "from gensim import models\n",
    "import pandas as pd\n",
    "import dwe # taken from macs30124 materials"
   ]
  },
  {
   "cell_type": "code",
   "execution_count": 2,
   "id": "4cebb026",
   "metadata": {},
   "outputs": [],
   "source": [
    "env = pd.read_pickle(\"../Data/Environmental Discourse/env.pkl\")"
   ]
  },
  {
   "cell_type": "code",
   "execution_count": 10,
   "id": "6544082d",
   "metadata": {},
   "outputs": [],
   "source": [
    "# Select the columns we need, separate by year\n",
    "env = env[['year', 'text']]\n",
    "years = range(2000, 2022)\n",
    "ob_dict = {str(year): env[env['year'] == year] for year in years}"
   ]
  },
  {
   "cell_type": "code",
   "execution_count": 12,
   "id": "2d802715",
   "metadata": {},
   "outputs": [
    {
     "data": {
      "text/plain": [
       "33476    [weightless, economi, still, dirti, old, oil, ...\n",
       "4866     [energi, white, paper, matthew, r, simmon, oct...\n",
       "4867     [part, one, articl, avail, wwwenergybulletinne...\n",
       "4868     [eb, reader, scientist, shane, perryman, sent,...\n",
       "4        [river, groundwat, contamin, minut, amount, ev...\n",
       "Name: text, dtype: object"
      ]
     },
     "execution_count": 12,
     "metadata": {},
     "output_type": "execute_result"
    }
   ],
   "source": [
    "# clean and stem data:\n",
    "stemmed_tokens = {y: dwe.tokenize_ob(df['text']) for y, df in ob_dict.items()}\n",
    "stemmed_tokens['2000'].head()"
   ]
  },
  {
   "cell_type": "code",
   "execution_count": 13,
   "id": "6d0abca1",
   "metadata": {},
   "outputs": [],
   "source": [
    "model = {}\n",
    "for year, tokens in stemmed_tokens.items():\n",
    "    model[year] = models.word2vec.Word2Vec(tokens, workers=-1)\n",
    "    model[year].save('../Data/w2v/w2v_{}.model'.format(year))\n",
    "\n",
    "model = {str(year): models.KeyedVectors.load('../Data/w2v/w2v_{}.model'.format(year)) for year in years}"
   ]
  },
  {
   "cell_type": "code",
   "execution_count": 15,
   "id": "ff293e4b",
   "metadata": {},
   "outputs": [
    {
     "name": "stdout",
     "output_type": "stream",
     "text": [
      "[('guardrail', 0.3662564158439636), ('media', 0.365825355052948), ('breez', 0.34578919410705566), ('rill', 0.3411779999732971), ('trapper', 0.3350496292114258), ('yep', 0.33372002840042114), ('obituari', 0.3252551853656769), ('lotteri', 0.3247826397418976), ('microchp', 0.3169577121734619), ('thermostat', 0.3118348717689514)]\n"
     ]
    }
   ],
   "source": [
    "print(model['2005'].wv.most_similar('scienc'))"
   ]
  },
  {
   "cell_type": "code",
   "execution_count": 16,
   "id": "3c10757b",
   "metadata": {},
   "outputs": [
    {
     "name": "stdout",
     "output_type": "stream",
     "text": [
      "[('tw', 0.37789642810821533), ('guardrail', 0.3662564158439636), ('media', 0.365825355052948), ('breez', 0.34578919410705566), ('yep', 0.33372002840042114), ('lotteri', 0.3247826397418976), ('rehears', 0.31874608993530273), ('thermostat', 0.3118348717689514), ('rodrguez', 0.3113802671432495), ('imf', 0.30985045433044434)]\n"
     ]
    }
   ],
   "source": [
    "print(model['2019'].wv.most_similar('scienc'))"
   ]
  },
  {
   "cell_type": "code",
   "execution_count": null,
   "id": "c8e2960d",
   "metadata": {},
   "outputs": [],
   "source": []
  }
 ],
 "metadata": {
  "kernelspec": {
   "display_name": "Python 3 (ipykernel)",
   "language": "python",
   "name": "python3"
  },
  "language_info": {
   "codemirror_mode": {
    "name": "ipython",
    "version": 3
   },
   "file_extension": ".py",
   "mimetype": "text/x-python",
   "name": "python",
   "nbconvert_exporter": "python",
   "pygments_lexer": "ipython3",
   "version": "3.9.7"
  }
 },
 "nbformat": 4,
 "nbformat_minor": 5
}
