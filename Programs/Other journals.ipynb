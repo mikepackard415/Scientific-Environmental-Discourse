{
 "cells": [
  {
   "cell_type": "code",
   "execution_count": 1,
   "id": "3fe82577",
   "metadata": {},
   "outputs": [],
   "source": [
    "import pandas as pd\n",
    "import requests\n",
    "from bs4 import BeautifulSoup"
   ]
  },
  {
   "cell_type": "code",
   "execution_count": 2,
   "id": "daab0bb1",
   "metadata": {},
   "outputs": [],
   "source": [
    "user_agent = 'Mozilla/5.0 (Windows NT 10.0; Win64; x64) AppleWebKit/537.36 (KHTML, like Gecko) Chrome/91.0.4472.114 Safari/537.36'\n",
    "referer = 'https://www.resilience.org/latest-articles/'\n",
    "headers = {'User-Agent': user_agent, 'referer':referer}"
   ]
  },
  {
   "cell_type": "markdown",
   "id": "5dcdb750",
   "metadata": {},
   "source": [
    "# Applied Ecology and Environmental Sciences"
   ]
  },
  {
   "cell_type": "code",
   "execution_count": 3,
   "id": "1070e98b",
   "metadata": {},
   "outputs": [],
   "source": [
    "\n",
    "archive = 'http://www.sciepub.com/journal/AEES/archive'"
   ]
  },
  {
   "cell_type": "code",
   "execution_count": 4,
   "id": "ecf60cbc",
   "metadata": {},
   "outputs": [],
   "source": [
    "response = requests.get(archive, headers=headers)\n",
    "soup = BeautifulSoup(response.text, 'html.parser')"
   ]
  },
  {
   "cell_type": "code",
   "execution_count": 5,
   "id": "e5bd05ac",
   "metadata": {},
   "outputs": [],
   "source": [
    "issues = [e['href'] for e in soup.find_all('a', {'class':'ctl00_cph_journal_otherinfo_list_issues_0'}) \n",
    "          if 'AEES' in e['href']]"
   ]
  },
  {
   "cell_type": "code",
   "execution_count": 7,
   "id": "70034eec",
   "metadata": {},
   "outputs": [],
   "source": [
    "base_url = 'http://www.sciepub.com'\n",
    "\n",
    "links = []\n",
    "dates = []\n",
    "\n",
    "for issue in issues:\n",
    "    issue_url = base_url + issue[5:]\n",
    "    response = requests.get(issue_url, headers=headers)\n",
    "    soup = BeautifulSoup(response.text, 'html.parser')\n",
    "    \n",
    "    new_links = [e['href'] for e in soup.find_all('a', {'class':'colortj ml20'}) if 'html' in e['id']]\n",
    "    new_links.reverse()\n",
    "    links += new_links\n",
    "    \n",
    "    new_dates = [e.find('span').text for e in soup.find_all('div', {'class':'aritlce-pubinfo mt5'})]\n",
    "    new_dates.reverse()\n",
    "    dates += new_dates"
   ]
  },
  {
   "cell_type": "code",
   "execution_count": 8,
   "id": "03ec2fa9",
   "metadata": {},
   "outputs": [],
   "source": [
    "assert len(links) == len(dates)"
   ]
  },
  {
   "cell_type": "code",
   "execution_count": 9,
   "id": "cf8905e7",
   "metadata": {},
   "outputs": [],
   "source": [
    "new_format = links[:269]\n",
    "old_format = links[269:]"
   ]
  },
  {
   "cell_type": "code",
   "execution_count": 10,
   "id": "57ebb47f",
   "metadata": {},
   "outputs": [],
   "source": [
    "def get_attributes_newformat(link):\n",
    "    \n",
    "    response = requests.get(link, headers=headers)\n",
    "    soup = BeautifulSoup(response.text, 'html.parser')\n",
    "    \n",
    "    sections = soup.find_all('div', {'class':'section'})\n",
    "    content_indicies = [0, len(sections)]\n",
    "\n",
    "    abstract = ''\n",
    "    if sections[0].find('h3').text == 'Abstract':\n",
    "        abstract = ' '.join([p.text for p in sections[0].find_all('p')])\n",
    "        content_indicies[0] = 1\n",
    "\n",
    "    for i, section in enumerate(sections):\n",
    "        if 'Conclusion' in section.find('h3').text:\n",
    "            content_indicies[1] = i + 1\n",
    "\n",
    "\n",
    "    text = ' '.join([p.text for s in sections[content_indicies[0]:content_indicies[1]] \n",
    "                     for p in s.find_all('p')])\n",
    "    \n",
    "    title = soup.find('h3', {'class':'fw700 col333'}).text\n",
    "\n",
    "    return title, abstract, text"
   ]
  },
  {
   "cell_type": "code",
   "execution_count": 11,
   "id": "5307adc6",
   "metadata": {},
   "outputs": [],
   "source": [
    "def get_attributes_oldformat(link):\n",
    "    response = requests.get(link, headers=headers)\n",
    "    soup = BeautifulSoup(response.text, 'html.parser')\n",
    "    \n",
    "    title = soup.find('div', {'class':'articleTitleArea'}).find('h2').text\n",
    "    \n",
    "    abstract = ' '.join([p.text for p in soup.find('div', {'class':'abstract'}).find_all('p')[1:]])\n",
    "    \n",
    "    paragraphs = [p.text for p in soup.find('div', {'class':'articleCon'}).find_all('p')]\n",
    "\n",
    "    p_to_exclude = 0\n",
    "    for h3 in soup.find('div', {'class':'articleCon'}).find_all('h3'):\n",
    "        if h3.text == 'Acknowledgements':\n",
    "\n",
    "            current = h3\n",
    "            more_to_go = True\n",
    "\n",
    "            while more_to_go:\n",
    "                nextNode = current.nextSibling\n",
    "                try:\n",
    "                    tag_name = nextNode.name\n",
    "                except AttributeError:\n",
    "                    tag_name = \"\"\n",
    "                    more_to_go = False\n",
    "\n",
    "                if tag_name == \"p\":\n",
    "                    p_to_exclude += 1\n",
    "                current = nextNode\n",
    "    \n",
    "    if p_to_exclude > 0:\n",
    "        paragraphs = paragraphs[:-p_to_exclude]\n",
    "    text = ' '.join(paragraphs)\n",
    "    \n",
    "    return title, abstract, text"
   ]
  },
  {
   "cell_type": "code",
   "execution_count": 14,
   "id": "061a9a1b",
   "metadata": {},
   "outputs": [],
   "source": [
    "titles = []\n",
    "abstracts = []\n",
    "texts = []\n",
    "\n",
    "for link in links:\n",
    "    try:\n",
    "        title, abstract, text = get_attributes_newformat(link)\n",
    "    except:\n",
    "        title, abstract, text = get_attributes_oldformat(link)\n",
    "    titles.append(title)\n",
    "    abstracts.append(abstract)\n",
    "    texts.append(text)\n",
    "\n",
    "'''\n",
    "for link in new_format:\n",
    "    title, abstract, text = get_attributes_newformat(link)\n",
    "    titles.append(title)\n",
    "    abstracts.append(abstract)\n",
    "    texts.append(text)\n",
    "    \n",
    "for link in old_format:\n",
    "    title, abstract, text = get_attributes_oldformat(link)\n",
    "    titles.append(title)\n",
    "    abstracts.append(abstract)\n",
    "    texts.append(text)\n",
    "'''\n",
    "df = pd.DataFrame({'link':links,\n",
    "                   'title':titles,\n",
    "                   'date': dates,\n",
    "                   'abstract':abstracts,\n",
    "                   'text': texts})"
   ]
  },
  {
   "cell_type": "code",
   "execution_count": 15,
   "id": "1eee2624",
   "metadata": {},
   "outputs": [
    {
     "data": {
      "text/html": [
       "<div>\n",
       "<style scoped>\n",
       "    .dataframe tbody tr th:only-of-type {\n",
       "        vertical-align: middle;\n",
       "    }\n",
       "\n",
       "    .dataframe tbody tr th {\n",
       "        vertical-align: top;\n",
       "    }\n",
       "\n",
       "    .dataframe thead th {\n",
       "        text-align: right;\n",
       "    }\n",
       "</style>\n",
       "<table border=\"1\" class=\"dataframe\">\n",
       "  <thead>\n",
       "    <tr style=\"text-align: right;\">\n",
       "      <th></th>\n",
       "      <th>link</th>\n",
       "      <th>title</th>\n",
       "      <th>date</th>\n",
       "      <th>abstract</th>\n",
       "      <th>text</th>\n",
       "    </tr>\n",
       "  </thead>\n",
       "  <tbody>\n",
       "    <tr>\n",
       "      <th>0</th>\n",
       "      <td>http://pubs.sciepub.com/aees/10/3/10/index.html</td>\n",
       "      <td>Maxent Modelling for Predicting the Spatial Di...</td>\n",
       "      <td>Pub. Date:  March 23, 2022</td>\n",
       "      <td>Vultures are ecologically important primarily ...</td>\n",
       "      <td>Long-billed vulture (LBV) Gyps indicus is an o...</td>\n",
       "    </tr>\n",
       "    <tr>\n",
       "      <th>1</th>\n",
       "      <td>http://pubs.sciepub.com/aees/10/3/9/index.html</td>\n",
       "      <td>A Comparative Study Focusing the Effect of Cri...</td>\n",
       "      <td>Pub. Date:  March 23, 2022</td>\n",
       "      <td>Now a day, India along with whole world is fac...</td>\n",
       "      <td>According to the latest data compiled in the W...</td>\n",
       "    </tr>\n",
       "    <tr>\n",
       "      <th>2</th>\n",
       "      <td>http://pubs.sciepub.com/aees/10/3/8/index.html</td>\n",
       "      <td>Studies of Seasonal Algal Composition during M...</td>\n",
       "      <td>Pub. Date:  March 20, 2022</td>\n",
       "      <td>This study is on seasonal algal composition in...</td>\n",
       "      <td>River Rupnarayan begins as the Dhaleswari (Dha...</td>\n",
       "    </tr>\n",
       "    <tr>\n",
       "      <th>3</th>\n",
       "      <td>http://pubs.sciepub.com/aees/10/3/7/index.html</td>\n",
       "      <td>Morphological Characteristics of Capsules, See...</td>\n",
       "      <td>Pub. Date:  March 15, 2022</td>\n",
       "      <td>An endangered species of Aquilaria malaccensis...</td>\n",
       "      <td>An endangered species of Aquilaria malaccensis...</td>\n",
       "    </tr>\n",
       "    <tr>\n",
       "      <th>4</th>\n",
       "      <td>http://pubs.sciepub.com/aees/10/3/6/index.html</td>\n",
       "      <td>Ingestion Effect of Polyethylene Terephthalate...</td>\n",
       "      <td>Pub. Date:  March 15, 2022</td>\n",
       "      <td>Polyethylene terephthalate (PET) is among the ...</td>\n",
       "      <td>Since 1950 plastic has become a material globa...</td>\n",
       "    </tr>\n",
       "  </tbody>\n",
       "</table>\n",
       "</div>"
      ],
      "text/plain": [
       "                                              link  \\\n",
       "0  http://pubs.sciepub.com/aees/10/3/10/index.html   \n",
       "1   http://pubs.sciepub.com/aees/10/3/9/index.html   \n",
       "2   http://pubs.sciepub.com/aees/10/3/8/index.html   \n",
       "3   http://pubs.sciepub.com/aees/10/3/7/index.html   \n",
       "4   http://pubs.sciepub.com/aees/10/3/6/index.html   \n",
       "\n",
       "                                               title  \\\n",
       "0  Maxent Modelling for Predicting the Spatial Di...   \n",
       "1  A Comparative Study Focusing the Effect of Cri...   \n",
       "2  Studies of Seasonal Algal Composition during M...   \n",
       "3  Morphological Characteristics of Capsules, See...   \n",
       "4  Ingestion Effect of Polyethylene Terephthalate...   \n",
       "\n",
       "                         date  \\\n",
       "0  Pub. Date:  March 23, 2022   \n",
       "1  Pub. Date:  March 23, 2022   \n",
       "2  Pub. Date:  March 20, 2022   \n",
       "3  Pub. Date:  March 15, 2022   \n",
       "4  Pub. Date:  March 15, 2022   \n",
       "\n",
       "                                            abstract  \\\n",
       "0  Vultures are ecologically important primarily ...   \n",
       "1  Now a day, India along with whole world is fac...   \n",
       "2  This study is on seasonal algal composition in...   \n",
       "3  An endangered species of Aquilaria malaccensis...   \n",
       "4  Polyethylene terephthalate (PET) is among the ...   \n",
       "\n",
       "                                                text  \n",
       "0  Long-billed vulture (LBV) Gyps indicus is an o...  \n",
       "1  According to the latest data compiled in the W...  \n",
       "2  River Rupnarayan begins as the Dhaleswari (Dha...  \n",
       "3  An endangered species of Aquilaria malaccensis...  \n",
       "4  Since 1950 plastic has become a material globa...  "
      ]
     },
     "execution_count": 15,
     "metadata": {},
     "output_type": "execute_result"
    }
   ],
   "source": [
    "df.head()"
   ]
  },
  {
   "cell_type": "code",
   "execution_count": 17,
   "id": "84690bf9",
   "metadata": {},
   "outputs": [],
   "source": [
    "def clean(text):\n",
    "    rv = text.replace('\\r\\n','')\n",
    "    rv = rv.strip()\n",
    "    return rv\n",
    "\n",
    "df['title'] = df.title.apply(clean)\n",
    "df['abstract'] = df.abstract.apply(clean)"
   ]
  },
  {
   "cell_type": "code",
   "execution_count": null,
   "id": "ffb1c05d",
   "metadata": {},
   "outputs": [],
   "source": [
    "df"
   ]
  },
  {
   "cell_type": "code",
   "execution_count": null,
   "id": "4f7aaa62",
   "metadata": {},
   "outputs": [],
   "source": [
    "# Fix dates"
   ]
  },
  {
   "cell_type": "code",
   "execution_count": 18,
   "id": "5db59a49",
   "metadata": {},
   "outputs": [],
   "source": [
    "df.to_pickle('../Data/aees.pkl')"
   ]
  },
  {
   "cell_type": "markdown",
   "id": "a3e77e63",
   "metadata": {},
   "source": [
    "# Environmental Sociology"
   ]
  },
  {
   "cell_type": "code",
   "execution_count": 19,
   "id": "821d0264",
   "metadata": {},
   "outputs": [],
   "source": [
    "pages = []\n",
    "for vol in range(1, 9):\n",
    "    for iss in range(1, 5):\n",
    "        pages.append('https://www.tandfonline.com/toc/rens20/{}/{}?nav=tocList'.format(vol, iss))\n",
    "\n",
    "pages = pages[:-3]"
   ]
  },
  {
   "cell_type": "code",
   "execution_count": 20,
   "id": "5179ea2e",
   "metadata": {},
   "outputs": [],
   "source": [
    "links = []\n",
    "dates = []\n",
    "\n",
    "for page in pages:\n",
    "    response = requests.get(page, headers=headers)\n",
    "    soup = BeautifulSoup(response.text, 'html.parser')\n",
    "    \n",
    "    links += [e['href'] for e in soup.find_all('a', {'class':'ref nowrap full'})]\n",
    "    dates += [e.text for e in soup.find_all('span', {'class':'date'})]"
   ]
  },
  {
   "cell_type": "code",
   "execution_count": 21,
   "id": "f1287a2b",
   "metadata": {},
   "outputs": [
    {
     "name": "stdout",
     "output_type": "stream",
     "text": [
      "258\n"
     ]
    }
   ],
   "source": [
    "assert len(links) == len(dates)\n",
    "print(len(links))"
   ]
  },
  {
   "cell_type": "code",
   "execution_count": 22,
   "id": "f3ea1112",
   "metadata": {},
   "outputs": [
    {
     "data": {
      "text/plain": [
       "'/doi/full/10.1080/23251042.2015.1022983'"
      ]
     },
     "execution_count": 22,
     "metadata": {},
     "output_type": "execute_result"
    }
   ],
   "source": [
    "links[0]"
   ]
  },
  {
   "cell_type": "code",
   "execution_count": 23,
   "id": "4a4de8c4",
   "metadata": {},
   "outputs": [],
   "source": [
    "def get_attributes_es(link):\n",
    "    \n",
    "    response = requests.get(link, headers=headers)\n",
    "    soup = BeautifulSoup(response.text, 'html.parser')\n",
    "    \n",
    "    title = soup.find('span', {'class':'NLM_article-title hlFld-title'}).text\n",
    "\n",
    "    text_find = soup.find('div', {'class':'hlFld-Fulltext'})\n",
    "    if str(text_find) == 'None':\n",
    "        text = ''\n",
    "    else:\n",
    "        text = ' '.join([p.text for p in soup.find('div', {'class':'hlFld-Fulltext'}).find_all('p')])\n",
    "\n",
    "    abstract_find = soup.find('div', {'class':'abstractSection abstractInFull'})\n",
    "    if str(abstract_find) == 'None':\n",
    "        abstract = ''\n",
    "    else:\n",
    "        abstract = abstract_find.text\n",
    "    \n",
    "    return title, abstract, text"
   ]
  },
  {
   "cell_type": "code",
   "execution_count": 24,
   "id": "36638489",
   "metadata": {},
   "outputs": [],
   "source": [
    "titles = []\n",
    "abstracts = []\n",
    "texts = []\n",
    "\n",
    "for link in links:\n",
    "    title, abstract, text = get_attributes_es('https://www.tandfonline.com' + link)\n",
    "    titles.append(title)\n",
    "    abstracts.append(abstract)\n",
    "    texts.append(text)\n",
    "\n",
    "df_es = pd.DataFrame({'link':links,\n",
    "                        'title':titles,\n",
    "                        'date': dates,\n",
    "                        'abstract':abstracts,\n",
    "                        'text': texts})"
   ]
  },
  {
   "cell_type": "code",
   "execution_count": 25,
   "id": "78178daf",
   "metadata": {},
   "outputs": [
    {
     "data": {
      "text/html": [
       "<div>\n",
       "<style scoped>\n",
       "    .dataframe tbody tr th:only-of-type {\n",
       "        vertical-align: middle;\n",
       "    }\n",
       "\n",
       "    .dataframe tbody tr th {\n",
       "        vertical-align: top;\n",
       "    }\n",
       "\n",
       "    .dataframe thead th {\n",
       "        text-align: right;\n",
       "    }\n",
       "</style>\n",
       "<table border=\"1\" class=\"dataframe\">\n",
       "  <thead>\n",
       "    <tr style=\"text-align: right;\">\n",
       "      <th></th>\n",
       "      <th>link</th>\n",
       "      <th>title</th>\n",
       "      <th>date</th>\n",
       "      <th>abstract</th>\n",
       "      <th>text</th>\n",
       "    </tr>\n",
       "  </thead>\n",
       "  <tbody>\n",
       "    <tr>\n",
       "      <th>0</th>\n",
       "      <td>/doi/full/10.1080/23251042.2015.1022983</td>\n",
       "      <td>Why environmental sociology?</td>\n",
       "      <td>19 Mar 2015</td>\n",
       "      <td></td>\n",
       "      <td>In some ways, the answer is obvious. As the sc...</td>\n",
       "    </tr>\n",
       "    <tr>\n",
       "      <th>1</th>\n",
       "      <td>/doi/full/10.1080/23251042.2014.971479</td>\n",
       "      <td>The lie of the lion: racialization of nature i...</td>\n",
       "      <td>19 Mar 2015</td>\n",
       "      <td>The narrative of the Maasai lion hunt, invoked...</td>\n",
       "      <td></td>\n",
       "    </tr>\n",
       "    <tr>\n",
       "      <th>2</th>\n",
       "      <td>/doi/full/10.1080/23251042.2015.1012617</td>\n",
       "      <td>The territorialization of environmental Govern...</td>\n",
       "      <td>19 Mar 2015</td>\n",
       "      <td>The territorial/local level of action appears ...</td>\n",
       "      <td></td>\n",
       "    </tr>\n",
       "    <tr>\n",
       "      <th>3</th>\n",
       "      <td>/doi/full/10.1080/23251042.2015.1020466</td>\n",
       "      <td>A behavioural measure of environmental decisio...</td>\n",
       "      <td>19 Mar 2015</td>\n",
       "      <td>There is great benefit in using measures of en...</td>\n",
       "      <td></td>\n",
       "    </tr>\n",
       "    <tr>\n",
       "      <th>4</th>\n",
       "      <td>/doi/full/10.1080/23251042.2014.965402</td>\n",
       "      <td>Natural waste: canine companions and the lure ...</td>\n",
       "      <td>19 Mar 2015</td>\n",
       "      <td>The most organized and regulated societies in ...</td>\n",
       "      <td></td>\n",
       "    </tr>\n",
       "    <tr>\n",
       "      <th>...</th>\n",
       "      <td>...</td>\n",
       "      <td>...</td>\n",
       "      <td>...</td>\n",
       "      <td>...</td>\n",
       "      <td>...</td>\n",
       "    </tr>\n",
       "    <tr>\n",
       "      <th>253</th>\n",
       "      <td>/doi/full/10.1080/23251042.2021.1980936</td>\n",
       "      <td>Livelihood discourses at the water-energy-food...</td>\n",
       "      <td>28 Oct 2021</td>\n",
       "      <td>ABSTRACTOnshore Coal Seam Gas (CSG) extraction...</td>\n",
       "      <td></td>\n",
       "    </tr>\n",
       "    <tr>\n",
       "      <th>254</th>\n",
       "      <td>/doi/full/10.1080/23251042.2021.1958545</td>\n",
       "      <td>Understanding the rebound: normative evaluatio...</td>\n",
       "      <td>01 Aug 2021</td>\n",
       "      <td>ABSTRACTRenewable energy may have smaller envi...</td>\n",
       "      <td></td>\n",
       "    </tr>\n",
       "    <tr>\n",
       "      <th>255</th>\n",
       "      <td>/doi/full/10.1080/23251042.2021.2002000</td>\n",
       "      <td>Community sharing: sustainable mobility in a p...</td>\n",
       "      <td>14 Nov 2021</td>\n",
       "      <td>ABSTRACTThis paper examines new initiatives in...</td>\n",
       "      <td>Having ratified the Paris Agreement, Japan has...</td>\n",
       "    </tr>\n",
       "    <tr>\n",
       "      <th>256</th>\n",
       "      <td>/doi/full/10.1080/23251042.2021.1975350</td>\n",
       "      <td>The relationship between state-level carbon em...</td>\n",
       "      <td>12 Sep 2021</td>\n",
       "      <td>ABSTRACTClimate change is perhaps the most pre...</td>\n",
       "      <td></td>\n",
       "    </tr>\n",
       "    <tr>\n",
       "      <th>257</th>\n",
       "      <td>/doi/full/10.1080/23251042.2021.1975349</td>\n",
       "      <td>Metropolitan air pollution abatement and indus...</td>\n",
       "      <td>12 Sep 2021</td>\n",
       "      <td>ABSTRACTThis study re-scales analysis of globa...</td>\n",
       "      <td></td>\n",
       "    </tr>\n",
       "  </tbody>\n",
       "</table>\n",
       "<p>258 rows × 5 columns</p>\n",
       "</div>"
      ],
      "text/plain": [
       "                                        link  \\\n",
       "0    /doi/full/10.1080/23251042.2015.1022983   \n",
       "1     /doi/full/10.1080/23251042.2014.971479   \n",
       "2    /doi/full/10.1080/23251042.2015.1012617   \n",
       "3    /doi/full/10.1080/23251042.2015.1020466   \n",
       "4     /doi/full/10.1080/23251042.2014.965402   \n",
       "..                                       ...   \n",
       "253  /doi/full/10.1080/23251042.2021.1980936   \n",
       "254  /doi/full/10.1080/23251042.2021.1958545   \n",
       "255  /doi/full/10.1080/23251042.2021.2002000   \n",
       "256  /doi/full/10.1080/23251042.2021.1975350   \n",
       "257  /doi/full/10.1080/23251042.2021.1975349   \n",
       "\n",
       "                                                 title          date  \\\n",
       "0                         Why environmental sociology?   19 Mar 2015   \n",
       "1    The lie of the lion: racialization of nature i...   19 Mar 2015   \n",
       "2    The territorialization of environmental Govern...   19 Mar 2015   \n",
       "3    A behavioural measure of environmental decisio...   19 Mar 2015   \n",
       "4    Natural waste: canine companions and the lure ...   19 Mar 2015   \n",
       "..                                                 ...           ...   \n",
       "253  Livelihood discourses at the water-energy-food...   28 Oct 2021   \n",
       "254  Understanding the rebound: normative evaluatio...   01 Aug 2021   \n",
       "255  Community sharing: sustainable mobility in a p...   14 Nov 2021   \n",
       "256  The relationship between state-level carbon em...   12 Sep 2021   \n",
       "257  Metropolitan air pollution abatement and indus...   12 Sep 2021   \n",
       "\n",
       "                                              abstract  \\\n",
       "0                                                        \n",
       "1    The narrative of the Maasai lion hunt, invoked...   \n",
       "2    The territorial/local level of action appears ...   \n",
       "3    There is great benefit in using measures of en...   \n",
       "4    The most organized and regulated societies in ...   \n",
       "..                                                 ...   \n",
       "253  ABSTRACTOnshore Coal Seam Gas (CSG) extraction...   \n",
       "254  ABSTRACTRenewable energy may have smaller envi...   \n",
       "255  ABSTRACTThis paper examines new initiatives in...   \n",
       "256  ABSTRACTClimate change is perhaps the most pre...   \n",
       "257  ABSTRACTThis study re-scales analysis of globa...   \n",
       "\n",
       "                                                  text  \n",
       "0    In some ways, the answer is obvious. As the sc...  \n",
       "1                                                       \n",
       "2                                                       \n",
       "3                                                       \n",
       "4                                                       \n",
       "..                                                 ...  \n",
       "253                                                     \n",
       "254                                                     \n",
       "255  Having ratified the Paris Agreement, Japan has...  \n",
       "256                                                     \n",
       "257                                                     \n",
       "\n",
       "[258 rows x 5 columns]"
      ]
     },
     "execution_count": 25,
     "metadata": {},
     "output_type": "execute_result"
    }
   ],
   "source": [
    "df_es"
   ]
  },
  {
   "cell_type": "code",
   "execution_count": null,
   "id": "42db2e3f",
   "metadata": {},
   "outputs": [],
   "source": [
    "# Need date and text cleaning"
   ]
  },
  {
   "cell_type": "code",
   "execution_count": 26,
   "id": "fedd590e",
   "metadata": {},
   "outputs": [],
   "source": [
    "df_es.to_pickle('../Data/es.pkl')"
   ]
  },
  {
   "cell_type": "code",
   "execution_count": null,
   "id": "9b8c6043",
   "metadata": {},
   "outputs": [],
   "source": []
  }
 ],
 "metadata": {
  "kernelspec": {
   "display_name": "Python 3 (ipykernel)",
   "language": "python",
   "name": "python3"
  },
  "language_info": {
   "codemirror_mode": {
    "name": "ipython",
    "version": 3
   },
   "file_extension": ".py",
   "mimetype": "text/x-python",
   "name": "python",
   "nbconvert_exporter": "python",
   "pygments_lexer": "ipython3",
   "version": "3.9.7"
  }
 },
 "nbformat": 4,
 "nbformat_minor": 5
}
