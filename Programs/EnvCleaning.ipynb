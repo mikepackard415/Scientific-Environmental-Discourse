{
 "cells": [
  {
   "cell_type": "code",
   "execution_count": 49,
   "id": "b1dfb4c9",
   "metadata": {},
   "outputs": [],
   "source": [
    "import pandas as pd\n",
    "import re\n",
    "import matplotlib.pyplot as plt\n",
    "import numpy as np"
   ]
  },
  {
   "cell_type": "code",
   "execution_count": 2,
   "id": "20353453",
   "metadata": {},
   "outputs": [
    {
     "data": {
      "text/plain": [
       "(93764, 6)"
      ]
     },
     "execution_count": 2,
     "metadata": {},
     "output_type": "execute_result"
    }
   ],
   "source": [
    "env = pd.read_csv('../data/env.csv', index_col=0)\n",
    "env.shape"
   ]
  },
  {
   "cell_type": "code",
   "execution_count": 64,
   "id": "3e4cdb80",
   "metadata": {},
   "outputs": [],
   "source": [
    "def clean(text):\n",
    "    \n",
    "    text = text.replace('Ed. note: ', '')\n",
    "\n",
    "    text = text.replace(' Grist thanks its sponsors. Become one.', '')\n",
    "    \n",
    "    text = text.replace('\\xa0', ' ')\n",
    "    \n",
    "    text = text.replace('\\n', '')\n",
    "    \n",
    "    return text  "
   ]
  },
  {
   "cell_type": "code",
   "execution_count": 66,
   "id": "b6ab2295",
   "metadata": {},
   "outputs": [],
   "source": [
    "env['text'] = env.text.apply(clean)"
   ]
  },
  {
   "cell_type": "code",
   "execution_count": 67,
   "id": "41639a3b",
   "metadata": {},
   "outputs": [],
   "source": [
    "env['len'] = env.text.apply(len)"
   ]
  },
  {
   "cell_type": "code",
   "execution_count": 68,
   "id": "66ace052",
   "metadata": {},
   "outputs": [],
   "source": [
    "env['len_log'] = env.len.apply(np.log)"
   ]
  },
  {
   "cell_type": "code",
   "execution_count": 70,
   "id": "d1d64079",
   "metadata": {},
   "outputs": [
    {
     "data": {
      "text/plain": [
       "1755"
      ]
     },
     "execution_count": 70,
     "metadata": {},
     "output_type": "execute_result"
    }
   ],
   "source": [
    "env.sort_values(by='len_log').len.iloc[25000]"
   ]
  },
  {
   "cell_type": "code",
   "execution_count": 55,
   "id": "4e6a8de4",
   "metadata": {},
   "outputs": [
    {
     "data": {
      "text/html": [
       "<div>\n",
       "<style scoped>\n",
       "    .dataframe tbody tr th:only-of-type {\n",
       "        vertical-align: middle;\n",
       "    }\n",
       "\n",
       "    .dataframe tbody tr th {\n",
       "        vertical-align: top;\n",
       "    }\n",
       "\n",
       "    .dataframe thead th {\n",
       "        text-align: right;\n",
       "    }\n",
       "</style>\n",
       "<table border=\"1\" class=\"dataframe\">\n",
       "  <thead>\n",
       "    <tr style=\"text-align: right;\">\n",
       "      <th></th>\n",
       "      <th>source</th>\n",
       "      <th>url</th>\n",
       "      <th>title</th>\n",
       "      <th>date</th>\n",
       "      <th>author</th>\n",
       "      <th>text</th>\n",
       "      <th>len</th>\n",
       "      <th>len_log</th>\n",
       "    </tr>\n",
       "  </thead>\n",
       "  <tbody>\n",
       "    <tr>\n",
       "      <th>30748</th>\n",
       "      <td>Resilience</td>\n",
       "      <td>https://www.resilience.org/stories/2009-12-11/...</td>\n",
       "      <td>Transition Reflections from Copenhagen: Naresh...</td>\n",
       "      <td>2009-12-11</td>\n",
       "      <td>Naresh Giangrande</td>\n",
       "      <td></td>\n",
       "      <td>1</td>\n",
       "      <td>0.000000</td>\n",
       "    </tr>\n",
       "    <tr>\n",
       "      <th>61742</th>\n",
       "      <td>Grist</td>\n",
       "      <td>https://grist.org/article/dilbert-on-clean-ene...</td>\n",
       "      <td>Dilbert on clean energy innovation</td>\n",
       "      <td>2011-03-30</td>\n",
       "      <td>Christopher Mims</td>\n",
       "      <td></td>\n",
       "      <td>1</td>\n",
       "      <td>0.000000</td>\n",
       "    </tr>\n",
       "    <tr>\n",
       "      <th>28243</th>\n",
       "      <td>Resilience</td>\n",
       "      <td>https://www.resilience.org/stories/2014-10-06/...</td>\n",
       "      <td>None</td>\n",
       "      <td>2014-10-06</td>\n",
       "      <td>None</td>\n",
       "      <td></td>\n",
       "      <td>1</td>\n",
       "      <td>0.000000</td>\n",
       "    </tr>\n",
       "    <tr>\n",
       "      <th>66900</th>\n",
       "      <td>Grist</td>\n",
       "      <td>https://grist.org/article/zach-weiner-on-how-t...</td>\n",
       "      <td>Zach Weiner on how to pass climate chang...</td>\n",
       "      <td>2010-06-18</td>\n",
       "      <td>Gar Lipow</td>\n",
       "      <td></td>\n",
       "      <td>1</td>\n",
       "      <td>0.000000</td>\n",
       "    </tr>\n",
       "    <tr>\n",
       "      <th>28329</th>\n",
       "      <td>Resilience</td>\n",
       "      <td>https://www.resilience.org/stories/2014-07-17/...</td>\n",
       "      <td>Resilience Roundup – July 17</td>\n",
       "      <td>2014-07-17</td>\n",
       "      <td>Resilience.org Staff</td>\n",
       "      <td></td>\n",
       "      <td>1</td>\n",
       "      <td>0.000000</td>\n",
       "    </tr>\n",
       "    <tr>\n",
       "      <th>...</th>\n",
       "      <td>...</td>\n",
       "      <td>...</td>\n",
       "      <td>...</td>\n",
       "      <td>...</td>\n",
       "      <td>...</td>\n",
       "      <td>...</td>\n",
       "      <td>...</td>\n",
       "      <td>...</td>\n",
       "    </tr>\n",
       "    <tr>\n",
       "      <th>7609</th>\n",
       "      <td>Resilience</td>\n",
       "      <td>https://www.resilience.org/stories/2015-10-05/...</td>\n",
       "      <td>Resilience and Collapse: Notes from Cyprus</td>\n",
       "      <td>2015-10-05</td>\n",
       "      <td>Lakis Polycarpou</td>\n",
       "      <td>\\\"\\\"</td>\n",
       "      <td>4</td>\n",
       "      <td>1.386294</td>\n",
       "    </tr>\n",
       "    <tr>\n",
       "      <th>9513</th>\n",
       "      <td>Resilience</td>\n",
       "      <td>https://www.resilience.org/stories/2014-04-21/...</td>\n",
       "      <td>A Case Study in Community Sustainability</td>\n",
       "      <td>2014-04-21</td>\n",
       "      <td>Paul Clarke</td>\n",
       "      <td>\\\"\\\"</td>\n",
       "      <td>4</td>\n",
       "      <td>1.386294</td>\n",
       "    </tr>\n",
       "    <tr>\n",
       "      <th>8148</th>\n",
       "      <td>Resilience</td>\n",
       "      <td>https://www.resilience.org/stories/2015-04-29/...</td>\n",
       "      <td>Marcellus Production Outlook</td>\n",
       "      <td>2015-04-29</td>\n",
       "      <td>David Hughes</td>\n",
       "      <td>\\\"\\\"</td>\n",
       "      <td>4</td>\n",
       "      <td>1.386294</td>\n",
       "    </tr>\n",
       "    <tr>\n",
       "      <th>73434</th>\n",
       "      <td>Grist</td>\n",
       "      <td>https://grist.org/article/turnout-in-nh/</td>\n",
       "      <td>Turnout in NH</td>\n",
       "      <td>2008-01-09</td>\n",
       "      <td>David Roberts</td>\n",
       "      <td>High.</td>\n",
       "      <td>5</td>\n",
       "      <td>1.609438</td>\n",
       "    </tr>\n",
       "    <tr>\n",
       "      <th>51629</th>\n",
       "      <td>Grist</td>\n",
       "      <td>https://grist.org/article/2009-not-green-but-c...</td>\n",
       "      <td>Not green, but c’mon</td>\n",
       "      <td>2009-03-26</td>\n",
       "      <td>David Roberts</td>\n",
       "      <td>OMFG.</td>\n",
       "      <td>5</td>\n",
       "      <td>1.609438</td>\n",
       "    </tr>\n",
       "  </tbody>\n",
       "</table>\n",
       "<p>100 rows × 8 columns</p>\n",
       "</div>"
      ],
      "text/plain": [
       "           source                                                url  \\\n",
       "30748  Resilience  https://www.resilience.org/stories/2009-12-11/...   \n",
       "61742       Grist  https://grist.org/article/dilbert-on-clean-ene...   \n",
       "28243  Resilience  https://www.resilience.org/stories/2014-10-06/...   \n",
       "66900       Grist  https://grist.org/article/zach-weiner-on-how-t...   \n",
       "28329  Resilience  https://www.resilience.org/stories/2014-07-17/...   \n",
       "...           ...                                                ...   \n",
       "7609   Resilience  https://www.resilience.org/stories/2015-10-05/...   \n",
       "9513   Resilience  https://www.resilience.org/stories/2014-04-21/...   \n",
       "8148   Resilience  https://www.resilience.org/stories/2015-04-29/...   \n",
       "73434       Grist           https://grist.org/article/turnout-in-nh/   \n",
       "51629       Grist  https://grist.org/article/2009-not-green-but-c...   \n",
       "\n",
       "                                                   title        date  \\\n",
       "30748  Transition Reflections from Copenhagen: Naresh...  2009-12-11   \n",
       "61742             Dilbert on clean energy innovation      2011-03-30   \n",
       "28243                                               None  2014-10-06   \n",
       "66900        Zach Weiner on how to pass climate chang...  2010-06-18   \n",
       "28329                       Resilience Roundup – July 17  2014-07-17   \n",
       "...                                                  ...         ...   \n",
       "7609          Resilience and Collapse: Notes from Cyprus  2015-10-05   \n",
       "9513            A Case Study in Community Sustainability  2014-04-21   \n",
       "8148                        Marcellus Production Outlook  2015-04-29   \n",
       "73434                                  Turnout in NH      2008-01-09   \n",
       "51629                           Not green, but c’mon      2009-03-26   \n",
       "\n",
       "                     author   text  len   len_log  \n",
       "30748     Naresh Giangrande           1  0.000000  \n",
       "61742     Christopher Mims            1  0.000000  \n",
       "28243                  None           1  0.000000  \n",
       "66900            Gar Lipow            1  0.000000  \n",
       "28329  Resilience.org Staff           1  0.000000  \n",
       "...                     ...    ...  ...       ...  \n",
       "7609       Lakis Polycarpou   \\\"\\\"    4  1.386294  \n",
       "9513            Paul Clarke   \\\"\\\"    4  1.386294  \n",
       "8148           David Hughes   \\\"\\\"    4  1.386294  \n",
       "73434        David Roberts   High.    5  1.609438  \n",
       "51629        David Roberts   OMFG.    5  1.609438  \n",
       "\n",
       "[100 rows x 8 columns]"
      ]
     },
     "execution_count": 55,
     "metadata": {},
     "output_type": "execute_result"
    }
   ],
   "source": [
    "env.sort_values(by='len_log').head(100)"
   ]
  },
  {
   "cell_type": "code",
   "execution_count": 51,
   "id": "626039a9",
   "metadata": {},
   "outputs": [
    {
     "data": {
      "text/plain": [
       "(array([4.8000e+01, 1.3100e+02, 4.4300e+02, 2.0270e+03, 1.0754e+04,\n",
       "        3.1591e+04, 4.3242e+04, 5.3640e+03, 1.4100e+02, 2.3000e+01]),\n",
       " array([ 0.        ,  1.37778336,  2.75556672,  4.13335008,  5.51113345,\n",
       "         6.88891681,  8.26670017,  9.64448353, 11.02226689, 12.40005025,\n",
       "        13.77783361]),\n",
       " <BarContainer object of 10 artists>)"
      ]
     },
     "execution_count": 51,
     "metadata": {},
     "output_type": "execute_result"
    },
    {
     "data": {
      "image/png": "[encoded data removed]",
      "text/plain": [
       "<Figure size 432x288 with 1 Axes>"
      ]
     },
     "metadata": {
      "needs_background": "light"
     },
     "output_type": "display_data"
    }
   ],
   "source": [
    "plt.hist(env.len_log)"
   ]
  },
  {
   "cell_type": "code",
   "execution_count": 22,
   "id": "1dada794",
   "metadata": {},
   "outputs": [
    {
     "data": {
      "text/plain": [
       "<re.Match object; span=(1, 53), match='d. note: This article first appeared on ARC2020.e>"
      ]
     },
     "execution_count": 22,
     "metadata": {},
     "output_type": "execute_result"
    }
   ],
   "source": [
    "re.search('\\w\\.\\s.*?(\\w\\.\\s)', env.text.iloc[1])"
   ]
  },
  {
   "cell_type": "code",
   "execution_count": 44,
   "id": "2eac65d7",
   "metadata": {},
   "outputs": [
    {
     "data": {
      "text/plain": [
       "'In Parts I and II of A Small Farm Future I build an argument that local, low energy, agrarian societies are probably best placed to meet the challenges of our times, and in Parts III and IV – which I’m now turning to discuss – I examine some of the issues such societies will face and how these societies might emerge out of present global politics. A few critics of the book – some quite friendly, others less so – have ventured the opinion that the small farm societies I describe have their problems, and that the best-case scenarios I try to construct around them may not come to pass. Well, I agree. To me, it’s a truism that every kind of human society has its tensions, contradictions and difficulties. And it’s a truism too that things may not work out as one hopes. I can’t help treating these criticisms to something of a shrugged “…and your point is?” Maybe their point is there’s some better alternative – but I’m not convinced there is, and my more strident critics didn’t flesh one out. But perhaps what’s in play is the legacy of modernist politics in its various forms, which have deeply influenced the contemporary world. The conceit of this politics is that social tensions can be definitively resolved, and human betterment secured. Since I don’t subscribe to these notions, I don’t feel much need to claim that the small farm futures I describe will be easily achievable, or will be unproblematic if they are achieved. Still, I think it’s worth devoting a few further words to modernist politics and its legacy. Broadly speaking there have been three major strands of modernist politics, each identifying a single fundamental key that supposedly drives social order and human progress. In descending order of influence on the modern world, they are: These strands have weaker and stronger forms (in the case of the stronger forms, we could identify respectively 1. Neoliberalism or anarcho-capitalism, 2. Ethnic/racial nationalism or fascism, 3. Marxist-Leninism or Stalinism). And there are also various hybrid versions like social democracy. As I see it, the impetus behind these forms of modernist politics is unlikely to disappear in the future because they speak to fundamental human needs that I’d gloss as the four ‘S’s’ – status, satiation, sociality and spirituality. Any politics that doesn’t allow people to express these S’s probably won’t last long, and the same goes for any politics that doesn’t find ways to rein in their negative consequences. Modernist politics in its various forms tends to vaunt excessively just one or two of the S’s and make them not only the fundamental basis of mass politics but also a logic of unfolding improvement through time. It simultaneously fails to erect countervailing forces to their excesses. And so the contradictions and pathologies mount up, which is why modernist politics is in terminal crisis and decline. Merchant monopolists, patriots and revolutionary proletarians have all tried to implement their modernist heavens on Earth. They have all failed, and now it’s time to sober up. I think we need to build more rounded alternatives, and this is what I try to do as best I can in A Small Farm Future. But modernist politics has left a godawful mess to deal with – climate breakdown, excess energy dependency, economic and political chaos – much of it the result of trying to implement abstrusely theoretical 18th and 19th century utopias of western political philosophy on the ground worldwide. In the face of this, the responsible thing to do is to call the enormous challenges before us as one sees them without the false optimism of progress narratives, utopian blueprints or single keys to the march of history. But also to identify optimum outcomes, difficulties that may just be possible to transcend, and to take sides in that process where necessary. Instead of the ‘best of all possible worlds’, then, the responsibility is to identify the ‘least bad of all likely worlds’ and the ways it may be realized. That, in essence, is what I try to do in Parts III and IV of A Small Farm Future. Some folks have called my suggestions therein impractical, while others have called them utopian. Probably, they are impractical, but as I see it less so than all the alternative suggestions I’ve encountered as to how humanity, and indeed the rest of the biota, are going to get through the next century or so with a minimum of misery and bloodshed. I don’t consider my suggestions to be utopian, unless you think that societies geared to creating renewable livelihoods from the air, waters and soils surrounding them are utopian. To my mind, these are about the only forms of society that are not utopian, although the unparalleled human ability to create symbolic systems that overrun real world possibilities afflicts every kind of society, including foraging or small-scale farming ones. But, precisely because they’re not utopian, agrarian localisms do have their difficulties, and it’s these that I’ll try to explore in forthcoming posts.'"
      ]
     },
     "execution_count": 44,
     "metadata": {},
     "output_type": "execute_result"
    }
   ],
   "source": [
    "env.text.iloc[11]"
   ]
  },
  {
   "cell_type": "code",
   "execution_count": 2,
   "id": "94a33f81",
   "metadata": {},
   "outputs": [],
   "source": [
    "import pandas as pd\n",
    "import matplotlib.pyplot as plt"
   ]
  },
  {
   "cell_type": "code",
   "execution_count": 4,
   "id": "5d1be4d0",
   "metadata": {},
   "outputs": [],
   "source": [
    "a = pd.DataFrame({'a':[i for i in range(3)], 'b':[i for i in range(4, 7)]})"
   ]
  },
  {
   "cell_type": "code",
   "execution_count": 12,
   "id": "06a86dec",
   "metadata": {},
   "outputs": [
    {
     "data": {
      "text/plain": [
       "(0.0, 4.0)"
      ]
     },
     "execution_count": 12,
     "metadata": {},
     "output_type": "execute_result"
    },
    {
     "data": {
      "image/png": "[encoded data removed]",
      "text/plain": [
       "<Figure size 432x288 with 1 Axes>"
      ]
     },
     "metadata": {
      "needs_background": "light"
     },
     "output_type": "display_data"
    }
   ],
   "source": [
    "a.plot.barh()\n",
    "plt.xlim((0, 4))"
   ]
  },
  {
   "cell_type": "code",
   "execution_count": 13,
   "id": "a743601c",
   "metadata": {},
   "outputs": [],
   "source": [
    "def add_one(x):\n",
    "    y = x + 1\n",
    "    return y"
   ]
  },
  {
   "cell_type": "code",
   "execution_count": 14,
   "id": "7710eae3",
   "metadata": {},
   "outputs": [],
   "source": [
    "mylist = [4, 6, 8, 20]"
   ]
  },
  {
   "cell_type": "code",
   "execution_count": 16,
   "id": "19601da2",
   "metadata": {},
   "outputs": [],
   "source": [
    "new_list = [add_one(i) for i in mylist]"
   ]
  },
  {
   "cell_type": "code",
   "execution_count": 17,
   "id": "82df990b",
   "metadata": {},
   "outputs": [
    {
     "data": {
      "text/plain": [
       "[5, 7, 9, 21]"
      ]
     },
     "execution_count": 17,
     "metadata": {},
     "output_type": "execute_result"
    }
   ],
   "source": [
    "new_list"
   ]
  },
  {
   "cell_type": "code",
   "execution_count": 19,
   "id": "224c9484",
   "metadata": {},
   "outputs": [],
   "source": [
    "first_item = new_list[0]"
   ]
  },
  {
   "cell_type": "code",
   "execution_count": 22,
   "id": "07883c9b",
   "metadata": {},
   "outputs": [
    {
     "data": {
      "text/plain": [
       "True"
      ]
     },
     "execution_count": 22,
     "metadata": {},
     "output_type": "execute_result"
    }
   ],
   "source": [
    "type('s') == str"
   ]
  },
  {
   "cell_type": "code",
   "execution_count": 24,
   "id": "9eaee4bb",
   "metadata": {},
   "outputs": [
    {
     "data": {
      "text/plain": [
       "['The', 'cat', 'ran', 'up', 'the', 'tree']"
      ]
     },
     "execution_count": 24,
     "metadata": {},
     "output_type": "execute_result"
    }
   ],
   "source": [
    "my_string = 'The cat ran up the tree'\n",
    "my_string.split()"
   ]
  },
  {
   "cell_type": "code",
   "execution_count": null,
   "id": "c3e3c096",
   "metadata": {},
   "outputs": [],
   "source": [
    "def my_split_function(text):\n",
    "    return text.split()\n",
    "\n",
    ".apply(my_split_function)"
   ]
  },
  {
   "cell_type": "code",
   "execution_count": null,
   "id": "1e07150b",
   "metadata": {},
   "outputs": [],
   "source": [
    ".apply(lambda x: x.split())"
   ]
  },
  {
   "cell_type": "code",
   "execution_count": null,
   "id": "5fd0583f",
   "metadata": {},
   "outputs": [],
   "source": [
    "==\n",
    ">=\n",
    "<=\n",
    "!=\n",
    ">\n",
    "<\n",
    "or\n",
    "and\n"
   ]
  }
 ],
 "metadata": {
  "kernelspec": {
   "display_name": "Python 3 (ipykernel)",
   "language": "python",
   "name": "python3"
  },
  "language_info": {
   "codemirror_mode": {
    "name": "ipython",
    "version": 3
   },
   "file_extension": ".py",
   "mimetype": "text/x-python",
   "name": "python",
   "nbconvert_exporter": "python",
   "pygments_lexer": "ipython3",
   "version": "3.9.7"
  }
 },
 "nbformat": 4,
 "nbformat_minor": 5
}
