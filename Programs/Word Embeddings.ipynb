{
 "cells": [
  {
   "cell_type": "code",
   "execution_count": 36,
   "id": "efdc2fd3",
   "metadata": {},
   "outputs": [],
   "source": [
    "import pandas as pd\n",
    "import ast"
   ]
  },
  {
   "cell_type": "code",
   "execution_count": 3,
   "id": "f0d48b0a",
   "metadata": {},
   "outputs": [],
   "source": [
    "path = 'Environmental Discourse'"
   ]
  },
  {
   "cell_type": "code",
   "execution_count": 32,
   "id": "2f90bc1e",
   "metadata": {},
   "outputs": [],
   "source": [
    "env = pd.read_pickle('../Data/'+path+'/env_0.pkl')\n",
    "env = env.sample(10)"
   ]
  },
  {
   "cell_type": "code",
   "execution_count": 10,
   "id": "26509fb0",
   "metadata": {},
   "outputs": [
    {
     "data": {
      "text/html": [
       "<div>\n",
       "<style scoped>\n",
       "    .dataframe tbody tr th:only-of-type {\n",
       "        vertical-align: middle;\n",
       "    }\n",
       "\n",
       "    .dataframe tbody tr th {\n",
       "        vertical-align: top;\n",
       "    }\n",
       "\n",
       "    .dataframe thead th {\n",
       "        text-align: right;\n",
       "    }\n",
       "</style>\n",
       "<table border=\"1\" class=\"dataframe\">\n",
       "  <thead>\n",
       "    <tr style=\"text-align: right;\">\n",
       "      <th></th>\n",
       "      <th>source</th>\n",
       "      <th>url</th>\n",
       "      <th>title</th>\n",
       "      <th>date</th>\n",
       "      <th>author</th>\n",
       "      <th>text</th>\n",
       "      <th>year</th>\n",
       "    </tr>\n",
       "  </thead>\n",
       "  <tbody>\n",
       "    <tr>\n",
       "      <th>20339</th>\n",
       "      <td>Resilience</td>\n",
       "      <td>https://www.resilience.org/stories/2008-07-08/...</td>\n",
       "      <td>Asia – July 8</td>\n",
       "      <td>2008-07-08</td>\n",
       "      <td>Staff</td>\n",
       "      <td>.     Japan sees a chance to promote its energ...</td>\n",
       "      <td>2008</td>\n",
       "    </tr>\n",
       "    <tr>\n",
       "      <th>87817</th>\n",
       "      <td>Grist</td>\n",
       "      <td>https://grist.org/article/the-blame-the-enviro...</td>\n",
       "      <td>A possible smear campaign fingers greens...</td>\n",
       "      <td>2005-09-17</td>\n",
       "      <td>Emily Gertz</td>\n",
       "      <td>The Gonzales Justice Department may be seeking...</td>\n",
       "      <td>2005</td>\n",
       "    </tr>\n",
       "    <tr>\n",
       "      <th>63974</th>\n",
       "      <td>Grist</td>\n",
       "      <td>https://grist.org/climate/heres-how-coronaviru...</td>\n",
       "      <td>Here’s how coronavirus affected carbon e...</td>\n",
       "      <td>2020-05-19</td>\n",
       "      <td>Zoya Teirstein</td>\n",
       "      <td>The pandemic is far from over, but some states...</td>\n",
       "      <td>2020</td>\n",
       "    </tr>\n",
       "    <tr>\n",
       "      <th>94514</th>\n",
       "      <td>Grist</td>\n",
       "      <td>https://grist.org/article/2011-01-21-meet-the-...</td>\n",
       "      <td>Meet the Climate Fockers</td>\n",
       "      <td>2011-01-22</td>\n",
       "      <td>Auden Schendler</td>\n",
       "      <td>Here’a repost from my Climateprogress.org blog...</td>\n",
       "      <td>2011</td>\n",
       "    </tr>\n",
       "    <tr>\n",
       "      <th>57887</th>\n",
       "      <td>Grist</td>\n",
       "      <td>https://grist.org/living/3-disturbing-facts-pr...</td>\n",
       "      <td>3 disturbing facts prove sexual harassme...</td>\n",
       "      <td>2015-04-16</td>\n",
       "      <td>Eve Andrews</td>\n",
       "      <td>Hello! On this spring-shiny day, are you think...</td>\n",
       "      <td>2015</td>\n",
       "    </tr>\n",
       "  </tbody>\n",
       "</table>\n",
       "</div>"
      ],
      "text/plain": [
       "           source                                                url  \\\n",
       "20339  Resilience  https://www.resilience.org/stories/2008-07-08/...   \n",
       "87817       Grist  https://grist.org/article/the-blame-the-enviro...   \n",
       "63974       Grist  https://grist.org/climate/heres-how-coronaviru...   \n",
       "94514       Grist  https://grist.org/article/2011-01-21-meet-the-...   \n",
       "57887       Grist  https://grist.org/living/3-disturbing-facts-pr...   \n",
       "\n",
       "                                                   title       date  \\\n",
       "20339                                      Asia – July 8 2008-07-08   \n",
       "87817        A possible smear campaign fingers greens... 2005-09-17   \n",
       "63974        Here’s how coronavirus affected carbon e... 2020-05-19   \n",
       "94514                       Meet the Climate Fockers     2011-01-22   \n",
       "57887        3 disturbing facts prove sexual harassme... 2015-04-16   \n",
       "\n",
       "                 author                                               text  \\\n",
       "20339             Staff  .     Japan sees a chance to promote its energ...   \n",
       "87817      Emily Gertz   The Gonzales Justice Department may be seeking...   \n",
       "63974   Zoya Teirstein   The pandemic is far from over, but some states...   \n",
       "94514  Auden Schendler   Here’a repost from my Climateprogress.org blog...   \n",
       "57887      Eve Andrews   Hello! On this spring-shiny day, are you think...   \n",
       "\n",
       "       year  \n",
       "20339  2008  \n",
       "87817  2005  \n",
       "63974  2020  \n",
       "94514  2011  \n",
       "57887  2015  "
      ]
     },
     "execution_count": 10,
     "metadata": {},
     "output_type": "execute_result"
    }
   ],
   "source": [
    "env.head()"
   ]
  },
  {
   "cell_type": "markdown",
   "id": "f678eb07",
   "metadata": {},
   "source": [
    "# Sentence tokenize"
   ]
  },
  {
   "cell_type": "code",
   "execution_count": 21,
   "id": "bf39cdc8",
   "metadata": {},
   "outputs": [],
   "source": [
    "import dask.dataframe as dd\n",
    "from gensim.utils import effective_n_jobs\n",
    "import spacy\n",
    "try:\n",
    "    nlp = spacy.load(\"en\")\n",
    "except OSError:\n",
    "    nlp = spacy.load(\"en_core_web_sm\")"
   ]
  },
  {
   "cell_type": "code",
   "execution_count": 28,
   "id": "3e47d90a",
   "metadata": {},
   "outputs": [],
   "source": [
    "def word_tokenize(word_list, model=nlp, MAX_LEN=1500000):\n",
    "    \n",
    "    tokenized = []\n",
    "    if type(word_list) == list and len(word_list) == 1:\n",
    "        word_list = word_list[0]\n",
    "\n",
    "    if type(word_list) == list:\n",
    "        word_list = ' '.join([str(elem) for elem in word_list]) \n",
    "    # since we're only tokenizing, I remove RAM intensive operations and increase max text size\n",
    "\n",
    "    model.max_length = MAX_LEN\n",
    "    doc = model(word_list, disable=[\"parser\", \"tagger\", \"ner\", \"lemmatizer\"])\n",
    "    \n",
    "    for token in doc:\n",
    "        if not token.is_punct and len(token.text.strip()) > 0:\n",
    "            tokenized.append(token.text)\n",
    "    return tokenized"
   ]
  },
  {
   "cell_type": "code",
   "execution_count": 29,
   "id": "261b5bb7",
   "metadata": {},
   "outputs": [],
   "source": [
    "def normalizeTokens(word_list, extra_stop=[], model=nlp, lemma=True, MAX_LEN=1500000):\n",
    "    #We can use a generator here as we just need to iterate over it\n",
    "    normalized = []\n",
    "    if type(word_list) == list and len(word_list) == 1:\n",
    "        word_list = word_list[0]\n",
    "\n",
    "    if type(word_list) == list:\n",
    "        word_list = ' '.join([str(elem) for elem in word_list]) \n",
    "\n",
    "    # since we're only normalizing, I remove RAM intensive operations and increase max text size\n",
    "\n",
    "    model.max_length = MAX_LEN\n",
    "    doc = model(word_list.lower(), disable=[\"parser\", \"ner\"])\n",
    "\n",
    "    if len(extra_stop) > 0:\n",
    "        for stopword in extra_stop:\n",
    "            lexeme = nlp.vocab[stopword]\n",
    "            lexeme.is_stop = True\n",
    "\n",
    "    # we check if we want lemmas or not earlier to avoid checking every time we loop\n",
    "    if lemma:\n",
    "        for w in doc:\n",
    "            # if it's not a stop word or punctuation mark, add it to our article\n",
    "            if w.text != '\\n' and not w.is_stop and not w.is_punct and not w.like_num and len(w.text.strip()) > 0:\n",
    "            # we add the lematized version of the word\n",
    "                normalized.append(str(w.lemma_))\n",
    "    else:\n",
    "        for w in doc:\n",
    "            # if it's not a stop word or punctuation mark, add it to our article\n",
    "            if w.text != '\\n' and not w.is_stop and not w.is_punct and not w.like_num and len(w.text.strip()) > 0:\n",
    "            # we add the lematized version of the word\n",
    "                normalized.append(str(w.text.strip()))\n",
    "\n",
    "    return normalized"
   ]
  },
  {
   "cell_type": "code",
   "execution_count": 30,
   "id": "f84bf96f",
   "metadata": {},
   "outputs": [],
   "source": [
    "def sent_tokenize(word_list, model=nlp):\n",
    "    doc = model(word_list)\n",
    "    sentences = [sent.text.strip() for sent in doc.sents]\n",
    "    return sentences"
   ]
  },
  {
   "cell_type": "code",
   "execution_count": 38,
   "id": "80e6ee15",
   "metadata": {},
   "outputs": [],
   "source": [
    "def ngram_tagger(tokens):\n",
    "    n = len(tokens)\n",
    "    i = 0\n",
    "    tokens_q = []\n",
    "    tokens_qt = []\n",
    "    tokens_qtb = []\n",
    "    \n",
    "    # quadgrams\n",
    "    while i < n:\n",
    "        words = '_'.join(tokens[i:i+4])\n",
    "        if words in quadgrams:\n",
    "            tokens_q.append(words)\n",
    "            i += 4\n",
    "        else:\n",
    "            tokens_q.append(tokens[i])\n",
    "            i += 1\n",
    "    \n",
    "    # trigrams\n",
    "    n = len(tokens_q)\n",
    "    i = 0\n",
    "    while i < n:\n",
    "        words = '_'.join(tokens_q[i:i+3])\n",
    "        if words in trigrams:\n",
    "            tokens_qt.append(words)\n",
    "            i += 3\n",
    "        else:\n",
    "            tokens_qt.append(tokens_q[i])\n",
    "            i += 1\n",
    "    \n",
    "    # bigrams\n",
    "    n = len(tokens_qt)\n",
    "    i = 0\n",
    "    while i < n:\n",
    "        words = '_'.join(tokens_qt[i:i+2])\n",
    "        if words in bigrams:\n",
    "            tokens_qtb.append(words)\n",
    "            i += 2\n",
    "        else:\n",
    "            tokens_qtb.append(tokens_qt[i])\n",
    "            i += 1\n",
    "    \n",
    "    return tokens_qtb"
   ]
  },
  {
   "cell_type": "code",
   "execution_count": 37,
   "id": "c8496266",
   "metadata": {},
   "outputs": [],
   "source": [
    "quadgrams = [('intergovernmental', 'panel', 'climate', 'change'),\n",
    "             ('natural', 'resources', 'defense', 'council'),\n",
    "             ('coal', 'fired', 'power', 'plants'),\n",
    "             ('national', 'oceanic', 'atmospheric', 'administration')]\n",
    "\n",
    "tr = pd.read_csv('../Data/' + path + '/trigrams.csv', converters={'Unnamed: 0': ast.literal_eval})\n",
    "tr.columns = ['trigram', 'freq', 'tag']\n",
    "trigrams = [t for t in tr[tr.tag == 1].trigram]\n",
    "\n",
    "b = pd.read_csv('../Data/' + path + '/bigrams.csv', converters={'Unnamed: 0': ast.literal_eval})\n",
    "b.columns = ['bigram', 'freq', 'tag']\n",
    "bigrams = [t for t in b[b.tag == 1].bigram]\n",
    "\n",
    "quadgrams = ['_'.join(t) for t in quadgrams]\n",
    "trigrams = ['_'.join(t) for t in trigrams]\n",
    "bigrams = ['_'.join(t) for t in bigrams]"
   ]
  },
  {
   "cell_type": "code",
   "execution_count": 33,
   "id": "e8ea4a9f",
   "metadata": {},
   "outputs": [
    {
     "name": "stdout",
     "output_type": "stream",
     "text": [
      "CPU times: user 1min 29s, sys: 1min 32s, total: 3min 2s\n",
      "Wall time: 1min 8s\n"
     ]
    }
   ],
   "source": [
    "%%time\n",
    "d_env = dd.from_pandas(env, npartitions=effective_n_jobs(-1))\n",
    "d_env['tokenized_sents'] = d_env.text.map(lambda x: [word_tokenize(s) for s in sent_tokenize(x)])\n",
    "d_env['normalized_sents'] = d_env.tokenized_sents.map(lambda x: [normalizeTokens(s, lemma=False) for s in x])\n",
    "env = d_env.compute()"
   ]
  },
  {
   "cell_type": "code",
   "execution_count": 34,
   "id": "f25927e1",
   "metadata": {},
   "outputs": [
    {
     "name": "stdout",
     "output_type": "stream",
     "text": [
      "CPU times: user 45.6 s, sys: 47.4 s, total: 1min 33s\n",
      "Wall time: 35.2 s\n"
     ]
    }
   ],
   "source": [
    "%%time\n",
    "d_env = dd.from_pandas(env, npartitions=effective_n_jobs(-1))\n",
    "d_env['tokenized_sents'] = d_env.text.map(lambda x: [normalizeTokens(word_tokenize(s), lemma=False) for s in sent_tokenize(x)])\n",
    "env = d_env.compute()"
   ]
  },
  {
   "cell_type": "code",
   "execution_count": 66,
   "id": "5ae01dfa",
   "metadata": {},
   "outputs": [],
   "source": [
    "env = pd.read_pickle('../Data/'+path+'/env_0.pkl')\n",
    "env = env.sample(100, random_state=1)"
   ]
  },
  {
   "cell_type": "code",
   "execution_count": 67,
   "id": "dac46bf1",
   "metadata": {},
   "outputs": [
    {
     "name": "stdout",
     "output_type": "stream",
     "text": [
      "CPU times: user 58.9 s, sys: 0 ns, total: 58.9 s\n",
      "Wall time: 58.9 s\n"
     ]
    }
   ],
   "source": [
    "%%time\n",
    "d_env = dd.from_pandas(env, npartitions=1)\n",
    "d_env['sents'] = d_env.text.map(lambda x: [ngram_tagger(\n",
    "                                           normalizeTokens(\n",
    "                                           word_tokenize(s), lemma=False)) for s in sent_tokenize(x)])\n",
    "d_env['sents'] = d_env.sents.map(lambda x: [s for s in x if len(s)>0])\n",
    "env = d_env.compute()"
   ]
  },
  {
   "cell_type": "code",
   "execution_count": 68,
   "id": "ddd9e856",
   "metadata": {},
   "outputs": [],
   "source": [
    "env = pd.read_pickle('../Data/'+path+'/env_0.pkl')\n",
    "env = env.sample(100, random_state=1)"
   ]
  },
  {
   "cell_type": "code",
   "execution_count": 69,
   "id": "3a433ce6",
   "metadata": {},
   "outputs": [
    {
     "name": "stdout",
     "output_type": "stream",
     "text": [
      "CPU times: user 2min 39s, sys: 1min 59s, total: 4min 39s\n",
      "Wall time: 2min 1s\n"
     ]
    }
   ],
   "source": [
    "%%time\n",
    "d_env = dd.from_pandas(env, npartitions=effective_n_jobs(-1))\n",
    "d_env['sents'] = d_env.text.map(lambda x: [ngram_tagger(\n",
    "                                           normalizeTokens(\n",
    "                                           word_tokenize(s), lemma=False)) for s in sent_tokenize(x)])\n",
    "d_env['sents'] = d_env.sents.map(lambda x: [s for s in x if len(s)>0])\n",
    "env = d_env.compute()"
   ]
  },
  {
   "cell_type": "code",
   "execution_count": 68,
   "id": "9d4ce105",
   "metadata": {},
   "outputs": [],
   "source": [
    "env = pd.read_pickle('../Data/'+path+'/env_0.pkl')\n",
    "env = env.sample(100, random_state=1)"
   ]
  },
  {
   "cell_type": "code",
   "execution_count": 71,
   "id": "b1237b5d",
   "metadata": {},
   "outputs": [
    {
     "name": "stdout",
     "output_type": "stream",
     "text": [
      "CPU times: user 45 s, sys: 0 ns, total: 45 s\n",
      "Wall time: 45 s\n"
     ]
    }
   ],
   "source": [
    "%%time\n",
    "env['sents'] = env.text.apply(lambda x: [ngram_tagger(\n",
    "                                           normalizeTokens(\n",
    "                                           word_tokenize(s), lemma=False)) for s in sent_tokenize(x)])\n",
    "env['sents'] = env.sents.apply(lambda x: [s for s in x if len(s)>0])"
   ]
  },
  {
   "cell_type": "code",
   "execution_count": 46,
   "id": "6d560af5",
   "metadata": {},
   "outputs": [
    {
     "data": {
      "text/plain": [
       "474"
      ]
     },
     "execution_count": 46,
     "metadata": {},
     "output_type": "execute_result"
    }
   ],
   "source": [
    "len(env.sents.sum())"
   ]
  },
  {
   "cell_type": "code",
   "execution_count": 47,
   "id": "826b4783",
   "metadata": {},
   "outputs": [
    {
     "data": {
      "text/plain": [
       "13914      9\n",
       "17262    140\n",
       "20294     58\n",
       "21056     19\n",
       "42392     79\n",
       "43608     36\n",
       "49334     17\n",
       "49402     75\n",
       "59600     30\n",
       "78212     11\n",
       "Name: sents, dtype: int64"
      ]
     },
     "execution_count": 47,
     "metadata": {},
     "output_type": "execute_result"
    }
   ],
   "source": [
    "env.sents.apply(len)"
   ]
  },
  {
   "cell_type": "code",
   "execution_count": 19,
   "id": "330424d7",
   "metadata": {},
   "outputs": [
    {
     "data": {
      "text/plain": [
       "(1000, 7)"
      ]
     },
     "execution_count": 19,
     "metadata": {},
     "output_type": "execute_result"
    }
   ],
   "source": [
    "env.shape"
   ]
  },
  {
   "cell_type": "code",
   "execution_count": null,
   "id": "7075b395",
   "metadata": {},
   "outputs": [],
   "source": [
    "d_env = dd.from_pandas(env_tok, npartitions=effective_n_jobs(-1))"
   ]
  },
  {
   "cell_type": "code",
   "execution_count": null,
   "id": "f1036084",
   "metadata": {},
   "outputs": [],
   "source": []
  },
  {
   "cell_type": "code",
   "execution_count": null,
   "id": "87f238c9",
   "metadata": {},
   "outputs": [],
   "source": []
  },
  {
   "cell_type": "code",
   "execution_count": null,
   "id": "c5d2446f",
   "metadata": {},
   "outputs": [],
   "source": [
    "envW2V_skipgram = gensim.models.word2vec.Word2Vec(env['normalized_sents'].sum(), sg=1)"
   ]
  }
 ],
 "metadata": {
  "kernelspec": {
   "display_name": "Python 3 (ipykernel)",
   "language": "python",
   "name": "python3"
  },
  "language_info": {
   "codemirror_mode": {
    "name": "ipython",
    "version": 3
   },
   "file_extension": ".py",
   "mimetype": "text/x-python",
   "name": "python",
   "nbconvert_exporter": "python",
   "pygments_lexer": "ipython3",
   "version": "3.9.7"
  }
 },
 "nbformat": 4,
 "nbformat_minor": 5
}
