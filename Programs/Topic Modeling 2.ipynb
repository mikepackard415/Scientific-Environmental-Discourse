{
 "cells": [
  {
   "cell_type": "code",
   "execution_count": 41,
   "id": "8f4d52c0",
   "metadata": {},
   "outputs": [],
   "source": [
    "import pandas as pd\n",
    "import numpy as np\n",
    "\n",
    "from gensim import corpora, models\n",
    "import ast\n",
    "\n",
    "import plotly.express as px\n",
    "import matplotlib.pyplot as plt\n",
    "import pyLDAvis\n",
    "import pyLDAvis.gensim_models\n",
    "pyLDAvis.enable_notebook()"
   ]
  },
  {
   "cell_type": "code",
   "execution_count": 42,
   "id": "ea57817d",
   "metadata": {},
   "outputs": [
    {
     "data": {
      "text/html": [
       "<div>\n",
       "<style scoped>\n",
       "    .dataframe tbody tr th:only-of-type {\n",
       "        vertical-align: middle;\n",
       "    }\n",
       "\n",
       "    .dataframe tbody tr th {\n",
       "        vertical-align: top;\n",
       "    }\n",
       "\n",
       "    .dataframe thead th {\n",
       "        text-align: right;\n",
       "    }\n",
       "</style>\n",
       "<table border=\"1\" class=\"dataframe\">\n",
       "  <thead>\n",
       "    <tr style=\"text-align: right;\">\n",
       "      <th></th>\n",
       "      <th>Topic_0</th>\n",
       "      <th>Topic_1</th>\n",
       "      <th>Topic_2</th>\n",
       "      <th>Topic_3</th>\n",
       "      <th>Topic_4</th>\n",
       "      <th>Topic_5</th>\n",
       "      <th>Topic_6</th>\n",
       "      <th>Topic_7</th>\n",
       "      <th>Topic_8</th>\n",
       "    </tr>\n",
       "  </thead>\n",
       "  <tbody>\n",
       "    <tr>\n",
       "      <th>0</th>\n",
       "      <td>energy</td>\n",
       "      <td>think</td>\n",
       "      <td>community</td>\n",
       "      <td>food</td>\n",
       "      <td>state</td>\n",
       "      <td>oil</td>\n",
       "      <td>policy</td>\n",
       "      <td>city</td>\n",
       "      <td>climate</td>\n",
       "    </tr>\n",
       "    <tr>\n",
       "      <th>1</th>\n",
       "      <td>solar</td>\n",
       "      <td>know</td>\n",
       "      <td>work</td>\n",
       "      <td>farmer</td>\n",
       "      <td>water</td>\n",
       "      <td>energy</td>\n",
       "      <td>economy</td>\n",
       "      <td>car</td>\n",
       "      <td>climate_change</td>\n",
       "    </tr>\n",
       "    <tr>\n",
       "      <th>2</th>\n",
       "      <td>power</td>\n",
       "      <td>thing</td>\n",
       "      <td>tree</td>\n",
       "      <td>farm</td>\n",
       "      <td>bill</td>\n",
       "      <td>company</td>\n",
       "      <td>economic</td>\n",
       "      <td>green</td>\n",
       "      <td>emission</td>\n",
       "    </tr>\n",
       "    <tr>\n",
       "      <th>3</th>\n",
       "      <td>wind</td>\n",
       "      <td>go</td>\n",
       "      <td>water</td>\n",
       "      <td>organic</td>\n",
       "      <td>environmental</td>\n",
       "      <td>price</td>\n",
       "      <td>job</td>\n",
       "      <td>bike</td>\n",
       "      <td>carbon</td>\n",
       "    </tr>\n",
       "    <tr>\n",
       "      <th>4</th>\n",
       "      <td>electricity</td>\n",
       "      <td>way</td>\n",
       "      <td>food</td>\n",
       "      <td>eat</td>\n",
       "      <td>epa</td>\n",
       "      <td>gas</td>\n",
       "      <td>need</td>\n",
       "      <td>home</td>\n",
       "      <td>percent</td>\n",
       "    </tr>\n",
       "    <tr>\n",
       "      <th>5</th>\n",
       "      <td>cost</td>\n",
       "      <td>world</td>\n",
       "      <td>local</td>\n",
       "      <td>crop</td>\n",
       "      <td>coal</td>\n",
       "      <td>industry</td>\n",
       "      <td>cost</td>\n",
       "      <td>day</td>\n",
       "      <td>global_warming</td>\n",
       "    </tr>\n",
       "    <tr>\n",
       "      <th>6</th>\n",
       "      <td>technology</td>\n",
       "      <td>right</td>\n",
       "      <td>grow</td>\n",
       "      <td>agriculture</td>\n",
       "      <td>obama</td>\n",
       "      <td>china</td>\n",
       "      <td>market</td>\n",
       "      <td>get</td>\n",
       "      <td>country</td>\n",
       "    </tr>\n",
       "    <tr>\n",
       "      <th>7</th>\n",
       "      <td>plant</td>\n",
       "      <td>ve</td>\n",
       "      <td>good</td>\n",
       "      <td>meat</td>\n",
       "      <td>president</td>\n",
       "      <td>coal</td>\n",
       "      <td>money</td>\n",
       "      <td>good</td>\n",
       "      <td>report</td>\n",
       "    </tr>\n",
       "    <tr>\n",
       "      <th>8</th>\n",
       "      <td>use</td>\n",
       "      <td>good</td>\n",
       "      <td>way</td>\n",
       "      <td>corn</td>\n",
       "      <td>republican</td>\n",
       "      <td>percent</td>\n",
       "      <td>system</td>\n",
       "      <td>go</td>\n",
       "      <td>scientist</td>\n",
       "    </tr>\n",
       "    <tr>\n",
       "      <th>9</th>\n",
       "      <td>coal</td>\n",
       "      <td>get</td>\n",
       "      <td>plant</td>\n",
       "      <td>grow</td>\n",
       "      <td>group</td>\n",
       "      <td>world</td>\n",
       "      <td>tax</td>\n",
       "      <td>work</td>\n",
       "      <td>greenhouse_gas</td>\n",
       "    </tr>\n",
       "  </tbody>\n",
       "</table>\n",
       "</div>"
      ],
      "text/plain": [
       "       Topic_0 Topic_1    Topic_2      Topic_3        Topic_4   Topic_5  \\\n",
       "0       energy   think  community         food          state       oil   \n",
       "1        solar    know       work       farmer          water    energy   \n",
       "2        power   thing       tree         farm           bill   company   \n",
       "3         wind      go      water      organic  environmental     price   \n",
       "4  electricity     way       food          eat            epa       gas   \n",
       "5         cost   world      local         crop           coal  industry   \n",
       "6   technology   right       grow  agriculture          obama     china   \n",
       "7        plant      ve       good         meat      president      coal   \n",
       "8          use    good        way         corn     republican   percent   \n",
       "9         coal     get      plant         grow          group     world   \n",
       "\n",
       "    Topic_6 Topic_7         Topic_8  \n",
       "0    policy    city         climate  \n",
       "1   economy     car  climate_change  \n",
       "2  economic   green        emission  \n",
       "3       job    bike          carbon  \n",
       "4      need    home         percent  \n",
       "5      cost     day  global_warming  \n",
       "6    market     get         country  \n",
       "7     money    good          report  \n",
       "8    system      go       scientist  \n",
       "9       tax    work  greenhouse_gas  "
      ]
     },
     "execution_count": 42,
     "metadata": {},
     "output_type": "execute_result"
    }
   ],
   "source": [
    "lda = models.ldamodel.LdaModel.load('../Data/Environmental Discourse/Full-TMs/Models/tm_09')\n",
    "\n",
    "topicsDict = {}\n",
    "for topicNum in range(lda.num_topics):\n",
    "    topicWords = [w for w, p in lda.show_topic(topicNum)]\n",
    "    topicsDict['Topic_{}'.format(topicNum)] = topicWords\n",
    "\n",
    "pd.DataFrame(topicsDict)"
   ]
  },
  {
   "cell_type": "code",
   "execution_count": 37,
   "id": "9a39164c",
   "metadata": {},
   "outputs": [],
   "source": [
    "env = pd.read_csv('../Data/Environmental Discourse/env_processed_text.csv', index_col=0)"
   ]
  },
  {
   "cell_type": "code",
   "execution_count": 38,
   "id": "6b664763",
   "metadata": {},
   "outputs": [],
   "source": [
    "env['tokens']= env.text_processed.apply(lambda x: x.split())"
   ]
  },
  {
   "cell_type": "code",
   "execution_count": 39,
   "id": "95f2bdbe",
   "metadata": {},
   "outputs": [],
   "source": [
    "dictionary = corpora.Dictionary.load('../Data/Environmental Discourse/Full-TMs/dictionary')\n",
    "#dictionary = corpora.Dictionary([i for i in env.tokens])"
   ]
  },
  {
   "cell_type": "code",
   "execution_count": 43,
   "id": "7da76d0a",
   "metadata": {},
   "outputs": [
    {
     "ename": "KeyboardInterrupt",
     "evalue": "",
     "output_type": "error",
     "traceback": [
      "\u001b[0;31m---------------------------------------------------------------------------\u001b[0m",
      "\u001b[0;31mKeyboardInterrupt\u001b[0m                         Traceback (most recent call last)",
      "\u001b[0;32m/tmp/ipykernel_3188/341263196.py\u001b[0m in \u001b[0;36m<module>\u001b[0;34m\u001b[0m\n\u001b[0;32m----> 1\u001b[0;31m \u001b[0menv\u001b[0m\u001b[0;34m[\u001b[0m\u001b[0;34m'lda_topics'\u001b[0m\u001b[0;34m]\u001b[0m \u001b[0;34m=\u001b[0m \u001b[0;34m[\u001b[0m\u001b[0mlda\u001b[0m\u001b[0;34m[\u001b[0m\u001b[0mdictionary\u001b[0m\u001b[0;34m.\u001b[0m\u001b[0mdoc2bow\u001b[0m\u001b[0;34m(\u001b[0m\u001b[0ml\u001b[0m\u001b[0;34m)\u001b[0m\u001b[0;34m]\u001b[0m \u001b[0;32mfor\u001b[0m \u001b[0ml\u001b[0m \u001b[0;32min\u001b[0m \u001b[0menv\u001b[0m\u001b[0;34m[\u001b[0m\u001b[0;34m'tokens'\u001b[0m\u001b[0;34m]\u001b[0m\u001b[0;34m]\u001b[0m\u001b[0;34m\u001b[0m\u001b[0;34m\u001b[0m\u001b[0m\n\u001b[0m\u001b[1;32m      2\u001b[0m \u001b[0;34m\u001b[0m\u001b[0m\n\u001b[1;32m      3\u001b[0m \u001b[0;31m#Dict to temporally hold the probabilities\u001b[0m\u001b[0;34m\u001b[0m\u001b[0;34m\u001b[0m\u001b[0m\n\u001b[1;32m      4\u001b[0m \u001b[0mtopicsProbDict\u001b[0m \u001b[0;34m=\u001b[0m \u001b[0;34m{\u001b[0m\u001b[0mi\u001b[0m \u001b[0;34m:\u001b[0m \u001b[0;34m[\u001b[0m\u001b[0;36m0\u001b[0m\u001b[0;34m]\u001b[0m \u001b[0;34m*\u001b[0m \u001b[0mlen\u001b[0m\u001b[0;34m(\u001b[0m\u001b[0menv\u001b[0m\u001b[0;34m)\u001b[0m \u001b[0;32mfor\u001b[0m \u001b[0mi\u001b[0m \u001b[0;32min\u001b[0m \u001b[0mrange\u001b[0m\u001b[0;34m(\u001b[0m\u001b[0mlda\u001b[0m\u001b[0;34m.\u001b[0m\u001b[0mnum_topics\u001b[0m\u001b[0;34m)\u001b[0m\u001b[0;34m}\u001b[0m\u001b[0;34m\u001b[0m\u001b[0;34m\u001b[0m\u001b[0m\n\u001b[1;32m      5\u001b[0m \u001b[0;34m\u001b[0m\u001b[0m\n",
      "\u001b[0;32m/tmp/ipykernel_3188/341263196.py\u001b[0m in \u001b[0;36m<listcomp>\u001b[0;34m(.0)\u001b[0m\n\u001b[0;32m----> 1\u001b[0;31m \u001b[0menv\u001b[0m\u001b[0;34m[\u001b[0m\u001b[0;34m'lda_topics'\u001b[0m\u001b[0;34m]\u001b[0m \u001b[0;34m=\u001b[0m \u001b[0;34m[\u001b[0m\u001b[0mlda\u001b[0m\u001b[0;34m[\u001b[0m\u001b[0mdictionary\u001b[0m\u001b[0;34m.\u001b[0m\u001b[0mdoc2bow\u001b[0m\u001b[0;34m(\u001b[0m\u001b[0ml\u001b[0m\u001b[0;34m)\u001b[0m\u001b[0;34m]\u001b[0m \u001b[0;32mfor\u001b[0m \u001b[0ml\u001b[0m \u001b[0;32min\u001b[0m \u001b[0menv\u001b[0m\u001b[0;34m[\u001b[0m\u001b[0;34m'tokens'\u001b[0m\u001b[0;34m]\u001b[0m\u001b[0;34m]\u001b[0m\u001b[0;34m\u001b[0m\u001b[0;34m\u001b[0m\u001b[0m\n\u001b[0m\u001b[1;32m      2\u001b[0m \u001b[0;34m\u001b[0m\u001b[0m\n\u001b[1;32m      3\u001b[0m \u001b[0;31m#Dict to temporally hold the probabilities\u001b[0m\u001b[0;34m\u001b[0m\u001b[0;34m\u001b[0m\u001b[0m\n\u001b[1;32m      4\u001b[0m \u001b[0mtopicsProbDict\u001b[0m \u001b[0;34m=\u001b[0m \u001b[0;34m{\u001b[0m\u001b[0mi\u001b[0m \u001b[0;34m:\u001b[0m \u001b[0;34m[\u001b[0m\u001b[0;36m0\u001b[0m\u001b[0;34m]\u001b[0m \u001b[0;34m*\u001b[0m \u001b[0mlen\u001b[0m\u001b[0;34m(\u001b[0m\u001b[0menv\u001b[0m\u001b[0;34m)\u001b[0m \u001b[0;32mfor\u001b[0m \u001b[0mi\u001b[0m \u001b[0;32min\u001b[0m \u001b[0mrange\u001b[0m\u001b[0;34m(\u001b[0m\u001b[0mlda\u001b[0m\u001b[0;34m.\u001b[0m\u001b[0mnum_topics\u001b[0m\u001b[0;34m)\u001b[0m\u001b[0;34m}\u001b[0m\u001b[0;34m\u001b[0m\u001b[0;34m\u001b[0m\u001b[0m\n\u001b[1;32m      5\u001b[0m \u001b[0;34m\u001b[0m\u001b[0m\n",
      "\u001b[0;32m~/anaconda3/envs/thesis/lib/python3.9/site-packages/gensim/models/ldamodel.py\u001b[0m in \u001b[0;36m__getitem__\u001b[0;34m(self, bow, eps)\u001b[0m\n\u001b[1;32m   1535\u001b[0m \u001b[0;34m\u001b[0m\u001b[0m\n\u001b[1;32m   1536\u001b[0m         \"\"\"\n\u001b[0;32m-> 1537\u001b[0;31m         \u001b[0;32mreturn\u001b[0m \u001b[0mself\u001b[0m\u001b[0;34m.\u001b[0m\u001b[0mget_document_topics\u001b[0m\u001b[0;34m(\u001b[0m\u001b[0mbow\u001b[0m\u001b[0;34m,\u001b[0m \u001b[0meps\u001b[0m\u001b[0;34m,\u001b[0m \u001b[0mself\u001b[0m\u001b[0;34m.\u001b[0m\u001b[0mminimum_phi_value\u001b[0m\u001b[0;34m,\u001b[0m \u001b[0mself\u001b[0m\u001b[0;34m.\u001b[0m\u001b[0mper_word_topics\u001b[0m\u001b[0;34m)\u001b[0m\u001b[0;34m\u001b[0m\u001b[0;34m\u001b[0m\u001b[0m\n\u001b[0m\u001b[1;32m   1538\u001b[0m \u001b[0;34m\u001b[0m\u001b[0m\n\u001b[1;32m   1539\u001b[0m     \u001b[0;32mdef\u001b[0m \u001b[0msave\u001b[0m\u001b[0;34m(\u001b[0m\u001b[0mself\u001b[0m\u001b[0;34m,\u001b[0m \u001b[0mfname\u001b[0m\u001b[0;34m,\u001b[0m \u001b[0mignore\u001b[0m\u001b[0;34m=\u001b[0m\u001b[0;34m(\u001b[0m\u001b[0;34m'state'\u001b[0m\u001b[0;34m,\u001b[0m \u001b[0;34m'dispatcher'\u001b[0m\u001b[0;34m)\u001b[0m\u001b[0;34m,\u001b[0m \u001b[0mseparately\u001b[0m\u001b[0;34m=\u001b[0m\u001b[0;32mNone\u001b[0m\u001b[0;34m,\u001b[0m \u001b[0;34m*\u001b[0m\u001b[0margs\u001b[0m\u001b[0;34m,\u001b[0m \u001b[0;34m**\u001b[0m\u001b[0mkwargs\u001b[0m\u001b[0;34m)\u001b[0m\u001b[0;34m:\u001b[0m\u001b[0;34m\u001b[0m\u001b[0;34m\u001b[0m\u001b[0m\n",
      "\u001b[0;32m~/anaconda3/envs/thesis/lib/python3.9/site-packages/gensim/models/ldamodel.py\u001b[0m in \u001b[0;36mget_document_topics\u001b[0;34m(self, bow, minimum_probability, minimum_phi_value, per_word_topics)\u001b[0m\n\u001b[1;32m   1340\u001b[0m             \u001b[0;32mreturn\u001b[0m \u001b[0mself\u001b[0m\u001b[0;34m.\u001b[0m\u001b[0m_apply\u001b[0m\u001b[0;34m(\u001b[0m\u001b[0mcorpus\u001b[0m\u001b[0;34m,\u001b[0m \u001b[0;34m**\u001b[0m\u001b[0mkwargs\u001b[0m\u001b[0;34m)\u001b[0m\u001b[0;34m\u001b[0m\u001b[0;34m\u001b[0m\u001b[0m\n\u001b[1;32m   1341\u001b[0m \u001b[0;34m\u001b[0m\u001b[0m\n\u001b[0;32m-> 1342\u001b[0;31m         \u001b[0mgamma\u001b[0m\u001b[0;34m,\u001b[0m \u001b[0mphis\u001b[0m \u001b[0;34m=\u001b[0m \u001b[0mself\u001b[0m\u001b[0;34m.\u001b[0m\u001b[0minference\u001b[0m\u001b[0;34m(\u001b[0m\u001b[0;34m[\u001b[0m\u001b[0mbow\u001b[0m\u001b[0;34m]\u001b[0m\u001b[0;34m,\u001b[0m \u001b[0mcollect_sstats\u001b[0m\u001b[0;34m=\u001b[0m\u001b[0mper_word_topics\u001b[0m\u001b[0;34m)\u001b[0m\u001b[0;34m\u001b[0m\u001b[0;34m\u001b[0m\u001b[0m\n\u001b[0m\u001b[1;32m   1343\u001b[0m         \u001b[0mtopic_dist\u001b[0m \u001b[0;34m=\u001b[0m \u001b[0mgamma\u001b[0m\u001b[0;34m[\u001b[0m\u001b[0;36m0\u001b[0m\u001b[0;34m]\u001b[0m \u001b[0;34m/\u001b[0m \u001b[0msum\u001b[0m\u001b[0;34m(\u001b[0m\u001b[0mgamma\u001b[0m\u001b[0;34m[\u001b[0m\u001b[0;36m0\u001b[0m\u001b[0;34m]\u001b[0m\u001b[0;34m)\u001b[0m  \u001b[0;31m# normalize distribution\u001b[0m\u001b[0;34m\u001b[0m\u001b[0;34m\u001b[0m\u001b[0m\n\u001b[1;32m   1344\u001b[0m \u001b[0;34m\u001b[0m\u001b[0m\n",
      "\u001b[0;32m~/anaconda3/envs/thesis/lib/python3.9/site-packages/gensim/models/ldamodel.py\u001b[0m in \u001b[0;36minference\u001b[0;34m(self, chunk, collect_sstats)\u001b[0m\n\u001b[1;32m    706\u001b[0m                 \u001b[0;31m# the update for gamma gives this update. Cf. Lee&Seung 2001.\u001b[0m\u001b[0;34m\u001b[0m\u001b[0;34m\u001b[0m\u001b[0m\n\u001b[1;32m    707\u001b[0m                 \u001b[0mgammad\u001b[0m \u001b[0;34m=\u001b[0m \u001b[0mself\u001b[0m\u001b[0;34m.\u001b[0m\u001b[0malpha\u001b[0m \u001b[0;34m+\u001b[0m \u001b[0mexpElogthetad\u001b[0m \u001b[0;34m*\u001b[0m \u001b[0mnp\u001b[0m\u001b[0;34m.\u001b[0m\u001b[0mdot\u001b[0m\u001b[0;34m(\u001b[0m\u001b[0mcts\u001b[0m \u001b[0;34m/\u001b[0m \u001b[0mphinorm\u001b[0m\u001b[0;34m,\u001b[0m \u001b[0mexpElogbetad\u001b[0m\u001b[0;34m.\u001b[0m\u001b[0mT\u001b[0m\u001b[0;34m)\u001b[0m\u001b[0;34m\u001b[0m\u001b[0;34m\u001b[0m\u001b[0m\n\u001b[0;32m--> 708\u001b[0;31m                 \u001b[0mElogthetad\u001b[0m \u001b[0;34m=\u001b[0m \u001b[0mdirichlet_expectation\u001b[0m\u001b[0;34m(\u001b[0m\u001b[0mgammad\u001b[0m\u001b[0;34m)\u001b[0m\u001b[0;34m\u001b[0m\u001b[0;34m\u001b[0m\u001b[0m\n\u001b[0m\u001b[1;32m    709\u001b[0m                 \u001b[0mexpElogthetad\u001b[0m \u001b[0;34m=\u001b[0m \u001b[0mnp\u001b[0m\u001b[0;34m.\u001b[0m\u001b[0mexp\u001b[0m\u001b[0;34m(\u001b[0m\u001b[0mElogthetad\u001b[0m\u001b[0;34m)\u001b[0m\u001b[0;34m\u001b[0m\u001b[0;34m\u001b[0m\u001b[0m\n\u001b[1;32m    710\u001b[0m                 \u001b[0mphinorm\u001b[0m \u001b[0;34m=\u001b[0m \u001b[0mnp\u001b[0m\u001b[0;34m.\u001b[0m\u001b[0mdot\u001b[0m\u001b[0;34m(\u001b[0m\u001b[0mexpElogthetad\u001b[0m\u001b[0;34m,\u001b[0m \u001b[0mexpElogbetad\u001b[0m\u001b[0;34m)\u001b[0m \u001b[0;34m+\u001b[0m \u001b[0mepsilon\u001b[0m\u001b[0;34m\u001b[0m\u001b[0;34m\u001b[0m\u001b[0m\n",
      "\u001b[0;31mKeyboardInterrupt\u001b[0m: "
     ]
    }
   ],
   "source": [
    "env['lda_topics'] = [lda[dictionary.doc2bow(l)] for l in env['tokens']]\n",
    "\n",
    "#Dict to temporally hold the probabilities\n",
    "topicsProbDict = {i : [0] * len(env) for i in range(lda.num_topics)}\n",
    "\n",
    "#Load them into the dict\n",
    "for index, topicTuples in enumerate(env['lda_topics']):\n",
    "    for topicNum, prob in topicTuples:\n",
    "        topicsProbDict[topicNum][index] = prob\n",
    "\n",
    "#Update the DataFrame\n",
    "for topicNum in range(lda.num_topics):\n",
    "    env['topic_{}'.format(topicNum)] = topicsProbDict[topicNum]"
   ]
  },
  {
   "cell_type": "code",
   "execution_count": null,
   "id": "079496c3",
   "metadata": {},
   "outputs": [],
   "source": [
    "env['date'] = pd.to_datetime(env.date)\n",
    "env['year'] = env.date.dt.year"
   ]
  },
  {
   "cell_type": "code",
   "execution_count": null,
   "id": "83e8a6c2",
   "metadata": {},
   "outputs": [],
   "source": [
    "labels_09 = ['renewables',\n",
    "             'knowledge',\n",
    "             'community',\n",
    "             'food',\n",
    "             'politics',\n",
    "             'fossil fuels',\n",
    "             'economy',\n",
    "             'urbanism',\n",
    "             'climate change']\n",
    "env.columns = ['url', 'title', 'date', 'text_processed', 'tokens', 'lda_topics'] + labels_09 + ['year']\n",
    "\n",
    "labels_dic = {'topic_{}'.format(i):labels_09[i] for i in range(9)}\n",
    "\n",
    "px.line(env.groupby('year').mean(), labels=labels_dic)"
   ]
  },
  {
   "cell_type": "code",
   "execution_count": 31,
   "id": "ebd9448e",
   "metadata": {},
   "outputs": [],
   "source": [
    "env.to_pickle('../Data/Environmental Discourse/env_tm09_loadings.pkl')"
   ]
  },
  {
   "cell_type": "code",
   "execution_count": null,
   "id": "0dfa58e6",
   "metadata": {},
   "outputs": [],
   "source": []
  },
  {
   "cell_type": "code",
   "execution_count": null,
   "id": "2defbc1b",
   "metadata": {},
   "outputs": [],
   "source": []
  },
  {
   "cell_type": "code",
   "execution_count": null,
   "id": "ed29bfee",
   "metadata": {},
   "outputs": [],
   "source": []
  },
  {
   "cell_type": "code",
   "execution_count": null,
   "id": "0dfcaf7f",
   "metadata": {},
   "outputs": [],
   "source": []
  },
  {
   "cell_type": "code",
   "execution_count": 41,
   "id": "0a7da8fa",
   "metadata": {},
   "outputs": [
    {
     "name": "stdout",
     "output_type": "stream",
     "text": [
      "Topic: renewables\n",
      " -  How (Not) to Run a Modern Society on Solar and Wind Power Alone\n",
      " -  Enabling wind, sun to be our main power supplies\n",
      " -  Enabling Wind, Sun To Be Our Main Power Supplies: Quest for Storage — “Holy Grail” of New Energy Economy — Nears Goal\n",
      "\n",
      "Topic: knowledge\n",
      " -  Human Nature\n",
      " -  About that novel\n",
      " -  Review: “Let Us Be Human: Christianity for a Collapsing Culture”\n",
      "\n",
      "Topic: community\n",
      " -  Creating a cottage garden\n",
      " -  Transition Essentials: No.1 – Food\n",
      " -  Sticking to the plot: A celebration of permaculture allotment projects\n",
      "\n",
      "Topic: food\n",
      " -  U.K. organic milk better for you than conventional, thanks to cows' grass-based diet\n",
      " -  While global GMO acreage surges, herbicide-resistent weeds thrive\n",
      " -  For first time, GM soybeans may be losing favor among farmers\n",
      "\n",
      "Topic: politics\n",
      " -  Semana del 27/5/12\n",
      " -  Semana del 19/11/2006\n",
      " -  Samana del 12/11/06\n",
      "\n",
      "Topic: fossil fuels\n",
      " -  Trends in world oil supply/consumption and net exports/imports\n",
      " -  What the new 2011 EIA oil supply data shows\n",
      " -  World Oil Production Forecast – Update November 2009\n",
      "\n",
      "Topic: economy\n",
      " -  The Grexit Proposal\n",
      " -  In Search of a Sane Economy\n",
      " -  Common questions about economic sharing\n",
      "\n",
      "Topic: urbanism\n",
      " -  Papa wheelie: Is there one dad bike to rule them all?\n",
      " -  Peer-to-peer bike rentals are more principle than profit\n",
      " -  Uber and Lyft admit they’re terrible for traffic, finally\n",
      "\n",
      "Topic: climate change\n",
      " -  State of the climate: Summer 2021 sets new high for average land temperature\n",
      " -  Factcheck: Climate Models have not ‘Exaggerated’ Global Warming\n",
      " -  Explainer: Will global warming ‘stop’ as soon as net-zero emissions are reached?\n",
      "\n"
     ]
    }
   ],
   "source": [
    "for topic in labels_09:\n",
    "    print('Topic:', topic)\n",
    "    titles = env.sort_values(by=topic, ascending=False).title.head(3)\n",
    "    for title in titles:\n",
    "        print(' - ', title.strip())\n",
    "    print('')"
   ]
  },
  {
   "cell_type": "code",
   "execution_count": 30,
   "id": "c21c19d9",
   "metadata": {},
   "outputs": [],
   "source": []
  },
  {
   "cell_type": "code",
   "execution_count": 19,
   "id": "d8449666",
   "metadata": {},
   "outputs": [],
   "source": [
    "lda_07_06 = models.ldamodel.LdaModel.load('../Data/Environmental Discourse/Single-Year-TMs/Models/tm_07_06')\n",
    "lda_07_08 = models.ldamodel.LdaModel.load('../Data/Environmental Discourse/Single-Year-TMs/Models/tm_07_08')"
   ]
  },
  {
   "cell_type": "code",
   "execution_count": 8,
   "id": "744cb4b5",
   "metadata": {},
   "outputs": [],
   "source": [
    "dictionary = corpora.Dictionary.load('../Data/Environmental Discourse/Single-Year-TMs/dictionary')"
   ]
  },
  {
   "cell_type": "code",
   "execution_count": 9,
   "id": "55152f79",
   "metadata": {},
   "outputs": [],
   "source": [
    "corpus = corpora.MmCorpus('../Data/Environmental Discourse/Single-Year-TMs/bow_corpus.mm')"
   ]
  },
  {
   "cell_type": "code",
   "execution_count": 18,
   "id": "1e6e68be",
   "metadata": {},
   "outputs": [
    {
     "name": "stderr",
     "output_type": "stream",
     "text": [
      "/home/mcpackard/anaconda3/envs/thesis/lib/python3.9/site-packages/pyLDAvis/_prepare.py:246: FutureWarning: In a future version of pandas all arguments of DataFrame.drop except for the argument 'labels' will be keyword-only\n",
      "  default_term_info = default_term_info.sort_values(\n",
      "/home/mcpackard/anaconda3/envs/thesis/lib/python3.9/site-packages/past/builtins/misc.py:45: DeprecationWarning: the imp module is deprecated in favour of importlib; see the module's documentation for alternative uses\n",
      "  from imp import reload\n",
      "/home/mcpackard/anaconda3/envs/thesis/lib/python3.9/site-packages/past/builtins/misc.py:45: DeprecationWarning: the imp module is deprecated in favour of importlib; see the module's documentation for alternative uses\n",
      "  from imp import reload\n",
      "/home/mcpackard/anaconda3/envs/thesis/lib/python3.9/site-packages/past/builtins/misc.py:45: DeprecationWarning: the imp module is deprecated in favour of importlib; see the module's documentation for alternative uses\n",
      "  from imp import reload\n",
      "/home/mcpackard/anaconda3/envs/thesis/lib/python3.9/site-packages/past/builtins/misc.py:45: DeprecationWarning: the imp module is deprecated in favour of importlib; see the module's documentation for alternative uses\n",
      "  from imp import reload\n",
      "/home/mcpackard/anaconda3/envs/thesis/lib/python3.9/site-packages/past/builtins/misc.py:45: DeprecationWarning: the imp module is deprecated in favour of importlib; see the module's documentation for alternative uses\n",
      "  from imp import reload\n",
      "/home/mcpackard/anaconda3/envs/thesis/lib/python3.9/site-packages/past/builtins/misc.py:45: DeprecationWarning: the imp module is deprecated in favour of importlib; see the module's documentation for alternative uses\n",
      "  from imp import reload\n",
      "/home/mcpackard/anaconda3/envs/thesis/lib/python3.9/site-packages/past/builtins/misc.py:45: DeprecationWarning: the imp module is deprecated in favour of importlib; see the module's documentation for alternative uses\n",
      "  from imp import reload\n",
      "/home/mcpackard/anaconda3/envs/thesis/lib/python3.9/site-packages/past/builtins/misc.py:45: DeprecationWarning: the imp module is deprecated in favour of importlib; see the module's documentation for alternative uses\n",
      "  from imp import reload\n"
     ]
    },
    {
     "data": {
      "text/html": [
       "\n",
       "<link rel=\"stylesheet\" type=\"text/css\" href=\"https://cdn.jsdelivr.net/gh/bmabey/pyLDAvis@3.3.1/pyLDAvis/js/ldavis.v1.0.0.css\">\n",
       "\n",
       "\n",
       "<div id=\"ldavis_el12971402348446762724638610405\"></div>\n",
       "<script type=\"text/javascript\">\n",
       "\n",
       "var ldavis_el12971402348446762724638610405_data = {\"mdsDat\": {\"x\": [0.011685356171978594, -0.0029887814153514063, -0.05506855710927526, 0.0725795921215691, 0.03047937725021329, -0.056686987019134244], \"y\": [-0.012272840056468734, 0.042494036105174306, -0.05195310983989159, 0.014090938259770267, -0.03648351747769635, 0.04412449300911213], \"topics\": [1, 2, 3, 4, 5, 6], \"cluster\": [1, 1, 1, 1, 1, 1], \"Freq\": [33.755663093270435, 21.15725990520264, 19.30840373164351, 10.62177273360387, 8.302745720584713, 6.854154815694838]}, \"tinfo\": {\"Term\": [\"city\", \"water\", \"food\", \"epa\", \"economy\", \"machinery\", \"court\", \"road\", \"energy\", \"green\", \"machine\", \"climate\", \"car\", \"butter\", \"system\", \"ipcc\", \"transit\", \"animal\", \"fuel\", \"emission\", \"fat\", \"debate\", \"good\", \"methanol\", \"way\", \"stand\", \"bill\", \"percent\", \"steel\", \"price\", \"deception\", \"mutually\", \"vaguely\", \"flop\", \"egregious\", \"admirable\", \"dignity\", \"clip\", \"refreshing\", \"podcast\", \"bayou\", \"limitation\", \"beck\", \"talking\", \"lifeline\", \"hillary\", \"hack\", \"landfall\", \"glenn\", \"subjective\", \"lament\", \"honest\", \"flip\", \"clayton\", \"outlier\", \"terror\", \"evolutionary\", \"friendship\", \"horrific\", \"aep\", \"heighten\", \"reactor\", \"update\", \"nuclear\", \"cheap\", \"pielke\", \"oil\", \"turbine\", \"sand\", \"tar\", \"nuclear_power\", \"coal\", \"price\", \"grist\", \"energy\", \"production\", \"think\", \"machine\", \"global\", \"economy\", \"sound\", \"president\", \"peak_oil\", \"industry\", \"ask\", \"question\", \"end\", \"call\", \"rise\", \"climate_change\", \"post\", \"tell\", \"way\", \"want\", \"go\", \"environmental\", \"company\", \"report\", \"world\", \"technology\", \"need\", \"emission\", \"carbon\", \"global_warming\", \"make\", \"percent\", \"level\", \"good\", \"work\", \"fisherman\", \"lobster\", \"ordinance\", \"reflective\", \"bathe\", \"hose\", \"contractor\", \"subscriber\", \"heater\", \"negotiator\", \"fishing\", \"endangered\", \"mw\", \"balcony\", \"boat\", \"sunny\", \"backup\", \"circulate\", \"depart\", \"ramification\", \"instal\", \"glance\", \"corrosive\", \"cheer\", \"nestle\", \"thorough\", \"roof\", \"cement\", \"pv\", \"vessel\", \"africa\", \"sun\", \"eu\", \"water\", \"dam\", \"african\", \"fish\", \"shark\", \"gasification\", \"solar\", \"methanol\", \"specie\", \"diesel\", \"catch\", \"south\", \"system\", \"hot\", \"site\", \"gasoline\", \"city\", \"use\", \"country\", \"tank\", \"fuel\", \"power\", \"world\", \"project\", \"energy\", \"green\", \"biomass\", \"need\", \"plant\", \"percent\", \"emission\", \"climate_change\", \"increase\", \"government\", \"plan\", \"national\", \"nation\", \"state\", \"ethanol\", \"know\", \"coal\", \"report\", \"way\", \"oil\", \"good\", \"large\", \"butter\", \"avocado\", \"calf\", \"insidious\", \"ingest\", \"fat\", \"culminate\", \"conglomerate\", \"goat\", \"grandparent\", \"freshly\", \"medicinal\", \"unemployed\", \"fad\", \"imperialism\", \"encroach\", \"cob\", \"cigarette\", \"nourish\", \"millennia\", \"diving\", \"detection\", \"tolerance\", \"toast\", \"frustrated\", \"robertson\", \"obey\", \"growing\", \"fuzzy\", \"doyle\", \"gently\", \"sarah\", \"dairy\", \"orange\", \"geographic\", \"animal\", \"arctic\", \"film\", \"penguin\", \"cow\", \"juice\", \"food\", \"slice\", \"cute\", \"trash\", \"bread\", \"bake\", \"canyon\", \"tree\", \"eat\", \"diet\", \"corn\", \"movie\", \"summer\", \"organic\", \"follow\", \"ice\", \"offset\", \"process\", \"family\", \"grow\", \"ecosystem\", \"carbon\", \"photo\", \"know\", \"live\", \"ve\", \"make\", \"farmer\", \"think\", \"environmental\", \"good\", \"find\", \"climate_change\", \"green\", \"way\", \"work\", \"go\", \"get\", \"world\", \"emission\", \"plant\", \"day\", \"oil\", \"market\", \"need\", \"statute\", \"waiver\", \"decisively\", \"changer\", \"appropriation\", \"supreme\", \"epa\", \"climateprogress\", \"clean_air_act\", \"vilsack\", \"domain\", \"allegation\", \"becker\", \"pete\", \"massachusetts\", \"court\", \"lincoln\", \"boxer\", \"sue\", \"lawsuit\", \"exempt\", \"tentative\", \"nuance\", \"standing\", \"provider\", \"oral\", \"prerequisite\", \"ruling\", \"defender\", \"dissent\", \"johnson\", \"stand\", \"justice\", \"authority\", \"majority\", \"rule\", \"bill\", \"dot\", \"standard\", \"patent\", \"regulate\", \"greenhouse_gas\", \"sen\", \"vote\", \"california\", \"fuel\", \"energy\", \"emission\", \"carbon\", \"climate\", \"agency\", \"government\", \"action\", \"state\", \"technology\", \"nation\", \"case\", \"ethanol\", \"way\", \"environmental\", \"global_warming\", \"need\", \"climate_change\", \"system\", \"world\", \"president\", \"change\", \"good\", \"oil\", \"percent\", \"use\", \"manifest\", \"in\", \"revert\", \"chevy\", \"mobilization\", \"ll\", \"rggi\", \"condo\", \"wonk\", \"toyota\", \"centrist\", \"mite\", \"volt\", \"motors\", \"empirical\", \"beekeeper\", \"chick\", \"discredit\", \"ford\", \"bizarre\", \"beacon\", \"ratify\", \"roger\", \"convenient\", \"domesticate\", \"energ\\u00e9a\", \"contradict\", \"silent\", \"hippie\", \"ser\", \"beat\", \"prius\", \"frame\", \"plug\", \"revkin\", \"hurricane\", \"ipcc\", \"consensus\", \"judgment\", \"wise\", \"gm\", \"folk\", \"debate\", \"de\", \"peer\", \"climate\", \"science\", \"want\", \"effect\", \"good\", \"way\", \"right\", \"middle\", \"solution\", \"climate_change\", \"need\", \"sure\", \"think\", \"set\", \"energy\", \"thing\", \"technology\", \"go\", \"make\", \"car\", \"world\", \"big\", \"global_warming\", \"problem\", \"oil\", \"change\", \"emission\", \"public\", \"get\", \"issue\", \"regressive\", \"copenhagen\", \"pavement\", \"versa\", \"package\", \"lane\", \"unrelated\", \"sim\", \"freeway\", \"pave\", \"bicyclist\", \"road\", \"lip\", \"ditch\", \"transit\", \"interstate\", \"bike\", \"entitlement\", \"responsive\", \"honda\", \"supporter\", \"pedestrian\", \"revolutionize\", \"80\", \"planner\", \"waterfront\", \"boast\", \"suburban\", \"revitalize\", \"certification\", \"mayor\", \"sprawl\", \"rail\", \"seattle\", \"city\", \"machinery\", \"traffic\", \"congestion\", \"austin\", \"park\", \"mile\", \"sustainable\", \"space\", \"machine\", \"steel\", \"equipment\", \"economy\", \"green\", \"light\", \"hybrid\", \"car\", \"urban\", \"growth\", \"plan\", \"build\", \"percent\", \"level\", \"help\", \"price\", \"food\", \"system\", \"oil\", \"big\", \"emission\", \"make\", \"world\", \"good\", \"energy\", \"production\"], \"Freq\": [50539.0, 76405.0, 71170.0, 17202.0, 54669.0, 21980.0, 17718.0, 15592.0, 132348.0, 53487.0, 25590.0, 51374.0, 44163.0, 13153.0, 50952.0, 19052.0, 10589.0, 24425.0, 51889.0, 69018.0, 13255.0, 22338.0, 59179.0, 20226.0, 72486.0, 15528.0, 20993.0, 50333.0, 15988.0, 70689.0, 3443.3915514042546, 1832.9342464759104, 1778.7854728337834, 1750.6043093185112, 1769.554141265995, 1735.5396884473619, 1812.4164394185336, 5235.245407220199, 1676.878434082196, 1710.8847276192573, 365.930619174069, 3755.1007843053776, 1773.6510956494658, 1785.0078205633204, 1247.8663941306345, 2358.076553826099, 1597.5148932933796, 128.36252665231547, 1781.706097622816, 1376.6157776956532, 1387.1836393863048, 3361.3386318065677, 1871.7706356967146, 1394.6861982951718, 2608.42480519607, 1740.2611263813903, 1616.1943744112164, 2616.477419087009, 1179.8864441828, 86.62467949141508, 4707.554816930275, 3334.2852402100366, 6484.653507554202, 16215.803957796257, 24396.976285210745, 8474.482181363932, 80826.29857972194, 12819.495441199664, 7754.9887720722545, 6623.025768699031, 7982.317501052133, 34236.95364100489, 40011.26686113624, 8969.32231000387, 60060.08159786567, 24650.26904219386, 33300.72344425497, 14465.4573623713, 18752.367781112378, 26284.290551308943, 7218.996411293144, 13627.643225901362, 10470.688229253066, 19170.6945453214, 12328.819332257583, 15755.647542070723, 14838.155831974882, 16662.899154786865, 16465.50344677782, 29829.263566229376, 14648.376514802978, 14257.732401905869, 26869.62706292549, 20648.971687790574, 21466.434585951323, 23387.352355686544, 15247.678532360871, 19510.273495989986, 25394.368456624212, 17501.157474585307, 20645.02339153721, 20672.532508860564, 18443.071307474147, 16950.725175492473, 17442.100196553598, 16600.20243916032, 15700.427116446519, 16875.581774338174, 15772.819446662987, 5153.886971848162, 1233.658890417437, 1173.3010390792035, 1175.1101643182724, 1131.5548255768742, 1488.06874868854, 3508.9807605991446, 1181.8711836549032, 3511.18903095439, 1312.2846158602679, 7592.986939229258, 4048.0122699161275, 1354.920548773124, 1027.3225065035747, 5249.740174703707, 1333.5402158922934, 1256.1756642837306, 2293.8577951783873, 1125.2999721406945, 1307.1454977566495, 4903.264751263874, 1179.2325849712804, 990.654915673193, 1367.8356374040998, 113.28428325652416, 1063.7778643917143, 3852.1445269032024, 1329.6744954421263, 1328.157993466354, 1338.161942139068, 6544.628799072525, 9234.08256194728, 4152.235046926494, 53986.392645676824, 4312.868753740354, 5027.735162155072, 9721.134400647417, 6452.743098671773, 3721.4469532682597, 18799.329839609265, 11898.727460126098, 7319.6119502287365, 7447.431188644653, 5907.959409299295, 7560.96302762704, 23477.3644857858, 7741.168066815511, 7023.433301809671, 13416.506700270067, 21338.535402127367, 22527.594690393213, 21819.678895245306, 6994.940826622823, 18131.10303908835, 14167.30664669995, 22201.840386728276, 14187.635107466807, 29620.918302045346, 16407.01167556961, 7560.433162485317, 15179.62248179736, 10856.576525457302, 13191.713160153546, 15145.51952307126, 15854.864257735075, 12106.40266407261, 11935.985660995571, 10287.906495538651, 10226.24456226616, 9962.852691552604, 11190.851579489812, 9865.391432810264, 11494.960243504509, 11815.826017359079, 11214.832218069681, 11512.168387325659, 12244.596681920739, 10601.860073843836, 10272.796857165798, 12793.63475492269, 1630.6267774585176, 1661.7548386781334, 849.9979880895311, 941.1533236105563, 12250.735613697805, 823.9417516288875, 841.5075906619678, 1746.828423971404, 1724.664020451721, 924.0507844712929, 827.2524107104174, 842.7311235633664, 844.3085629438502, 813.5332698743422, 847.574030364976, 853.4085355388312, 1679.992234891453, 896.2171611452785, 907.9451369340203, 865.0872216828499, 812.8154965376191, 854.0046784243151, 1873.8077692426675, 845.4356793808598, 5412.854915996302, 852.8698213502589, 866.4916919752121, 828.6669552142299, 1704.2779144605906, 951.5929955790833, 5507.415904152024, 3592.2796215558224, 2797.824574593984, 2432.599690486046, 18193.22904899503, 13768.655414604169, 13370.888664686638, 3033.7177565987845, 2992.8927261519707, 2679.210239813419, 39542.76204683748, 1954.7540013295456, 2349.047254205325, 2784.8323706429, 1983.2213323972994, 2160.0240848491217, 3361.9159863918217, 10136.91061039798, 8215.698155386011, 4047.905584404336, 15440.926250208766, 4345.201597446881, 6502.778047328717, 7068.704673103979, 7948.839237873778, 7396.930450458271, 5817.406561950951, 8444.76181885778, 5736.863867486574, 13097.063173832486, 7633.246635511086, 15620.177548291056, 5780.838881879753, 14152.152072460545, 10048.42329033427, 10854.535053690865, 13598.205676175425, 6527.602725668671, 15315.609889740641, 13947.158147550896, 13297.894457337443, 10853.032459440647, 14373.054372495677, 11517.646288249047, 13036.391149998257, 10521.143084105372, 10755.78911288249, 9401.227716207028, 11142.764504093917, 10764.319294907817, 8766.003720269697, 8896.85327023135, 11456.568108635667, 8989.519623637025, 8867.829523959424, 530.231377093114, 1220.037141228624, 1040.319592716609, 1316.1049216916842, 1055.3579087612623, 2727.773651864337, 14488.07933441216, 518.2743788107384, 3084.336834991412, 1477.6866802373029, 1037.5301503778564, 509.8088643545944, 532.2169565672899, 565.0053186159037, 4855.761531029576, 12994.512777560207, 516.4022368670744, 1281.236798526118, 1705.4255322054505, 2641.4712052451296, 588.6841115568059, 503.29592822519055, 508.4516217179321, 2399.021105530349, 1066.8926551704712, 871.5455878947511, 478.0409078040158, 1601.1209909704637, 538.5605035053968, 1795.4020648253154, 1751.57140612733, 8479.96282188512, 5817.378647257019, 3184.642538896327, 5963.216917231849, 4479.942710650351, 9119.32091546831, 2177.1161300278623, 6744.723163871294, 1978.7812378041367, 1686.7189538920402, 8257.971680198816, 2455.5411124523803, 2888.6764759877587, 5287.338388763475, 11220.601535862885, 20671.69432086207, 12198.587722184613, 10349.52854694289, 9547.153050969471, 3901.9011247273006, 7800.753369252801, 6431.722998257877, 7114.815439789991, 7114.213779401827, 5664.693672432041, 4450.504935688442, 5448.709616269855, 8095.788887472766, 7352.531910022877, 6420.342048467458, 6995.906106122679, 7515.521759272933, 6491.513813401656, 7193.299307160185, 5070.12947027901, 5638.543237575984, 6002.437559854085, 6639.402537971617, 5700.322387507956, 5608.797869376497, 808.176609289053, 1988.0668511266922, 565.917464245024, 627.1490449985357, 708.1224124576145, 50.778286973402956, 88.89671769880145, 144.18599686475983, 694.8565195701638, 2006.8587349952436, 702.3725290939256, 167.78920517333464, 1315.8659498647899, 520.9291926351297, 1162.752831631416, 143.00352544821325, 1343.2118541589764, 1178.0237214325537, 1200.7023457355278, 656.7409217637951, 476.50368681505137, 1400.2687769016802, 1343.1938409546055, 633.895626371465, 54.357505787010055, 239.78147283684285, 603.0287769587896, 1571.087896053159, 860.7489294283492, 93.91023791044218, 1133.9691016166014, 1141.8907998301079, 3051.7500935514545, 3407.690620329214, 2428.8830515560785, 2654.627269872104, 6938.807717007896, 3472.4617957416094, 1766.0190598249972, 3131.953494421527, 1096.9986639087583, 3921.521974106182, 6259.154635620329, 2961.111565071035, 1542.9084894654184, 9289.02965042031, 5550.713712508254, 7535.5287886545975, 3886.6280476913353, 7945.365997684315, 8838.382352114102, 5347.474251913884, 3318.7190964359024, 3759.6177268548554, 7980.703988746044, 6923.415042281555, 3067.7777337318703, 6929.725929273763, 4528.050843941444, 8923.978749736265, 5000.892759581009, 5095.680198937728, 5552.555758450879, 5596.428092470425, 4948.174375849749, 6028.464226338891, 5096.842442211051, 4891.82006597536, 4330.58422375655, 6477.589408875759, 4663.728648811526, 5400.853641927276, 4648.133912923111, 4269.9341562311, 4097.596739326423, 892.8826345760532, 863.9585419784539, 1622.4132530061888, 432.90806592341954, 5063.339504562302, 1859.806045429734, 357.36380158329433, 423.3850589294515, 953.388583548137, 428.9879734561168, 379.8231824142228, 9128.35873311718, 420.03905345932395, 435.49091189269166, 6076.963379328805, 408.1487407257546, 4617.833124337248, 357.829027429601, 377.8729353004993, 465.9639119787631, 919.3552096157845, 1061.2612557706523, 358.20074744698786, 380.693546307526, 529.7546875856311, 387.5223004306092, 1324.8859487667526, 1168.0126662209695, 341.4455858588448, 526.4807713111791, 2674.281739158244, 1104.0146745852767, 3781.39350136311, 2378.584466025169, 15930.622178044257, 7188.470804485224, 1538.6048756194452, 2432.395494627576, 1271.454115798997, 3701.5374222110195, 4651.613216274929, 4662.04287421249, 2511.841667501117, 6014.808268779419, 4216.317963510858, 4327.099661067832, 9915.250773036736, 9285.279778795972, 4161.5379332759985, 2936.9093060374794, 7021.605975582324, 2658.6188258655643, 4044.730160846444, 4808.18254426361, 4821.332518710627, 6179.803304373859, 5255.408397276994, 5152.495736496393, 6459.789335358857, 5097.15644927266, 4524.100359922543, 5819.82606740362, 4381.691224930142, 4836.503576796041, 4466.606478576942, 4758.139065127567, 4456.569270341399, 4709.6214200883305, 4256.320678442065], \"Total\": [50539.0, 76405.0, 71170.0, 17202.0, 54669.0, 21980.0, 17718.0, 15592.0, 132348.0, 53487.0, 25590.0, 51374.0, 44163.0, 13153.0, 50952.0, 19052.0, 10589.0, 24425.0, 51889.0, 69018.0, 13255.0, 22338.0, 59179.0, 20226.0, 72486.0, 15528.0, 20993.0, 50333.0, 15988.0, 70689.0, 3616.08502333165, 1955.2976071441153, 1898.0674035828945, 1875.2474872479054, 1896.2945531386458, 1868.170973981717, 1951.5155984661726, 5637.696331184621, 1821.2724053765207, 1878.0011078090474, 404.01963698930433, 4155.7515169964045, 1968.4725619198125, 1986.9933323563268, 1394.9009652130464, 2661.7262165839966, 1809.2660903735969, 147.69715259659273, 2065.1282930238385, 1610.7710538410781, 1623.4377015818097, 3946.2218373459114, 2205.7132683100926, 1652.5905846893897, 3093.2227974788984, 2066.4145487752126, 1925.4708643015751, 3143.9657997776008, 1422.2890290235741, 104.88422328150415, 5780.870504614746, 4095.476432195864, 8211.911894722094, 21930.142739285016, 34065.93628695983, 11198.957010749133, 123464.28138452934, 17805.316574410634, 10343.675734507828, 8911.500224993444, 11153.440088795267, 58256.657376450676, 70689.82245127036, 13558.57537971203, 132348.00190593526, 47865.29127148281, 70366.88048026629, 25590.59791723322, 35567.27526479868, 54669.78052111442, 11164.403270633145, 24985.05026121816, 17907.875440399162, 38986.845953440694, 22200.604675126302, 30941.366419334532, 28695.58060249977, 33614.29339269598, 33300.33082148824, 77733.92993154554, 28892.589229871704, 28322.349564792097, 72486.15113087531, 49165.88707506782, 53278.95003112544, 61147.184408852605, 31696.91325721776, 49025.48829583675, 76718.87594607307, 41108.30740039681, 62785.45968772486, 69018.31626774758, 55117.87654135515, 45486.34167621128, 54696.19391553421, 50333.227788418815, 38248.96072028824, 59179.70913339924, 44043.5579287695, 5473.400901388447, 1312.901090957963, 1259.6436528705856, 1263.267249612075, 1231.1950385650405, 1623.667797122388, 3900.113079004837, 1317.9579484978497, 3932.7460417721177, 1484.5960508209903, 8751.980906517108, 4672.170138003331, 1569.576501574863, 1190.579581550981, 6091.742650647827, 1571.8535178038487, 1484.6444029884647, 2718.283749368452, 1336.3180113771064, 1553.8759181483706, 5866.956882749292, 1433.1578828122124, 1211.491669778334, 1673.7395152477038, 139.2975511871035, 1309.610502978869, 4764.225640261286, 1653.244033078016, 1654.1708911824317, 1670.009153105485, 8256.48901795314, 12045.040112240096, 5313.2576513669555, 76405.31947177065, 5670.531678372024, 6909.944702204121, 14148.787557338825, 9102.814561158857, 5080.709335317804, 32549.57343599505, 20226.281055561212, 11639.48743581853, 11912.239596238822, 9078.529600690981, 12349.092115996671, 50952.917890997676, 13094.865884493309, 11940.185008120063, 27384.480951222107, 50539.86724500097, 55175.82202337071, 53206.93039124167, 12434.039658687861, 51889.44566840048, 37242.648104736305, 76718.87594607307, 37993.17717480538, 132348.00190593526, 53487.29116822127, 14393.651514808533, 62785.45968772486, 32007.538558350378, 50333.227788418815, 69018.31626774758, 77733.92993154554, 43187.91111196959, 42963.20906236144, 29762.484606045513, 29522.930280431196, 28590.992449478577, 40669.896293279824, 28359.39389240934, 50631.93657779272, 58256.657376450676, 49025.48829583675, 72486.15113087531, 123464.28138452934, 59179.70913339924, 35001.4426685826, 13153.17282909423, 1680.9285823386715, 1779.266230141029, 912.4946535949236, 1013.9148765922631, 13255.028259945168, 892.8753010604255, 912.1831788770505, 1895.5600611641737, 1874.9538403376578, 1004.6440428918314, 901.0080030640303, 919.0219492520717, 921.3796227474446, 891.957594700656, 931.574885730175, 939.3125750010942, 1852.4942699753547, 990.5936255923378, 1003.7501871860247, 958.9131670415314, 901.1438519984962, 947.6283646010717, 2081.2189282736763, 939.9065409378774, 6018.767633948904, 951.3176912533906, 968.277999034595, 928.3257984306424, 1910.6430584046466, 1068.3476456409157, 6523.277977986043, 4220.394282828036, 3269.4476033427195, 2861.287943977713, 24425.51016936184, 18465.57398598088, 18197.929602429485, 3692.809265262439, 3811.294813249547, 3392.1645834989677, 71170.68885591753, 2385.6672971702765, 2981.074454841262, 3652.803099036533, 2475.098694148397, 2743.519649203208, 4643.794727015719, 17475.10342736449, 13884.810752165968, 5982.523240444143, 31478.01728609162, 6908.8287969908415, 11841.682578072308, 13435.095053839414, 16392.57233884002, 15083.460188587029, 10741.775397486019, 18806.059959630766, 10790.183192141792, 37816.21581029223, 17325.328639124236, 55117.87654135515, 11671.131809666555, 50631.93657779272, 29995.855471210813, 35669.8720950148, 54696.19391553421, 14865.383202900905, 70366.88048026629, 61147.184408852605, 59179.70913339924, 39998.23703674128, 77733.92993154554, 53487.29116822127, 72486.15113087531, 44043.5579287695, 53278.95003112544, 38748.94521004676, 76718.87594607307, 69018.31626774758, 32007.538558350378, 34272.535207819295, 123464.28138452934, 36595.25154653767, 62785.45968772486, 576.5602445008858, 1365.6489185928385, 1173.8585015117146, 1519.6298390690054, 1225.8172936448996, 3171.117146378011, 17202.470445790757, 630.986675804563, 3773.910651289178, 1813.1313910124175, 1316.5055956867716, 662.189956676236, 697.5730058397929, 756.3414076778397, 6606.990511800906, 17718.883307524644, 706.3403511788945, 1759.05307976398, 2342.708181944192, 3634.5260650334553, 810.3864731266472, 694.8103725252008, 706.0712089019762, 3371.38476375953, 1503.7922111762944, 1232.8404724414836, 677.0866594852484, 2269.4151640844, 796.4362176741631, 2678.703196551392, 2702.3843672564713, 15528.850516317543, 10459.786052526215, 5714.228914311388, 11815.188691167607, 8732.769308598195, 20993.83910697318, 4032.932974829214, 17079.78351195439, 3737.3920017877776, 3048.478069289703, 29754.46231501443, 5228.336117763276, 6651.124952739435, 16439.081672110377, 51889.44566840048, 132348.00190593526, 69018.31626774758, 55117.87654135515, 51374.53989691021, 11115.917717355902, 42963.20906236144, 31124.79250972789, 40669.896293279824, 41108.30740039681, 28590.992449478577, 17621.086875840705, 28359.39389240934, 72486.15113087531, 61147.184408852605, 45486.34167621128, 62785.45968772486, 77733.92993154554, 50952.917890997676, 76718.87594607307, 24985.05026121816, 40111.05521100036, 59179.70913339924, 123464.28138452934, 50333.227788418815, 55175.82202337071, 983.0790340324321, 2695.362841025834, 791.4442559198701, 886.2101421221786, 1032.16662768827, 75.56493904474753, 139.2362437122954, 226.30647469494775, 1115.8635570877987, 3261.482323188546, 1182.5088804712161, 286.38100834604495, 2317.228032582537, 948.0665360192517, 2142.594420373969, 264.09716502434406, 2520.3172596823374, 2241.1907778302184, 2354.214038494163, 1298.68430374606, 943.7194555721932, 2811.9468764956805, 2711.643940372365, 1282.2285983957918, 111.0647962723694, 494.6884994237161, 1248.4356719262892, 3261.16652030443, 1799.2236305539757, 197.50542050851803, 2417.1176652533404, 2437.1811284547152, 6712.015294756814, 7660.029370695444, 5713.415342688298, 6458.466974761527, 19052.724044508286, 8809.167755859584, 4121.380057158949, 8300.840951563116, 2462.325906539729, 12203.010693939146, 22338.436188612304, 8702.729639747115, 3918.9373577786428, 51374.53989691021, 25675.70806916714, 49165.88707506782, 17826.149252531475, 59179.70913339924, 72486.15113087531, 33114.397719884924, 14821.726388769071, 18988.75115645568, 77733.92993154554, 62785.45968772486, 13577.243463493483, 70366.88048026629, 31841.205294655236, 132348.00190593526, 39342.70528554123, 41108.30740039681, 53278.95003112544, 54696.19391553421, 44163.80186543773, 76718.87594607307, 48070.33324998162, 45486.34167621128, 31036.3983047375, 123464.28138452934, 40111.05521100036, 69018.31626774758, 41332.53700934658, 38748.94521004676, 37589.210027318564, 982.3521136820904, 1066.1677213942437, 2021.008110501541, 555.3303892207366, 6944.117948355283, 2593.959122331843, 516.424703956738, 655.6293957513194, 1528.2690457646409, 705.2383312882864, 644.4989876181601, 15592.624331255156, 721.6622317663757, 748.670253440697, 10589.425334894426, 721.2271205441068, 8446.882436053122, 655.1964646572044, 698.3854049993337, 888.2852294159238, 1758.8773658175137, 2130.2169570745655, 721.732086723985, 772.0395354347961, 1075.5649803287838, 820.5923342252165, 2825.253474218026, 2497.6334333142213, 747.2547184689633, 1164.4664952997337, 6101.933768567387, 2497.0149655108175, 9016.300529427459, 5879.88177572172, 50539.86724500097, 21980.005491551045, 3864.4509813483064, 6779.593145601326, 3081.819837276901, 11897.783819558797, 17016.02199471445, 17067.738773358604, 7663.849199650347, 25590.59791723322, 15988.750921305946, 16807.161365086045, 54669.78052111442, 53487.29116822127, 16883.81889126175, 10209.860505967159, 44163.80186543773, 9311.709002263251, 18973.46517821974, 29762.484606045513, 30623.31703326958, 50333.227788418815, 38248.96072028824, 37205.840130373675, 70689.82245127036, 71170.68885591753, 50952.917890997676, 123464.28138452934, 48070.33324998162, 69018.31626774758, 54696.19391553421, 76718.87594607307, 59179.70913339924, 132348.00190593526, 47865.29127148281], \"Category\": [\"Default\", \"Default\", \"Default\", \"Default\", \"Default\", \"Default\", \"Default\", \"Default\", \"Default\", \"Default\", \"Default\", \"Default\", \"Default\", \"Default\", \"Default\", \"Default\", \"Default\", \"Default\", \"Default\", \"Default\", \"Default\", \"Default\", \"Default\", \"Default\", \"Default\", \"Default\", \"Default\", \"Default\", \"Default\", \"Default\", \"Topic1\", \"Topic1\", \"Topic1\", \"Topic1\", \"Topic1\", \"Topic1\", \"Topic1\", \"Topic1\", \"Topic1\", \"Topic1\", \"Topic1\", \"Topic1\", \"Topic1\", \"Topic1\", \"Topic1\", \"Topic1\", \"Topic1\", \"Topic1\", \"Topic1\", \"Topic1\", \"Topic1\", \"Topic1\", \"Topic1\", \"Topic1\", \"Topic1\", \"Topic1\", \"Topic1\", \"Topic1\", \"Topic1\", \"Topic1\", \"Topic1\", \"Topic1\", \"Topic1\", \"Topic1\", \"Topic1\", \"Topic1\", \"Topic1\", \"Topic1\", \"Topic1\", \"Topic1\", \"Topic1\", \"Topic1\", \"Topic1\", \"Topic1\", \"Topic1\", \"Topic1\", \"Topic1\", \"Topic1\", \"Topic1\", \"Topic1\", \"Topic1\", \"Topic1\", \"Topic1\", \"Topic1\", \"Topic1\", \"Topic1\", \"Topic1\", \"Topic1\", \"Topic1\", \"Topic1\", \"Topic1\", \"Topic1\", \"Topic1\", \"Topic1\", \"Topic1\", \"Topic1\", \"Topic1\", \"Topic1\", \"Topic1\", \"Topic1\", \"Topic1\", \"Topic1\", \"Topic1\", \"Topic1\", \"Topic1\", \"Topic1\", \"Topic1\", \"Topic1\", \"Topic1\", \"Topic2\", \"Topic2\", \"Topic2\", \"Topic2\", \"Topic2\", \"Topic2\", \"Topic2\", \"Topic2\", \"Topic2\", \"Topic2\", \"Topic2\", \"Topic2\", \"Topic2\", \"Topic2\", \"Topic2\", \"Topic2\", \"Topic2\", \"Topic2\", \"Topic2\", \"Topic2\", \"Topic2\", \"Topic2\", \"Topic2\", \"Topic2\", \"Topic2\", \"Topic2\", \"Topic2\", \"Topic2\", \"Topic2\", \"Topic2\", \"Topic2\", \"Topic2\", \"Topic2\", \"Topic2\", \"Topic2\", \"Topic2\", \"Topic2\", \"Topic2\", \"Topic2\", \"Topic2\", \"Topic2\", \"Topic2\", \"Topic2\", \"Topic2\", \"Topic2\", \"Topic2\", \"Topic2\", \"Topic2\", \"Topic2\", \"Topic2\", \"Topic2\", \"Topic2\", \"Topic2\", \"Topic2\", \"Topic2\", \"Topic2\", \"Topic2\", \"Topic2\", \"Topic2\", \"Topic2\", \"Topic2\", \"Topic2\", \"Topic2\", \"Topic2\", \"Topic2\", \"Topic2\", \"Topic2\", \"Topic2\", \"Topic2\", \"Topic2\", \"Topic2\", \"Topic2\", \"Topic2\", \"Topic2\", \"Topic2\", \"Topic2\", \"Topic2\", \"Topic2\", \"Topic2\", \"Topic3\", \"Topic3\", \"Topic3\", \"Topic3\", \"Topic3\", \"Topic3\", \"Topic3\", \"Topic3\", \"Topic3\", \"Topic3\", \"Topic3\", \"Topic3\", \"Topic3\", \"Topic3\", \"Topic3\", \"Topic3\", \"Topic3\", \"Topic3\", \"Topic3\", \"Topic3\", \"Topic3\", \"Topic3\", \"Topic3\", \"Topic3\", \"Topic3\", \"Topic3\", \"Topic3\", \"Topic3\", \"Topic3\", \"Topic3\", \"Topic3\", \"Topic3\", \"Topic3\", \"Topic3\", \"Topic3\", \"Topic3\", \"Topic3\", \"Topic3\", \"Topic3\", \"Topic3\", \"Topic3\", \"Topic3\", \"Topic3\", \"Topic3\", \"Topic3\", \"Topic3\", \"Topic3\", \"Topic3\", \"Topic3\", \"Topic3\", \"Topic3\", \"Topic3\", \"Topic3\", \"Topic3\", \"Topic3\", \"Topic3\", \"Topic3\", \"Topic3\", \"Topic3\", \"Topic3\", \"Topic3\", \"Topic3\", \"Topic3\", \"Topic3\", \"Topic3\", \"Topic3\", \"Topic3\", \"Topic3\", \"Topic3\", \"Topic3\", \"Topic3\", \"Topic3\", \"Topic3\", \"Topic3\", \"Topic3\", \"Topic3\", \"Topic3\", \"Topic3\", \"Topic3\", \"Topic3\", \"Topic3\", \"Topic3\", \"Topic3\", \"Topic3\", \"Topic3\", \"Topic3\", \"Topic4\", \"Topic4\", \"Topic4\", \"Topic4\", \"Topic4\", \"Topic4\", \"Topic4\", \"Topic4\", \"Topic4\", \"Topic4\", \"Topic4\", \"Topic4\", \"Topic4\", \"Topic4\", \"Topic4\", \"Topic4\", \"Topic4\", \"Topic4\", \"Topic4\", \"Topic4\", \"Topic4\", \"Topic4\", \"Topic4\", \"Topic4\", \"Topic4\", \"Topic4\", \"Topic4\", \"Topic4\", \"Topic4\", \"Topic4\", \"Topic4\", \"Topic4\", \"Topic4\", \"Topic4\", \"Topic4\", \"Topic4\", \"Topic4\", \"Topic4\", \"Topic4\", \"Topic4\", \"Topic4\", \"Topic4\", \"Topic4\", \"Topic4\", \"Topic4\", \"Topic4\", \"Topic4\", \"Topic4\", \"Topic4\", \"Topic4\", \"Topic4\", \"Topic4\", \"Topic4\", \"Topic4\", \"Topic4\", \"Topic4\", \"Topic4\", \"Topic4\", \"Topic4\", \"Topic4\", \"Topic4\", \"Topic4\", \"Topic4\", \"Topic4\", \"Topic4\", \"Topic4\", \"Topic4\", \"Topic4\", \"Topic4\", \"Topic4\", \"Topic4\", \"Topic5\", \"Topic5\", \"Topic5\", \"Topic5\", \"Topic5\", \"Topic5\", \"Topic5\", \"Topic5\", \"Topic5\", \"Topic5\", \"Topic5\", \"Topic5\", \"Topic5\", \"Topic5\", \"Topic5\", \"Topic5\", \"Topic5\", \"Topic5\", \"Topic5\", \"Topic5\", \"Topic5\", \"Topic5\", \"Topic5\", \"Topic5\", \"Topic5\", \"Topic5\", \"Topic5\", \"Topic5\", \"Topic5\", \"Topic5\", \"Topic5\", \"Topic5\", \"Topic5\", \"Topic5\", \"Topic5\", \"Topic5\", \"Topic5\", \"Topic5\", \"Topic5\", \"Topic5\", \"Topic5\", \"Topic5\", \"Topic5\", \"Topic5\", \"Topic5\", \"Topic5\", \"Topic5\", \"Topic5\", \"Topic5\", \"Topic5\", \"Topic5\", \"Topic5\", \"Topic5\", \"Topic5\", \"Topic5\", \"Topic5\", \"Topic5\", \"Topic5\", \"Topic5\", \"Topic5\", \"Topic5\", \"Topic5\", \"Topic5\", \"Topic5\", \"Topic5\", \"Topic5\", \"Topic5\", \"Topic5\", \"Topic5\", \"Topic5\", \"Topic5\", \"Topic5\", \"Topic5\", \"Topic5\", \"Topic5\", \"Topic6\", \"Topic6\", \"Topic6\", \"Topic6\", \"Topic6\", \"Topic6\", \"Topic6\", \"Topic6\", \"Topic6\", \"Topic6\", \"Topic6\", \"Topic6\", \"Topic6\", \"Topic6\", \"Topic6\", \"Topic6\", \"Topic6\", \"Topic6\", \"Topic6\", \"Topic6\", \"Topic6\", \"Topic6\", \"Topic6\", \"Topic6\", \"Topic6\", \"Topic6\", \"Topic6\", \"Topic6\", \"Topic6\", \"Topic6\", \"Topic6\", \"Topic6\", \"Topic6\", \"Topic6\", \"Topic6\", \"Topic6\", \"Topic6\", \"Topic6\", \"Topic6\", \"Topic6\", \"Topic6\", \"Topic6\", \"Topic6\", \"Topic6\", \"Topic6\", \"Topic6\", \"Topic6\", \"Topic6\", \"Topic6\", \"Topic6\", \"Topic6\", \"Topic6\", \"Topic6\", \"Topic6\", \"Topic6\", \"Topic6\", \"Topic6\", \"Topic6\", \"Topic6\", \"Topic6\", \"Topic6\", \"Topic6\", \"Topic6\", \"Topic6\", \"Topic6\", \"Topic6\", \"Topic6\", \"Topic6\", \"Topic6\"], \"logprob\": [30.0, 29.0, 28.0, 27.0, 26.0, 25.0, 24.0, 23.0, 22.0, 21.0, 20.0, 19.0, 18.0, 17.0, 16.0, 15.0, 14.0, 13.0, 12.0, 11.0, 10.0, 9.0, 8.0, 7.0, 6.0, 5.0, 4.0, 3.0, 2.0, 1.0, -7.5938, -8.2243, -8.2543, -8.2703, -8.2595, -8.2789, -8.2356, -7.1748, -8.3133, -8.2932, -9.8355, -7.5071, -8.2572, -8.2508, -8.6088, -7.9724, -8.3618, -10.8831, -8.2527, -8.5106, -8.5029, -7.6179, -8.2033, -8.4976, -7.8715, -8.2762, -8.3502, -7.8684, -8.6648, -11.2764, -7.2811, -7.626, -6.9608, -6.0442, -5.6358, -6.6932, -4.4379, -6.2793, -6.7819, -6.9397, -6.753, -5.2969, -5.1411, -6.6364, -4.7349, -5.6254, -5.3246, -6.1585, -5.8989, -5.5613, -6.8535, -6.2181, -6.4816, -5.8768, -6.3183, -6.073, -6.133, -6.017, -6.029, -5.4347, -6.1459, -6.1729, -5.5392, -5.8026, -5.7637, -5.678, -6.1058, -5.8593, -5.5957, -5.968, -5.8028, -5.8014, -5.9155, -5.9999, -5.9713, -6.0208, -6.0765, -6.0044, -6.0719, -6.7233, -8.1531, -8.2032, -8.2017, -8.2395, -7.9656, -7.1077, -8.196, -7.1071, -8.0913, -6.3358, -6.9648, -8.0593, -8.3361, -6.7049, -8.0752, -8.135, -7.5328, -8.245, -8.0952, -6.7732, -8.1982, -8.3724, -8.0498, -10.5409, -8.3012, -7.0144, -8.0781, -8.0793, -8.0718, -6.4844, -6.1402, -6.9394, -4.3743, -6.9015, -6.7481, -6.0888, -6.4986, -7.0489, -5.4292, -5.8866, -6.3725, -6.3552, -6.5868, -6.3401, -5.207, -6.3165, -6.4138, -5.7666, -5.3025, -5.2483, -5.2802, -6.4179, -5.4654, -5.7121, -5.2629, -5.7107, -4.9746, -5.5654, -6.3401, -5.6431, -5.9783, -5.7835, -5.6454, -5.5996, -5.8693, -5.8835, -6.0321, -6.0381, -6.0642, -5.948, -6.074, -5.9212, -5.8936, -5.9458, -5.9197, -5.858, -6.002, -6.0336, -5.7227, -7.7827, -7.7637, -8.4341, -8.3323, -5.766, -8.4653, -8.4442, -7.7138, -7.7266, -8.3506, -8.4613, -8.4427, -8.4409, -8.478, -8.437, -8.4301, -7.7528, -8.3812, -8.3682, -8.4165, -8.4789, -8.4294, -7.6436, -8.4395, -6.5828, -8.4308, -8.4149, -8.4596, -7.7385, -8.3212, -6.5655, -6.9928, -7.2428, -7.3827, -5.3706, -5.6492, -5.6785, -7.1618, -7.1754, -7.2861, -4.5942, -7.6014, -7.4176, -7.2474, -7.5869, -7.5015, -7.0591, -5.9554, -6.1656, -6.8734, -5.5346, -6.8025, -6.3994, -6.3159, -6.1986, -6.2706, -6.5108, -6.1381, -6.5247, -5.6992, -6.2391, -5.5231, -6.5171, -5.6218, -5.9642, -5.887, -5.6617, -6.3956, -5.5427, -5.6363, -5.684, -5.8872, -5.6063, -5.8277, -5.7039, -5.9182, -5.8962, -6.0308, -5.8608, -5.8954, -6.1007, -6.0859, -5.8331, -6.0756, -6.0892, -8.3084, -7.4751, -7.6345, -7.3993, -7.6201, -6.6705, -5.0007, -8.3312, -6.5476, -7.2835, -7.6371, -8.3477, -8.3047, -8.2449, -6.0938, -5.1095, -8.3349, -7.4262, -7.1402, -6.7026, -8.2038, -8.3606, -8.3504, -6.7989, -7.6092, -7.8115, -8.412, -7.2033, -8.2928, -7.0888, -7.1135, -5.5363, -5.9131, -6.5156, -5.8884, -6.1744, -5.4636, -6.896, -5.7652, -6.9915, -7.1512, -5.5628, -6.7756, -6.6132, -6.0087, -5.2562, -4.6452, -5.1727, -5.337, -5.4177, -6.3125, -5.6198, -5.8127, -5.7118, -5.7119, -5.9397, -6.181, -5.9786, -5.5826, -5.6789, -5.8145, -5.7287, -5.657, -5.8035, -5.7008, -6.0506, -5.9444, -5.8818, -5.781, -5.9335, -5.9496, -7.6406, -6.7405, -7.997, -7.8942, -7.7728, -10.4079, -9.8479, -9.3643, -7.7917, -6.7311, -7.781, -9.2127, -7.1532, -8.0798, -7.2769, -9.3725, -7.1326, -7.2638, -7.2448, -7.8481, -8.1689, -7.091, -7.1326, -7.8835, -10.3398, -8.8557, -7.9335, -6.9759, -7.5776, -9.7931, -7.3019, -7.295, -6.3119, -6.2016, -6.5402, -6.4514, -5.4905, -6.1828, -6.8589, -6.286, -7.3351, -6.0612, -5.5936, -6.3421, -6.994, -5.1988, -5.7137, -5.408, -6.0701, -5.3551, -5.2486, -5.751, -6.2281, -6.1033, -5.3506, -5.4928, -6.3067, -5.4918, -5.9174, -5.2389, -5.818, -5.7993, -5.7134, -5.7055, -5.8286, -5.6312, -5.799, -5.8401, -5.962, -5.5593, -5.8878, -5.7411, -5.8912, -5.9761, -6.0173, -7.3492, -7.3822, -6.752, -8.0732, -5.6139, -6.6155, -8.2649, -8.0954, -7.2837, -8.0823, -8.204, -5.0245, -8.1033, -8.0672, -5.4314, -8.1321, -5.706, -8.2636, -8.2091, -7.9996, -7.32, -7.1765, -8.2626, -8.2017, -7.8713, -8.1839, -6.9546, -7.0806, -8.3105, -7.8775, -6.2523, -7.137, -5.9058, -6.3694, -4.4677, -5.2635, -6.8051, -6.3471, -6.9958, -5.9272, -5.6987, -5.6965, -6.3149, -5.4417, -5.797, -5.771, -4.9419, -5.0075, -5.81, -6.1586, -5.2869, -6.2581, -5.8385, -5.6656, -5.6629, -5.4146, -5.5767, -5.5965, -5.3703, -5.6072, -5.7265, -5.4747, -5.7585, -5.6597, -5.7393, -5.6761, -5.7416, -5.6863, -5.7875], \"loglift\": [30.0, 29.0, 28.0, 27.0, 26.0, 25.0, 24.0, 23.0, 22.0, 21.0, 20.0, 19.0, 18.0, 17.0, 16.0, 15.0, 14.0, 13.0, 12.0, 11.0, 10.0, 9.0, 8.0, 7.0, 6.0, 5.0, 4.0, 3.0, 2.0, 1.0, 1.0371, 1.0214, 1.0211, 1.0172, 1.0168, 1.0124, 1.0121, 1.012, 1.0034, 0.9928, 0.987, 0.9846, 0.9818, 0.9788, 0.9746, 0.9649, 0.9615, 0.9457, 0.9384, 0.9289, 0.9288, 0.9256, 0.9219, 0.9163, 0.9156, 0.9142, 0.9109, 0.9024, 0.8992, 0.8947, 0.8806, 0.8804, 0.8499, 0.7841, 0.7522, 0.8073, 0.6624, 0.7575, 0.798, 0.7892, 0.7515, 0.5545, 0.5169, 0.6728, 0.2959, 0.4224, 0.3379, 0.5156, 0.4459, 0.3537, 0.65, 0.4798, 0.5494, 0.3762, 0.4978, 0.4111, 0.4265, 0.3843, 0.3817, 0.1282, 0.4068, 0.3997, 0.0936, 0.2185, 0.177, 0.1249, 0.3542, 0.1646, -0.0196, 0.2321, -0.0262, -0.1195, -0.0088, 0.0989, -0.0569, -0.0232, 0.1956, -0.1687, 0.0591, 1.493, 1.4909, 1.4822, 1.4808, 1.4688, 1.466, 1.4475, 1.4442, 1.4398, 1.4298, 1.4111, 1.4098, 1.4061, 1.4057, 1.4044, 1.3888, 1.3861, 1.3834, 1.3813, 1.3803, 1.3738, 1.3582, 1.3519, 1.3514, 1.3465, 1.3453, 1.3407, 1.3354, 1.3337, 1.3317, 1.3208, 1.2874, 1.3066, 1.2059, 1.2795, 1.2352, 1.1779, 1.2091, 1.2418, 1.0042, 1.0226, 1.0893, 1.0835, 1.1236, 1.0626, 0.7783, 1.0275, 1.0225, 0.8397, 0.6909, 0.6574, 0.6618, 0.9779, 0.5017, 0.5867, 0.3132, 0.5682, 0.0562, 0.3715, 0.9093, 0.1334, 0.472, 0.2141, 0.0365, -0.0366, 0.2814, 0.2724, 0.4909, 0.493, 0.499, 0.2628, 0.4973, 0.0705, -0.0422, 0.0781, -0.2868, -0.7577, -0.1664, 0.3273, 1.6169, 1.6142, 1.5763, 1.5737, 1.5702, 1.5658, 1.5643, 1.564, 1.5629, 1.5611, 1.561, 1.5592, 1.558, 1.5573, 1.5526, 1.5501, 1.5487, 1.5469, 1.5445, 1.5443, 1.5417, 1.5415, 1.5406, 1.5396, 1.5387, 1.5385, 1.5354, 1.5336, 1.5311, 1.5303, 1.5289, 1.4753, 1.4835, 1.4889, 1.4823, 1.3501, 1.3511, 1.3364, 1.448, 1.4029, 1.4087, 1.0569, 1.4454, 1.4064, 1.3733, 1.4231, 1.4055, 1.3216, 1.1, 1.1199, 1.254, 0.9324, 1.1809, 1.0452, 1.0024, 0.9208, 0.9321, 1.0313, 0.844, 1.0129, 0.5843, 0.825, 0.3837, 0.9421, 0.3699, 0.551, 0.4549, 0.2528, 0.8216, 0.1198, 0.1666, 0.1517, 0.3402, -0.0433, 0.1091, -0.071, 0.2128, 0.0445, 0.2284, -0.2847, -0.2135, 0.3495, 0.296, -0.7328, 0.2408, -0.3127, 2.1585, 2.1295, 2.1215, 2.0985, 2.0925, 2.0917, 2.0705, 2.0455, 2.0405, 2.0377, 2.0041, 1.9807, 1.9717, 1.9506, 1.9343, 1.9322, 1.9291, 1.9253, 1.9248, 1.9231, 1.9226, 1.9198, 1.9139, 1.902, 1.899, 1.8955, 1.8942, 1.8934, 1.851, 1.8422, 1.8086, 1.6373, 1.6556, 1.6576, 1.5585, 1.5748, 1.4084, 1.6258, 1.3131, 1.6064, 1.6504, 0.9605, 1.4865, 1.4083, 1.1079, 0.7109, 0.3856, 0.5092, 0.5697, 0.5594, 1.1954, 0.5361, 0.6655, 0.499, 0.4881, 0.6234, 0.8662, 0.5927, 0.0502, 0.124, 0.2843, 0.0479, -0.0941, 0.1819, -0.1247, 0.6474, 0.2802, -0.0461, -0.6807, 0.0641, -0.0439, 2.2927, 2.1842, 2.1532, 2.1428, 2.1118, 2.0911, 2.0399, 2.0378, 2.0149, 2.003, 1.9677, 1.954, 1.9227, 1.8898, 1.8774, 1.8751, 1.8593, 1.8454, 1.8153, 1.8068, 1.8052, 1.7914, 1.7861, 1.7841, 1.7741, 1.7644, 1.7609, 1.7583, 1.7513, 1.7452, 1.7317, 1.7304, 1.7004, 1.6786, 1.6332, 1.5995, 1.4785, 1.5577, 1.6411, 1.5139, 1.6801, 1.3534, 1.2163, 1.4105, 1.5564, 0.7783, 0.957, 0.613, 0.9655, 0.4806, 0.3843, 0.6652, 0.9921, 0.8691, 0.2123, 0.2838, 1.0011, 0.1707, 0.5381, -0.2081, 0.4259, 0.4008, 0.2273, 0.2089, 0.2997, -0.0551, 0.2445, 0.2587, 0.5191, -0.459, 0.3367, -0.0592, 0.3034, 0.2831, 0.2723, 2.5848, 2.47, 2.4606, 2.4313, 2.3644, 2.3476, 2.3121, 2.243, 2.2084, 2.1832, 2.1515, 2.1449, 2.1391, 2.1385, 2.125, 2.111, 2.0764, 2.0754, 2.0661, 2.0351, 2.0316, 1.9835, 1.9798, 1.9733, 1.9721, 1.9301, 1.923, 1.9203, 1.8971, 1.8865, 1.8554, 1.8642, 1.8114, 1.7753, 1.5258, 1.5627, 1.7594, 1.6553, 1.795, 1.5127, 1.3834, 1.3826, 1.5648, 1.2323, 1.3474, 1.3234, 0.9731, 0.9293, 1.2798, 1.4343, 0.8414, 1.4268, 1.1347, 0.8574, 0.8316, 0.5829, 0.6955, 0.7033, 0.2876, 0.0439, 0.2588, -0.3744, 0.2851, 0.0221, 0.1751, -0.1, 0.0941, -0.6555, 0.2603]}, \"token.table\": {\"Topic\": [1, 2, 3, 4, 5, 6, 1, 2, 3, 4, 5, 6, 1, 2, 3, 4, 5, 6, 1, 2, 3, 4, 5, 6, 1, 2, 3, 4, 5, 6, 1, 2, 3, 4, 5, 6, 1, 2, 3, 4, 5, 6, 1, 2, 3, 4, 5, 6, 1, 2, 3, 4, 5, 6, 1, 2, 3, 4, 5, 6, 1, 2, 3, 4, 5, 6, 1, 2, 3, 4, 5, 6, 1, 2, 3, 4, 5, 6, 1, 2, 3, 4, 5, 6, 1, 2, 3, 4, 5, 6, 1, 2, 3, 4, 5, 6, 1, 2, 3, 4, 5, 6, 1, 2, 3, 4, 5, 6, 1, 2, 3, 4, 5, 6, 1, 2, 3, 4, 5, 6, 1, 2, 3, 4, 5, 6, 1, 2, 3, 4, 5, 6, 1, 2, 3, 4, 5, 6, 1, 2, 3, 4, 5, 6, 1, 2, 3, 4, 5, 6, 1, 2, 3, 4, 5, 6, 1, 2, 3, 4, 5, 6, 1, 2, 3, 4, 5, 6, 1, 2, 3, 4, 5, 6, 1, 2, 3, 4, 5, 6, 1, 2, 3, 4, 5, 6, 1, 2, 3, 4, 5, 6, 1, 2, 3, 4, 5, 6, 1, 2, 3, 4, 5, 6, 1, 2, 3, 4, 5, 6, 1, 2, 3, 4, 5, 6, 1, 2, 3, 4, 5, 6, 1, 2, 3, 4, 5, 6, 1, 2, 3, 4, 5, 6, 1, 2, 3, 4, 5, 6, 1, 2, 3, 4, 5, 6, 1, 2, 3, 4, 5, 6, 1, 2, 3, 4, 5, 6, 1, 2, 3, 4, 5, 6, 1, 2, 3, 4, 5, 6, 1, 2, 3, 4, 5, 6, 1, 2, 3, 4, 5, 6, 1, 2, 3, 4, 5, 6, 1, 2, 3, 4, 5, 6, 1, 2, 3, 4, 5, 6, 1, 2, 3, 4, 5, 6, 1, 2, 3, 4, 5, 6, 1, 2, 3, 4, 5, 6, 1, 2, 3, 4, 5, 6, 1, 2, 3, 4, 5, 6, 1, 2, 3, 4, 5, 6, 1, 2, 3, 4, 5, 6, 1, 2, 3, 4, 5, 6, 1, 2, 3, 4, 5, 6, 1, 2, 3, 4, 5, 6, 1, 2, 3, 4, 5, 6, 1, 2, 3, 4, 5, 6, 1, 2, 3, 4, 5, 6, 1, 2, 3, 4, 5, 6, 1, 2, 3, 4, 5, 6, 1, 2, 3, 4, 5, 6, 1, 2, 3, 4, 5, 6, 1, 2, 3, 4, 5, 6, 1, 2, 3, 4, 5, 6, 1, 2, 3, 4, 5, 6, 1, 2, 3, 4, 5, 6, 1, 2, 3, 4, 5, 6, 1, 2, 3, 4, 5, 6, 1, 2, 3, 4, 5, 6, 1, 2, 3, 4, 5, 6, 1, 2, 3, 4, 5, 6, 1, 2, 3, 4, 5, 6, 1, 2, 3, 4, 5, 6, 1, 2, 3, 4, 5, 6, 1, 2, 3, 4, 5, 6, 1, 2, 3, 4, 5, 6, 1, 2, 3, 4, 5, 6, 1, 2, 3, 4, 5, 6, 1, 2, 3, 4, 5, 6, 1, 2, 3, 4, 5, 6, 1, 2, 3, 4, 5, 6, 1, 2, 3, 4, 5, 6, 1, 2, 3, 4, 5, 6, 1, 2, 3, 4, 5, 6, 1, 2, 3, 4, 5, 6, 1, 2, 3, 4, 5, 6, 1, 2, 3, 4, 5, 6, 1, 2, 3, 4, 5, 6, 1, 2, 3, 4, 5, 6, 1, 2, 3, 4, 5, 6, 1, 2, 3, 4, 5, 6, 1, 2, 3, 4, 5, 6, 1, 2, 3, 4, 5, 6, 1, 2, 3, 4, 5, 6, 1, 2, 3, 4, 5, 6, 1, 2, 3, 4, 5, 6, 1, 2, 3, 4, 5, 6, 1, 2, 3, 4, 5, 6, 1, 2, 3, 4, 5, 6, 1, 2, 3, 4, 5, 6, 1, 2, 3, 4, 5, 6, 1, 2, 3, 4, 5, 6, 1, 2, 3, 4, 5, 6, 1, 2, 3, 4, 5, 6, 1, 2, 3, 4, 5, 6, 1, 2, 3, 4, 5, 6, 1, 2, 3, 4, 5, 6, 1, 2, 3, 4, 5, 6, 1, 2, 3, 4, 5, 6, 1, 2, 3, 4, 5, 6, 1, 2, 3, 4, 5, 6, 1, 2, 3, 4, 5, 6, 1, 2, 3, 4, 5, 6, 1, 2, 3, 4, 5, 6, 1, 2, 3, 4, 5, 6, 1, 2, 3, 4, 5, 6, 1, 2, 3, 4, 5, 6, 1, 2, 3, 4, 5, 6, 1, 2, 3, 4, 5, 6, 1, 2, 3, 4, 5, 6, 1, 2, 3, 4, 5, 6, 1, 2, 3, 4, 5, 6, 1, 2, 3, 4, 5, 6, 1, 2, 3, 4, 5, 6, 1, 2, 3, 4, 5, 6, 1, 2, 3, 4, 5, 6, 1, 2, 3, 4, 5, 6, 1, 2, 3, 4, 5, 6, 1, 2, 3, 4, 5, 6, 1, 2, 3, 4, 5, 6, 1, 2, 3, 4, 5, 6, 1, 2, 3, 4, 5, 6, 1, 2, 3, 4, 5, 6, 1, 2, 3, 4, 5, 6, 1, 2, 3, 4, 5, 6, 1, 2, 3, 4, 5, 6, 1, 2, 3, 4, 5, 6, 1, 2, 3, 4, 5, 6, 1, 2, 3, 4, 5, 6, 1, 2, 3, 4, 5, 6, 1, 2, 3, 4, 5, 6, 1, 2, 3, 4, 5, 6, 1, 2, 3, 4, 5, 6, 1, 2, 3, 4, 5, 6, 1, 2, 3, 4, 5, 6, 1, 2, 3, 4, 5, 6, 1, 2, 3, 4, 5, 6, 1, 2, 3, 4, 5, 6, 1, 2, 3, 4, 5, 6, 1, 2, 3, 4, 5, 6, 1, 2, 3, 4, 5, 6, 1, 2, 3, 4, 5, 6, 1, 2, 3, 4, 5, 6, 1, 2, 3, 4, 5, 6, 1, 2, 3, 4, 5, 6, 1, 2, 3, 4, 5, 6, 1, 2, 3, 4, 5, 6, 1, 2, 3, 4, 5, 6, 1, 2, 3, 4, 5, 6, 1, 2, 3, 4, 5, 6, 1, 2, 3, 4, 5, 6, 1, 2, 3, 4, 5, 6, 1, 2, 3, 4, 5, 6, 1, 2, 3, 4, 5, 6, 1, 2, 3, 4, 5, 6, 1, 2, 3, 4, 5, 6, 1, 2, 3, 4, 5, 6, 1, 2, 3, 4, 5, 6, 1, 2, 3, 4, 5, 6, 1, 2, 3, 4, 5, 6, 1, 2, 3, 4, 5, 6, 1, 2, 3, 4, 5, 6, 1, 2, 3, 4, 5, 6, 1, 2, 3, 4, 5, 6, 1, 2, 3, 4, 5, 6, 1, 2, 3, 4, 5, 6, 1, 2, 3, 4, 5, 6, 1, 2, 3, 4, 5, 6, 1, 2, 3, 4, 5, 6, 1, 2, 3, 4, 5, 6, 1, 2, 3, 4, 5, 6, 1, 2, 3, 4, 5, 6, 1, 2, 3, 4, 5, 6, 1, 2, 3, 4, 5, 6, 1, 2, 3, 4, 5, 6, 1, 2, 3, 4, 5, 6, 1, 2, 3, 4, 5, 6, 1, 2, 3, 4, 5, 6, 1, 2, 3, 4, 5, 6, 1, 2, 3, 4, 5, 6, 1, 2, 3, 4, 5, 6, 1, 2, 3, 4, 5, 6, 1, 2, 3, 4, 5, 6, 1, 2, 3, 4, 5, 6, 1, 2, 3, 4, 5, 6, 1, 2, 3, 4, 5, 6, 1, 2, 3, 4, 5, 6, 1, 2, 3, 4, 5, 6, 1, 2, 3, 4, 5, 6, 1, 2, 3, 4, 5, 6, 1, 2, 3, 4, 5, 6, 1, 2, 3, 4, 5, 6, 1, 2, 3, 4, 5, 6, 1, 2, 3, 4, 5, 6, 1, 2, 3, 4, 5, 6, 1, 2, 3, 4, 5, 6, 1, 2, 3, 4, 5, 6, 1, 2, 3, 4, 5, 6, 1, 2, 3, 4, 5, 6, 1, 2, 3, 4, 5, 6, 1, 2, 3, 4, 5, 6, 1, 2, 3, 4, 5, 6, 1, 2, 3, 4, 5, 6, 1, 2, 3, 4, 5, 6, 1, 2, 3, 4, 5, 6, 1, 2, 3, 4, 5, 6, 1, 2, 3, 4, 5, 6, 1, 2, 3, 4, 5, 6, 1, 2, 3, 4, 5, 6, 1, 2, 3, 4, 5, 6, 1, 2, 3, 4, 5, 6, 1, 2, 3, 4, 5, 6, 1, 2, 3, 4, 5, 6, 1, 2, 3, 4, 5, 6, 1, 2, 3, 4, 5, 6, 1, 2, 3, 4, 5, 6, 1, 2, 3, 4, 5, 6, 1, 2, 3, 4, 5, 6, 1, 2, 3, 4, 5, 6, 1, 2, 3, 4, 5, 6, 1, 2, 3, 4, 5, 6, 1, 2, 3, 4, 5, 6, 1, 2, 3, 4, 5, 6, 1, 2, 3, 4, 5, 6, 1, 2, 3, 4, 5, 6, 1, 2, 3, 4, 5, 6, 1, 2, 3, 4, 5, 6, 1, 2, 3, 4, 5, 6, 1, 2, 3, 4, 5, 6, 1, 2, 3, 4, 5, 6, 1, 2, 3, 4, 5, 6, 1, 2, 3, 4, 5, 6, 1, 2, 3, 4, 5, 6, 1, 2, 3, 4, 5, 6, 1, 2, 3, 4, 5, 6, 1, 2, 3, 4, 5, 6, 1, 2, 3, 4, 5, 6, 1, 2, 3, 4, 5, 6, 1, 2, 3, 4, 5, 6, 1, 2, 3, 4, 5, 6, 1, 2, 3, 4, 5, 6, 1, 2, 3, 4, 5, 6, 1, 2, 3, 4, 5, 6, 1, 2, 3, 4, 5, 6, 1, 2, 3, 4, 5, 6, 1, 2, 3, 4, 5, 6, 1, 2, 3, 4, 5, 6, 1, 2, 3, 4, 5, 6, 1, 2, 3, 4, 5, 6, 1, 2, 3, 4, 5, 6, 1, 2, 3, 4, 5, 6, 1, 2, 3, 4, 5, 6, 1, 2, 3, 4, 5, 6, 1, 2, 3, 4, 5, 6, 1, 2, 3, 4, 5, 6, 1, 2, 3, 4, 5, 6, 1, 2, 3, 4, 5, 6, 1, 2, 3, 4, 5, 6, 1, 2, 3, 4, 5, 6, 1, 2, 3, 4, 5, 6, 1, 2, 3, 4, 5, 6, 1, 2, 3, 4, 5, 6, 1, 2, 3, 4, 5, 6, 1, 2, 3, 4, 5, 6, 1, 2, 3, 4, 5, 6, 1, 2, 3, 4, 5, 6, 1, 2, 3, 4, 5, 6, 1, 2, 3, 4, 5, 6, 1, 2, 3, 4, 5, 6, 1, 2, 3, 4, 5, 6, 1, 2, 3, 4, 5, 6, 1, 2, 3, 4, 5, 6, 1, 2, 3, 4, 5, 6, 1, 2, 3, 4, 5, 6, 1, 2, 3, 4, 5, 6, 1, 2, 3, 4, 5, 6, 1, 2, 3, 4, 5, 6, 1, 2, 3, 4, 5, 6, 1, 2, 3, 4, 5, 6, 1, 2, 3, 4, 5, 6, 1, 2, 3, 4, 5, 6, 1, 2, 3, 4, 5, 6, 1, 2, 3, 4, 5, 6, 1, 2, 3, 4, 5, 6, 1, 2, 3, 4, 5, 6, 1, 2, 3, 4, 5, 6, 1, 2, 3, 4, 5, 6, 1, 2, 3, 4, 5, 6, 1, 2, 3, 4, 5, 6, 1, 2, 3, 4, 5, 6, 1, 2, 3, 4, 5, 6, 1, 2, 3, 4, 5, 6, 1, 2, 3, 4, 5, 6, 1, 2, 3, 4, 5, 6, 1, 2, 3, 4, 5, 6, 1, 2, 3, 4, 5, 6, 1, 2, 3, 4, 5, 6, 1, 2, 3, 4, 5, 6, 1, 2, 3, 4, 5, 6, 1, 2, 3, 4, 5, 6, 1, 2, 3, 4, 5, 6, 1, 2, 3, 4, 5, 6, 1, 2, 3, 4, 5, 6, 1, 2, 3, 4, 5, 6, 1, 2, 3, 4, 5, 6, 1, 2, 3, 4, 5, 6, 1, 2, 3, 4, 5, 6, 1, 2, 3, 4, 5, 6, 1, 2, 3, 4, 5, 6, 1, 2, 3, 4, 5, 6, 1, 2, 3, 4, 5, 6, 1, 2, 3, 4, 5, 6, 1, 2, 3, 4, 5, 6, 1, 2, 3, 4, 5, 6, 1, 2, 3, 4, 5, 6, 1, 2, 3, 4, 5, 6, 1, 2, 3, 4, 5, 6, 1, 2, 3, 4, 5, 6, 1, 2, 3, 4, 5, 6, 1, 2, 3, 4, 5, 6, 1, 2, 3, 4, 5, 6, 1, 2, 3, 4, 5, 6, 1, 2, 3, 4, 5, 6, 1, 2, 3, 4, 5, 6, 1, 2, 3, 4, 5, 6, 1, 2, 3, 4, 5, 6, 1, 2, 3, 4, 5, 6, 1, 2, 3, 4, 5, 6, 1, 2, 3, 4, 5, 6, 1, 2, 3, 4, 5, 6, 1, 2, 3, 4, 5, 6, 1, 2, 3, 4, 5, 6, 1, 2, 3, 4, 5, 6, 1, 2, 3, 4, 5, 6, 1, 2, 3, 4, 5, 6, 1, 2, 3, 4, 5, 6, 1, 2, 3, 4, 5, 6, 1, 2, 3, 4, 5, 6, 1, 2, 3, 4, 5, 6, 1, 2, 3, 4, 5, 6, 1, 2, 3, 4, 5, 6, 1, 2, 3, 4, 5, 6, 1, 2, 3, 4, 5, 6, 1, 2, 3, 4, 5, 6, 1, 2, 3, 4, 5, 6, 1, 2, 3, 4, 5, 6, 1, 2, 3, 4, 5, 6, 1, 2, 3, 4, 5, 6, 1, 2, 3, 4, 5, 6, 1, 2, 3, 4, 5, 6, 1, 2, 3, 4, 5, 6, 1, 2, 3, 4, 5, 6, 1, 2, 3, 4, 5, 6, 1, 2, 3, 4, 5, 6, 1, 2, 3, 4, 5, 6, 1, 2, 3, 4, 5, 6, 1, 2, 3, 4, 5, 6, 1, 2, 3, 4, 5, 6, 1, 2, 3, 4, 5, 6, 1, 2, 3, 4, 5, 6], \"Freq\": [0.1165743409102928, 0.2603493613663206, 0.07123987500073449, 0.031086490909411412, 0.02590540909117618, 0.4934980431869062, 0.38207483620278654, 0.17886063009930311, 0.09645044216959008, 0.20665198002491783, 0.09281989587872942, 0.043116753294999956, 0.9292511360991681, 0.010170375337490895, 0.05085187668745448, 0.003211697474997125, 0.003746980387496646, 0.003211697474997125, 0.8294860492649713, 0.04767161202672249, 0.03813728962137799, 0.03813728962137799, 0.03813728962137799, 0.019068644810688994, 0.07145894565075876, 0.7927098292952816, 0.0456610551022645, 0.036335057110555305, 0.04057414710678676, 0.013201737416835094, 0.05730870753186847, 0.7276469229046331, 0.174531063847054, 0.02069481105317473, 0.013314144174070454, 0.006657072087035227, 0.20061321581376737, 0.3040684616370106, 0.07673680407584914, 0.35102814713243063, 0.043091358912463934, 0.024469414664280147, 0.11477069265965721, 0.036243376629365436, 0.027182532472024075, 0.7701717533740154, 0.04228393940092634, 0.007550703464451132, 0.10665079181304404, 0.0945323141252663, 0.7448360289653398, 0.014329281049737203, 0.015107156306722937, 0.02456448179954949, 0.04813115323619459, 0.06363101614276573, 0.010605169357127622, 0.8606502824438185, 0.011420951615368208, 0.005710475807684104, 0.086322797288087, 0.11480823729657744, 0.7456578393097051, 0.01445933931989914, 0.03168057491438576, 0.00709428258766587, 0.5553452340788487, 0.0958082012235957, 0.12571729648098523, 0.14341951701736186, 0.044638423795290705, 0.03504409052748352, 0.07430674474545035, 0.38808238740418605, 0.07398226114394182, 0.021415917699562106, 0.029852491338783545, 0.4124186575173248, 0.22890227528758794, 0.09695096369214351, 0.057225568821896985, 0.557380540360067, 0.03587535660088343, 0.02362523483472811, 0.008923639087111327, 0.010113457632059505, 0.9702970234052383, 0.0029745463623704425, 0.004164364907318619, 0.004164364907318619, 0.061294138728994384, 0.8459938268529335, 0.020880420885701384, 0.033004536238689285, 0.02626891659814045, 0.012797677317042783, 0.06743162931372808, 0.1035166633789123, 0.7873098341494738, 0.01713127879862281, 0.012757335275570178, 0.0112993541012193, 0.010919051696707883, 0.8626050840399228, 0.11255022518145048, 0.003359708214371656, 0.008399270535929142, 0.001679854107185828, 0.02111769393605016, 0.9194319052157224, 0.015432160953267425, 0.02111769393605016, 0.02111769393605016, 0.0024366569926211725, 0.905896561680464, 0.019801017741649485, 0.034651781047886604, 0.019801017741649485, 0.017325890523943302, 0.004950254435412371, 0.2278219429837248, 0.08053240775238645, 0.009536732496993132, 0.16954191105765568, 0.505446822340636, 0.007417458608772435, 0.1625903470275657, 0.07281399765102178, 0.10963471237227712, 0.092672360646755, 0.46915382577419723, 0.09308607654249945, 0.901206363917947, 0.01320821051965424, 0.02336837245784981, 0.003048048581458671, 0.05588089066007563, 0.003048048581458671, 0.16772438013014315, 0.03870562618387919, 0.012901875394626396, 0.7626441899934714, 0.011468333684112353, 0.0071677085525702205, 0.10223509971230166, 0.10223509971230166, 0.1666053476793064, 0.05679727761794536, 0.5414673799577457, 0.026505396221707837, 0.05275415579107728, 0.09464716186046217, 0.23429051542507848, 0.015515928173846257, 0.013964335356461632, 0.5896052706061577, 0.31185554554077766, 0.20657231453671684, 0.17892532500808675, 0.10547045666678291, 0.1060321336549492, 0.09115809489424906, 0.12442460374659704, 0.15413970892299653, 0.09849787851300547, 0.0272289808389318, 0.04889377863686449, 0.5467105804964654, 0.18800753782517984, 0.20515542574437537, 0.07068740464468377, 0.43436552759762226, 0.045965866227843565, 0.05577826875938323, 0.1864016227737392, 0.5252315572752398, 0.09372187443972202, 0.1697970801561754, 0.011532862236466906, 0.013339214153021963, 0.38423502814397037, 0.023870312369665497, 0.050050654968653456, 0.023100302293224673, 0.5058966202216203, 0.013860181375934803, 0.044951718902018545, 0.35253474036543675, 0.09946010245249773, 0.022298884179741484, 0.01168036790367411, 0.4689844688596423, 0.046948798792343156, 0.8618223554538517, 0.04891867846195196, 0.023802712674439713, 0.01198343465678689, 0.006730422204496747, 0.08470466395476367, 0.07674583646908117, 0.03922564975086371, 0.728232714939948, 0.06423910756300868, 0.006821852130584993, 0.057775473898507214, 0.08201693147830044, 0.8011801730121665, 0.01939316606383459, 0.019797190356831144, 0.01939316606383459, 0.38176791845568986, 0.21813443634282853, 0.08875589790116885, 0.06802006450630417, 0.08588227059605374, 0.1574290595222719, 0.007070537368313762, 0.01132806524600807, 0.9726930654860889, 0.001824654804726132, 0.001216436536484088, 0.00593012811535993, 0.028663501355813185, 0.015174794835430511, 0.9340929265365003, 0.003934206068444948, 0.01573682427377979, 0.0028101471917463907, 0.2458166508689919, 0.23133895650947195, 0.09745069900819724, 0.32161163898647865, 0.06429799553786797, 0.03947909092154807, 0.495711743969626, 0.09516784906432416, 0.20413934988414892, 0.07907350509939781, 0.06015298243453062, 0.06574584133546621, 0.01873467823499372, 0.07192393713204485, 0.7239768761614814, 0.006890916132411483, 0.006675575003273625, 0.17205756218114923, 0.24146471883222465, 0.21959160195376168, 0.19762791316275852, 0.07030644710934524, 0.11203745581225127, 0.15899899246435498, 0.33461013299672654, 0.11591520575373235, 0.2833926301257316, 0.18777936759291436, 0.03851744902413113, 0.03978745440881751, 0.26621513377994693, 0.18818362473125216, 0.15850327619854865, 0.25259508856417473, 0.08336602675820551, 0.0511319197475447, 0.10243949636174741, 0.6507661768873159, 0.16786859403796028, 0.028528848986766216, 0.02963034894764522, 0.020818349260613184, 0.061092009394377075, 0.8044789355893219, 0.06290662353480413, 0.028428954866690323, 0.022985112445409198, 0.01996075554469746, 0.3221963118350332, 0.0186045114445426, 0.038054682500200776, 0.019450171055658175, 0.5936530470031322, 0.0076109365000401556, 0.09446386001143468, 0.09789890946639594, 0.26707509512323807, 0.0446556429144964, 0.04293811818701576, 0.4517090033274058, 0.29144084937446485, 0.2353216575915803, 0.18957367139806935, 0.14058468345787914, 0.11627717035778477, 0.026825522149437484, 0.03356080453858746, 0.005922494918574257, 0.003948329945716172, 0.8660003680937469, 0.07501826896860725, 0.01513526479191199, 0.7161699533072565, 0.04664483566853427, 0.13961160380084897, 0.010156773531348558, 0.03419838486711292, 0.05322031911079461, 0.07707292492339153, 0.8173314829085241, 0.0442123755374494, 0.02031379416585513, 0.0262884395087537, 0.01493661335724642, 0.06544723112862294, 0.030466814490910675, 0.024824811807408698, 0.06883243273872412, 0.7075071365111479, 0.10268444883973599, 0.019045221317117018, 0.00436452988517265, 0.4285174796351329, 0.005951631661599068, 0.5328694214351699, 0.009125835214451905, 0.027530449527748604, 0.03238876415029248, 0.9068853962081893, 0.016734194810984447, 0.005398127358382079, 0.011336067452602367, 0.051503085368673034, 0.8439148416838281, 0.009196979530120185, 0.0651146150732509, 0.019129717422649985, 0.011404254617349029, 0.11588870963208418, 0.4222211328050272, 0.09792269488973615, 0.022002432151421822, 0.026751158515038044, 0.31521649874487506, 0.8441292192537786, 0.024204422057456015, 0.009076658271546006, 0.023599311506019616, 0.09439724602407847, 0.0042357738600548025, 0.14096783129146614, 0.018018444601164845, 0.008479268047606986, 0.8171894580881234, 0.008744245174094705, 0.00635945103570524, 0.23157385007968734, 0.19462948028467628, 0.16856598652518218, 0.1858313479625767, 0.18080940517695349, 0.03857942093451629, 0.3837320463054958, 0.20396498689777182, 0.18489995311773413, 0.09668879479808597, 0.10267073859546623, 0.02805724606900286, 0.11727664440084025, 0.03486602941646602, 0.011093736632511914, 0.8209365108058817, 0.009508917113581641, 0.006339278075721095, 0.9285707658716686, 0.018802005956522802, 0.033524331375309524, 0.007804606246103805, 0.0067403417579987406, 0.004434435367104435, 0.5876924894396663, 0.20282660441099096, 0.05492934445795287, 0.050329011859599315, 0.04306803913906367, 0.061160391969901896, 0.030873641822549026, 0.03726129185480055, 0.9081109129184248, 0.011710691725794458, 0.0053230416935429355, 0.0053230416935429355, 0.4810563059015802, 0.17506436525759894, 0.11717229276747566, 0.1532325864220865, 0.048364330859596176, 0.025112855423508516, 0.09279451694127257, 0.04860665173114277, 0.09721330346228554, 0.07953815737823362, 0.636305259025869, 0.044187865210129795, 0.15649906671588226, 0.3131456349084053, 0.08894339041439868, 0.04867548729146197, 0.03392533962738258, 0.35872359119041064, 0.024117962827469867, 0.015347794526571732, 0.9230602136695285, 0.005481355188061333, 0.0065776262256736, 0.025214233865082133, 0.27664361351036637, 0.04381798720352951, 0.15211425609515425, 0.1271402737511737, 0.39413484862863846, 0.0061299774844315895, 0.03487078380678699, 0.899717502779526, 0.013332946749653848, 0.038460423316309174, 0.008204890307479291, 0.005384459264283285, 0.41011324132544474, 0.026433080007304058, 0.0472591430433618, 0.02483107515837654, 0.48300446195164687, 0.008010024244637592, 0.21525022944060535, 0.0834484585150173, 0.16533713275872586, 0.02729622474790285, 0.4944516140048688, 0.014817950577432978, 0.021572590820816213, 0.08535242455192502, 0.03845548798493325, 0.021572590820816213, 0.022510529552156048, 0.8103790638776178, 0.22638020480243468, 0.14807158778896268, 0.49053280134077937, 0.0872672498726197, 0.018520861549230903, 0.029226745497928697, 0.07263772603248796, 0.8179998465704043, 0.005778000934402451, 0.09327344365535387, 0.005778000934402451, 0.00412714352457318, 0.2535759890824467, 0.4100969523998656, 0.10216714176194636, 0.09791957479391843, 0.07036677313405577, 0.0658748770926457, 0.12483856694629476, 0.0732551807849415, 0.046391185366118574, 0.7333983623268989, 0.012698317162258735, 0.009481410147819854, 0.13984748651484114, 0.04040621561592033, 0.7852974242756464, 0.010757498962680087, 0.01495554733836012, 0.00865847477484007, 0.03695924835282986, 0.019039612787821444, 0.9228612315979335, 0.005599886114065131, 0.010079795005317235, 0.005599886114065131, 0.06339995959948742, 0.11975547924347624, 0.7879709264507722, 0.0023481466518328674, 0.021804218909876626, 0.005031742825356144, 0.0528386650762332, 0.05947311629656741, 0.8511053136943033, 0.013505847127108934, 0.013031957754227918, 0.00995167683050132, 0.13473163423351864, 0.7605988723156621, 0.04585107971297755, 0.022043788323546896, 0.02257283924331202, 0.014108024527070013, 0.3213360182787814, 0.21574126206785704, 0.25959561923420665, 0.05812234163364501, 0.05774302916314432, 0.0874752912739296, 0.06894388598028824, 0.12685675020373036, 0.1346703906148297, 0.2562414428934046, 0.34023807731272243, 0.07296561266247172, 0.48924642296900756, 0.04928724601417122, 0.10161857261777354, 0.06401522416009522, 0.2801897119007245, 0.01562329596634492, 0.9521346920177834, 0.01299748199966187, 0.02212337361644574, 0.005254301233905863, 0.005254301233905863, 0.0019357951914390022, 0.07070698886885533, 0.014482154346633018, 0.01192648005016837, 0.8859670894410788, 0.011074588618013486, 0.005963240025084185, 0.08663593953763311, 0.057757293025088745, 0.06403525965825056, 0.6767648030548442, 0.0904027195175302, 0.02511186653264728, 0.05762101486655091, 0.8418654769463607, 0.021701421183506188, 0.05088609105098003, 0.022449746051902954, 0.004489949210380591, 0.06991114666130478, 0.012206708147211946, 0.9021867021530284, 0.0033291022219668945, 0.009987306665900683, 0.002219401481311263, 0.1949255621699508, 0.6251553236346354, 0.04029468985425339, 0.07202675811447794, 0.02736681019268043, 0.0402107425837237, 0.2124521625603649, 0.046635840562031315, 0.6766375720254579, 0.009360598822486573, 0.019222658296177784, 0.03560370623552928, 0.9285091041158845, 0.013835400558018145, 0.03689440148804839, 0.006661489157564292, 0.009223600372012097, 0.004611800186006048, 0.4252203825872581, 0.008031444791784519, 0.032125779167138074, 0.006692870659820432, 0.5256134424845645, 0.0026771482639281726, 0.24452130450408172, 0.00895955924900452, 0.010079504155130087, 0.6701003688317965, 0.06309022971174016, 0.002986519749668174, 0.09884191292483563, 0.14692716786124216, 0.07880639003466625, 0.03606394120230489, 0.05609946409247428, 0.5810301638149121, 0.03858534982281404, 0.03962819711532252, 0.9020629080198416, 0.006257083755050925, 0.009385625632576387, 0.0031285418775254623, 0.0979866704878725, 0.024306770973735816, 0.025825944159594307, 0.7884508834605556, 0.02278759778787733, 0.04025808942524994, 0.11704878986244652, 0.09003753066342039, 0.24310133279123508, 0.03601501226536816, 0.48620266558247016, 0.02701125919902612, 0.2020861752691324, 0.1743148235757056, 0.0354580651085717, 0.5398056485409831, 0.038681525572987305, 0.009422422895984087, 0.02355227984737987, 0.03873041574902468, 0.8918463302207844, 0.01936520787451234, 0.015701519898253247, 0.010467679932168832, 0.15736620678529234, 0.111704799416013, 0.5917257459716072, 0.02254261909555904, 0.02895250120260298, 0.08772175737505082, 0.4807774926012125, 0.09559211597678954, 0.091970371054592, 0.09414707633611477, 0.05613704629406183, 0.18136162072519488, 0.3284786175512149, 0.05281285100322643, 0.440568843396314, 0.02025935595861473, 0.016392185447995963, 0.1414114589703877, 0.3181842539097177, 0.12212396346288003, 0.24076989029980758, 0.06417538548531683, 0.21805045750124696, 0.036743774032239974, 0.9333992955210414, 0.014765638573214213, 0.03216799832021668, 0.0036914096433035533, 0.005273442347576505, 0.01107422892991066, 0.2995291846848565, 0.21944899294910447, 0.15595860029738284, 0.17675018255553449, 0.07825458939113385, 0.07008284556284289, 0.3183056921621982, 0.009334477776017541, 0.11714769608902015, 0.007467582220814033, 0.54279988267542, 0.005133962776809648, 0.04508494233083592, 0.031130079228434325, 0.9102864546797348, 0.005367255039385228, 0.00751415705513932, 0.002146902015754091, 0.517083107867398, 0.1701655759345265, 0.1810731788973581, 0.03958797752644319, 0.04892739475979423, 0.04314253184659918, 0.028680462406547848, 0.8664068046395946, 0.05992932443159252, 0.022901563264929998, 0.012627964790942709, 0.009631498569363083, 0.4538036021328597, 0.22381146351610784, 0.06318191343714573, 0.15619427344805986, 0.06742829412976423, 0.035587994772656825, 0.10915960258406436, 0.07277306838937624, 0.15363203326646094, 0.1475676109006796, 0.48515378926250824, 0.032343585950833885, 0.059524130705443615, 0.10378566379410681, 0.21367636663492579, 0.03815649404195103, 0.039682753803629074, 0.5464009946807388, 0.3824705949439291, 0.14609012804695423, 0.2280889976347107, 0.1202508352769791, 0.05908693973286081, 0.06400948854536873, 0.06528132128108291, 0.020055258986619418, 0.05005095068834585, 0.8422046150670786, 0.016683650229448614, 0.005696856175909284, 0.4902672034265802, 0.0940075462881064, 0.11221407107554979, 0.028321260780467497, 0.017730537211301082, 0.2574497802459724, 0.2560350911428849, 0.3478565175767194, 0.11632829716022275, 0.1921409188317835, 0.05356249875307013, 0.034062787225454735, 0.12177086873126595, 0.7814414945474749, 0.0359478144168034, 0.016562343815071722, 0.03406572989236343, 0.010163256431975829, 0.8392752287042113, 0.02129349280747071, 0.112180352351553, 0.0062322417973085, 0.014022544043944126, 0.006751595280417542, 0.11599403879155036, 0.06540089421225712, 0.027147540993767108, 0.7268137111513103, 0.04318926976281131, 0.022211624449445817, 0.03364519817310663, 0.015194605626564285, 0.9160176534871611, 0.009767960759934182, 0.015194605626564285, 0.009767960759934182, 0.2156589891536497, 0.11714351623988535, 0.531686987870429, 0.04059245262109951, 0.03642199516002764, 0.058571758119942675, 0.19629497337347934, 0.20342563381816364, 0.43914105078206755, 0.038344117485566556, 0.031415268185543126, 0.0913531781498235, 0.027084061456500063, 0.02625418770713655, 0.9242530275865801, 0.007317977608023694, 0.006638989994908093, 0.008449623629883028, 0.11847501595523079, 0.03286088104880706, 0.7347539138856173, 0.014397242198641219, 0.08698791755896583, 0.012583849097285646, 0.3085385985553287, 0.17065752157350897, 0.27133695892723303, 0.11325499160972687, 0.09425415416526937, 0.04195184898921008, 0.04982759103159507, 0.6870553367633131, 0.22623846651366786, 0.015337003196959052, 0.01215651866302745, 0.009329421299532695, 0.015529649943682711, 0.9416448918793023, 0.032338212235668705, 0.004202140572996498, 0.0029232282246932162, 0.0032886317527798686, 0.03747722984127591, 0.867575018856122, 0.07072684534070058, 0.007655409754163068, 0.010169126389858403, 0.0062842915892383396, 0.8487050546847519, 0.049417121239657025, 0.06120469144361192, 0.013147674458257375, 0.019494827645002315, 0.008160625525814922, 0.9337434188858721, 0.02186378079629969, 0.026663147312560597, 0.0031995776775072715, 0.010131995978773027, 0.004266103570009695, 0.4707035127694238, 0.051298815980790266, 0.10579356458658185, 0.0244202031346254, 0.32139609628859334, 0.026386930903856975, 0.25993479924466323, 0.07540000278488707, 0.48491474282934244, 0.0840624626517592, 0.05734304418915359, 0.03831003377743453, 0.21965503286961913, 0.1077831354917705, 0.5556079424783055, 0.020120642683380964, 0.025207006266749613, 0.07161656128295585, 0.11426318745939588, 0.15079342582931426, 0.029733914952259154, 0.10916594489615146, 0.5101490265380463, 0.08665312357515524, 0.35697177297430616, 0.02681757893796958, 0.060786512259397706, 0.08298550815805031, 0.4547069495482397, 0.017878385958646385, 0.09749592220880887, 0.15834908170826678, 0.0647791697897455, 0.027482072032013243, 0.02813640708039451, 0.6235813011073481, 0.02388905818912425, 0.03384283243459269, 0.9197287402812836, 0.004976887122734219, 0.005972264547281062, 0.010949151670015282, 0.8320701199055829, 0.010178227766429149, 0.06234164506937853, 0.002862626559308198, 0.09033177142705869, 0.002226487323906376, 0.039365616035696355, 0.03617380933009936, 0.8990255554098222, 0.008511484548258673, 0.008511484548258673, 0.008511484548258673, 0.24332501219393354, 0.3494159509019649, 0.08562434889732669, 0.2162482149396585, 0.045847473784996665, 0.059549682217587094, 0.061400857432121245, 0.026930200628123353, 0.8930054528285704, 0.00538604012562467, 0.008617664200999473, 0.004308832100499736, 0.16552806793215114, 0.7323780508627045, 0.009841145536988772, 0.07912281011738972, 0.005707864411453488, 0.007282447697371692, 0.23933263557830953, 0.4899490344147359, 0.0323906084464389, 0.09556507587861399, 0.09907071106560174, 0.043710888737753514, 0.03556894626486803, 0.043993170380231504, 0.8910957064251148, 0.010296273918777587, 0.009360249017070534, 0.01123229882048464, 0.05242394436942707, 0.02726045107210208, 0.8503163776721072, 0.009436309986496874, 0.05521988806912985, 0.005242394436942708, 0.310614906670526, 0.17195306772563265, 0.24261305563389954, 0.09042826794396171, 0.11019654797965653, 0.07416976086499599, 0.0502387077261286, 0.8226588390153559, 0.041865589771773834, 0.04395886926036252, 0.033492471817419066, 0.006977598295295638, 0.8629003854238656, 0.02179041377332994, 0.0493916045528812, 0.018400793853034173, 0.038254281957623676, 0.009200396926517087, 0.5272262173695116, 0.21188016073467572, 0.11296901351272917, 0.0436075012340077, 0.06764645259124599, 0.036662915286361085, 0.37266131711940104, 0.17176584689126778, 0.15259525704240237, 0.14114126930013302, 0.1075487678218459, 0.05428003020280816, 0.1283339460307552, 0.10721570174721322, 0.08812805787555025, 0.15188891080855205, 0.44551373036626096, 0.07919341606328248, 0.4028983301558986, 0.1378780924869669, 0.20188085526678679, 0.10086535107881296, 0.10422502689628738, 0.052253281987982, 0.02637742851012175, 0.035873302773765575, 0.9216273521436539, 0.004747937131821914, 0.0042203885616194795, 0.0068581314126316545, 0.28516530829780123, 0.17914924144188724, 0.2247053964057929, 0.10141989691890277, 0.13425209613806774, 0.07531297576933517, 0.33086448406046237, 0.2778190982585775, 0.0862831264447509, 0.1815739599124634, 0.06195998990988047, 0.06151775106379191, 0.04213437061777105, 0.014933700978450499, 0.9200226495652539, 0.008533543416257427, 0.008533543416257427, 0.005866811098676982, 0.1987948869304013, 0.3067457641180376, 0.2153408734754408, 0.05973381583209181, 0.04580527348626758, 0.17359263849795695, 0.22685672920373615, 0.27770624494969953, 0.0877179352921113, 0.27753820292806713, 0.07474509122209025, 0.055420258734364576, 0.6615001760008279, 0.06866503109117747, 0.13113472103127127, 0.038499620010305734, 0.03842586594898331, 0.061732149326869545, 0.2684298199196668, 0.2167324208513042, 0.34633290823444746, 0.06618853701693685, 0.04196612394961198, 0.060344483209208905, 0.04440873389963669, 0.02788455384395792, 0.8943712455136132, 0.008262090027839383, 0.016524180055678767, 0.00722932877435946, 0.25013880993378523, 0.1812531326089944, 0.18025173408629278, 0.10794021971015427, 0.06719911139181968, 0.21319247496463575, 0.8832310562290081, 0.03868972086109548, 0.027635514900782483, 0.011606916258328642, 0.009396075066266043, 0.02984635609284508, 0.03305578306333283, 0.8927604179643198, 0.008645358647333201, 0.037378462386999434, 0.02364759865299964, 0.004322679323666601, 0.8144102166346234, 0.016952464152547385, 0.11416965653756403, 0.0036326708898315827, 0.00778429476392482, 0.04307309769371734, 0.26995761861053624, 0.24189750771553425, 0.18545475591524294, 0.12027681633633508, 0.043917836400798105, 0.1384728844167147, 0.8858912630864821, 0.024795938661453697, 0.013525057451702018, 0.038696692153480775, 0.032685555508279875, 0.004508352483900672, 0.2484404897807895, 0.09670837857238786, 0.0950409927349329, 0.03334771674909926, 0.47853973534957445, 0.04779839400704228, 0.13846903666390634, 0.11933103972661846, 0.1069476299436675, 0.032647171245961656, 0.07767775227487428, 0.5246062689868322, 0.8517007250308283, 0.020779369072456984, 0.07678230279212764, 0.025847507870617223, 0.015964637214204755, 0.00886924289678042, 0.8296485284781324, 0.013358747492444504, 0.02671749498488901, 0.03796696655747386, 0.007030919732865529, 0.0850741287676729, 0.02278791269099182, 0.9164436238971846, 0.009238342982834522, 0.007390674386267618, 0.041264598656660864, 0.003079447660944841, 0.16487377717679771, 0.5911477114986526, 0.13234194342167227, 0.040855706711249086, 0.041695730587555144, 0.029095372442964302, 0.35736034712559955, 0.07478554924682174, 0.11891366836761717, 0.026631706978164263, 0.4110882675989891, 0.011302991915151111, 0.18550694193060235, 0.1278176131042429, 0.092165803778615, 0.05847288507527434, 0.248387330906023, 0.2876630878828823, 0.20419717766951753, 0.20519164444388208, 0.49040471533163027, 0.023867202584748802, 0.030231789940681816, 0.04614325833051435, 0.039239533592116696, 0.017938072499253346, 0.912599438399514, 0.008969036249626673, 0.014574683905643343, 0.007847906718423338, 0.03190665044831926, 0.04229486222219065, 0.012985264717339235, 0.018550378167627477, 0.7375630359448685, 0.15693619929812846, 0.3562802553730243, 0.2803099221125517, 0.14809699833403936, 0.10370957716356509, 0.054529148073274344, 0.05705300248515838, 0.4917299548389887, 0.10880592918611391, 0.15071750115455101, 0.11821936058906153, 0.05276138527483176, 0.07776982020091876, 0.02367062615814778, 0.020711797888379305, 0.9280858006173774, 0.007890208719382593, 0.008876484809305417, 0.010849036989151066, 0.028493317629389607, 0.016438452478494004, 0.9315123071146603, 0.006575380991397602, 0.007671277823297202, 0.009863071487096402, 0.07158736776043689, 0.8356972955462431, 0.019430856963547155, 0.03920260615452496, 0.02641914762587552, 0.007840521230904993, 0.14003910435842148, 0.15529088800141788, 0.04020924778608141, 0.0707128150720742, 0.027730515714538908, 0.5657025205765936, 0.2684130619880598, 0.059886449692682094, 0.2560788677042909, 0.04492795875279217, 0.36419988993647767, 0.006455769774057755, 0.4122725640878674, 0.13322972194308833, 0.17587493845162877, 0.14645160129726462, 0.1090206470692444, 0.023198146472518576, 0.13654608295955253, 0.07844924007432287, 0.08770032970572886, 0.6483163613689323, 0.030343573991011674, 0.018872222848068235, 0.33047182766708666, 0.019653610896500747, 0.08783465610534903, 0.12786978941303573, 0.42849724497802866, 0.005580654945919966, 0.05158947795495526, 0.10347375292679599, 0.7897612082361437, 0.007959519455907383, 0.020635791181982107, 0.02653173151969128, 0.24359962882650119, 0.042639495469630896, 0.05898782220798714, 0.556129921853908, 0.08221965494144075, 0.01634832673835624, 0.3109499865921651, 0.22703062092714288, 0.2795073812406199, 0.06031766127111739, 0.06521575557211186, 0.056999597389798554, 0.854359855415804, 0.017863327907035553, 0.08562077858889455, 0.003695860946283218, 0.00862367554132751, 0.03018286439464628, 0.8666382374317545, 0.04062366737961349, 0.04062366737961349, 0.013541222459871164, 0.020311833689806744, 0.013541222459871164, 0.05127297452568932, 0.14109705771731046, 0.048574396919074087, 0.02081759867960318, 0.0212031097662625, 0.7170506211863318, 0.26327486233221503, 0.2935021878175632, 0.18779225937163857, 0.1453082962367494, 0.040684037326215325, 0.06945428001406563, 0.15050105301555045, 0.06438253456241097, 0.030540433061656488, 0.7266421956381512, 0.013206673756391995, 0.014582368939349494, 0.41046866906562285, 0.10013343965104048, 0.18230560696780815, 0.07906097167225755, 0.0905906967077951, 0.137389353881519, 0.8946871721530353, 0.007168967725585219, 0.027958974129782353, 0.0028675870902340876, 0.0043013806353511316, 0.06308691598514993, 0.22086235489827186, 0.2420660886214098, 0.13249372161636744, 0.09026393908955922, 0.06781641093014784, 0.2465082116081007, 0.903567016613628, 0.03200383840469042, 0.026950600761844565, 0.0129940396530322, 0.017325386204042934, 0.007218910918351223, 0.17555276262079864, 0.032562205969986845, 0.041056694483896455, 0.7305260121962265, 0.012741732770864416, 0.007078740428258009, 0.1053124254735885, 0.16074001782810876, 0.07759862929632837, 0.047113453501342224, 0.027713796177260133, 0.5819897197224628, 0.2907401660329432, 0.21189594029416203, 0.33497961108806484, 0.050640329343428596, 0.03843864366884343, 0.07327678992551419, 0.09263555411398913, 0.13233650587712734, 0.0397009517631382, 0.026467301175425464, 0.6749161799733494, 0.026467301175425464, 0.016756784004153442, 0.9399032482329703, 0.03503691200868447, 0.003046688000755171, 0.0038083600009439643, 0.0022850160005663785, 0.5652466599953485, 0.025907952684197447, 0.1323142198924473, 0.03184763414422462, 0.009651982372544146, 0.23504726303989087, 0.5297086938615864, 0.013421288730496262, 0.09090079621536112, 0.024203815608894955, 0.014740669656545047, 0.32702448608409196, 0.28260234239814175, 0.036732379934349656, 0.04756589291037905, 0.5046893584067442, 0.10384937829365676, 0.024544677836316593, 0.31888873340867535, 0.1598648712834226, 0.24860962027813138, 0.08863505214799094, 0.10231059237214467, 0.08166930238140997, 0.0691704305004603, 0.040688488529682536, 0.029499154184019837, 0.020344244264841268, 0.8219074682995872, 0.018309819838357142, 0.40958865881653245, 0.11687308651399755, 0.24566028706122, 0.05831357648372008, 0.06659333921781904, 0.10299150410831348, 0.17708516425295825, 0.02860606499470864, 0.030725032772094464, 0.7349791090703977, 0.02436812943993699, 0.004389290396013495, 0.10554031302624224, 0.33153424418026095, 0.06784734408829858, 0.027204490624776725, 0.029662727729425225, 0.4382217345220058, 0.026636833322660772, 0.029966437487993366, 0.9178608815766858, 0.007769076385776058, 0.013318416661330386, 0.0055493402755543274, 0.1833258417508485, 0.5882940105160049, 0.0003955250091711942, 0.22258169891108953, 0.0003955250091711942, 0.005042943866932726, 0.5549286084671191, 0.03973896053339005, 0.06551193663484167, 0.08204172497216011, 0.22392803057779556, 0.03393666748437215, 0.15109289355635583, 0.16366927598383935, 0.18987986739812746, 0.05812169262047293, 0.16390434855257735, 0.27338939744230545, 0.02889165090100794, 0.03586549767021675, 0.9046075523488003, 0.009962638241726876, 0.016936485010935688, 0.0039850552966907505, 0.10475554986436067, 0.052377774932180335, 0.2130029513908667, 0.027934813297162846, 0.5866310792404197, 0.013967406648581423, 0.24608429800610823, 0.023252059654120465, 0.020345552197355406, 0.018407880559512035, 0.6859357597965536, 0.00484417909460843, 0.10969694219635251, 0.061177140840273515, 0.05273891451747716, 0.14977851722963514, 0.549539489272112, 0.07805359348586621, 0.19163884920359753, 0.06469982295619947, 0.6289054379075765, 0.02677733164853893, 0.06962106228620121, 0.018237533987653542, 0.937453200629268, 0.023014399360783994, 0.01022862193812622, 0.006648604259782043, 0.01687722619790826, 0.0056257420659694204, 0.05606607891472866, 0.863290192380197, 0.014653634261804082, 0.036952642921071165, 0.019750550526779414, 0.009556717996828749, 0.27557630305847225, 0.34846639260966605, 0.08953868965981583, 0.19813932692299088, 0.059249429798331255, 0.02906509808879178, 0.21512092260738966, 0.3463748314569622, 0.2415071922832134, 0.09081076893566552, 0.04156091513765818, 0.06462773111870564, 0.3288181706828578, 0.24177572443525217, 0.14124289356336076, 0.11142707300059448, 0.11026438341668318, 0.06648036059240728, 0.04108861798889108, 0.8837420787118869, 0.018860349240802463, 0.040415034087433854, 0.012124510226230156, 0.003367919507286154, 0.06460989388041188, 0.8112131120540604, 0.05743101678258835, 0.02153663129347063, 0.028715508391294175, 0.02153663129347063, 0.019180418194836166, 0.04542730625092776, 0.9045081422406949, 0.007066469861255429, 0.01514243541697592, 0.009085461250185552, 0.1458776376963127, 0.024076891658614718, 0.062316660763473385, 0.7194741742691927, 0.03540719361560988, 0.012746589701619557, 0.7394388715469294, 0.05020487158196653, 0.041313000593334856, 0.10141292860880433, 0.05927913992421117, 0.008344678927792802, 0.7156536401731971, 0.04769828822001264, 0.03496679023647543, 0.11539040778036892, 0.07854079037731404, 0.007710625539325351, 0.03994459511200072, 0.013665256222526562, 0.8966510429088583, 0.027330512445053124, 0.010511735555789664, 0.01156290911136863, 0.08285408762207909, 0.11255122689336361, 0.5415305929186899, 0.2093694865865796, 0.032583068165986155, 0.021039352587179632, 0.6546508762989316, 0.09917848192760272, 0.09279606920739439, 0.053772637118607955, 0.05246861624557047, 0.04713913963402595, 0.24090708136132918, 0.010544754403021142, 0.012167024311178241, 0.7073096799564951, 0.025956318530513584, 0.003244539816314198, 0.04190310309910753, 0.07310103387362554, 0.8558020618343275, 0.008564137859671613, 0.010705172324589516, 0.010093448191755828, 0.032548887859328815, 0.931215742902261, 0.011114254390990326, 0.003969376568210831, 0.016671381586485488, 0.003969376568210831, 0.14811953261404784, 0.16010307268985774, 0.5261592844465851, 0.032377887782467744, 0.032154592004657624, 0.10115298734798545, 0.8431335764515978, 0.0032328741428358813, 0.003879448971403057, 0.0032328741428358813, 0.14547933642761465, 0.0009698622428507643, 0.05558661342891277, 0.12672595807627782, 0.03254553014231681, 0.04147394991587274, 0.014544683824663705, 0.7291062792502212, 0.06446578721149117, 0.47950106393944864, 0.09430327672919568, 0.02773625786152814, 0.02286140041919895, 0.31115038364659753, 0.38074678795248384, 0.015251276818897807, 0.008562120319381224, 0.5295136285017326, 0.04602139671667408, 0.019799903238569082, 0.11910867046400317, 0.14179603626667042, 0.04537473160533454, 0.056718414506668174, 0.028359207253334087, 0.6083049955840162, 0.009401248763561314, 0.17466530597563915, 0.005442828231535498, 0.0039584205320258165, 0.0039584205320258165, 0.8025697628682342, 0.5847148108020682, 0.10604272998883846, 0.10419996532868486, 0.04450555861037612, 0.11916544802326555, 0.04137844282344882, 0.07464028463014175, 0.1722829211274341, 0.21828762486173528, 0.0197163016004148, 0.01689968708606983, 0.4980713332866691, 0.35851555453195383, 0.03393777135427036, 0.15718546732504168, 0.0472066744401505, 0.3937291819521742, 0.009186163674840098, 0.038453109760032085, 0.051180547497507486, 0.8215967254361785, 0.004332744761693756, 0.07961418499612276, 0.004874337856905475, 0.32980201607136944, 0.2620932648200907, 0.12836450758054926, 0.11324527057872323, 0.04370870092512125, 0.1227817144169315, 0.1282489614019873, 0.07404063751042565, 0.02776523906640962, 0.7470171463105445, 0.017188005136348813, 0.005288616965030404, 0.11995409038568626, 0.30613997496289785, 0.4953247117997516, 0.027589440788707842, 0.023819455090871987, 0.027246714816177308, 0.7566776077331462, 0.0016965865644240946, 0.039825137249112956, 0.0031252910397285955, 0.19832203997820602, 0.0001785880594130626, 0.303872479724456, 0.3456700653919951, 0.06289797457366007, 0.08211680013783398, 0.04388074508183764, 0.16154565264431497, 0.20454366219021872, 0.1376021000188744, 0.049276427709461786, 0.05113591554755468, 0.06508207433325142, 0.49276427709461784, 0.16839782884816099, 0.3392013409655814, 0.2738729810172503, 0.10834947503625646, 0.05814255278041328, 0.05201899536775288, 0.14673572980020486, 0.23733590460566942, 0.042166940147211895, 0.04569173080967233, 0.4449069102838952, 0.08315895007360365, 0.911075074921613, 0.031416381893848724, 0.026091571403365887, 0.013312026226207085, 0.013312026226207085, 0.005324810490482834, 0.5069812152680179, 0.10930138434027856, 0.12639919430357735, 0.11532368987391012, 0.08431227747084186, 0.05766184493695506, 0.33603947723600286, 0.38039722524989633, 0.05568884345085656, 0.07784086652074888, 0.08229812207178176, 0.06774491418828887, 0.19642980427514634, 0.0354459797188234, 0.039876727183676325, 0.7059657627332326, 0.014769158216176416, 0.00886149492970585, 0.5454461711111066, 0.1272360858498832, 0.05219120979812761, 0.20292134484394708, 0.056113555319766036, 0.016089621425496397, 0.5660079289006754, 0.14075576447881133, 0.08931978863509696, 0.06009351633226035, 0.052440363710849605, 0.09138514960131872, 0.16658589518023334, 0.16371372457367758, 0.061546512997623155, 0.06934240464398876, 0.4685741189552376, 0.07057333490394122, 0.30316017688701263, 0.2012797985984874, 0.20298747097334252, 0.0964351588290816, 0.13954583123580103, 0.056578730004633246, 0.21769578576204757, 0.16180954471761377, 0.4490573792771108, 0.09518208512800809, 0.04025298236977772, 0.036052208780329324, 0.5149869424211773, 0.1196065008260138, 0.15537354526516411, 0.08452889123878635, 0.03660272304754169, 0.088916203932841, 0.2204343153894947, 0.3734354706562568, 0.18240117082378488, 0.09312198302663072, 0.05237782538807098, 0.07825089189886182, 0.15494161910689977, 0.07248341838048102, 0.03457924546591755, 0.7095395175410389, 0.015294666263771224, 0.012634724304854489, 0.33651454777273265, 0.22633500570953438, 0.10870370717829375, 0.12539757718786923, 0.11245377942682157, 0.09060658432733365, 0.08403001209907657, 0.8028191083998106, 0.03264475290179953, 0.04533993458583268, 0.024785830906921866, 0.010277051839455407, 0.509221208477543, 0.08538730850454866, 0.12497832020707407, 0.15038120608314343, 0.09059069861402343, 0.0394617349296192, 0.11390481014336988, 0.30866318074878124, 0.09017002010375824, 0.04014950464644586, 0.027727558457490233, 0.41935159411108225, 0.0765826914557005, 0.8411225019546266, 0.030890497393896002, 0.0160888007259875, 0.024454977103501002, 0.0109403844936715, 0.10170889158347844, 0.21373092252332357, 0.05369944975211624, 0.12553579975163598, 0.49787569306597834, 0.007468135395989676, 0.8140689014324068, 0.04297424314700168, 0.039311665606064035, 0.027347245639001067, 0.06421719288444001, 0.011720248131000458, 0.015040364583055988, 0.9301278097416203, 0.020581551534708194, 0.01662356085495662, 0.011082373903304412, 0.006332785087602521, 0.9207848288094528, 0.015922933831529, 0.047768801494586996, 0.003843466786920793, 0.008236000257687413, 0.002745333419229138, 0.02239522844567285, 0.014251509010882723, 0.009161684364138894, 0.02443115830437038, 0.021377263516324085, 0.909042681908448, 0.2522570221996635, 0.06331027995388175, 0.05871782441318566, 0.5533908926538782, 0.039035872095916725, 0.033131286400736044, 0.39795626067546563, 0.22875855784086863, 0.16577091391642795, 0.11247210770704856, 0.0573783168262473, 0.03765388299369091, 0.19043926039681042, 0.13889179141722263, 0.07159370691609414, 0.04009247587301272, 0.017182489659862594, 0.5412484242856717, 0.04422295030661462, 0.03411484737938842, 0.016425667256742573, 0.101081029272262, 0.7151482821012536, 0.08970941347913251, 0.07627921054387755, 0.2609551939658969, 0.16727897049095955, 0.01739701293105979, 0.020073476458915145, 0.45633703149933763, 0.3922347432465073, 0.0166275326231228, 0.15034790024486827, 0.013652079416879773, 0.42513975517437136, 0.002100319910289196, 0.08867556421178734, 0.29512336214235474, 0.06927778454045885, 0.022168891052946834, 0.02771111381618354, 0.4960289373096854, 0.16518687510361904, 0.06463834243185093, 0.0790024185278178, 0.021546114143950308, 0.6392013862705258, 0.028728152191933747, 0.29334672133163464, 0.14818327790553132, 0.17783805249351414, 0.16011162409927185, 0.16147054961501445, 0.05906796241761142, 0.4944695621274344, 0.19246055044787608, 0.13597462512528988, 0.07312239668288005, 0.056455895590888906, 0.047507035545099066, 0.0978667841654569, 0.14814696685596687, 0.07343215456713509, 0.04309729944900854, 0.05201177061480049, 0.585404984182366, 0.05117326647779583, 0.0043198211961775704, 0.8993535436503534, 0.001163028783586269, 0.0431982119617757, 0.0006645878763350108, 0.3617731610682221, 0.06379893666136842, 0.04388481770348464, 0.022864358803496198, 0.4952715140821838, 0.012169739363151202, 0.0837491819506092, 0.8085259370269339, 0.035892506550261084, 0.036522199647634083, 0.023298644602801056, 0.011964168850087028, 0.18974507873104293, 0.0920670146649116, 0.11428218984525097, 0.5130102309686616, 0.07076792918273056, 0.020153973359483136, 0.14937769226406408, 0.06874017697107374, 0.03921715224631771, 0.7054680982736478, 0.012337980481987592, 0.024675960963975185, 0.7497334795722884, 0.03799423049283164, 0.11388601404721545, 0.01749861506158404, 0.022139131762998587, 0.058683200786638176, 0.061625459064694195, 0.02360776292528086, 0.8442074703215695, 0.008737938225590968, 0.056873247047267525, 0.00490550917927914, 0.4297836682935128, 0.06601570618554636, 0.17974187849339027, 0.08782620498431096, 0.2161965693427539, 0.020486289943125305, 0.10221293946445562, 0.14064908641781165, 0.24983495519681415, 0.027551574364795026, 0.07517157943974939, 0.40459997169041584, 0.3419826039732351, 0.04571243979284295, 0.061396205746872747, 0.4697479168670389, 0.048198890492872064, 0.0330889208542336, 0.08101043484682463, 0.08607358702475117, 0.11138934791438386, 0.22277869582876772, 0.4759363047250947, 0.020252608711706158, 0.32979279216426727, 0.13846837640722354, 0.16597989778003547, 0.15115633831888564, 0.14220567211882698, 0.0723904757583693, 0.005273094346534644, 0.7089016212122511, 0.2750797550775572, 0.009777195767532984, 0.0005492806610973587, 0.00043942452887788696, 0.31461134953152375, 0.016558492080606512, 0.16435836583713131, 0.01563857585390615, 0.4817294640487561, 0.007359329813602895, 0.1357474216024288, 0.1754039717334754, 0.01220201542493742, 0.010676763496820244, 0.01982827506552331, 0.6451815655935661, 0.16926035891618055, 0.5881818410036299, 0.11138855881173683, 0.06038432398741523, 0.04455542352469473, 0.026213999179002728, 0.049881221971374665, 0.08467232637157716, 0.8194772181011551, 0.018443477031432648, 0.01928181689649777, 0.008383398650651203, 0.15582385464969295, 0.5775498114273616, 0.06571514690372501, 0.08642202348769445, 0.054962317817093986, 0.05953995077111691, 0.40750441860255154, 0.1633072114353208, 0.08536633013113673, 0.09768941541841988, 0.19801196871873789, 0.04813376048109745, 0.6466086744634945, 0.06037044557257172, 0.06995447773320254, 0.07729925004321868, 0.11841206090050417, 0.02740854057152366, 0.2008244797840221, 0.6122717305028189, 0.08284009791090911, 0.04008391834398828, 0.03368668693151338, 0.03028562719323559, 0.11939170202380099, 0.30180656478803464, 0.15149045469905242, 0.05741240315898627, 0.042276405962526256, 0.3277726289440307, 0.0790412812482496, 0.6288936725404207, 0.19047230492105366, 0.05481341025693831, 0.023798298810614283, 0.022939154449220265, 0.15538553246941647, 0.1525821852341435, 0.11653914935206236, 0.04645546847023792, 0.0869037642934623, 0.4421279068201953, 0.18256341620527633, 0.08796530036557583, 0.09369656810535347, 0.5460803419473521, 0.07315415901558868, 0.016485444285203085, 0.27336412061265875, 0.09461478237525306, 0.07183931805348732, 0.39491132866403583, 0.10673437392950887, 0.05854875146983482, 0.2082230445916767, 0.027881718221677506, 0.018686683488996627, 0.7115770427000462, 0.02728849017440777, 0.005932280472697342, 0.3190320404663523, 0.2751666716654296, 0.1060981313766713, 0.17494512276825408, 0.07283028160781006, 0.05193030207822243, 0.027750786067205886, 0.019078665421204045, 0.012140968904402574, 0.919244788476195, 0.012140968904402574, 0.008672120646001839, 0.47008049828235743, 0.03871471905758106, 0.1873817419975975, 0.01882573576144087, 0.021327494666615737, 0.26368538860543095, 0.8548700926282337, 0.013037234528099424, 0.008691489685399616, 0.009933131069028132, 0.11050608314293797, 0.0031041034590712914, 0.036419978387556506, 0.896841967793579, 0.042489974785482595, 0.007587495497407606, 0.01289874234559293, 0.003793747748703803, 0.1217152188728547, 0.13292583113745973, 0.20659556887629285, 0.027225772642612237, 0.04324093302061943, 0.4676426830378102, 0.07982214833296498, 0.10970209690680215, 0.051649625391918516, 0.7277901759770337, 0.017927969144302294, 0.01280569224593021, 0.1317380355126822, 0.17235726312909255, 0.5491618236788285, 0.07085141781739768, 0.04163259712035406, 0.03428566821676216, 0.0836028764218637, 0.7666226026608634, 0.043503383560135625, 0.03412192870842699, 0.037940928028591565, 0.03412192870842699, 0.04389722020433872, 0.8486795906172152, 0.031173388261052135, 0.020994322706422867, 0.037535304232695424, 0.01781336472060122, 0.1392933951856989, 0.1404304841259903, 0.08812439287258501, 0.06197134724588236, 0.04775773549223962, 0.5224923680639072, 0.06622271909439169, 0.0498247124614947, 0.00788365703504663, 0.8602646556642882, 0.011667812411869012, 0.0037841553768223823, 0.3303321482051402, 0.08956162591247502, 0.23178489864026222, 0.06562451372369674, 0.2259663390620669, 0.05671254272418237, 0.2999225654888951, 0.1622359022931726, 0.15743151659868357, 0.06901910180619622, 0.03820072527813237, 0.2731469037525355, 0.19296245253379513, 0.46075869590479135, 0.06845535338058151, 0.12741174144115114, 0.06162551881164735, 0.08878784939614415, 0.8983422193386085, 0.011575277896239774, 0.03271274188067762, 0.02365382874448997, 0.02969310416861507, 0.0040261836160834, 0.1862628770354431, 0.562568577229242, 0.14291413320033783, 0.051712879936869564, 0.0451180803181708, 0.011420262754332004, 0.7431969738860521, 0.04252931497853144, 0.1216405737116836, 0.008640520457379739, 0.008752735008774281, 0.07529596398573772, 0.42572903402564, 0.18431797559066762, 0.05830938201013994, 0.1730550453150336, 0.12396521098192453, 0.03461587425967006, 0.5034186859173688, 0.16068582126595213, 0.17374970917375313, 0.04695938085777111, 0.053773787252921354, 0.06140027316666463, 0.12377477855928348, 0.030224073834243644, 0.043177248334633773, 0.723938530410693, 0.06764435572425959, 0.008635449666926755, 0.8420382062405232, 0.05226444038734281, 0.020808990154219824, 0.020325060150633317, 0.05226444038734281, 0.012098250089662688, 0.3473070776610177, 0.10957558634343144, 0.20669651313959278, 0.13349361620869912, 0.12711378039979138, 0.07579549953052947, 0.47324820672331697, 0.09360937922844625, 0.21765921546422998, 0.07151091487438008, 0.0984838314943271, 0.04550436196895171, 0.06185045081400586, 0.8124553045197807, 0.02061681693800195, 0.0580325217514129, 0.040470048063485316, 0.006108686500148727, 0.03075120984657128, 0.04324388884674086, 0.9004338633199153, 0.009609753077053525, 0.008648777769348172, 0.007207314807790144, 0.03271324620285109, 0.030602714189763926, 0.9011971695882205, 0.018994788117784506, 0.01160792607197942, 0.006331596039261502, 0.0714399088854207, 0.09596863296625185, 0.060708592100057086, 0.06438790071218176, 0.6153643653778513, 0.09198271530311679, 0.16328322006036786, 0.24453667663557466, 0.08435868421502364, 0.04502580077734391, 0.06469224249618377, 0.3982454448065073, 0.15808223270471639, 0.14826111430490127, 0.05836010741428598, 0.03191863479939913, 0.029557789030212802, 0.5738743895738122, 0.11361137973997582, 0.0698094020089008, 0.7624281748815245, 0.01697326637079157, 0.025186137195368132, 0.012319306236864848, 0.1262939592416964, 0.11919815002286072, 0.5800824036398171, 0.04789671222714086, 0.032388935627911265, 0.09407669641746665, 0.7199535007663471, 0.14040750073452438, 0.03313617017334775, 0.03094581316188917, 0.011962719062581477, 0.06352035333229883, 0.029379058924515818, 0.01849792598950996, 0.9172795064209938, 0.0076167930545041, 0.009793019641505273, 0.01849792598950996, 0.042600595655940945, 0.15684764764232803, 0.03679142352103991, 0.017427516404703115, 0.05421893992574302, 0.6912914840532235, 0.7897064755611901, 0.0657581336627668, 0.06490571341158279, 0.029712934469842776, 0.031052452007417655, 0.018875019847646026, 0.13875004037239286, 0.2899575147101089, 0.1653831750568769, 0.08129549579094535, 0.03909056864980727, 0.2855544561533998, 0.26663852862524584, 0.40829477792751073, 0.09752460049839912, 0.10165684523239558, 0.05801454119966095, 0.06787393214393322, 0.9372691384098708, 0.017386105434247182, 0.02423517727198092, 0.0057953684780823935, 0.011590736956164787, 0.004214813438605377, 0.3949551588655383, 0.09475783908045993, 0.30431844473916936, 0.04746302413112977, 0.10647641207916768, 0.05206074176698641, 0.057623354711244544, 0.054021895041791765, 0.05942408454597094, 0.028811677355622272, 0.021608758016716703, 0.7797160184365277, 0.11496942974412096, 0.8011932135293429, 0.03473034856853654, 0.03053875477578213, 0.01077838403851134, 0.00778438847225819, 0.1604958148330945, 0.01599442828233588, 0.0033091920584143193, 0.8151643103893941, 0.004412256077885759, 0.0011030640194714398, 0.044881210885444285, 0.027187656594067213, 0.025893006280064013, 0.23994185819525984, 0.5679199377427373, 0.09450947292223365, 0.15320716529018133, 0.18402901895503623, 0.05307372850582336, 0.43436261091593115, 0.0392414819830592, 0.13606720764240834, 0.03807713629179356, 0.02343208387187296, 0.01977082076689281, 0.8933481976151566, 0.01610955766191266, 0.00878703145195236, 0.419986320362176, 0.11670693526263576, 0.1713586492833228, 0.08772342484972953, 0.1532770066467799, 0.05097029971560913, 0.09255900045824532, 0.706573840319405, 0.07907826368335948, 0.054014563757236775, 0.04735272393353105, 0.020430514665627963, 0.03899622098007244, 0.3278119826137339, 0.11577003103459003, 0.018279478584408954, 0.026809901923799798, 0.47282917938337826, 0.3706914987317458, 0.15881654385559574, 0.17984124962661102, 0.11169030047384496, 0.12192673858545476, 0.05703158376468318, 0.48308358434995485, 0.022045959086294697, 0.04999493453995792, 0.06192143699647801, 0.3773111686244535, 0.005541607202019432, 0.2374842321149029, 0.02957350815015772, 0.08065502222770288, 0.018819505186464004, 0.6228360049805944, 0.010754002963693717, 0.3581227480647513, 0.2043204596357508, 0.23887715922077274, 0.05444610092305038, 0.06464055434859234, 0.07960301494420961, 0.3310006786054823, 0.28939422959750016, 0.1452445680751709, 0.0937578908879749, 0.07857257976820696, 0.06201863545738698], \"Term\": [\"80\", \"80\", \"80\", \"80\", \"80\", \"80\", \"action\", \"action\", \"action\", \"action\", \"action\", \"action\", \"admirable\", \"admirable\", \"admirable\", \"admirable\", \"admirable\", \"admirable\", \"aep\", \"aep\", \"aep\", \"aep\", \"aep\", \"aep\", \"africa\", \"africa\", \"africa\", \"africa\", \"africa\", \"africa\", \"african\", \"african\", \"african\", \"african\", \"african\", \"african\", \"agency\", \"agency\", \"agency\", \"agency\", \"agency\", \"agency\", \"allegation\", \"allegation\", \"allegation\", \"allegation\", \"allegation\", \"allegation\", \"animal\", \"animal\", \"animal\", \"animal\", \"animal\", \"animal\", \"appropriation\", \"appropriation\", \"appropriation\", \"appropriation\", \"appropriation\", \"appropriation\", \"arctic\", \"arctic\", \"arctic\", \"arctic\", \"arctic\", \"arctic\", \"ask\", \"ask\", \"ask\", \"ask\", \"ask\", \"ask\", \"austin\", \"austin\", \"austin\", \"austin\", \"austin\", \"austin\", \"authority\", \"authority\", \"authority\", \"authority\", \"authority\", \"authority\", \"avocado\", \"avocado\", \"avocado\", \"avocado\", \"avocado\", \"avocado\", \"backup\", \"backup\", \"backup\", \"backup\", \"backup\", \"backup\", \"bake\", \"bake\", \"bake\", \"bake\", \"bake\", \"bake\", \"balcony\", \"balcony\", \"balcony\", \"balcony\", \"balcony\", \"balcony\", \"bathe\", \"bathe\", \"bathe\", \"bathe\", \"bathe\", \"bathe\", \"bayou\", \"bayou\", \"bayou\", \"bayou\", \"bayou\", \"bayou\", \"beacon\", \"beacon\", \"beacon\", \"beacon\", \"beacon\", \"beacon\", \"beat\", \"beat\", \"beat\", \"beat\", \"beat\", \"beat\", \"beck\", \"beck\", \"beck\", \"beck\", \"beck\", \"beck\", \"becker\", \"becker\", \"becker\", \"becker\", \"becker\", \"becker\", \"beekeeper\", \"beekeeper\", \"beekeeper\", \"beekeeper\", \"beekeeper\", \"beekeeper\", \"bicyclist\", \"bicyclist\", \"bicyclist\", \"bicyclist\", \"bicyclist\", \"bicyclist\", \"big\", \"big\", \"big\", \"big\", \"big\", \"big\", \"bike\", \"bike\", \"bike\", \"bike\", \"bike\", \"bike\", \"bill\", \"bill\", \"bill\", \"bill\", \"bill\", \"bill\", \"biomass\", \"biomass\", \"biomass\", \"biomass\", \"biomass\", \"biomass\", \"bizarre\", \"bizarre\", \"bizarre\", \"bizarre\", \"bizarre\", \"bizarre\", \"boast\", \"boast\", \"boast\", \"boast\", \"boast\", \"boast\", \"boat\", \"boat\", \"boat\", \"boat\", \"boat\", \"boat\", \"boxer\", \"boxer\", \"boxer\", \"boxer\", \"boxer\", \"boxer\", \"bread\", \"bread\", \"bread\", \"bread\", \"bread\", \"bread\", \"build\", \"build\", \"build\", \"build\", \"build\", \"build\", \"butter\", \"butter\", \"butter\", \"butter\", \"butter\", \"butter\", \"calf\", \"calf\", \"calf\", \"calf\", \"calf\", \"calf\", \"california\", \"california\", \"california\", \"california\", \"california\", \"california\", \"call\", \"call\", \"call\", \"call\", \"call\", \"call\", \"canyon\", \"canyon\", \"canyon\", \"canyon\", \"canyon\", \"canyon\", \"car\", \"car\", \"car\", \"car\", \"car\", \"car\", \"carbon\", \"carbon\", \"carbon\", \"carbon\", \"carbon\", \"carbon\", \"case\", \"case\", \"case\", \"case\", \"case\", \"case\", \"catch\", \"catch\", \"catch\", \"catch\", \"catch\", \"catch\", \"cement\", \"cement\", \"cement\", \"cement\", \"cement\", \"cement\", \"centrist\", \"centrist\", \"centrist\", \"centrist\", \"centrist\", \"centrist\", \"certification\", \"certification\", \"certification\", \"certification\", \"certification\", \"certification\", \"change\", \"change\", \"change\", \"change\", \"change\", \"change\", \"changer\", \"changer\", \"changer\", \"changer\", \"changer\", \"changer\", \"cheap\", \"cheap\", \"cheap\", \"cheap\", \"cheap\", \"cheap\", \"cheer\", \"cheer\", \"cheer\", \"cheer\", \"cheer\", \"cheer\", \"chevy\", \"chevy\", \"chevy\", \"chevy\", \"chevy\", \"chevy\", \"chick\", \"chick\", \"chick\", \"chick\", \"chick\", \"chick\", \"cigarette\", \"cigarette\", \"cigarette\", \"cigarette\", \"cigarette\", \"cigarette\", \"circulate\", \"circulate\", \"circulate\", \"circulate\", \"circulate\", \"circulate\", \"city\", \"city\", \"city\", \"city\", \"city\", \"city\", \"clayton\", \"clayton\", \"clayton\", \"clayton\", \"clayton\", \"clayton\", \"clean_air_act\", \"clean_air_act\", \"clean_air_act\", \"clean_air_act\", \"clean_air_act\", \"clean_air_act\", \"climate\", \"climate\", \"climate\", \"climate\", \"climate\", \"climate\", \"climate_change\", \"climate_change\", \"climate_change\", \"climate_change\", \"climate_change\", \"climate_change\", \"climateprogress\", \"climateprogress\", \"climateprogress\", \"climateprogress\", \"climateprogress\", \"climateprogress\", \"clip\", \"clip\", \"clip\", \"clip\", \"clip\", \"clip\", \"coal\", \"coal\", \"coal\", \"coal\", \"coal\", \"coal\", \"cob\", \"cob\", \"cob\", \"cob\", \"cob\", \"cob\", \"company\", \"company\", \"company\", \"company\", \"company\", \"company\", \"condo\", \"condo\", \"condo\", \"condo\", \"condo\", \"condo\", \"congestion\", \"congestion\", \"congestion\", \"congestion\", \"congestion\", \"congestion\", \"conglomerate\", \"conglomerate\", \"conglomerate\", \"conglomerate\", \"conglomerate\", \"conglomerate\", \"consensus\", \"consensus\", \"consensus\", \"consensus\", \"consensus\", \"consensus\", \"contractor\", \"contractor\", \"contractor\", \"contractor\", \"contractor\", \"contractor\", \"contradict\", \"contradict\", \"contradict\", \"contradict\", \"contradict\", \"contradict\", \"convenient\", \"convenient\", \"convenient\", \"convenient\", \"convenient\", \"convenient\", \"copenhagen\", \"copenhagen\", \"copenhagen\", \"copenhagen\", \"copenhagen\", \"copenhagen\", \"corn\", \"corn\", \"corn\", \"corn\", \"corn\", \"corn\", \"corrosive\", \"corrosive\", \"corrosive\", \"corrosive\", \"corrosive\", \"corrosive\", \"country\", \"country\", \"country\", \"country\", \"country\", \"country\", \"court\", \"court\", \"court\", \"court\", \"court\", \"court\", \"cow\", \"cow\", \"cow\", \"cow\", \"cow\", \"cow\", \"culminate\", \"culminate\", \"culminate\", \"culminate\", \"culminate\", \"culminate\", \"cute\", \"cute\", \"cute\", \"cute\", \"cute\", \"cute\", \"dairy\", \"dairy\", \"dairy\", \"dairy\", \"dairy\", \"dairy\", \"dam\", \"dam\", \"dam\", \"dam\", \"dam\", \"dam\", \"day\", \"day\", \"day\", \"day\", \"day\", \"day\", \"de\", \"de\", \"de\", \"de\", \"de\", \"de\", \"debate\", \"debate\", \"debate\", \"debate\", \"debate\", \"debate\", \"deception\", \"deception\", \"deception\", \"deception\", \"deception\", \"deception\", \"decisively\", \"decisively\", \"decisively\", \"decisively\", \"decisively\", \"decisively\", \"defender\", \"defender\", \"defender\", \"defender\", \"defender\", \"defender\", \"depart\", \"depart\", \"depart\", \"depart\", \"depart\", \"depart\", \"detection\", \"detection\", \"detection\", \"detection\", \"detection\", \"detection\", \"diesel\", \"diesel\", \"diesel\", \"diesel\", \"diesel\", \"diesel\", \"diet\", \"diet\", \"diet\", \"diet\", \"diet\", \"diet\", \"dignity\", \"dignity\", \"dignity\", \"dignity\", \"dignity\", \"dignity\", \"discredit\", \"discredit\", \"discredit\", \"discredit\", \"discredit\", \"discredit\", \"dissent\", \"dissent\", \"dissent\", \"dissent\", \"dissent\", \"dissent\", \"ditch\", \"ditch\", \"ditch\", \"ditch\", \"ditch\", \"ditch\", \"diving\", \"diving\", \"diving\", \"diving\", \"diving\", \"diving\", \"domain\", \"domain\", \"domain\", \"domain\", \"domain\", \"domain\", \"domesticate\", \"domesticate\", \"domesticate\", \"domesticate\", \"domesticate\", \"domesticate\", \"dot\", \"dot\", \"dot\", \"dot\", \"dot\", \"dot\", \"doyle\", \"doyle\", \"doyle\", \"doyle\", \"doyle\", \"doyle\", \"eat\", \"eat\", \"eat\", \"eat\", \"eat\", \"eat\", \"economy\", \"economy\", \"economy\", \"economy\", \"economy\", \"economy\", \"ecosystem\", \"ecosystem\", \"ecosystem\", \"ecosystem\", \"ecosystem\", \"ecosystem\", \"effect\", \"effect\", \"effect\", \"effect\", \"effect\", \"effect\", \"egregious\", \"egregious\", \"egregious\", \"egregious\", \"egregious\", \"egregious\", \"emission\", \"emission\", \"emission\", \"emission\", \"emission\", \"emission\", \"empirical\", \"empirical\", \"empirical\", \"empirical\", \"empirical\", \"empirical\", \"encroach\", \"encroach\", \"encroach\", \"encroach\", \"encroach\", \"encroach\", \"end\", \"end\", \"end\", \"end\", \"end\", \"end\", \"endangered\", \"endangered\", \"endangered\", \"endangered\", \"endangered\", \"endangered\", \"energy\", \"energy\", \"energy\", \"energy\", \"energy\", \"energy\", \"energ\\u00e9a\", \"energ\\u00e9a\", \"energ\\u00e9a\", \"energ\\u00e9a\", \"energ\\u00e9a\", \"energ\\u00e9a\", \"entitlement\", \"entitlement\", \"entitlement\", \"entitlement\", \"entitlement\", \"entitlement\", \"environmental\", \"environmental\", \"environmental\", \"environmental\", \"environmental\", \"environmental\", \"epa\", \"epa\", \"epa\", \"epa\", \"epa\", \"epa\", \"equipment\", \"equipment\", \"equipment\", \"equipment\", \"equipment\", \"equipment\", \"ethanol\", \"ethanol\", \"ethanol\", \"ethanol\", \"ethanol\", \"ethanol\", \"eu\", \"eu\", \"eu\", \"eu\", \"eu\", \"eu\", \"evolutionary\", \"evolutionary\", \"evolutionary\", \"evolutionary\", \"evolutionary\", \"evolutionary\", \"exempt\", \"exempt\", \"exempt\", \"exempt\", \"exempt\", \"exempt\", \"fad\", \"fad\", \"fad\", \"fad\", \"fad\", \"fad\", \"family\", \"family\", \"family\", \"family\", \"family\", \"family\", \"farmer\", \"farmer\", \"farmer\", \"farmer\", \"farmer\", \"farmer\", \"fat\", \"fat\", \"fat\", \"fat\", \"fat\", \"fat\", \"film\", \"film\", \"film\", \"film\", \"film\", \"film\", \"find\", \"find\", \"find\", \"find\", \"find\", \"find\", \"fish\", \"fish\", \"fish\", \"fish\", \"fish\", \"fish\", \"fisherman\", \"fisherman\", \"fisherman\", \"fisherman\", \"fisherman\", \"fisherman\", \"fishing\", \"fishing\", \"fishing\", \"fishing\", \"fishing\", \"fishing\", \"flip\", \"flip\", \"flip\", \"flip\", \"flip\", \"flip\", \"flop\", \"flop\", \"flop\", \"flop\", \"flop\", \"flop\", \"folk\", \"folk\", \"folk\", \"folk\", \"folk\", \"folk\", \"follow\", \"follow\", \"follow\", \"follow\", \"follow\", \"follow\", \"food\", \"food\", \"food\", \"food\", \"food\", \"food\", \"ford\", \"ford\", \"ford\", \"ford\", \"ford\", \"ford\", \"frame\", \"frame\", \"frame\", \"frame\", \"frame\", \"frame\", \"freeway\", \"freeway\", \"freeway\", \"freeway\", \"freeway\", \"freeway\", \"freshly\", \"freshly\", \"freshly\", \"freshly\", \"freshly\", \"freshly\", \"friendship\", \"friendship\", \"friendship\", \"friendship\", \"friendship\", \"friendship\", \"frustrated\", \"frustrated\", \"frustrated\", \"frustrated\", \"frustrated\", \"frustrated\", \"fuel\", \"fuel\", \"fuel\", \"fuel\", \"fuel\", \"fuel\", \"fuzzy\", \"fuzzy\", \"fuzzy\", \"fuzzy\", \"fuzzy\", \"fuzzy\", \"gasification\", \"gasification\", \"gasification\", \"gasification\", \"gasification\", \"gasification\", \"gasoline\", \"gasoline\", \"gasoline\", \"gasoline\", \"gasoline\", \"gasoline\", \"gently\", \"gently\", \"gently\", \"gently\", \"gently\", \"gently\", \"geographic\", \"geographic\", \"geographic\", \"geographic\", \"geographic\", \"geographic\", \"get\", \"get\", \"get\", \"get\", \"get\", \"get\", \"glance\", \"glance\", \"glance\", \"glance\", \"glance\", \"glance\", \"glenn\", \"glenn\", \"glenn\", \"glenn\", \"glenn\", \"glenn\", \"global\", \"global\", \"global\", \"global\", \"global\", \"global\", \"global_warming\", \"global_warming\", \"global_warming\", \"global_warming\", \"global_warming\", \"global_warming\", \"gm\", \"gm\", \"gm\", \"gm\", \"gm\", \"gm\", \"go\", \"go\", \"go\", \"go\", \"go\", \"go\", \"goat\", \"goat\", \"goat\", \"goat\", \"goat\", \"goat\", \"good\", \"good\", \"good\", \"good\", \"good\", \"good\", \"government\", \"government\", \"government\", \"government\", \"government\", \"government\", \"grandparent\", \"grandparent\", \"grandparent\", \"grandparent\", \"grandparent\", \"grandparent\", \"green\", \"green\", \"green\", \"green\", \"green\", \"green\", \"greenhouse_gas\", \"greenhouse_gas\", \"greenhouse_gas\", \"greenhouse_gas\", \"greenhouse_gas\", \"greenhouse_gas\", \"grist\", \"grist\", \"grist\", \"grist\", \"grist\", \"grist\", \"grow\", \"grow\", \"grow\", \"grow\", \"grow\", \"grow\", \"growing\", \"growing\", \"growing\", \"growing\", \"growing\", \"growing\", \"growth\", \"growth\", \"growth\", \"growth\", \"growth\", \"growth\", \"hack\", \"hack\", \"hack\", \"hack\", \"hack\", \"hack\", \"heater\", \"heater\", \"heater\", \"heater\", \"heater\", \"heater\", \"heighten\", \"heighten\", \"heighten\", \"heighten\", \"heighten\", \"heighten\", \"help\", \"help\", \"help\", \"help\", \"help\", \"help\", \"hillary\", \"hillary\", \"hillary\", \"hillary\", \"hillary\", \"hillary\", \"hippie\", \"hippie\", \"hippie\", \"hippie\", \"hippie\", \"hippie\", \"honda\", \"honda\", \"honda\", \"honda\", \"honda\", \"honda\", \"honest\", \"honest\", \"honest\", \"honest\", \"honest\", \"honest\", \"horrific\", \"horrific\", \"horrific\", \"horrific\", \"horrific\", \"horrific\", \"hose\", \"hose\", \"hose\", \"hose\", \"hose\", \"hose\", \"hot\", \"hot\", \"hot\", \"hot\", \"hot\", \"hot\", \"hurricane\", \"hurricane\", \"hurricane\", \"hurricane\", \"hurricane\", \"hurricane\", \"hybrid\", \"hybrid\", \"hybrid\", \"hybrid\", \"hybrid\", \"hybrid\", \"ice\", \"ice\", \"ice\", \"ice\", \"ice\", \"ice\", \"imperialism\", \"imperialism\", \"imperialism\", \"imperialism\", \"imperialism\", \"imperialism\", \"in\", \"in\", \"in\", \"in\", \"in\", \"in\", \"increase\", \"increase\", \"increase\", \"increase\", \"increase\", \"increase\", \"industry\", \"industry\", \"industry\", \"industry\", \"industry\", \"industry\", \"ingest\", \"ingest\", \"ingest\", \"ingest\", \"ingest\", \"ingest\", \"insidious\", \"insidious\", \"insidious\", \"insidious\", \"insidious\", \"insidious\", \"instal\", \"instal\", \"instal\", \"instal\", \"instal\", \"instal\", \"interstate\", \"interstate\", \"interstate\", \"interstate\", \"interstate\", \"interstate\", \"ipcc\", \"ipcc\", \"ipcc\", \"ipcc\", \"ipcc\", \"ipcc\", \"issue\", \"issue\", \"issue\", \"issue\", \"issue\", \"issue\", \"johnson\", \"johnson\", \"johnson\", \"johnson\", \"johnson\", \"johnson\", \"judgment\", \"judgment\", \"judgment\", \"judgment\", \"judgment\", \"judgment\", \"juice\", \"juice\", \"juice\", \"juice\", \"juice\", \"juice\", \"justice\", \"justice\", \"justice\", \"justice\", \"justice\", \"justice\", \"know\", \"know\", \"know\", \"know\", \"know\", \"know\", \"lament\", \"lament\", \"lament\", \"lament\", \"lament\", \"lament\", \"landfall\", \"landfall\", \"landfall\", \"landfall\", \"landfall\", \"landfall\", \"lane\", \"lane\", \"lane\", \"lane\", \"lane\", \"lane\", \"large\", \"large\", \"large\", \"large\", \"large\", \"large\", \"lawsuit\", \"lawsuit\", \"lawsuit\", \"lawsuit\", \"lawsuit\", \"lawsuit\", \"level\", \"level\", \"level\", \"level\", \"level\", \"level\", \"lifeline\", \"lifeline\", \"lifeline\", \"lifeline\", \"lifeline\", \"lifeline\", \"light\", \"light\", \"light\", \"light\", \"light\", \"light\", \"limitation\", \"limitation\", \"limitation\", \"limitation\", \"limitation\", \"limitation\", \"lincoln\", \"lincoln\", \"lincoln\", \"lincoln\", \"lincoln\", \"lincoln\", \"lip\", \"lip\", \"lip\", \"lip\", \"lip\", \"lip\", \"live\", \"live\", \"live\", \"live\", \"live\", \"live\", \"ll\", \"ll\", \"ll\", \"ll\", \"ll\", \"ll\", \"lobster\", \"lobster\", \"lobster\", \"lobster\", \"lobster\", \"lobster\", \"machine\", \"machine\", \"machine\", \"machine\", \"machine\", \"machine\", \"machinery\", \"machinery\", \"machinery\", \"machinery\", \"machinery\", \"machinery\", \"majority\", \"majority\", \"majority\", \"majority\", \"majority\", \"majority\", \"make\", \"make\", \"make\", \"make\", \"make\", \"make\", \"manifest\", \"manifest\", \"manifest\", \"manifest\", \"manifest\", \"manifest\", \"market\", \"market\", \"market\", \"market\", \"market\", \"market\", \"massachusetts\", \"massachusetts\", \"massachusetts\", \"massachusetts\", \"massachusetts\", \"massachusetts\", \"mayor\", \"mayor\", \"mayor\", \"mayor\", \"mayor\", \"mayor\", \"medicinal\", \"medicinal\", \"medicinal\", \"medicinal\", \"medicinal\", \"medicinal\", \"methanol\", \"methanol\", \"methanol\", \"methanol\", \"methanol\", \"methanol\", \"middle\", \"middle\", \"middle\", \"middle\", \"middle\", \"middle\", \"mile\", \"mile\", \"mile\", \"mile\", \"mile\", \"mile\", \"millennia\", \"millennia\", \"millennia\", \"millennia\", \"millennia\", \"millennia\", \"mite\", \"mite\", \"mite\", \"mite\", \"mite\", \"mite\", \"mobilization\", \"mobilization\", \"mobilization\", \"mobilization\", \"mobilization\", \"mobilization\", \"motors\", \"motors\", \"motors\", \"motors\", \"motors\", \"motors\", \"movie\", \"movie\", \"movie\", \"movie\", \"movie\", \"movie\", \"mutually\", \"mutually\", \"mutually\", \"mutually\", \"mutually\", \"mutually\", \"mw\", \"mw\", \"mw\", \"mw\", \"mw\", \"mw\", \"nation\", \"nation\", \"nation\", \"nation\", \"nation\", \"nation\", \"national\", \"national\", \"national\", \"national\", \"national\", \"national\", \"need\", \"need\", \"need\", \"need\", \"need\", \"need\", \"negotiator\", \"negotiator\", \"negotiator\", \"negotiator\", \"negotiator\", \"negotiator\", \"nestle\", \"nestle\", \"nestle\", \"nestle\", \"nestle\", \"nestle\", \"nourish\", \"nourish\", \"nourish\", \"nourish\", \"nourish\", \"nourish\", \"nuance\", \"nuance\", \"nuance\", \"nuance\", \"nuance\", \"nuance\", \"nuclear\", \"nuclear\", \"nuclear\", \"nuclear\", \"nuclear\", \"nuclear\", \"nuclear_power\", \"nuclear_power\", \"nuclear_power\", \"nuclear_power\", \"nuclear_power\", \"nuclear_power\", \"obey\", \"obey\", \"obey\", \"obey\", \"obey\", \"obey\", \"offset\", \"offset\", \"offset\", \"offset\", \"offset\", \"offset\", \"oil\", \"oil\", \"oil\", \"oil\", \"oil\", \"oil\", \"oral\", \"oral\", \"oral\", \"oral\", \"oral\", \"oral\", \"orange\", \"orange\", \"orange\", \"orange\", \"orange\", \"orange\", \"ordinance\", \"ordinance\", \"ordinance\", \"ordinance\", \"ordinance\", \"ordinance\", \"organic\", \"organic\", \"organic\", \"organic\", \"organic\", \"organic\", \"outlier\", \"outlier\", \"outlier\", \"outlier\", \"outlier\", \"outlier\", \"package\", \"package\", \"package\", \"package\", \"package\", \"package\", \"park\", \"park\", \"park\", \"park\", \"park\", \"park\", \"patent\", \"patent\", \"patent\", \"patent\", \"patent\", \"patent\", \"pave\", \"pave\", \"pave\", \"pave\", \"pave\", \"pave\", \"pavement\", \"pavement\", \"pavement\", \"pavement\", \"pavement\", \"pavement\", \"peak_oil\", \"peak_oil\", \"peak_oil\", \"peak_oil\", \"peak_oil\", \"peak_oil\", \"pedestrian\", \"pedestrian\", \"pedestrian\", \"pedestrian\", \"pedestrian\", \"pedestrian\", \"peer\", \"peer\", \"peer\", \"peer\", \"peer\", \"peer\", \"penguin\", \"penguin\", \"penguin\", \"penguin\", \"penguin\", \"penguin\", \"percent\", \"percent\", \"percent\", \"percent\", \"percent\", \"percent\", \"pete\", \"pete\", \"pete\", \"pete\", \"pete\", \"pete\", \"photo\", \"photo\", \"photo\", \"photo\", \"photo\", \"photo\", \"pielke\", \"pielke\", \"pielke\", \"pielke\", \"pielke\", \"pielke\", \"plan\", \"plan\", \"plan\", \"plan\", \"plan\", \"plan\", \"planner\", \"planner\", \"planner\", \"planner\", \"planner\", \"planner\", \"plant\", \"plant\", \"plant\", \"plant\", \"plant\", \"plant\", \"plug\", \"plug\", \"plug\", \"plug\", \"plug\", \"plug\", \"podcast\", \"podcast\", \"podcast\", \"podcast\", \"podcast\", \"podcast\", \"post\", \"post\", \"post\", \"post\", \"post\", \"post\", \"power\", \"power\", \"power\", \"power\", \"power\", \"power\", \"prerequisite\", \"prerequisite\", \"prerequisite\", \"prerequisite\", \"prerequisite\", \"prerequisite\", \"president\", \"president\", \"president\", \"president\", \"president\", \"president\", \"price\", \"price\", \"price\", \"price\", \"price\", \"price\", \"prius\", \"prius\", \"prius\", \"prius\", \"prius\", \"prius\", \"problem\", \"problem\", \"problem\", \"problem\", \"problem\", \"problem\", \"process\", \"process\", \"process\", \"process\", \"process\", \"process\", \"production\", \"production\", \"production\", \"production\", \"production\", \"production\", \"project\", \"project\", \"project\", \"project\", \"project\", \"project\", \"provider\", \"provider\", \"provider\", \"provider\", \"provider\", \"provider\", \"public\", \"public\", \"public\", \"public\", \"public\", \"public\", \"pv\", \"pv\", \"pv\", \"pv\", \"pv\", \"pv\", \"question\", \"question\", \"question\", \"question\", \"question\", \"question\", \"rail\", \"rail\", \"rail\", \"rail\", \"rail\", \"rail\", \"ramification\", \"ramification\", \"ramification\", \"ramification\", \"ramification\", \"ramification\", \"ratify\", \"ratify\", \"ratify\", \"ratify\", \"ratify\", \"ratify\", \"reactor\", \"reactor\", \"reactor\", \"reactor\", \"reactor\", \"reactor\", \"reflective\", \"reflective\", \"reflective\", \"reflective\", \"reflective\", \"reflective\", \"refreshing\", \"refreshing\", \"refreshing\", \"refreshing\", \"refreshing\", \"refreshing\", \"regressive\", \"regressive\", \"regressive\", \"regressive\", \"regressive\", \"regressive\", \"regulate\", \"regulate\", \"regulate\", \"regulate\", \"regulate\", \"regulate\", \"report\", \"report\", \"report\", \"report\", \"report\", \"report\", \"responsive\", \"responsive\", \"responsive\", \"responsive\", \"responsive\", \"responsive\", \"revert\", \"revert\", \"revert\", \"revert\", \"revert\", \"revert\", \"revitalize\", \"revitalize\", \"revitalize\", \"revitalize\", \"revitalize\", \"revitalize\", \"revkin\", \"revkin\", \"revkin\", \"revkin\", \"revkin\", \"revkin\", \"revolutionize\", \"revolutionize\", \"revolutionize\", \"revolutionize\", \"revolutionize\", \"revolutionize\", \"rggi\", \"rggi\", \"rggi\", \"rggi\", \"rggi\", \"rggi\", \"right\", \"right\", \"right\", \"right\", \"right\", \"right\", \"rise\", \"rise\", \"rise\", \"rise\", \"rise\", \"rise\", \"road\", \"road\", \"road\", \"road\", \"road\", \"road\", \"robertson\", \"robertson\", \"robertson\", \"robertson\", \"robertson\", \"robertson\", \"roger\", \"roger\", \"roger\", \"roger\", \"roger\", \"roger\", \"roof\", \"roof\", \"roof\", \"roof\", \"roof\", \"roof\", \"rule\", \"rule\", \"rule\", \"rule\", \"rule\", \"rule\", \"ruling\", \"ruling\", \"ruling\", \"ruling\", \"ruling\", \"ruling\", \"sand\", \"sand\", \"sand\", \"sand\", \"sand\", \"sand\", \"sarah\", \"sarah\", \"sarah\", \"sarah\", \"sarah\", \"sarah\", \"science\", \"science\", \"science\", \"science\", \"science\", \"science\", \"seattle\", \"seattle\", \"seattle\", \"seattle\", \"seattle\", \"seattle\", \"sen\", \"sen\", \"sen\", \"sen\", \"sen\", \"sen\", \"ser\", \"ser\", \"ser\", \"ser\", \"ser\", \"ser\", \"set\", \"set\", \"set\", \"set\", \"set\", \"set\", \"shark\", \"shark\", \"shark\", \"shark\", \"shark\", \"shark\", \"silent\", \"silent\", \"silent\", \"silent\", \"silent\", \"silent\", \"sim\", \"sim\", \"sim\", \"sim\", \"sim\", \"sim\", \"site\", \"site\", \"site\", \"site\", \"site\", \"site\", \"slice\", \"slice\", \"slice\", \"slice\", \"slice\", \"slice\", \"solar\", \"solar\", \"solar\", \"solar\", \"solar\", \"solar\", \"solution\", \"solution\", \"solution\", \"solution\", \"solution\", \"solution\", \"sound\", \"sound\", \"sound\", \"sound\", \"sound\", \"sound\", \"south\", \"south\", \"south\", \"south\", \"south\", \"south\", \"space\", \"space\", \"space\", \"space\", \"space\", \"space\", \"specie\", \"specie\", \"specie\", \"specie\", \"specie\", \"specie\", \"sprawl\", \"sprawl\", \"sprawl\", \"sprawl\", \"sprawl\", \"sprawl\", \"stand\", \"stand\", \"stand\", \"stand\", \"stand\", \"stand\", \"standard\", \"standard\", \"standard\", \"standard\", \"standard\", \"standard\", \"standing\", \"standing\", \"standing\", \"standing\", \"standing\", \"standing\", \"state\", \"state\", \"state\", \"state\", \"state\", \"state\", \"statute\", \"statute\", \"statute\", \"statute\", \"statute\", \"statute\", \"steel\", \"steel\", \"steel\", \"steel\", \"steel\", \"steel\", \"subjective\", \"subjective\", \"subjective\", \"subjective\", \"subjective\", \"subjective\", \"subscriber\", \"subscriber\", \"subscriber\", \"subscriber\", \"subscriber\", \"subscriber\", \"suburban\", \"suburban\", \"suburban\", \"suburban\", \"suburban\", \"suburban\", \"sue\", \"sue\", \"sue\", \"sue\", \"sue\", \"sue\", \"summer\", \"summer\", \"summer\", \"summer\", \"summer\", \"summer\", \"sun\", \"sun\", \"sun\", \"sun\", \"sun\", \"sun\", \"sunny\", \"sunny\", \"sunny\", \"sunny\", \"sunny\", \"sunny\", \"supporter\", \"supporter\", \"supporter\", \"supporter\", \"supporter\", \"supporter\", \"supreme\", \"supreme\", \"supreme\", \"supreme\", \"supreme\", \"supreme\", \"sure\", \"sure\", \"sure\", \"sure\", \"sure\", \"sure\", \"sustainable\", \"sustainable\", \"sustainable\", \"sustainable\", \"sustainable\", \"sustainable\", \"system\", \"system\", \"system\", \"system\", \"system\", \"system\", \"talking\", \"talking\", \"talking\", \"talking\", \"talking\", \"talking\", \"tank\", \"tank\", \"tank\", \"tank\", \"tank\", \"tank\", \"tar\", \"tar\", \"tar\", \"tar\", \"tar\", \"tar\", \"technology\", \"technology\", \"technology\", \"technology\", \"technology\", \"technology\", \"tell\", \"tell\", \"tell\", \"tell\", \"tell\", \"tell\", \"tentative\", \"tentative\", \"tentative\", \"tentative\", \"tentative\", \"tentative\", \"terror\", \"terror\", \"terror\", \"terror\", \"terror\", \"terror\", \"thing\", \"thing\", \"thing\", \"thing\", \"thing\", \"thing\", \"think\", \"think\", \"think\", \"think\", \"think\", \"think\", \"thorough\", \"thorough\", \"thorough\", \"thorough\", \"thorough\", \"thorough\", \"toast\", \"toast\", \"toast\", \"toast\", \"toast\", \"toast\", \"tolerance\", \"tolerance\", \"tolerance\", \"tolerance\", \"tolerance\", \"tolerance\", \"toyota\", \"toyota\", \"toyota\", \"toyota\", \"toyota\", \"toyota\", \"traffic\", \"traffic\", \"traffic\", \"traffic\", \"traffic\", \"traffic\", \"transit\", \"transit\", \"transit\", \"transit\", \"transit\", \"transit\", \"trash\", \"trash\", \"trash\", \"trash\", \"trash\", \"trash\", \"tree\", \"tree\", \"tree\", \"tree\", \"tree\", \"tree\", \"turbine\", \"turbine\", \"turbine\", \"turbine\", \"turbine\", \"turbine\", \"unemployed\", \"unemployed\", \"unemployed\", \"unemployed\", \"unemployed\", \"unemployed\", \"unrelated\", \"unrelated\", \"unrelated\", \"unrelated\", \"unrelated\", \"unrelated\", \"update\", \"update\", \"update\", \"update\", \"update\", \"update\", \"urban\", \"urban\", \"urban\", \"urban\", \"urban\", \"urban\", \"use\", \"use\", \"use\", \"use\", \"use\", \"use\", \"vaguely\", \"vaguely\", \"vaguely\", \"vaguely\", \"vaguely\", \"vaguely\", \"ve\", \"ve\", \"ve\", \"ve\", \"ve\", \"ve\", \"versa\", \"versa\", \"versa\", \"versa\", \"versa\", \"versa\", \"vessel\", \"vessel\", \"vessel\", \"vessel\", \"vessel\", \"vessel\", \"vilsack\", \"vilsack\", \"vilsack\", \"vilsack\", \"vilsack\", \"vilsack\", \"volt\", \"volt\", \"volt\", \"volt\", \"volt\", \"volt\", \"vote\", \"vote\", \"vote\", \"vote\", \"vote\", \"vote\", \"waiver\", \"waiver\", \"waiver\", \"waiver\", \"waiver\", \"waiver\", \"want\", \"want\", \"want\", \"want\", \"want\", \"want\", \"water\", \"water\", \"water\", \"water\", \"water\", \"water\", \"waterfront\", \"waterfront\", \"waterfront\", \"waterfront\", \"waterfront\", \"waterfront\", \"way\", \"way\", \"way\", \"way\", \"way\", \"way\", \"wise\", \"wise\", \"wise\", \"wise\", \"wise\", \"wise\", \"wonk\", \"wonk\", \"wonk\", \"wonk\", \"wonk\", \"wonk\", \"work\", \"work\", \"work\", \"work\", \"work\", \"work\", \"world\", \"world\", \"world\", \"world\", \"world\", \"world\"]}, \"R\": 30, \"lambda.step\": 0.01, \"plot.opts\": {\"xlab\": \"PC1\", \"ylab\": \"PC2\"}, \"topic.order\": [1, 5, 3, 2, 4, 6]};\n",
       "\n",
       "function LDAvis_load_lib(url, callback){\n",
       "  var s = document.createElement('script');\n",
       "  s.src = url;\n",
       "  s.async = true;\n",
       "  s.onreadystatechange = s.onload = callback;\n",
       "  s.onerror = function(){console.warn(\"failed to load library \" + url);};\n",
       "  document.getElementsByTagName(\"head\")[0].appendChild(s);\n",
       "}\n",
       "\n",
       "if(typeof(LDAvis) !== \"undefined\"){\n",
       "   // already loaded: just create the visualization\n",
       "   !function(LDAvis){\n",
       "       new LDAvis(\"#\" + \"ldavis_el12971402348446762724638610405\", ldavis_el12971402348446762724638610405_data);\n",
       "   }(LDAvis);\n",
       "}else if(typeof define === \"function\" && define.amd){\n",
       "   // require.js is available: use it to load d3/LDAvis\n",
       "   require.config({paths: {d3: \"https://d3js.org/d3.v5\"}});\n",
       "   require([\"d3\"], function(d3){\n",
       "      window.d3 = d3;\n",
       "      LDAvis_load_lib(\"https://cdn.jsdelivr.net/gh/bmabey/pyLDAvis@3.3.1/pyLDAvis/js/ldavis.v3.0.0.js\", function(){\n",
       "        new LDAvis(\"#\" + \"ldavis_el12971402348446762724638610405\", ldavis_el12971402348446762724638610405_data);\n",
       "      });\n",
       "    });\n",
       "}else{\n",
       "    // require.js not available: dynamically load d3 & LDAvis\n",
       "    LDAvis_load_lib(\"https://d3js.org/d3.v5.js\", function(){\n",
       "         LDAvis_load_lib(\"https://cdn.jsdelivr.net/gh/bmabey/pyLDAvis@3.3.1/pyLDAvis/js/ldavis.v3.0.0.js\", function(){\n",
       "                 new LDAvis(\"#\" + \"ldavis_el12971402348446762724638610405\", ldavis_el12971402348446762724638610405_data);\n",
       "            })\n",
       "         });\n",
       "}\n",
       "</script>"
      ],
      "text/plain": [
       "PreparedData(topic_coordinates=              x         y  topics  cluster       Freq\n",
       "topic                                                \n",
       "0      0.011685 -0.012273       1        1  33.755663\n",
       "4     -0.002989  0.042494       2        1  21.157260\n",
       "2     -0.055069 -0.051953       3        1  19.308404\n",
       "1      0.072580  0.014091       4        1  10.621773\n",
       "3      0.030479 -0.036484       5        1   8.302746\n",
       "5     -0.056687  0.044124       6        1   6.854155, topic_info=            Term          Freq          Total Category  logprob  loglift\n",
       "454         city  50539.000000   50539.000000  Default  30.0000  30.0000\n",
       "1480       water  76405.000000   76405.000000  Default  29.0000  29.0000\n",
       "2583        food  71170.000000   71170.000000  Default  28.0000  28.0000\n",
       "6434         epa  17202.000000   17202.000000  Default  27.0000  27.0000\n",
       "618      economy  54669.000000   54669.000000  Default  26.0000  26.0000\n",
       "...          ...           ...            ...      ...      ...      ...\n",
       "144         make   4466.606479   54696.193916   Topic6  -5.7393   0.1751\n",
       "265        world   4758.139065   76718.875946   Topic6  -5.6761  -0.1000\n",
       "101         good   4456.569270   59179.709133   Topic6  -5.7416   0.0941\n",
       "636       energy   4709.621420  132348.001906   Topic6  -5.6863  -0.6555\n",
       "1116  production   4256.320678   47865.291271   Topic6  -5.7875   0.2603\n",
       "\n",
       "[489 rows x 6 columns], token_table=      Topic      Freq   Term\n",
       "term                        \n",
       "5197      1  0.116574     80\n",
       "5197      2  0.260349     80\n",
       "5197      3  0.071240     80\n",
       "5197      4  0.031086     80\n",
       "5197      5  0.025905     80\n",
       "...     ...       ...    ...\n",
       "265       2  0.289394  world\n",
       "265       3  0.145245  world\n",
       "265       4  0.093758  world\n",
       "265       5  0.078573  world\n",
       "265       6  0.062019  world\n",
       "\n",
       "[2250 rows x 3 columns], R=30, lambda_step=0.01, plot_opts={'xlab': 'PC1', 'ylab': 'PC2'}, topic_order=[1, 5, 3, 2, 4, 6])"
      ]
     },
     "execution_count": 18,
     "metadata": {},
     "output_type": "execute_result"
    }
   ],
   "source": [
    "p = pyLDAvis.gensim_models.prepare(lda_07_06, corpus, dictionary)\n",
    "p"
   ]
  },
  {
   "cell_type": "code",
   "execution_count": 20,
   "id": "bb985f73",
   "metadata": {},
   "outputs": [
    {
     "name": "stderr",
     "output_type": "stream",
     "text": [
      "/home/mcpackard/anaconda3/envs/thesis/lib/python3.9/site-packages/pyLDAvis/_prepare.py:246: FutureWarning: In a future version of pandas all arguments of DataFrame.drop except for the argument 'labels' will be keyword-only\n",
      "  default_term_info = default_term_info.sort_values(\n"
     ]
    },
    {
     "data": {
      "text/html": [
       "\n",
       "<link rel=\"stylesheet\" type=\"text/css\" href=\"https://cdn.jsdelivr.net/gh/bmabey/pyLDAvis@3.3.1/pyLDAvis/js/ldavis.v1.0.0.css\">\n",
       "\n",
       "\n",
       "<div id=\"ldavis_el12971402348446769441732130641\"></div>\n",
       "<script type=\"text/javascript\">\n",
       "\n",
       "var ldavis_el12971402348446769441732130641_data = {\"mdsDat\": {\"x\": [-0.009586788861950845, 0.03087017596062934, -0.024888616544365385, -0.08187501772325757, 0.050140794593895435, -0.007852212861181318, 0.061270209430949955, -0.01807854399471959], \"y\": [-0.02930441518155985, 0.039385561267988554, 0.03166670068517461, 0.02658003826415246, 0.02489147007293045, 0.003237969365643632, -0.018889443828184672, -0.07756788064614512], \"topics\": [1, 2, 3, 4, 5, 6, 7, 8], \"cluster\": [1, 1, 1, 1, 1, 1, 1, 1], \"Freq\": [27.53842590536178, 23.677649939339613, 11.09586740397805, 8.957131864904277, 8.285369001389986, 7.905693030142117, 7.523245838358586, 5.016617016525599]}, \"tinfo\": {\"Term\": [\"carbon\", \"price\", \"oil\", \"energy\", \"emission\", \"water\", \"shark\", \"food\", \"court\", \"epa\", \"fuel\", \"machine\", \"economy\", \"greenhouse_gas\", \"climate_change\", \"machinery\", \"solar\", \"increase\", \"road\", \"methanol\", \"film\", \"climate\", \"system\", \"percent\", \"technology\", \"ethanol\", \"cheap\", \"use\", \"de\", \"action\", \"lynch\", \"cere\", \"pension\", \"podcast\", \"clarify\", \"institutional\", \"retirement\", \"investor\", \"quake\", \"ctl\", \"framework\", \"pony\", \"blm\", \"passage\", \"employee\", \"eu\", \"pour\", \"insurance\", \"boreal\", \"rupture\", \"prosecutor\", \"firm\", \"iraqi\", \"prosecute\", \"landfall\", \"energ\\u00e9a\", \"retardant\", \"immediate\", \"3d\", \"spokesman\", \"sand\", \"grim\", \"editorial\", \"daniel\", \"probability\", \"tar\", \"europe\", \"accelerate\", \"mention\", \"eager\", \"oil\", \"large\", \"adam\", \"price\", \"de\", \"rise\", \"coal\", \"energy\", \"global\", \"supply\", \"investment\", \"world\", \"decline\", \"article\", \"public\", \"environmental\", \"water\", \"china\", \"demand\", \"government\", \"produce\", \"need\", \"country\", \"fuel\", \"good\", \"increase\", \"production\", \"global_warming\", \"food\", \"high\", \"emission\", \"carbon\", \"report\", \"policy\", \"way\", \"friendship\", \"nicolas\", \"encroach\", \"goat\", \"butter\", \"freshly\", \"medicinal\", \"revitalization\", \"insidious\", \"usefulness\", \"reconstruct\", \"growing\", \"conglomerate\", \"cigarette\", \"futile\", \"sahara\", \"toast\", \"balcony\", \"rim\", \"condom\", \"barcelona\", \"inhofe\", \"spruce\", \"borough\", \"sprout\", \"canyon\", \"memorial\", \"manifest\", \"grove\", \"orange\", \"slice\", \"perch\", \"grand\", \"forge\", \"fat\", \"city\", \"bake\", \"metropolis\", \"iceland\", \"mayor\", \"colin\", \"soup\", \"tent\", \"park\", \"food\", \"justice\", \"ipcc\", \"list\", \"pedestrian\", \"sarah\", \"revkin\", \"boast\", \"climate_change\", \"history\", \"green\", \"way\", \"science\", \"know\", \"want\", \"ve\", \"country\", \"bear\", \"global_warming\", \"get\", \"help\", \"go\", \"service\", \"make\", \"right\", \"grow\", \"think\", \"climate\", \"work\", \"good\", \"world\", \"need\", \"big\", \"water\", \"environmental\", \"emission\", \"state\", \"percent\", \"public\", \"report\", \"turner\", \"chick\", \"te\", \"dome\", \"changer\", \"programming\", \"hummer\", \"vaguely\", \"divisive\", \"mutually\", \"wagon\", \"cable\", \"curtis\", \"conundrum\", \"symbol\", \"legendary\", \"motorcycle\", \"advertise\", \"trailer\", \"clayton\", \"colo\", \"doyle\", \"monoxide\", \"admirable\", \"subjective\", \"in\", \"jane\", \"stun\", \"bypass\", \"ditch\", \"limitation\", \"reproduction\", \"machinery\", \"pielke\", \"making\", \"niche\", \"machine\", \"economy\", \"steel\", \"job\", \"rebuild\", \"turbine\", \"tool\", \"equipment\", \"green\", \"hybrid\", \"level\", \"build\", \"think\", \"electricity\", \"nuclear\", \"solar\", \"coal\", \"make\", \"energy\", \"big\", \"way\", \"create\", \"percent\", \"good\", \"gasoline\", \"want\", \"thing\", \"car\", \"power\", \"world\", \"environmental\", \"need\", \"climate_change\", \"work\", \"oil\", \"production\", \"know\", \"emission\", \"contractor\", \"bathe\", \"heater\", \"hose\", \"reflective\", \"appendix\", \"circulate\", \"depart\", \"dearest\", \"sunny\", \"tube\", \"glance\", \"backup\", \"miserable\", \"pv\", \"pellet\", \"invasive\", \"roof\", \"umbra\", \"insulate\", \"lastly\", \"instal\", \"fungi\", \"corrosion\", \"ll\", \"standby\", \"btu\", \"thorough\", \"wizard\", \"modification\", \"sun\", \"glow\", \"biomass\", \"methanol\", \"maintenance\", \"conversion\", \"engine\", \"machine\", \"solar\", \"hot\", \"steel\", \"equipment\", \"modify\", \"tank\", \"water\", \"turbine\", \"system\", \"south\", \"diesel\", \"store\", \"electrical\", \"tool\", \"corn\", \"ethanol\", \"gasoline\", \"africa\", \"production\", \"heat\", \"energy\", \"use\", \"machinery\", \"electricity\", \"fuel\", \"home\", \"car\", \"level\", \"power\", \"economy\", \"need\", \"produce\", \"good\", \"oil\", \"look\", \"create\", \"government\", \"vilsack\", \"pavement\", \"deception\", \"regressive\", \"unrelated\", \"detection\", \"beck\", \"appropriation\", \"tangle\", \"booster\", \"flop\", \"package\", \"refreshing\", \"pete\", \"versa\", \"destiny\", \"provider\", \"sim\", \"interstate\", \"supreme\", \"lip\", \"pave\", \"freeway\", \"decisively\", \"honest\", \"insert\", \"evolutionary\", \"clean_air_act\", \"clip\", \"obsolete\", \"court\", \"road\", \"epa\", \"lane\", \"stand\", \"sovereignty\", \"rail\", \"transit\", \"bike\", \"lawsuit\", \"bill\", \"massachusetts\", \"vote\", \"johnson\", \"light\", \"majority\", \"mile\", \"standard\", \"tax\", \"energy\", \"transportation\", \"pay\", \"question\", \"emission\", \"fuel\", \"vehicle\", \"agency\", \"state\", \"case\", \"go\", \"greenhouse_gas\", \"oil\", \"environmental\", \"way\", \"car\", \"global_warming\", \"percent\", \"carbon\", \"help\", \"public\", \"world\", \"climate\", \"shark\", \"puget\", \"kinda\", \"monsanto\", \"album\", \"decimate\", \"fin\", \"inquire\", \"monterey\", \"canal\", \"grill\", \"superfund\", \"bull\", \"csp\", \"otter\", \"alimentos\", \"casa\", \"gear\", \"mite\", \"amazon\", \"steele\", \"marine\", \"pac\", \"honey\", \"abound\", \"peace\", \"abundant\", \"southeast\", \"bien\", \"apartment\", \"nobel\", \"endangered\", \"la\", \"queensland\", \"creature\", \"chop\", \"win\", \"en\", \"pork\", \"de\", \"committee\", \"specie\", \"catch\", \"los\", \"prize\", \"commercial\", \"farm\", \"hear\", \"fuel\", \"gore\", \"include\", \"use\", \"car\", \"world\", \"farmer\", \"plant\", \"al\", \"green\", \"increase\", \"oil\", \"work\", \"need\", \"gas\", \"ethanol\", \"way\", \"energy\", \"government\", \"environmental\", \"go\", \"water\", \"food\", \"good\", \"public\", \"country\", \"coal\", \"big\", \"climateprogress\", \"becker\", \"brune\", \"uncomfortable\", \"robertson\", \"beacon\", \"bully\", \"patriot\", \"photographer\", \"inclusive\", \"klein\", \"mobilize\", \"courageous\", \"encouragement\", \"stumble\", \"compassion\", \"film\", \"revival\", \"filmmaker\", \"envoy\", \"genesis\", \"luther\", \"hack\", \"roadblock\", \"loyal\", \"skilled\", \"sensitivity\", \"clinton\", \"appoint\", \"bureaucracy\", \"skin\", \"arctic\", \"giant\", \"candidate\", \"refuse\", \"action\", \"presidential\", \"ceo\", \"climate_change\", \"grist\", \"climate\", \"deny\", \"america\", \"leader\", \"president\", \"strong\", \"debate\", \"nation\", \"animal\", \"wise\", \"mean\", \"need\", \"break\", \"post\", \"ipcc\", \"think\", \"food\", \"price\", \"emission\", \"world\", \"go\", \"global_warming\", \"want\", \"oil\", \"global\", \"good\", \"way\", \"environmental\", \"energy\", \"make\", \"government\", \"country\", \"set\", \"big\", \"verification\", \"observed\", \"nonexistent\", \"voluntarily\", \"patent\", \"verify\", \"disseminate\", \"cdm\", \"maximize\", \"revolve\", \"adoption\", \"offset\", \"technological\", \"worthwhile\", \"warrant\", \"indicative\", \"brew\", \"cheaply\", \"kg\", \"planting\", \"attribute\", \"insure\", \"disproportionately\", \"relative\", \"measurable\", \"stifle\", \"monopoly\", \"stable\", \"inventor\", \"decrease\", \"carbon\", \"tree\", \"concentration\", \"greenhouse_gas\", \"grant\", \"scheme\", \"dramatically\", \"emission\", \"sponsor\", \"price\", \"cheap\", \"innovation\", \"increase\", \"canada\", \"oil\", \"technology\", \"economist\", \"percent\", \"forest\", \"food\", \"benefit\", \"fuel\", \"energy\", \"improve\", \"canadian\", \"market\", \"climate\", \"ethanol\", \"study\", \"economy\", \"rise\", \"report\", \"world\", \"climate_change\", \"use\", \"coal\", \"global\", \"government\", \"cost\", \"project\"], \"Freq\": [51580.0, 74101.0, 128474.0, 129965.0, 66547.0, 73205.0, 12514.0, 75791.0, 19759.0, 20724.0, 56807.0, 19627.0, 49843.0, 29711.0, 65253.0, 18293.0, 24433.0, 42548.0, 18871.0, 16962.0, 14928.0, 49186.0, 50350.0, 46148.0, 37676.0, 27982.0, 25650.0, 51205.0, 21706.0, 31174.0, 7737.471154546733, 3897.0707356613357, 3717.9855469727954, 2992.678356303188, 3431.3505343983447, 4108.629462753141, 3386.974566976592, 9152.371754707272, 209.1546635620292, 7762.896296324497, 4059.0581967637363, 392.92384008614295, 360.3952639886778, 3137.676541677048, 3929.5033610883797, 8026.356380813297, 3609.553821155027, 6916.002234451507, 1019.6212604097466, 73.65951132793911, 140.5040085832217, 7579.316524962617, 2937.9741353289446, 65.56560145396914, 139.32343786612805, 1047.0101438695426, 172.00746703792214, 3625.638790226635, 84.13465382977596, 3588.0871721796525, 9537.106992485395, 2192.5348380035284, 3842.838962150588, 2507.381945331127, 2320.18494734152, 7494.808499636561, 11086.794418685075, 4693.349276532824, 7969.8750430227565, 3050.1519961201498, 70404.5561163959, 29510.10373318591, 3973.2890127103833, 37914.51484723165, 12448.28085544695, 19148.783404136928, 27164.688792469075, 52532.92126972289, 18719.008824251196, 15090.753876489587, 14659.515521232419, 33468.83551930974, 13093.6291540988, 14190.446300630256, 21357.900985756078, 22833.407341357553, 24508.431345501816, 11737.882223429538, 12259.131724020548, 17727.123720539876, 14876.83745796655, 20681.60429353673, 18415.065674498615, 18221.90057727942, 19024.14299620041, 15495.368924236827, 16165.90273152001, 16535.585890523005, 18657.413364433123, 14404.031518869604, 17550.847240139472, 15744.701693095543, 14929.939903451155, 13468.654378853984, 13604.580274104084, 1808.6485492062855, 955.0010661567728, 888.9289703233497, 1819.073825798771, 12393.843083183974, 963.102208495247, 885.8555768958853, 819.2269284169929, 854.0927810026221, 788.2115770033298, 816.2841929469298, 900.6712260815443, 872.2030068780346, 1680.5783452389692, 904.151878687127, 906.2435227402281, 1838.1526794160727, 792.9180553064771, 813.7386660428771, 832.9872633313329, 1517.6308421555677, 5129.940743085147, 952.2786066020724, 734.1279071288251, 980.406291524513, 4495.009515827698, 815.614291731578, 917.0266430013019, 938.0022006743638, 2762.831467619116, 2008.208477912716, 1406.0076273516581, 3395.7682067405067, 1546.5960082910744, 9290.468679801945, 37355.71082431882, 2107.7833818605654, 2081.590928340298, 2351.260018539369, 5277.109064342972, 2244.912258357376, 2065.5656461099147, 1562.7987117435273, 7703.460835327423, 32741.36759909851, 6919.635931733644, 9096.075324086263, 10300.876816223334, 2191.2685121503396, 3722.4410186109853, 2931.0979779769013, 2497.0335381835666, 22197.10739354204, 5693.3590733589, 18109.405075423685, 21164.47177007691, 9259.317924308496, 15526.488219227955, 14440.988609545153, 11646.750933374848, 16759.917204852078, 7125.822005655811, 15072.649479296191, 11860.566538621515, 12239.0714738666, 14392.529024900054, 7928.0819653246535, 14604.471866090635, 11065.942810685243, 11863.099292872681, 14875.515656679116, 13324.821232117416, 12362.964252584776, 15171.572070599877, 17780.534529705634, 14776.533878437462, 12531.291904166217, 15022.446671817728, 13802.250992135543, 13443.612766823546, 11181.965960123012, 11267.875242216454, 11271.607369512483, 11106.194395442304, 2543.842657577964, 1835.011274158618, 534.7428901426946, 1276.7645840303298, 1624.4532416123386, 641.2202912235529, 3676.776075845218, 661.0558673337556, 638.9019551562177, 675.1218350127252, 569.94682986676, 1327.0570385619358, 587.1811465605524, 647.4979187828594, 1926.4408490615601, 670.842136916414, 576.5636383659405, 1192.7320973277865, 2277.707620249977, 634.4578017305249, 697.9719675842996, 1226.9261151733092, 559.4381735687635, 533.3914323553607, 588.6533292127922, 1685.8016210519675, 1354.584139402985, 601.1114418635725, 660.430296007234, 659.5069519442984, 1345.3416713927804, 3460.72128418308, 10493.772894440093, 3237.6902895986814, 2598.824901876483, 2215.7973190603934, 8881.76945767152, 17895.94678104702, 5720.992452907209, 6372.09268914368, 2272.835974550017, 4354.040016751312, 5316.697145800268, 5277.310552324019, 13971.473766179093, 4237.595438683895, 10258.015386164161, 8224.673993898392, 13345.292764371132, 6722.889382369911, 5399.6904370523125, 6950.078990398797, 11726.094635897429, 9463.009279317297, 15998.801614483293, 8858.761934677317, 10293.998264565478, 6536.228789405309, 7816.067523693775, 9012.275555143286, 5211.921438717368, 7140.149055029017, 6779.736238724393, 7280.333028097449, 6119.987509971266, 8395.690790009528, 7609.859642063911, 7474.782811587157, 7179.1557135199655, 6461.956209716713, 7527.533592005062, 6326.184401746183, 6290.645827480569, 6383.027594815682, 2107.6789375999774, 652.9947524133753, 2110.331954514504, 846.8831323345171, 623.6940182713438, 665.8511646551655, 1388.8159113566612, 691.6806395042751, 908.013521399565, 764.1492962395422, 724.375746143298, 707.6790074267462, 713.8227693675041, 586.6310445728434, 786.2689303781376, 195.14008745365533, 660.2710631950139, 2174.347393860369, 1914.0446115079717, 762.5244817999907, 584.5014493075364, 2494.483311823947, 494.56787238566136, 522.4303059365114, 47.38665316371429, 567.3084316705482, 1037.8775376146, 534.0110099254924, 430.1657019615017, 606.7871082307511, 5215.173069189554, 577.2988041030428, 6676.717130217748, 9272.202021096995, 2072.512311242591, 1731.482723326079, 4272.120185978064, 8941.903105058136, 10811.056600343198, 4587.636981816892, 5982.360925267447, 5934.0984075339675, 2214.874339504375, 4093.125612777141, 20364.13200134339, 4225.239095841798, 14304.12259391978, 3978.758193650146, 4114.23484035438, 4488.807032291707, 1786.9325722731044, 4672.306664788253, 8125.369556824971, 7564.083272884311, 5905.9751608752185, 3013.819399486042, 9629.994303504865, 4189.0296395077385, 17804.61618994719, 9582.88297543573, 5118.67084628842, 5652.190435525087, 8603.090032507274, 5543.40575820151, 7290.6239768744135, 6392.007014706629, 5809.062734244148, 6609.290367371118, 6527.3746680408085, 5503.082013375321, 6083.291743123195, 6100.769548184946, 5049.147439660454, 4967.771637721348, 4952.183895983737, 1649.9278143646618, 2133.856146979307, 1109.6968793188908, 1087.0987390619457, 525.214891999384, 435.279534027148, 620.0847214108436, 1100.6404487936418, 531.0555144945275, 1122.9266554274343, 559.9658900138475, 6704.9773763498, 538.8998196112998, 602.7597052409949, 534.9785707127991, 539.4741076801075, 1112.3398646745977, 530.5668543056739, 568.2049235378695, 2512.969702180709, 558.0492029736208, 553.302399711684, 1161.553182034844, 876.1624431946551, 1157.013780928232, 571.403049142109, 564.256906768168, 2655.122142972344, 1311.0302502394113, 449.3707178156627, 11840.954223797415, 10727.69682683699, 10869.48213748274, 1928.7347315120455, 7294.774788808338, 1319.8424483631943, 4821.37308029621, 5479.91390294472, 3881.8641768262214, 2091.1334522274665, 7009.540261012126, 3210.426515678847, 2851.536184862532, 1573.9278687552853, 5114.108864378093, 4299.437887523155, 5221.529308436099, 5457.898208118791, 4092.4476057198735, 13404.865340224886, 3454.7364853557724, 4197.993126478304, 4911.941488653046, 7618.171313184369, 6981.353888023713, 3803.7019929201842, 3332.03021914072, 5695.877087791949, 3887.250185129276, 5488.510101932646, 4585.3769769511155, 7436.113838010129, 5765.927629794568, 5762.736977701814, 4873.849440233005, 4705.475231890351, 4554.337578741734, 4490.124386520078, 4144.667228556248, 4185.612692969099, 4226.2072442675235, 4176.220882510156, 11680.606472563459, 129.37399716668799, 139.33528930893493, 348.70096826217986, 314.06131817839673, 1009.0401230644587, 1936.8238769451093, 838.8281000029397, 105.9505389221165, 1059.1331070495553, 418.15236882644956, 324.3590508659663, 2153.3706867303067, 259.8854183228549, 48.480801184609945, 124.74354102938477, 77.3512690279121, 1137.1366039553059, 196.35699797883518, 1114.1143482062857, 112.73599031796516, 1593.005642795116, 26.244523985646254, 224.674865663792, 669.823273251513, 1954.0073500003914, 1072.726171991187, 1224.8035439619673, 41.743612472792805, 700.9549183364385, 2010.2525095207789, 1812.746785089039, 3446.0110102700037, 899.140654897604, 1089.9627782765954, 1150.6595703196479, 3891.455029710424, 2575.702123930492, 1455.9264766623292, 5853.947849778203, 4799.768158019332, 3438.914647913746, 3516.6088534904447, 1722.3341621115444, 2240.1812495700005, 2093.673731575564, 3661.852732769804, 2273.8675310377866, 8169.505204632298, 3030.923217011339, 5060.689231552735, 5985.154861820085, 5798.357440798883, 7795.691863833023, 3188.2484742271354, 4344.890659826636, 2681.8982991737257, 5344.806222603098, 4610.455764105477, 7559.767644669287, 4403.096715187269, 5123.380850130359, 3383.5651095776657, 3592.5084609155742, 4894.495199283094, 5422.660014302562, 4014.85127049133, 4226.453147659426, 3826.8271243675595, 4077.645054016707, 3968.354660456249, 3794.6045235654674, 3674.8157494615675, 3576.237760824149, 3581.0876129241824, 3504.9892685751415, 665.3812173503578, 640.7523647227843, 562.7175243689238, 607.9190247597453, 3346.844303836874, 540.8042514883564, 580.3913685924159, 553.3034761397106, 524.6342528027402, 550.5890495804583, 585.5187961733931, 1046.5705785017844, 496.4970925540834, 520.9775831417763, 578.1484184110208, 482.91999217980526, 9005.396455709313, 514.2535671154822, 568.428509306765, 68.33443564632735, 489.745710495321, 443.63492156052524, 473.5806350343466, 1665.966704382525, 404.1976745111016, 576.4733244916861, 537.4448825010309, 2145.7816941814967, 617.3283271778173, 549.3733679209397, 619.1089377766366, 6023.976771127005, 2379.012852932976, 2074.709313598743, 1420.5525605445193, 7909.251400147051, 2220.4179571643976, 1525.1857207961664, 11671.486351894804, 2631.8281557757086, 9274.691698623217, 1609.7668975554652, 5135.234129830685, 3819.7304093697285, 4575.271349239025, 3490.057449103023, 3823.866272895826, 5181.549343471552, 4203.388878562447, 1861.219132473052, 4014.272118976833, 7678.310117447877, 2666.152877978206, 4016.6391699019014, 3437.4706682157785, 6634.442433627805, 7100.7496917312355, 6708.586374146528, 6158.659165630076, 6942.098023642464, 5152.235665593635, 5185.542566543163, 4816.191076866211, 7222.1019454528705, 4409.438337472776, 5339.515840620988, 5316.314767492906, 5152.531236485642, 6050.409253755101, 4604.272069701875, 4560.2249102527385, 4443.303026468205, 4015.4870466289744, 4095.9195860901323, 538.6228955832319, 1209.7441140770322, 392.28574393054316, 420.03562483097727, 1776.1834354773387, 477.2792479295634, 333.63453317966184, 90.13254609476584, 422.9659080535963, 377.45660852674047, 711.7130852850822, 4169.236237075486, 2453.7111253369762, 476.16478324118924, 332.18255267408784, 237.03139599493616, 320.96384869200557, 341.2102135186291, 694.0302968271117, 635.5959337779224, 416.3831074464216, 315.92184387248085, 351.7739676433778, 1398.505128863871, 310.2510339539825, 256.8496256156549, 351.5436630807651, 456.2678827412424, 306.7698475481369, 1746.156003047731, 14461.042049529005, 4146.061333981836, 1228.1028214349578, 6708.197493185567, 1005.038937263165, 992.4806988968718, 1319.3910900664148, 10086.820969536651, 893.560704318877, 10873.523136902006, 4376.509988520634, 2141.3072893908816, 6262.082264861828, 3329.5503564196756, 11707.801666358177, 4983.878041868015, 2160.7466861950465, 5440.436977286883, 2569.611194053219, 7006.20988182624, 2659.185975444465, 5517.620562840362, 8301.46096047909, 2213.7957022303654, 1726.1016720627724, 3616.4565463506674, 4245.72846530835, 3119.2069027576676, 2933.688902726139, 3740.750147219147, 3175.643616984832, 3398.7927969519983, 4100.3593499519075, 3713.954254243669, 3290.350727586584, 3337.53669283311, 2967.1761976127486, 3065.07163707863, 2937.03945406674, 2943.329811946919], \"Total\": [51580.0, 74101.0, 128474.0, 129965.0, 66547.0, 73205.0, 12514.0, 75791.0, 19759.0, 20724.0, 56807.0, 19627.0, 49843.0, 29711.0, 65253.0, 18293.0, 24433.0, 42548.0, 18871.0, 16962.0, 14928.0, 49186.0, 50350.0, 46148.0, 37676.0, 27982.0, 25650.0, 51205.0, 21706.0, 31174.0, 7861.1278136439105, 3975.4780849061544, 3904.574637200418, 3274.058350351532, 3775.605937095462, 4740.241669750378, 3934.6848116955603, 10808.66402342979, 247.31437853504696, 9201.755618327345, 4888.315590783692, 477.14461009305836, 440.91105866034087, 3852.049317574004, 4835.899917953319, 10037.004054999967, 4539.527607081867, 8703.759428282943, 1293.7914465846727, 95.03609263134074, 182.70135319052022, 9859.936712188717, 3859.2236511438814, 86.29213874931321, 183.80814446693617, 1383.8447648177823, 228.11147727069377, 4845.288558735182, 112.79319581869214, 4869.886883129188, 13010.41333135777, 2988.2553740480225, 5319.214275307601, 3451.441858793215, 3202.323196856601, 10612.254899788237, 16887.8274622954, 6767.461787642424, 11887.507911478902, 4295.344282073714, 128474.5964492639, 52861.75319822251, 5811.447371895959, 74101.74199350477, 21706.910049055547, 37114.167310373705, 57190.16624725543, 129965.11260323513, 37076.6985895627, 28591.35604223074, 27658.374782413477, 85806.64136191121, 25093.175435163434, 28623.002239050722, 50789.71442026461, 65347.92903059253, 73205.08042965534, 24332.25114123965, 26256.03745229335, 48358.919942479064, 37440.73141900548, 66464.50623213002, 55800.11788333756, 56807.52098594025, 63830.23073183336, 42548.102540399595, 46546.98490442083, 48985.93206540597, 75791.63058760468, 39388.207721724015, 66547.86465566773, 51580.95376010955, 47090.5188078357, 36667.33226127014, 67698.80578488321, 1932.856943098298, 1032.9123569167987, 964.7016731101852, 1983.1434845018755, 13654.489875433323, 1065.8623117686325, 981.7237078471468, 910.00622232547, 959.572993088915, 888.9649079964773, 932.1856780230073, 1034.716051186891, 1003.1843554140163, 1935.389014134437, 1044.0925929960283, 1052.7382724090555, 2138.372480337047, 928.0401943722469, 964.0654521277055, 992.0324857183542, 1820.54705796626, 6155.750343235595, 1146.8378228729557, 884.2584758608994, 1181.3673248376056, 5433.757371931533, 989.2733299575706, 1112.7006884397852, 1139.1553493414556, 3371.671172469289, 2472.667489945775, 1738.1450528987511, 4536.822670214344, 1949.1853823172669, 13459.97884771435, 61500.19678060161, 2731.482141250903, 2707.106674474922, 3100.7502187150544, 8020.386966585754, 2994.5475441722197, 2743.7751044680954, 1978.8973420983239, 13079.014905459067, 75791.63058760468, 12152.802403131407, 17172.081483023547, 20561.536440064403, 3068.783007101149, 6078.61752218928, 4470.72593809335, 3644.602611248229, 65253.51266505266, 11040.579235879955, 53561.792043983245, 67698.80578488321, 22005.562020284357, 45839.05143325888, 41836.6438893905, 31797.041859010627, 55800.11788333756, 16157.381732657655, 48985.93206540597, 35061.11970387403, 36794.42491196263, 47519.80146955318, 19356.91131022282, 50245.515321900304, 32729.3791509132, 38042.590574119844, 56696.1388816458, 49186.09334863061, 43531.89945591874, 63830.23073183336, 85806.64136191121, 66464.50623213002, 47156.98942518498, 73205.08042965534, 65347.92903059253, 66547.86465566773, 42241.221059639094, 46148.133316478205, 50789.71442026461, 47090.5188078357, 2681.8709452150606, 2011.8658189874948, 598.3927738330059, 1454.5100575919923, 1865.8912256956912, 753.6169925414024, 4349.040547322032, 795.8124299338558, 772.3718246642429, 831.0012738290426, 707.3242090026727, 1647.0992538060063, 734.2077737166703, 810.9887955471847, 2446.5312886804218, 860.5928881244442, 742.5183545697271, 1541.2153015234055, 2988.2341458699407, 833.9577322703838, 925.9628737914301, 1634.7025662162557, 751.0479622730373, 748.7161738799751, 830.3199442486651, 2391.606825703572, 1922.690875745512, 857.3610522605755, 950.49310378755, 952.7448489583602, 1946.1224513984762, 5470.432886563116, 18293.991268176887, 5350.31355279989, 4431.710038147237, 3761.352089064483, 19627.238907445488, 49843.73118828454, 13446.031940566045, 15786.771827374607, 4182.6332077655115, 10062.227245858334, 13497.296131684758, 13614.029772460635, 53561.792043983245, 10521.467676099792, 36205.3157849326, 28016.93110359019, 56696.1388816458, 22694.328087743746, 16191.086189402156, 24433.340989028973, 57190.16624725543, 50245.515321900304, 129965.11260323513, 47156.98942518498, 67698.80578488321, 30088.894663206574, 46148.133316478205, 63830.23073183336, 19878.978700281943, 41836.6438893905, 37899.54525124238, 48567.80299284836, 31941.280089599582, 85806.64136191121, 65347.92903059253, 66464.50623213002, 65253.51266505266, 43531.89945591874, 128474.5964492639, 46546.98490442083, 45839.05143325888, 66547.86465566773, 2437.952957790126, 763.602558065295, 2494.50129543873, 1037.502834419475, 768.1398861937658, 833.626988907068, 1756.2826738669105, 881.0669934442559, 1206.7120834395494, 1031.790162384559, 993.7260575665214, 989.7235240106513, 1014.9232556819524, 845.8862727228952, 1145.145464951766, 289.1831244522312, 980.1424292423573, 3241.8330631536173, 2862.737048968836, 1156.674137985467, 887.0685556462859, 3807.128175113534, 763.1260795524408, 810.6892280692316, 75.14017536818403, 905.5886845713231, 1658.0464001432526, 863.2825195979327, 711.5779407507498, 1008.8449325221376, 8677.42786461428, 960.5000046934578, 11887.297637615457, 16962.739523362696, 3697.559879576425, 3092.4109116185773, 8287.92837443931, 19627.238907445488, 24433.340989028973, 9445.50292190167, 13446.031940566045, 13614.029772460635, 4180.771712865536, 9184.23633022383, 73205.08042965534, 10062.227245858334, 50350.13898754549, 9888.372862045122, 10645.09612132678, 12254.59633624413, 3355.6774812764047, 13497.296131684758, 30376.702993068182, 27982.059507950835, 19878.978700281943, 7494.672807576084, 46546.98490442083, 12589.7946707823, 129965.11260323513, 51205.7234702788, 18293.991268176887, 22694.328087743746, 56807.52098594025, 24519.29424897619, 48567.80299284836, 36205.3157849326, 31941.280089599582, 49843.73118828454, 66464.50623213002, 37440.73141900548, 63830.23073183336, 128474.5964492639, 32332.70745627554, 30088.894663206574, 48358.919942479064, 1721.1071340447736, 2271.4078613033976, 1243.1448510148737, 1238.042341791061, 607.0486325591849, 506.99985638990154, 722.3781261706052, 1308.5833271251688, 637.1781945477491, 1351.7441151986682, 683.8546398739117, 8235.462969387014, 667.4807870269742, 753.8661392143076, 694.9781804189474, 711.3541307173426, 1502.5653836002784, 720.2915237011711, 793.6037738352255, 3559.0757625834053, 800.7966847231547, 828.6177032625498, 1761.860335500039, 1341.8416812373066, 1772.118259719483, 877.5186163032002, 866.5608832783666, 4120.448583693722, 2110.365521663918, 729.0515547880467, 19759.516494359592, 18871.470953511613, 20724.626572587258, 3350.915732601201, 15880.039265335226, 2194.3679003237253, 10459.099682455133, 12413.016987934521, 9962.846574230001, 4322.105783619334, 23630.66270501577, 8130.647369400858, 6947.07874817143, 3006.6436730378605, 16850.153830815194, 13136.487806235697, 17974.687957351816, 19467.345496232167, 13030.793460429839, 129965.11260323513, 12449.448995933122, 18906.511741854785, 26083.003878899166, 66547.86465566773, 56807.52098594025, 16414.073699758315, 12963.53077234991, 42241.221059639094, 18228.367882790415, 47519.80146955318, 29711.948681879567, 128474.5964492639, 65347.92903059253, 67698.80578488321, 48567.80299284836, 48985.93206540597, 46148.133316478205, 51580.95376010955, 36794.42491196263, 50789.71442026461, 85806.64136191121, 49186.09334863061, 12514.93161404618, 188.0947422455455, 203.44621613399542, 515.0761982819683, 480.1600887832332, 1562.458910062294, 3014.3858924027327, 1311.49029878552, 166.3317324980576, 1716.6567942629997, 679.4086082947026, 533.3142507101794, 3554.8300098487025, 445.2731862547508, 84.32195789100919, 225.45312469898653, 144.0795438295597, 2152.1008408518146, 375.57539434782234, 2259.1629960744676, 229.9255385002979, 3315.413431299798, 55.563216327197175, 476.3340700057222, 1428.3346957557196, 4178.0310437846565, 2315.6391828080486, 2682.8354909206705, 91.81498887294447, 1555.951374454931, 4593.535524263579, 4299.699949210794, 8563.769378046514, 2102.182200736768, 2685.2641153253753, 2865.226293249419, 11466.716508757663, 7522.361096527336, 3921.1399585615036, 21706.910049055547, 18776.220281884383, 12696.995486373637, 13171.568752423698, 5353.031579157484, 7984.138893411405, 7427.40220389059, 16797.438338073152, 8373.894388890762, 56807.52098594025, 13266.119770154875, 31074.167205424037, 51205.7234702788, 48567.80299284836, 85806.64136191121, 16611.08544616571, 32973.159676471885, 13098.637126073436, 53561.792043983245, 42548.102540399595, 128474.5964492639, 43531.89945591874, 66464.50623213002, 23862.803474451564, 27982.059507950835, 67698.80578488321, 129965.11260323513, 48358.919942479064, 65347.92903059253, 47519.80146955318, 73205.08042965534, 75791.63058760468, 63830.23073183336, 50789.71442026461, 55800.11788333756, 57190.16624725543, 47156.98942518498, 724.9200169824952, 780.101756118594, 695.8332913976155, 783.3550227334574, 4615.040790086366, 763.0974633556787, 820.1848264842694, 782.3710535386134, 762.5455027372177, 800.399711040284, 877.7250491687455, 1648.1430463945912, 785.94298841296, 836.5873811851227, 941.4702915279917, 795.0709080648726, 14928.900404427166, 862.9820482277153, 956.5444545610621, 115.13326193105709, 829.447820974823, 763.6531272687495, 834.1745823086135, 2969.4371691045335, 721.8561106818503, 1035.1292768742085, 965.2422734816062, 3936.059630575077, 1143.5986899701838, 1023.0062432816742, 1172.649705966163, 15901.725999592649, 5893.8123726592385, 5327.88403089387, 3383.5520335227093, 31174.064248639454, 6099.590477435689, 3836.7654055484445, 65253.51266505266, 8443.089102575286, 49186.09334863061, 4377.234422859606, 23178.880055682042, 15239.748598432774, 20540.479881040785, 14285.48577584573, 18019.10357855146, 30904.535091498663, 22184.37278248613, 5946.799037666786, 21954.749951510803, 66464.50623213002, 10976.79557741339, 22492.997525006198, 17172.081483023547, 56696.1388816458, 75791.63058760468, 74101.74199350477, 66547.86465566773, 85806.64136191121, 47519.80146955318, 48985.93206540597, 41836.6438893905, 128474.5964492639, 37076.6985895627, 63830.23073183336, 67698.80578488321, 65347.92903059253, 129965.11260323513, 50245.515321900304, 48358.919942479064, 55800.11788333756, 30327.916105584085, 47156.98942518498, 692.795216603041, 1854.0497668911457, 649.0182268174458, 731.8644742945843, 3204.196553794095, 886.698930180474, 686.6186530480527, 188.2738516302797, 893.6884843658975, 803.3297384557499, 1595.74351133562, 9823.627390808015, 6059.574317929292, 1183.7985243561254, 843.4284983447567, 603.3760269242918, 831.057950033627, 890.3413213149257, 1853.295922898377, 1698.1286497678584, 1117.5933669494584, 857.4527540659199, 959.5867898094824, 3896.1484948311445, 868.4031092289406, 720.5847994646247, 993.2292897283731, 1334.7776210329876, 899.5549976637961, 5168.97936762251, 51580.95376010955, 15469.18638766316, 4198.153071431919, 29711.948681879567, 3412.0238674542943, 3391.570569793875, 4791.898013678819, 66547.86465566773, 3107.34220377781, 74101.74199350477, 25650.672956827428, 10017.004616754992, 42548.102540399595, 19701.329966497207, 128474.5964492639, 37676.74889997035, 11053.593728435084, 46148.133316478205, 14836.392025994384, 75791.63058760468, 16482.24579815365, 56807.52098594025, 129965.11260323513, 13442.200129996701, 8791.026956659201, 35244.840257636344, 49186.09334863061, 27982.059507950835, 24772.68403480182, 49843.73118828454, 37114.167310373705, 47090.5188078357, 85806.64136191121, 65253.51266505266, 51205.7234702788, 57190.16624725543, 37076.6985895627, 48358.919942479064, 37042.20594369882, 38930.42217090873], \"Category\": [\"Default\", \"Default\", \"Default\", \"Default\", \"Default\", \"Default\", \"Default\", \"Default\", \"Default\", \"Default\", \"Default\", \"Default\", \"Default\", \"Default\", \"Default\", \"Default\", \"Default\", \"Default\", \"Default\", \"Default\", \"Default\", \"Default\", \"Default\", \"Default\", \"Default\", \"Default\", \"Default\", \"Default\", \"Default\", \"Default\", \"Topic1\", \"Topic1\", \"Topic1\", \"Topic1\", \"Topic1\", \"Topic1\", \"Topic1\", \"Topic1\", \"Topic1\", \"Topic1\", \"Topic1\", \"Topic1\", \"Topic1\", \"Topic1\", \"Topic1\", \"Topic1\", \"Topic1\", \"Topic1\", \"Topic1\", \"Topic1\", \"Topic1\", \"Topic1\", \"Topic1\", \"Topic1\", \"Topic1\", \"Topic1\", \"Topic1\", \"Topic1\", \"Topic1\", \"Topic1\", \"Topic1\", \"Topic1\", \"Topic1\", \"Topic1\", \"Topic1\", \"Topic1\", \"Topic1\", \"Topic1\", \"Topic1\", \"Topic1\", \"Topic1\", \"Topic1\", \"Topic1\", \"Topic1\", \"Topic1\", \"Topic1\", \"Topic1\", \"Topic1\", \"Topic1\", \"Topic1\", \"Topic1\", \"Topic1\", \"Topic1\", \"Topic1\", \"Topic1\", \"Topic1\", \"Topic1\", \"Topic1\", \"Topic1\", \"Topic1\", \"Topic1\", \"Topic1\", \"Topic1\", \"Topic1\", \"Topic1\", \"Topic1\", \"Topic1\", \"Topic1\", \"Topic1\", \"Topic1\", \"Topic1\", \"Topic1\", \"Topic1\", \"Topic1\", \"Topic1\", \"Topic2\", \"Topic2\", \"Topic2\", \"Topic2\", \"Topic2\", \"Topic2\", \"Topic2\", \"Topic2\", \"Topic2\", \"Topic2\", \"Topic2\", \"Topic2\", \"Topic2\", \"Topic2\", \"Topic2\", \"Topic2\", \"Topic2\", \"Topic2\", \"Topic2\", \"Topic2\", \"Topic2\", \"Topic2\", \"Topic2\", \"Topic2\", \"Topic2\", \"Topic2\", \"Topic2\", \"Topic2\", \"Topic2\", \"Topic2\", \"Topic2\", \"Topic2\", \"Topic2\", \"Topic2\", \"Topic2\", \"Topic2\", \"Topic2\", \"Topic2\", \"Topic2\", \"Topic2\", \"Topic2\", \"Topic2\", \"Topic2\", \"Topic2\", \"Topic2\", \"Topic2\", \"Topic2\", \"Topic2\", \"Topic2\", \"Topic2\", \"Topic2\", \"Topic2\", \"Topic2\", \"Topic2\", \"Topic2\", \"Topic2\", \"Topic2\", \"Topic2\", \"Topic2\", \"Topic2\", \"Topic2\", \"Topic2\", \"Topic2\", \"Topic2\", \"Topic2\", \"Topic2\", \"Topic2\", \"Topic2\", \"Topic2\", \"Topic2\", \"Topic2\", \"Topic2\", \"Topic2\", \"Topic2\", \"Topic2\", \"Topic2\", \"Topic2\", \"Topic2\", \"Topic2\", \"Topic2\", \"Topic2\", \"Topic2\", \"Topic2\", \"Topic2\", \"Topic3\", \"Topic3\", \"Topic3\", \"Topic3\", \"Topic3\", \"Topic3\", \"Topic3\", \"Topic3\", \"Topic3\", \"Topic3\", \"Topic3\", \"Topic3\", \"Topic3\", \"Topic3\", \"Topic3\", \"Topic3\", \"Topic3\", \"Topic3\", \"Topic3\", \"Topic3\", \"Topic3\", \"Topic3\", \"Topic3\", \"Topic3\", \"Topic3\", \"Topic3\", \"Topic3\", \"Topic3\", \"Topic3\", \"Topic3\", \"Topic3\", \"Topic3\", \"Topic3\", \"Topic3\", \"Topic3\", \"Topic3\", \"Topic3\", \"Topic3\", \"Topic3\", \"Topic3\", \"Topic3\", \"Topic3\", \"Topic3\", \"Topic3\", \"Topic3\", \"Topic3\", \"Topic3\", \"Topic3\", \"Topic3\", \"Topic3\", \"Topic3\", \"Topic3\", \"Topic3\", \"Topic3\", \"Topic3\", \"Topic3\", \"Topic3\", \"Topic3\", \"Topic3\", \"Topic3\", \"Topic3\", \"Topic3\", \"Topic3\", \"Topic3\", \"Topic3\", \"Topic3\", \"Topic3\", \"Topic3\", \"Topic3\", \"Topic3\", \"Topic3\", \"Topic3\", \"Topic3\", \"Topic3\", \"Topic4\", \"Topic4\", \"Topic4\", \"Topic4\", \"Topic4\", \"Topic4\", \"Topic4\", \"Topic4\", \"Topic4\", \"Topic4\", \"Topic4\", \"Topic4\", \"Topic4\", \"Topic4\", \"Topic4\", \"Topic4\", \"Topic4\", \"Topic4\", \"Topic4\", \"Topic4\", \"Topic4\", \"Topic4\", \"Topic4\", \"Topic4\", \"Topic4\", \"Topic4\", \"Topic4\", \"Topic4\", \"Topic4\", \"Topic4\", \"Topic4\", \"Topic4\", \"Topic4\", \"Topic4\", \"Topic4\", \"Topic4\", \"Topic4\", \"Topic4\", \"Topic4\", \"Topic4\", \"Topic4\", \"Topic4\", \"Topic4\", \"Topic4\", \"Topic4\", \"Topic4\", \"Topic4\", \"Topic4\", \"Topic4\", \"Topic4\", \"Topic4\", \"Topic4\", \"Topic4\", \"Topic4\", \"Topic4\", \"Topic4\", \"Topic4\", \"Topic4\", \"Topic4\", \"Topic4\", \"Topic4\", \"Topic4\", \"Topic4\", \"Topic4\", \"Topic4\", \"Topic4\", \"Topic4\", \"Topic4\", \"Topic4\", \"Topic4\", \"Topic4\", \"Topic4\", \"Topic4\", \"Topic4\", \"Topic4\", \"Topic5\", \"Topic5\", \"Topic5\", \"Topic5\", \"Topic5\", \"Topic5\", \"Topic5\", \"Topic5\", \"Topic5\", \"Topic5\", \"Topic5\", \"Topic5\", \"Topic5\", \"Topic5\", \"Topic5\", \"Topic5\", \"Topic5\", \"Topic5\", \"Topic5\", \"Topic5\", \"Topic5\", \"Topic5\", \"Topic5\", \"Topic5\", \"Topic5\", \"Topic5\", \"Topic5\", \"Topic5\", \"Topic5\", \"Topic5\", \"Topic5\", \"Topic5\", \"Topic5\", \"Topic5\", \"Topic5\", \"Topic5\", \"Topic5\", \"Topic5\", \"Topic5\", \"Topic5\", \"Topic5\", \"Topic5\", \"Topic5\", \"Topic5\", \"Topic5\", \"Topic5\", \"Topic5\", \"Topic5\", \"Topic5\", \"Topic5\", \"Topic5\", \"Topic5\", \"Topic5\", \"Topic5\", \"Topic5\", \"Topic5\", \"Topic5\", \"Topic5\", \"Topic5\", \"Topic5\", \"Topic5\", \"Topic5\", \"Topic5\", \"Topic5\", \"Topic5\", \"Topic5\", \"Topic5\", \"Topic5\", \"Topic5\", \"Topic5\", \"Topic5\", \"Topic5\", \"Topic6\", \"Topic6\", \"Topic6\", \"Topic6\", \"Topic6\", \"Topic6\", \"Topic6\", \"Topic6\", \"Topic6\", \"Topic6\", \"Topic6\", \"Topic6\", \"Topic6\", \"Topic6\", \"Topic6\", \"Topic6\", \"Topic6\", \"Topic6\", \"Topic6\", \"Topic6\", \"Topic6\", \"Topic6\", \"Topic6\", \"Topic6\", \"Topic6\", \"Topic6\", \"Topic6\", \"Topic6\", \"Topic6\", \"Topic6\", \"Topic6\", \"Topic6\", \"Topic6\", \"Topic6\", \"Topic6\", \"Topic6\", \"Topic6\", \"Topic6\", \"Topic6\", \"Topic6\", \"Topic6\", \"Topic6\", \"Topic6\", \"Topic6\", \"Topic6\", \"Topic6\", \"Topic6\", \"Topic6\", \"Topic6\", \"Topic6\", \"Topic6\", \"Topic6\", \"Topic6\", \"Topic6\", \"Topic6\", \"Topic6\", \"Topic6\", \"Topic6\", \"Topic6\", \"Topic6\", \"Topic6\", \"Topic6\", \"Topic6\", \"Topic6\", \"Topic6\", \"Topic6\", \"Topic6\", \"Topic6\", \"Topic6\", \"Topic6\", \"Topic6\", \"Topic6\", \"Topic6\", \"Topic6\", \"Topic6\", \"Topic6\", \"Topic7\", \"Topic7\", \"Topic7\", \"Topic7\", \"Topic7\", \"Topic7\", \"Topic7\", \"Topic7\", \"Topic7\", \"Topic7\", \"Topic7\", \"Topic7\", \"Topic7\", \"Topic7\", \"Topic7\", \"Topic7\", \"Topic7\", \"Topic7\", \"Topic7\", \"Topic7\", \"Topic7\", \"Topic7\", \"Topic7\", \"Topic7\", \"Topic7\", \"Topic7\", \"Topic7\", \"Topic7\", \"Topic7\", \"Topic7\", \"Topic7\", \"Topic7\", \"Topic7\", \"Topic7\", \"Topic7\", \"Topic7\", \"Topic7\", \"Topic7\", \"Topic7\", \"Topic7\", \"Topic7\", \"Topic7\", \"Topic7\", \"Topic7\", \"Topic7\", \"Topic7\", \"Topic7\", \"Topic7\", \"Topic7\", \"Topic7\", \"Topic7\", \"Topic7\", \"Topic7\", \"Topic7\", \"Topic7\", \"Topic7\", \"Topic7\", \"Topic7\", \"Topic7\", \"Topic7\", \"Topic7\", \"Topic7\", \"Topic7\", \"Topic7\", \"Topic7\", \"Topic7\", \"Topic7\", \"Topic7\", \"Topic7\", \"Topic7\", \"Topic7\", \"Topic7\", \"Topic7\", \"Topic7\", \"Topic8\", \"Topic8\", \"Topic8\", \"Topic8\", \"Topic8\", \"Topic8\", \"Topic8\", \"Topic8\", \"Topic8\", \"Topic8\", \"Topic8\", \"Topic8\", \"Topic8\", \"Topic8\", \"Topic8\", \"Topic8\", \"Topic8\", \"Topic8\", \"Topic8\", \"Topic8\", \"Topic8\", \"Topic8\", \"Topic8\", \"Topic8\", \"Topic8\", \"Topic8\", \"Topic8\", \"Topic8\", \"Topic8\", \"Topic8\", \"Topic8\", \"Topic8\", \"Topic8\", \"Topic8\", \"Topic8\", \"Topic8\", \"Topic8\", \"Topic8\", \"Topic8\", \"Topic8\", \"Topic8\", \"Topic8\", \"Topic8\", \"Topic8\", \"Topic8\", \"Topic8\", \"Topic8\", \"Topic8\", \"Topic8\", \"Topic8\", \"Topic8\", \"Topic8\", \"Topic8\", \"Topic8\", \"Topic8\", \"Topic8\", \"Topic8\", \"Topic8\", \"Topic8\", \"Topic8\", \"Topic8\", \"Topic8\", \"Topic8\", \"Topic8\", \"Topic8\", \"Topic8\", \"Topic8\", \"Topic8\", \"Topic8\", \"Topic8\"], \"logprob\": [30.0, 29.0, 28.0, 27.0, 26.0, 25.0, 24.0, 23.0, 22.0, 21.0, 20.0, 19.0, 18.0, 17.0, 16.0, 15.0, 14.0, 13.0, 12.0, 11.0, 10.0, 9.0, 8.0, 7.0, 6.0, 5.0, 4.0, 3.0, 2.0, 1.0, -6.5806, -7.2664, -7.3135, -7.5305, -7.3937, -7.2136, -7.4067, -6.4126, -10.1913, -6.5773, -7.2257, -9.5608, -9.6472, -7.4832, -7.2581, -6.5439, -7.3431, -6.6928, -8.6072, -11.235, -10.5892, -6.6012, -7.5489, -11.3514, -10.5976, -8.5807, -10.3869, -7.3386, -11.102, -7.349, -6.3715, -7.8416, -7.2804, -7.7074, -7.785, -6.6124, -6.2209, -7.0805, -6.551, -7.5115, -4.3724, -5.2419, -7.2471, -4.9913, -6.1051, -5.6744, -5.3247, -4.6652, -5.6971, -5.9126, -5.9416, -5.116, -6.0545, -5.9741, -5.5652, -5.4984, -5.4276, -6.1638, -6.1204, -5.7516, -5.9269, -5.5974, -5.7135, -5.724, -5.681, -5.8861, -5.8438, -5.8211, -5.7004, -5.9592, -5.7616, -5.8702, -5.9233, -6.0263, -6.0163, -7.883, -8.5217, -8.5933, -7.8773, -5.9584, -8.5132, -8.5968, -8.675, -8.6333, -8.7136, -8.6786, -8.5802, -8.6123, -7.9565, -8.5764, -8.5741, -7.8668, -8.7076, -8.6817, -8.6583, -8.0585, -6.8405, -8.5245, -8.7847, -8.4954, -6.9726, -8.6794, -8.5622, -8.5396, -7.4594, -7.7784, -8.1349, -7.2531, -8.0396, -6.2466, -4.8551, -7.73, -7.7425, -7.6207, -6.8122, -7.6669, -7.7502, -8.0291, -6.4339, -4.987, -6.5412, -6.2678, -6.1434, -7.6911, -7.1612, -7.4002, -7.5605, -5.3756, -6.7363, -5.5792, -5.4233, -6.25, -5.7331, -5.8055, -6.0206, -5.6566, -6.5119, -5.7627, -6.0024, -5.971, -5.8089, -6.4052, -5.7943, -6.0717, -6.0022, -5.7759, -5.886, -5.9609, -5.7562, -5.5975, -5.7826, -5.9474, -5.7661, -5.8508, -5.8771, -6.0613, -6.0537, -6.0533, -6.0681, -6.784, -7.1106, -8.3436, -7.4733, -7.2325, -8.162, -6.4156, -8.1316, -8.1657, -8.1105, -8.2799, -7.4347, -8.2501, -8.1523, -7.062, -8.1169, -8.2683, -7.5414, -6.8945, -8.1726, -8.0772, -7.5131, -8.2985, -8.3461, -8.2476, -7.1954, -7.4142, -8.2266, -8.1325, -8.1339, -7.421, -6.4762, -5.3669, -6.5428, -6.7626, -6.922, -5.5336, -4.8331, -5.9735, -5.8657, -6.8966, -6.2465, -6.0468, -6.0542, -5.0806, -6.2737, -5.3896, -5.6105, -5.1265, -5.8121, -6.0313, -5.7789, -5.2558, -5.4703, -4.9451, -5.5362, -5.3861, -5.8403, -5.6615, -5.5191, -6.0667, -5.7519, -5.8037, -5.7325, -5.9061, -5.5899, -5.6882, -5.7061, -5.7465, -5.8517, -5.6991, -5.873, -5.8786, -5.864, -6.7579, -7.9297, -6.7567, -7.6697, -7.9756, -7.9102, -7.1751, -7.8722, -7.6, -7.7725, -7.826, -7.8493, -7.8406, -8.0369, -7.744, -9.1376, -7.9186, -6.7268, -6.8543, -7.7746, -8.0405, -6.5894, -8.2076, -8.1528, -10.5529, -8.0704, -7.4663, -8.1309, -8.3471, -8.0031, -5.852, -8.0529, -5.6049, -5.2765, -6.7748, -6.9545, -6.0514, -5.3128, -5.123, -5.9802, -5.7147, -5.7228, -6.7083, -6.0942, -4.4898, -6.0625, -4.843, -6.1226, -6.0891, -6.0019, -6.923, -5.9619, -5.4085, -5.4801, -5.7276, -6.4003, -5.2386, -6.0711, -4.6241, -5.2435, -5.8706, -5.7715, -5.3514, -5.7909, -5.5169, -5.6485, -5.7441, -5.6151, -5.6275, -5.7982, -5.698, -5.6951, -5.8843, -5.9006, -5.9037, -6.9248, -6.6676, -7.3215, -7.3421, -8.0695, -8.2573, -7.9035, -7.3297, -8.0585, -7.3096, -8.0054, -5.5227, -8.0438, -7.9318, -8.0511, -8.0427, -7.3191, -8.0594, -7.9908, -6.5041, -8.0089, -8.0174, -7.2758, -7.5578, -7.2797, -7.9852, -7.9978, -6.4491, -7.1548, -8.2255, -4.954, -5.0527, -5.0396, -6.7687, -5.4384, -7.1481, -5.8525, -5.7245, -6.0693, -6.6879, -5.4783, -6.2592, -6.3777, -6.972, -5.7936, -5.9671, -5.7728, -5.7285, -6.0164, -4.83, -6.1858, -5.991, -5.8339, -5.395, -5.4823, -6.0896, -6.222, -5.6858, -6.0679, -5.7229, -5.9027, -5.4192, -5.6736, -5.6742, -5.8417, -5.8768, -5.9095, -5.9237, -6.0037, -5.9939, -5.9843, -5.9962, -4.9207, -9.4237, -9.3495, -8.4322, -8.5368, -7.3697, -6.7176, -7.5544, -9.6234, -7.3212, -8.2506, -8.5046, -6.6116, -8.7262, -10.4052, -9.4602, -9.9381, -7.2501, -9.0065, -7.2706, -9.5614, -6.913, -11.019, -8.8718, -7.7794, -6.7088, -7.3085, -7.1759, -10.5549, -7.734, -6.6804, -6.7838, -6.1414, -7.485, -7.2925, -7.2383, -6.0199, -6.4325, -7.003, -5.6115, -5.8101, -6.1435, -6.1212, -6.835, -6.5721, -6.6397, -6.0807, -6.5572, -5.2783, -6.2698, -5.7572, -5.5894, -5.6211, -5.3251, -6.2192, -5.9097, -6.3921, -5.7025, -5.8503, -5.3558, -5.8964, -5.7448, -6.1597, -6.0998, -5.7905, -5.6881, -5.9887, -5.9373, -6.0366, -5.9731, -6.0003, -6.0451, -6.0772, -6.1043, -6.103, -6.1245, -7.7365, -7.7742, -7.9041, -7.8268, -6.1211, -7.9438, -7.8731, -7.9209, -7.9741, -7.9258, -7.8643, -7.2836, -8.0293, -7.9811, -7.877, -8.057, -5.1313, -7.9941, -7.894, -10.0124, -8.0429, -8.1418, -8.0765, -6.8187, -8.2349, -7.8799, -7.95, -6.5656, -7.8114, -7.9281, -7.8085, -5.5333, -6.4624, -6.5993, -6.978, -5.261, -6.5314, -6.907, -4.8719, -6.3614, -5.1018, -6.853, -5.6929, -5.9889, -5.8084, -6.0792, -5.9878, -5.684, -5.8932, -6.7078, -5.9392, -5.2907, -6.3484, -5.9386, -6.0943, -5.4368, -5.3689, -5.4257, -5.5112, -5.3915, -5.6896, -5.6832, -5.7571, -5.3519, -5.8453, -5.6539, -5.6583, -5.6896, -5.5289, -5.8021, -5.8117, -5.8377, -5.9389, -5.9191, -7.5426, -6.7334, -7.8596, -7.7912, -6.3494, -7.6635, -8.0215, -9.3303, -7.7843, -7.8981, -7.2639, -5.4961, -6.0262, -7.6658, -8.0259, -8.3634, -8.0603, -7.9991, -7.2891, -7.377, -7.8, -8.0761, -7.9686, -6.5884, -8.0942, -8.2831, -7.9693, -7.7085, -8.1055, -6.3664, -4.2524, -5.5017, -6.7184, -5.0205, -6.9188, -6.9314, -6.6467, -4.6126, -7.0364, -4.5375, -5.4476, -6.1624, -5.0893, -5.721, -4.4636, -5.3176, -6.1534, -5.23, -5.9801, -4.977, -5.9458, -5.2159, -4.8074, -6.1291, -6.378, -5.6383, -5.4779, -5.7863, -5.8476, -5.6045, -5.7683, -5.7004, -5.5128, -5.6117, -5.7328, -5.7186, -5.8362, -5.8038, -5.8464, -5.8443], \"loglift\": [30.0, 29.0, 28.0, 27.0, 26.0, 25.0, 24.0, 23.0, 22.0, 21.0, 20.0, 19.0, 18.0, 17.0, 16.0, 15.0, 14.0, 13.0, 12.0, 11.0, 10.0, 9.0, 8.0, 7.0, 6.0, 5.0, 4.0, 3.0, 2.0, 1.0, 1.2737, 1.2697, 1.2406, 1.1997, 1.194, 1.1466, 1.1397, 1.1233, 1.122, 1.1195, 1.1037, 1.0954, 1.0879, 1.0845, 1.082, 1.066, 1.0603, 1.0597, 1.0514, 1.0348, 1.027, 1.0265, 1.0168, 1.0149, 1.0125, 1.0107, 1.0073, 0.9996, 0.9965, 0.9841, 0.979, 0.98, 0.9645, 0.97, 0.9674, 0.9418, 0.8687, 0.9236, 0.8898, 0.9472, 0.6881, 0.7066, 0.9094, 0.6195, 0.7335, 0.6278, 0.5451, 0.3838, 0.6061, 0.6506, 0.6547, 0.3481, 0.6391, 0.5879, 0.4233, 0.2381, 0.1953, 0.5606, 0.528, 0.286, 0.3666, 0.1222, 0.181, 0.1525, 0.0791, 0.2795, 0.232, 0.2036, -0.1122, 0.2836, -0.0432, 0.1029, 0.1409, 0.2881, -0.3151, 1.3742, 1.3622, 1.3588, 1.3543, 1.3438, 1.3393, 1.3379, 1.3355, 1.3242, 1.3203, 1.3079, 1.3019, 1.3007, 1.2995, 1.2967, 1.2908, 1.2894, 1.2833, 1.2711, 1.2659, 1.2587, 1.2583, 1.2547, 1.2546, 1.2542, 1.251, 1.2476, 1.2472, 1.2463, 1.2415, 1.2326, 1.2286, 1.1509, 1.2093, 1.0699, 0.9421, 1.1814, 1.1779, 1.1639, 1.022, 1.1525, 1.1567, 1.2046, 0.9113, 0.6013, 0.8774, 0.8052, 0.7494, 1.1038, 0.9502, 1.0185, 1.0625, 0.3623, 0.7784, 0.3562, 0.2779, 0.575, 0.358, 0.3769, 0.4363, 0.2379, 0.622, 0.262, 0.3568, 0.3399, 0.2462, 0.548, 0.205, 0.3562, 0.2754, 0.1026, 0.1347, 0.1818, 0.0038, -0.1334, -0.063, 0.1154, -0.1431, -0.1143, -0.1588, 0.1115, 0.0307, -0.0648, -0.0039, 2.1458, 2.1066, 2.0861, 2.0683, 2.06, 2.0371, 2.0307, 2.0131, 2.0089, 1.9909, 1.9827, 1.9825, 1.9751, 1.9735, 1.9596, 1.9495, 1.9456, 1.9423, 1.9271, 1.9252, 1.9159, 1.9116, 1.9041, 1.8595, 1.8546, 1.8489, 1.8484, 1.8435, 1.8345, 1.8307, 1.8294, 1.7407, 1.6428, 1.6963, 1.6649, 1.6694, 1.4057, 1.1743, 1.3441, 1.2914, 1.5887, 1.3609, 1.267, 1.2509, 0.8548, 1.2892, 0.9375, 0.9729, 0.7521, 0.982, 1.1005, 0.9414, 0.614, 0.5291, 0.1038, 0.5265, 0.3151, 0.6718, 0.4229, 0.241, 0.8599, 0.4306, 0.4776, 0.3008, 0.5463, -0.1258, 0.0483, 0.0135, -0.0085, 0.291, -0.6386, 0.2028, 0.2125, -0.1457, 2.2671, 2.2562, 2.2455, 2.2097, 2.2044, 2.188, 2.178, 2.1707, 2.1283, 2.1124, 2.0966, 2.0773, 2.0608, 2.0467, 2.0367, 2.0194, 2.0177, 2.0133, 2.0102, 1.9961, 1.9956, 1.9899, 1.979, 1.9733, 1.9517, 1.945, 1.9443, 1.9324, 1.9094, 1.9043, 1.9036, 1.9036, 1.8359, 1.8087, 1.8338, 1.8327, 1.75, 1.6266, 1.5973, 1.6905, 1.6029, 1.5823, 1.7774, 1.6045, 1.1332, 1.545, 1.1543, 1.5023, 1.4621, 1.4084, 1.7826, 1.3519, 1.094, 1.1046, 1.199, 1.5017, 0.8371, 1.3123, 0.4249, 0.7368, 1.139, 1.0226, 0.5252, 0.9259, 0.5163, 0.6786, 0.7082, 0.3923, 0.0921, 0.4953, 0.062, -0.6346, 0.5559, 0.6115, 0.1339, 2.4484, 2.4282, 2.3771, 2.3607, 2.3459, 2.3382, 2.338, 2.3176, 2.3085, 2.3052, 2.2908, 2.2851, 2.2767, 2.267, 2.229, 2.2141, 2.19, 2.185, 2.1566, 2.1426, 2.1295, 2.0868, 2.0741, 2.0644, 2.0643, 2.0617, 2.0617, 2.0512, 2.0146, 2.0068, 1.9786, 1.9259, 1.8453, 1.9383, 1.7128, 1.9823, 1.7163, 1.673, 1.5481, 1.7646, 1.2754, 1.5614, 1.6002, 1.8434, 1.2983, 1.3738, 1.2545, 1.219, 1.3325, 0.219, 1.2087, 0.9858, 0.8211, 0.3233, 0.3943, 1.0285, 1.1321, 0.487, 0.9454, 0.3322, 0.622, -0.3587, 0.0629, 0.027, 0.1916, 0.1479, 0.1749, 0.0494, 0.3072, -0.0054, -0.5201, 0.0245, 2.4686, 2.1633, 2.1591, 2.1475, 2.1131, 2.1003, 2.0952, 2.0907, 2.0866, 2.0547, 2.0522, 2.0403, 2.0363, 1.9991, 1.9841, 1.9457, 1.9156, 1.8997, 1.8891, 1.8307, 1.8249, 1.8046, 1.7875, 1.7861, 1.7803, 1.7776, 1.7681, 1.7535, 1.7494, 1.7402, 1.7112, 1.6739, 1.6273, 1.6883, 1.636, 1.6253, 1.4569, 1.4658, 1.5468, 1.2271, 1.1736, 1.2314, 1.217, 1.4036, 1.2667, 1.2713, 1.0143, 1.234, 0.5983, 1.0612, 0.7227, 0.391, 0.4122, 0.1391, 0.887, 0.5109, 0.9516, 0.2329, 0.3153, -0.2953, 0.2464, -0.0253, 0.5842, 0.4849, -0.0894, -0.6391, 0.0489, -0.2008, 0.0185, -0.3502, -0.412, -0.2851, -0.0886, -0.2099, -0.2331, -0.0617, 2.5015, 2.3904, 2.3748, 2.3336, 2.2659, 2.2428, 2.2413, 2.2408, 2.2132, 2.213, 2.1823, 2.133, 2.1279, 2.1135, 2.0996, 2.0886, 2.0817, 2.0695, 2.0667, 2.0655, 2.0603, 2.0441, 2.0211, 2.0092, 2.0073, 2.0018, 2.0016, 1.9805, 1.9706, 1.9654, 1.9484, 1.6165, 1.68, 1.644, 1.7193, 1.2156, 1.5766, 1.6647, 0.866, 1.4215, 0.9189, 1.5868, 1.0801, 1.2034, 1.0854, 1.1778, 1.037, 0.8014, 0.9237, 1.4256, 0.888, 0.4289, 1.172, 0.8644, 0.9786, 0.4417, 0.2194, 0.1851, 0.2071, 0.0727, 0.3655, 0.3415, 0.4254, -0.2914, 0.4579, 0.1061, 0.0429, 0.0469, -0.48, 0.1972, 0.2259, 0.0568, 0.5653, 0.1437, 2.7407, 2.5655, 2.4889, 2.4372, 2.4024, 2.373, 2.2707, 2.2558, 2.2443, 2.2371, 2.185, 2.1354, 2.0884, 2.0817, 2.0606, 2.0581, 2.041, 2.0333, 2.0102, 2.0097, 2.0051, 1.9939, 1.9889, 1.9678, 1.9631, 1.9608, 1.9538, 1.919, 1.9166, 1.9072, 1.7207, 1.6757, 1.7632, 1.5042, 1.7701, 1.7636, 1.7027, 1.1057, 1.7461, 1.0733, 1.2241, 1.4495, 1.0763, 1.2146, 0.5969, 0.9696, 1.3601, 0.8544, 1.2391, 0.6112, 1.1682, 0.6607, 0.2416, 1.1887, 1.3645, 0.7156, 0.5427, 0.7984, 0.8589, 0.4028, 0.5339, 0.3638, -0.0486, 0.1262, 0.2476, 0.1513, 0.467, 0.2338, 0.4578, 0.4102]}, \"token.table\": {\"Topic\": [1, 2, 3, 4, 5, 6, 7, 8, 1, 2, 3, 4, 5, 6, 7, 8, 1, 2, 3, 4, 5, 6, 7, 8, 1, 2, 3, 4, 5, 6, 7, 8, 1, 2, 3, 4, 5, 6, 7, 8, 1, 2, 3, 4, 5, 6, 7, 8, 1, 2, 3, 4, 5, 6, 7, 8, 1, 2, 3, 4, 5, 6, 7, 8, 1, 2, 3, 4, 5, 6, 7, 8, 1, 2, 3, 4, 5, 6, 7, 8, 1, 2, 3, 4, 5, 6, 7, 8, 1, 2, 3, 4, 5, 6, 7, 8, 1, 2, 3, 4, 5, 6, 7, 8, 1, 2, 3, 4, 5, 6, 7, 8, 1, 2, 3, 4, 5, 6, 7, 8, 1, 2, 3, 4, 5, 6, 7, 8, 1, 2, 3, 4, 5, 6, 7, 8, 1, 2, 3, 4, 5, 6, 7, 8, 1, 2, 3, 4, 5, 6, 7, 8, 1, 2, 3, 4, 5, 6, 7, 8, 1, 2, 3, 4, 5, 6, 7, 8, 1, 2, 3, 4, 5, 6, 7, 8, 1, 2, 3, 4, 5, 6, 7, 8, 1, 2, 3, 4, 5, 6, 7, 8, 1, 2, 3, 4, 5, 6, 7, 8, 1, 2, 3, 4, 5, 6, 7, 8, 1, 2, 3, 4, 5, 6, 7, 8, 1, 2, 3, 4, 5, 6, 7, 8, 1, 2, 3, 4, 5, 6, 7, 8, 1, 2, 3, 4, 5, 6, 7, 8, 1, 2, 3, 4, 5, 6, 7, 8, 1, 2, 3, 4, 5, 6, 7, 8, 1, 2, 3, 4, 5, 6, 7, 8, 1, 2, 3, 4, 5, 6, 7, 8, 1, 2, 3, 4, 5, 6, 7, 8, 1, 2, 3, 4, 5, 6, 7, 8, 1, 2, 3, 4, 5, 6, 7, 8, 1, 2, 3, 4, 5, 6, 7, 8, 1, 2, 3, 4, 5, 6, 7, 8, 1, 2, 3, 4, 5, 6, 7, 8, 1, 2, 3, 4, 5, 6, 7, 8, 1, 2, 3, 4, 5, 6, 7, 8, 1, 2, 3, 4, 5, 6, 7, 8, 1, 2, 3, 4, 5, 6, 7, 8, 1, 2, 3, 4, 5, 6, 7, 8, 1, 2, 3, 4, 5, 6, 7, 8, 1, 2, 3, 4, 5, 6, 7, 8, 1, 2, 3, 4, 5, 6, 7, 8, 1, 2, 3, 4, 5, 6, 7, 8, 1, 2, 3, 4, 5, 6, 7, 8, 1, 2, 3, 4, 5, 6, 7, 8, 1, 2, 3, 4, 5, 6, 7, 8, 1, 2, 3, 4, 5, 6, 7, 8, 1, 2, 3, 4, 5, 6, 7, 8, 1, 2, 3, 4, 5, 6, 7, 8, 1, 2, 3, 4, 5, 6, 7, 8, 1, 2, 3, 4, 5, 6, 7, 8, 1, 2, 3, 4, 5, 6, 7, 8, 1, 2, 3, 4, 5, 6, 7, 8, 1, 2, 3, 4, 5, 6, 7, 8, 1, 2, 3, 4, 5, 6, 7, 8, 1, 2, 3, 4, 5, 6, 7, 8, 1, 2, 3, 4, 5, 6, 7, 8, 1, 2, 3, 4, 5, 6, 7, 8, 1, 2, 3, 4, 5, 6, 7, 8, 1, 2, 3, 4, 5, 6, 7, 8, 1, 2, 3, 4, 5, 6, 7, 8, 1, 2, 3, 4, 5, 6, 7, 8, 1, 2, 3, 4, 5, 6, 7, 8, 1, 2, 3, 4, 5, 6, 7, 8, 1, 2, 3, 4, 5, 6, 7, 8, 1, 2, 3, 4, 5, 6, 7, 8, 1, 2, 3, 4, 5, 6, 7, 8, 1, 2, 3, 4, 5, 6, 7, 8, 1, 2, 3, 4, 5, 6, 7, 8, 1, 2, 3, 4, 5, 6, 7, 8, 1, 2, 3, 4, 5, 6, 7, 8, 1, 2, 3, 4, 5, 6, 7, 8, 1, 2, 3, 4, 5, 6, 7, 8, 1, 2, 3, 4, 5, 6, 7, 8, 1, 2, 3, 4, 5, 6, 7, 8, 1, 2, 3, 4, 5, 6, 7, 8, 1, 2, 3, 4, 5, 6, 7, 8, 1, 2, 3, 4, 5, 6, 7, 8, 1, 2, 3, 4, 5, 6, 7, 8, 1, 2, 3, 4, 5, 6, 7, 8, 1, 2, 3, 4, 5, 6, 7, 8, 1, 2, 3, 4, 5, 6, 7, 8, 1, 2, 3, 4, 5, 6, 7, 8, 1, 2, 3, 4, 5, 6, 7, 8, 1, 2, 3, 4, 5, 6, 7, 8, 1, 2, 3, 4, 5, 6, 7, 8, 1, 2, 3, 4, 5, 6, 7, 8, 1, 2, 3, 4, 5, 6, 7, 8, 1, 2, 3, 4, 5, 6, 7, 8, 1, 2, 3, 4, 5, 6, 7, 8, 1, 2, 3, 4, 5, 6, 7, 8, 1, 2, 3, 4, 5, 6, 7, 8, 1, 2, 3, 4, 5, 6, 7, 8, 1, 2, 3, 4, 5, 6, 7, 8, 1, 2, 3, 4, 5, 6, 7, 8, 1, 2, 3, 4, 5, 6, 7, 8, 1, 2, 3, 4, 5, 6, 7, 8, 1, 2, 3, 4, 5, 6, 7, 8, 1, 2, 3, 4, 5, 6, 7, 8, 1, 2, 3, 4, 5, 6, 7, 8, 1, 2, 3, 4, 5, 6, 7, 8, 1, 2, 3, 4, 5, 6, 7, 8, 1, 2, 3, 4, 5, 6, 7, 8, 1, 2, 3, 4, 5, 6, 7, 8, 1, 2, 3, 4, 5, 6, 7, 8, 1, 2, 3, 4, 5, 6, 7, 8, 1, 2, 3, 4, 5, 6, 7, 8, 1, 2, 3, 4, 5, 6, 7, 8, 1, 2, 3, 4, 5, 6, 7, 8, 1, 2, 3, 4, 5, 6, 7, 8, 1, 2, 3, 4, 5, 6, 7, 8, 1, 2, 3, 4, 5, 6, 7, 8, 1, 2, 3, 4, 5, 6, 7, 8, 1, 2, 3, 4, 5, 6, 7, 8, 1, 2, 3, 4, 5, 6, 7, 8, 1, 2, 3, 4, 5, 6, 7, 8, 1, 2, 3, 4, 5, 6, 7, 8, 1, 2, 3, 4, 5, 6, 7, 8, 1, 2, 3, 4, 5, 6, 7, 8, 1, 2, 3, 4, 5, 6, 7, 8, 1, 2, 3, 4, 5, 6, 7, 8, 1, 2, 3, 4, 5, 6, 7, 8, 1, 2, 3, 4, 5, 6, 7, 8, 1, 2, 3, 4, 5, 6, 7, 8, 1, 2, 3, 4, 5, 6, 7, 8, 1, 2, 3, 4, 5, 6, 7, 8, 1, 2, 3, 4, 5, 6, 7, 8, 1, 2, 3, 4, 5, 6, 7, 8, 1, 2, 3, 4, 5, 6, 7, 8, 1, 2, 3, 4, 5, 6, 7, 8, 1, 2, 3, 4, 5, 6, 7, 8, 1, 2, 3, 4, 5, 6, 7, 8, 1, 2, 3, 4, 5, 6, 7, 8, 1, 2, 3, 4, 5, 6, 7, 8, 1, 2, 3, 4, 5, 6, 7, 8, 1, 2, 3, 4, 5, 6, 7, 8, 1, 2, 3, 4, 5, 6, 7, 8, 1, 2, 3, 4, 5, 6, 7, 8, 1, 2, 3, 4, 5, 6, 7, 8, 1, 2, 3, 4, 5, 6, 7, 8, 1, 2, 3, 4, 5, 6, 7, 8, 1, 2, 3, 4, 5, 6, 7, 8, 1, 2, 3, 4, 5, 6, 7, 8, 1, 2, 3, 4, 5, 6, 7, 8, 1, 2, 3, 4, 5, 6, 7, 8, 1, 2, 3, 4, 5, 6, 7, 8, 1, 2, 3, 4, 5, 6, 7, 8, 1, 2, 3, 4, 5, 6, 7, 8, 1, 2, 3, 4, 5, 6, 7, 8, 1, 2, 3, 4, 5, 6, 7, 8, 1, 2, 3, 4, 5, 6, 7, 8, 1, 2, 3, 4, 5, 6, 7, 8, 1, 2, 3, 4, 5, 6, 7, 8, 1, 2, 3, 4, 5, 6, 7, 8, 1, 2, 3, 4, 5, 6, 7, 8, 1, 2, 3, 4, 5, 6, 7, 8, 1, 2, 3, 4, 5, 6, 7, 8, 1, 2, 3, 4, 5, 6, 7, 8, 1, 2, 3, 4, 5, 6, 7, 8, 1, 2, 3, 4, 5, 6, 7, 8, 1, 2, 3, 4, 5, 6, 7, 8, 1, 2, 3, 4, 5, 6, 7, 8, 1, 2, 3, 4, 5, 6, 7, 8, 1, 2, 3, 4, 5, 6, 7, 8, 1, 2, 3, 4, 5, 6, 7, 8, 1, 2, 3, 4, 5, 6, 7, 8, 1, 2, 3, 4, 5, 6, 7, 8, 1, 2, 3, 4, 5, 6, 7, 8, 1, 2, 3, 4, 5, 6, 7, 8, 1, 2, 3, 4, 5, 6, 7, 8, 1, 2, 3, 4, 5, 6, 7, 8, 1, 2, 3, 4, 5, 6, 7, 8, 1, 2, 3, 4, 5, 6, 7, 8, 1, 2, 3, 4, 5, 6, 7, 8, 1, 2, 3, 4, 5, 6, 7, 8, 1, 2, 3, 4, 5, 6, 7, 8, 1, 2, 3, 4, 5, 6, 7, 8, 1, 2, 3, 4, 5, 6, 7, 8, 1, 2, 3, 4, 5, 6, 7, 8, 1, 2, 3, 4, 5, 6, 7, 8, 1, 2, 3, 4, 5, 6, 7, 8, 1, 2, 3, 4, 5, 6, 7, 8, 1, 2, 3, 4, 5, 6, 7, 8, 1, 2, 3, 4, 5, 6, 7, 8, 1, 2, 3, 4, 5, 6, 7, 8, 1, 2, 3, 4, 5, 6, 7, 8, 1, 2, 3, 4, 5, 6, 7, 8, 1, 2, 3, 4, 5, 6, 7, 8, 1, 2, 3, 4, 5, 6, 7, 8, 1, 2, 3, 4, 5, 6, 7, 8, 1, 2, 3, 4, 5, 6, 7, 8, 1, 2, 3, 4, 5, 6, 7, 8, 1, 2, 3, 4, 5, 6, 7, 8, 1, 2, 3, 4, 5, 6, 7, 8, 1, 2, 3, 4, 5, 6, 7, 8, 1, 2, 3, 4, 5, 6, 7, 8, 1, 2, 3, 4, 5, 6, 7, 8, 1, 2, 3, 4, 5, 6, 7, 8, 1, 2, 3, 4, 5, 6, 7, 8, 1, 2, 3, 4, 5, 6, 7, 8, 1, 2, 3, 4, 5, 6, 7, 8, 1, 2, 3, 4, 5, 6, 7, 8, 1, 2, 3, 4, 5, 6, 7, 8, 1, 2, 3, 4, 5, 6, 7, 8, 1, 2, 3, 4, 5, 6, 7, 8, 1, 2, 3, 4, 5, 6, 7, 8, 1, 2, 3, 4, 5, 6, 7, 8, 1, 2, 3, 4, 5, 6, 7, 8, 1, 2, 3, 4, 5, 6, 7, 8, 1, 2, 3, 4, 5, 6, 7, 8, 1, 2, 3, 4, 5, 6, 7, 8, 1, 2, 3, 4, 5, 6, 7, 8, 1, 2, 3, 4, 5, 6, 7, 8, 1, 2, 3, 4, 5, 6, 7, 8, 1, 2, 3, 4, 5, 6, 7, 8, 1, 2, 3, 4, 5, 6, 7, 8, 1, 2, 3, 4, 5, 6, 7, 8, 1, 2, 3, 4, 5, 6, 7, 8, 1, 2, 3, 4, 5, 6, 7, 8, 1, 2, 3, 4, 5, 6, 7, 8, 1, 2, 3, 4, 5, 6, 7, 8, 1, 2, 3, 4, 5, 6, 7, 8, 1, 2, 3, 4, 5, 6, 7, 8, 1, 2, 3, 4, 5, 6, 7, 8, 1, 2, 3, 4, 5, 6, 7, 8, 1, 2, 3, 4, 5, 6, 7, 8, 1, 2, 3, 4, 5, 6, 7, 8, 1, 2, 3, 4, 5, 6, 7, 8, 1, 2, 3, 4, 5, 6, 7, 8, 1, 2, 3, 4, 5, 6, 7, 8, 1, 2, 3, 4, 5, 6, 7, 8, 1, 2, 3, 4, 5, 6, 7, 8, 1, 2, 3, 4, 5, 6, 7, 8, 1, 2, 3, 4, 5, 6, 7, 8, 1, 2, 3, 4, 5, 6, 7, 8, 1, 2, 3, 4, 5, 6, 7, 8, 1, 2, 3, 4, 5, 6, 7, 8, 1, 2, 3, 4, 5, 6, 7, 8, 1, 2, 3, 4, 5, 6, 7, 8, 1, 2, 3, 4, 5, 6, 7, 8, 1, 2, 3, 4, 5, 6, 7, 8, 1, 2, 3, 4, 5, 6, 7, 8, 1, 2, 3, 4, 5, 6, 7, 8, 1, 2, 3, 4, 5, 6, 7, 8, 1, 2, 3, 4, 5, 6, 7, 8, 1, 2, 3, 4, 5, 6, 7, 8, 1, 2, 3, 4, 5, 6, 7, 8, 1, 2, 3, 4, 5, 6, 7, 8, 1, 2, 3, 4, 5, 6, 7, 8, 1, 2, 3, 4, 5, 6, 7, 8, 1, 2, 3, 4, 5, 6, 7, 8, 1, 2, 3, 4, 5, 6, 7, 8, 1, 2, 3, 4, 5, 6, 7, 8, 1, 2, 3, 4, 5, 6, 7, 8, 1, 2, 3, 4, 5, 6, 7, 8, 1, 2, 3, 4, 5, 6, 7, 8, 1, 2, 3, 4, 5, 6, 7, 8, 1, 2, 3, 4, 5, 6, 7, 8, 1, 2, 3, 4, 5, 6, 7, 8, 1, 2, 3, 4, 5, 6, 7, 8, 1, 2, 3, 4, 5, 6, 7, 8, 1, 2, 3, 4, 5, 6, 7, 8, 1, 2, 3, 4, 5, 6, 7, 8, 1, 2, 3, 4, 5, 6, 7, 8, 1, 2, 3, 4, 5, 6, 7, 8, 1, 2, 3, 4, 5, 6, 7, 8, 1, 2, 3, 4, 5, 6, 7, 8, 1, 2, 3, 4, 5, 6, 7, 8, 1, 2, 3, 4, 5, 6, 7, 8, 1, 2, 3, 4, 5, 6, 7, 8, 1, 2, 3, 4, 5, 6, 7, 8, 1, 2, 3, 4, 5, 6, 7, 8, 1, 2, 3, 4, 5, 6, 7, 8, 1, 2, 3, 4, 5, 6, 7, 8, 1, 2, 3, 4, 5, 6, 7, 8, 1, 2, 3, 4, 5, 6, 7, 8, 1, 2, 3, 4, 5, 6, 7, 8, 1, 2, 3, 4, 5, 6, 7, 8, 1, 2, 3, 4, 5, 6, 7, 8, 1, 2, 3, 4, 5, 6, 7, 8, 1, 2, 3, 4, 5, 6, 7, 8, 1, 2, 3, 4, 5, 6, 7, 8, 1, 2, 3, 4, 5, 6, 7, 8, 1, 2, 3, 4, 5, 6, 7, 8, 1, 2, 3, 4, 5, 6, 7, 8, 1, 2, 3, 4, 5, 6, 7, 8, 1, 2, 3, 4, 5, 6, 7, 8, 1, 2, 3, 4, 5, 6, 7, 8, 1, 2, 3, 4, 5, 6, 7, 8, 1, 2, 3, 4, 5, 6, 7, 8, 1, 2, 3, 4, 5, 6, 7, 8, 1, 2, 3, 4, 5, 6, 7, 8, 1, 2, 3, 4, 5, 6, 7, 8, 1, 2, 3, 4, 5, 6, 7, 8, 1, 2, 3, 4, 5, 6, 7, 8, 1, 2, 3, 4, 5, 6, 7, 8, 1, 2, 3, 4, 5, 6, 7, 8, 1, 2, 3, 4, 5, 6, 7, 8, 1, 2, 3, 4, 5, 6, 7, 8, 1, 2, 3, 4, 5, 6, 7, 8, 1, 2, 3, 4, 5, 6, 7, 8, 1, 2, 3, 4, 5, 6, 7, 8, 1, 2, 3, 4, 5, 6, 7, 8, 1, 2, 3, 4, 5, 6, 7, 8, 1, 2, 3, 4, 5, 6, 7, 8, 1, 2, 3, 4, 5, 6, 7, 8, 1, 2, 3, 4, 5, 6, 7, 8, 1, 2, 3, 4, 5, 6, 7, 8, 1, 2, 3, 4, 5, 6, 7, 8, 1, 2, 3, 4, 5, 6, 7, 8, 1, 2, 3, 4, 5, 6, 7, 8, 1, 2, 3, 4, 5, 6, 7, 8, 1, 2, 3, 4, 5, 6, 7, 8, 1, 2, 3, 4, 5, 6, 7, 8, 1, 2, 3, 4, 5, 6, 7, 8, 1, 2, 3, 4, 5, 6, 7, 8, 1, 2, 3, 4, 5, 6, 7, 8, 1, 2, 3, 4, 5, 6, 7, 8, 1, 2, 3, 4, 5, 6, 7, 8, 1, 2, 3, 4, 5, 6, 7, 8, 1, 2, 3, 4, 5, 6, 7, 8, 1, 2, 3, 4, 5, 6, 7, 8, 1, 2, 3, 4, 5, 6, 7, 8, 1, 2, 3, 4, 5, 6, 7, 8, 1, 2, 3, 4, 5, 6, 7, 8, 1, 2, 3, 4, 5, 6, 7, 8, 1, 2, 3, 4, 5, 6, 7, 8, 1, 2, 3, 4, 5, 6, 7, 8, 1, 2, 3, 4, 5, 6, 7, 8, 1, 2, 3, 4, 5, 6, 7, 8, 1, 2, 3, 4, 5, 6, 7, 8, 1, 2, 3, 4, 5, 6, 7, 8, 1, 2, 3, 4, 5, 6, 7, 8, 1, 2, 3, 4, 5, 6, 7, 8, 1, 2, 3, 4, 5, 6, 7, 8, 1, 2, 3, 4, 5, 6, 7, 8, 1, 2, 3, 4, 5, 6, 7, 8, 1, 2, 3, 4, 5, 6, 7, 8, 1, 2, 3, 4, 5, 6, 7, 8, 1, 2, 3, 4, 5, 6, 7, 8, 1, 2, 3, 4, 5, 6, 7, 8, 1, 2, 3, 4, 5, 6, 7, 8, 1, 2, 3, 4, 5, 6, 7, 8, 1, 2, 3, 4, 5, 6, 7, 8, 1, 2, 3, 4, 5, 6, 7, 8, 1, 2, 3, 4, 5, 6, 7, 8, 1, 2, 3, 4, 5, 6, 7, 8, 1, 2, 3, 4, 5, 6, 7, 8, 1, 2, 3, 4, 5, 6, 7, 8, 1, 2, 3, 4, 5, 6, 7, 8, 1, 2, 3, 4, 5, 6, 7, 8, 1, 2, 3, 4, 5, 6, 7, 8, 1, 2, 3, 4, 5, 6, 7, 8, 1, 2, 3, 4, 5, 6, 7, 8, 1, 2, 3, 4, 5, 6, 7, 8, 1, 2, 3, 4, 5, 6, 7, 8, 1, 2, 3, 4, 5, 6, 7, 8, 1, 2, 3, 4, 5, 6, 7, 8, 1, 2, 3, 4, 5, 6, 7, 8, 1, 2, 3, 4, 5, 6, 7, 8, 1, 2, 3, 4, 5, 6, 7, 8, 1, 2, 3, 4, 5, 6, 7, 8, 1, 2, 3, 4, 5, 6, 7, 8, 1, 2, 3, 4, 5, 6, 7, 8, 1, 2, 3, 4, 5, 6, 7, 8, 1, 2, 3, 4, 5, 6, 7, 8, 1, 2, 3, 4, 5, 6, 7, 8, 1, 2, 3, 4, 5, 6, 7, 8, 1, 2, 3, 4, 5, 6, 7, 8, 1, 2, 3, 4, 5, 6, 7, 8, 1, 2, 3, 4, 5, 6, 7, 8, 1, 2, 3, 4, 5, 6, 7, 8, 1, 2, 3, 4, 5, 6, 7, 8, 1, 2, 3, 4, 5, 6, 7, 8, 1, 2, 3, 4, 5, 6, 7, 8, 1, 2, 3, 4, 5, 6, 7, 8, 1, 2, 3, 4, 5, 6, 7, 8, 1, 2, 3, 4, 5, 6, 7, 8, 1, 2, 3, 4, 5, 6, 7, 8, 1, 2, 3, 4, 5, 6, 7, 8, 1, 2, 3, 4, 5, 6, 7, 8, 1, 2, 3, 4, 5, 6, 7, 8, 1, 2, 3, 4, 5, 6, 7, 8, 1, 2, 3, 4, 5, 6, 7, 8, 1, 2, 3, 4, 5, 6, 7, 8, 1, 2, 3, 4, 5, 6, 7, 8, 1, 2, 3, 4, 5, 6, 7, 8, 1, 2, 3, 4, 5, 6, 7, 8, 1, 2, 3, 4, 5, 6, 7, 8, 1, 2, 3, 4, 5, 6, 7, 8, 1, 2, 3, 4, 5, 6, 7, 8, 1, 2, 3, 4, 5, 6, 7, 8, 1, 2, 3, 4, 5, 6, 7, 8, 1, 2, 3, 4, 5, 6, 7, 8, 1, 2, 3, 4, 5, 6, 7, 8, 1, 2, 3, 4, 5, 6, 7, 8, 1, 2, 3, 4, 5, 6, 7, 8, 1, 2, 3, 4, 5, 6, 7, 8, 1, 2, 3, 4, 5, 6, 7, 8, 1, 2, 3, 4, 5, 6, 7, 8, 1, 2, 3, 4, 5, 6, 7, 8, 1, 2, 3, 4, 5, 6, 7, 8, 1, 2, 3, 4, 5, 6, 7, 8, 1, 2, 3, 4, 5, 6, 7, 8, 1, 2, 3, 4, 5, 6, 7, 8, 1, 2, 3, 4, 5, 6, 7, 8, 1, 2, 3, 4, 5, 6, 7, 8, 1, 2, 3, 4, 5, 6, 7, 8, 1, 2, 3, 4, 5, 6, 7, 8, 1, 2, 3, 4, 5, 6, 7, 8, 1, 2, 3, 4, 5, 6, 7, 8, 1, 2, 3, 4, 5, 6, 7, 8, 1, 2, 3, 4, 5, 6, 7, 8, 1, 2, 3, 4, 5, 6, 7, 8, 1, 2, 3, 4, 5, 6, 7, 8, 1, 2, 3, 4, 5, 6, 7, 8, 1, 2, 3, 4, 5, 6, 7, 8, 1, 2, 3, 4, 5, 6, 7, 8, 1, 2, 3, 4, 5, 6, 7, 8, 1, 2, 3, 4, 5, 6, 7, 8, 1, 2, 3, 4, 5, 6, 7, 8, 1, 2, 3, 4, 5, 6, 7, 8, 1, 2, 3, 4, 5, 6, 7, 8, 1, 2, 3, 4, 5, 6, 7, 8, 1, 2, 3, 4, 5, 6, 7, 8, 1, 2, 3, 4, 5, 6, 7, 8, 1, 2, 3, 4, 5, 6, 7, 8, 1, 2, 3, 4, 5, 6, 7, 8, 1, 2, 3, 4, 5, 6, 7, 8, 1, 2, 3, 4, 5, 6, 7, 8, 1, 2, 3, 4, 5, 6, 7, 8, 1, 2, 3, 4, 5, 6, 7, 8, 1, 2, 3, 4, 5, 6, 7, 8, 1, 2, 3, 4, 5, 6, 7, 8, 1, 2, 3, 4, 5, 6, 7, 8, 1, 2, 3, 4, 5, 6, 7, 8, 1, 2, 3, 4, 5, 6, 7, 8, 1, 2, 3, 4, 5, 6, 7, 8, 1, 2, 3, 4, 5, 6, 7, 8, 1, 2, 3, 4, 5, 6, 7, 8, 1, 2, 3, 4, 5, 6, 7, 8, 1, 2, 3, 4, 5, 6, 7, 8, 1, 2, 3, 4, 5, 6, 7, 8, 1, 2, 3, 4, 5, 6, 7, 8, 1, 2, 3, 4, 5, 6, 7, 8, 1, 2, 3, 4, 5, 6, 7, 8, 1, 2, 3, 4, 5, 6, 7, 8, 1, 2, 3, 4, 5, 6, 7, 8, 1, 2, 3, 4, 5, 6, 7, 8, 1, 2, 3, 4, 5, 6, 7, 8, 1, 2, 3, 4, 5, 6, 7, 8, 1, 2, 3, 4, 5, 6, 7, 8, 1, 2, 3, 4, 5, 6, 7, 8, 1, 2, 3, 4, 5, 6, 7, 8, 1, 2, 3, 4, 5, 6, 7, 8, 1, 2, 3, 4, 5, 6, 7, 8, 1, 2, 3, 4, 5, 6, 7, 8, 1, 2, 3, 4, 5, 6, 7, 8], \"Freq\": [0.7447257734857042, 0.05319469810612173, 0.03546313207074782, 0.03546313207074782, 0.01773156603537391, 0.07092626414149564, 0.026597349053060864, 0.01773156603537391, 0.06861136979393267, 0.39766589839748734, 0.01680278443933045, 0.022403712585773936, 0.010501740274581532, 0.4690777322646418, 0.009801624256276096, 0.005600928146443484, 0.1783524838697787, 0.19735371701813284, 0.05527631461339388, 0.03282031180170262, 0.01727384831668559, 0.4633709810950909, 0.03497954284128831, 0.020728617980022703, 0.693465311997705, 0.04713731824574215, 0.02792775281644284, 0.013594461688427203, 0.05408231497787344, 0.019948394868887744, 0.03442945188482107, 0.10949452294700605, 0.3231853222487571, 0.14656414266546614, 0.08205539000618568, 0.027875736479818357, 0.08227993563950987, 0.0313722327701523, 0.25370448770872656, 0.05299276946451084, 0.6836506890199758, 0.07502433939408745, 0.062290850597843256, 0.008259560300266509, 0.007743337781499852, 0.016519120600533017, 0.1428215635254417, 0.0037856318042888163, 0.03739734892449193, 0.020034294066692104, 0.7118852491697928, 0.016027435253353685, 0.11887014479570648, 0.03205487050670737, 0.05075354496895333, 0.012020576440015262, 0.18424013502892153, 0.033213357675281774, 0.046373367320204736, 0.020053348030358804, 0.218080159830152, 0.036973360430974045, 0.015666678148717816, 0.4461869936754834, 0.036334962379783745, 0.03179309208231078, 0.7740644664121787, 0.020113997031666, 0.07072340891779336, 0.04347218713295555, 0.014923288120268323, 0.009083740594945936, 0.33023456307500376, 0.11528188383709223, 0.027886474215222543, 0.4021523123668935, 0.023616774813848756, 0.06884890284715231, 0.01974735973135376, 0.012275385778949635, 0.293207156811569, 0.26057715751367533, 0.03525274155824441, 0.03101007025473579, 0.2570287415143772, 0.08284779963578666, 0.027693072690174497, 0.012342316519297826, 0.23842175105252178, 0.18040044756231474, 0.0682513754213751, 0.11153832157788483, 0.056952490004861106, 0.20475412626412534, 0.1277232114988373, 0.011985979799950662, 0.058313884585773045, 0.19160276363896858, 0.0062479162056185405, 0.029156942292886522, 0.0062479162056185405, 0.6539485628547406, 0.0416527747041236, 0.012495832411237081, 0.27500173298897157, 0.017742047289611068, 0.04879063004643044, 0.053226141868833204, 0.013306535467208301, 0.5544389778003459, 0.035484094579222136, 0.008871023644805534, 0.16864653000338065, 0.19830353134255782, 0.023460015984722242, 0.030984926772274657, 0.047362673780476976, 0.49310297749019955, 0.0274437922840147, 0.011066045275812378, 0.2806865553629338, 0.25980547746627536, 0.05949381491630583, 0.032357042195235226, 0.06480036983632441, 0.050433843101639966, 0.22153788223004384, 0.030847046892790914, 0.08821525040117385, 0.26505144218646004, 0.2187575933555936, 0.07392591244656369, 0.027000988753348564, 0.10773349435810195, 0.18945768903226046, 0.029840825633917777, 0.06169858620011823, 0.4010408103007685, 0.023136969825044335, 0.02120888900629064, 0.019280808187536948, 0.45052821798211334, 0.01606734015628079, 0.006426936062512316, 0.11395984206863355, 0.010796195564396862, 0.0311890094082576, 0.7989184717653678, 0.009596618279463877, 0.010796195564396862, 0.004798309139731938, 0.02039281384386074, 0.10668077977877083, 0.1766353894697681, 0.03760060270891103, 0.02273524814957411, 0.04459606367801076, 0.054214822510522884, 0.5395249272418164, 0.01661421980161185, 0.07259759316107582, 0.020633000161568917, 0.00917022229403063, 0.006877666720522972, 0.8413678954773103, 0.026746481690922672, 0.015283703823384384, 0.00840603710286141, 0.08885827865705877, 0.30443236162690834, 0.15470018789551632, 0.0196205116355289, 0.02037514669843386, 0.02653799971215768, 0.3788268015782888, 0.0066030568004183795, 0.49575512315198034, 0.2253432377963547, 0.06396952998529076, 0.05258008881914943, 0.0252594047948472, 0.050134503292677365, 0.06728853891407428, 0.01963455808396145, 0.17985074531056156, 0.1011101204979774, 0.051002450162696555, 0.044738991370786456, 0.16821860755415707, 0.05189722999011229, 0.03042251413213479, 0.3722284082049433, 0.12710320635358943, 0.03744125458477828, 0.04236773545119648, 0.7035014677245183, 0.03251477371836009, 0.03251477371836009, 0.010838257906120028, 0.013794146425970946, 0.04869151366264896, 0.7717421864726618, 0.033681347796719587, 0.04136948153292731, 0.005491524097291237, 0.02379660442159536, 0.066630492380467, 0.008786438555665979, 0.025860948852796502, 0.8544888516778177, 0.00431015814213275, 0.010775395355331875, 0.002155079071066375, 0.09697855819798688, 0.0032326186065995627, 0.002155079071066375, 0.021971417780699474, 0.8338153047775451, 0.0543792590072312, 0.04119640833881152, 0.01702784878004209, 0.027464272225874345, 0.0027464272225874342, 0.0021971417780699476, 0.058931180264789114, 0.019643726754929706, 0.034049126375211486, 0.8551569047312731, 0.006547908918309902, 0.015714981403943763, 0.003928745350985941, 0.005238327134647921, 0.052417943868011595, 0.08517915878551885, 0.01048358877360232, 0.015725383160403478, 0.10483588773602319, 0.01834628035380406, 0.7089526908148568, 0.006552242983501449, 0.11932626411264914, 0.44103680397652373, 0.0754453920919706, 0.06059150029371552, 0.06331471379006227, 0.10335833042952493, 0.1266913187959506, 0.01027394182712643, 0.034607913908644164, 0.0290706476832611, 0.026302014570569566, 0.0083058993380746, 0.8582762649343754, 0.017996115232494968, 0.02214906490153227, 0.0041529496690373, 0.047429709918990516, 0.051275362074584344, 0.01794637672610452, 0.005127536207458434, 0.03973840560780287, 0.012818840518646086, 0.8216876772452141, 0.0038456521555938258, 0.267075255029452, 0.1567747521572249, 0.05563562218582633, 0.13438702632672336, 0.09258447050771099, 0.09592139441198629, 0.0362814635410296, 0.16132510293578212, 0.3376355035330719, 0.032674403567716635, 0.06534880713543327, 0.043565871423622185, 0.021782935711811093, 0.45744164994803294, 0.032674403567716635, 0.021782935711811093, 0.21364807471401637, 0.2657294316864853, 0.18786186539865718, 0.06603474984212873, 0.0714210139589883, 0.07432620365981413, 0.08685881032542045, 0.03412007466152381, 0.03523089484363837, 0.34086643558118496, 0.1387153751393397, 0.03563238652276816, 0.38964767459545346, 0.04275886382732179, 0.012145123293675907, 0.005119018908904721, 0.20422618105313012, 0.18607180233953857, 0.06808949965074314, 0.026067825845157096, 0.29664847268595984, 0.0906872577697592, 0.08302771803278933, 0.04519551623803211, 0.19028715095365847, 0.01488984337701041, 0.10279880568760859, 0.5616920012898221, 0.014553349741371758, 0.03844439787171614, 0.007907600437508353, 0.0693176889415626, 0.8164912014087827, 0.011340155575121982, 0.07711305791082948, 0.018144248920195172, 0.027216373380292758, 0.03175243561034155, 0.006804093345073189, 0.009072124460097586, 0.026340320259805018, 0.6851227050909701, 0.09219112090931757, 0.03182788698059773, 0.11112322609605242, 0.04499804711050024, 0.002743783360396356, 0.006036323392871983, 0.07027957357597794, 0.02145376456529853, 0.011096774775154411, 0.03403010931047353, 0.8307785381665603, 0.020713979580288235, 0.0044387099100617645, 0.008137634835113235, 0.7883805405365584, 0.06337961208235077, 0.013912597774174558, 0.04019194912539317, 0.020095974562696586, 0.04173779332252368, 0.02164181875982709, 0.010820909379913545, 0.045235642170188606, 0.8300740338229609, 0.03618851373615088, 0.06332989903826404, 0.00452356421701886, 0.011308910542547151, 0.00452356421701886, 0.00452356421701886, 0.19204147377378203, 0.2103528287209026, 0.10503976245786086, 0.08855043287861296, 0.1146053956391925, 0.026419367834154075, 0.2428759815374302, 0.020133380314993277, 0.08182341555994804, 0.20576182442281052, 0.02406571045880825, 0.05053799196349732, 0.010829569706463713, 0.02045585388998701, 0.22020125069809549, 0.3862546528638724, 0.028742516702282256, 0.011497006680912901, 0.11640719264424314, 0.004311377505342338, 0.004311377505342338, 0.022994013361825803, 0.8091018451692454, 0.0028742516702282253, 0.13690811064176947, 0.009046791452099304, 0.12363948317869049, 0.6260379684852718, 0.02050606062475842, 0.013871746893218932, 0.006031194301399536, 0.06393065959483508, 0.17143205236295586, 0.24995599889606077, 0.2935724819249036, 0.08548402361217558, 0.09844047479013789, 0.05457414284050791, 0.02983909968257987, 0.01670418498976959, 0.028974662561820724, 0.16906574951120637, 0.06554462501848766, 0.004782225859717984, 0.037695192070718225, 0.605654839763107, 0.08608006547492371, 0.001969151824589758, 0.04633102048825676, 0.10363517740794276, 0.04389254572571693, 0.015850085956508893, 0.058523394300955905, 0.019507798100318635, 0.7071576811365505, 0.003657712143809744, 0.16519938280911117, 0.1544467602594057, 0.05474062388940962, 0.01466266711323472, 0.0400779567761749, 0.022482756240293236, 0.5366536163443907, 0.01075262254970546, 0.010619217658279487, 0.9076867838394204, 0.0021970795155061007, 0.039400959311409404, 0.0009520677900526435, 0.0025632594347571175, 0.03405473249034456, 0.0025632594347571175, 0.15570865207779594, 0.04734384691554606, 0.6943764214280088, 0.025250051688291232, 0.024197966201279095, 0.026302137175303365, 0.014729196818169884, 0.012625025844145616, 0.08317652969815244, 0.030356397700055632, 0.8056587949594765, 0.028535013838052296, 0.015178198850027816, 0.02064235043603783, 0.012142559080022253, 0.004249895678007789, 0.2876455553831609, 0.2631294439926427, 0.10664254664902437, 0.02284109756880579, 0.01832363604964198, 0.03979426776431942, 0.09258258214555946, 0.16902412200916284, 0.380842877232209, 0.17859119392310874, 0.07769285697419318, 0.021271689976828878, 0.020361671154290745, 0.03992707583886062, 0.08497300755449824, 0.19633656096260235, 0.09203936426199451, 0.2283508277892522, 0.015728245791606657, 0.02446616012027702, 0.007572859084847649, 0.6168967516041278, 0.00990296957249308, 0.005242748597202219, 0.1295073233574563, 0.09084281812320122, 0.10754738591858326, 0.02702761530938218, 0.21959937438873023, 0.02702761530938218, 0.38946042893727795, 0.009009205103127393, 0.020059784149186966, 0.8272360527577561, 0.03515063094031844, 0.09827453885931964, 0.0031285901884053067, 0.009937874716110974, 0.004416833207160433, 0.0018403471696501804, 0.23634999511281765, 0.1864815668382951, 0.14989354163440305, 0.15012002912863084, 0.10035454971512094, 0.1193794992302567, 0.022957596005818596, 0.03446727866703169, 0.3052483300953712, 0.12764401431234831, 0.08344165212641967, 0.02117060504694477, 0.08704763430474544, 0.04821547138438795, 0.046897155319193584, 0.2803554208643483, 0.28456503199719557, 0.0208218316095509, 0.03470305268258483, 0.05552488429213573, 0.013881221073033932, 0.5344270113118064, 0.0416436632191018, 0.013881221073033932, 0.2485137467670278, 0.20994748540340297, 0.10675667797100134, 0.113504402220967, 0.21323905820826425, 0.04514940697334743, 0.03165395847341612, 0.03121508209943462, 0.468053586924912, 0.16839300175173638, 0.026496464207103696, 0.031279493562540756, 0.013438034855751731, 0.2670145117947957, 0.018221064211188787, 0.007212504583595562, 0.07967118041147878, 0.06373694432918302, 0.03186847216459151, 0.04249129621945535, 0.09560541649377452, 0.03186847216459151, 0.1752765969052533, 0.4780270824688726, 0.12719047124807023, 0.17384435311980093, 0.12406283670918328, 0.04144115764025239, 0.05786123896940901, 0.053691059584226375, 0.39747022265021953, 0.024499803887947955, 0.9802594598108552, 0.007043178053555028, 0.002012336586730008, 0.002012336586730008, 0.001509252440047506, 0.002766962806753761, 0.00251542073341251, 0.001760794513388757, 0.012326549202472684, 0.0021437476873865536, 0.8703615610789408, 0.0010718738436932768, 0.09754051977608819, 0.01339842304616596, 0.0010718738436932768, 0.0016078107655399152, 0.38587681565545257, 0.122920751642922, 0.13067883270126057, 0.04109053987682835, 0.018596003340841674, 0.02362511116257873, 0.10658589755526443, 0.17063879795149686, 0.1538735726627488, 0.06851305060166188, 0.03818760197469678, 0.037064437210735116, 0.2504657423634524, 0.03144861339092676, 0.037064437210735116, 0.3829991845109295, 0.011929224987816733, 0.006958714576226428, 0.9120886605268211, 0.007455765617385458, 0.04374049162199469, 0.014414480193611886, 0.0019882041646361224, 0.0019882041646361224, 0.482405015954557, 0.22377707547048584, 0.04750896221191582, 0.027329982587304513, 0.033576835750116975, 0.0754554105718663, 0.06982502318169981, 0.04007027522198782, 0.03350520698004888, 0.5067662555732392, 0.01989371664440402, 0.010819389753974116, 0.006980251454176849, 0.40171347118787765, 0.01430951548106254, 0.005933213736050322, 0.016017451671783988, 0.8685592342022219, 0.005683611883536254, 0.08628756223186858, 0.008267071830598187, 0.008783763820010573, 0.005166919894123867, 0.0015500759682371599, 0.03587121876075291, 0.029607990088240495, 0.05636905805261171, 0.7908749660108856, 0.038718140884622186, 0.02277537699095423, 0.019359070442311093, 0.006832613097286268, 0.13868248308906578, 0.6074126906173222, 0.10159317086885719, 0.04891041260779808, 0.03710557233078299, 0.03713809255193179, 0.01921945069894193, 0.009951187671533386, 0.9087283093530242, 0.05747421834147661, 0.006356595576937505, 0.0031782977884687526, 0.008210602620210944, 0.007416028173093756, 0.005032304831742192, 0.003708014086546878, 0.13669757541505617, 0.027579335390756944, 0.7602303755539088, 0.01678742154219988, 0.00839371077109994, 0.032375741545671195, 0.00839371077109994, 0.00839371077109994, 0.03737457145065228, 0.2662331485802958, 0.01941536179254664, 0.0029123042688819958, 0.6443473194901416, 0.010678448985900651, 0.01553228943403731, 0.0033976883136956617, 0.17771283313850253, 0.27090990751293287, 0.09708028580669827, 0.039279395220636865, 0.08490204681230826, 0.05521885994785183, 0.188569560388927, 0.0863252133058096, 0.17790613142298078, 0.34016559558927595, 0.11001706585283652, 0.02565379136894391, 0.05765206877536857, 0.05280941759700162, 0.17885627184405278, 0.056916476191312834, 0.02483032552325652, 0.022071400465116905, 0.01241516276162826, 0.004138387587209419, 0.004138387587209419, 0.011035700232558452, 0.9173425818314214, 0.002758925058139613, 0.11407347503381167, 0.12067906601572503, 0.06300717551978907, 0.028708914652161955, 0.05563940096303954, 0.02159520128702448, 0.5452153171994651, 0.05106629951402259, 0.0478590078179284, 0.036960421879192226, 0.05875759375666457, 0.03601271875408474, 0.6212193985079617, 0.01753250781448862, 0.17342967189467123, 0.007581625000859944, 0.4749942478319628, 0.1131837940812183, 0.20503524940466025, 0.020895200668477658, 0.03983202269689716, 0.06261565991114518, 0.025074240802173187, 0.05836667768316186, 0.04942315919746451, 0.749695894583161, 0.026381280922970922, 0.11888273428579302, 0.008682446886041063, 0.025713400393275455, 0.012689730064213861, 0.008014566356345596, 0.08423663864688513, 0.06695732815521639, 0.753809920199049, 0.030238793360420305, 0.011879525963022263, 0.0323987071718789, 0.007559698340105076, 0.01295948286875156, 0.3850606068568479, 0.1455421384658226, 0.0364865120483237, 0.06785683421533263, 0.03298596107689781, 0.2819289897756082, 0.025850222558221957, 0.02436922022415716, 0.35720714282794325, 0.1303776778951551, 0.029984735561671694, 0.07168641930019556, 0.10167115486186726, 0.25564250567677466, 0.02188938954857383, 0.031529242366802206, 0.06414522212129378, 0.14967218494968548, 0.08804246173510911, 0.011319745080228314, 0.04779447922763066, 0.02263949016045663, 0.6074929859722529, 0.008804246173510912, 0.19532398796509626, 0.05383319668306311, 0.07384199545021931, 0.2348651855287621, 0.019770598781832915, 0.05192759680047681, 0.07765319521539193, 0.29250958197699783, 0.040321260216629955, 0.8396902440113189, 0.024192756129977972, 0.06854614236827092, 0.0030240945162472465, 0.013104409570404735, 0.008064252043325991, 0.002016063010831498, 0.05083811337842504, 0.8692320561958163, 0.003987303010072552, 0.03688255284317111, 0.00498412876259069, 0.01594921204029021, 0.012958734782735794, 0.00498412876259069, 0.040197658321033294, 0.022149730095263245, 0.0508623431817156, 0.8646598340891651, 0.0045119820564425124, 0.010664684860682302, 0.0032814414955945545, 0.003691621682543874, 0.09617888733884712, 0.028360441138377997, 0.797791539849155, 0.027127378480187647, 0.007398375949142086, 0.027127378480187647, 0.008631438607332434, 0.006165313290951738, 0.17656127067350888, 0.03007362302680646, 0.05367980024139647, 0.5597574350473331, 0.017462103692984395, 0.04074490861696359, 0.016491986821151928, 0.1050959944485172, 0.19235135562056702, 0.27646186625047436, 0.017513421391432766, 0.2674747157996076, 0.03420384365732827, 0.06952696612538722, 0.06676168906358204, 0.07565007961938439, 0.19489589170476437, 0.006167591509644443, 0.07647813471959108, 0.6438965536068798, 0.0074011098115733314, 0.011101664717359997, 0.004934073207715554, 0.054274805284871094, 0.2935030385750937, 0.15314962636465293, 0.16451504020204388, 0.11492296129637361, 0.07216092918609505, 0.09162521274134179, 0.030829697392637693, 0.07928793453780815, 0.3300172239510428, 0.3003577884018179, 0.056075150352582835, 0.04582427595127974, 0.07313604620929708, 0.06408588611723753, 0.07962348770103085, 0.05086010760646535, 0.07252434443762777, 0.10687798127650408, 0.06234548907796072, 0.019085353799375728, 0.0776137721174613, 0.02417478147920926, 0.6310890322993574, 0.006361784599791909, 0.10890954748889196, 0.2063815681504189, 0.008603449383416187, 0.006224848671530535, 0.5992555538178298, 0.02945416200675424, 0.03183276271863989, 0.009413185795973004, 0.19312773250875948, 0.15241503721995714, 0.21722300114907106, 0.16511075117940407, 0.12679096532798442, 0.052909886448794546, 0.048090832720732224, 0.04433529429817332, 0.057722441198756545, 0.26552322951428015, 0.12252053647994132, 0.037612687490802654, 0.01154448823975131, 0.4059191026235138, 0.08974908599290535, 0.010054876853976947, 0.15496104892452148, 0.06063693218785623, 0.03593299685206295, 0.04267043376182476, 0.06288274449111017, 0.5839111988460229, 0.04716205836833262, 0.013474873819523607, 0.8436433569848625, 0.015431837780735602, 0.03434127280783415, 0.008367968374060853, 0.0673784466482822, 0.01445376355519602, 0.003260247418465268, 0.013258339501758755, 0.08172073648344931, 0.016344147296689863, 0.7995012052630791, 0.0517564664395179, 0.009534085923069088, 0.021792196395586483, 0.010896098197793242, 0.006810061373620777, 0.7263630976755217, 0.12487534706747101, 0.019701910906236724, 0.021150580825812955, 0.019122442938406235, 0.05389052100823575, 0.023468452697134923, 0.011009891388779346, 0.5734579436625806, 0.020730725791144062, 0.07112942360339207, 0.03805239889663332, 0.012945186549581069, 0.2696837084030163, 0.010826045690930788, 0.0031787112879754225, 0.037291414097499, 0.06546714919338713, 0.087013299560831, 0.7524578666784243, 0.010773075183721934, 0.024860942731666, 0.016573961821110667, 0.0049721885463332, 0.1618282500729381, 0.3994094361368092, 0.06520857127424633, 0.031522100837252695, 0.08435491773349311, 0.030856140960409326, 0.21221921408741953, 0.014651117290554069, 0.03458969400460118, 0.020914698700456525, 0.00563088041935368, 0.01689264125806104, 0.8928967522117979, 0.015283818281102845, 0.010457349350228263, 0.004022057442395486, 0.058241531610179684, 0.23872627791864862, 0.01792047126467067, 0.010880286124978622, 0.010880286124978622, 0.6457769823590254, 0.009600252463216432, 0.00832021880145424, 0.023102576431680844, 0.29288104960163136, 0.00819768841124159, 0.0037262220051098136, 0.6528340952952394, 0.007452444010219627, 0.009688177213285515, 0.002980977604087851, 0.5218151857198267, 0.10385293829126839, 0.05902003131595107, 0.09934972185730319, 0.050651222013891835, 0.10425145301993788, 0.024149992557370933, 0.036902463874794525, 0.22190067292289592, 0.05184775967160951, 0.1056301372414134, 0.08009318098524752, 0.13290824960595424, 0.04004659049262376, 0.029986577422012963, 0.33778428502473956, 0.4669021371665217, 0.11966771473833193, 0.07803919398435459, 0.04280920158048539, 0.04974094062643587, 0.08615161385681312, 0.057777187542345496, 0.09887249760048049, 0.11719728724623846, 0.2647790563711313, 0.1409565813468404, 0.02924220812381778, 0.04135030992508608, 0.025358477357373232, 0.3678121490573955, 0.013478830307072259, 0.05901934857044441, 0.05220942373539313, 0.03972456153779912, 0.7854113309759141, 0.01248486219759401, 0.03291463670274784, 0.01248486219759401, 0.004539949890034186, 0.0941865620888937, 0.05060770500298766, 0.023898082918077507, 0.008434617500497944, 0.7577098054613987, 0.026709622084910154, 0.030926930835159128, 0.007028847917081619, 0.03353058148980298, 0.007889548585835994, 0.0059171614393769955, 0.051282065807933964, 0.8579884087096644, 0.011834322878753991, 0.0059171614393769955, 0.027613420050425982, 0.2595561344405809, 0.05655186135838932, 0.05025788343312008, 0.3864690326053383, 0.037106287768378377, 0.1475796913522087, 0.018506173899672254, 0.043963905507850835, 0.2803289945804773, 0.10629575259185385, 0.021884419651264028, 0.015631728322331447, 0.025010765315730318, 0.033347687087640424, 0.15214882233735944, 0.3668245579640446, 0.08884116347437905, 0.05097443805906995, 0.03349748786738882, 0.016020537675707696, 0.27089272797105746, 0.03932313793128253, 0.013107712643760844, 0.48644178033512464, 0.09236470823873859, 0.09866230198228894, 0.6927353117905394, 0.030438369760493397, 0.015743984358875893, 0.02414077601694304, 0.036735963504043755, 0.009446390615325538, 0.08674578468618467, 0.045314962149499455, 0.8273217375294329, 0.005178852817085652, 0.010357705634171304, 0.012947132042714131, 0.007768279225628479, 0.0038841396128142395, 0.056376371941872123, 0.020625501929953216, 0.8779588654850086, 0.01306281788897037, 0.008250200771981285, 0.01443785135096725, 0.0061876505789859645, 0.0034375836549922025, 0.07524304576379326, 0.11745255924104313, 0.7505952613997913, 0.013458105746369525, 0.004893856635043463, 0.023857551095836885, 0.007952517031945628, 0.0061173207938043294, 0.30259408607213056, 0.11477706713080815, 0.054258249916382034, 0.02566832592198073, 0.05050190953755559, 0.030676779760415995, 0.14607990362102855, 0.2752562755373381, 0.7100711374240567, 0.11174890031591711, 0.07682736896719301, 0.007682736896719302, 0.012571751285540675, 0.011407700240583206, 0.06681652998055877, 0.002793722507897928, 0.3979701179611556, 0.06649421157114102, 0.06025189783180942, 0.051295534640594505, 0.036006389394985204, 0.03130203701172081, 0.16121453744186845, 0.1955020288506609, 0.21563393718258098, 0.07310849154199153, 0.3590421417770254, 0.13259440740972064, 0.05188215124247808, 0.04036615943536964, 0.05232353071940558, 0.07505457378117188, 0.7224751252905234, 0.07049913400571071, 0.022371725191145532, 0.018047778305461944, 0.12426647354073275, 0.019739757521599, 0.012595845275686982, 0.010151875296822342, 0.12396900546049061, 0.04261434562704365, 0.17284140184395325, 0.5325303191295594, 0.042018340793098984, 0.047680386715573314, 0.020860169188063323, 0.017284140184395325, 0.16122971280987483, 0.11932496919626702, 0.29624142094036304, 0.24904901251746722, 0.08662957512550257, 0.04379949017026936, 0.01524610020011388, 0.02846526222333401, 0.2637349836965088, 0.20202000574416637, 0.09591592507178026, 0.03160131449568446, 0.11447399611418174, 0.04814579726303995, 0.09254992676125563, 0.1515751114208127, 0.8126719052662446, 0.06555139795659021, 0.03267230560612383, 0.022953328622023702, 0.01509543233700658, 0.02605512978716204, 0.016956513036089582, 0.00806468302935968, 0.45318217993732707, 0.024327468151519756, 0.04878787328747405, 0.09146064529095953, 0.008773840972679256, 0.3424456719033601, 0.028714388637859387, 0.0022599287353870815, 0.08008727062687314, 0.20798783715038696, 0.019125318358656274, 0.011953323974160171, 0.02749264514056839, 0.022711315550904325, 0.6227681790537448, 0.00836732678191212, 0.031097696662306395, 0.9215284110930128, 0.010365898887435464, 0.012439078664922557, 0.004146359554974186, 0.008292719109948372, 0.009329308998691919, 0.002073179777487093, 0.06139963325777115, 0.36676977896782237, 0.053492104732149104, 0.029071796050081037, 0.035816452733699836, 0.42165732991037536, 0.02442030868206807, 0.007209805420420097, 0.40420847524193454, 0.0803984991872342, 0.12310226705871948, 0.13699830395527848, 0.10314306456166852, 0.04172658255262427, 0.046550954166213694, 0.06387098686508097, 0.75658775219478, 0.004335746430915645, 0.036853844662782985, 0.04335746430915645, 0.00867149286183129, 0.12862714411716414, 0.018788234533967794, 0.0021678732154578224, 0.11691703357240393, 0.0421094372722074, 0.1586644986044491, 0.5154484699910316, 0.02859580697281706, 0.08518413385151412, 0.016530065634075684, 0.036559196256386366, 0.34940663520202403, 0.21120791744660516, 0.11645357569690373, 0.04681097083532569, 0.08823538994327818, 0.06466922613602039, 0.0788548325316879, 0.04436253823197423, 0.173711746410661, 0.06079911124373135, 0.0347423492821322, 0.026056761961599152, 0.026056761961599152, 0.052113523923198304, 0.5906199377962474, 0.026056761961599152, 0.043571352025923125, 0.3600064866726605, 0.01510280529802208, 0.01051888675708886, 0.5244485328568753, 0.021086025288292808, 0.021809801900019105, 0.003377624188056056, 0.06272940593442274, 0.016820882855951763, 0.3876148420561461, 0.4358738815162348, 0.00763917824025757, 0.013588922831227408, 0.008373714609513106, 0.06735698506073261, 0.26216797937676983, 0.08173093904507532, 0.042062665175362335, 0.27031605725271085, 0.07290385467947252, 0.1284037009134043, 0.030948401055109414, 0.11146427585552686, 0.7996410040306621, 0.09176044912935956, 0.009066450456863974, 0.01663843105820092, 0.005977879422108114, 0.0470259847872505, 0.013350597376041455, 0.016439168410797313, 0.6565083652561814, 0.1779980288590314, 0.03529169168329432, 0.02398177035525872, 0.020961843717929845, 0.037482618851552525, 0.02469234132874787, 0.02315277088618805, 0.15463425892598823, 0.027695688165848636, 0.041543532248772955, 0.018463792110565758, 0.6508486718974429, 0.05192941531096619, 0.03346562320040043, 0.021925753131296837, 0.14543884316352482, 0.28403140431157464, 0.044232935108677415, 0.07018927388039121, 0.08060752912133139, 0.2180094325275595, 0.10531367726413238, 0.05221034197888304, 0.19541167315765418, 0.3154519924048392, 0.04713719657499791, 0.1048095264841269, 0.04719739733690723, 0.1919200289669136, 0.06622083810025249, 0.03184620305003052, 0.049257135356686285, 0.6901942495680476, 0.005646368457176708, 0.1929423537274725, 0.004086187699272618, 0.013372977924892204, 0.04019322809648156, 0.004234776342882531, 0.06417083469294932, 0.15861851414708142, 0.11079181689158474, 0.018688583381349544, 0.00823905288855195, 0.02846827217589088, 0.6031924492797586, 0.007703179529946944, 0.09408867467774834, 0.1609961766708138, 0.08990695580318174, 0.017772305216908018, 0.012545156623699778, 0.020908594372832965, 0.5938040801884562, 0.009408867467774834, 0.064026308140051, 0.2630718256738883, 0.009620533347468804, 0.009288790818245742, 0.004976137938345933, 0.6425852791050715, 0.003980910350676746, 0.0023221977045614355, 0.7686661913996816, 0.07707960225145244, 0.03397587730820601, 0.02484802967316559, 0.021399731677705876, 0.03793127795005686, 0.01663296680162921, 0.019472741621419563, 0.06872805602176774, 0.0336328784787374, 0.021934485964393957, 0.02485908409297982, 0.8188874760040411, 0.02047218690010103, 0.007311495321464653, 0.004386897192878792, 0.24616174444795824, 0.4319870115758483, 0.022073677357637034, 0.04478067002499707, 0.016492586190703103, 0.05235406560376794, 0.09369108363214619, 0.09243764708165277, 0.35082653456989277, 0.09692383414246028, 0.13655611124660955, 0.11336988110404603, 0.032218075605073726, 0.06470575853738655, 0.032150673773263944, 0.1732227077511286, 0.03847761258646271, 0.7936648889501042, 0.06772059815217438, 0.03642547324851803, 0.02206049788290529, 0.02206049788290529, 0.013338905696640407, 0.006669452848320203, 0.8303473711175149, 0.06300738859428297, 0.013706152713691425, 0.01084218050486038, 0.01800211102693799, 0.019843236018329376, 0.02863972208831044, 0.015751847148570742, 0.06186642482592945, 0.13167899595977645, 0.04427138657268346, 0.026108766440300503, 0.6595301435571562, 0.056758187913696745, 0.009648891945328447, 0.010216473824465415, 0.027208017095452994, 0.9034938090662494, 0.010320282346551135, 0.014073112290751548, 0.003752829944200413, 0.025331602123352785, 0.01219669731865134, 0.0028146224581503095, 0.035181082719447684, 0.9359202741100126, 0.0056910574987341835, 0.0056910574987341835, 0.0031042131811277367, 0.008795270679861921, 0.0031042131811277367, 0.0025868443176064473, 0.32076738579227754, 0.066012385946715, 0.061294700764389774, 0.15144121501322377, 0.12288865767840465, 0.14381898484924308, 0.03665007667761617, 0.09713502550772624, 0.06551997283243689, 0.007862396739892428, 0.1795247255608771, 0.6486477310411253, 0.006551997283243689, 0.02358719021967728, 0.007862396739892428, 0.061588774462490684, 0.052677320353530385, 0.8658235927198449, 0.017239850297519035, 0.009577694609732797, 0.017239850297519035, 0.013408772453625916, 0.018197619758492316, 0.0057466167658396785, 0.33135251725412473, 0.12894545283811076, 0.10153878200414117, 0.11448780537982406, 0.08511154199356613, 0.1418106637647601, 0.055567653709241105, 0.04115191247547117, 0.12716951097513604, 0.07465172242369536, 0.26218650759588963, 0.297097757839855, 0.08466229706137418, 0.039287732623252074, 0.024548544840137018, 0.09034669371493051, 0.11523623581776032, 0.2118859819874948, 0.05390081997927499, 0.024627098783634265, 0.02880905895444008, 0.5283209682451351, 0.02509176102483491, 0.012081218271216809, 0.024112426959533938, 0.26644231790285, 0.08439349435836878, 0.009644970783813574, 0.008439349435836878, 0.013261834827743665, 0.5907544605085814, 0.0036168640439300905, 0.12846138509097121, 0.3382949574964497, 0.1358484851661403, 0.05809854383443791, 0.08254157381289313, 0.09098397389880065, 0.10935189841003189, 0.05644428976355063, 0.21395319705962193, 0.15914995943055146, 0.06668010027314149, 0.04207802765328013, 0.04547141698015756, 0.047677120042627884, 0.4036436604320703, 0.02137835275932781, 0.1010383178473626, 0.056581457994523056, 0.042436093495892294, 0.7153512903593272, 0.024249196283367025, 0.03839456078199779, 0.013134981320157139, 0.010103831784736261, 0.5048723514253102, 0.12023724251584127, 0.04746916707668924, 0.0313943809529922, 0.025244966127148365, 0.07182408632114969, 0.11891565775063798, 0.08002330608894145, 0.3375663032790955, 0.3077005859534232, 0.05403592191459638, 0.03086600450882876, 0.09604798360716886, 0.0385212635635978, 0.10586712922141928, 0.029416608794459155, 0.14471629288993254, 0.08537220156096739, 0.10619468974656919, 0.600728784154612, 0.007287870864960631, 0.015616866139201352, 0.006246746455680541, 0.033315981096962884, 0.18621710794961377, 0.3028842620317314, 0.10115783002755038, 0.07142285731506262, 0.11550974183923945, 0.08053484824535788, 0.1084179613692406, 0.03390165678684911, 0.02823799711802802, 0.9172306563873743, 0.010589248919260507, 0.016135998353158865, 0.002521249742681073, 0.009580749022188077, 0.010589248919260507, 0.005546749433898361, 0.2980405958412487, 0.23769301514420865, 0.14118701901394728, 0.09529967117863308, 0.05336029591228412, 0.059454586901678874, 0.08365941872331098, 0.03131744906889488, 0.13575936530075322, 0.31079170634925346, 0.055328914009301976, 0.021181777706558387, 0.14427730437847955, 0.22847675526184508, 0.09708942948771246, 0.007161099224637177, 0.36657146232971155, 0.17295671636067622, 0.0504560482926889, 0.10240096358417845, 0.06689562140444615, 0.08302501389145325, 0.09429490992404155, 0.06338024099061126, 0.06480306182787388, 0.748541489685237, 0.02843399651631201, 0.08177529230660276, 0.01432720754697892, 0.035266972423332724, 0.019176416255187168, 0.007714650217604034, 0.20134677443290266, 0.12602490976149658, 0.061840130138780876, 0.052168451017549744, 0.19958828731995157, 0.03311817396057933, 0.031359686847628215, 0.2945465914193118, 0.11226286071725, 0.33809548390631633, 0.26083892018637944, 0.07286910782960697, 0.045984271735670504, 0.09979128397367391, 0.0477579241168677, 0.02240403007828039, 0.2843637113964455, 0.12436074252691041, 0.030930317288831034, 0.04826341130814331, 0.15431502151174134, 0.05354748074704045, 0.07845328574566392, 0.22576775666319757, 0.08095275704270001, 0.11774946478938184, 0.08831209859203637, 0.02943736619734546, 0.007359341549336365, 0.6152409535245201, 0.05151539084535455, 0.008831209859203637, 0.7338730213774419, 0.14356202743772117, 0.009704659197421712, 0.019074674974242676, 0.010373946038623209, 0.05822795518453027, 0.0130510934034292, 0.012047163141626953, 0.08136832285596196, 0.1863062181258052, 0.26885894160558027, 0.03186037678057317, 0.07994704210738621, 0.0320972569053358, 0.31173424418761553, 0.007817044117166652, 0.06671609806681372, 0.82341710508778, 0.012289807538623581, 0.01580118112108746, 0.00965627735177567, 0.05179276034134223, 0.013167650934239552, 0.007022747164927761, 0.24703890713461046, 0.31183470476036224, 0.08905807803490746, 0.12110111142468083, 0.0361699868288172, 0.07688750833887377, 0.05622645481601743, 0.06166772463692234, 0.06378561531377949, 0.8707702939047776, 0.013530282036256256, 0.010630935885629914, 0.006765141018128128, 0.017396076903758044, 0.008698038451879022, 0.008698038451879022, 0.02397579646295282, 0.15344509736289805, 0.17382452435640794, 0.015584267700919332, 0.0323673252249863, 0.027572165932395743, 0.5682263761719818, 0.005993949115738205, 0.22713446237431545, 0.16145414991065957, 0.08359312495374385, 0.04788691872350184, 0.05624623121887622, 0.2715582373497336, 0.114641999936563, 0.037497487479250816, 0.20063869713953328, 0.18729455576208215, 0.1505981669740915, 0.3327298108937074, 0.028435729840044704, 0.040191282958275475, 0.03979413589347038, 0.020333929718020793, 0.05091197997460386, 0.02445378565709319, 0.04289434533293396, 0.8458604546961743, 0.009220279837920384, 0.017638796211673777, 0.004409699052918444, 0.004409699052918444, 0.17722793644968446, 0.33263191446215123, 0.12732907257579693, 0.09360113680918775, 0.11265293614230058, 0.04642007597854026, 0.0437838070265974, 0.06636875031592232, 0.36569320700661573, 0.19541381660163296, 0.0871834541002998, 0.10878890530570316, 0.06821838706100919, 0.0702748401134624, 0.03277630729280345, 0.07167119712438741, 0.14935810565455096, 0.5156432355920914, 0.04791415275394631, 0.08024941274101405, 0.04601207863705997, 0.08197033694200645, 0.06901811795558996, 0.00987267041621956, 0.29552237215402555, 0.21945982398023894, 0.09845307844049374, 0.2260668656982837, 0.034217950626169946, 0.06129866482852613, 0.03450344008312249, 0.030465803477650714, 0.1151164708569123, 0.09367320667768354, 0.0383721569523041, 0.02257185703076712, 0.6528909646149389, 0.04175793550691917, 0.02765052486268972, 0.007900149960768491, 0.10706771405074456, 0.22253289587017494, 0.020993669421714618, 0.056682907438629464, 0.020993669421714618, 0.47235756198857887, 0.03149050413257193, 0.06717974214948677, 0.0751805175006044, 0.06361428403897294, 0.007710822307754297, 0.8163833118334861, 0.004819263942346435, 0.022168614134793603, 0.006746969519285009, 0.0038554111538771484, 0.10428243028923749, 0.11677514782642533, 0.19427234475203126, 0.4857337971238798, 0.012598588024791128, 0.037584023099166815, 0.0352548723718945, 0.01355142241322071, 0.028282100077392604, 0.014026082152202836, 0.845473837272948, 0.009887238238438064, 0.07013041076101417, 0.01609550410908522, 0.013796146379215904, 0.0022993577298693175, 0.07052248059322579, 0.12289160027903093, 0.40279551584109285, 0.07261344362968261, 0.1860006664702734, 0.10635398353614509, 0.027467650797091986, 0.01140525292612816, 0.09417075849502135, 0.758203606923956, 0.06224300133403808, 0.017092637672041545, 0.03289526495374033, 0.008707570134813618, 0.021930176635826887, 0.004515036366199653, 0.7483558421846673, 0.10112916786279288, 0.03075152247256355, 0.02125776385687279, 0.020019447515695732, 0.03653033206472314, 0.028068503733346593, 0.013827865809810455, 0.2081504495500088, 0.23128654312043506, 0.054009015858937234, 0.09157727069194455, 0.03169124071061606, 0.1396348798446628, 0.0789305314412292, 0.16470518059461026, 0.022160833223248664, 0.021742704294508124, 0.7049653738565519, 0.027178380368135153, 0.20112001472420013, 0.014634512505918929, 0.00501754714488649, 0.0029269025011837858, 0.22755235734091525, 0.21387540190747031, 0.07134543575517029, 0.10368741272131649, 0.12750140571131469, 0.16286840340862282, 0.04170666880410496, 0.05145753350136098, 0.08495755191068224, 0.12243882481245383, 0.028735642558024875, 0.009995006107139088, 0.029985018321417263, 0.031234394084809648, 0.6884060456292047, 0.004997503053569544, 0.3641760519235243, 0.09302412478304674, 0.07788831468696739, 0.0860202871920038, 0.08421057076747258, 0.10834795736479168, 0.03913217982914927, 0.1471746006547344, 0.16407678724766764, 0.0066293651413199045, 0.12098591382908826, 0.0762376991251789, 0.21876904966355684, 0.013258730282639809, 0.0066293651413199045, 0.39278988462320436, 0.026641756220704374, 0.8333671305622771, 0.015757624106148317, 0.00178694706358383, 0.04727287231844496, 0.03378954447503969, 0.03882548619968503, 0.002436745995796132, 0.13267439228060668, 0.07806724963388595, 0.23719665617661512, 0.14824791011038443, 0.11001292723343008, 0.020165708984712226, 0.059997975741643804, 0.2137365491894499, 0.01982477493282016, 0.2600095481573721, 0.014487335527830117, 0.003812456717850031, 0.05337439404990043, 0.6397302372552351, 0.0053374394049900435, 0.003812456717850031, 0.08090996439381302, 0.1663782366407986, 0.025070693192449103, 0.023931116229155964, 0.6506984460403835, 0.029629001045621668, 0.013674923559517693, 0.009116615706345128, 0.026053255124994408, 0.889979195069809, 0.005210651024998882, 0.04481159881499038, 0.003126390614999329, 0.007294911434998434, 0.01980047389499575, 0.003126390614999329, 0.07591023645831982, 0.06330230791160926, 0.14078853543826791, 0.6550869540728361, 0.01759856692978349, 0.02442786155925171, 0.01602257586144467, 0.006829294629468219, 0.8668334414722744, 0.02826860091440369, 0.014978139290467627, 0.017720615498581418, 0.01202470337403739, 0.038183707205276626, 0.014134300457201845, 0.008016468916024927, 0.124494873077044, 0.07608020021374912, 0.03976919556627795, 0.6596499177623929, 0.02161369324254236, 0.025936431891050833, 0.04063374329597964, 0.011239120486122028, 0.7945991679786549, 0.06123790580286626, 0.037684865109456164, 0.013212681364595911, 0.03251468544504907, 0.019531789843315692, 0.03653593629514348, 0.004595715257250751, 0.07930466101782704, 0.2519089232330977, 0.17843548729011086, 0.017493675224520673, 0.023324900299360896, 0.06181098579330638, 0.018659920239488717, 0.3685334247299022, 0.08442500175649503, 0.07686455383800293, 0.034022015633214414, 0.028981717020886352, 0.7157224029505848, 0.036542164939378445, 0.015120895836984184, 0.008820522571574108, 0.104066508047045, 0.020405197656283333, 0.1224311859377, 0.67337152265735, 0.013263378476584166, 0.037749615664124166, 0.0091823389453275, 0.019384937773469165, 0.2979250859547373, 0.031126501517659125, 0.06669964610926955, 0.014451589990341736, 0.20565724217024778, 0.022233215369756518, 0.021121554601268692, 0.34127985592576254, 0.5300383741029329, 0.0648266578967639, 0.09299172566116941, 0.04678510614523842, 0.12556775397404407, 0.05495622978420587, 0.038288583777285536, 0.046532018244916415, 0.8467281414392507, 0.04218837767660602, 0.024702405350118, 0.026460254419976584, 0.013877755814673034, 0.022759519536063776, 0.011379759768031888, 0.011934870000618809, 0.12531969418660655, 0.5296969973612329, 0.017819621942891082, 0.01450028060058784, 0.0447237570331384, 0.02119719734383122, 0.20015045953502172, 0.04652901285088227, 0.761293012683826, 0.1378515598188548, 0.015547168400622723, 0.01528804892727901, 0.027725783647777186, 0.01813836313405984, 0.01269685419384189, 0.01140125682712333, 0.10246056840708438, 0.05721148489735676, 0.7047414730538037, 0.028085638040520593, 0.011962401387629142, 0.04940991877498993, 0.026005220407889437, 0.02080417632631155, 0.19839394869627772, 0.11040889290472926, 0.4036290680372546, 0.08272748946275181, 0.10179408542621912, 0.04966183134670553, 0.03743640602793746, 0.01602607567693431, 0.12671937264020522, 0.2105337608431756, 0.024279564836574754, 0.02860332295815656, 0.5235073294899817, 0.03558785530840409, 0.0335922746369048, 0.017295032486327223, 0.07529127600760072, 0.5694159890410896, 0.027647943976561572, 0.006994271541689683, 0.1969916008330012, 0.02303995331380131, 0.08368440185762833, 0.01678625170005524, 0.3992886353749222, 0.07392235546805992, 0.0113311639768559, 0.014568639398814729, 0.01726653558378042, 0.012410322450842176, 0.09712426265876486, 0.37446799047323787, 0.08356016800432071, 0.039322432002033274, 0.014745912000762479, 0.024576520001270797, 0.044237736002287434, 0.6832272560353282, 0.10322138400533734, 0.009830608000508318, 0.07633369933267, 0.09228402456636223, 0.04671166675581298, 0.014811016288428505, 0.06038337409897775, 0.034179268357911935, 0.6676350419245465, 0.007975162616846119, 0.18191912221703554, 0.33870683433765364, 0.13724105982340457, 0.08276785582101365, 0.0668643853693745, 0.07482702832527065, 0.08745817975393878, 0.03021441231209908, 0.43964285278999843, 0.014479605244610838, 0.0486935111855058, 0.04916059522565454, 0.012494498073978707, 0.40239290058813665, 0.027207645338663912, 0.005721779491822025, 0.7562232914276746, 0.13057092801628914, 0.032642732004072285, 0.016321366002036142, 0.010880910668024097, 0.032642732004072285, 0.016321366002036142, 0.010880910668024097, 0.07311434233227193, 0.21755247167439282, 0.049240271366632116, 0.030439440481190762, 0.57566353615899, 0.04058592064158768, 0.009549628386255926, 0.00387953653191647, 0.5582486053639303, 0.1560674684599263, 0.054235809948437415, 0.07790131334763352, 0.042677358647950754, 0.05716798662859361, 0.021206258441645743, 0.03249986797747314, 0.12625856173923433, 0.03156464043480858, 0.11611278445661728, 0.6594755233701078, 0.014655011630446841, 0.021418863152191537, 0.011273085869574493, 0.02029155456523409, 0.13488795258310302, 0.2910618256424418, 0.018740864767120658, 0.02429371358700826, 0.48379195343270737, 0.02452508228783691, 0.017815389963806057, 0.004858742717401652, 0.209189802535709, 0.2626683750158228, 0.0792007815748434, 0.027362656103322038, 0.10236389333616877, 0.05433160492458189, 0.25066030291292607, 0.014239080034582451, 0.06042346005592443, 0.05345152235716392, 0.7796950326447172, 0.01975382347982145, 0.013943875397521023, 0.04299361580902315, 0.02207780271274162, 0.008133927315220597, 0.21836572416501898, 0.12028620398920536, 0.2833285603952396, 0.17654866036716435, 0.04145800050236447, 0.06048835516334323, 0.05176035505758229, 0.04775541830019198, 0.13620053698281104, 0.2562587881009926, 0.05353066856579327, 0.08077077596235548, 0.30349871291071706, 0.05091941644063262, 0.09169055757666364, 0.02718076075735401, 0.1305159394350939, 0.04419043618668534, 0.6911178682685091, 0.02363674493706425, 0.019526006687140034, 0.03751048653055848, 0.0359689596868369, 0.0169567952809374, 0.08991046213545613, 0.05869155167175608, 0.0661840901830441, 0.01998010269676803, 0.696806081549785, 0.036213936137892054, 0.017482589859672024, 0.013736320604028018, 0.09323233239830767, 0.5009839624595551, 0.10558549485483877, 0.06356528870348885, 0.1191058852600185, 0.0805873629546144, 0.029423871205517024, 0.007538347168355601, 0.1730099768372976, 0.039925379270145604, 0.0266169195134304, 0.6254976085656144, 0.0266169195134304, 0.06654229878357601, 0.0266169195134304, 0.0266169195134304, 0.24489133830526694, 0.19877704360797557, 0.14060065975445105, 0.15615766192261843, 0.09213580409338093, 0.06154758313052301, 0.061269227226917626, 0.044629729878062664, 0.5600564756002909, 0.005043870860976602, 0.05380128918375043, 0.031010465293411702, 0.008032831371184958, 0.3216868749111744, 0.01849419315691421, 0.0016812902869922008, 0.05956865830142117, 0.12190795187267589, 0.1399170811265939, 0.005541270539667085, 0.09281628153942369, 0.01108254107933417, 0.5596683245063756, 0.008311905809500628, 0.023570911133930745, 0.28939840892214974, 0.05761778277183071, 0.0039284851889884575, 0.02095192100793844, 0.01964242594494229, 0.5814158079702917, 0.0039284851889884575, 0.9842099229796936, 0.005724369462852037, 0.0020353313645696132, 0.0019081231542840123, 0.001399290313141609, 0.0025441642057120167, 0.0011448738925704074, 0.0010176656822848066, 0.03576662022153814, 0.011463660327416072, 0.4525343601249313, 0.4555913362122423, 0.0047383129353319765, 0.006776296993539278, 0.00682724659499446, 0.026340943952329374, 0.05083636404800145, 0.0032251026654108446, 0.5736309723868035, 0.2798186532921714, 0.0007106158415312031, 0.002186510281634471, 0.006668856358985137, 0.08286873967394645, 0.13008579053900302, 0.026774414268942406, 0.19526391012299413, 0.5606400078739152, 0.014874674593856893, 0.02650396563996319, 0.011358842417127082, 0.03488787313831889, 0.16473200690467518, 0.3746815794754211, 0.04316222177215842, 0.011799196428015088, 0.32725642221959267, 0.01781298041390665, 0.03676781854665347, 0.023750640551875535, 0.17165711098281158, 0.2906528056571571, 0.18833521637453285, 0.09535179347462612, 0.07322046507892914, 0.04923822522567836, 0.0916300682857814, 0.03990405884296084, 0.08709956127034313, 0.016246550288768667, 0.5864553361181912, 0.2188771358348001, 0.008123275144384334, 0.008800214739749694, 0.007220689017230519, 0.0672426664729592, 0.08268171391985138, 0.8241209963533013, 0.020670428479962845, 0.010784571380850181, 0.010784571380850181, 0.030556285579075512, 0.01437942850780024, 0.0053922856904250905, 0.15141399719889304, 0.16709831563383815, 0.0618324092146874, 0.0702778114488886, 0.026241071227696602, 0.48048306282437575, 0.03197187988661885, 0.010255131284387178, 0.2667057058930305, 0.2654289232584362, 0.15610795678972914, 0.05214947738631809, 0.05379510833757296, 0.06134231235539701, 0.041850097467257444, 0.10259657792651046, 0.13073989704688566, 0.4040268690489364, 0.01586589531425047, 0.010208289233199917, 0.39480251130809313, 0.007871451938852947, 0.03431461079593707, 0.0020908544212578143, 0.14994039012942814, 0.05370999049412351, 0.07944602760589102, 0.04140145100588687, 0.10518206471765854, 0.04811519981765231, 0.04923415795294655, 0.4733192912294634, 0.07543276933152093, 0.6579483037395635, 0.1467510239722316, 0.026931368885303338, 0.030921201312755685, 0.03865150164094461, 0.017704881396819788, 0.005860066377820634, 0.18210182347009057, 0.26495405380828335, 0.08581286528705619, 0.0530636879296287, 0.0828977785681753, 0.09820198384229997, 0.18283059514981082, 0.05010305298076529, 0.059880025125855496, 0.3189762876896533, 0.1911554648248464, 0.013818467336735885, 0.017273084170919856, 0.025333856784015788, 0.017273084170919856, 0.35697707286567704, 0.05500529280118774, 0.9024942485528211, 0.0040744661334213145, 0.008148932266842629, 0.005093082666776643, 0.015279248000329928, 0.0040744661334213145, 0.0040744661334213145, 0.04245540512226419, 0.8248478709468472, 0.028303603414842796, 0.04346624810136573, 0.022238545540233627, 0.028303603414842796, 0.006065057874609171, 0.0050542148955076424, 0.6704517094204371, 0.09598311172505881, 0.06780226822997143, 0.06443739139473711, 0.027087258523636228, 0.03364876835234314, 0.030620379200632257, 0.010094630505702942, 0.22402041809144563, 0.000648480157633132, 0.18063120027162877, 0.5466098201431273, 0.00117905483206024, 0.000530574674427108, 0.00029476370801506, 0.046159996675158396, 0.029921244243436024, 0.7690867964794297, 0.1119276173550755, 0.03472341924546897, 0.029921244243436024, 0.015514719237337198, 0.005540971156191857, 0.002955184616635657, 0.0910168790624741, 0.2515759945724376, 0.1546063000700584, 0.07755350208624016, 0.2905196469830317, 0.09980701774943676, 0.017635911163083308, 0.01735774221729335, 0.1288589299943722, 0.02482603238423685, 0.08393563329908649, 0.6939467147403348, 0.008275344128078949, 0.015368496237860907, 0.013004112201266921, 0.033101376512315796, 0.15975487452842474, 0.050589043600667835, 0.021300649937123297, 0.08520259974849319, 0.015975487452842475, 0.5218659234595208, 0.021300649937123297, 0.1251413183805994, 0.08979803077394198, 0.14743865863559394, 0.01820230353525851, 0.010921382121155107, 0.0782699052016116, 0.016988816632907945, 0.635260393380522, 0.0036404607070517022, 0.16652707922118, 0.024780815360294643, 0.07235998085206036, 0.601678196947954, 0.014868489216176785, 0.03865807196205964, 0.019824652288235715, 0.06046518947911893, 0.12366138012487744, 0.16719401297348033, 0.049990770688780245, 0.5298064931849198, 0.013155465970731643, 0.04568534546199534, 0.02080955526279369, 0.04975158039840331, 0.2698269198981156, 0.05738856132161414, 0.05436811072573971, 0.030204505958744285, 0.15404298038959585, 0.04429994207282495, 0.03725222401578462, 0.3543995365825996, 0.0359497679992165, 0.0226350391106178, 0.7442933448726675, 0.13314728888598704, 0.002662945777719741, 0.03994418666579611, 0.015977674666318446, 0.005325891555439482, 0.11842907943225664, 0.05436088891972436, 0.01941460318561584, 0.07571695242390179, 0.01747314286705426, 0.677569651177993, 0.025238984141300595, 0.011648761911369505, 0.18036245729810058, 0.03006040954968343, 0.0420845733695568, 0.06012081909936686, 0.01803624572981006, 0.6372806824532887, 0.024048327639746743, 0.012024163819873371, 0.0498304180257479, 0.029628897204498753, 0.7770851675907173, 0.010774144437999546, 0.09292699577774609, 0.02154828887599909, 0.01212091249274949, 0.006733840273749716, 0.08303236369550379, 0.04572796841201658, 0.8122731231081892, 0.00722020553873946, 0.02286398420600829, 0.01323704348768901, 0.00842357312852937, 0.00722020553873946, 0.3250655598039879, 0.2870452499523369, 0.0460126643481257, 0.029607305118519698, 0.05057510153032381, 0.055914123764810975, 0.16767765587340883, 0.038117382983187106, 0.31117360486764567, 0.22232919249246688, 0.1124660427611281, 0.09820279078286062, 0.031324990104169725, 0.07707873405555307, 0.1155203045244069, 0.031896723833256396, 0.05184305945910532, 0.019939638253502045, 0.5891498449301404, 0.26905218550058757, 0.005051375024220518, 0.019142052723361964, 0.0146224013859015, 0.031371697518843215, 0.04066172673678558, 0.924570215086434, 0.004840681754379236, 0.008713227157882624, 0.0029044090526275414, 0.010649499859634318, 0.004840681754379236, 0.0019362727017516942, 0.07162239156792942, 0.26319596171923, 0.022640512836062797, 0.011537953656839694, 0.089691262389018, 0.4375714500046752, 0.09448060164280052, 0.009360981268756733, 0.06779470619147374, 0.03389735309573687, 0.009244732662473693, 0.22649595023060545, 0.01078552143955264, 0.030815775541578973, 0.018489465324947385, 0.6039892006149479, 0.3254259744135519, 0.13420964934534985, 0.3335168460491897, 0.0226050306766673, 0.0999315290569609, 0.03514279359296091, 0.034339882667286936, 0.014822970935519542, 0.053396624927712875, 0.040451988581600665, 0.016180795432640265, 0.005932958325301431, 0.009169117411829485, 0.014023356041621563, 0.20873226108105944, 0.6526254157831574, 0.04389264351723821, 0.21534828225645, 0.03154783752801497, 0.02880454730818758, 0.6158686543512487, 0.020574676648705412, 0.03291948263792866, 0.00960151576939586, 0.21672238932760307, 0.0587359411188478, 0.07502320382078133, 0.021377032296287762, 0.09466971445498866, 0.0587359411188478, 0.05028692359221978, 0.4243849887772556, 0.5480071698672644, 0.08185275759284358, 0.0585952414567256, 0.047487987264543424, 0.0578791465823873, 0.058844317934756314, 0.05621344763555689, 0.09113085639948769, 0.044488324135756534, 0.8194749305806354, 0.012753319585583539, 0.061097298479772306, 0.004745421241147363, 0.025803227998738788, 0.02521005034359537, 0.007118131861721045, 0.18974891475694727, 0.03557792151692761, 0.09487445737847364, 0.03557792151692761, 0.02371861434461841, 0.5692467442708418, 0.03557792151692761, 0.02371861434461841, 0.21597021902647165, 0.14398014601764778, 0.035995036504411944, 0.035995036504411944, 0.035995036504411944, 0.46793547455735524, 0.035995036504411944, 0.035995036504411944, 0.06581293632364453, 0.05537029329074152, 0.013963999404463322, 0.010442643032903006, 0.8141618783211007, 0.0278065727271487, 0.008378399642677992, 0.0040070606986720835, 0.06973002222203593, 0.588958729360025, 0.09182648759722056, 0.02637813340636228, 0.15719838343037926, 0.04533980611586328, 0.012768545735833334, 0.00764583576996008, 0.8146313147351635, 0.0931971453122765, 0.017133737021198466, 0.010384083043150586, 0.02621980968395523, 0.019729757781986112, 0.013758910032174526, 0.004932439445496528, 0.1825730694664472, 0.0074901772088798845, 0.06897204846510227, 0.004369270038513266, 0.17196198508720067, 0.005305542189623252, 0.00499345147258659, 0.5542731134571115, 0.025563317954493972, 0.11247859899977347, 0.06390829488623492, 0.006390829488623493, 0.023006986159044573, 0.056239299499886736, 0.7068257414417582, 0.0038344976931740955, 0.1243034026360455, 0.07240974910837603, 0.02775707049154414, 0.03982536200960681, 0.6673765209488657, 0.034998045402381744, 0.02051609558070654, 0.013275120669868938, 0.01320766759290212, 0.01893099021649304, 0.0017610223457202828, 0.014528434352192334, 0.9395054214417708, 0.008805111728601414, 0.0017610223457202828, 0.0013207667592902122, 0.14397156054832164, 0.21315407384633953, 0.13936997136106816, 0.037447415454890415, 0.2220399012424152, 0.07129818648755971, 0.04680926931861302, 0.1258296629480004, 0.098132348875178, 0.2958331297798049, 0.04380053620526238, 0.019865816967414084, 0.03973163393482817, 0.46768441390755566, 0.02297733046833436, 0.012206706811302629, 0.06517241510305583, 0.7139638074539766, 0.06549827717857111, 0.054093104535536334, 0.05800344944171969, 0.032260345476012635, 0.007820689812366699, 0.0029327586796375122, 0.07607636179210754, 0.04495421378624536, 0.041496197341149565, 0.6743132067936805, 0.020748098670574783, 0.04841223023134116, 0.020748098670574783, 0.07607636179210754, 0.9522163988305287, 0.02176933671344673, 0.006658855935877823, 0.00358553781162652, 0.00358553781162652, 0.006146636248502606, 0.002561098436876086, 0.0033294279679389116, 0.19108031823361618, 0.24417022293676424, 0.16936763067747154, 0.06767337648486996, 0.09868221470128011, 0.07038204509217343, 0.040738375853844225, 0.11788125778984712, 0.012657171484802152, 0.8089083230741738, 0.054080641798700105, 0.11103791348030978, 0.004027281836073412, 0.006328585742401076, 0.001725977929745748, 0.0011506519531638319, 0.07163075404378785, 0.053059817810213225, 0.015917945343063965, 0.02520341345985128, 0.7998767534889644, 0.015917945343063965, 0.010611963562042644, 0.007958972671531983, 0.034096325932906214, 0.12195993506770299, 0.09442059489112489, 0.011802574361390612, 0.02622794302531247, 0.018359560117718728, 0.6884835044144524, 0.005245588605062494, 0.002990478939617845, 0.13363702761417245, 0.6051981754051614, 0.00915834175257965, 0.08205126590576461, 0.0011214296023566918, 0.16522396141388593, 0.0005607148011783459, 0.2561174022405247, 0.17025969167297877, 0.14002297763700447, 0.13319924578334927, 0.07099713897514132, 0.13177384401836353, 0.022412168177116373, 0.07524301657297121, 0.2914973491953443, 0.06831048991244433, 0.03179971082131029, 0.06536607224380449, 0.044755148563325596, 0.07361044171599604, 0.05064398390060528, 0.3745299274509879, 0.9141559739393907, 0.02565623181119573, 0.00702492061497026, 0.009773802594741232, 0.010384665256912558, 0.008552077270398577, 0.018020448534054146, 0.00702492061497026, 0.36732969565464213, 0.16306067639164787, 0.06758059141971959, 0.05487173120923156, 0.11086162393912838, 0.07273504330766431, 0.08923474379552966, 0.07431683277592248, 0.8236496686473154, 0.03562861162087624, 0.027245408886552417, 0.01257480410148573, 0.01257480410148573, 0.054490817773104834, 0.02934120957013337, 0.006287402050742865, 0.09206506368429533, 0.33051612890539267, 0.017086867775201627, 0.01096619872139806, 0.08466925524428269, 0.3713205892640831, 0.016066756266234366, 0.07701841892702824, 0.17747745695352357, 0.16996400749832682, 0.15667098153913253, 0.05299427071357718, 0.13782067047994065, 0.05397235289117676, 0.1785889139735231, 0.07255591426556876, 0.7952369304612747, 0.06344272464621804, 0.028417053747785165, 0.02335044726562192, 0.022028723835492377, 0.034585096421723034, 0.02643446860259085, 0.006388329912292789, 0.20140081994067147, 0.18446348998763193, 0.19160158837819202, 0.18186497171387542, 0.0757640267769975, 0.09767924113398026, 0.046679406580373256, 0.020537686597400975, 0.22360723929529114, 0.20909930171419017, 0.07385416547157776, 0.04143038550844606, 0.13836093491774817, 0.04990146315647146, 0.2227309209179092, 0.04104091067405409, 0.09754753244518512, 0.06229926441877369, 0.0611516463900068, 0.018853724758313088, 0.36674593290735985, 0.02459181490214751, 0.3639588605517831, 0.004918362980429501, 0.5116613858190184, 0.07801436031701821, 0.045680437584000456, 0.033413519485372266, 0.048946217759872866, 0.04501918457318332, 0.0905376826443306, 0.14674418856378757, 0.10182688588632847, 0.17697587916037164, 0.11823441608449456, 0.009143127515008584, 0.1476677717834948, 0.2805562415564278, 0.06901182548999629, 0.09656645635714545, 0.7244740325640182, 0.14895435928148132, 0.026855502931252398, 0.023420496742371278, 0.015301391205015901, 0.027167776221150682, 0.01779957752420217, 0.01592593778481247, 0.3973480067338698, 0.12948464990561273, 0.09925019782369161, 0.14697896626043458, 0.03237116247640318, 0.08151550154949053, 0.060816119602945584, 0.0522158602651553, 0.3473049872767296, 0.09311021989715118, 0.13590568783326681, 0.2068877290285108, 0.05083036000845863, 0.06958560273347315, 0.037983126160166886, 0.058392611370663795, 0.026538679724503737, 0.06634669931125935, 0.8505646851703448, 0.009288537903576309, 0.005307735944900747, 0.014596273848477056, 0.02123094377960299, 0.006634669931125934, 0.310502669273207, 0.2345466473472579, 0.08070808958110659, 0.07896138363218386, 0.09280659696261558, 0.0628557273090286, 0.0640116356575804, 0.07559640599528858, 0.7648437152744146, 0.03476562342156431, 0.04635416456208574, 0.03476562342156431, 0.03476562342156431, 0.05794270570260717, 0.02317708228104287, 0.02317708228104287, 0.7717512625807745, 0.05473413209792727, 0.04378730567834182, 0.027367066048963634, 0.027367066048963634, 0.04926071888813455, 0.01642023962937818, 0.01642023962937818, 0.08119447002544229, 0.03860064968422666, 0.034607479027237695, 0.02861772304175425, 0.7400676284286215, 0.04126276345555264, 0.022627967056270803, 0.013310568856629883, 0.420518214047653, 0.2219346993513037, 0.07013231006825264, 0.03445579523285854, 0.08241826219699763, 0.07235716998900293, 0.04662361320651944, 0.05160493674589842, 0.11164586393694015, 0.02658234855641432, 0.0903799850918087, 0.031898818267697186, 0.031898818267697186, 0.6858245927554895, 0.010632939422565728, 0.010632939422565728, 0.13797373769161722, 0.03580331167947029, 0.09780416849026032, 0.6863756824405769, 0.009605766548150567, 0.013972024070037187, 0.006986012035018594, 0.010479018052527891, 0.845078241054968, 0.04447780216078779, 0.01213030968021485, 0.01213030968021485, 0.016173746240286467, 0.04447780216078779, 0.01213030968021485, 0.008086873120143234, 0.23784807987850012, 0.24783769923339713, 0.014746580952467007, 0.032347338863476016, 0.012368100153682006, 0.4276508476215432, 0.012843796313439007, 0.014746580952467007, 0.20841157810039118, 0.22942142813700164, 0.13955447834536863, 0.05877390530314564, 0.18832186748144253, 0.06950886517586631, 0.0673235340589196, 0.03868419468419697, 0.1971489002498897, 0.13624499653544753, 0.027822662450396655, 0.05736631433071475, 0.46093833564729303, 0.08423287154226616, 0.016731841679791803, 0.019695767920212066, 0.0585755402948389, 0.13866862600410843, 0.5434375636333421, 0.17500936937070236, 0.010758772707215309, 0.03681891104247016, 0.021995713090306852, 0.014823197952163313, 0.039691663230087514, 0.8753620863716598, 0.0354006726106186, 0.016091214823008453, 0.013945719513273992, 0.011800224203539532, 0.00429099061946892, 0.0032182429646016907, 0.029942462842240915, 0.03254615526330534, 0.10154400442151268, 0.8123520353721014, 0.005207384842128855, 0.01041476968425771, 0.0039055386315966414, 0.0039055386315966414, 0.06591950038888816, 0.038952432047979366, 0.0344579206578279, 0.008989022780302931, 0.8075138797638799, 0.028465238804292612, 0.010487193243686752, 0.0044945113901514655, 0.13151859217506942, 0.22284273820225245, 0.04640094150895707, 0.029850287212768563, 0.10994363211039511, 0.0328057611942308, 0.41997285276578344, 0.006502042759216915, 0.024231804508882432, 0.0525022431025786, 0.015346809522292207, 0.004038634084813739, 0.8779990500385069, 0.00726954135266473, 0.00726954135266473, 0.011308175437478469, 0.21405754968180307, 0.04773945352615752, 0.051076081998415845, 0.12242859855901687, 0.13808508600576747, 0.041322860310276134, 0.025923036592160803, 0.35907255636072244, 0.3170489597051477, 0.2358436534819404, 0.07668210271234349, 0.09407413874707328, 0.06134992930932161, 0.061965764529110574, 0.08082306367299344, 0.07218013489871379, 0.059044687449393014, 0.003290416018851623, 0.6326738800691926, 0.27036251621564167, 0.001279606229553409, 0.002010809789298214, 0.0031076151289154215, 0.028151337050174998, 0.7540172991641811, 0.06137350109475893, 0.02630292904061097, 0.030686750547379463, 0.01753528602707398, 0.07452496561506441, 0.01753528602707398, 0.01753528602707398, 0.8608059252757406, 0.07573668902632734, 0.018552947311818443, 0.009403548637497018, 0.014232397937833326, 0.012707498158779756, 0.005845449153038688, 0.0030497995581071414, 0.02087897811450845, 0.8999938460938116, 0.03186791396424974, 0.013186723019689548, 0.015384510189637806, 0.013186723019689548, 0.003296680754922387, 0.002197787169948258, 0.09386058512613059, 0.09965444840552136, 0.11587726558781554, 0.02201668046168495, 0.032445634364588354, 0.028969316396953885, 0.5956091451213719, 0.011587726558781554, 0.023262441366368642, 0.6555982273541009, 0.11318072434021666, 0.002460450529135145, 0.02460450529135145, 0.0062629649832530955, 0.1724552143602906, 0.002236773208304677, 0.30249098018843634, 0.02240673927321751, 0.03236529006131418, 0.011203369636608755, 0.10580960212352712, 0.02614119581875376, 0.031120471212802096, 0.4692967058890556, 0.16978629427637498, 0.3381060162789932, 0.1179979608593414, 0.03638932454258819, 0.10846524107992282, 0.09211907094534291, 0.07736168744066609, 0.05976282015558565, 0.05393824650103921, 0.8443410125354985, 0.02904367119286727, 0.04771460267399623, 0.007260917798216818, 0.011410013682912142, 0.003111821913521493, 0.004149095884695324, 0.5159485282227443, 0.121328331640661, 0.049630643322695435, 0.051274220544565374, 0.04418797776830647, 0.058683789987421645, 0.0733682094287186, 0.08557379109276911, 0.09734270341327951, 0.14047659594371475, 0.030999173378752593, 0.038470769013631424, 0.5684771487303553, 0.07853123922617324, 0.0328008347375177, 0.012876579711174153, 0.021216141784538362, 0.3384479760866834, 0.010776452969924247, 0.0023573490871709292, 0.058933727179273226, 0.005388226484962124, 0.5610490827466811, 0.0020205849318607966, 0.012784285704849832, 0.05503743337342131, 0.199998232297905, 0.0015167796598974377, 0.001083414042783884, 0.003250242128351652, 0.725237360239532, 0.0008667312342271073, 0.10148579325054839, 0.0798930712823466, 0.06292736116447377, 0.6706082508410097, 0.019433449771381606, 0.03917536699945181, 0.014806437921052653, 0.011413295897478087, 0.7786515412313625, 0.03156695437424443, 0.021044636249496283, 0.03156695437424443, 0.021044636249496283, 0.08417854499798513, 0.021044636249496283, 0.021044636249496283, 0.0626936454480443, 0.8606127693322444, 0.017098266940375716, 0.013298652064736668, 0.007599229751278097, 0.020897881816014766, 0.008549133470187858, 0.009499037189097621, 0.7330282103347071, 0.03343475636946604, 0.009530827103020204, 0.020368299857260918, 0.013527625565577062, 0.019369100241621702, 0.051112903415390605, 0.11959650784112448, 0.03388928473423787, 0.6123102804894823, 0.1656626685795026, 0.007567510183373505, 0.00575788818300158, 0.009706154365631235, 0.16220793566970165, 0.0029611996369722413, 0.21789315150382177, 0.12737461630534644, 0.11558067035114768, 0.03980456759542076, 0.0675203405877878, 0.07548125410687195, 0.06368730815267322, 0.2924898596641288, 0.16041398973341855, 0.4207572608900063, 0.09161320206871723, 0.05135065393732662, 0.051941413672888785, 0.0420348273380771, 0.12124207495998887, 0.060621037479994436, 0.1336452034313624, 0.10981698886608074, 0.07459267168262088, 0.01657614926280464, 0.03418830785453457, 0.05076445711733921, 0.5563370096328807, 0.02279220523635638, 0.13798689042860807, 0.40956947484762435, 0.11076147251176925, 0.06405980686315013, 0.08611911132328327, 0.11127808385743981, 0.02288588261320605, 0.05734385936943277, 0.20367373671488984, 0.25029744785538754, 0.16179812628459841, 0.07082583559391022, 0.0909063448474909, 0.03795183276005151, 0.13238628021859847, 0.05213018904747302, 0.005113891307897309, 0.050339867562114136, 0.0074311233067882775, 0.002477041102262759, 0.0005593318618012682, 0.9333650682429449, 0.0005593318618012682, 0.00023971365505768636, 0.07358131847458506, 0.08468793258395639, 0.01110661410937133, 0.019436574691399828, 0.737201511509522, 0.04164980291014249, 0.008329960582028497, 0.023601554982414074, 0.15263793955969865, 0.12365605230152801, 0.07245471814542657, 0.023185509806536504, 0.02125338398932513, 0.040574642161438884, 0.556452235356876, 0.007728503268845501, 0.09806850197028774, 0.17140668605241596, 0.062252179511573955, 0.034110783294013125, 0.042638479117516406, 0.04604955744691772, 0.5278643714748531, 0.017055391647006563, 0.05500132975945846, 0.8120784570367102, 0.012132646270468778, 0.03963331115019801, 0.009301695474026064, 0.027096243337380272, 0.03922888960784905, 0.00525748005053647, 0.09331511400850839, 0.0907775977503823, 0.2844473869996199, 0.442469165590344, 0.02709412520773358, 0.020668479199252958, 0.016207361906740932, 0.024965885765434265, 0.033530444915176455, 0.7529771651603756, 0.01640076109981457, 0.009840456659888744, 0.005831381724378514, 0.15854069063154086, 0.02004537467755114, 0.002915690862189257, 0.2296636698153704, 0.12297270915697507, 0.05683442643603618, 0.4023917843220426, 0.02427092943887666, 0.06785747355619266, 0.04894637436840126, 0.04702492578782353, 0.22178027762552577, 0.1889791609346917, 0.029073717066875646, 0.04696523526187604, 0.023855357593333862, 0.45660645393490595, 0.017891518195000396, 0.014909598495833665, 0.1558535375720481, 0.1667906279279813, 0.008202817766949899, 0.007291393570622133, 0.6015399695763259, 0.010025666159605432, 0.0437483614237328, 0.006379969374294366, 0.2595889715434847, 0.22454131003351788, 0.09545565337096587, 0.06773255932263254, 0.04071829438348956, 0.27085147850062014, 0.02118611448580018, 0.019847215057329535, 0.7367727600470464, 0.10554659940473295, 0.06221910431835425, 0.008213743144337194, 0.01745420418171654, 0.022998480804144145, 0.04250612077194498, 0.004517558729385457, 0.1728164987258668, 0.11134917794999982, 0.05245640464118489, 0.028641840570953713, 0.24683473840361234, 0.043123670073121324, 0.057283681141907426, 0.28770567944306313, 0.05671394374244271, 0.829547236829759, 0.01608305867323002, 0.026240779940533192, 0.012697151584128964, 0.04063088506921268, 0.012697151584128964, 0.006771814178202114, 0.06888506676741464, 0.8301086526908701, 0.029646737596102504, 0.006103740093315222, 0.019183183150419267, 0.027030848984681694, 0.004359814352368015, 0.014823368798051252, 0.27195541360595593, 0.08615667373191441, 0.07267128132170171, 0.046449684968510374, 0.0764172236578719, 0.05693832350978691, 0.047198873435744415, 0.34162994105872146, 0.07115851422777611, 0.3095080508225837, 0.06410563494148326, 0.017128421123854074, 0.45938173565630686, 0.024559133229055473, 0.04760693518247676, 0.00661207433089955, 0.24857009914045913, 0.1678194903682331, 0.09117832733505166, 0.04176224232304056, 0.2803669355463166, 0.06980920949201982, 0.07427823173323081, 0.026249084658147265, 0.05852546625523321, 0.24183164358294476, 0.027606352007185475, 0.6261120635229666, 0.015459557124023866, 0.016563811204311284, 0.007729778562011933, 0.006625524481724513, 0.28815454891360087, 0.2647177264173418, 0.0756606916141857, 0.0607226764675802, 0.13484458680675898, 0.08089254794920918, 0.06687780156760782, 0.02812418699551083, 0.061356391509900694, 0.009296422956045559, 0.42547868585229315, 0.4448896169845163, 0.00498288270444042, 0.015246133647914717, 0.0036441977987698593, 0.03502892169837967, 0.3174940916791869, 0.03044463892814121, 0.10873085331479003, 0.013047702397774804, 0.017396936530366405, 0.49146345698285093, 0.013047702397774804, 0.008698468265183203, 0.11379646095910408, 0.05134718360349818, 0.027755234380269285, 0.020816425785201965, 0.38857328132377, 0.0194286640661885, 0.02220418750421543, 0.35665476178646033, 0.24031799328141745, 0.06797449521338565, 0.17438354894478408, 0.3663115354296377, 0.01615720294387798, 0.044717915218409766, 0.03614970153605023, 0.05402054721640012, 0.18144290230456292, 0.19502311952951865, 0.14518232229153685, 0.05684090920960845, 0.09289148586348572, 0.037380597928486345, 0.2443039078097703, 0.046900750209898596, 0.27748305312186133, 0.15028650083978612, 0.07157076712031717, 0.12178736852904505, 0.11310845429843694, 0.08929189896793095, 0.05800744069480866, 0.118436903965601, 0.07753829372727432, 0.17313345037733854, 0.03505155743835688, 0.020181199737235783, 0.04779757832503211, 0.024429873366127525, 0.613933339374857, 0.007435178850560551, 0.041989311160193235, 0.07348129453033816, 0.700988222424337, 0.012830067298947933, 0.06648307600363929, 0.06648307600363929, 0.02799287410679549, 0.008164588281148685, 0.2228056802458258, 0.021678390510404672, 0.7093651117015751, 0.010839195255202336, 0.007226130170134891, 0.015656615368625598, 0.008430485198490706, 0.004817420113423261, 0.10325640431467051, 0.11754635312607581, 0.08527872677774127, 0.6009845407377307, 0.020628232558399576, 0.04517467688766835, 0.017516711446238748, 0.009565046381827737, 0.06784325200215494, 0.07075081994510445, 0.05524379091604045, 0.7404606361378053, 0.02519892217222898, 0.02132216491496298, 0.01066108245748149, 0.008722703828848493, 0.20625737987222403, 0.08812815321813208, 0.033751207615454845, 0.022500805076969894, 0.030001073435959858, 0.6075217370781871, 0.0075002683589899645, 0.0037501341794949823, 0.5278168680670446, 0.09205579462941232, 0.06036789571822404, 0.07607194275036923, 0.03462584980361634, 0.08520057588041353, 0.0393825322008808, 0.08446608815730652, 0.060689913451916336, 0.1691450365650631, 0.012924703790685886, 0.00955304193224609, 0.7060821875216007, 0.025568435759835122, 0.012643731969149237, 0.0033716618584397964, 0.049866519412389274, 0.0343343248413172, 0.787237019575916, 0.03474306680371384, 0.04904903548759601, 0.02656822755578117, 0.010218549059915835, 0.007357355323139401, 0.256821535352635, 0.17235304955457167, 0.11074448079238208, 0.2840905762651064, 0.06432951457792783, 0.043276941113091924, 0.039324618358844425, 0.029096245401872264, 0.05492968889941691, 0.06277678731361933, 0.006277678731361933, 0.007847098414202416, 0.8333618515882966, 0.023541295242607247, 0.007847098414202416, 0.004708259048521449, 0.13338071407948465, 0.20491632971231846, 0.13240077413930884, 0.44565490834884136, 0.0217764431150179, 0.02188532533059299, 0.015570156827237799, 0.02449849850439514, 0.7062589497496483, 0.04381726639540847, 0.009046145320342393, 0.011590373691688692, 0.009799990763704261, 0.013663448660933825, 0.0600249434276886, 0.1458690932905211, 0.19499963741395848, 0.12393719575897007, 0.09523595042531384, 0.0626208989097954, 0.3140253901211799, 0.1072075928639512, 0.05433283875996954, 0.04757960456381514, 0.041778579376656674, 0.006684572700265068, 0.8940615986604528, 0.02172486127586147, 0.008355715875331335, 0.018382574925728937, 0.005013429525198801, 0.005013429525198801, 0.28945927683570116, 0.05049859675696953, 0.04010182683641698, 0.025579354566438815, 0.13086727852378052, 0.0328405907014279, 0.02574438266041584, 0.40497894261961837, 0.32789453338448005, 0.09289548865514653, 0.1401925631647097, 0.10306090927083827, 0.10141533204323282, 0.044828708668155, 0.057409411988880554, 0.13228317584492866, 0.030319915401159213, 0.7898337962001974, 0.04851186464185474, 0.09702372928370948, 0.006569315003584496, 0.01566528962393226, 0.009601306543700417, 0.0025266596167632677, 0.19332685791948426, 0.2583936016931226, 0.17889396706620764, 0.06968421342505227, 0.09635999523979208, 0.07034385194668283, 0.09453939292009172, 0.038470118581494205, 0.1665192760252732, 0.2623811831534757, 0.23537758061193417, 0.06199716716754954, 0.0630201645205276, 0.05732312753756359, 0.11700973171821441, 0.036369319686909575, 0.0834025922748134, 0.03590944945165577, 0.2015562646641324, 0.6185692260381994, 0.013900432045802234, 0.02200901740585354, 0.01853390939440298, 0.004633477348600745, 0.015899942742735342, 0.859532198857281, 0.010755843620085671, 0.05097334585171036, 0.002338226873931668, 0.02338226873931668, 0.03460575773418868, 0.0018705814991453343, 0.13217462094590035, 0.03200641045326735, 0.3939307508796817, 0.3461434019390395, 0.006742091090850298, 0.017188627836013947, 0.015706849574288608, 0.05601121829321786, 0.026102372234720745, 0.038484266756319045, 0.7623231275729981, 0.03948820414996215, 0.11612209186471921, 0.010708665532193126, 0.0050196869682155275, 0.0020078747872862113, 0.04559729520632681, 0.31088332544384306, 0.07604919907203624, 0.07830489565468138, 0.4414720454605493, 0.030290782681234772, 0.008781104553868591, 0.008539422777156611, 0.1703689858637816, 0.12594934928543589, 0.09181129224059517, 0.2224194822521505, 0.2775223225645287, 0.06739254084852087, 0.01959926098574385, 0.02490070043270735, 0.13905062270860252, 0.18578869812390686, 0.08901567060425182, 0.1753809109290742, 0.08300371899481433, 0.04570376115991724, 0.013898597806764083, 0.2680166814271809, 0.12780182126953882, 0.0583661860916004, 0.02515783883258638, 0.7285710125917015, 0.028176779492496747, 0.016101016852855282, 0.008050508426427641, 0.007044194873124187, 0.08119474744880976, 0.03140457796061675, 0.4327073811409029, 0.4198871578595119, 0.006360420852783139, 0.010534447037422075, 0.007453618186855241, 0.010534447037422075, 0.010813346574987589, 0.008948976475851796, 0.9485915064402904, 0.017525078931876437, 0.00410161421809874, 0.005593110297407373, 0.0029829921586172654, 0.001864370099135791, 0.05484261995231163, 0.09745917813181493, 0.09221943737203994, 0.6685909209472896, 0.027595968001481647, 0.03912339767298664, 0.01467127412736999, 0.005239740759774996, 0.0663811407228232, 0.10084827148275062, 0.008935922789610815, 0.014042164383674137, 0.006382801992579153, 0.01914840597773746, 0.7761487222976251, 0.007659362391094984, 0.032946289518327974, 0.026357031614662376, 0.01153120133141479, 0.02306240266282958, 0.8648400998561092, 0.01153120133141479, 0.02141508818691318, 0.004941943427749195, 0.2259513041880083, 0.18080010148423342, 0.10987053045477395, 0.1871470482310876, 0.06837126326380441, 0.11688146547668363, 0.04671352805684666, 0.06425063014507755, 0.020248268337799594, 0.8864241916770044, 0.022498075930888435, 0.0033747113896332656, 0.033747113896332656, 0.010124134168899797, 0.010124134168899797, 0.013498845558533062, 0.05654598785764151, 0.05780256536558911, 0.8305977327533565, 0.011309197571528304, 0.007539465047685536, 0.01633550760331866, 0.010052620063580714, 0.008796042555633125, 0.1703303100966047, 0.36629193532037574, 0.11979101756978716, 0.05726947833934955, 0.06670431826345985, 0.07991309415721427, 0.11016748084719466, 0.029562498428878953, 0.19379710717680265, 0.15766957352202618, 0.15230832063565125, 0.08224649314325168, 0.23175234067920694, 0.1311070024031686, 0.021566858202008217, 0.029547814203316345, 0.07938853889563442, 0.049076551317301285, 0.01443427979920626, 0.015877707779126886, 0.011547423839365007, 0.03608569949801565, 0.015877707779126886, 0.7780076811772174, 0.10488340160856095, 0.08796672392976079, 0.12405563631120112, 0.04962225452448045, 0.033833355357600306, 0.03157779833376029, 0.029322241309920265, 0.5379503501858449, 0.08777253979862781, 0.05611686970731942, 0.021583411425892082, 0.007194470475297361, 0.7698083408568177, 0.03165567009130839, 0.017266729140713668, 0.010072258665416306, 0.020916768798346915, 0.002324085422038546, 0.0029051067775481823, 0.0040671494885674555, 0.9586852365909002, 0.003486128133057819, 0.004648170844077092, 0.003486128133057819, 0.06695228655172694, 0.11750809476425544, 0.17216302256158356, 0.020495597923998042, 0.016396478339198432, 0.020495597923998042, 0.010930985559465622, 0.5738767418719452, 0.09557974280553165, 0.13919519773034503, 0.03037247851199876, 0.020440246202387793, 0.4105322687972534, 0.05671448594183655, 0.2377977938474974, 0.009644341518028043, 0.046654701733636415, 0.019792903765785148, 0.8058539390355381, 0.012724009563719023, 0.07917161506314059, 0.02120668260619837, 0.00848267304247935, 0.005655115361652899, 0.1434627504029325, 0.34517587113774545, 0.17066378505113927, 0.08975385334272101, 0.072591864873993, 0.050171328406490384, 0.11511439619135669, 0.013074662524225936, 0.13397697637886852, 0.11026423719676788, 0.017784554386575464, 0.03556910877315093, 0.018970191345680495, 0.029640923977625775, 0.25846885708489675, 0.3936314704228703, 0.33478550745600744, 0.20520433707377767, 0.04201894160823726, 0.2781774144701377, 0.028167443951945783, 0.05570651621534186, 0.027115604386329963, 0.02882313614869331, 0.20096366312916447, 0.3126199901849053, 0.15205585801187937, 0.06478696262289713, 0.08512705553938808, 0.07229078775113053, 0.07852428027891498, 0.033619499983974885, 0.15078422830803243, 0.1904642883890936, 0.13953427720812717, 0.03889517977176545, 0.059825321352984524, 0.3393299203855143, 0.06680203521339088, 0.014302263413833035, 0.05666914214949178, 0.34859089518070163, 0.1883366148588451, 0.014293403806251636, 0.052801515237211924, 0.02118786917162007, 0.3129414645109917, 0.005212888446985891, 0.05199711497655925, 0.014053274317988985, 0.016863929181586784, 0.6042907956735264, 0.011242619454391188, 0.012647946886190087, 0.005621309727195594, 0.2824708137915786, 0.24708317657702342, 0.2839986344386148, 0.14844286789147687, 0.10013346659531844, 0.042290826336770185, 0.10114421964193325, 0.04750539319089665, 0.029426696652581536, 0.3900513930948075, 0.20722172220917184, 0.09784790392375045, 0.03609277732871071, 0.04925026702974862, 0.09085543818360631, 0.0809028286134678, 0.04778184922431835, 0.18161874303479106, 0.13431339601177572, 0.055752730419982376, 0.0642001138169494, 0.027031626870294485, 0.11235019917966145, 0.022807935171810973, 0.40209544969563044], \"Term\": [\"3d\", \"3d\", \"3d\", \"3d\", \"3d\", \"3d\", \"3d\", \"3d\", \"abound\", \"abound\", \"abound\", \"abound\", \"abound\", \"abound\", \"abound\", \"abound\", \"abundant\", \"abundant\", \"abundant\", \"abundant\", \"abundant\", \"abundant\", \"abundant\", \"abundant\", \"accelerate\", \"accelerate\", \"accelerate\", \"accelerate\", \"accelerate\", \"accelerate\", \"accelerate\", \"accelerate\", \"action\", \"action\", \"action\", \"action\", \"action\", \"action\", \"action\", \"action\", \"adam\", \"adam\", \"adam\", \"adam\", \"adam\", \"adam\", \"adam\", \"adam\", \"admirable\", \"admirable\", \"admirable\", \"admirable\", \"admirable\", \"admirable\", \"admirable\", \"admirable\", \"adoption\", \"adoption\", \"adoption\", \"adoption\", \"adoption\", \"adoption\", \"adoption\", \"adoption\", \"advertise\", \"advertise\", \"advertise\", \"advertise\", \"advertise\", \"advertise\", \"advertise\", \"advertise\", \"africa\", \"africa\", \"africa\", \"africa\", \"africa\", \"africa\", \"africa\", \"africa\", \"agency\", \"agency\", \"agency\", \"agency\", \"agency\", \"agency\", \"agency\", \"agency\", \"al\", \"al\", \"al\", \"al\", \"al\", \"al\", \"al\", \"al\", \"album\", \"album\", \"album\", \"album\", \"album\", \"album\", \"album\", \"album\", \"alimentos\", \"alimentos\", \"alimentos\", \"alimentos\", \"alimentos\", \"alimentos\", \"alimentos\", \"alimentos\", \"amazon\", \"amazon\", \"amazon\", \"amazon\", \"amazon\", \"amazon\", \"amazon\", \"amazon\", \"america\", \"america\", \"america\", \"america\", \"america\", \"america\", \"america\", \"america\", \"animal\", \"animal\", \"animal\", \"animal\", \"animal\", \"animal\", \"animal\", \"animal\", \"apartment\", \"apartment\", \"apartment\", \"apartment\", \"apartment\", \"apartment\", \"apartment\", \"apartment\", \"appendix\", \"appendix\", \"appendix\", \"appendix\", \"appendix\", \"appendix\", \"appendix\", \"appendix\", \"appoint\", \"appoint\", \"appoint\", \"appoint\", \"appoint\", \"appoint\", \"appoint\", \"appoint\", \"appropriation\", \"appropriation\", \"appropriation\", \"appropriation\", \"appropriation\", \"appropriation\", \"appropriation\", \"appropriation\", \"arctic\", \"arctic\", \"arctic\", \"arctic\", \"arctic\", \"arctic\", \"arctic\", \"arctic\", \"article\", \"article\", \"article\", \"article\", \"article\", \"article\", \"article\", \"article\", \"attribute\", \"attribute\", \"attribute\", \"attribute\", \"attribute\", \"attribute\", \"attribute\", \"attribute\", \"backup\", \"backup\", \"backup\", \"backup\", \"backup\", \"backup\", \"backup\", \"backup\", \"bake\", \"bake\", \"bake\", \"bake\", \"bake\", \"bake\", \"bake\", \"bake\", \"balcony\", \"balcony\", \"balcony\", \"balcony\", \"balcony\", \"balcony\", \"balcony\", \"balcony\", \"barcelona\", \"barcelona\", \"barcelona\", \"barcelona\", \"barcelona\", \"barcelona\", \"barcelona\", \"barcelona\", \"bathe\", \"bathe\", \"bathe\", \"bathe\", \"bathe\", \"bathe\", \"bathe\", \"bathe\", \"beacon\", \"beacon\", \"beacon\", \"beacon\", \"beacon\", \"beacon\", \"beacon\", \"beacon\", \"bear\", \"bear\", \"bear\", \"bear\", \"bear\", \"bear\", \"bear\", \"bear\", \"beck\", \"beck\", \"beck\", \"beck\", \"beck\", \"beck\", \"beck\", \"beck\", \"becker\", \"becker\", \"becker\", \"becker\", \"becker\", \"becker\", \"becker\", \"becker\", \"benefit\", \"benefit\", \"benefit\", \"benefit\", \"benefit\", \"benefit\", \"benefit\", \"benefit\", \"bien\", \"bien\", \"bien\", \"bien\", \"bien\", \"bien\", \"bien\", \"bien\", \"big\", \"big\", \"big\", \"big\", \"big\", \"big\", \"big\", \"big\", \"bike\", \"bike\", \"bike\", \"bike\", \"bike\", \"bike\", \"bike\", \"bike\", \"bill\", \"bill\", \"bill\", \"bill\", \"bill\", \"bill\", \"bill\", \"bill\", \"biomass\", \"biomass\", \"biomass\", \"biomass\", \"biomass\", \"biomass\", \"biomass\", \"biomass\", \"blm\", \"blm\", \"blm\", \"blm\", \"blm\", \"blm\", \"blm\", \"blm\", \"boast\", \"boast\", \"boast\", \"boast\", \"boast\", \"boast\", \"boast\", \"boast\", \"booster\", \"booster\", \"booster\", \"booster\", \"booster\", \"booster\", \"booster\", \"booster\", \"boreal\", \"boreal\", \"boreal\", \"boreal\", \"boreal\", \"boreal\", \"boreal\", \"boreal\", \"borough\", \"borough\", \"borough\", \"borough\", \"borough\", \"borough\", \"borough\", \"borough\", \"break\", \"break\", \"break\", \"break\", \"break\", \"break\", \"break\", \"break\", \"brew\", \"brew\", \"brew\", \"brew\", \"brew\", \"brew\", \"brew\", \"brew\", \"brune\", \"brune\", \"brune\", \"brune\", \"brune\", \"brune\", \"brune\", \"brune\", \"btu\", \"btu\", \"btu\", \"btu\", \"btu\", \"btu\", \"btu\", \"btu\", \"build\", \"build\", \"build\", \"build\", \"build\", \"build\", \"build\", \"build\", \"bull\", \"bull\", \"bull\", \"bull\", \"bull\", \"bull\", \"bull\", \"bull\", \"bully\", \"bully\", \"bully\", \"bully\", \"bully\", \"bully\", \"bully\", \"bully\", \"bureaucracy\", \"bureaucracy\", \"bureaucracy\", \"bureaucracy\", \"bureaucracy\", \"bureaucracy\", \"bureaucracy\", \"bureaucracy\", \"butter\", \"butter\", \"butter\", \"butter\", \"butter\", \"butter\", \"butter\", \"butter\", \"bypass\", \"bypass\", \"bypass\", \"bypass\", \"bypass\", \"bypass\", \"bypass\", \"bypass\", \"cable\", \"cable\", \"cable\", \"cable\", \"cable\", \"cable\", \"cable\", \"cable\", \"canada\", \"canada\", \"canada\", \"canada\", \"canada\", \"canada\", \"canada\", \"canada\", \"canadian\", \"canadian\", \"canadian\", \"canadian\", \"canadian\", \"canadian\", \"canadian\", \"canadian\", \"canal\", \"canal\", \"canal\", \"canal\", \"canal\", \"canal\", \"canal\", \"canal\", \"candidate\", \"candidate\", \"candidate\", \"candidate\", \"candidate\", \"candidate\", \"candidate\", \"candidate\", \"canyon\", \"canyon\", \"canyon\", \"canyon\", \"canyon\", \"canyon\", \"canyon\", \"canyon\", \"car\", \"car\", \"car\", \"car\", \"car\", \"car\", \"car\", \"car\", \"carbon\", \"carbon\", \"carbon\", \"carbon\", \"carbon\", \"carbon\", \"carbon\", \"carbon\", \"casa\", \"casa\", \"casa\", \"casa\", \"casa\", \"casa\", \"casa\", \"casa\", \"case\", \"case\", \"case\", \"case\", \"case\", \"case\", \"case\", \"case\", \"catch\", \"catch\", \"catch\", \"catch\", \"catch\", \"catch\", \"catch\", \"catch\", \"cdm\", \"cdm\", \"cdm\", \"cdm\", \"cdm\", \"cdm\", \"cdm\", \"cdm\", \"ceo\", \"ceo\", \"ceo\", \"ceo\", \"ceo\", \"ceo\", \"ceo\", \"ceo\", \"cere\", \"cere\", \"cere\", \"cere\", \"cere\", \"cere\", \"cere\", \"cere\", \"changer\", \"changer\", \"changer\", \"changer\", \"changer\", \"changer\", \"changer\", \"changer\", \"cheap\", \"cheap\", \"cheap\", \"cheap\", \"cheap\", \"cheap\", \"cheap\", \"cheap\", \"cheaply\", \"cheaply\", \"cheaply\", \"cheaply\", \"cheaply\", \"cheaply\", \"cheaply\", \"cheaply\", \"chick\", \"chick\", \"chick\", \"chick\", \"chick\", \"chick\", \"chick\", \"chick\", \"china\", \"china\", \"china\", \"china\", \"china\", \"china\", \"china\", \"china\", \"chop\", \"chop\", \"chop\", \"chop\", \"chop\", \"chop\", \"chop\", \"chop\", \"cigarette\", \"cigarette\", \"cigarette\", \"cigarette\", \"cigarette\", \"cigarette\", \"cigarette\", \"cigarette\", \"circulate\", \"circulate\", \"circulate\", \"circulate\", \"circulate\", \"circulate\", \"circulate\", \"circulate\", \"city\", \"city\", \"city\", \"city\", \"city\", \"city\", \"city\", \"city\", \"clarify\", \"clarify\", \"clarify\", \"clarify\", \"clarify\", \"clarify\", \"clarify\", \"clarify\", \"clayton\", \"clayton\", \"clayton\", \"clayton\", \"clayton\", \"clayton\", \"clayton\", \"clayton\", \"clean_air_act\", \"clean_air_act\", \"clean_air_act\", \"clean_air_act\", \"clean_air_act\", \"clean_air_act\", \"clean_air_act\", \"clean_air_act\", \"climate\", \"climate\", \"climate\", \"climate\", \"climate\", \"climate\", \"climate\", \"climate\", \"climate_change\", \"climate_change\", \"climate_change\", \"climate_change\", \"climate_change\", \"climate_change\", \"climate_change\", \"climate_change\", \"climateprogress\", \"climateprogress\", \"climateprogress\", \"climateprogress\", \"climateprogress\", \"climateprogress\", \"climateprogress\", \"climateprogress\", \"clinton\", \"clinton\", \"clinton\", \"clinton\", \"clinton\", \"clinton\", \"clinton\", \"clinton\", \"clip\", \"clip\", \"clip\", \"clip\", \"clip\", \"clip\", \"clip\", \"clip\", \"coal\", \"coal\", \"coal\", \"coal\", \"coal\", \"coal\", \"coal\", \"coal\", \"colin\", \"colin\", \"colin\", \"colin\", \"colin\", \"colin\", \"colin\", \"colin\", \"colo\", \"colo\", \"colo\", \"colo\", \"colo\", \"colo\", \"colo\", \"colo\", \"commercial\", \"commercial\", \"commercial\", \"commercial\", \"commercial\", \"commercial\", \"commercial\", \"commercial\", \"committee\", \"committee\", \"committee\", \"committee\", \"committee\", \"committee\", \"committee\", \"committee\", \"compassion\", \"compassion\", \"compassion\", \"compassion\", \"compassion\", \"compassion\", \"compassion\", \"compassion\", \"concentration\", \"concentration\", \"concentration\", \"concentration\", \"concentration\", \"concentration\", \"concentration\", \"concentration\", \"condom\", \"condom\", \"condom\", \"condom\", \"condom\", \"condom\", \"condom\", \"condom\", \"conglomerate\", \"conglomerate\", \"conglomerate\", \"conglomerate\", \"conglomerate\", \"conglomerate\", \"conglomerate\", \"conglomerate\", \"contractor\", \"contractor\", \"contractor\", \"contractor\", \"contractor\", \"contractor\", \"contractor\", \"contractor\", \"conundrum\", \"conundrum\", \"conundrum\", \"conundrum\", \"conundrum\", \"conundrum\", \"conundrum\", \"conundrum\", \"conversion\", \"conversion\", \"conversion\", \"conversion\", \"conversion\", \"conversion\", \"conversion\", \"conversion\", \"corn\", \"corn\", \"corn\", \"corn\", \"corn\", \"corn\", \"corn\", \"corn\", \"corrosion\", \"corrosion\", \"corrosion\", \"corrosion\", \"corrosion\", \"corrosion\", \"corrosion\", \"corrosion\", \"cost\", \"cost\", \"cost\", \"cost\", \"cost\", \"cost\", \"cost\", \"cost\", \"country\", \"country\", \"country\", \"country\", \"country\", \"country\", \"country\", \"country\", \"courageous\", \"courageous\", \"courageous\", \"courageous\", \"courageous\", \"courageous\", \"courageous\", \"courageous\", \"court\", \"court\", \"court\", \"court\", \"court\", \"court\", \"court\", \"court\", \"create\", \"create\", \"create\", \"create\", \"create\", \"create\", \"create\", \"create\", \"creature\", \"creature\", \"creature\", \"creature\", \"creature\", \"creature\", \"creature\", \"creature\", \"csp\", \"csp\", \"csp\", \"csp\", \"csp\", \"csp\", \"csp\", \"csp\", \"ctl\", \"ctl\", \"ctl\", \"ctl\", \"ctl\", \"ctl\", \"ctl\", \"ctl\", \"curtis\", \"curtis\", \"curtis\", \"curtis\", \"curtis\", \"curtis\", \"curtis\", \"curtis\", \"daniel\", \"daniel\", \"daniel\", \"daniel\", \"daniel\", \"daniel\", \"daniel\", \"daniel\", \"de\", \"de\", \"de\", \"de\", \"de\", \"de\", \"de\", \"de\", \"dearest\", \"dearest\", \"dearest\", \"dearest\", \"dearest\", \"dearest\", \"dearest\", \"dearest\", \"debate\", \"debate\", \"debate\", \"debate\", \"debate\", \"debate\", \"debate\", \"debate\", \"deception\", \"deception\", \"deception\", \"deception\", \"deception\", \"deception\", \"deception\", \"deception\", \"decimate\", \"decimate\", \"decimate\", \"decimate\", \"decimate\", \"decimate\", \"decimate\", \"decimate\", \"decisively\", \"decisively\", \"decisively\", \"decisively\", \"decisively\", \"decisively\", \"decisively\", \"decisively\", \"decline\", \"decline\", \"decline\", \"decline\", \"decline\", \"decline\", \"decline\", \"decline\", \"decrease\", \"decrease\", \"decrease\", \"decrease\", \"decrease\", \"decrease\", \"decrease\", \"decrease\", \"demand\", \"demand\", \"demand\", \"demand\", \"demand\", \"demand\", \"demand\", \"demand\", \"deny\", \"deny\", \"deny\", \"deny\", \"deny\", \"deny\", \"deny\", \"deny\", \"depart\", \"depart\", \"depart\", \"depart\", \"depart\", \"depart\", \"depart\", \"depart\", \"destiny\", \"destiny\", \"destiny\", \"destiny\", \"destiny\", \"destiny\", \"destiny\", \"destiny\", \"detection\", \"detection\", \"detection\", \"detection\", \"detection\", \"detection\", \"detection\", \"detection\", \"diesel\", \"diesel\", \"diesel\", \"diesel\", \"diesel\", \"diesel\", \"diesel\", \"diesel\", \"disproportionately\", \"disproportionately\", \"disproportionately\", \"disproportionately\", \"disproportionately\", \"disproportionately\", \"disproportionately\", \"disproportionately\", \"disseminate\", \"disseminate\", \"disseminate\", \"disseminate\", \"disseminate\", \"disseminate\", \"disseminate\", \"disseminate\", \"ditch\", \"ditch\", \"ditch\", \"ditch\", \"ditch\", \"ditch\", \"ditch\", \"ditch\", \"divisive\", \"divisive\", \"divisive\", \"divisive\", \"divisive\", \"divisive\", \"divisive\", \"divisive\", \"dome\", \"dome\", \"dome\", \"dome\", \"dome\", \"dome\", \"dome\", \"dome\", \"doyle\", \"doyle\", \"doyle\", \"doyle\", \"doyle\", \"doyle\", \"doyle\", \"doyle\", \"dramatically\", \"dramatically\", \"dramatically\", \"dramatically\", \"dramatically\", \"dramatically\", \"dramatically\", \"dramatically\", \"eager\", \"eager\", \"eager\", \"eager\", \"eager\", \"eager\", \"eager\", \"eager\", \"economist\", \"economist\", \"economist\", \"economist\", \"economist\", \"economist\", \"economist\", \"economist\", \"economy\", \"economy\", \"economy\", \"economy\", \"economy\", \"economy\", \"economy\", \"economy\", \"editorial\", \"editorial\", \"editorial\", \"editorial\", \"editorial\", \"editorial\", \"editorial\", \"editorial\", \"electrical\", \"electrical\", \"electrical\", \"electrical\", \"electrical\", \"electrical\", \"electrical\", \"electrical\", \"electricity\", \"electricity\", \"electricity\", \"electricity\", \"electricity\", \"electricity\", \"electricity\", \"electricity\", \"emission\", \"emission\", \"emission\", \"emission\", \"emission\", \"emission\", \"emission\", \"emission\", \"employee\", \"employee\", \"employee\", \"employee\", \"employee\", \"employee\", \"employee\", \"employee\", \"en\", \"en\", \"en\", \"en\", \"en\", \"en\", \"en\", \"en\", \"encouragement\", \"encouragement\", \"encouragement\", \"encouragement\", \"encouragement\", \"encouragement\", \"encouragement\", \"encouragement\", \"encroach\", \"encroach\", \"encroach\", \"encroach\", \"encroach\", \"encroach\", \"encroach\", \"encroach\", \"endangered\", \"endangered\", \"endangered\", \"endangered\", \"endangered\", \"endangered\", \"endangered\", \"endangered\", \"energy\", \"energy\", \"energy\", \"energy\", \"energy\", \"energy\", \"energy\", \"energy\", \"energ\\u00e9a\", \"energ\\u00e9a\", \"energ\\u00e9a\", \"energ\\u00e9a\", \"energ\\u00e9a\", \"energ\\u00e9a\", \"energ\\u00e9a\", \"energ\\u00e9a\", \"engine\", \"engine\", \"engine\", \"engine\", \"engine\", \"engine\", \"engine\", \"engine\", \"environmental\", \"environmental\", \"environmental\", \"environmental\", \"environmental\", \"environmental\", \"environmental\", \"environmental\", \"envoy\", \"envoy\", \"envoy\", \"envoy\", \"envoy\", \"envoy\", \"envoy\", \"envoy\", \"epa\", \"epa\", \"epa\", \"epa\", \"epa\", \"epa\", \"epa\", \"epa\", \"equipment\", \"equipment\", \"equipment\", \"equipment\", \"equipment\", \"equipment\", \"equipment\", \"equipment\", \"ethanol\", \"ethanol\", \"ethanol\", \"ethanol\", \"ethanol\", \"ethanol\", \"ethanol\", \"ethanol\", \"eu\", \"eu\", \"eu\", \"eu\", \"eu\", \"eu\", \"eu\", \"eu\", \"europe\", \"europe\", \"europe\", \"europe\", \"europe\", \"europe\", \"europe\", \"europe\", \"evolutionary\", \"evolutionary\", \"evolutionary\", \"evolutionary\", \"evolutionary\", \"evolutionary\", \"evolutionary\", \"evolutionary\", \"farm\", \"farm\", \"farm\", \"farm\", \"farm\", \"farm\", \"farm\", \"farm\", \"farmer\", \"farmer\", \"farmer\", \"farmer\", \"farmer\", \"farmer\", \"farmer\", \"farmer\", \"fat\", \"fat\", \"fat\", \"fat\", \"fat\", \"fat\", \"fat\", \"fat\", \"film\", \"film\", \"film\", \"film\", \"film\", \"film\", \"film\", \"film\", \"filmmaker\", \"filmmaker\", \"filmmaker\", \"filmmaker\", \"filmmaker\", \"filmmaker\", \"filmmaker\", \"filmmaker\", \"fin\", \"fin\", \"fin\", \"fin\", \"fin\", \"fin\", \"fin\", \"fin\", \"firm\", \"firm\", \"firm\", \"firm\", \"firm\", \"firm\", \"firm\", \"firm\", \"flop\", \"flop\", \"flop\", \"flop\", \"flop\", \"flop\", \"flop\", \"flop\", \"food\", \"food\", \"food\", \"food\", \"food\", \"food\", \"food\", \"food\", \"forest\", \"forest\", \"forest\", \"forest\", \"forest\", \"forest\", \"forest\", \"forest\", \"forge\", \"forge\", \"forge\", \"forge\", \"forge\", \"forge\", \"forge\", \"forge\", \"framework\", \"framework\", \"framework\", \"framework\", \"framework\", \"framework\", \"framework\", \"framework\", \"freeway\", \"freeway\", \"freeway\", \"freeway\", \"freeway\", \"freeway\", \"freeway\", \"freeway\", \"freshly\", \"freshly\", \"freshly\", \"freshly\", \"freshly\", \"freshly\", \"freshly\", \"freshly\", \"friendship\", \"friendship\", \"friendship\", \"friendship\", \"friendship\", \"friendship\", \"friendship\", \"friendship\", \"fuel\", \"fuel\", \"fuel\", \"fuel\", \"fuel\", \"fuel\", \"fuel\", \"fuel\", \"fungi\", \"fungi\", \"fungi\", \"fungi\", \"fungi\", \"fungi\", \"fungi\", \"fungi\", \"futile\", \"futile\", \"futile\", \"futile\", \"futile\", \"futile\", \"futile\", \"futile\", \"gas\", \"gas\", \"gas\", \"gas\", \"gas\", \"gas\", \"gas\", \"gas\", \"gasoline\", \"gasoline\", \"gasoline\", \"gasoline\", \"gasoline\", \"gasoline\", \"gasoline\", \"gasoline\", \"gear\", \"gear\", \"gear\", \"gear\", \"gear\", \"gear\", \"gear\", \"gear\", \"genesis\", \"genesis\", \"genesis\", \"genesis\", \"genesis\", \"genesis\", \"genesis\", \"genesis\", \"get\", \"get\", \"get\", \"get\", \"get\", \"get\", \"get\", \"get\", \"giant\", \"giant\", \"giant\", \"giant\", \"giant\", \"giant\", \"giant\", \"giant\", \"glance\", \"glance\", \"glance\", \"glance\", \"glance\", \"glance\", \"glance\", \"glance\", \"global\", \"global\", \"global\", \"global\", \"global\", \"global\", \"global\", \"global\", \"global_warming\", \"global_warming\", \"global_warming\", \"global_warming\", \"global_warming\", \"global_warming\", \"global_warming\", \"global_warming\", \"glow\", \"glow\", \"glow\", \"glow\", \"glow\", \"glow\", \"glow\", \"glow\", \"go\", \"go\", \"go\", \"go\", \"go\", \"go\", \"go\", \"go\", \"goat\", \"goat\", \"goat\", \"goat\", \"goat\", \"goat\", \"goat\", \"goat\", \"good\", \"good\", \"good\", \"good\", \"good\", \"good\", \"good\", \"good\", \"gore\", \"gore\", \"gore\", \"gore\", \"gore\", \"gore\", \"gore\", \"gore\", \"government\", \"government\", \"government\", \"government\", \"government\", \"government\", \"government\", \"government\", \"grand\", \"grand\", \"grand\", \"grand\", \"grand\", \"grand\", \"grand\", \"grand\", \"grant\", \"grant\", \"grant\", \"grant\", \"grant\", \"grant\", \"grant\", \"grant\", \"green\", \"green\", \"green\", \"green\", \"green\", \"green\", \"green\", \"green\", \"greenhouse_gas\", \"greenhouse_gas\", \"greenhouse_gas\", \"greenhouse_gas\", \"greenhouse_gas\", \"greenhouse_gas\", \"greenhouse_gas\", \"greenhouse_gas\", \"grill\", \"grill\", \"grill\", \"grill\", \"grill\", \"grill\", \"grill\", \"grill\", \"grim\", \"grim\", \"grim\", \"grim\", \"grim\", \"grim\", \"grim\", \"grim\", \"grist\", \"grist\", \"grist\", \"grist\", \"grist\", \"grist\", \"grist\", \"grist\", \"grove\", \"grove\", \"grove\", \"grove\", \"grove\", \"grove\", \"grove\", \"grove\", \"grow\", \"grow\", \"grow\", \"grow\", \"grow\", \"grow\", \"grow\", \"grow\", \"growing\", \"growing\", \"growing\", \"growing\", \"growing\", \"growing\", \"growing\", \"growing\", \"hack\", \"hack\", \"hack\", \"hack\", \"hack\", \"hack\", \"hack\", \"hack\", \"hear\", \"hear\", \"hear\", \"hear\", \"hear\", \"hear\", \"hear\", \"hear\", \"heat\", \"heat\", \"heat\", \"heat\", \"heat\", \"heat\", \"heat\", \"heat\", \"heater\", \"heater\", \"heater\", \"heater\", \"heater\", \"heater\", \"heater\", \"heater\", \"help\", \"help\", \"help\", \"help\", \"help\", \"help\", \"help\", \"help\", \"high\", \"high\", \"high\", \"high\", \"high\", \"high\", \"high\", \"high\", \"history\", \"history\", \"history\", \"history\", \"history\", \"history\", \"history\", \"history\", \"home\", \"home\", \"home\", \"home\", \"home\", \"home\", \"home\", \"home\", \"honest\", \"honest\", \"honest\", \"honest\", \"honest\", \"honest\", \"honest\", \"honest\", \"honey\", \"honey\", \"honey\", \"honey\", \"honey\", \"honey\", \"honey\", \"honey\", \"hose\", \"hose\", \"hose\", \"hose\", \"hose\", \"hose\", \"hose\", \"hose\", \"hot\", \"hot\", \"hot\", \"hot\", \"hot\", \"hot\", \"hot\", \"hot\", \"hummer\", \"hummer\", \"hummer\", \"hummer\", \"hummer\", \"hummer\", \"hummer\", \"hummer\", \"hybrid\", \"hybrid\", \"hybrid\", \"hybrid\", \"hybrid\", \"hybrid\", \"hybrid\", \"hybrid\", \"iceland\", \"iceland\", \"iceland\", \"iceland\", \"iceland\", \"iceland\", \"iceland\", \"iceland\", \"immediate\", \"immediate\", \"immediate\", \"immediate\", \"immediate\", \"immediate\", \"immediate\", \"immediate\", \"improve\", \"improve\", \"improve\", \"improve\", \"improve\", \"improve\", \"improve\", \"improve\", \"in\", \"in\", \"in\", \"in\", \"in\", \"in\", \"in\", \"in\", \"include\", \"include\", \"include\", \"include\", \"include\", \"include\", \"include\", \"include\", \"inclusive\", \"inclusive\", \"inclusive\", \"inclusive\", \"inclusive\", \"inclusive\", \"inclusive\", \"inclusive\", \"increase\", \"increase\", \"increase\", \"increase\", \"increase\", \"increase\", \"increase\", \"increase\", \"indicative\", \"indicative\", \"indicative\", \"indicative\", \"indicative\", \"indicative\", \"indicative\", \"indicative\", \"inhofe\", \"inhofe\", \"inhofe\", \"inhofe\", \"inhofe\", \"inhofe\", \"inhofe\", \"inhofe\", \"innovation\", \"innovation\", \"innovation\", \"innovation\", \"innovation\", \"innovation\", \"innovation\", \"innovation\", \"inquire\", \"inquire\", \"inquire\", \"inquire\", \"inquire\", \"inquire\", \"inquire\", \"inquire\", \"insert\", \"insert\", \"insert\", \"insert\", \"insert\", \"insert\", \"insert\", \"insert\", \"insidious\", \"insidious\", \"insidious\", \"insidious\", \"insidious\", \"insidious\", \"insidious\", \"insidious\", \"instal\", \"instal\", \"instal\", \"instal\", \"instal\", \"instal\", \"instal\", \"instal\", \"institutional\", \"institutional\", \"institutional\", \"institutional\", \"institutional\", \"institutional\", \"institutional\", \"institutional\", \"insulate\", \"insulate\", \"insulate\", \"insulate\", \"insulate\", \"insulate\", \"insulate\", \"insulate\", \"insurance\", \"insurance\", \"insurance\", \"insurance\", \"insurance\", \"insurance\", \"insurance\", \"insurance\", \"insure\", \"insure\", \"insure\", \"insure\", \"insure\", \"insure\", \"insure\", \"insure\", \"interstate\", \"interstate\", \"interstate\", \"interstate\", \"interstate\", \"interstate\", \"interstate\", \"interstate\", \"invasive\", \"invasive\", \"invasive\", \"invasive\", \"invasive\", \"invasive\", \"invasive\", \"invasive\", \"inventor\", \"inventor\", \"inventor\", \"inventor\", \"inventor\", \"inventor\", \"inventor\", \"inventor\", \"investment\", \"investment\", \"investment\", \"investment\", \"investment\", \"investment\", \"investment\", \"investment\", \"investor\", \"investor\", \"investor\", \"investor\", \"investor\", \"investor\", \"investor\", \"investor\", \"ipcc\", \"ipcc\", \"ipcc\", \"ipcc\", \"ipcc\", \"ipcc\", \"ipcc\", \"ipcc\", \"iraqi\", \"iraqi\", \"iraqi\", \"iraqi\", \"iraqi\", \"iraqi\", \"iraqi\", \"iraqi\", \"jane\", \"jane\", \"jane\", \"jane\", \"jane\", \"jane\", \"jane\", \"jane\", \"job\", \"job\", \"job\", \"job\", \"job\", \"job\", \"job\", \"job\", \"johnson\", \"johnson\", \"johnson\", \"johnson\", \"johnson\", \"johnson\", \"johnson\", \"johnson\", \"justice\", \"justice\", \"justice\", \"justice\", \"justice\", \"justice\", \"justice\", \"justice\", \"kg\", \"kg\", \"kg\", \"kg\", \"kg\", \"kg\", \"kg\", \"kg\", \"kinda\", \"kinda\", \"kinda\", \"kinda\", \"kinda\", \"kinda\", \"kinda\", \"kinda\", \"klein\", \"klein\", \"klein\", \"klein\", \"klein\", \"klein\", \"klein\", \"klein\", \"know\", \"know\", \"know\", \"know\", \"know\", \"know\", \"know\", \"know\", \"la\", \"la\", \"la\", \"la\", \"la\", \"la\", \"la\", \"la\", \"landfall\", \"landfall\", \"landfall\", \"landfall\", \"landfall\", \"landfall\", \"landfall\", \"landfall\", \"lane\", \"lane\", \"lane\", \"lane\", \"lane\", \"lane\", \"lane\", \"lane\", \"large\", \"large\", \"large\", \"large\", \"large\", \"large\", \"large\", \"large\", \"lastly\", \"lastly\", \"lastly\", \"lastly\", \"lastly\", \"lastly\", \"lastly\", \"lastly\", \"lawsuit\", \"lawsuit\", \"lawsuit\", \"lawsuit\", \"lawsuit\", \"lawsuit\", \"lawsuit\", \"lawsuit\", \"leader\", \"leader\", \"leader\", \"leader\", \"leader\", \"leader\", \"leader\", \"leader\", \"legendary\", \"legendary\", \"legendary\", \"legendary\", \"legendary\", \"legendary\", \"legendary\", \"legendary\", \"level\", \"level\", \"level\", \"level\", \"level\", \"level\", \"level\", \"level\", \"light\", \"light\", \"light\", \"light\", \"light\", \"light\", \"light\", \"light\", \"limitation\", \"limitation\", \"limitation\", \"limitation\", \"limitation\", \"limitation\", \"limitation\", \"limitation\", \"lip\", \"lip\", \"lip\", \"lip\", \"lip\", \"lip\", \"lip\", \"lip\", \"list\", \"list\", \"list\", \"list\", \"list\", \"list\", \"list\", \"list\", \"ll\", \"ll\", \"ll\", \"ll\", \"ll\", \"ll\", \"ll\", \"ll\", \"look\", \"look\", \"look\", \"look\", \"look\", \"look\", \"look\", \"look\", \"los\", \"los\", \"los\", \"los\", \"los\", \"los\", \"los\", \"los\", \"loyal\", \"loyal\", \"loyal\", \"loyal\", \"loyal\", \"loyal\", \"loyal\", \"loyal\", \"luther\", \"luther\", \"luther\", \"luther\", \"luther\", \"luther\", \"luther\", \"luther\", \"lynch\", \"lynch\", \"lynch\", \"lynch\", \"lynch\", \"lynch\", \"lynch\", \"lynch\", \"machine\", \"machine\", \"machine\", \"machine\", \"machine\", \"machine\", \"machine\", \"machine\", \"machinery\", \"machinery\", \"machinery\", \"machinery\", \"machinery\", \"machinery\", \"machinery\", \"machinery\", \"maintenance\", \"maintenance\", \"maintenance\", \"maintenance\", \"maintenance\", \"maintenance\", \"maintenance\", \"maintenance\", \"majority\", \"majority\", \"majority\", \"majority\", \"majority\", \"majority\", \"majority\", \"majority\", \"make\", \"make\", \"make\", \"make\", \"make\", \"make\", \"make\", \"make\", \"making\", \"making\", \"making\", \"making\", \"making\", \"making\", \"making\", \"making\", \"manifest\", \"manifest\", \"manifest\", \"manifest\", \"manifest\", \"manifest\", \"manifest\", \"manifest\", \"marine\", \"marine\", \"marine\", \"marine\", \"marine\", \"marine\", \"marine\", \"marine\", \"market\", \"market\", \"market\", \"market\", \"market\", \"market\", \"market\", \"market\", \"massachusetts\", \"massachusetts\", \"massachusetts\", \"massachusetts\", \"massachusetts\", \"massachusetts\", \"massachusetts\", \"massachusetts\", \"maximize\", \"maximize\", \"maximize\", \"maximize\", \"maximize\", \"maximize\", \"maximize\", \"maximize\", \"mayor\", \"mayor\", \"mayor\", \"mayor\", \"mayor\", \"mayor\", \"mayor\", \"mayor\", \"mean\", \"mean\", \"mean\", \"mean\", \"mean\", \"mean\", \"mean\", \"mean\", \"measurable\", \"measurable\", \"measurable\", \"measurable\", \"measurable\", \"measurable\", \"measurable\", \"measurable\", \"medicinal\", \"medicinal\", \"medicinal\", \"medicinal\", \"medicinal\", \"medicinal\", \"medicinal\", \"medicinal\", \"memorial\", \"memorial\", \"memorial\", \"memorial\", \"memorial\", \"memorial\", \"memorial\", \"memorial\", \"mention\", \"mention\", \"mention\", \"mention\", \"mention\", \"mention\", \"mention\", \"mention\", \"methanol\", \"methanol\", \"methanol\", \"methanol\", \"methanol\", \"methanol\", \"methanol\", \"methanol\", \"metropolis\", \"metropolis\", \"metropolis\", \"metropolis\", \"metropolis\", \"metropolis\", \"metropolis\", \"metropolis\", \"mile\", \"mile\", \"mile\", \"mile\", \"mile\", \"mile\", \"mile\", \"mile\", \"miserable\", \"miserable\", \"miserable\", \"miserable\", \"miserable\", \"miserable\", \"miserable\", \"miserable\", \"mite\", \"mite\", \"mite\", \"mite\", \"mite\", \"mite\", \"mite\", \"mite\", \"mobilize\", \"mobilize\", \"mobilize\", \"mobilize\", \"mobilize\", \"mobilize\", \"mobilize\", \"mobilize\", \"modification\", \"modification\", \"modification\", \"modification\", \"modification\", \"modification\", \"modification\", \"modification\", \"modify\", \"modify\", \"modify\", \"modify\", \"modify\", \"modify\", \"modify\", \"modify\", \"monopoly\", \"monopoly\", \"monopoly\", \"monopoly\", \"monopoly\", \"monopoly\", \"monopoly\", \"monopoly\", \"monoxide\", \"monoxide\", \"monoxide\", \"monoxide\", \"monoxide\", \"monoxide\", \"monoxide\", \"monoxide\", \"monsanto\", \"monsanto\", \"monsanto\", \"monsanto\", \"monsanto\", \"monsanto\", \"monsanto\", \"monsanto\", \"monterey\", \"monterey\", \"monterey\", \"monterey\", \"monterey\", \"monterey\", \"monterey\", \"monterey\", \"motorcycle\", \"motorcycle\", \"motorcycle\", \"motorcycle\", \"motorcycle\", \"motorcycle\", \"motorcycle\", \"motorcycle\", \"mutually\", \"mutually\", \"mutually\", \"mutually\", \"mutually\", \"mutually\", \"mutually\", \"mutually\", \"nation\", \"nation\", \"nation\", \"nation\", \"nation\", \"nation\", \"nation\", \"nation\", \"need\", \"need\", \"need\", \"need\", \"need\", \"need\", \"need\", \"need\", \"niche\", \"niche\", \"niche\", \"niche\", \"niche\", \"niche\", \"niche\", \"niche\", \"nicolas\", \"nicolas\", \"nicolas\", \"nicolas\", \"nicolas\", \"nicolas\", \"nicolas\", \"nicolas\", \"nobel\", \"nobel\", \"nobel\", \"nobel\", \"nobel\", \"nobel\", \"nobel\", \"nobel\", \"nonexistent\", \"nonexistent\", \"nonexistent\", \"nonexistent\", \"nonexistent\", \"nonexistent\", \"nonexistent\", \"nonexistent\", \"nuclear\", \"nuclear\", \"nuclear\", \"nuclear\", \"nuclear\", \"nuclear\", \"nuclear\", \"nuclear\", \"observed\", \"observed\", \"observed\", \"observed\", \"observed\", \"observed\", \"observed\", \"observed\", \"obsolete\", \"obsolete\", \"obsolete\", \"obsolete\", \"obsolete\", \"obsolete\", \"obsolete\", \"obsolete\", \"offset\", \"offset\", \"offset\", \"offset\", \"offset\", \"offset\", \"offset\", \"offset\", \"oil\", \"oil\", \"oil\", \"oil\", \"oil\", \"oil\", \"oil\", \"oil\", \"orange\", \"orange\", \"orange\", \"orange\", \"orange\", \"orange\", \"orange\", \"orange\", \"otter\", \"otter\", \"otter\", \"otter\", \"otter\", \"otter\", \"otter\", \"otter\", \"pac\", \"pac\", \"pac\", \"pac\", \"pac\", \"pac\", \"pac\", \"pac\", \"package\", \"package\", \"package\", \"package\", \"package\", \"package\", \"package\", \"package\", \"park\", \"park\", \"park\", \"park\", \"park\", \"park\", \"park\", \"park\", \"passage\", \"passage\", \"passage\", \"passage\", \"passage\", \"passage\", \"passage\", \"passage\", \"patent\", \"patent\", \"patent\", \"patent\", \"patent\", \"patent\", \"patent\", \"patent\", \"patriot\", \"patriot\", \"patriot\", \"patriot\", \"patriot\", \"patriot\", \"patriot\", \"patriot\", \"pave\", \"pave\", \"pave\", \"pave\", \"pave\", \"pave\", \"pave\", \"pave\", \"pavement\", \"pavement\", \"pavement\", \"pavement\", \"pavement\", \"pavement\", \"pavement\", \"pavement\", \"pay\", \"pay\", \"pay\", \"pay\", \"pay\", \"pay\", \"pay\", \"pay\", \"peace\", \"peace\", \"peace\", \"peace\", \"peace\", \"peace\", \"peace\", \"peace\", \"pedestrian\", \"pedestrian\", \"pedestrian\", \"pedestrian\", \"pedestrian\", \"pedestrian\", \"pedestrian\", \"pedestrian\", \"pellet\", \"pellet\", \"pellet\", \"pellet\", \"pellet\", \"pellet\", \"pellet\", \"pellet\", \"pension\", \"pension\", \"pension\", \"pension\", \"pension\", \"pension\", \"pension\", \"pension\", \"percent\", \"percent\", \"percent\", \"percent\", \"percent\", \"percent\", \"percent\", \"percent\", \"perch\", \"perch\", \"perch\", \"perch\", \"perch\", \"perch\", \"perch\", \"perch\", \"pete\", \"pete\", \"pete\", \"pete\", \"pete\", \"pete\", \"pete\", \"pete\", \"photographer\", \"photographer\", \"photographer\", \"photographer\", \"photographer\", \"photographer\", \"photographer\", \"photographer\", \"pielke\", \"pielke\", \"pielke\", \"pielke\", \"pielke\", \"pielke\", \"pielke\", \"pielke\", \"plant\", \"plant\", \"plant\", \"plant\", \"plant\", \"plant\", \"plant\", \"plant\", \"planting\", \"planting\", \"planting\", \"planting\", \"planting\", \"planting\", \"planting\", \"planting\", \"podcast\", \"podcast\", \"podcast\", \"podcast\", \"podcast\", \"podcast\", \"podcast\", \"podcast\", \"policy\", \"policy\", \"policy\", \"policy\", \"policy\", \"policy\", \"policy\", \"policy\", \"pony\", \"pony\", \"pony\", \"pony\", \"pony\", \"pony\", \"pony\", \"pony\", \"pork\", \"pork\", \"pork\", \"pork\", \"pork\", \"pork\", \"pork\", \"pork\", \"post\", \"post\", \"post\", \"post\", \"post\", \"post\", \"post\", \"post\", \"pour\", \"pour\", \"pour\", \"pour\", \"pour\", \"pour\", \"pour\", \"pour\", \"power\", \"power\", \"power\", \"power\", \"power\", \"power\", \"power\", \"power\", \"president\", \"president\", \"president\", \"president\", \"president\", \"president\", \"president\", \"president\", \"presidential\", \"presidential\", \"presidential\", \"presidential\", \"presidential\", \"presidential\", \"presidential\", \"presidential\", \"price\", \"price\", \"price\", \"price\", \"price\", \"price\", \"price\", \"price\", \"prize\", \"prize\", \"prize\", \"prize\", \"prize\", \"prize\", \"prize\", \"prize\", \"probability\", \"probability\", \"probability\", \"probability\", \"probability\", \"probability\", \"probability\", \"probability\", \"produce\", \"produce\", \"produce\", \"produce\", \"produce\", \"produce\", \"produce\", \"produce\", \"production\", \"production\", \"production\", \"production\", \"production\", \"production\", \"production\", \"production\", \"programming\", \"programming\", \"programming\", \"programming\", \"programming\", \"programming\", \"programming\", \"programming\", \"project\", \"project\", \"project\", \"project\", \"project\", \"project\", \"project\", \"project\", \"prosecute\", \"prosecute\", \"prosecute\", \"prosecute\", \"prosecute\", \"prosecute\", \"prosecute\", \"prosecute\", \"prosecutor\", \"prosecutor\", \"prosecutor\", \"prosecutor\", \"prosecutor\", \"prosecutor\", \"prosecutor\", \"prosecutor\", \"provider\", \"provider\", \"provider\", \"provider\", \"provider\", \"provider\", \"provider\", \"provider\", \"public\", \"public\", \"public\", \"public\", \"public\", \"public\", \"public\", \"public\", \"puget\", \"puget\", \"puget\", \"puget\", \"puget\", \"puget\", \"puget\", \"puget\", \"pv\", \"pv\", \"pv\", \"pv\", \"pv\", \"pv\", \"pv\", \"pv\", \"quake\", \"quake\", \"quake\", \"quake\", \"quake\", \"quake\", \"quake\", \"quake\", \"queensland\", \"queensland\", \"queensland\", \"queensland\", \"queensland\", \"queensland\", \"queensland\", \"queensland\", \"question\", \"question\", \"question\", \"question\", \"question\", \"question\", \"question\", \"question\", \"rail\", \"rail\", \"rail\", \"rail\", \"rail\", \"rail\", \"rail\", \"rail\", \"rebuild\", \"rebuild\", \"rebuild\", \"rebuild\", \"rebuild\", \"rebuild\", \"rebuild\", \"rebuild\", \"reconstruct\", \"reconstruct\", \"reconstruct\", \"reconstruct\", \"reconstruct\", \"reconstruct\", \"reconstruct\", \"reconstruct\", \"reflective\", \"reflective\", \"reflective\", \"reflective\", \"reflective\", \"reflective\", \"reflective\", \"reflective\", \"refreshing\", \"refreshing\", \"refreshing\", \"refreshing\", \"refreshing\", \"refreshing\", \"refreshing\", \"refreshing\", \"refuse\", \"refuse\", \"refuse\", \"refuse\", \"refuse\", \"refuse\", \"refuse\", \"refuse\", \"regressive\", \"regressive\", \"regressive\", \"regressive\", \"regressive\", \"regressive\", \"regressive\", \"regressive\", \"relative\", \"relative\", \"relative\", \"relative\", \"relative\", \"relative\", \"relative\", \"relative\", \"report\", \"report\", \"report\", \"report\", \"report\", \"report\", \"report\", \"report\", \"reproduction\", \"reproduction\", \"reproduction\", \"reproduction\", \"reproduction\", \"reproduction\", \"reproduction\", \"reproduction\", \"retardant\", \"retardant\", \"retardant\", \"retardant\", \"retardant\", \"retardant\", \"retardant\", \"retardant\", \"retirement\", \"retirement\", \"retirement\", \"retirement\", \"retirement\", \"retirement\", \"retirement\", \"retirement\", \"revitalization\", \"revitalization\", \"revitalization\", \"revitalization\", \"revitalization\", \"revitalization\", \"revitalization\", \"revitalization\", \"revival\", \"revival\", \"revival\", \"revival\", \"revival\", \"revival\", \"revival\", \"revival\", \"revkin\", \"revkin\", \"revkin\", \"revkin\", \"revkin\", \"revkin\", \"revkin\", \"revkin\", \"revolve\", \"revolve\", \"revolve\", \"revolve\", \"revolve\", \"revolve\", \"revolve\", \"revolve\", \"right\", \"right\", \"right\", \"right\", \"right\", \"right\", \"right\", \"right\", \"rim\", \"rim\", \"rim\", \"rim\", \"rim\", \"rim\", \"rim\", \"rim\", \"rise\", \"rise\", \"rise\", \"rise\", \"rise\", \"rise\", \"rise\", \"rise\", \"road\", \"road\", \"road\", \"road\", \"road\", \"road\", \"road\", \"road\", \"roadblock\", \"roadblock\", \"roadblock\", \"roadblock\", \"roadblock\", \"roadblock\", \"roadblock\", \"roadblock\", \"robertson\", \"robertson\", \"robertson\", \"robertson\", \"robertson\", \"robertson\", \"robertson\", \"robertson\", \"roof\", \"roof\", \"roof\", \"roof\", \"roof\", \"roof\", \"roof\", \"roof\", \"rupture\", \"rupture\", \"rupture\", \"rupture\", \"rupture\", \"rupture\", \"rupture\", \"rupture\", \"sahara\", \"sahara\", \"sahara\", \"sahara\", \"sahara\", \"sahara\", \"sahara\", \"sahara\", \"sand\", \"sand\", \"sand\", \"sand\", \"sand\", \"sand\", \"sand\", \"sand\", \"sarah\", \"sarah\", \"sarah\", \"sarah\", \"sarah\", \"sarah\", \"sarah\", \"sarah\", \"scheme\", \"scheme\", \"scheme\", \"scheme\", \"scheme\", \"scheme\", \"scheme\", \"scheme\", \"science\", \"science\", \"science\", \"science\", \"science\", \"science\", \"science\", \"science\", \"sensitivity\", \"sensitivity\", \"sensitivity\", \"sensitivity\", \"sensitivity\", \"sensitivity\", \"sensitivity\", \"sensitivity\", \"service\", \"service\", \"service\", \"service\", \"service\", \"service\", \"service\", \"service\", \"set\", \"set\", \"set\", \"set\", \"set\", \"set\", \"set\", \"set\", \"shark\", \"shark\", \"shark\", \"shark\", \"shark\", \"shark\", \"shark\", \"shark\", \"sim\", \"sim\", \"sim\", \"sim\", \"sim\", \"sim\", \"sim\", \"sim\", \"skilled\", \"skilled\", \"skilled\", \"skilled\", \"skilled\", \"skilled\", \"skilled\", \"skilled\", \"skin\", \"skin\", \"skin\", \"skin\", \"skin\", \"skin\", \"skin\", \"skin\", \"slice\", \"slice\", \"slice\", \"slice\", \"slice\", \"slice\", \"slice\", \"slice\", \"solar\", \"solar\", \"solar\", \"solar\", \"solar\", \"solar\", \"solar\", \"solar\", \"soup\", \"soup\", \"soup\", \"soup\", \"soup\", \"soup\", \"soup\", \"soup\", \"south\", \"south\", \"south\", \"south\", \"south\", \"south\", \"south\", \"south\", \"southeast\", \"southeast\", \"southeast\", \"southeast\", \"southeast\", \"southeast\", \"southeast\", \"southeast\", \"sovereignty\", \"sovereignty\", \"sovereignty\", \"sovereignty\", \"sovereignty\", \"sovereignty\", \"sovereignty\", \"sovereignty\", \"specie\", \"specie\", \"specie\", \"specie\", \"specie\", \"specie\", \"specie\", \"specie\", \"spokesman\", \"spokesman\", \"spokesman\", \"spokesman\", \"spokesman\", \"spokesman\", \"spokesman\", \"spokesman\", \"sponsor\", \"sponsor\", \"sponsor\", \"sponsor\", \"sponsor\", \"sponsor\", \"sponsor\", \"sponsor\", \"sprout\", \"sprout\", \"sprout\", \"sprout\", \"sprout\", \"sprout\", \"sprout\", \"sprout\", \"spruce\", \"spruce\", \"spruce\", \"spruce\", \"spruce\", \"spruce\", \"spruce\", \"spruce\", \"stable\", \"stable\", \"stable\", \"stable\", \"stable\", \"stable\", \"stable\", \"stable\", \"stand\", \"stand\", \"stand\", \"stand\", \"stand\", \"stand\", \"stand\", \"stand\", \"standard\", \"standard\", \"standard\", \"standard\", \"standard\", \"standard\", \"standard\", \"standard\", \"standby\", \"standby\", \"standby\", \"standby\", \"standby\", \"standby\", \"standby\", \"standby\", \"state\", \"state\", \"state\", \"state\", \"state\", \"state\", \"state\", \"state\", \"steel\", \"steel\", \"steel\", \"steel\", \"steel\", \"steel\", \"steel\", \"steel\", \"steele\", \"steele\", \"steele\", \"steele\", \"steele\", \"steele\", \"steele\", \"steele\", \"stifle\", \"stifle\", \"stifle\", \"stifle\", \"stifle\", \"stifle\", \"stifle\", \"stifle\", \"store\", \"store\", \"store\", \"store\", \"store\", \"store\", \"store\", \"store\", \"strong\", \"strong\", \"strong\", \"strong\", \"strong\", \"strong\", \"strong\", \"strong\", \"study\", \"study\", \"study\", \"study\", \"study\", \"study\", \"study\", \"study\", \"stumble\", \"stumble\", \"stumble\", \"stumble\", \"stumble\", \"stumble\", \"stumble\", \"stumble\", \"stun\", \"stun\", \"stun\", \"stun\", \"stun\", \"stun\", \"stun\", \"stun\", \"subjective\", \"subjective\", \"subjective\", \"subjective\", \"subjective\", \"subjective\", \"subjective\", \"subjective\", \"sun\", \"sun\", \"sun\", \"sun\", \"sun\", \"sun\", \"sun\", \"sun\", \"sunny\", \"sunny\", \"sunny\", \"sunny\", \"sunny\", \"sunny\", \"sunny\", \"sunny\", \"superfund\", \"superfund\", \"superfund\", \"superfund\", \"superfund\", \"superfund\", \"superfund\", \"superfund\", \"supply\", \"supply\", \"supply\", \"supply\", \"supply\", \"supply\", \"supply\", \"supply\", \"supreme\", \"supreme\", \"supreme\", \"supreme\", \"supreme\", \"supreme\", \"supreme\", \"supreme\", \"symbol\", \"symbol\", \"symbol\", \"symbol\", \"symbol\", \"symbol\", \"symbol\", \"symbol\", \"system\", \"system\", \"system\", \"system\", \"system\", \"system\", \"system\", \"system\", \"tangle\", \"tangle\", \"tangle\", \"tangle\", \"tangle\", \"tangle\", \"tangle\", \"tangle\", \"tank\", \"tank\", \"tank\", \"tank\", \"tank\", \"tank\", \"tank\", \"tank\", \"tar\", \"tar\", \"tar\", \"tar\", \"tar\", \"tar\", \"tar\", \"tar\", \"tax\", \"tax\", \"tax\", \"tax\", \"tax\", \"tax\", \"tax\", \"tax\", \"te\", \"te\", \"te\", \"te\", \"te\", \"te\", \"te\", \"te\", \"technological\", \"technological\", \"technological\", \"technological\", \"technological\", \"technological\", \"technological\", \"technological\", \"technology\", \"technology\", \"technology\", \"technology\", \"technology\", \"technology\", \"technology\", \"technology\", \"tent\", \"tent\", \"tent\", \"tent\", \"tent\", \"tent\", \"tent\", \"tent\", \"thing\", \"thing\", \"thing\", \"thing\", \"thing\", \"thing\", \"thing\", \"thing\", \"think\", \"think\", \"think\", \"think\", \"think\", \"think\", \"think\", \"think\", \"thorough\", \"thorough\", \"thorough\", \"thorough\", \"thorough\", \"thorough\", \"thorough\", \"thorough\", \"toast\", \"toast\", \"toast\", \"toast\", \"toast\", \"toast\", \"toast\", \"toast\", \"tool\", \"tool\", \"tool\", \"tool\", \"tool\", \"tool\", \"tool\", \"tool\", \"trailer\", \"trailer\", \"trailer\", \"trailer\", \"trailer\", \"trailer\", \"trailer\", \"trailer\", \"transit\", \"transit\", \"transit\", \"transit\", \"transit\", \"transit\", \"transit\", \"transit\", \"transportation\", \"transportation\", \"transportation\", \"transportation\", \"transportation\", \"transportation\", \"transportation\", \"transportation\", \"tree\", \"tree\", \"tree\", \"tree\", \"tree\", \"tree\", \"tree\", \"tree\", \"tube\", \"tube\", \"tube\", \"tube\", \"tube\", \"tube\", \"tube\", \"tube\", \"turbine\", \"turbine\", \"turbine\", \"turbine\", \"turbine\", \"turbine\", \"turbine\", \"turbine\", \"turner\", \"turner\", \"turner\", \"turner\", \"turner\", \"turner\", \"turner\", \"turner\", \"umbra\", \"umbra\", \"umbra\", \"umbra\", \"umbra\", \"umbra\", \"umbra\", \"umbra\", \"uncomfortable\", \"uncomfortable\", \"uncomfortable\", \"uncomfortable\", \"uncomfortable\", \"uncomfortable\", \"uncomfortable\", \"uncomfortable\", \"unrelated\", \"unrelated\", \"unrelated\", \"unrelated\", \"unrelated\", \"unrelated\", \"unrelated\", \"unrelated\", \"use\", \"use\", \"use\", \"use\", \"use\", \"use\", \"use\", \"use\", \"usefulness\", \"usefulness\", \"usefulness\", \"usefulness\", \"usefulness\", \"usefulness\", \"usefulness\", \"usefulness\", \"vaguely\", \"vaguely\", \"vaguely\", \"vaguely\", \"vaguely\", \"vaguely\", \"vaguely\", \"vaguely\", \"ve\", \"ve\", \"ve\", \"ve\", \"ve\", \"ve\", \"ve\", \"ve\", \"vehicle\", \"vehicle\", \"vehicle\", \"vehicle\", \"vehicle\", \"vehicle\", \"vehicle\", \"vehicle\", \"verification\", \"verification\", \"verification\", \"verification\", \"verification\", \"verification\", \"verification\", \"verification\", \"verify\", \"verify\", \"verify\", \"verify\", \"verify\", \"verify\", \"verify\", \"verify\", \"versa\", \"versa\", \"versa\", \"versa\", \"versa\", \"versa\", \"versa\", \"versa\", \"vilsack\", \"vilsack\", \"vilsack\", \"vilsack\", \"vilsack\", \"vilsack\", \"vilsack\", \"vilsack\", \"voluntarily\", \"voluntarily\", \"voluntarily\", \"voluntarily\", \"voluntarily\", \"voluntarily\", \"voluntarily\", \"voluntarily\", \"vote\", \"vote\", \"vote\", \"vote\", \"vote\", \"vote\", \"vote\", \"vote\", \"wagon\", \"wagon\", \"wagon\", \"wagon\", \"wagon\", \"wagon\", \"wagon\", \"wagon\", \"want\", \"want\", \"want\", \"want\", \"want\", \"want\", \"want\", \"want\", \"warrant\", \"warrant\", \"warrant\", \"warrant\", \"warrant\", \"warrant\", \"warrant\", \"warrant\", \"water\", \"water\", \"water\", \"water\", \"water\", \"water\", \"water\", \"water\", \"way\", \"way\", \"way\", \"way\", \"way\", \"way\", \"way\", \"way\", \"win\", \"win\", \"win\", \"win\", \"win\", \"win\", \"win\", \"win\", \"wise\", \"wise\", \"wise\", \"wise\", \"wise\", \"wise\", \"wise\", \"wise\", \"wizard\", \"wizard\", \"wizard\", \"wizard\", \"wizard\", \"wizard\", \"wizard\", \"wizard\", \"work\", \"work\", \"work\", \"work\", \"work\", \"work\", \"work\", \"work\", \"world\", \"world\", \"world\", \"world\", \"world\", \"world\", \"world\", \"world\", \"worthwhile\", \"worthwhile\", \"worthwhile\", \"worthwhile\", \"worthwhile\", \"worthwhile\", \"worthwhile\", \"worthwhile\"]}, \"R\": 30, \"lambda.step\": 0.01, \"plot.opts\": {\"xlab\": \"PC1\", \"ylab\": \"PC2\"}, \"topic.order\": [6, 8, 5, 2, 3, 4, 1, 7]};\n",
       "\n",
       "function LDAvis_load_lib(url, callback){\n",
       "  var s = document.createElement('script');\n",
       "  s.src = url;\n",
       "  s.async = true;\n",
       "  s.onreadystatechange = s.onload = callback;\n",
       "  s.onerror = function(){console.warn(\"failed to load library \" + url);};\n",
       "  document.getElementsByTagName(\"head\")[0].appendChild(s);\n",
       "}\n",
       "\n",
       "if(typeof(LDAvis) !== \"undefined\"){\n",
       "   // already loaded: just create the visualization\n",
       "   !function(LDAvis){\n",
       "       new LDAvis(\"#\" + \"ldavis_el12971402348446769441732130641\", ldavis_el12971402348446769441732130641_data);\n",
       "   }(LDAvis);\n",
       "}else if(typeof define === \"function\" && define.amd){\n",
       "   // require.js is available: use it to load d3/LDAvis\n",
       "   require.config({paths: {d3: \"https://d3js.org/d3.v5\"}});\n",
       "   require([\"d3\"], function(d3){\n",
       "      window.d3 = d3;\n",
       "      LDAvis_load_lib(\"https://cdn.jsdelivr.net/gh/bmabey/pyLDAvis@3.3.1/pyLDAvis/js/ldavis.v3.0.0.js\", function(){\n",
       "        new LDAvis(\"#\" + \"ldavis_el12971402348446769441732130641\", ldavis_el12971402348446769441732130641_data);\n",
       "      });\n",
       "    });\n",
       "}else{\n",
       "    // require.js not available: dynamically load d3 & LDAvis\n",
       "    LDAvis_load_lib(\"https://d3js.org/d3.v5.js\", function(){\n",
       "         LDAvis_load_lib(\"https://cdn.jsdelivr.net/gh/bmabey/pyLDAvis@3.3.1/pyLDAvis/js/ldavis.v3.0.0.js\", function(){\n",
       "                 new LDAvis(\"#\" + \"ldavis_el12971402348446769441732130641\", ldavis_el12971402348446769441732130641_data);\n",
       "            })\n",
       "         });\n",
       "}\n",
       "</script>"
      ],
      "text/plain": [
       "PreparedData(topic_coordinates=              x         y  topics  cluster       Freq\n",
       "topic                                                \n",
       "5     -0.009587 -0.029304       1        1  27.538426\n",
       "7      0.030870  0.039386       2        1  23.677650\n",
       "4     -0.024889  0.031667       3        1  11.095867\n",
       "1     -0.081875  0.026580       4        1   8.957132\n",
       "2      0.050141  0.024891       5        1   8.285369\n",
       "3     -0.007852  0.003238       6        1   7.905693\n",
       "0      0.061270 -0.018889       7        1   7.523246\n",
       "6     -0.018079 -0.077568       8        1   5.016617, topic_info=            Term           Freq          Total Category  logprob  loglift\n",
       "431       carbon   51580.000000   51580.000000  Default  30.0000  30.0000\n",
       "1105       price   74101.000000   74101.000000  Default  29.0000  29.0000\n",
       "161          oil  128474.000000  128474.000000  Default  28.0000  28.0000\n",
       "636       energy  129965.000000  129965.000000  Default  27.0000  27.0000\n",
       "71      emission   66547.000000   66547.000000  Default  26.0000  26.0000\n",
       "...          ...            ...            ...      ...      ...      ...\n",
       "44          coal    3337.536693   57190.166247   Topic8  -5.7186   0.1513\n",
       "100       global    2967.176198   37076.698590   Topic8  -5.8362   0.4670\n",
       "753   government    3065.071637   48358.919942   Topic8  -5.8038   0.2338\n",
       "512         cost    2937.039454   37042.205944   Topic8  -5.8464   0.4578\n",
       "191      project    2943.329812   38930.422171   Topic8  -5.8443   0.4102\n",
       "\n",
       "[630 rows x 6 columns], token_table=      Topic      Freq        Term\n",
       "term                             \n",
       "6530      1  0.744726          3d\n",
       "6530      2  0.053195          3d\n",
       "6530      3  0.035463          3d\n",
       "6530      4  0.035463          3d\n",
       "6530      5  0.017732          3d\n",
       "...     ...       ...         ...\n",
       "2331      4  0.064200  worthwhile\n",
       "2331      5  0.027032  worthwhile\n",
       "2331      6  0.112350  worthwhile\n",
       "2331      7  0.022808  worthwhile\n",
       "2331      8  0.402095  worthwhile\n",
       "\n",
       "[3712 rows x 3 columns], R=30, lambda_step=0.01, plot_opts={'xlab': 'PC1', 'ylab': 'PC2'}, topic_order=[6, 8, 5, 2, 3, 4, 1, 7])"
      ]
     },
     "execution_count": 20,
     "metadata": {},
     "output_type": "execute_result"
    }
   ],
   "source": [
    "q = pyLDAvis.gensim_models.prepare(lda_07_08, corpus, dictionary)\n",
    "q"
   ]
  },
  {
   "cell_type": "code",
   "execution_count": 16,
   "id": "27f63676",
   "metadata": {},
   "outputs": [
    {
     "data": {
      "text/html": [
       "<div>\n",
       "<style scoped>\n",
       "    .dataframe tbody tr th:only-of-type {\n",
       "        vertical-align: middle;\n",
       "    }\n",
       "\n",
       "    .dataframe tbody tr th {\n",
       "        vertical-align: top;\n",
       "    }\n",
       "\n",
       "    .dataframe thead th {\n",
       "        text-align: right;\n",
       "    }\n",
       "</style>\n",
       "<table border=\"1\" class=\"dataframe\">\n",
       "  <thead>\n",
       "    <tr style=\"text-align: right;\">\n",
       "      <th></th>\n",
       "      <th>x</th>\n",
       "      <th>y</th>\n",
       "      <th>topics</th>\n",
       "      <th>cluster</th>\n",
       "      <th>Freq</th>\n",
       "    </tr>\n",
       "    <tr>\n",
       "      <th>topic</th>\n",
       "      <th></th>\n",
       "      <th></th>\n",
       "      <th></th>\n",
       "      <th></th>\n",
       "      <th></th>\n",
       "    </tr>\n",
       "  </thead>\n",
       "  <tbody>\n",
       "    <tr>\n",
       "      <th>0</th>\n",
       "      <td>0.011685</td>\n",
       "      <td>-0.012273</td>\n",
       "      <td>1</td>\n",
       "      <td>1</td>\n",
       "      <td>33.756711</td>\n",
       "    </tr>\n",
       "    <tr>\n",
       "      <th>4</th>\n",
       "      <td>-0.002989</td>\n",
       "      <td>0.042494</td>\n",
       "      <td>2</td>\n",
       "      <td>1</td>\n",
       "      <td>21.156279</td>\n",
       "    </tr>\n",
       "    <tr>\n",
       "      <th>2</th>\n",
       "      <td>-0.055069</td>\n",
       "      <td>-0.051953</td>\n",
       "      <td>3</td>\n",
       "      <td>1</td>\n",
       "      <td>19.308472</td>\n",
       "    </tr>\n",
       "    <tr>\n",
       "      <th>1</th>\n",
       "      <td>0.072580</td>\n",
       "      <td>0.014091</td>\n",
       "      <td>4</td>\n",
       "      <td>1</td>\n",
       "      <td>10.623029</td>\n",
       "    </tr>\n",
       "    <tr>\n",
       "      <th>3</th>\n",
       "      <td>0.030479</td>\n",
       "      <td>-0.036484</td>\n",
       "      <td>5</td>\n",
       "      <td>1</td>\n",
       "      <td>8.302211</td>\n",
       "    </tr>\n",
       "    <tr>\n",
       "      <th>5</th>\n",
       "      <td>-0.056687</td>\n",
       "      <td>0.044124</td>\n",
       "      <td>6</td>\n",
       "      <td>1</td>\n",
       "      <td>6.853298</td>\n",
       "    </tr>\n",
       "  </tbody>\n",
       "</table>\n",
       "</div>"
      ],
      "text/plain": [
       "              x         y  topics  cluster       Freq\n",
       "topic                                                \n",
       "0      0.011685 -0.012273       1        1  33.756711\n",
       "4     -0.002989  0.042494       2        1  21.156279\n",
       "2     -0.055069 -0.051953       3        1  19.308472\n",
       "1      0.072580  0.014091       4        1  10.623029\n",
       "3      0.030479 -0.036484       5        1   8.302211\n",
       "5     -0.056687  0.044124       6        1   6.853298"
      ]
     },
     "execution_count": 16,
     "metadata": {},
     "output_type": "execute_result"
    }
   ],
   "source": [
    "p.topic_coordinates"
   ]
  },
  {
   "cell_type": "code",
   "execution_count": 21,
   "id": "1fa9b518",
   "metadata": {},
   "outputs": [
    {
     "data": {
      "text/html": [
       "<div>\n",
       "<style scoped>\n",
       "    .dataframe tbody tr th:only-of-type {\n",
       "        vertical-align: middle;\n",
       "    }\n",
       "\n",
       "    .dataframe tbody tr th {\n",
       "        vertical-align: top;\n",
       "    }\n",
       "\n",
       "    .dataframe thead th {\n",
       "        text-align: right;\n",
       "    }\n",
       "</style>\n",
       "<table border=\"1\" class=\"dataframe\">\n",
       "  <thead>\n",
       "    <tr style=\"text-align: right;\">\n",
       "      <th></th>\n",
       "      <th>x</th>\n",
       "      <th>y</th>\n",
       "      <th>topics</th>\n",
       "      <th>cluster</th>\n",
       "      <th>Freq</th>\n",
       "    </tr>\n",
       "    <tr>\n",
       "      <th>topic</th>\n",
       "      <th></th>\n",
       "      <th></th>\n",
       "      <th></th>\n",
       "      <th></th>\n",
       "      <th></th>\n",
       "    </tr>\n",
       "  </thead>\n",
       "  <tbody>\n",
       "    <tr>\n",
       "      <th>5</th>\n",
       "      <td>-0.009587</td>\n",
       "      <td>-0.029304</td>\n",
       "      <td>1</td>\n",
       "      <td>1</td>\n",
       "      <td>27.538426</td>\n",
       "    </tr>\n",
       "    <tr>\n",
       "      <th>7</th>\n",
       "      <td>0.030870</td>\n",
       "      <td>0.039386</td>\n",
       "      <td>2</td>\n",
       "      <td>1</td>\n",
       "      <td>23.677650</td>\n",
       "    </tr>\n",
       "    <tr>\n",
       "      <th>4</th>\n",
       "      <td>-0.024889</td>\n",
       "      <td>0.031667</td>\n",
       "      <td>3</td>\n",
       "      <td>1</td>\n",
       "      <td>11.095867</td>\n",
       "    </tr>\n",
       "    <tr>\n",
       "      <th>1</th>\n",
       "      <td>-0.081875</td>\n",
       "      <td>0.026580</td>\n",
       "      <td>4</td>\n",
       "      <td>1</td>\n",
       "      <td>8.957132</td>\n",
       "    </tr>\n",
       "    <tr>\n",
       "      <th>2</th>\n",
       "      <td>0.050141</td>\n",
       "      <td>0.024891</td>\n",
       "      <td>5</td>\n",
       "      <td>1</td>\n",
       "      <td>8.285369</td>\n",
       "    </tr>\n",
       "    <tr>\n",
       "      <th>3</th>\n",
       "      <td>-0.007852</td>\n",
       "      <td>0.003238</td>\n",
       "      <td>6</td>\n",
       "      <td>1</td>\n",
       "      <td>7.905693</td>\n",
       "    </tr>\n",
       "    <tr>\n",
       "      <th>0</th>\n",
       "      <td>0.061270</td>\n",
       "      <td>-0.018889</td>\n",
       "      <td>7</td>\n",
       "      <td>1</td>\n",
       "      <td>7.523246</td>\n",
       "    </tr>\n",
       "    <tr>\n",
       "      <th>6</th>\n",
       "      <td>-0.018079</td>\n",
       "      <td>-0.077568</td>\n",
       "      <td>8</td>\n",
       "      <td>1</td>\n",
       "      <td>5.016617</td>\n",
       "    </tr>\n",
       "  </tbody>\n",
       "</table>\n",
       "</div>"
      ],
      "text/plain": [
       "              x         y  topics  cluster       Freq\n",
       "topic                                                \n",
       "5     -0.009587 -0.029304       1        1  27.538426\n",
       "7      0.030870  0.039386       2        1  23.677650\n",
       "4     -0.024889  0.031667       3        1  11.095867\n",
       "1     -0.081875  0.026580       4        1   8.957132\n",
       "2      0.050141  0.024891       5        1   8.285369\n",
       "3     -0.007852  0.003238       6        1   7.905693\n",
       "0      0.061270 -0.018889       7        1   7.523246\n",
       "6     -0.018079 -0.077568       8        1   5.016617"
      ]
     },
     "execution_count": 21,
     "metadata": {},
     "output_type": "execute_result"
    }
   ],
   "source": [
    "q.topic_coordinates"
   ]
  },
  {
   "cell_type": "code",
   "execution_count": 25,
   "id": "3132eb7f",
   "metadata": {},
   "outputs": [],
   "source": [
    "coh = pd.read_pickle('../Data/Environmental Discourse/Single-Year-TMs/coherence_scores.pkl')\n",
    "coh['year'] = [2007] * 4 + [2013] * 4 + [2019] * 4\n",
    "coh['topics'] = [4, 6, 8, 10] * 3"
   ]
  },
  {
   "cell_type": "code",
   "execution_count": 59,
   "id": "e5770a65",
   "metadata": {},
   "outputs": [
    {
     "data": {
      "application/vnd.plotly.v1+json": {
       "config": {
        "plotlyServerURL": "https://plot.ly"
       },
       "data": [
        {
         "hovertemplate": "year_str=2007<br>topics=%{x}<br>Coherence Score=%{y}<extra></extra>",
         "legendgroup": "2007",
         "marker": {
          "color": "#636efa",
          "symbol": "circle"
         },
         "mode": "markers",
         "name": "2007",
         "orientation": "v",
         "showlegend": true,
         "type": "scatter",
         "x": [
          4,
          6,
          8,
          10
         ],
         "xaxis": "x",
         "y": [
          -1.0597780403118757,
          -1.0843333687743353,
          -1.158386248512389,
          -1.32945667150817
         ],
         "yaxis": "y"
        },
        {
         "hovertemplate": "year_str=2013<br>topics=%{x}<br>Coherence Score=%{y}<extra></extra>",
         "legendgroup": "2013",
         "marker": {
          "color": "#EF553B",
          "symbol": "circle"
         },
         "mode": "markers",
         "name": "2013",
         "orientation": "v",
         "showlegend": true,
         "type": "scatter",
         "x": [
          4,
          6,
          8,
          10
         ],
         "xaxis": "x",
         "y": [
          -0.8623458681330202,
          -0.9411931231543029,
          -0.9566043730007792,
          -0.923918532965952
         ],
         "yaxis": "y"
        },
        {
         "hovertemplate": "year_str=2019<br>topics=%{x}<br>Coherence Score=%{y}<extra></extra>",
         "legendgroup": "2019",
         "marker": {
          "color": "#00cc96",
          "symbol": "circle"
         },
         "mode": "markers",
         "name": "2019",
         "orientation": "v",
         "showlegend": true,
         "type": "scatter",
         "x": [
          4,
          6,
          8,
          10
         ],
         "xaxis": "x",
         "y": [
          -0.6910559190539829,
          -0.633886202230871,
          -0.6473632279751884,
          -0.6663821408703011
         ],
         "yaxis": "y"
        }
       ],
       "layout": {
        "font": {
         "family": "Times New Roman"
        },
        "legend": {
         "title": {
          "text": "year_str"
         },
         "tracegroupgap": 0
        },
        "margin": {
         "b": 20,
         "l": 20,
         "r": 20,
         "t": 20
        },
        "plot_bgcolor": "rgba(0,0,0,0)",
        "template": {
         "data": {
          "bar": [
           {
            "error_x": {
             "color": "#2a3f5f"
            },
            "error_y": {
             "color": "#2a3f5f"
            },
            "marker": {
             "line": {
              "color": "#E5ECF6",
              "width": 0.5
             },
             "pattern": {
              "fillmode": "overlay",
              "size": 10,
              "solidity": 0.2
             }
            },
            "type": "bar"
           }
          ],
          "barpolar": [
           {
            "marker": {
             "line": {
              "color": "#E5ECF6",
              "width": 0.5
             },
             "pattern": {
              "fillmode": "overlay",
              "size": 10,
              "solidity": 0.2
             }
            },
            "type": "barpolar"
           }
          ],
          "carpet": [
           {
            "aaxis": {
             "endlinecolor": "#2a3f5f",
             "gridcolor": "white",
             "linecolor": "white",
             "minorgridcolor": "white",
             "startlinecolor": "#2a3f5f"
            },
            "baxis": {
             "endlinecolor": "#2a3f5f",
             "gridcolor": "white",
             "linecolor": "white",
             "minorgridcolor": "white",
             "startlinecolor": "#2a3f5f"
            },
            "type": "carpet"
           }
          ],
          "choropleth": [
           {
            "colorbar": {
             "outlinewidth": 0,
             "ticks": ""
            },
            "type": "choropleth"
           }
          ],
          "contour": [
           {
            "colorbar": {
             "outlinewidth": 0,
             "ticks": ""
            },
            "colorscale": [
             [
              0,
              "#0d0887"
             ],
             [
              0.1111111111111111,
              "#46039f"
             ],
             [
              0.2222222222222222,
              "#7201a8"
             ],
             [
              0.3333333333333333,
              "#9c179e"
             ],
             [
              0.4444444444444444,
              "#bd3786"
             ],
             [
              0.5555555555555556,
              "#d8576b"
             ],
             [
              0.6666666666666666,
              "#ed7953"
             ],
             [
              0.7777777777777778,
              "#fb9f3a"
             ],
             [
              0.8888888888888888,
              "#fdca26"
             ],
             [
              1,
              "#f0f921"
             ]
            ],
            "type": "contour"
           }
          ],
          "contourcarpet": [
           {
            "colorbar": {
             "outlinewidth": 0,
             "ticks": ""
            },
            "type": "contourcarpet"
           }
          ],
          "heatmap": [
           {
            "colorbar": {
             "outlinewidth": 0,
             "ticks": ""
            },
            "colorscale": [
             [
              0,
              "#0d0887"
             ],
             [
              0.1111111111111111,
              "#46039f"
             ],
             [
              0.2222222222222222,
              "#7201a8"
             ],
             [
              0.3333333333333333,
              "#9c179e"
             ],
             [
              0.4444444444444444,
              "#bd3786"
             ],
             [
              0.5555555555555556,
              "#d8576b"
             ],
             [
              0.6666666666666666,
              "#ed7953"
             ],
             [
              0.7777777777777778,
              "#fb9f3a"
             ],
             [
              0.8888888888888888,
              "#fdca26"
             ],
             [
              1,
              "#f0f921"
             ]
            ],
            "type": "heatmap"
           }
          ],
          "heatmapgl": [
           {
            "colorbar": {
             "outlinewidth": 0,
             "ticks": ""
            },
            "colorscale": [
             [
              0,
              "#0d0887"
             ],
             [
              0.1111111111111111,
              "#46039f"
             ],
             [
              0.2222222222222222,
              "#7201a8"
             ],
             [
              0.3333333333333333,
              "#9c179e"
             ],
             [
              0.4444444444444444,
              "#bd3786"
             ],
             [
              0.5555555555555556,
              "#d8576b"
             ],
             [
              0.6666666666666666,
              "#ed7953"
             ],
             [
              0.7777777777777778,
              "#fb9f3a"
             ],
             [
              0.8888888888888888,
              "#fdca26"
             ],
             [
              1,
              "#f0f921"
             ]
            ],
            "type": "heatmapgl"
           }
          ],
          "histogram": [
           {
            "marker": {
             "pattern": {
              "fillmode": "overlay",
              "size": 10,
              "solidity": 0.2
             }
            },
            "type": "histogram"
           }
          ],
          "histogram2d": [
           {
            "colorbar": {
             "outlinewidth": 0,
             "ticks": ""
            },
            "colorscale": [
             [
              0,
              "#0d0887"
             ],
             [
              0.1111111111111111,
              "#46039f"
             ],
             [
              0.2222222222222222,
              "#7201a8"
             ],
             [
              0.3333333333333333,
              "#9c179e"
             ],
             [
              0.4444444444444444,
              "#bd3786"
             ],
             [
              0.5555555555555556,
              "#d8576b"
             ],
             [
              0.6666666666666666,
              "#ed7953"
             ],
             [
              0.7777777777777778,
              "#fb9f3a"
             ],
             [
              0.8888888888888888,
              "#fdca26"
             ],
             [
              1,
              "#f0f921"
             ]
            ],
            "type": "histogram2d"
           }
          ],
          "histogram2dcontour": [
           {
            "colorbar": {
             "outlinewidth": 0,
             "ticks": ""
            },
            "colorscale": [
             [
              0,
              "#0d0887"
             ],
             [
              0.1111111111111111,
              "#46039f"
             ],
             [
              0.2222222222222222,
              "#7201a8"
             ],
             [
              0.3333333333333333,
              "#9c179e"
             ],
             [
              0.4444444444444444,
              "#bd3786"
             ],
             [
              0.5555555555555556,
              "#d8576b"
             ],
             [
              0.6666666666666666,
              "#ed7953"
             ],
             [
              0.7777777777777778,
              "#fb9f3a"
             ],
             [
              0.8888888888888888,
              "#fdca26"
             ],
             [
              1,
              "#f0f921"
             ]
            ],
            "type": "histogram2dcontour"
           }
          ],
          "mesh3d": [
           {
            "colorbar": {
             "outlinewidth": 0,
             "ticks": ""
            },
            "type": "mesh3d"
           }
          ],
          "parcoords": [
           {
            "line": {
             "colorbar": {
              "outlinewidth": 0,
              "ticks": ""
             }
            },
            "type": "parcoords"
           }
          ],
          "pie": [
           {
            "automargin": true,
            "type": "pie"
           }
          ],
          "scatter": [
           {
            "marker": {
             "colorbar": {
              "outlinewidth": 0,
              "ticks": ""
             }
            },
            "type": "scatter"
           }
          ],
          "scatter3d": [
           {
            "line": {
             "colorbar": {
              "outlinewidth": 0,
              "ticks": ""
             }
            },
            "marker": {
             "colorbar": {
              "outlinewidth": 0,
              "ticks": ""
             }
            },
            "type": "scatter3d"
           }
          ],
          "scattercarpet": [
           {
            "marker": {
             "colorbar": {
              "outlinewidth": 0,
              "ticks": ""
             }
            },
            "type": "scattercarpet"
           }
          ],
          "scattergeo": [
           {
            "marker": {
             "colorbar": {
              "outlinewidth": 0,
              "ticks": ""
             }
            },
            "type": "scattergeo"
           }
          ],
          "scattergl": [
           {
            "marker": {
             "colorbar": {
              "outlinewidth": 0,
              "ticks": ""
             }
            },
            "type": "scattergl"
           }
          ],
          "scattermapbox": [
           {
            "marker": {
             "colorbar": {
              "outlinewidth": 0,
              "ticks": ""
             }
            },
            "type": "scattermapbox"
           }
          ],
          "scatterpolar": [
           {
            "marker": {
             "colorbar": {
              "outlinewidth": 0,
              "ticks": ""
             }
            },
            "type": "scatterpolar"
           }
          ],
          "scatterpolargl": [
           {
            "marker": {
             "colorbar": {
              "outlinewidth": 0,
              "ticks": ""
             }
            },
            "type": "scatterpolargl"
           }
          ],
          "scatterternary": [
           {
            "marker": {
             "colorbar": {
              "outlinewidth": 0,
              "ticks": ""
             }
            },
            "type": "scatterternary"
           }
          ],
          "surface": [
           {
            "colorbar": {
             "outlinewidth": 0,
             "ticks": ""
            },
            "colorscale": [
             [
              0,
              "#0d0887"
             ],
             [
              0.1111111111111111,
              "#46039f"
             ],
             [
              0.2222222222222222,
              "#7201a8"
             ],
             [
              0.3333333333333333,
              "#9c179e"
             ],
             [
              0.4444444444444444,
              "#bd3786"
             ],
             [
              0.5555555555555556,
              "#d8576b"
             ],
             [
              0.6666666666666666,
              "#ed7953"
             ],
             [
              0.7777777777777778,
              "#fb9f3a"
             ],
             [
              0.8888888888888888,
              "#fdca26"
             ],
             [
              1,
              "#f0f921"
             ]
            ],
            "type": "surface"
           }
          ],
          "table": [
           {
            "cells": {
             "fill": {
              "color": "#EBF0F8"
             },
             "line": {
              "color": "white"
             }
            },
            "header": {
             "fill": {
              "color": "#C8D4E3"
             },
             "line": {
              "color": "white"
             }
            },
            "type": "table"
           }
          ]
         },
         "layout": {
          "annotationdefaults": {
           "arrowcolor": "#2a3f5f",
           "arrowhead": 0,
           "arrowwidth": 1
          },
          "autotypenumbers": "strict",
          "coloraxis": {
           "colorbar": {
            "outlinewidth": 0,
            "ticks": ""
           }
          },
          "colorscale": {
           "diverging": [
            [
             0,
             "#8e0152"
            ],
            [
             0.1,
             "#c51b7d"
            ],
            [
             0.2,
             "#de77ae"
            ],
            [
             0.3,
             "#f1b6da"
            ],
            [
             0.4,
             "#fde0ef"
            ],
            [
             0.5,
             "#f7f7f7"
            ],
            [
             0.6,
             "#e6f5d0"
            ],
            [
             0.7,
             "#b8e186"
            ],
            [
             0.8,
             "#7fbc41"
            ],
            [
             0.9,
             "#4d9221"
            ],
            [
             1,
             "#276419"
            ]
           ],
           "sequential": [
            [
             0,
             "#0d0887"
            ],
            [
             0.1111111111111111,
             "#46039f"
            ],
            [
             0.2222222222222222,
             "#7201a8"
            ],
            [
             0.3333333333333333,
             "#9c179e"
            ],
            [
             0.4444444444444444,
             "#bd3786"
            ],
            [
             0.5555555555555556,
             "#d8576b"
            ],
            [
             0.6666666666666666,
             "#ed7953"
            ],
            [
             0.7777777777777778,
             "#fb9f3a"
            ],
            [
             0.8888888888888888,
             "#fdca26"
            ],
            [
             1,
             "#f0f921"
            ]
           ],
           "sequentialminus": [
            [
             0,
             "#0d0887"
            ],
            [
             0.1111111111111111,
             "#46039f"
            ],
            [
             0.2222222222222222,
             "#7201a8"
            ],
            [
             0.3333333333333333,
             "#9c179e"
            ],
            [
             0.4444444444444444,
             "#bd3786"
            ],
            [
             0.5555555555555556,
             "#d8576b"
            ],
            [
             0.6666666666666666,
             "#ed7953"
            ],
            [
             0.7777777777777778,
             "#fb9f3a"
            ],
            [
             0.8888888888888888,
             "#fdca26"
            ],
            [
             1,
             "#f0f921"
            ]
           ]
          },
          "colorway": [
           "#636efa",
           "#EF553B",
           "#00cc96",
           "#ab63fa",
           "#FFA15A",
           "#19d3f3",
           "#FF6692",
           "#B6E880",
           "#FF97FF",
           "#FECB52"
          ],
          "font": {
           "color": "#2a3f5f"
          },
          "geo": {
           "bgcolor": "white",
           "lakecolor": "white",
           "landcolor": "#E5ECF6",
           "showlakes": true,
           "showland": true,
           "subunitcolor": "white"
          },
          "hoverlabel": {
           "align": "left"
          },
          "hovermode": "closest",
          "mapbox": {
           "style": "light"
          },
          "paper_bgcolor": "white",
          "plot_bgcolor": "#E5ECF6",
          "polar": {
           "angularaxis": {
            "gridcolor": "white",
            "linecolor": "white",
            "ticks": ""
           },
           "bgcolor": "#E5ECF6",
           "radialaxis": {
            "gridcolor": "white",
            "linecolor": "white",
            "ticks": ""
           }
          },
          "scene": {
           "xaxis": {
            "backgroundcolor": "#E5ECF6",
            "gridcolor": "white",
            "gridwidth": 2,
            "linecolor": "white",
            "showbackground": true,
            "ticks": "",
            "zerolinecolor": "white"
           },
           "yaxis": {
            "backgroundcolor": "#E5ECF6",
            "gridcolor": "white",
            "gridwidth": 2,
            "linecolor": "white",
            "showbackground": true,
            "ticks": "",
            "zerolinecolor": "white"
           },
           "zaxis": {
            "backgroundcolor": "#E5ECF6",
            "gridcolor": "white",
            "gridwidth": 2,
            "linecolor": "white",
            "showbackground": true,
            "ticks": "",
            "zerolinecolor": "white"
           }
          },
          "shapedefaults": {
           "line": {
            "color": "#2a3f5f"
           }
          },
          "ternary": {
           "aaxis": {
            "gridcolor": "white",
            "linecolor": "white",
            "ticks": ""
           },
           "baxis": {
            "gridcolor": "white",
            "linecolor": "white",
            "ticks": ""
           },
           "bgcolor": "#E5ECF6",
           "caxis": {
            "gridcolor": "white",
            "linecolor": "white",
            "ticks": ""
           }
          },
          "title": {
           "x": 0.05
          },
          "xaxis": {
           "automargin": true,
           "gridcolor": "white",
           "linecolor": "white",
           "ticks": "",
           "title": {
            "standoff": 15
           },
           "zerolinecolor": "white",
           "zerolinewidth": 2
          },
          "yaxis": {
           "automargin": true,
           "gridcolor": "white",
           "linecolor": "white",
           "ticks": "",
           "title": {
            "standoff": 15
           },
           "zerolinecolor": "white",
           "zerolinewidth": 2
          }
         }
        },
        "width": 800,
        "xaxis": {
         "anchor": "y",
         "domain": [
          0,
          1
         ],
         "dtick": 2,
         "linecolor": "black",
         "mirror": true,
         "showline": true,
         "tick0": 4,
         "tickmode": "linear",
         "title": {
          "text": "topics"
         }
        },
        "yaxis": {
         "anchor": "x",
         "domain": [
          0,
          1
         ],
         "linecolor": "black",
         "mirror": true,
         "showline": true,
         "title": {
          "text": "Coherence Score"
         }
        }
       }
      },
      "text/html": [
       "<div>                            <div id=\"c575f253-3f56-4285-99ff-6946b690c16e\" class=\"plotly-graph-div\" style=\"height:525px; width:800px;\"></div>            <script type=\"text/javascript\">                require([\"plotly\"], function(Plotly) {                    window.PLOTLYENV=window.PLOTLYENV || {};                                    if (document.getElementById(\"c575f253-3f56-4285-99ff-6946b690c16e\")) {                    Plotly.newPlot(                        \"c575f253-3f56-4285-99ff-6946b690c16e\",                        [{\"hovertemplate\":\"year_str=2007<br>topics=%{x}<br>Coherence Score=%{y}<extra></extra>\",\"legendgroup\":\"2007\",\"marker\":{\"color\":\"#636efa\",\"symbol\":\"circle\"},\"mode\":\"markers\",\"name\":\"2007\",\"orientation\":\"v\",\"showlegend\":true,\"type\":\"scatter\",\"x\":[4,6,8,10],\"xaxis\":\"x\",\"y\":[-1.0597780403118757,-1.0843333687743353,-1.158386248512389,-1.32945667150817],\"yaxis\":\"y\"},{\"hovertemplate\":\"year_str=2013<br>topics=%{x}<br>Coherence Score=%{y}<extra></extra>\",\"legendgroup\":\"2013\",\"marker\":{\"color\":\"#EF553B\",\"symbol\":\"circle\"},\"mode\":\"markers\",\"name\":\"2013\",\"orientation\":\"v\",\"showlegend\":true,\"type\":\"scatter\",\"x\":[4,6,8,10],\"xaxis\":\"x\",\"y\":[-0.8623458681330202,-0.9411931231543029,-0.9566043730007792,-0.923918532965952],\"yaxis\":\"y\"},{\"hovertemplate\":\"year_str=2019<br>topics=%{x}<br>Coherence Score=%{y}<extra></extra>\",\"legendgroup\":\"2019\",\"marker\":{\"color\":\"#00cc96\",\"symbol\":\"circle\"},\"mode\":\"markers\",\"name\":\"2019\",\"orientation\":\"v\",\"showlegend\":true,\"type\":\"scatter\",\"x\":[4,6,8,10],\"xaxis\":\"x\",\"y\":[-0.6910559190539829,-0.633886202230871,-0.6473632279751884,-0.6663821408703011],\"yaxis\":\"y\"}],                        {\"font\":{\"family\":\"Times New Roman\"},\"legend\":{\"title\":{\"text\":\"year_str\"},\"tracegroupgap\":0},\"margin\":{\"b\":20,\"l\":20,\"r\":20,\"t\":20},\"plot_bgcolor\":\"rgba(0,0,0,0)\",\"template\":{\"data\":{\"bar\":[{\"error_x\":{\"color\":\"#2a3f5f\"},\"error_y\":{\"color\":\"#2a3f5f\"},\"marker\":{\"line\":{\"color\":\"#E5ECF6\",\"width\":0.5},\"pattern\":{\"fillmode\":\"overlay\",\"size\":10,\"solidity\":0.2}},\"type\":\"bar\"}],\"barpolar\":[{\"marker\":{\"line\":{\"color\":\"#E5ECF6\",\"width\":0.5},\"pattern\":{\"fillmode\":\"overlay\",\"size\":10,\"solidity\":0.2}},\"type\":\"barpolar\"}],\"carpet\":[{\"aaxis\":{\"endlinecolor\":\"#2a3f5f\",\"gridcolor\":\"white\",\"linecolor\":\"white\",\"minorgridcolor\":\"white\",\"startlinecolor\":\"#2a3f5f\"},\"baxis\":{\"endlinecolor\":\"#2a3f5f\",\"gridcolor\":\"white\",\"linecolor\":\"white\",\"minorgridcolor\":\"white\",\"startlinecolor\":\"#2a3f5f\"},\"type\":\"carpet\"}],\"choropleth\":[{\"colorbar\":{\"outlinewidth\":0,\"ticks\":\"\"},\"type\":\"choropleth\"}],\"contour\":[{\"colorbar\":{\"outlinewidth\":0,\"ticks\":\"\"},\"colorscale\":[[0.0,\"#0d0887\"],[0.1111111111111111,\"#46039f\"],[0.2222222222222222,\"#7201a8\"],[0.3333333333333333,\"#9c179e\"],[0.4444444444444444,\"#bd3786\"],[0.5555555555555556,\"#d8576b\"],[0.6666666666666666,\"#ed7953\"],[0.7777777777777778,\"#fb9f3a\"],[0.8888888888888888,\"#fdca26\"],[1.0,\"#f0f921\"]],\"type\":\"contour\"}],\"contourcarpet\":[{\"colorbar\":{\"outlinewidth\":0,\"ticks\":\"\"},\"type\":\"contourcarpet\"}],\"heatmap\":[{\"colorbar\":{\"outlinewidth\":0,\"ticks\":\"\"},\"colorscale\":[[0.0,\"#0d0887\"],[0.1111111111111111,\"#46039f\"],[0.2222222222222222,\"#7201a8\"],[0.3333333333333333,\"#9c179e\"],[0.4444444444444444,\"#bd3786\"],[0.5555555555555556,\"#d8576b\"],[0.6666666666666666,\"#ed7953\"],[0.7777777777777778,\"#fb9f3a\"],[0.8888888888888888,\"#fdca26\"],[1.0,\"#f0f921\"]],\"type\":\"heatmap\"}],\"heatmapgl\":[{\"colorbar\":{\"outlinewidth\":0,\"ticks\":\"\"},\"colorscale\":[[0.0,\"#0d0887\"],[0.1111111111111111,\"#46039f\"],[0.2222222222222222,\"#7201a8\"],[0.3333333333333333,\"#9c179e\"],[0.4444444444444444,\"#bd3786\"],[0.5555555555555556,\"#d8576b\"],[0.6666666666666666,\"#ed7953\"],[0.7777777777777778,\"#fb9f3a\"],[0.8888888888888888,\"#fdca26\"],[1.0,\"#f0f921\"]],\"type\":\"heatmapgl\"}],\"histogram\":[{\"marker\":{\"pattern\":{\"fillmode\":\"overlay\",\"size\":10,\"solidity\":0.2}},\"type\":\"histogram\"}],\"histogram2d\":[{\"colorbar\":{\"outlinewidth\":0,\"ticks\":\"\"},\"colorscale\":[[0.0,\"#0d0887\"],[0.1111111111111111,\"#46039f\"],[0.2222222222222222,\"#7201a8\"],[0.3333333333333333,\"#9c179e\"],[0.4444444444444444,\"#bd3786\"],[0.5555555555555556,\"#d8576b\"],[0.6666666666666666,\"#ed7953\"],[0.7777777777777778,\"#fb9f3a\"],[0.8888888888888888,\"#fdca26\"],[1.0,\"#f0f921\"]],\"type\":\"histogram2d\"}],\"histogram2dcontour\":[{\"colorbar\":{\"outlinewidth\":0,\"ticks\":\"\"},\"colorscale\":[[0.0,\"#0d0887\"],[0.1111111111111111,\"#46039f\"],[0.2222222222222222,\"#7201a8\"],[0.3333333333333333,\"#9c179e\"],[0.4444444444444444,\"#bd3786\"],[0.5555555555555556,\"#d8576b\"],[0.6666666666666666,\"#ed7953\"],[0.7777777777777778,\"#fb9f3a\"],[0.8888888888888888,\"#fdca26\"],[1.0,\"#f0f921\"]],\"type\":\"histogram2dcontour\"}],\"mesh3d\":[{\"colorbar\":{\"outlinewidth\":0,\"ticks\":\"\"},\"type\":\"mesh3d\"}],\"parcoords\":[{\"line\":{\"colorbar\":{\"outlinewidth\":0,\"ticks\":\"\"}},\"type\":\"parcoords\"}],\"pie\":[{\"automargin\":true,\"type\":\"pie\"}],\"scatter\":[{\"marker\":{\"colorbar\":{\"outlinewidth\":0,\"ticks\":\"\"}},\"type\":\"scatter\"}],\"scatter3d\":[{\"line\":{\"colorbar\":{\"outlinewidth\":0,\"ticks\":\"\"}},\"marker\":{\"colorbar\":{\"outlinewidth\":0,\"ticks\":\"\"}},\"type\":\"scatter3d\"}],\"scattercarpet\":[{\"marker\":{\"colorbar\":{\"outlinewidth\":0,\"ticks\":\"\"}},\"type\":\"scattercarpet\"}],\"scattergeo\":[{\"marker\":{\"colorbar\":{\"outlinewidth\":0,\"ticks\":\"\"}},\"type\":\"scattergeo\"}],\"scattergl\":[{\"marker\":{\"colorbar\":{\"outlinewidth\":0,\"ticks\":\"\"}},\"type\":\"scattergl\"}],\"scattermapbox\":[{\"marker\":{\"colorbar\":{\"outlinewidth\":0,\"ticks\":\"\"}},\"type\":\"scattermapbox\"}],\"scatterpolar\":[{\"marker\":{\"colorbar\":{\"outlinewidth\":0,\"ticks\":\"\"}},\"type\":\"scatterpolar\"}],\"scatterpolargl\":[{\"marker\":{\"colorbar\":{\"outlinewidth\":0,\"ticks\":\"\"}},\"type\":\"scatterpolargl\"}],\"scatterternary\":[{\"marker\":{\"colorbar\":{\"outlinewidth\":0,\"ticks\":\"\"}},\"type\":\"scatterternary\"}],\"surface\":[{\"colorbar\":{\"outlinewidth\":0,\"ticks\":\"\"},\"colorscale\":[[0.0,\"#0d0887\"],[0.1111111111111111,\"#46039f\"],[0.2222222222222222,\"#7201a8\"],[0.3333333333333333,\"#9c179e\"],[0.4444444444444444,\"#bd3786\"],[0.5555555555555556,\"#d8576b\"],[0.6666666666666666,\"#ed7953\"],[0.7777777777777778,\"#fb9f3a\"],[0.8888888888888888,\"#fdca26\"],[1.0,\"#f0f921\"]],\"type\":\"surface\"}],\"table\":[{\"cells\":{\"fill\":{\"color\":\"#EBF0F8\"},\"line\":{\"color\":\"white\"}},\"header\":{\"fill\":{\"color\":\"#C8D4E3\"},\"line\":{\"color\":\"white\"}},\"type\":\"table\"}]},\"layout\":{\"annotationdefaults\":{\"arrowcolor\":\"#2a3f5f\",\"arrowhead\":0,\"arrowwidth\":1},\"autotypenumbers\":\"strict\",\"coloraxis\":{\"colorbar\":{\"outlinewidth\":0,\"ticks\":\"\"}},\"colorscale\":{\"diverging\":[[0,\"#8e0152\"],[0.1,\"#c51b7d\"],[0.2,\"#de77ae\"],[0.3,\"#f1b6da\"],[0.4,\"#fde0ef\"],[0.5,\"#f7f7f7\"],[0.6,\"#e6f5d0\"],[0.7,\"#b8e186\"],[0.8,\"#7fbc41\"],[0.9,\"#4d9221\"],[1,\"#276419\"]],\"sequential\":[[0.0,\"#0d0887\"],[0.1111111111111111,\"#46039f\"],[0.2222222222222222,\"#7201a8\"],[0.3333333333333333,\"#9c179e\"],[0.4444444444444444,\"#bd3786\"],[0.5555555555555556,\"#d8576b\"],[0.6666666666666666,\"#ed7953\"],[0.7777777777777778,\"#fb9f3a\"],[0.8888888888888888,\"#fdca26\"],[1.0,\"#f0f921\"]],\"sequentialminus\":[[0.0,\"#0d0887\"],[0.1111111111111111,\"#46039f\"],[0.2222222222222222,\"#7201a8\"],[0.3333333333333333,\"#9c179e\"],[0.4444444444444444,\"#bd3786\"],[0.5555555555555556,\"#d8576b\"],[0.6666666666666666,\"#ed7953\"],[0.7777777777777778,\"#fb9f3a\"],[0.8888888888888888,\"#fdca26\"],[1.0,\"#f0f921\"]]},\"colorway\":[\"#636efa\",\"#EF553B\",\"#00cc96\",\"#ab63fa\",\"#FFA15A\",\"#19d3f3\",\"#FF6692\",\"#B6E880\",\"#FF97FF\",\"#FECB52\"],\"font\":{\"color\":\"#2a3f5f\"},\"geo\":{\"bgcolor\":\"white\",\"lakecolor\":\"white\",\"landcolor\":\"#E5ECF6\",\"showlakes\":true,\"showland\":true,\"subunitcolor\":\"white\"},\"hoverlabel\":{\"align\":\"left\"},\"hovermode\":\"closest\",\"mapbox\":{\"style\":\"light\"},\"paper_bgcolor\":\"white\",\"plot_bgcolor\":\"#E5ECF6\",\"polar\":{\"angularaxis\":{\"gridcolor\":\"white\",\"linecolor\":\"white\",\"ticks\":\"\"},\"bgcolor\":\"#E5ECF6\",\"radialaxis\":{\"gridcolor\":\"white\",\"linecolor\":\"white\",\"ticks\":\"\"}},\"scene\":{\"xaxis\":{\"backgroundcolor\":\"#E5ECF6\",\"gridcolor\":\"white\",\"gridwidth\":2,\"linecolor\":\"white\",\"showbackground\":true,\"ticks\":\"\",\"zerolinecolor\":\"white\"},\"yaxis\":{\"backgroundcolor\":\"#E5ECF6\",\"gridcolor\":\"white\",\"gridwidth\":2,\"linecolor\":\"white\",\"showbackground\":true,\"ticks\":\"\",\"zerolinecolor\":\"white\"},\"zaxis\":{\"backgroundcolor\":\"#E5ECF6\",\"gridcolor\":\"white\",\"gridwidth\":2,\"linecolor\":\"white\",\"showbackground\":true,\"ticks\":\"\",\"zerolinecolor\":\"white\"}},\"shapedefaults\":{\"line\":{\"color\":\"#2a3f5f\"}},\"ternary\":{\"aaxis\":{\"gridcolor\":\"white\",\"linecolor\":\"white\",\"ticks\":\"\"},\"baxis\":{\"gridcolor\":\"white\",\"linecolor\":\"white\",\"ticks\":\"\"},\"bgcolor\":\"#E5ECF6\",\"caxis\":{\"gridcolor\":\"white\",\"linecolor\":\"white\",\"ticks\":\"\"}},\"title\":{\"x\":0.05},\"xaxis\":{\"automargin\":true,\"gridcolor\":\"white\",\"linecolor\":\"white\",\"ticks\":\"\",\"title\":{\"standoff\":15},\"zerolinecolor\":\"white\",\"zerolinewidth\":2},\"yaxis\":{\"automargin\":true,\"gridcolor\":\"white\",\"linecolor\":\"white\",\"ticks\":\"\",\"title\":{\"standoff\":15},\"zerolinecolor\":\"white\",\"zerolinewidth\":2}}},\"width\":800,\"xaxis\":{\"anchor\":\"y\",\"domain\":[0.0,1.0],\"dtick\":2,\"linecolor\":\"black\",\"mirror\":true,\"showline\":true,\"tick0\":4,\"tickmode\":\"linear\",\"title\":{\"text\":\"topics\"}},\"yaxis\":{\"anchor\":\"x\",\"domain\":[0.0,1.0],\"linecolor\":\"black\",\"mirror\":true,\"showline\":true,\"title\":{\"text\":\"Coherence Score\"}}},                        {\"responsive\": true}                    ).then(function(){\n",
       "                            \n",
       "var gd = document.getElementById('c575f253-3f56-4285-99ff-6946b690c16e');\n",
       "var x = new MutationObserver(function (mutations, observer) {{\n",
       "        var display = window.getComputedStyle(gd).display;\n",
       "        if (!display || display === 'none') {{\n",
       "            console.log([gd, 'removed!']);\n",
       "            Plotly.purge(gd);\n",
       "            observer.disconnect();\n",
       "        }}\n",
       "}});\n",
       "\n",
       "// Listen for the removal of the full notebook cells\n",
       "var notebookContainer = gd.closest('#notebook-container');\n",
       "if (notebookContainer) {{\n",
       "    x.observe(notebookContainer, {childList: true});\n",
       "}}\n",
       "\n",
       "// Listen for the clearing of the current output cell\n",
       "var outputEl = gd.closest('.output');\n",
       "if (outputEl) {{\n",
       "    x.observe(outputEl, {childList: true});\n",
       "}}\n",
       "\n",
       "                        })                };                });            </script>        </div>"
      ]
     },
     "metadata": {},
     "output_type": "display_data"
    }
   ],
   "source": [
    "coh['year_str'] = coh.year.apply(str)\n",
    "\n",
    "fig = px.scatter(coh, x='topics', y='coherence', color='year_str',\n",
    "              labels={'coherence':'Coherence Score'},\n",
    "        width=800)\n",
    "\n",
    "fig.update_layout(\n",
    "    margin=dict(l=20, r=20, t=20, b=20),\n",
    "    font_family='Times New Roman',\n",
    "    plot_bgcolor='rgba(0,0,0,0)',\n",
    "    xaxis = dict(\n",
    "        tickmode='linear',\n",
    "        tick0=4,\n",
    "        dtick=2,\n",
    "        showline=True,\n",
    "        mirror=True,\n",
    "        linecolor='black'\n",
    "    ),\n",
    "    yaxis = dict(\n",
    "        showline=True,\n",
    "        mirror=True,\n",
    "        linecolor='black'\n",
    "        \n",
    "    )\n",
    ")"
   ]
  },
  {
   "cell_type": "markdown",
   "id": "ba14d6d9",
   "metadata": {},
   "source": [
    "### <font color=blue> Setting up for dtm"
   ]
  },
  {
   "cell_type": "code",
   "execution_count": 10,
   "id": "9bbd70fc",
   "metadata": {},
   "outputs": [],
   "source": [
    "import pandas as pd\n",
    "from gensim import corpora, models\n",
    "import ast"
   ]
  },
  {
   "cell_type": "code",
   "execution_count": 16,
   "id": "58ae9be1",
   "metadata": {},
   "outputs": [],
   "source": [
    "path = 'Environmental Discourse'"
   ]
  },
  {
   "cell_type": "code",
   "execution_count": null,
   "id": "9424b0f4",
   "metadata": {},
   "outputs": [],
   "source": [
    "env = pd.read_csv('../Data/'+path+'/env_processed_tokens.csv', \n",
    "                  index_col=0, \n",
    "                  converters={'tokens': ast.literal_eval})\n",
    "env['date'] = pd.to_datetime(env.date)\n",
    "env['year'] = env.date.dt.year"
   ]
  },
  {
   "cell_type": "code",
   "execution_count": 11,
   "id": "ed2c8912",
   "metadata": {},
   "outputs": [],
   "source": [
    "dictionary = corpora.Dictionary.load('../Data/Environmental Discourse/Full-TMs/dictionary')\n",
    "corpus = corpora.MmCorpus('../Data/Environmental Discourse/Single-Year-TMs/bow_corpus.mm')"
   ]
  },
  {
   "cell_type": "code",
   "execution_count": 19,
   "id": "0a780f5c",
   "metadata": {},
   "outputs": [],
   "source": [
    "docs_per_time_slice = list(env.groupby('year').agg({'year':'count'}).year)"
   ]
  },
  {
   "cell_type": "code",
   "execution_count": 20,
   "id": "9a4311b5",
   "metadata": {},
   "outputs": [
    {
     "data": {
      "text/plain": [
       "[2405,\n",
       " 3130,\n",
       " 4054,\n",
       " 4645,\n",
       " 3803,\n",
       " 3672,\n",
       " 4037,\n",
       " 3834,\n",
       " 3421,\n",
       " 2564,\n",
       " 2370,\n",
       " 1777,\n",
       " 1313,\n",
       " 1235,\n",
       " 1432,\n",
       " 1661,\n",
       " 1472]"
      ]
     },
     "execution_count": 20,
     "metadata": {},
     "output_type": "execute_result"
    }
   ],
   "source": [
    "ldaseq = models.ldaseqmodel.LdaSeqModel(corpus=corpus,\n",
    "                                        id2word=dictionary, \n",
    "                                        time_slice=docs_per_time_slice, \n",
    "                                        num_topics=9)"
   ]
  },
  {
   "cell_type": "code",
   "execution_count": null,
   "id": "7cea7cb8",
   "metadata": {},
   "outputs": [],
   "source": [
    "model.save('../Data/' + path + '/Full-TMs/Models/dtm_09')"
   ]
  },
  {
   "cell_type": "code",
   "execution_count": null,
   "id": "a19a736b",
   "metadata": {},
   "outputs": [],
   "source": []
  },
  {
   "cell_type": "code",
   "execution_count": null,
   "id": "4789b089",
   "metadata": {},
   "outputs": [],
   "source": []
  },
  {
   "cell_type": "code",
   "execution_count": null,
   "id": "ad2a6f29",
   "metadata": {},
   "outputs": [],
   "source": []
  },
  {
   "cell_type": "code",
   "execution_count": 14,
   "id": "5fe1799a",
   "metadata": {},
   "outputs": [],
   "source": [
    "data = pd.DataFrame({'genres':['Drama', 'Horror,Thriller', 'Documentary', 'Drama', 'Documentary']})"
   ]
  },
  {
   "cell_type": "code",
   "execution_count": 4,
   "id": "68a878ca",
   "metadata": {},
   "outputs": [
    {
     "data": {
      "text/plain": [
       "0    0\n",
       "1    0\n",
       "2    1\n",
       "3    0\n",
       "4    1\n",
       "Name: genres, dtype: int64"
      ]
     },
     "execution_count": 4,
     "metadata": {},
     "output_type": "execute_result"
    }
   ],
   "source": [
    "Documentary = data.genres.apply(lambda x: int('Documentary' in x))\n",
    "Documentary"
   ]
  },
  {
   "cell_type": "code",
   "execution_count": 10,
   "id": "77588b83",
   "metadata": {},
   "outputs": [],
   "source": [
    "data = data.iloc[0:1, :]"
   ]
  },
  {
   "cell_type": "code",
   "execution_count": 13,
   "id": "7a6d68ae",
   "metadata": {},
   "outputs": [],
   "source": [
    "def return_series():\n",
    "    return pd.Series(['a', 'b', 'c'])"
   ]
  },
  {
   "cell_type": "code",
   "execution_count": 15,
   "id": "f42e2463",
   "metadata": {},
   "outputs": [
    {
     "ename": "TypeError",
     "evalue": "return_series() takes 0 positional arguments but 1 was given",
     "output_type": "error",
     "traceback": [
      "\u001b[0;31m---------------------------------------------------------------------------\u001b[0m",
      "\u001b[0;31mTypeError\u001b[0m                                 Traceback (most recent call last)",
      "\u001b[0;32m/tmp/ipykernel_3188/2202018833.py\u001b[0m in \u001b[0;36m<module>\u001b[0;34m\u001b[0m\n\u001b[0;32m----> 1\u001b[0;31m \u001b[0mdata\u001b[0m\u001b[0;34m[\u001b[0m\u001b[0;34m[\u001b[0m\u001b[0;34m'a'\u001b[0m\u001b[0;34m,\u001b[0m \u001b[0;34m'b'\u001b[0m\u001b[0;34m,\u001b[0m\u001b[0;34m'e'\u001b[0m\u001b[0;34m]\u001b[0m\u001b[0;34m]\u001b[0m \u001b[0;34m=\u001b[0m \u001b[0mdata\u001b[0m\u001b[0;34m.\u001b[0m\u001b[0mgenres\u001b[0m\u001b[0;34m.\u001b[0m\u001b[0mapply\u001b[0m\u001b[0;34m(\u001b[0m\u001b[0mreturn_series\u001b[0m\u001b[0;34m)\u001b[0m\u001b[0;34m\u001b[0m\u001b[0;34m\u001b[0m\u001b[0m\n\u001b[0m",
      "\u001b[0;32m~/anaconda3/envs/thesis/lib/python3.9/site-packages/pandas/core/series.py\u001b[0m in \u001b[0;36mapply\u001b[0;34m(self, func, convert_dtype, args, **kwargs)\u001b[0m\n\u001b[1;32m   4355\u001b[0m         \u001b[0mdtype\u001b[0m\u001b[0;34m:\u001b[0m \u001b[0mfloat64\u001b[0m\u001b[0;34m\u001b[0m\u001b[0;34m\u001b[0m\u001b[0m\n\u001b[1;32m   4356\u001b[0m         \"\"\"\n\u001b[0;32m-> 4357\u001b[0;31m         \u001b[0;32mreturn\u001b[0m \u001b[0mSeriesApply\u001b[0m\u001b[0;34m(\u001b[0m\u001b[0mself\u001b[0m\u001b[0;34m,\u001b[0m \u001b[0mfunc\u001b[0m\u001b[0;34m,\u001b[0m \u001b[0mconvert_dtype\u001b[0m\u001b[0;34m,\u001b[0m \u001b[0margs\u001b[0m\u001b[0;34m,\u001b[0m \u001b[0mkwargs\u001b[0m\u001b[0;34m)\u001b[0m\u001b[0;34m.\u001b[0m\u001b[0mapply\u001b[0m\u001b[0;34m(\u001b[0m\u001b[0;34m)\u001b[0m\u001b[0;34m\u001b[0m\u001b[0;34m\u001b[0m\u001b[0m\n\u001b[0m\u001b[1;32m   4358\u001b[0m \u001b[0;34m\u001b[0m\u001b[0m\n\u001b[1;32m   4359\u001b[0m     def _reduce(\n",
      "\u001b[0;32m~/anaconda3/envs/thesis/lib/python3.9/site-packages/pandas/core/apply.py\u001b[0m in \u001b[0;36mapply\u001b[0;34m(self)\u001b[0m\n\u001b[1;32m   1041\u001b[0m             \u001b[0;32mreturn\u001b[0m \u001b[0mself\u001b[0m\u001b[0;34m.\u001b[0m\u001b[0mapply_str\u001b[0m\u001b[0;34m(\u001b[0m\u001b[0;34m)\u001b[0m\u001b[0;34m\u001b[0m\u001b[0;34m\u001b[0m\u001b[0m\n\u001b[1;32m   1042\u001b[0m \u001b[0;34m\u001b[0m\u001b[0m\n\u001b[0;32m-> 1043\u001b[0;31m         \u001b[0;32mreturn\u001b[0m \u001b[0mself\u001b[0m\u001b[0;34m.\u001b[0m\u001b[0mapply_standard\u001b[0m\u001b[0;34m(\u001b[0m\u001b[0;34m)\u001b[0m\u001b[0;34m\u001b[0m\u001b[0;34m\u001b[0m\u001b[0m\n\u001b[0m\u001b[1;32m   1044\u001b[0m \u001b[0;34m\u001b[0m\u001b[0m\n\u001b[1;32m   1045\u001b[0m     \u001b[0;32mdef\u001b[0m \u001b[0magg\u001b[0m\u001b[0;34m(\u001b[0m\u001b[0mself\u001b[0m\u001b[0;34m)\u001b[0m\u001b[0;34m:\u001b[0m\u001b[0;34m\u001b[0m\u001b[0;34m\u001b[0m\u001b[0m\n",
      "\u001b[0;32m~/anaconda3/envs/thesis/lib/python3.9/site-packages/pandas/core/apply.py\u001b[0m in \u001b[0;36mapply_standard\u001b[0;34m(self)\u001b[0m\n\u001b[1;32m   1096\u001b[0m                 \u001b[0;31m# List[Union[Callable[..., Any], str]]]]]\"; expected\u001b[0m\u001b[0;34m\u001b[0m\u001b[0;34m\u001b[0m\u001b[0m\n\u001b[1;32m   1097\u001b[0m                 \u001b[0;31m# \"Callable[[Any], Any]\"\u001b[0m\u001b[0;34m\u001b[0m\u001b[0;34m\u001b[0m\u001b[0m\n\u001b[0;32m-> 1098\u001b[0;31m                 mapped = lib.map_infer(\n\u001b[0m\u001b[1;32m   1099\u001b[0m                     \u001b[0mvalues\u001b[0m\u001b[0;34m,\u001b[0m\u001b[0;34m\u001b[0m\u001b[0;34m\u001b[0m\u001b[0m\n\u001b[1;32m   1100\u001b[0m                     \u001b[0mf\u001b[0m\u001b[0;34m,\u001b[0m  \u001b[0;31m# type: ignore[arg-type]\u001b[0m\u001b[0;34m\u001b[0m\u001b[0;34m\u001b[0m\u001b[0m\n",
      "\u001b[0;32m~/anaconda3/envs/thesis/lib/python3.9/site-packages/pandas/_libs/lib.pyx\u001b[0m in \u001b[0;36mpandas._libs.lib.map_infer\u001b[0;34m()\u001b[0m\n",
      "\u001b[0;31mTypeError\u001b[0m: return_series() takes 0 positional arguments but 1 was given"
     ]
    }
   ],
   "source": [
    "data[['a', 'b','e']] = data.genres.apply(return_series)"
   ]
  },
  {
   "cell_type": "code",
   "execution_count": 26,
   "id": "c5eaf920",
   "metadata": {},
   "outputs": [],
   "source": [
    "movie = json.loads(movie.text, strict=False)"
   ]
  },
  {
   "cell_type": "code",
   "execution_count": 27,
   "id": "663e686a",
   "metadata": {},
   "outputs": [
    {
     "data": {
      "text/plain": [
       "'N/A'"
      ]
     },
     "execution_count": 27,
     "metadata": {},
     "output_type": "execute_result"
    }
   ],
   "source": [
    "movie.get('Rated')"
   ]
  },
  {
   "cell_type": "code",
   "execution_count": 30,
   "id": "7f362423",
   "metadata": {},
   "outputs": [
    {
     "data": {
      "text/plain": [
       "'N/A'"
      ]
     },
     "execution_count": 30,
     "metadata": {},
     "output_type": "execute_result"
    }
   ],
   "source": [
    "movie.get('BoxOffice')"
   ]
  },
  {
   "cell_type": "code",
   "execution_count": 22,
   "id": "349a4aa2",
   "metadata": {},
   "outputs": [],
   "source": [
    "import requests\n",
    "import json"
   ]
  },
  {
   "cell_type": "code",
   "execution_count": 35,
   "id": "72876600",
   "metadata": {},
   "outputs": [],
   "source": [
    "def get_movie_data(imdb_id, api_key):\n",
    "    '''\n",
    "    Gets movie data for one movie via OMDb API, using the movie's IMDb ID #,\n",
    "\n",
    "    Note that omdb api key needs to be filled above in order for this to work.\n",
    "\n",
    "    '''\n",
    "    movie = requests.get('http://www.omdbapi.com/?i=' + imdb_id + '&plot=full&apikey={}'.format(api_key), timeout=None)\n",
    "    movie = json.loads(movie.text, strict=False)\n",
    "\n",
    "    # Get Desired Data entries from OMDb dictionary:\n",
    "    rated = movie.get('Rated')\n",
    "    plot = movie.get('Plot')\n",
    "    metascore = movie.get('Metascore')\n",
    "    box_office = movie.get('BoxOffice')\n",
    "    awards = movie.get('Awards')\n",
    "\n",
    "    # Return Entries as a Series to be added as new DataFrame rows\n",
    "    return pd.Series([rated, plot, metascore, box_office, awards])"
   ]
  },
  {
   "cell_type": "code",
   "execution_count": 25,
   "id": "b570a124",
   "metadata": {},
   "outputs": [],
   "source": [
    "imdb_id = 'tt0170651'\n",
    "api_key = '8d66f32a'"
   ]
  },
  {
   "cell_type": "code",
   "execution_count": 34,
   "id": "ca102ce0",
   "metadata": {},
   "outputs": [
    {
     "data": {
      "text/plain": [
       "0    N/A\n",
       "1    N/A\n",
       "2    N/A\n",
       "3    N/A\n",
       "4    N/A\n",
       "dtype: object"
      ]
     },
     "execution_count": 34,
     "metadata": {},
     "output_type": "execute_result"
    }
   ],
   "source": [
    "get_movie_data(imdb_id)"
   ]
  },
  {
   "cell_type": "code",
   "execution_count": null,
   "id": "3657a3bb",
   "metadata": {},
   "outputs": [],
   "source": []
  }
 ],
 "metadata": {
  "kernelspec": {
   "display_name": "Python 3 (ipykernel)",
   "language": "python",
   "name": "python3"
  },
  "language_info": {
   "codemirror_mode": {
    "name": "ipython",
    "version": 3
   },
   "file_extension": ".py",
   "mimetype": "text/x-python",
   "name": "python",
   "nbconvert_exporter": "python",
   "pygments_lexer": "ipython3",
   "version": "3.9.7"
  }
 },
 "nbformat": 4,
 "nbformat_minor": 5
}
