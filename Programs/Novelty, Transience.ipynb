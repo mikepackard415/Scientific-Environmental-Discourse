{
 "cells": [
  {
   "cell_type": "code",
   "execution_count": 7,
   "id": "975d5e92",
   "metadata": {},
   "outputs": [],
   "source": [
    "import pandas as pd\n",
    "import numpy as np"
   ]
  },
  {
   "cell_type": "code",
   "execution_count": 8,
   "id": "c7c33b21",
   "metadata": {},
   "outputs": [],
   "source": [
    "lda100 = pd.read_pickle('../Data/Environmental Discourse/Full-TMs/lda100_loadings.pkl')"
   ]
  },
  {
   "cell_type": "code",
   "execution_count": 5,
   "id": "3c46f722",
   "metadata": {},
   "outputs": [],
   "source": [
    "# Let's first try to set it up with a window size of 1 year, so dropping 2005 and 2021"
   ]
  },
  {
   "cell_type": "code",
   "execution_count": 9,
   "id": "ad020ee3",
   "metadata": {},
   "outputs": [],
   "source": [
    "first_day = lda100.date.min()\n",
    "lda100['date_index'] = lda100.date.apply(lambda x: (x - first_day) / np.timedelta64(1, 'D'))"
   ]
  },
  {
   "cell_type": "code",
   "execution_count": 10,
   "id": "f68306da",
   "metadata": {},
   "outputs": [],
   "source": [
    "current = lda100[lda100.date_index == 400].sample(1)"
   ]
  },
  {
   "cell_type": "code",
   "execution_count": 11,
   "id": "e807da11",
   "metadata": {},
   "outputs": [],
   "source": [
    "before = lda100[(current.date_index.iloc[0] - lda100.date_index < 365) &\n",
    "                (current.date_index.iloc[0] - lda100.date_index > 0)]"
   ]
  },
  {
   "cell_type": "code",
   "execution_count": 12,
   "id": "44b22e6c",
   "metadata": {},
   "outputs": [],
   "source": [
    "before_example = before.sample(1)"
   ]
  },
  {
   "cell_type": "code",
   "execution_count": 16,
   "id": "a978957b",
   "metadata": {},
   "outputs": [],
   "source": [
    "loadings = ['topic_{}'.format(i) for i in range(100)]\n",
    "c = np.array(current[loadings])\n",
    "b = np.array(before_example[loadings])"
   ]
  },
  {
   "cell_type": "code",
   "execution_count": 17,
   "id": "be885e48",
   "metadata": {},
   "outputs": [
    {
     "name": "stderr",
     "output_type": "stream",
     "text": [
      "/tmp/ipykernel_6351/3722099466.py:1: RuntimeWarning: divide by zero encountered in true_divide\n",
      "  KLdivs = (c * np.log2(c/b)).sum(axis=1)\n",
      "/tmp/ipykernel_6351/3722099466.py:1: RuntimeWarning: invalid value encountered in true_divide\n",
      "  KLdivs = (c * np.log2(c/b)).sum(axis=1)\n",
      "/tmp/ipykernel_6351/3722099466.py:1: RuntimeWarning: divide by zero encountered in log2\n",
      "  KLdivs = (c * np.log2(c/b)).sum(axis=1)\n",
      "/tmp/ipykernel_6351/3722099466.py:1: RuntimeWarning: invalid value encountered in multiply\n",
      "  KLdivs = (c * np.log2(c/b)).sum(axis=1)\n"
     ]
    }
   ],
   "source": [
    "KLdivs = (c * np.log2(c/b)).sum(axis=1)"
   ]
  },
  {
   "cell_type": "code",
   "execution_count": 20,
   "id": "1dff8dd6",
   "metadata": {},
   "outputs": [
    {
     "name": "stderr",
     "output_type": "stream",
     "text": [
      "/tmp/ipykernel_6351/3697610823.py:1: RuntimeWarning: divide by zero encountered in true_divide\n",
      "  c/b\n",
      "/tmp/ipykernel_6351/3697610823.py:1: RuntimeWarning: invalid value encountered in true_divide\n",
      "  c/b\n"
     ]
    },
    {
     "data": {
      "text/plain": [
       "array([[       nan,        nan, 0.        ,        nan,        nan,\n",
       "        0.94919446,        inf,        nan,        nan,        nan,\n",
       "               nan,        nan,        nan,        nan,        nan,\n",
       "               nan,        nan,        nan,        nan,        nan,\n",
       "               nan,        nan,        nan,        nan, 0.        ,\n",
       "               nan, 0.76598276,        nan,        nan,        nan,\n",
       "               nan,        inf, 0.        ,        nan,        nan,\n",
       "               inf,        inf,        nan, 3.01667699,        nan,\n",
       "               inf,        nan,        nan,        nan,        inf,\n",
       "               nan, 0.        ,        nan,        nan,        nan,\n",
       "               nan,        inf,        inf,        nan, 0.        ,\n",
       "               nan,        inf,        nan,        nan,        nan,\n",
       "               nan,        nan,        inf,        nan,        nan,\n",
       "               nan,        nan,        inf,        nan, 0.        ,\n",
       "               nan,        nan, 0.        ,        nan, 0.        ,\n",
       "        0.        ,        nan,        nan,        nan,        nan,\n",
       "               nan, 0.        ,        nan, 0.        ,        inf,\n",
       "               nan, 0.        ,        inf,        nan,        nan,\n",
       "               inf,        nan,        nan,        nan,        nan,\n",
       "               inf, 0.        ,        nan,        nan,        nan]])"
      ]
     },
     "execution_count": 20,
     "metadata": {},
     "output_type": "execute_result"
    }
   ],
   "source": [
    "c/b"
   ]
  },
  {
   "cell_type": "code",
   "execution_count": 69,
   "id": "4a99a174",
   "metadata": {},
   "outputs": [
    {
     "name": "stderr",
     "output_type": "stream",
     "text": [
      "/tmp/ipykernel_1854/3450576420.py:2: RuntimeWarning: divide by zero encountered in true_divide\n",
      "  return np.sum(np.where(p != 0, p * np.log(p / q), 0))\n",
      "/tmp/ipykernel_1854/3450576420.py:2: RuntimeWarning: invalid value encountered in true_divide\n",
      "  return np.sum(np.where(p != 0, p * np.log(p / q), 0))\n",
      "/tmp/ipykernel_1854/3450576420.py:2: RuntimeWarning: divide by zero encountered in log\n",
      "  return np.sum(np.where(p != 0, p * np.log(p / q), 0))\n",
      "/tmp/ipykernel_1854/3450576420.py:2: RuntimeWarning: invalid value encountered in multiply\n",
      "  return np.sum(np.where(p != 0, p * np.log(p / q), 0))\n"
     ]
    },
    {
     "data": {
      "text/plain": [
       "inf"
      ]
     },
     "execution_count": 69,
     "metadata": {},
     "output_type": "execute_result"
    }
   ],
   "source": [
    "def kl_divergence(p, q):\n",
    "    return np.sum(np.where(p != 0, p * np.log(p / q), 0))\n",
    "\n",
    "\n",
    "kl_divergence(np.array(current[loadings]), np.array(before_example[loadings]))"
   ]
  },
  {
   "cell_type": "code",
   "execution_count": 65,
   "id": "7096d025",
   "metadata": {},
   "outputs": [
    {
     "data": {
      "text/plain": [
       "Timestamp('2006-02-04 00:00:00')"
      ]
     },
     "execution_count": 65,
     "metadata": {},
     "output_type": "execute_result"
    }
   ],
   "source": [
    "before.date.max()"
   ]
  },
  {
   "cell_type": "code",
   "execution_count": 39,
   "id": "55eeb93b",
   "metadata": {},
   "outputs": [],
   "source": [
    "example = lda100.sample(1, random_state=2)"
   ]
  },
  {
   "cell_type": "code",
   "execution_count": 45,
   "id": "1190150d",
   "metadata": {},
   "outputs": [],
   "source": [
    "lda100['in_window'] = lda100.date.apply(lambda x: x - example.date)"
   ]
  },
  {
   "cell_type": "code",
   "execution_count": 46,
   "id": "9e3e2bb9",
   "metadata": {},
   "outputs": [
    {
     "data": {
      "text/html": [
       "<div>\n",
       "<style scoped>\n",
       "    .dataframe tbody tr th:only-of-type {\n",
       "        vertical-align: middle;\n",
       "    }\n",
       "\n",
       "    .dataframe tbody tr th {\n",
       "        vertical-align: top;\n",
       "    }\n",
       "\n",
       "    .dataframe thead th {\n",
       "        text-align: right;\n",
       "    }\n",
       "</style>\n",
       "<table border=\"1\" class=\"dataframe\">\n",
       "  <thead>\n",
       "    <tr style=\"text-align: right;\">\n",
       "      <th></th>\n",
       "      <th>source</th>\n",
       "      <th>url</th>\n",
       "      <th>title</th>\n",
       "      <th>date</th>\n",
       "      <th>text</th>\n",
       "      <th>year</th>\n",
       "      <th>topic_0</th>\n",
       "      <th>topic_1</th>\n",
       "      <th>topic_2</th>\n",
       "      <th>topic_3</th>\n",
       "      <th>...</th>\n",
       "      <th>topic_93</th>\n",
       "      <th>topic_94</th>\n",
       "      <th>topic_95</th>\n",
       "      <th>topic_96</th>\n",
       "      <th>topic_97</th>\n",
       "      <th>topic_98</th>\n",
       "      <th>topic_99</th>\n",
       "      <th>example_date</th>\n",
       "      <th>date_diff</th>\n",
       "      <th>in_window</th>\n",
       "    </tr>\n",
       "  </thead>\n",
       "  <tbody>\n",
       "    <tr>\n",
       "      <th>4</th>\n",
       "      <td>Resilience</td>\n",
       "      <td>https://www.resilience.org/stories/2021-07-12/...</td>\n",
       "      <td>The show is over</td>\n",
       "      <td>2021-07-12</td>\n",
       "      <td>This piece was originally published on July 1,...</td>\n",
       "      <td>2021</td>\n",
       "      <td>0.000000</td>\n",
       "      <td>0.000000</td>\n",
       "      <td>0.000000</td>\n",
       "      <td>0.0</td>\n",
       "      <td>...</td>\n",
       "      <td>0.000000</td>\n",
       "      <td>0.000000</td>\n",
       "      <td>0.028328</td>\n",
       "      <td>0.0</td>\n",
       "      <td>0.0</td>\n",
       "      <td>0.000000</td>\n",
       "      <td>0.0</td>\n",
       "      <td>2011-06-04</td>\n",
       "      <td>NaT</td>\n",
       "      <td>3691 days</td>\n",
       "    </tr>\n",
       "    <tr>\n",
       "      <th>5</th>\n",
       "      <td>Resilience</td>\n",
       "      <td>https://www.resilience.org/stories/2021-07-12/...</td>\n",
       "      <td>The Energy Bulletin Weekly 12 July 2021</td>\n",
       "      <td>2021-07-12</td>\n",
       "      <td>Tom Whipple and Steve Andrews, Editors Quote o...</td>\n",
       "      <td>2021</td>\n",
       "      <td>0.000000</td>\n",
       "      <td>0.000000</td>\n",
       "      <td>0.012800</td>\n",
       "      <td>0.0</td>\n",
       "      <td>...</td>\n",
       "      <td>0.000000</td>\n",
       "      <td>0.000000</td>\n",
       "      <td>0.015830</td>\n",
       "      <td>0.0</td>\n",
       "      <td>0.0</td>\n",
       "      <td>0.000000</td>\n",
       "      <td>0.0</td>\n",
       "      <td>2011-06-04</td>\n",
       "      <td>NaT</td>\n",
       "      <td>3691 days</td>\n",
       "    </tr>\n",
       "    <tr>\n",
       "      <th>7</th>\n",
       "      <td>Resilience</td>\n",
       "      <td>https://www.resilience.org/stories/2021-07-12/...</td>\n",
       "      <td>On the Existence of A Man</td>\n",
       "      <td>2021-07-12</td>\n",
       "      <td>Philosophers and mystics throughout time have ...</td>\n",
       "      <td>2021</td>\n",
       "      <td>0.000000</td>\n",
       "      <td>0.000000</td>\n",
       "      <td>0.000000</td>\n",
       "      <td>0.0</td>\n",
       "      <td>...</td>\n",
       "      <td>0.000000</td>\n",
       "      <td>0.086977</td>\n",
       "      <td>0.000000</td>\n",
       "      <td>0.0</td>\n",
       "      <td>0.0</td>\n",
       "      <td>0.000000</td>\n",
       "      <td>0.0</td>\n",
       "      <td>2011-06-04</td>\n",
       "      <td>NaT</td>\n",
       "      <td>3691 days</td>\n",
       "    </tr>\n",
       "    <tr>\n",
       "      <th>9</th>\n",
       "      <td>Resilience</td>\n",
       "      <td>https://www.resilience.org/stories/2021-07-08/...</td>\n",
       "      <td>Climate change, domination and the temporality...</td>\n",
       "      <td>2021-07-08</td>\n",
       "      <td>[Being masters or possesors of nature] has no ...</td>\n",
       "      <td>2021</td>\n",
       "      <td>0.000000</td>\n",
       "      <td>0.000000</td>\n",
       "      <td>0.000000</td>\n",
       "      <td>0.0</td>\n",
       "      <td>...</td>\n",
       "      <td>0.000000</td>\n",
       "      <td>0.122581</td>\n",
       "      <td>0.000000</td>\n",
       "      <td>0.0</td>\n",
       "      <td>0.0</td>\n",
       "      <td>0.000000</td>\n",
       "      <td>0.0</td>\n",
       "      <td>2011-06-04</td>\n",
       "      <td>NaT</td>\n",
       "      <td>3687 days</td>\n",
       "    </tr>\n",
       "    <tr>\n",
       "      <th>11</th>\n",
       "      <td>Resilience</td>\n",
       "      <td>https://www.resilience.org/stories/2021-07-07/...</td>\n",
       "      <td>Least worst politics</td>\n",
       "      <td>2021-07-07</td>\n",
       "      <td>In Parts I and II of A Small Farm Future I bui...</td>\n",
       "      <td>2021</td>\n",
       "      <td>0.000000</td>\n",
       "      <td>0.057836</td>\n",
       "      <td>0.000000</td>\n",
       "      <td>0.0</td>\n",
       "      <td>...</td>\n",
       "      <td>0.000000</td>\n",
       "      <td>0.269669</td>\n",
       "      <td>0.000000</td>\n",
       "      <td>0.0</td>\n",
       "      <td>0.0</td>\n",
       "      <td>0.000000</td>\n",
       "      <td>0.0</td>\n",
       "      <td>2011-06-04</td>\n",
       "      <td>NaT</td>\n",
       "      <td>3686 days</td>\n",
       "    </tr>\n",
       "    <tr>\n",
       "      <th>...</th>\n",
       "      <td>...</td>\n",
       "      <td>...</td>\n",
       "      <td>...</td>\n",
       "      <td>...</td>\n",
       "      <td>...</td>\n",
       "      <td>...</td>\n",
       "      <td>...</td>\n",
       "      <td>...</td>\n",
       "      <td>...</td>\n",
       "      <td>...</td>\n",
       "      <td>...</td>\n",
       "      <td>...</td>\n",
       "      <td>...</td>\n",
       "      <td>...</td>\n",
       "      <td>...</td>\n",
       "      <td>...</td>\n",
       "      <td>...</td>\n",
       "      <td>...</td>\n",
       "      <td>...</td>\n",
       "      <td>...</td>\n",
       "      <td>...</td>\n",
       "    </tr>\n",
       "    <tr>\n",
       "      <th>95874</th>\n",
       "      <td>Grist</td>\n",
       "      <td>https://grist.org/article/the-digital-life/</td>\n",
       "      <td>The Digital Life</td>\n",
       "      <td>2013-11-03</td>\n",
       "      <td>Inventor and futurist Ray Kurzweil predicts th...</td>\n",
       "      <td>2013</td>\n",
       "      <td>0.000000</td>\n",
       "      <td>0.000000</td>\n",
       "      <td>0.010208</td>\n",
       "      <td>0.0</td>\n",
       "      <td>...</td>\n",
       "      <td>0.000000</td>\n",
       "      <td>0.000000</td>\n",
       "      <td>0.016374</td>\n",
       "      <td>0.0</td>\n",
       "      <td>0.0</td>\n",
       "      <td>0.000000</td>\n",
       "      <td>0.0</td>\n",
       "      <td>2011-06-04</td>\n",
       "      <td>NaT</td>\n",
       "      <td>883 days</td>\n",
       "    </tr>\n",
       "    <tr>\n",
       "      <th>95875</th>\n",
       "      <td>Grist</td>\n",
       "      <td>https://grist.org/article/2011-10-10-discarded...</td>\n",
       "      <td>Discarded glass bottles can be used to c...</td>\n",
       "      <td>2011-10-11</td>\n",
       "      <td>\\tUnless you're stranded on a desert island...</td>\n",
       "      <td>2011</td>\n",
       "      <td>0.000000</td>\n",
       "      <td>0.000000</td>\n",
       "      <td>0.000000</td>\n",
       "      <td>0.0</td>\n",
       "      <td>...</td>\n",
       "      <td>0.000000</td>\n",
       "      <td>0.000000</td>\n",
       "      <td>0.000000</td>\n",
       "      <td>0.0</td>\n",
       "      <td>0.0</td>\n",
       "      <td>0.000000</td>\n",
       "      <td>0.0</td>\n",
       "      <td>2011-06-04</td>\n",
       "      <td>NaT</td>\n",
       "      <td>129 days</td>\n",
       "    </tr>\n",
       "    <tr>\n",
       "      <th>95878</th>\n",
       "      <td>Grist</td>\n",
       "      <td>https://grist.org/article/at-least-the-citys-b...</td>\n",
       "      <td>At Least the City’s Back Up and … Oh</td>\n",
       "      <td>2006-01-31</td>\n",
       "      <td>Gulf Coast ecosystems slow to bounce back afte...</td>\n",
       "      <td>2006</td>\n",
       "      <td>0.000000</td>\n",
       "      <td>0.000000</td>\n",
       "      <td>0.000000</td>\n",
       "      <td>0.0</td>\n",
       "      <td>...</td>\n",
       "      <td>0.375563</td>\n",
       "      <td>0.000000</td>\n",
       "      <td>0.000000</td>\n",
       "      <td>0.0</td>\n",
       "      <td>0.0</td>\n",
       "      <td>0.000000</td>\n",
       "      <td>0.0</td>\n",
       "      <td>2011-06-04</td>\n",
       "      <td>NaT</td>\n",
       "      <td>-1950 days</td>\n",
       "    </tr>\n",
       "    <tr>\n",
       "      <th>95879</th>\n",
       "      <td>Grist</td>\n",
       "      <td>https://grist.org/climate-policy/2011-08-02-st...</td>\n",
       "      <td>Storm chaser: Sen. Durbin carries on lon...</td>\n",
       "      <td>2011-08-03</td>\n",
       "      <td>Sen. Dick Durbin. Cross-posted from ThinkProgr...</td>\n",
       "      <td>2011</td>\n",
       "      <td>0.047527</td>\n",
       "      <td>0.100274</td>\n",
       "      <td>0.041664</td>\n",
       "      <td>0.0</td>\n",
       "      <td>...</td>\n",
       "      <td>0.000000</td>\n",
       "      <td>0.000000</td>\n",
       "      <td>0.000000</td>\n",
       "      <td>0.0</td>\n",
       "      <td>0.0</td>\n",
       "      <td>0.100116</td>\n",
       "      <td>0.0</td>\n",
       "      <td>2011-06-04</td>\n",
       "      <td>NaT</td>\n",
       "      <td>60 days</td>\n",
       "    </tr>\n",
       "    <tr>\n",
       "      <th>95881</th>\n",
       "      <td>Grist</td>\n",
       "      <td>https://grist.org/article/where-are-the-giants/</td>\n",
       "      <td>On the leadership qualities the next pre...</td>\n",
       "      <td>2007-11-30</td>\n",
       "      <td>This post is by ClimateProgress guest blogger ...</td>\n",
       "      <td>2007</td>\n",
       "      <td>0.000000</td>\n",
       "      <td>0.000000</td>\n",
       "      <td>0.000000</td>\n",
       "      <td>0.0</td>\n",
       "      <td>...</td>\n",
       "      <td>0.000000</td>\n",
       "      <td>0.000000</td>\n",
       "      <td>0.090008</td>\n",
       "      <td>0.0</td>\n",
       "      <td>0.0</td>\n",
       "      <td>0.000000</td>\n",
       "      <td>0.0</td>\n",
       "      <td>2011-06-04</td>\n",
       "      <td>NaT</td>\n",
       "      <td>-1282 days</td>\n",
       "    </tr>\n",
       "  </tbody>\n",
       "</table>\n",
       "<p>46881 rows × 109 columns</p>\n",
       "</div>"
      ],
      "text/plain": [
       "           source                                                url  \\\n",
       "4      Resilience  https://www.resilience.org/stories/2021-07-12/...   \n",
       "5      Resilience  https://www.resilience.org/stories/2021-07-12/...   \n",
       "7      Resilience  https://www.resilience.org/stories/2021-07-12/...   \n",
       "9      Resilience  https://www.resilience.org/stories/2021-07-08/...   \n",
       "11     Resilience  https://www.resilience.org/stories/2021-07-07/...   \n",
       "...           ...                                                ...   \n",
       "95874       Grist        https://grist.org/article/the-digital-life/   \n",
       "95875       Grist  https://grist.org/article/2011-10-10-discarded...   \n",
       "95878       Grist  https://grist.org/article/at-least-the-citys-b...   \n",
       "95879       Grist  https://grist.org/climate-policy/2011-08-02-st...   \n",
       "95881       Grist    https://grist.org/article/where-are-the-giants/   \n",
       "\n",
       "                                                   title       date  \\\n",
       "4                                       The show is over 2021-07-12   \n",
       "5                The Energy Bulletin Weekly 12 July 2021 2021-07-12   \n",
       "7                              On the Existence of A Man 2021-07-12   \n",
       "9      Climate change, domination and the temporality... 2021-07-08   \n",
       "11                                  Least worst politics 2021-07-07   \n",
       "...                                                  ...        ...   \n",
       "95874                               The Digital Life     2013-11-03   \n",
       "95875        Discarded glass bottles can be used to c... 2011-10-11   \n",
       "95878           At Least the City’s Back Up and … Oh     2006-01-31   \n",
       "95879        Storm chaser: Sen. Durbin carries on lon... 2011-08-03   \n",
       "95881        On the leadership qualities the next pre... 2007-11-30   \n",
       "\n",
       "                                                    text  year   topic_0  \\\n",
       "4      This piece was originally published on July 1,...  2021  0.000000   \n",
       "5      Tom Whipple and Steve Andrews, Editors Quote o...  2021  0.000000   \n",
       "7      Philosophers and mystics throughout time have ...  2021  0.000000   \n",
       "9      [Being masters or possesors of nature] has no ...  2021  0.000000   \n",
       "11     In Parts I and II of A Small Farm Future I bui...  2021  0.000000   \n",
       "...                                                  ...   ...       ...   \n",
       "95874  Inventor and futurist Ray Kurzweil predicts th...  2013  0.000000   \n",
       "95875     \\tUnless you're stranded on a desert island...  2011  0.000000   \n",
       "95878  Gulf Coast ecosystems slow to bounce back afte...  2006  0.000000   \n",
       "95879  Sen. Dick Durbin. Cross-posted from ThinkProgr...  2011  0.047527   \n",
       "95881  This post is by ClimateProgress guest blogger ...  2007  0.000000   \n",
       "\n",
       "        topic_1   topic_2  topic_3  ...  topic_93  topic_94  topic_95  \\\n",
       "4      0.000000  0.000000      0.0  ...  0.000000  0.000000  0.028328   \n",
       "5      0.000000  0.012800      0.0  ...  0.000000  0.000000  0.015830   \n",
       "7      0.000000  0.000000      0.0  ...  0.000000  0.086977  0.000000   \n",
       "9      0.000000  0.000000      0.0  ...  0.000000  0.122581  0.000000   \n",
       "11     0.057836  0.000000      0.0  ...  0.000000  0.269669  0.000000   \n",
       "...         ...       ...      ...  ...       ...       ...       ...   \n",
       "95874  0.000000  0.010208      0.0  ...  0.000000  0.000000  0.016374   \n",
       "95875  0.000000  0.000000      0.0  ...  0.000000  0.000000  0.000000   \n",
       "95878  0.000000  0.000000      0.0  ...  0.375563  0.000000  0.000000   \n",
       "95879  0.100274  0.041664      0.0  ...  0.000000  0.000000  0.000000   \n",
       "95881  0.000000  0.000000      0.0  ...  0.000000  0.000000  0.090008   \n",
       "\n",
       "       topic_96  topic_97  topic_98  topic_99  example_date  date_diff  \\\n",
       "4           0.0       0.0  0.000000       0.0    2011-06-04        NaT   \n",
       "5           0.0       0.0  0.000000       0.0    2011-06-04        NaT   \n",
       "7           0.0       0.0  0.000000       0.0    2011-06-04        NaT   \n",
       "9           0.0       0.0  0.000000       0.0    2011-06-04        NaT   \n",
       "11          0.0       0.0  0.000000       0.0    2011-06-04        NaT   \n",
       "...         ...       ...       ...       ...           ...        ...   \n",
       "95874       0.0       0.0  0.000000       0.0    2011-06-04        NaT   \n",
       "95875       0.0       0.0  0.000000       0.0    2011-06-04        NaT   \n",
       "95878       0.0       0.0  0.000000       0.0    2011-06-04        NaT   \n",
       "95879       0.0       0.0  0.100116       0.0    2011-06-04        NaT   \n",
       "95881       0.0       0.0  0.000000       0.0    2011-06-04        NaT   \n",
       "\n",
       "       in_window  \n",
       "4      3691 days  \n",
       "5      3691 days  \n",
       "7      3691 days  \n",
       "9      3687 days  \n",
       "11     3686 days  \n",
       "...          ...  \n",
       "95874   883 days  \n",
       "95875   129 days  \n",
       "95878 -1950 days  \n",
       "95879    60 days  \n",
       "95881 -1282 days  \n",
       "\n",
       "[46881 rows x 109 columns]"
      ]
     },
     "execution_count": 46,
     "metadata": {},
     "output_type": "execute_result"
    }
   ],
   "source": [
    "lda100"
   ]
  },
  {
   "cell_type": "code",
   "execution_count": null,
   "id": "2c1baa62",
   "metadata": {},
   "outputs": [],
   "source": []
  },
  {
   "cell_type": "code",
   "execution_count": null,
   "id": "bec56465",
   "metadata": {},
   "outputs": [],
   "source": []
  },
  {
   "cell_type": "code",
   "execution_count": 20,
   "id": "095af586",
   "metadata": {},
   "outputs": [],
   "source": [
    "lda100['example_date'] = example1.date\n",
    "lda100['date_diff'] = (lda100.date - lda100.example_date)"
   ]
  },
  {
   "cell_type": "code",
   "execution_count": 37,
   "id": "275e2349",
   "metadata": {},
   "outputs": [],
   "source": [
    "dates_df = pd.DataFrame({'date1':list(lda100.date.sample(10)), \n",
    "                         'date2':list(lda100.date.sample(1)) * 10})"
   ]
  },
  {
   "cell_type": "code",
   "execution_count": 38,
   "id": "8cec1b1a",
   "metadata": {},
   "outputs": [
    {
     "data": {
      "text/html": [
       "<div>\n",
       "<style scoped>\n",
       "    .dataframe tbody tr th:only-of-type {\n",
       "        vertical-align: middle;\n",
       "    }\n",
       "\n",
       "    .dataframe tbody tr th {\n",
       "        vertical-align: top;\n",
       "    }\n",
       "\n",
       "    .dataframe thead th {\n",
       "        text-align: right;\n",
       "    }\n",
       "</style>\n",
       "<table border=\"1\" class=\"dataframe\">\n",
       "  <thead>\n",
       "    <tr style=\"text-align: right;\">\n",
       "      <th></th>\n",
       "      <th>date1</th>\n",
       "      <th>date2</th>\n",
       "      <th>diff</th>\n",
       "    </tr>\n",
       "  </thead>\n",
       "  <tbody>\n",
       "    <tr>\n",
       "      <th>0</th>\n",
       "      <td>2012-07-19</td>\n",
       "      <td>2019-02-07</td>\n",
       "      <td>-2394 days</td>\n",
       "    </tr>\n",
       "    <tr>\n",
       "      <th>1</th>\n",
       "      <td>2009-09-22</td>\n",
       "      <td>2019-02-07</td>\n",
       "      <td>-3425 days</td>\n",
       "    </tr>\n",
       "    <tr>\n",
       "      <th>2</th>\n",
       "      <td>2009-08-01</td>\n",
       "      <td>2019-02-07</td>\n",
       "      <td>-3477 days</td>\n",
       "    </tr>\n",
       "    <tr>\n",
       "      <th>3</th>\n",
       "      <td>2013-03-05</td>\n",
       "      <td>2019-02-07</td>\n",
       "      <td>-2165 days</td>\n",
       "    </tr>\n",
       "    <tr>\n",
       "      <th>4</th>\n",
       "      <td>2008-08-08</td>\n",
       "      <td>2019-02-07</td>\n",
       "      <td>-3835 days</td>\n",
       "    </tr>\n",
       "    <tr>\n",
       "      <th>5</th>\n",
       "      <td>2011-05-31</td>\n",
       "      <td>2019-02-07</td>\n",
       "      <td>-2809 days</td>\n",
       "    </tr>\n",
       "    <tr>\n",
       "      <th>6</th>\n",
       "      <td>2006-06-01</td>\n",
       "      <td>2019-02-07</td>\n",
       "      <td>-4634 days</td>\n",
       "    </tr>\n",
       "    <tr>\n",
       "      <th>7</th>\n",
       "      <td>2014-02-06</td>\n",
       "      <td>2019-02-07</td>\n",
       "      <td>-1827 days</td>\n",
       "    </tr>\n",
       "    <tr>\n",
       "      <th>8</th>\n",
       "      <td>2020-06-11</td>\n",
       "      <td>2019-02-07</td>\n",
       "      <td>490 days</td>\n",
       "    </tr>\n",
       "    <tr>\n",
       "      <th>9</th>\n",
       "      <td>2011-10-19</td>\n",
       "      <td>2019-02-07</td>\n",
       "      <td>-2668 days</td>\n",
       "    </tr>\n",
       "  </tbody>\n",
       "</table>\n",
       "</div>"
      ],
      "text/plain": [
       "       date1      date2       diff\n",
       "0 2012-07-19 2019-02-07 -2394 days\n",
       "1 2009-09-22 2019-02-07 -3425 days\n",
       "2 2009-08-01 2019-02-07 -3477 days\n",
       "3 2013-03-05 2019-02-07 -2165 days\n",
       "4 2008-08-08 2019-02-07 -3835 days\n",
       "5 2011-05-31 2019-02-07 -2809 days\n",
       "6 2006-06-01 2019-02-07 -4634 days\n",
       "7 2014-02-06 2019-02-07 -1827 days\n",
       "8 2020-06-11 2019-02-07   490 days\n",
       "9 2011-10-19 2019-02-07 -2668 days"
      ]
     },
     "execution_count": 38,
     "metadata": {},
     "output_type": "execute_result"
    }
   ],
   "source": [
    "dates_df['diff'] = dates_df.date1 - dates_df.date2\n",
    "dates_df"
   ]
  },
  {
   "cell_type": "code",
   "execution_count": null,
   "id": "5a36608d",
   "metadata": {},
   "outputs": [],
   "source": []
  },
  {
   "cell_type": "code",
   "execution_count": 27,
   "id": "c639de18",
   "metadata": {},
   "outputs": [
    {
     "data": {
      "text/plain": [
       "78482   2011-06-04\n",
       "Name: date, dtype: datetime64[ns]"
      ]
     },
     "execution_count": 27,
     "metadata": {},
     "output_type": "execute_result"
    }
   ],
   "source": [
    "example1.date"
   ]
  },
  {
   "cell_type": "code",
   "execution_count": 21,
   "id": "6f2ef674",
   "metadata": {},
   "outputs": [
    {
     "data": {
      "text/plain": [
       "4       NaT\n",
       "5       NaT\n",
       "7       NaT\n",
       "9       NaT\n",
       "11      NaT\n",
       "         ..\n",
       "95874   NaT\n",
       "95875   NaT\n",
       "95878   NaT\n",
       "95879   NaT\n",
       "95881   NaT\n",
       "Name: date_diff, Length: 46881, dtype: timedelta64[ns]"
      ]
     },
     "execution_count": 21,
     "metadata": {},
     "output_type": "execute_result"
    }
   ],
   "source": [
    "lda100.date_diff"
   ]
  },
  {
   "cell_type": "code",
   "execution_count": 8,
   "id": "60e26a08",
   "metadata": {},
   "outputs": [
    {
     "data": {
      "text/plain": [
       "78482   2011-06-04\n",
       "Name: date, dtype: datetime64[ns]"
      ]
     },
     "execution_count": 8,
     "metadata": {},
     "output_type": "execute_result"
    }
   ],
   "source": []
  },
  {
   "cell_type": "code",
   "execution_count": null,
   "id": "26b557e5",
   "metadata": {},
   "outputs": [],
   "source": []
  },
  {
   "cell_type": "code",
   "execution_count": 5,
   "id": "da45136e",
   "metadata": {},
   "outputs": [
    {
     "ename": "ModuleNotFoundError",
     "evalue": "No module named 'lda'",
     "output_type": "error",
     "traceback": [
      "\u001b[0;31m---------------------------------------------------------------------------\u001b[0m",
      "\u001b[0;31mModuleNotFoundError\u001b[0m                       Traceback (most recent call last)",
      "\u001b[0;32m/tmp/ipykernel_6351/3218218253.py\u001b[0m in \u001b[0;36m<module>\u001b[0;34m\u001b[0m\n\u001b[1;32m      5\u001b[0m \u001b[0;34m\u001b[0m\u001b[0m\n\u001b[1;32m      6\u001b[0m \u001b[0;32mfrom\u001b[0m \u001b[0msklearn\u001b[0m\u001b[0;34m.\u001b[0m\u001b[0mfeature_extraction\u001b[0m\u001b[0;34m.\u001b[0m\u001b[0mtext\u001b[0m \u001b[0;32mimport\u001b[0m \u001b[0mCountVectorizer\u001b[0m\u001b[0;34m\u001b[0m\u001b[0;34m\u001b[0m\u001b[0m\n\u001b[0;32m----> 7\u001b[0;31m \u001b[0;32mfrom\u001b[0m \u001b[0mlda\u001b[0m \u001b[0;32mimport\u001b[0m \u001b[0mLDA\u001b[0m\u001b[0;34m\u001b[0m\u001b[0;34m\u001b[0m\u001b[0m\n\u001b[0m\u001b[1;32m      8\u001b[0m \u001b[0;34m\u001b[0m\u001b[0m\n\u001b[1;32m      9\u001b[0m \u001b[0;32mdef\u001b[0m \u001b[0mlearn_topics\u001b[0m\u001b[0;34m(\u001b[0m\u001b[0mtextpath\u001b[0m\u001b[0;34m,\u001b[0m \u001b[0mtopicnum\u001b[0m\u001b[0;34m)\u001b[0m\u001b[0;34m:\u001b[0m\u001b[0;34m\u001b[0m\u001b[0;34m\u001b[0m\u001b[0m\n",
      "\u001b[0;31mModuleNotFoundError\u001b[0m: No module named 'lda'"
     ]
    }
   ],
   "source": [
    "import argparse\n",
    "import os\n",
    "\n",
    "import numpy as np\n",
    "\n",
    "from sklearn.feature_extraction.text import CountVectorizer\n",
    "from lda import LDA\n",
    "\n",
    "def learn_topics(textpath, topicnum):\n",
    "\n",
    "    with open(textpath) as f:\n",
    "        texts = f.readlines()\n",
    "\n",
    "    # Get vocabulary and word counts.  Use the top 10,000 most frequent\n",
    "    # lowercase unigrams with at least 3 alphabetical, non-numeric characters,\n",
    "    # punctuation treated as separators.\n",
    "    CVzer = CountVectorizer(token_pattern=r\"(?u)\\b[^\\W\\d]{3,}\\b\",\n",
    "                            max_features=None,\n",
    "                            lowercase=True)\n",
    "    doc_vcnts = CVzer.fit_transform(texts)\n",
    "    vocabulary = CVzer.get_feature_names()\n",
    "\n",
    "    # Learn topics.  Refresh conrols print frequency.\n",
    "    lda_model = LDA(topicnum, n_iter=8000, refresh=2000) \n",
    "    doc_topic = lda_model.fit_transform(doc_vcnts)\n",
    "    topic_word = lda_model.topic_word_\n",
    "\n",
    "    return doc_topic, topic_word, vocabulary"
   ]
  },
  {
   "cell_type": "code",
   "execution_count": null,
   "id": "ee049107",
   "metadata": {},
   "outputs": [],
   "source": []
  }
 ],
 "metadata": {
  "kernelspec": {
   "display_name": "Python 3 (ipykernel)",
   "language": "python",
   "name": "python3"
  },
  "language_info": {
   "codemirror_mode": {
    "name": "ipython",
    "version": 3
   },
   "file_extension": ".py",
   "mimetype": "text/x-python",
   "name": "python",
   "nbconvert_exporter": "python",
   "pygments_lexer": "ipython3",
   "version": "3.9.7"
  }
 },
 "nbformat": 4,
 "nbformat_minor": 5
}
