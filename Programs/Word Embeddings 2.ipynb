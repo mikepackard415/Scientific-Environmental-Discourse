{
 "cells": [
  {
   "cell_type": "markdown",
   "id": "81269a6a",
   "metadata": {},
   "source": [
    "In this notebook, I am exploring why the aigned environmental discourse word2vec models seem to show a cyclical trend in the amount of semantic change occurring over time."
   ]
  },
  {
   "cell_type": "code",
   "execution_count": 221,
   "id": "bef790b3",
   "metadata": {},
   "outputs": [],
   "source": [
    "import pandas as pd\n",
    "import gensim\n",
    "import numpy as np\n",
    "import sklearn.metrics.pairwise #For cosine similarity\n",
    "import plotly.express as px\n",
    "from gensim import corpora, models\n",
    "import copy\n",
    "import matplotlib.pyplot as plt"
   ]
  },
  {
   "cell_type": "markdown",
   "id": "6e7ee1e7",
   "metadata": {},
   "source": [
    "#### Read in data, create work embeddings, print vocabulary sizes\n",
    " - Question: How can the vocab sizes here be in the 15,000 range, when I reported previously that the vocab size for the entire dataset (before reduction) was closer to 200,000?"
   ]
  },
  {
   "cell_type": "code",
   "execution_count": 2,
   "id": "fc26a50d",
   "metadata": {},
   "outputs": [],
   "source": [
    "dfs = []\n",
    "for i in range(5,22):\n",
    "    j = str(i)\n",
    "    k = (2 - len(j)) * '0' + j\n",
    "    dfs.append(pd.read_pickle('../Data/Environmental Discourse/sent_processing/env_processed_sent_{}.pkl'.format(k)))"
   ]
  },
  {
   "cell_type": "code",
   "execution_count": 84,
   "id": "e71b17fc",
   "metadata": {},
   "outputs": [],
   "source": [
    "we_a = []\n",
    "for df in dfs:\n",
    "    we_a.append(gensim.models.word2vec.Word2Vec(df.sents.sum(), sg=1))"
   ]
  },
  {
   "cell_type": "code",
   "execution_count": 85,
   "id": "21198bf6",
   "metadata": {},
   "outputs": [],
   "source": [
    "for i, w in enumerate(we_a):\n",
    "    w.save(\"../Data/Environmental Discourse/Word-Embeddings/w2v_raw_{}\".format(i+2005))"
   ]
  },
  {
   "cell_type": "code",
   "execution_count": 202,
   "id": "688b424f",
   "metadata": {},
   "outputs": [],
   "source": [
    "we_b = []\n",
    "for i in range(2005, 2022):\n",
    "    we_b.append(gensim.models.word2vec.Word2Vec.load(\n",
    "        '../Data/Environmental Discourse/Word-Embeddings/w2v_raw_{}'.format(i)\n",
    "    ))"
   ]
  },
  {
   "cell_type": "code",
   "execution_count": 203,
   "id": "20ecead8",
   "metadata": {},
   "outputs": [],
   "source": [
    "vocab_sizes = [len(e.wv.index_to_key) for e in we_b]"
   ]
  },
  {
   "cell_type": "code",
   "execution_count": 204,
   "id": "3fb6d9ca",
   "metadata": {},
   "outputs": [
    {
     "data": {
      "text/plain": [
       "[15674,\n",
       " 18258,\n",
       " 20541,\n",
       " 20519,\n",
       " 22688,\n",
       " 24743,\n",
       " 23656,\n",
       " 23096,\n",
       " 21252,\n",
       " 19358,\n",
       " 19922,\n",
       " 17845,\n",
       " 16737,\n",
       " 15900,\n",
       " 16735,\n",
       " 18845,\n",
       " 19454]"
      ]
     },
     "execution_count": 204,
     "metadata": {},
     "output_type": "execute_result"
    }
   ],
   "source": [
    "vocab_sizes"
   ]
  },
  {
   "cell_type": "markdown",
   "id": "8243e3ae",
   "metadata": {},
   "source": [
    "#### Understand the alignment process step-by-step from 2005 to 2006"
   ]
  },
  {
   "cell_type": "code",
   "execution_count": 128,
   "id": "28c12428",
   "metadata": {},
   "outputs": [
    {
     "data": {
      "text/plain": [
       "True"
      ]
     },
     "execution_count": 128,
     "metadata": {},
     "output_type": "execute_result"
    }
   ],
   "source": [
    "np.all(we_b[0].wv[0] == we_a[0].wv[0])"
   ]
  },
  {
   "cell_type": "code",
   "execution_count": 113,
   "id": "a0e39737",
   "metadata": {},
   "outputs": [
    {
     "name": "stdout",
     "output_type": "stream",
     "text": [
      "15674\n",
      "18258\n"
     ]
    }
   ],
   "source": [
    "m5 = we_b[0]\n",
    "m6 = we_b[1]\n",
    "\n",
    "# Step 1: Get vocabularies in sets\n",
    "vocab_05 = set(m5.wv.index_to_key)\n",
    "vocab_06 = set(m6.wv.index_to_key)\n",
    "\n",
    "print(len(vocab_05))\n",
    "print(len(vocab_06))"
   ]
  },
  {
   "cell_type": "code",
   "execution_count": 114,
   "id": "340dc2f2",
   "metadata": {},
   "outputs": [
    {
     "name": "stdout",
     "output_type": "stream",
     "text": [
      "13104\n"
     ]
    }
   ],
   "source": [
    "# Step 2: Get common vocabulary:\n",
    "common_vocab = vocab_05 & vocab_06\n",
    "\n",
    "print(len(common_vocab))"
   ]
  },
  {
   "cell_type": "code",
   "execution_count": 116,
   "id": "3e52e239",
   "metadata": {},
   "outputs": [
    {
     "name": "stdout",
     "output_type": "stream",
     "text": [
      "2570\n",
      "5154\n"
     ]
    }
   ],
   "source": [
    "# Step 3: Check if vocab is identical\n",
    "if not vocab_05 - common_vocab and not vocab_06 - common_vocab:\n",
    "    print(\"Identical vocab\")\n",
    "\n",
    "print(len(vocab_05 - common_vocab))\n",
    "print(len(vocab_06 - common_vocab))"
   ]
  },
  {
   "cell_type": "code",
   "execution_count": 117,
   "id": "ac4b3d17",
   "metadata": {},
   "outputs": [
    {
     "name": "stdout",
     "output_type": "stream",
     "text": [
      "['oil', 'energy', 'world', 'new', 'people', 'said', 'years', 'like', 'environmental', 'year', 'time', '$', 'gas', 'prices', 'u.s', 'says', 'way', 'use', 'fuel', 'percent']\n"
     ]
    }
   ],
   "source": [
    "# Step 4: Sort by frequency across both corpora\n",
    "common_vocab = list(common_vocab)\n",
    "common_vocab.sort(key=lambda w: m5.wv.get_vecattr(w, \"count\") + m6.wv.get_vecattr(w, \"count\"), reverse=True)\n",
    "\n",
    "print(common_vocab[:20])"
   ]
  },
  {
   "cell_type": "code",
   "execution_count": 119,
   "id": "32070bd8",
   "metadata": {},
   "outputs": [],
   "source": [
    "# Step 5: Create an index list for all the common vocab words in the 2005 corpus\n",
    "indices = [m5.wv.key_to_index[w] for w in common_vocab]\n",
    "\n",
    "# Step 6: Replace vectors attribute with only the vectors for the common vocab\n",
    "old_arr = m5.wv.vectors\n",
    "new_arr = np.array([old_arr[index] for index in indices])\n",
    "m5.wv.vectors = new_arr\n",
    "\n",
    "# Step 7: Replace key_to_index and index_to_key attributes with common vocab\n",
    "new_key_to_index = {}\n",
    "new_index_to_key = []\n",
    "for new_index, key in enumerate(common_vocab):\n",
    "    new_key_to_index[key] = new_index\n",
    "    new_index_to_key.append(key)\n",
    "m5.wv.key_to_index = new_key_to_index\n",
    "m5.wv.index_to_key = new_index_to_key"
   ]
  },
  {
   "cell_type": "code",
   "execution_count": 121,
   "id": "45652692",
   "metadata": {},
   "outputs": [],
   "source": [
    "# Step 8: Repeat steps 5-7 for the 2006 corpus\n",
    "indices = [m6.wv.key_to_index[w] for w in common_vocab]\n",
    "\n",
    "old_arr = m6.wv.vectors\n",
    "new_arr = np.array([old_arr[index] for index in indices])\n",
    "m6.wv.vectors = new_arr\n",
    "\n",
    "new_key_to_index = {}\n",
    "new_index_to_key = []\n",
    "for new_index, key in enumerate(common_vocab):\n",
    "    new_key_to_index[key] = new_index\n",
    "    new_index_to_key.append(key)\n",
    "m6.wv.key_to_index = new_key_to_index\n",
    "m6.wv.index_to_key = new_index_to_key"
   ]
  },
  {
   "cell_type": "code",
   "execution_count": 122,
   "id": "8a76d392",
   "metadata": {},
   "outputs": [],
   "source": [
    "# Step 9: Update the normed vectors, save them to their own objects\n",
    "m5.wv.fill_norms(force=True)\n",
    "m6.wv.fill_norms(force=True)\n",
    "\n",
    "m5_normed_vectors = m5.wv.get_normed_vectors()\n",
    "m6_normed_vectors = m6.wv.get_normed_vectors()"
   ]
  },
  {
   "cell_type": "code",
   "execution_count": 124,
   "id": "f5f680b5",
   "metadata": {},
   "outputs": [
    {
     "name": "stdout",
     "output_type": "stream",
     "text": [
      "(100, 100)\n"
     ]
    }
   ],
   "source": [
    "# Step 10: Get the dot-product\n",
    "m = m6_normed_vectors.T.dot(m5_normed_vectors) \n",
    "\n",
    "print(m.shape)"
   ]
  },
  {
   "cell_type": "code",
   "execution_count": 125,
   "id": "1afbeef3",
   "metadata": {},
   "outputs": [
    {
     "name": "stdout",
     "output_type": "stream",
     "text": [
      "(100, 100)\n",
      "(100, 100)\n"
     ]
    }
   ],
   "source": [
    "# Step 11: Singular value decomposition of the dot-product\n",
    "u, _, v = np.linalg.svd(m)\n",
    "\n",
    "print(u.shape)\n",
    "print(v.shape)"
   ]
  },
  {
   "cell_type": "code",
   "execution_count": 126,
   "id": "3f18e4df",
   "metadata": {},
   "outputs": [
    {
     "name": "stdout",
     "output_type": "stream",
     "text": [
      "(100, 100)\n"
     ]
    }
   ],
   "source": [
    "# Step 12: Dot product the outputs of SVD\n",
    "ortho = u.dot(v) \n",
    "\n",
    "print(ortho.shape)"
   ]
  },
  {
   "cell_type": "code",
   "execution_count": 127,
   "id": "f5284810",
   "metadata": {},
   "outputs": [],
   "source": [
    "# Step 13: Replace 2006 vectors with aligned vectors, fill norms again\n",
    "m6.wv.vectors = (m6.wv.vectors).dot(ortho)\n",
    "m6.wv.fill_norms(force=True)"
   ]
  },
  {
   "cell_type": "markdown",
   "id": "26b778d8",
   "metadata": {},
   "source": [
    "#### Reproduce the cyclical pattern observed in previous analysis"
   ]
  },
  {
   "cell_type": "code",
   "execution_count": 205,
   "id": "f079ab02",
   "metadata": {},
   "outputs": [],
   "source": [
    "aligned_pairs = []\n",
    "for a, b in zip(we_b[:-1], we_b[1:]):\n",
    "    aligned_pairs.append(align(a, b))"
   ]
  },
  {
   "cell_type": "code",
   "execution_count": 153,
   "id": "7b1e2935",
   "metadata": {},
   "outputs": [],
   "source": [
    "lda = models.ldamodel.LdaModel.load('../Data/Environmental Discourse/Full-TMs/Models/tm_09')\n",
    "\n",
    "topwords = []\n",
    "for topicNum in range(lda.num_topics):\n",
    "    topwords += [w for w, p in lda.show_topic(topicNum, 20)]\n",
    "    \n",
    "topwords = list(set(topwords))"
   ]
  },
  {
   "cell_type": "code",
   "execution_count": 215,
   "id": "942fee19",
   "metadata": {},
   "outputs": [],
   "source": [
    "divs = pd.DataFrame(index=range(2006,2022))\n",
    "\n",
    "unfound_words = [[] for _ in range(len(aligned_pairs))]\n",
    "for w in topwords:\n",
    "    d = []\n",
    "    for i, (a, b) in enumerate(aligned_pairs):\n",
    "        try:\n",
    "            d.append(findDivergence(w, a, b))\n",
    "        except KeyError:\n",
    "            d.append(np.nan)\n",
    "            unfound_words[i].append(w)\n",
    "            \n",
    "    divs[w] = d\n",
    "    divs = divs.copy()"
   ]
  },
  {
   "cell_type": "code",
   "execution_count": 227,
   "id": "f83d3132",
   "metadata": {},
   "outputs": [
    {
     "data": {
      "image/png": "[encoded data removed]",
      "text/plain": [
       "<Figure size 432x288 with 1 Axes>"
      ]
     },
     "metadata": {
      "needs_background": "light"
     },
     "output_type": "display_data"
    }
   ],
   "source": [
    "plt.plot(divs.mean(axis=1))\n",
    "plt.title(\"Average Semantic Change of Words Found in top-20 lists\");"
   ]
  },
  {
   "cell_type": "code",
   "execution_count": 234,
   "id": "426a862e",
   "metadata": {},
   "outputs": [],
   "source": [
    "divs = pd.DataFrame(index=range(2006,2022))\n",
    "means = []\n",
    "\n",
    "for i, (a, b) in enumerate(aligned_pairs):\n",
    "    words = a.wv.index_to_key\n",
    "    d = []\n",
    "    for w in words:\n",
    "        try:\n",
    "            d.append(findDivergence(w, a, b))\n",
    "        except KeyError:\n",
    "            print(\"error\")\n",
    "            d.append(np.nan)\n",
    "            \n",
    "    means.append(sum(d)/len(d))\n",
    "divs['avg'] = means"
   ]
  },
  {
   "cell_type": "code",
   "execution_count": 237,
   "id": "249ded9d",
   "metadata": {},
   "outputs": [
    {
     "data": {
      "image/png": "[encoded data removed]",
      "text/plain": [
       "<Figure size 432x288 with 1 Axes>"
      ]
     },
     "metadata": {
      "needs_background": "light"
     },
     "output_type": "display_data"
    }
   ],
   "source": [
    "plt.plot(divs)\n",
    "plt.title(\"Average Semantic Change of All Words\");"
   ]
  },
  {
   "cell_type": "code",
   "execution_count": 239,
   "id": "53d9e7e9",
   "metadata": {},
   "outputs": [],
   "source": [
    "sets = []\n",
    "for a, b in aligned_pairs:\n",
    "    sets.append(set(a.wv.index_to_key))"
   ]
  },
  {
   "cell_type": "code",
   "execution_count": 250,
   "id": "af52db50",
   "metadata": {},
   "outputs": [],
   "source": [
    "common_vocab = list(sets[0] & sets[1]  & sets[2]  & sets[3]  & sets[4]  & sets[5]  & sets[6]  & sets[7]  & sets[8] &\n",
    "    sets[9] & sets[10] & sets[11] & sets[12] & sets[13] & sets[14] & sets[15])"
   ]
  },
  {
   "cell_type": "code",
   "execution_count": 251,
   "id": "68be8cee",
   "metadata": {},
   "outputs": [],
   "source": [
    "divs = pd.DataFrame(index=range(2006,2022))\n",
    "means = []\n",
    "\n",
    "for i, (a, b) in enumerate(aligned_pairs):\n",
    "    d = []\n",
    "    for w in common_vocab:\n",
    "        try:\n",
    "            d.append(findDivergence(w, a, b))\n",
    "        except KeyError:\n",
    "            print(\"error\")\n",
    "            d.append(np.nan)\n",
    "            \n",
    "    means.append(sum(d)/len(d))\n",
    "divs['avg'] = means"
   ]
  },
  {
   "cell_type": "code",
   "execution_count": 252,
   "id": "df42777c",
   "metadata": {},
   "outputs": [
    {
     "data": {
      "image/png": "[encoded data removed]",
      "text/plain": [
       "<Figure size 432x288 with 1 Axes>"
      ]
     },
     "metadata": {
      "needs_background": "light"
     },
     "output_type": "display_data"
    }
   ],
   "source": [
    "plt.plot(divs)\n",
    "plt.title(\"Average Semantic Change of Words that are Common to All Years\");"
   ]
  },
  {
   "cell_type": "code",
   "execution_count": 206,
   "id": "a5249e9c",
   "metadata": {},
   "outputs": [
    {
     "name": "stdout",
     "output_type": "stream",
     "text": [
      "13104 13104\n",
      "15040 15040\n",
      "16015 16015\n",
      "16848 16848\n",
      "18432 18432\n",
      "18746 18746\n",
      "18393 18393\n",
      "17317 17317\n",
      "15741 15741\n",
      "15134 15134\n",
      "14472 14472\n",
      "13272 13272\n",
      "12725 12725\n",
      "12781 12781\n",
      "13911 13911\n",
      "14805 14805\n"
     ]
    }
   ],
   "source": [
    "for a, b in aligned_pairs[:1]: \n",
    "    print(len(a.wv.index_to_key), len(b.wv.index_to_key))"
   ]
  },
  {
   "cell_type": "markdown",
   "id": "800227f7",
   "metadata": {},
   "source": [
    "#### Question: Vocabulary Size\n",
    "As shown below, the words captured by the dictionary but not captured by the word2vec models are mostly misspellings or tokenization failures"
   ]
  },
  {
   "cell_type": "code",
   "execution_count": 267,
   "id": "9120f5c5",
   "metadata": {},
   "outputs": [
    {
     "name": "stdout",
     "output_type": "stream",
     "text": [
      "51003\n"
     ]
    }
   ],
   "source": [
    "all_words = []\n",
    "for em in we_b:\n",
    "    #print(len(em.wv.index_to_key))\n",
    "    all_words += em.wv.index_to_key\n",
    "\n",
    "print(len(set(all_words)))"
   ]
  },
  {
   "cell_type": "code",
   "execution_count": 268,
   "id": "3006541d",
   "metadata": {},
   "outputs": [],
   "source": [
    "env = pd.concat(dfs)"
   ]
  },
  {
   "cell_type": "code",
   "execution_count": 271,
   "id": "da17e819",
   "metadata": {},
   "outputs": [],
   "source": [
    "dictionary = corpora.Dictionary([i for j in env.sents for i in j])"
   ]
  },
  {
   "cell_type": "code",
   "execution_count": 272,
   "id": "3fd1c215",
   "metadata": {},
   "outputs": [
    {
     "data": {
      "text/plain": [
       "249005"
      ]
     },
     "execution_count": 272,
     "metadata": {},
     "output_type": "execute_result"
    }
   ],
   "source": [
    "len(dictionary.token2id)"
   ]
  },
  {
   "cell_type": "code",
   "execution_count": 288,
   "id": "f1935b01",
   "metadata": {},
   "outputs": [
    {
     "name": "stdout",
     "output_type": "stream",
     "text": [
      "['miasole', 'comptrollerprepare', 'energycross', 'blueberrry', 'telegrams', 'fieldsstarted', 'crespin', 'provisioner', 'zinner', 'audobon', 'www.nrdc.org', 'olwen', 'variolation', 'lindstedt', 'corley', 'iconoclasts', 'kigbara', 'zedong', 'stryker', 'salwood', 'gas-\\xadguzzling', 'ocupante', 'peloponnese', 'eod', 'heiress', 'gas—187', 'premeditation', 'kimberlyfaye', 'schnauzergovernment', 'outre']\n"
     ]
    }
   ],
   "source": [
    "print(list(set(dictionary.token2id.keys()) - set(all_words))[:30])"
   ]
  },
  {
   "cell_type": "markdown",
   "id": "21d53834",
   "metadata": {},
   "source": [
    "#### How have certain words moved?"
   ]
  },
  {
   "cell_type": "code",
   "execution_count": 294,
   "id": "5334e7e6",
   "metadata": {},
   "outputs": [
    {
     "data": {
      "text/plain": [
       "[('organizing', 0.8444629907608032),\n",
       " ('declaration', 0.8322417140007019),\n",
       " ('advocacy', 0.8202457427978516),\n",
       " ('public_health', 0.8170891404151917),\n",
       " ('constitutional', 0.8154703974723816),\n",
       " ('extremists', 0.8129733204841614),\n",
       " ('criticized', 0.8117318749427795),\n",
       " ('judges', 0.8105897307395935),\n",
       " ('fiat', 0.809802770614624),\n",
       " ('peace', 0.8096796870231628)]"
      ]
     },
     "execution_count": 294,
     "metadata": {},
     "output_type": "execute_result"
    }
   ],
   "source": [
    "we_b[0].wv.most_similar('justice')"
   ]
  },
  {
   "cell_type": "code",
   "execution_count": 295,
   "id": "f29456ba",
   "metadata": {},
   "outputs": [
    {
     "data": {
      "text/plain": [
       "[('ej', 0.7341620326042175),\n",
       " ('environmental', 0.7330613732337952),\n",
       " ('equity', 0.7202240824699402),\n",
       " ('inclusion', 0.7198963165283203),\n",
       " ('racial', 0.7192055583000183),\n",
       " ('advocates', 0.7062668204307556),\n",
       " ('equality', 0.6881920695304871),\n",
       " ('campaigned', 0.685377836227417),\n",
       " ('immigration', 0.6757542490959167),\n",
       " ('ministries', 0.6719401478767395)]"
      ]
     },
     "execution_count": 295,
     "metadata": {},
     "output_type": "execute_result"
    }
   ],
   "source": [
    "we_b[-1].wv.most_similar('justice')"
   ]
  },
  {
   "cell_type": "code",
   "execution_count": 293,
   "id": "5533fabd",
   "metadata": {},
   "outputs": [
    {
     "data": {
      "text/plain": [
       "[<matplotlib.lines.Line2D at 0x7f7b7f86f280>]"
      ]
     },
     "execution_count": 293,
     "metadata": {},
     "output_type": "execute_result"
    },
    {
     "data": {
      "image/png": "[encoded data removed]",
      "text/plain": [
       "<Figure size 432x288 with 1 Axes>"
      ]
     },
     "metadata": {
      "needs_background": "light"
     },
     "output_type": "display_data"
    }
   ],
   "source": [
    "extraction_justice = [we.wv.distance('extraction', 'justice') for we in we_b]\n",
    "plt.plot(extraction_justice)"
   ]
  },
  {
   "cell_type": "code",
   "execution_count": null,
   "id": "7b3d90ff",
   "metadata": {},
   "outputs": [],
   "source": []
  },
  {
   "cell_type": "code",
   "execution_count": null,
   "id": "46294ed8",
   "metadata": {},
   "outputs": [],
   "source": []
  },
  {
   "cell_type": "code",
   "execution_count": 54,
   "id": "cc963f21",
   "metadata": {},
   "outputs": [],
   "source": [
    "for word in we_06.wv.key_to_index.keys():\n",
    "    if sum(we_06.wv[word] - a_06.wv[word]) != 0:\n",
    "        print(word)"
   ]
  },
  {
   "cell_type": "code",
   "execution_count": 259,
   "id": "72ca28b8",
   "metadata": {},
   "outputs": [],
   "source": [
    "def findDivergence(word, embedding1, embedding2):\n",
    "    \n",
    "    div = 1 - sklearn.metrics.pairwise.cosine_similarity(np.expand_dims(embedding1.wv[word], axis = 0), \n",
    "                                                         np.expand_dims(embedding2.wv[word], axis = 0))[0,0]\n",
    "    return div\n",
    "\n",
    "def findMostDivergent(embedding1, embedding2):\n",
    "    words = list(embedding1.wv.index_to_key) + list(embedding2.wv.index_to_key)\n",
    "    words = set(words)\n",
    "    #print(\"Found {} words to compare\".format(len(words)))\n",
    "    return sorted([(w, findDivergence(w, embedding1, embedding2)) for w in words], key = lambda x: x[1], reverse=True)"
   ]
  },
  {
   "cell_type": "code",
   "execution_count": 201,
   "id": "876deda1",
   "metadata": {},
   "outputs": [],
   "source": [
    "def align(base_embed, other_embed, words=None):\n",
    "    \"\"\"\n",
    "    Original script: https://gist.github.com/quadrismegistus/09a93e219a6ffc4f216fb85235535faf\n",
    "    Procrustes align two gensim word2vec models (to allow for comparison between same word across models).\n",
    "    Code ported from HistWords <https://github.com/williamleif/histwords> by William Hamilton <wleif@stanford.edu>.\n",
    "        \n",
    "    First, intersect the vocabularies (see `intersection_align_gensim` documentation).\n",
    "    Then do the alignment on the other_embed model.\n",
    "    Replace the other_embed model's syn0 and syn0norm numpy matrices with the aligned version.\n",
    "    Return other_embed.\n",
    "    If `words` is set, intersect the two models' vocabulary with the vocabulary in words (see `intersection_align_gensim` documentation).\n",
    "    \"\"\"\n",
    "\n",
    "    # patch by Richard So [https://twitter.com/richardjeanso) (thanks!) to update this code for new version of gensim\n",
    "    base_embed = copy.deepcopy(base_embed)\n",
    "    other_embed = copy.deepcopy(other_embed)\n",
    "\n",
    "    # make sure vocabulary and indices are aligned\n",
    "    in_base_embed, in_other_embed = intersection_align_gensim(base_embed, other_embed, words=words)\n",
    "    \n",
    "    # get the (normalized) embedding matrices\n",
    "    in_base_embed.wv.fill_norms(force=True)\n",
    "    in_other_embed.wv.fill_norms(force=True)\n",
    "    \n",
    "    base_vecs = in_base_embed.wv.get_normed_vectors()\n",
    "    other_vecs = in_other_embed.wv.get_normed_vectors()\n",
    "\n",
    "    # just a matrix dot product with numpy\n",
    "    m = other_vecs.T.dot(base_vecs) \n",
    "    # SVD method from numpy\n",
    "    u, _, v = np.linalg.svd(m)\n",
    "    # another matrix operation\n",
    "    ortho = u.dot(v) \n",
    "    # Replace original array with modified one, i.e. multiplying the embedding matrix by \"ortho\"\n",
    "    other_embed.wv.vectors = (other_embed.wv.vectors).dot(ortho)\n",
    "    other_embed.wv.fill_norms(force=True)\n",
    "     \n",
    "    \n",
    "    return base_embed, other_embed\n",
    "\n",
    "def intersection_align_gensim(m1, m2, words=None):\n",
    "    \"\"\"\n",
    "    Intersect two gensim word2vec models, m1 and m2.\n",
    "    Only the shared vocabulary between them is kept.\n",
    "    If 'words' is set (as list or set), then the vocabulary is intersected with this list as well.\n",
    "    Indices are re-organized from 0..N in order of descending frequency (=sum of counts from both m1 and m2).\n",
    "    These indices correspond to the new syn0 and syn0norm objects in both gensim models:\n",
    "        -- so that Row 0 of m1.syn0 will be for the same word as Row 0 of m2.syn0\n",
    "        -- you can find the index of any word on the .index2word list: model.index2word.index(word) => 2\n",
    "    The .vocab dictionary is also updated for each model, preserving the count but updating the index.\n",
    "    \"\"\"\n",
    "\n",
    "    # Get the vocab for each model\n",
    "    vocab_m1 = set(m1.wv.index_to_key)\n",
    "    vocab_m2 = set(m2.wv.index_to_key)\n",
    "\n",
    "    # Find the common vocabulary\n",
    "    common_vocab = vocab_m1 & vocab_m2\n",
    "    if words: common_vocab &= set(words)\n",
    "\n",
    "    # If no alignment necessary because vocab is identical...\n",
    "    if not vocab_m1 - common_vocab and not vocab_m2 - common_vocab:\n",
    "        print(\"What?\")\n",
    "        return (m1,m2)\n",
    "\n",
    "    # Otherwise sort by frequency (summed for both)\n",
    "    common_vocab = list(common_vocab)\n",
    "    common_vocab.sort(key=lambda w: m1.wv.get_vecattr(w, \"count\") + m2.wv.get_vecattr(w, \"count\"), reverse=True)\n",
    "    # print(len(common_vocab))\n",
    "\n",
    "    # Then for each model...\n",
    "    for m in [m1, m2]:\n",
    "        #print(\"starting\")\n",
    "        # Replace old syn0norm array with new one (with common vocab)\n",
    "        indices = [m.wv.key_to_index[w] for w in common_vocab]\n",
    "        #print(indices)\n",
    "        old_arr = m.wv.vectors\n",
    "        new_arr = np.array([old_arr[index] for index in indices])\n",
    "        m.wv.vectors = new_arr\n",
    "\n",
    "        # Replace old vocab dictionary with new one (with common vocab)\n",
    "        # and old index2word with new one\n",
    "        new_key_to_index = {}\n",
    "        new_index_to_key = []\n",
    "        for new_index, key in enumerate(common_vocab):\n",
    "            new_key_to_index[key] = new_index\n",
    "            new_index_to_key.append(key)\n",
    "        m.wv.key_to_index = new_key_to_index\n",
    "        m.wv.index_to_key = new_index_to_key\n",
    "        \n",
    "        #print(len(m.wv.key_to_index), len(m.wv.vectors))\n",
    "        \n",
    "    return (m1,m2)"
   ]
  },
  {
   "cell_type": "code",
   "execution_count": null,
   "id": "2e9c12da",
   "metadata": {},
   "outputs": [],
   "source": []
  }
 ],
 "metadata": {
  "kernelspec": {
   "display_name": "Python 3 (ipykernel)",
   "language": "python",
   "name": "python3"
  },
  "language_info": {
   "codemirror_mode": {
    "name": "ipython",
    "version": 3
   },
   "file_extension": ".py",
   "mimetype": "text/x-python",
   "name": "python",
   "nbconvert_exporter": "python",
   "pygments_lexer": "ipython3",
   "version": "3.9.7"
  }
 },
 "nbformat": 4,
 "nbformat_minor": 5
}
