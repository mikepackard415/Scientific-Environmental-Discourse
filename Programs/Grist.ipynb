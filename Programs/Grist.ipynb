{
 "cells": [
  {
   "cell_type": "code",
   "execution_count": 1,
   "id": "88552eed",
   "metadata": {},
   "outputs": [],
   "source": [
    "import requests\n",
    "from bs4 import BeautifulSoup\n",
    "import pandas as pd"
   ]
  },
  {
   "cell_type": "code",
   "execution_count": 4,
   "id": "bf502a0d",
   "metadata": {},
   "outputs": [],
   "source": [
    "user_agent = 'Mozilla/5.0 (Windows NT 10.0; Win64; x64) AppleWebKit/537.36 (KHTML, like Gecko) Chrome/91.0.4472.114 Safari/537.36'\n",
    "referer = 'https://www.resilience.org/latest-articles/'\n",
    "headers = {'User-Agent': user_agent, 'referer':referer}"
   ]
  },
  {
   "cell_type": "code",
   "execution_count": 6,
   "id": "380f53b5",
   "metadata": {},
   "outputs": [],
   "source": [
    "topic_page = 'https://grist.org/all-topics/'\n",
    "response = requests.get(topic_page, headers=headers)"
   ]
  },
  {
   "cell_type": "code",
   "execution_count": 8,
   "id": "c474fe9e",
   "metadata": {},
   "outputs": [],
   "source": [
    "soup = BeautifulSoup(response.text, 'html.parser')"
   ]
  },
  {
   "cell_type": "code",
   "execution_count": 20,
   "id": "e20cdbda",
   "metadata": {},
   "outputs": [],
   "source": [
    "topics = ['https://grist.org' + e['href'] for e in soup.find_all('a', {'class':'topic-listing__topic-link'})]"
   ]
  },
  {
   "cell_type": "code",
   "execution_count": 80,
   "id": "3fa619a3",
   "metadata": {},
   "outputs": [
    {
     "ename": "IndexError",
     "evalue": "list index out of range",
     "output_type": "error",
     "traceback": [
      "\u001b[0;31m---------------------------------------------------------------------------\u001b[0m",
      "\u001b[0;31mIndexError\u001b[0m                                Traceback (most recent call last)",
      "\u001b[0;32m/tmp/ipykernel_202/1427128664.py\u001b[0m in \u001b[0;36m<module>\u001b[0;34m\u001b[0m\n\u001b[1;32m      4\u001b[0m     \u001b[0mresponse\u001b[0m \u001b[0;34m=\u001b[0m \u001b[0mrequests\u001b[0m\u001b[0;34m.\u001b[0m\u001b[0mget\u001b[0m\u001b[0;34m(\u001b[0m\u001b[0mtopic\u001b[0m\u001b[0;34m,\u001b[0m \u001b[0mheaders\u001b[0m\u001b[0;34m=\u001b[0m\u001b[0mheaders\u001b[0m\u001b[0;34m)\u001b[0m\u001b[0;34m\u001b[0m\u001b[0;34m\u001b[0m\u001b[0m\n\u001b[1;32m      5\u001b[0m     \u001b[0msoup\u001b[0m \u001b[0;34m=\u001b[0m \u001b[0mBeautifulSoup\u001b[0m\u001b[0;34m(\u001b[0m\u001b[0mresponse\u001b[0m\u001b[0;34m.\u001b[0m\u001b[0mtext\u001b[0m\u001b[0;34m,\u001b[0m \u001b[0;34m'html.parser'\u001b[0m\u001b[0;34m)\u001b[0m\u001b[0;34m\u001b[0m\u001b[0;34m\u001b[0m\u001b[0m\n\u001b[0;32m----> 6\u001b[0;31m     \u001b[0mlast_page\u001b[0m \u001b[0;34m=\u001b[0m \u001b[0mint\u001b[0m\u001b[0;34m(\u001b[0m\u001b[0msoup\u001b[0m\u001b[0;34m.\u001b[0m\u001b[0mfind_all\u001b[0m\u001b[0;34m(\u001b[0m\u001b[0;34m'li'\u001b[0m\u001b[0;34m,\u001b[0m \u001b[0;34m{\u001b[0m\u001b[0;34m'class'\u001b[0m\u001b[0;34m:\u001b[0m\u001b[0;34m'pagination__page'\u001b[0m\u001b[0;34m}\u001b[0m\u001b[0;34m)\u001b[0m\u001b[0;34m[\u001b[0m\u001b[0;34m-\u001b[0m\u001b[0;36m1\u001b[0m\u001b[0;34m]\u001b[0m\u001b[0;34m.\u001b[0m\u001b[0mtext\u001b[0m\u001b[0;34m.\u001b[0m\u001b[0mreplace\u001b[0m\u001b[0;34m(\u001b[0m\u001b[0;34m\"\\n\"\u001b[0m\u001b[0;34m,\u001b[0m \u001b[0;34m\"\"\u001b[0m\u001b[0;34m)\u001b[0m\u001b[0;34m)\u001b[0m\u001b[0;34m\u001b[0m\u001b[0;34m\u001b[0m\u001b[0m\n\u001b[0m\u001b[1;32m      7\u001b[0m \u001b[0;34m\u001b[0m\u001b[0m\n\u001b[1;32m      8\u001b[0m     \u001b[0;32mfor\u001b[0m \u001b[0mpage\u001b[0m \u001b[0;32min\u001b[0m \u001b[0mrange\u001b[0m\u001b[0;34m(\u001b[0m\u001b[0;36m1\u001b[0m\u001b[0;34m,\u001b[0m \u001b[0mlast_page\u001b[0m\u001b[0;34m+\u001b[0m\u001b[0;36m1\u001b[0m\u001b[0;34m)\u001b[0m\u001b[0;34m:\u001b[0m\u001b[0;34m\u001b[0m\u001b[0;34m\u001b[0m\u001b[0m\n",
      "\u001b[0;31mIndexError\u001b[0m: list index out of range"
     ]
    }
   ],
   "source": [
    "article_links = []\n",
    "for topic in topics:\n",
    "    \n",
    "    response = requests.get(topic, headers=headers)\n",
    "    soup = BeautifulSoup(response.text, 'html.parser')\n",
    "    last_page = int(soup.find_all('li', {'class':'pagination__page'})[-1].text.replace(\"\\n\", \"\"))\n",
    "\n",
    "    for page in range(1, last_page+1):\n",
    "        url = topic + 'page/{}/'.format(page)\n",
    "\n",
    "        response = requests.get(url, headers=headers)\n",
    "        soup = BeautifulSoup(response.text, 'html.parser')\n",
    "\n",
    "        new_links = [e['href'] for e in soup.find_all('a', {'class':'tease__link'})]\n",
    "        article_links.extend(new_links)"
   ]
  },
  {
   "cell_type": "code",
   "execution_count": null,
   "id": "1205d682",
   "metadata": {},
   "outputs": [],
   "source": [
    "article_links_unique = set(article_links)"
   ]
  },
  {
   "cell_type": "code",
   "execution_count": null,
   "id": "b6283ba7",
   "metadata": {},
   "outputs": [],
   "source": [
    "print(len(article_links))\n",
    "print(len(article_links_unique))"
   ]
  },
  {
   "cell_type": "code",
   "execution_count": 56,
   "id": "fefc9e31",
   "metadata": {},
   "outputs": [],
   "source": [
    "grist = {}\n",
    "\n",
    "for article in article_links:\n",
    "    grist[article] = get_article_data(article)"
   ]
  },
  {
   "cell_type": "code",
   "execution_count": 55,
   "id": "f97a511b",
   "metadata": {},
   "outputs": [],
   "source": [
    "def get_article_data(article):\n",
    "\n",
    "    art_dict = {}\n",
    "    \n",
    "    response = requests.get(article, headers=headers)\n",
    "    soup = BeautifulSoup(response.text, 'html.parser')\n",
    "    \n",
    "    art_dict['title']    = soup.find('h1', {'class':'topper-headings__title'}).text\n",
    "    art_dict['subtitle'] = soup.find('h2', {'class':'topper-headings__subtitle'}).text\n",
    "    art_dict['author']   = soup.find('span', {'class':'contributor-info__name'}).text\n",
    "    art_dict['date']     = soup.find('dd', {'class':'article-meta__item-value'}).text\n",
    "    art_dict['text']     = \"\".join([p.text for p in soup.find('div', {'class':'article-body js-hang-punc'}).find_all('p')])\n",
    "    \n",
    "    return art_dict"
   ]
  },
  {
   "cell_type": "code",
   "execution_count": 57,
   "id": "723f22dc",
   "metadata": {},
   "outputs": [
    {
     "name": "stdout",
     "output_type": "stream",
     "text": [
      "\n",
      "      This coastal town needs federal aid for climate adaptation. Instead it’ll get a military truck.\n",
      "    \n",
      "\n",
      "      Lessons from a year of reporting on climate solutions in Cascadia\n",
      "    \n",
      "\n",
      "      The Biden administration said its drilling-lease spree in the Gulf was court-ordered. It wasn’t.\n",
      "    \n",
      "\n",
      "      A Missouri gas company figured out how to keep its illegal pipeline running\n",
      "    \n",
      "\n",
      "      Who gets help after a hurricane or flood? FEMA will start tracking it by race\n",
      "    \n",
      "\n",
      "      Toxic Tides: Climate change expected to cause 400 toxic California sites to flood by 2100\n",
      "    \n",
      "\n",
      "      Interior’s new oil and gas leasing plan sidesteps climate action\n",
      "    \n",
      "\n",
      "      Black and Latino neighborhoods pay more for energy despite far lower emissions\n",
      "    \n"
     ]
    }
   ],
   "source": [
    "for key in grist.keys():\n",
    "    print(grist[key]['title'])"
   ]
  },
  {
   "cell_type": "code",
   "execution_count": null,
   "id": "5579e3e5",
   "metadata": {},
   "outputs": [],
   "source": []
  }
 ],
 "metadata": {
  "kernelspec": {
   "display_name": "Python 3 (ipykernel)",
   "language": "python",
   "name": "python3"
  },
  "language_info": {
   "codemirror_mode": {
    "name": "ipython",
    "version": 3
   },
   "file_extension": ".py",
   "mimetype": "text/x-python",
   "name": "python",
   "nbconvert_exporter": "python",
   "pygments_lexer": "ipython3",
   "version": "3.9.7"
  }
 },
 "nbformat": 4,
 "nbformat_minor": 5
}
