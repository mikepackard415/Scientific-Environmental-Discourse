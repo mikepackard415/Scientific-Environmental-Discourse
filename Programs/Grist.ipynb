{
 "cells": [
  {
   "cell_type": "code",
   "execution_count": 169,
   "id": "3eb2b140",
   "metadata": {},
   "outputs": [],
   "source": [
    "import requests\n",
    "from bs4 import BeautifulSoup\n",
    "import pandas as pd\n",
    "import time\n",
    "from tqdm.notebook import tqdm, trange"
   ]
  },
  {
   "cell_type": "code",
   "execution_count": 4,
   "id": "61766b04",
   "metadata": {},
   "outputs": [],
   "source": [
    "user_agent = 'Mozilla/5.0 (Windows NT 10.0; Win64; x64) AppleWebKit/537.36 (KHTML, like Gecko) Chrome/91.0.4472.114 Safari/537.36'\n",
    "referer = 'https://www.resilience.org/latest-articles/'\n",
    "headers = {'User-Agent': user_agent, 'referer':referer}"
   ]
  },
  {
   "cell_type": "code",
   "execution_count": 123,
   "id": "a9ebcba8",
   "metadata": {},
   "outputs": [],
   "source": [
    "topic_page = 'https://grist.org/all-topics/'\n",
    "response = requests.get(topic_page, headers=headers)\n",
    "soup = BeautifulSoup(response.text, 'html.parser')\n",
    "topics = ['https://grist.org' + e['href'] for e in soup.find_all('a', {'class':'topic-listing__topic-link'})]"
   ]
  },
  {
   "cell_type": "code",
   "execution_count": 126,
   "id": "d49c9660",
   "metadata": {},
   "outputs": [
    {
     "data": {
      "text/plain": [
       "'https://grist.org/video/'"
      ]
     },
     "execution_count": 126,
     "metadata": {},
     "output_type": "execute_result"
    }
   ],
   "source": [
    "# Remove some topics that don't work\n",
    "topics.pop(2)\n",
    "topics.pop(13)\n",
    "topics.pop(14)\n",
    "topics.pop(14)\n",
    "topics.pop(27)\n",
    "topics.pop(31)\n",
    "topics.pop(31)"
   ]
  },
  {
   "cell_type": "code",
   "execution_count": null,
   "id": "c8be167e",
   "metadata": {},
   "outputs": [],
   "source": [
    "article_links = []\n",
    "for topic in tqdm(topics):\n",
    "    \n",
    "    response = requests.get(topic, headers=headers)\n",
    "    soup = BeautifulSoup(response.text, 'html.parser')\n",
    "    last_page = int(soup.find_all('li', {'class':'pagination__page'})[-1].text \\\n",
    "                    .replace(\"\\n\", \"\").replace(\",\", \"\"))\n",
    "\n",
    "    for page in trange(1, last_page+1):\n",
    "        url = topic + 'page/{}/'.format(page)\n",
    "\n",
    "        response = requests.get(url, headers=headers)\n",
    "        soup = BeautifulSoup(response.text, 'html.parser')\n",
    "\n",
    "        new_links = [e['href'] for e in soup.find_all('a', {'class':'tease__link'})]\n",
    "        article_links.extend(new_links)"
   ]
  },
  {
   "cell_type": "code",
   "execution_count": 172,
   "id": "6544bc59",
   "metadata": {},
   "outputs": [
    {
     "name": "stdout",
     "output_type": "stream",
     "text": [
      "64182\n",
      "58345\n"
     ]
    }
   ],
   "source": [
    "article_links_unique = list(set(article_links))\n",
    "print(len(article_links))\n",
    "print(len(article_links_unique))"
   ]
  },
  {
   "cell_type": "code",
   "execution_count": 184,
   "id": "d25dc986",
   "metadata": {},
   "outputs": [],
   "source": [
    "def get_article_data(article):\n",
    "\n",
    "    art_dict = {'url':article}\n",
    "    \n",
    "    response = requests.get(article, headers=headers)\n",
    "    soup = BeautifulSoup(response.text, 'html.parser')\n",
    "    try:\n",
    "        art_dict['title']    = soup.find('h1', {'class':'topper-headings__title'}).text \\\n",
    "                                   .replace(\"\\n\", \"\")\n",
    "    except:\n",
    "        pass\n",
    "        #print(\"Missing title\")\n",
    "    \n",
    "    try:\n",
    "        art_dict['subtitle'] = soup.find('h2', {'class':'topper-headings__subtitle'}).text \\\n",
    "                                   .replace(\"\\n\", \"\")\n",
    "    except:\n",
    "        pass\n",
    "        #print(\"Missing subtitle\")\n",
    "    \n",
    "    try:\n",
    "        art_dict['author']   = soup.find('span', {'class':'contributor-info__name'}).text \\\n",
    "                                   .replace(\"\\n\", \"\")\n",
    "    except:\n",
    "        pass\n",
    "        #print(\"Missing author\")\n",
    "    \n",
    "    try:\n",
    "        art_dict['date']     = soup.find('dd', {'class':'article-meta__item-value'}).text\n",
    "    except:\n",
    "        pass\n",
    "        #print(\"Missing date\")\n",
    "    \n",
    "    try:\n",
    "        art_dict['text']     = \" \".join([p.text for p in soup.find('div', {'class':'article-body js-hang-punc'}) \\\n",
    "                                                            .find_all('p')])\n",
    "        #if art_dict['text'] == '':\n",
    "        #    print(\"Missing text\")\n",
    "    except:\n",
    "        pass\n",
    "        #print(\"Missing text\")    \n",
    "    \n",
    "    return art_dict"
   ]
  },
  {
   "cell_type": "code",
   "execution_count": null,
   "id": "105018c7",
   "metadata": {},
   "outputs": [
    {
     "data": {
      "application/vnd.jupyter.widget-view+json": {
       "model_id": "feeff04fa076420ba88715a06d9586e6",
       "version_major": 2,
       "version_minor": 0
      },
      "text/plain": [
       "  0%|          | 0/58345 [00:00<?, ?it/s]"
      ]
     },
     "metadata": {},
     "output_type": "display_data"
    }
   ],
   "source": [
    "grist = []\n",
    "\n",
    "for article in tqdm(article_links_unique):\n",
    "    grist.append(get_article_data(article))\n",
    "\n",
    "gr = pd.DataFrame(grist)"
   ]
  },
  {
   "cell_type": "code",
   "execution_count": 180,
   "id": "50acda52",
   "metadata": {},
   "outputs": [
    {
     "data": {
      "text/plain": [
       "32481"
      ]
     },
     "execution_count": 180,
     "metadata": {},
     "output_type": "execute_result"
    }
   ],
   "source": [
    "len(grist)"
   ]
  },
  {
   "cell_type": "code",
   "execution_count": 181,
   "id": "309dc0a5",
   "metadata": {},
   "outputs": [
    {
     "data": {
      "text/html": [
       "<div>\n",
       "<style scoped>\n",
       "    .dataframe tbody tr th:only-of-type {\n",
       "        vertical-align: middle;\n",
       "    }\n",
       "\n",
       "    .dataframe tbody tr th {\n",
       "        vertical-align: top;\n",
       "    }\n",
       "\n",
       "    .dataframe thead th {\n",
       "        text-align: right;\n",
       "    }\n",
       "</style>\n",
       "<table border=\"1\" class=\"dataframe\">\n",
       "  <thead>\n",
       "    <tr style=\"text-align: right;\">\n",
       "      <th></th>\n",
       "      <th>url</th>\n",
       "      <th>title</th>\n",
       "      <th>subtitle</th>\n",
       "      <th>author</th>\n",
       "      <th>date</th>\n",
       "      <th>text</th>\n",
       "    </tr>\n",
       "  </thead>\n",
       "  <tbody>\n",
       "    <tr>\n",
       "      <th>0</th>\n",
       "      <td>https://grist.org/living/this-guy-built-an-aut...</td>\n",
       "      <td>This guy built an authentic passenger ra...</td>\n",
       "      <td>To make this subterranean transit-geek wonderl...</td>\n",
       "      <td>Sarah Laskow</td>\n",
       "      <td>Mar 18, 2013</td>\n",
       "      <td>Kingston SubJason Shron, a self-described “tra...</td>\n",
       "    </tr>\n",
       "    <tr>\n",
       "      <th>1</th>\n",
       "      <td>https://grist.org/article/2010-03-08-cocaine-a...</td>\n",
       "      <td>Cocaine addicts are snorting their way t...</td>\n",
       "      <td>Passetti via Flickr You may snort at the news,...</td>\n",
       "      <td>Ashley Braun</td>\n",
       "      <td>Mar 09, 2010</td>\n",
       "      <td>Passetti via FlickrYou may snort at the news, ...</td>\n",
       "    </tr>\n",
       "    <tr>\n",
       "      <th>2</th>\n",
       "      <td>https://grist.org/article/2010-04-04-undergrou...</td>\n",
       "      <td>Underground school lunch blogger hits ‘G...</td>\n",
       "      <td>Still life, with spork: Mrs. Q’s snap of pre-f...</td>\n",
       "      <td>Tom Philpott</td>\n",
       "      <td>Apr 05, 2010</td>\n",
       "      <td>Still life, with spork: Mrs. Q’s snap of pre-f...</td>\n",
       "    </tr>\n",
       "    <tr>\n",
       "      <th>3</th>\n",
       "      <td>https://grist.org/article/becker-homeland/</td>\n",
       "      <td>The Homeland Is (Cough) Secure (Cough)</td>\n",
       "      <td>NaN</td>\n",
       "      <td>Suzy Becker</td>\n",
       "      <td>Feb 17, 2004</td>\n",
       "      <td></td>\n",
       "    </tr>\n",
       "    <tr>\n",
       "      <th>4</th>\n",
       "      <td>https://grist.org/article/be7/</td>\n",
       "      <td>Pretty Soon, They'll Be Selling Decaf Wa...</td>\n",
       "      <td>Rivers and groundwater are being contaminated ...</td>\n",
       "      <td>Grist staff</td>\n",
       "      <td>Mar 29, 2000</td>\n",
       "      <td>Rivers and groundwater are being contaminated...</td>\n",
       "    </tr>\n",
       "  </tbody>\n",
       "</table>\n",
       "</div>"
      ],
      "text/plain": [
       "                                                 url  \\\n",
       "0  https://grist.org/living/this-guy-built-an-aut...   \n",
       "1  https://grist.org/article/2010-03-08-cocaine-a...   \n",
       "2  https://grist.org/article/2010-04-04-undergrou...   \n",
       "3         https://grist.org/article/becker-homeland/   \n",
       "4                     https://grist.org/article/be7/   \n",
       "\n",
       "                                               title  \\\n",
       "0        This guy built an authentic passenger ra...   \n",
       "1        Cocaine addicts are snorting their way t...   \n",
       "2        Underground school lunch blogger hits ‘G...   \n",
       "3         The Homeland Is (Cough) Secure (Cough)       \n",
       "4        Pretty Soon, They'll Be Selling Decaf Wa...   \n",
       "\n",
       "                                            subtitle         author  \\\n",
       "0  To make this subterranean transit-geek wonderl...  Sarah Laskow    \n",
       "1  Passetti via Flickr You may snort at the news,...  Ashley Braun    \n",
       "2  Still life, with spork: Mrs. Q’s snap of pre-f...  Tom Philpott    \n",
       "3                                                NaN   Suzy Becker    \n",
       "4  Rivers and groundwater are being contaminated ...   Grist staff    \n",
       "\n",
       "           date                                               text  \n",
       "0  Mar 18, 2013  Kingston SubJason Shron, a self-described “tra...  \n",
       "1  Mar 09, 2010  Passetti via FlickrYou may snort at the news, ...  \n",
       "2  Apr 05, 2010  Still life, with spork: Mrs. Q’s snap of pre-f...  \n",
       "3  Feb 17, 2004                                                     \n",
       "4  Mar 29, 2000   Rivers and groundwater are being contaminated...  "
      ]
     },
     "execution_count": 181,
     "metadata": {},
     "output_type": "execute_result"
    }
   ],
   "source": [
    "gr.head()"
   ]
  },
  {
   "cell_type": "code",
   "execution_count": 182,
   "id": "b9f1b848",
   "metadata": {},
   "outputs": [],
   "source": [
    "gr.to_pickle(\"../Data/Grist/grist.pkl\")"
   ]
  },
  {
   "cell_type": "code",
   "execution_count": null,
   "id": "8ab60468",
   "metadata": {},
   "outputs": [],
   "source": []
  }
 ],
 "metadata": {
  "kernelspec": {
   "display_name": "Python 3 (ipykernel)",
   "language": "python",
   "name": "python3"
  },
  "language_info": {
   "codemirror_mode": {
    "name": "ipython",
    "version": 3
   },
   "file_extension": ".py",
   "mimetype": "text/x-python",
   "name": "python",
   "nbconvert_exporter": "python",
   "pygments_lexer": "ipython3",
   "version": "3.9.7"
  }
 },
 "nbformat": 4,
 "nbformat_minor": 5
}
