{
 "cells": [
  {
   "cell_type": "code",
   "execution_count": 1,
   "id": "68c892e4",
   "metadata": {},
   "outputs": [],
   "source": [
    "import praw"
   ]
  },
  {
   "cell_type": "code",
   "execution_count": 2,
   "id": "9512e573",
   "metadata": {},
   "outputs": [],
   "source": [
    "secret = 'T4ZaCv2EnSr_NHPg8KFKGd3ybE-b_A'\n",
    "personal_use_script = '85D3-qynjQbisTuMnnbdZg'"
   ]
  },
  {
   "cell_type": "code",
   "execution_count": 4,
   "id": "d7a6ac69",
   "metadata": {},
   "outputs": [
    {
     "data": {
      "text/plain": [
       "<Response [200]>"
      ]
     },
     "execution_count": 4,
     "metadata": {},
     "output_type": "execute_result"
    }
   ],
   "source": [
    "import requests\n",
    "\n",
    "# note that CLIENT_ID refers to 'personal use script' and SECRET_TOKEN to 'token'\n",
    "auth = requests.auth.HTTPBasicAuth(personal_use_script, secret)\n",
    "\n",
    "# here we pass our login method (password), username, and password\n",
    "data = {'grant_type': 'password',\n",
    "        'username': 'mcpackard',\n",
    "        'password': 'noosaVanilla654'}\n",
    "\n",
    "# setup our header info, which gives reddit a brief description of our app\n",
    "headers = {'User-Agent': 'MyBot/0.0.1'}\n",
    "\n",
    "# send our request for an OAuth token\n",
    "res = requests.post('https://www.reddit.com/api/v1/access_token',\n",
    "                    auth=auth, data=data, headers=headers)\n",
    "\n",
    "# convert response to JSON and pull access_token value\n",
    "TOKEN = res.json()['access_token']\n",
    "\n",
    "# add authorization to our headers dictionary\n",
    "headers = {**headers, **{'Authorization': f\"bearer {TOKEN}\"}}\n",
    "\n",
    "# while the token is valid (~2 hours) we just add headers=headers to our requests\n",
    "requests.get('https://oauth.reddit.com/api/v1/me', headers=headers)"
   ]
  },
  {
   "cell_type": "code",
   "execution_count": 5,
   "id": "97beac8e",
   "metadata": {},
   "outputs": [
    {
     "name": "stdout",
     "output_type": "stream",
     "text": [
      "{'kind': 'Listing', 'data': {'after': 't3_ssy0d2', 'dist': 25, 'modhash': None, 'geo_filter': None, 'children': [{'kind': 't3', 'data': {'approved_at_utc': None, 'subreddit': 'environment', 'selftext': '', 'author_fullname': 't2_b7a9vmum', 'saved': False, 'mod_reason_title': None, 'gilded': 0, 'clicked': False, 'title': 'Scientists at Stanford develop new catalyst to convert cartman dioxide into gasoline 1000 times more efficiently', 'link_flair_richtext': [], 'subreddit_name_prefixed': 'r/environment', 'hidden': False, 'pwls': 6, 'link_flair_css_class': None, 'downs': 0, 'thumbnail_height': 93, 'top_awarded_type': None, 'hide_score': False, 'name': 't3_stfefk', 'quarantine': False, 'link_flair_text_color': 'dark', 'upvote_ratio': 0.78, 'author_flair_background_color': None, 'subreddit_type': 'public', 'ups': 1247, 'total_awards_received': 2, 'media_embed': {}, 'thumbnail_width': 140, 'author_flair_template_id': None, 'is_original_content': False, 'user_reports': [], 'secure_media': None, 'is_reddit_media_domain': False, 'is_meta': False, 'category': None, 'secure_media_embed': {}, 'link_flair_text': None, 'can_mod_post': False, 'score': 1247, 'approved_by': None, 'is_created_from_ads_ui': False, 'author_premium': False, 'thumbnail': 'https://b.thumbs.redditmedia.com/GNpILPaOiqougPlKrPk2bawJwXD_VxR3y2IB4Rhx3yM.jpg', 'edited': False, 'author_flair_css_class': None, 'author_flair_richtext': [], 'gildings': {'gid_1': 1}, 'post_hint': 'link', 'content_categories': None, 'is_self': False, 'mod_note': None, 'created': 1644964463.0, 'link_flair_type': 'text', 'wls': 6, 'removed_by_category': None, 'banned_by': None, 'author_flair_type': 'text', 'domain': 'news.stanford.edu', 'allow_live_comments': True, 'selftext_html': None, 'likes': None, 'suggested_sort': None, 'banned_at_utc': None, 'url_overridden_by_dest': 'https://news.stanford.edu/2022/02/09/turning-carbon-dioxide-gasoline-efficiently/', 'view_count': None, 'archived': False, 'no_follow': False, 'is_crosspostable': True, 'pinned': False, 'over_18': False, 'preview': {'images': [{'source': {'url': 'https://external-preview.redd.it/vHgyPH4teveGvu1vgozy3TCg3QuYVdKiy7_aKvFnd6c.jpg?auto=webp&amp;s=394490aef3a90bca2f3d22c73f56a252fedaa38a', 'width': 1500, 'height': 1000}, 'resolutions': [{'url': 'https://external-preview.redd.it/vHgyPH4teveGvu1vgozy3TCg3QuYVdKiy7_aKvFnd6c.jpg?width=108&amp;crop=smart&amp;auto=webp&amp;s=f1377c23c59526155e901ebf0a890d45e3e63da4', 'width': 108, 'height': 72}, {'url': 'https://external-preview.redd.it/vHgyPH4teveGvu1vgozy3TCg3QuYVdKiy7_aKvFnd6c.jpg?width=216&amp;crop=smart&amp;auto=webp&amp;s=67b5c6f45c7193a43005ec801f89abdcac06e6cd', 'width': 216, 'height': 144}, {'url': 'https://external-preview.redd.it/vHgyPH4teveGvu1vgozy3TCg3QuYVdKiy7_aKvFnd6c.jpg?width=320&amp;crop=smart&amp;auto=webp&amp;s=baf6e8170a173c7b9d557e6a354e5eb46c7a46d1', 'width': 320, 'height': 213}, {'url': 'https://external-preview.redd.it/vHgyPH4teveGvu1vgozy3TCg3QuYVdKiy7_aKvFnd6c.jpg?width=640&amp;crop=smart&amp;auto=webp&amp;s=7302ff74945c1df230f813b804c61f7c9322be27', 'width': 640, 'height': 426}, {'url': 'https://external-preview.redd.it/vHgyPH4teveGvu1vgozy3TCg3QuYVdKiy7_aKvFnd6c.jpg?width=960&amp;crop=smart&amp;auto=webp&amp;s=e8a2030d719405088ecdf565129e6fd910786788', 'width': 960, 'height': 640}, {'url': 'https://external-preview.redd.it/vHgyPH4teveGvu1vgozy3TCg3QuYVdKiy7_aKvFnd6c.jpg?width=1080&amp;crop=smart&amp;auto=webp&amp;s=aef47278f476939ebc8195db99aec79545203145', 'width': 1080, 'height': 720}], 'variants': {}, 'id': 'vSobkR_gQcGL0Wav3xP8DSdkHBd6kzCpeOcX_kQ8-yM'}], 'enabled': False}, 'all_awardings': [{'giver_coin_reward': None, 'subreddit_id': None, 'is_new': False, 'days_of_drip_extension': 0, 'coin_price': 100, 'id': 'gid_1', 'penny_donate': None, 'award_sub_type': 'GLOBAL', 'coin_reward': 0, 'icon_url': 'https://www.redditstatic.com/gold/awards/icon/silver_512.png', 'days_of_premium': 0, 'tiers_by_required_awardings': None, 'resized_icons': [{'url': 'https://www.redditstatic.com/gold/awards/icon/silver_16.png', 'width': 16, 'height': 16}, {'url': 'https://www.redditstatic.com/gold/awards/icon/silver_32.png', 'width': 32, 'height': 32}, {'url': 'https://www.redditstatic.com/gold/awards/icon/silver_48.png', 'width': 48, 'height': 48}, {'url': 'https://www.redditstatic.com/gold/awards/icon/silver_64.png', 'width': 64, 'height': 64}, {'url': 'https://www.redditstatic.com/gold/awards/icon/silver_128.png', 'width': 128, 'height': 128}], 'icon_width': 512, 'static_icon_width': 512, 'start_date': None, 'is_enabled': True, 'awardings_required_to_grant_benefits': None, 'description': \"Shows the Silver Award... and that's it.\", 'end_date': None, 'subreddit_coin_reward': 0, 'count': 1, 'static_icon_height': 512, 'name': 'Silver', 'resized_static_icons': [{'url': 'https://www.redditstatic.com/gold/awards/icon/silver_16.png', 'width': 16, 'height': 16}, {'url': 'https://www.redditstatic.com/gold/awards/icon/silver_32.png', 'width': 32, 'height': 32}, {'url': 'https://www.redditstatic.com/gold/awards/icon/silver_48.png', 'width': 48, 'height': 48}, {'url': 'https://www.redditstatic.com/gold/awards/icon/silver_64.png', 'width': 64, 'height': 64}, {'url': 'https://www.redditstatic.com/gold/awards/icon/silver_128.png', 'width': 128, 'height': 128}], 'icon_format': None, 'icon_height': 512, 'penny_price': None, 'award_type': 'global', 'static_icon_url': 'https://www.redditstatic.com/gold/awards/icon/silver_512.png'}, {'giver_coin_reward': None, 'subreddit_id': None, 'is_new': False, 'days_of_drip_extension': 0, 'coin_price': 150, 'id': 'award_f44611f1-b89e-46dc-97fe-892280b13b82', 'penny_donate': None, 'award_sub_type': 'GLOBAL', 'coin_reward': 0, 'icon_url': 'https://i.redd.it/award_images/t5_22cerq/klvxk1wggfd41_Helpful.png', 'days_of_premium': 0, 'tiers_by_required_awardings': None, 'resized_icons': [{'url': 'https://preview.redd.it/award_images/t5_22cerq/klvxk1wggfd41_Helpful.png?width=16&amp;height=16&amp;auto=webp&amp;s=a5662dfbdb402bf67866c050aa76c31c147c2f45', 'width': 16, 'height': 16}, {'url': 'https://preview.redd.it/award_images/t5_22cerq/klvxk1wggfd41_Helpful.png?width=32&amp;height=32&amp;auto=webp&amp;s=a6882eb3f380e8e88009789f4d0072e17b8c59f1', 'width': 32, 'height': 32}, {'url': 'https://preview.redd.it/award_images/t5_22cerq/klvxk1wggfd41_Helpful.png?width=48&amp;height=48&amp;auto=webp&amp;s=e50064b090879e8a0b55e433f6ee61d5cb5fbe1d', 'width': 48, 'height': 48}, {'url': 'https://preview.redd.it/award_images/t5_22cerq/klvxk1wggfd41_Helpful.png?width=64&amp;height=64&amp;auto=webp&amp;s=8e5bb2e76683cb6b161830bcdd9642049d6adc11', 'width': 64, 'height': 64}, {'url': 'https://preview.redd.it/award_images/t5_22cerq/klvxk1wggfd41_Helpful.png?width=128&amp;height=128&amp;auto=webp&amp;s=eda4a9246f95f42ee6940cc0ec65306fd20de878', 'width': 128, 'height': 128}], 'icon_width': 2048, 'static_icon_width': 2048, 'start_date': None, 'is_enabled': True, 'awardings_required_to_grant_benefits': None, 'description': 'Thank you stranger. Shows the award.', 'end_date': None, 'subreddit_coin_reward': 0, 'count': 1, 'static_icon_height': 2048, 'name': 'Helpful', 'resized_static_icons': [{'url': 'https://preview.redd.it/award_images/t5_22cerq/klvxk1wggfd41_Helpful.png?width=16&amp;height=16&amp;auto=webp&amp;s=a5662dfbdb402bf67866c050aa76c31c147c2f45', 'width': 16, 'height': 16}, {'url': 'https://preview.redd.it/award_images/t5_22cerq/klvxk1wggfd41_Helpful.png?width=32&amp;height=32&amp;auto=webp&amp;s=a6882eb3f380e8e88009789f4d0072e17b8c59f1', 'width': 32, 'height': 32}, {'url': 'https://preview.redd.it/award_images/t5_22cerq/klvxk1wggfd41_Helpful.png?width=48&amp;height=48&amp;auto=webp&amp;s=e50064b090879e8a0b55e433f6ee61d5cb5fbe1d', 'width': 48, 'height': 48}, {'url': 'https://preview.redd.it/award_images/t5_22cerq/klvxk1wggfd41_Helpful.png?width=64&amp;height=64&amp;auto=webp&amp;s=8e5bb2e76683cb6b161830bcdd9642049d6adc11', 'width': 64, 'height': 64}, {'url': 'https://preview.redd.it/award_images/t5_22cerq/klvxk1wggfd41_Helpful.png?width=128&amp;height=128&amp;auto=webp&amp;s=eda4a9246f95f42ee6940cc0ec65306fd20de878', 'width': 128, 'height': 128}], 'icon_format': None, 'icon_height': 2048, 'penny_price': None, 'award_type': 'global', 'static_icon_url': 'https://i.redd.it/award_images/t5_22cerq/klvxk1wggfd41_Helpful.png'}], 'awarders': [], 'media_only': False, 'can_gild': True, 'spoiler': False, 'locked': False, 'author_flair_text': None, 'treatment_tags': [], 'visited': False, 'removed_by': None, 'num_reports': None, 'distinguished': None, 'subreddit_id': 't5_2qh1n', 'author_is_blocked': False, 'mod_reason_by': None, 'removal_reason': None, 'link_flair_background_color': '', 'id': 'stfefk', 'is_robot_indexable': True, 'report_reasons': None, 'author': 'GeorgeFlungusJr', 'discussion_type': None, 'num_comments': 200, 'send_replies': True, 'whitelist_status': 'all_ads', 'contest_mode': False, 'mod_reports': [], 'author_patreon_flair': False, 'author_flair_text_color': None, 'permalink': '/r/environment/comments/stfefk/scientists_at_stanford_develop_new_catalyst_to/', 'parent_whitelist_status': 'all_ads', 'stickied': False, 'url': 'https://news.stanford.edu/2022/02/09/turning-carbon-dioxide-gasoline-efficiently/', 'subreddit_subscribers': 801197, 'created_utc': 1644964463.0, 'num_crossposts': 3, 'media': None, 'is_video': False}}, {'kind': 't3', 'data': {'approved_at_utc': None, 'subreddit': 'environment', 'selftext': '', 'author_fullname': 't2_6xzfdm4f', 'saved': False, 'mod_reason_title': None, 'gilded': 0, 'clicked': False, 'title': 'Montana and federal agencies ignored environmental law in approving coal mine expansion', 'link_flair_richtext': [], 'subreddit_name_prefixed': 'r/environment', 'hidden': False, 'pwls': 6, 'link_flair_css_class': None, 'downs': 0, 'thumbnail_height': 73, 'top_awarded_type': None, 'hide_score': False, 'name': 't3_stiuyc', 'quarantine': False, 'link_flair_text_color': 'dark', 'upvote_ratio': 0.96, 'author_flair_background_color': None, 'subreddit_type': 'public', 'ups': 255, 'total_awards_received': 0, 'media_embed': {}, 'thumbnail_width': 140, 'author_flair_template_id': None, 'is_original_content': False, 'user_reports': [], 'secure_media': None, 'is_reddit_media_domain': False, 'is_meta': False, 'category': None, 'secure_media_embed': {}, 'link_flair_text': None, 'can_mod_post': False, 'score': 255, 'approved_by': None, 'is_created_from_ads_ui': False, 'author_premium': False, 'thumbnail': 'https://b.thumbs.redditmedia.com/8k3NB7geDLRFdwOs8nDpuaDhXzoHRHboB5dOesRKNGA.jpg', 'edited': False, 'author_flair_css_class': None, 'author_flair_richtext': [], 'gildings': {}, 'post_hint': 'link', 'content_categories': None, 'is_self': False, 'mod_note': None, 'created': 1644973771.0, 'link_flair_type': 'text', 'wls': 6, 'removed_by_category': None, 'banned_by': None, 'author_flair_type': 'text', 'domain': 'missoulian.com', 'allow_live_comments': False, 'selftext_html': None, 'likes': None, 'suggested_sort': None, 'banned_at_utc': None, 'url_overridden_by_dest': 'https://missoulian.com/news/state-and-regional/montana-and-federal-agencies-ignored-environmental-law-in-approving-coal-mine-expansion/article_e0457962-aa0e-52ed-8c8d-576b1b37ee8b.html', 'view_count': None, 'archived': False, 'no_follow': False, 'is_crosspostable': True, 'pinned': False, 'over_18': False, 'preview': {'images': [{'source': {'url': 'https://external-preview.redd.it/IcN0k78b0yzUL6UPdiIqhyaffF38xqdMq98Psnkajmg.jpg?auto=webp&amp;s=121c60aa42a45489e396bf9436447b4735b1f461', 'width': 1200, 'height': 630}, 'resolutions': [{'url': 'https://external-preview.redd.it/IcN0k78b0yzUL6UPdiIqhyaffF38xqdMq98Psnkajmg.jpg?width=108&amp;crop=smart&amp;auto=webp&amp;s=decb0cda991995d0c4d38bdad72b1f060aea094a', 'width': 108, 'height': 56}, {'url': 'https://external-preview.redd.it/IcN0k78b0yzUL6UPdiIqhyaffF38xqdMq98Psnkajmg.jpg?width=216&amp;crop=smart&amp;auto=webp&amp;s=d35b657e7f85909ed3d34233c6b748f68f0d3cf9', 'width': 216, 'height': 113}, {'url': 'https://external-preview.redd.it/IcN0k78b0yzUL6UPdiIqhyaffF38xqdMq98Psnkajmg.jpg?width=320&amp;crop=smart&amp;auto=webp&amp;s=ecd7a4475725d2821e9c96353ad53c2f07d50c09', 'width': 320, 'height': 168}, {'url': 'https://external-preview.redd.it/IcN0k78b0yzUL6UPdiIqhyaffF38xqdMq98Psnkajmg.jpg?width=640&amp;crop=smart&amp;auto=webp&amp;s=1b3c0e93ffa0be8cb5c4a437722795a0408e3dff', 'width': 640, 'height': 336}, {'url': 'https://external-preview.redd.it/IcN0k78b0yzUL6UPdiIqhyaffF38xqdMq98Psnkajmg.jpg?width=960&amp;crop=smart&amp;auto=webp&amp;s=3a9913d0d19d60768963dce049d5f5cc82229706', 'width': 960, 'height': 504}, {'url': 'https://external-preview.redd.it/IcN0k78b0yzUL6UPdiIqhyaffF38xqdMq98Psnkajmg.jpg?width=1080&amp;crop=smart&amp;auto=webp&amp;s=325ee239a593ee910760cf56195f5222c74cb1b3', 'width': 1080, 'height': 567}], 'variants': {}, 'id': 'mCzPmD3guvlOX294dKb8p100Xesx6y96o2R-QcFkzzA'}], 'enabled': False}, 'all_awardings': [], 'awarders': [], 'media_only': False, 'can_gild': True, 'spoiler': False, 'locked': False, 'author_flair_text': None, 'treatment_tags': [], 'visited': False, 'removed_by': None, 'num_reports': None, 'distinguished': None, 'subreddit_id': 't5_2qh1n', 'author_is_blocked': False, 'mod_reason_by': None, 'removal_reason': None, 'link_flair_background_color': '', 'id': 'stiuyc', 'is_robot_indexable': True, 'report_reasons': None, 'author': 'NevermoreNuke', 'discussion_type': None, 'num_comments': 5, 'send_replies': True, 'whitelist_status': 'all_ads', 'contest_mode': False, 'mod_reports': [], 'author_patreon_flair': False, 'author_flair_text_color': None, 'permalink': '/r/environment/comments/stiuyc/montana_and_federal_agencies_ignored/', 'parent_whitelist_status': 'all_ads', 'stickied': False, 'url': 'https://missoulian.com/news/state-and-regional/montana-and-federal-agencies-ignored-environmental-law-in-approving-coal-mine-expansion/article_e0457962-aa0e-52ed-8c8d-576b1b37ee8b.html', 'subreddit_subscribers': 801197, 'created_utc': 1644973771.0, 'num_crossposts': 0, 'media': None, 'is_video': False}}, {'kind': 't3', 'data': {'approved_at_utc': None, 'subreddit': 'environment', 'selftext': '', 'author_fullname': 't2_bf327jui', 'saved': False, 'mod_reason_title': None, 'gilded': 0, 'clicked': False, 'title': \"2 flowering plants in Antarctica are growing at an unprecedented speed, a rare spectacle showing a 'tipping point' of the climate crisis, study says\", 'link_flair_richtext': [], 'subreddit_name_prefixed': 'r/environment', 'hidden': False, 'pwls': 6, 'link_flair_css_class': None, 'downs': 0, 'thumbnail_height': 70, 'top_awarded_type': None, 'hide_score': False, 'name': 't3_st3tlc', 'quarantine': False, 'link_flair_text_color': 'dark', 'upvote_ratio': 0.98, 'author_flair_background_color': None, 'subreddit_type': 'public', 'ups': 1257, 'total_awards_received': 0, 'media_embed': {}, 'thumbnail_width': 140, 'author_flair_template_id': None, 'is_original_content': False, 'user_reports': [], 'secure_media': None, 'is_reddit_media_domain': False, 'is_meta': False, 'category': None, 'secure_media_embed': {}, 'link_flair_text': None, 'can_mod_post': False, 'score': 1257, 'approved_by': None, 'is_created_from_ads_ui': False, 'author_premium': True, 'thumbnail': 'https://b.thumbs.redditmedia.com/AS-Gd0Mz00Y233tlf82iNs16sSw24IybJL6IyKubzQQ.jpg', 'edited': False, 'author_flair_css_class': None, 'author_flair_richtext': [], 'gildings': {}, 'post_hint': 'link', 'content_categories': None, 'is_self': False, 'mod_note': None, 'created': 1644934256.0, 'link_flair_type': 'text', 'wls': 6, 'removed_by_category': None, 'banned_by': None, 'author_flair_type': 'text', 'domain': 'businessinsider.com', 'allow_live_comments': False, 'selftext_html': None, 'likes': None, 'suggested_sort': None, 'banned_at_utc': None, 'url_overridden_by_dest': 'https://www.businessinsider.com/antarctic-flowering-plant-growth-signals-climate-crisis-impact-study-2022-2', 'view_count': None, 'archived': False, 'no_follow': False, 'is_crosspostable': True, 'pinned': False, 'over_18': False, 'preview': {'images': [{'source': {'url': 'https://external-preview.redd.it/1sS7PQ9xtE6cRDCdFnh1FF6moCgdEa45bqkb5J8jhfI.jpg?auto=webp&amp;s=4b280580aa96c260bd90f0410c35e18c5ce8ff0d', 'width': 1200, 'height': 600}, 'resolutions': [{'url': 'https://external-preview.redd.it/1sS7PQ9xtE6cRDCdFnh1FF6moCgdEa45bqkb5J8jhfI.jpg?width=108&amp;crop=smart&amp;auto=webp&amp;s=dd461f1c99023434f7d6ac102cfaf6191a6f9fa0', 'width': 108, 'height': 54}, {'url': 'https://external-preview.redd.it/1sS7PQ9xtE6cRDCdFnh1FF6moCgdEa45bqkb5J8jhfI.jpg?width=216&amp;crop=smart&amp;auto=webp&amp;s=ba8c493a8d6bf70dcb7c902f63b5c68f61996ce5', 'width': 216, 'height': 108}, {'url': 'https://external-preview.redd.it/1sS7PQ9xtE6cRDCdFnh1FF6moCgdEa45bqkb5J8jhfI.jpg?width=320&amp;crop=smart&amp;auto=webp&amp;s=7c80ab112b5bfdc59457abba99df896673ff5720', 'width': 320, 'height': 160}, {'url': 'https://external-preview.redd.it/1sS7PQ9xtE6cRDCdFnh1FF6moCgdEa45bqkb5J8jhfI.jpg?width=640&amp;crop=smart&amp;auto=webp&amp;s=4f4b0a99234597504b2535d2685bb02688dec944', 'width': 640, 'height': 320}, {'url': 'https://external-preview.redd.it/1sS7PQ9xtE6cRDCdFnh1FF6moCgdEa45bqkb5J8jhfI.jpg?width=960&amp;crop=smart&amp;auto=webp&amp;s=7156181c6d02edae52167fac9cf841922ed2c010', 'width': 960, 'height': 480}, {'url': 'https://external-preview.redd.it/1sS7PQ9xtE6cRDCdFnh1FF6moCgdEa45bqkb5J8jhfI.jpg?width=1080&amp;crop=smart&amp;auto=webp&amp;s=499571ed2abc3e29b9ba38e1666ed6752f46767f', 'width': 1080, 'height': 540}], 'variants': {}, 'id': '3OU2LjqwBZtJQRI7471yKKb_rfP7IVM2AIJVEKLI5Rg'}], 'enabled': False}, 'all_awardings': [], 'awarders': [], 'media_only': False, 'can_gild': True, 'spoiler': False, 'locked': False, 'author_flair_text': None, 'treatment_tags': [], 'visited': False, 'removed_by': None, 'num_reports': None, 'distinguished': None, 'subreddit_id': 't5_2qh1n', 'author_is_blocked': False, 'mod_reason_by': None, 'removal_reason': None, 'link_flair_background_color': '', 'id': 'st3tlc', 'is_robot_indexable': True, 'report_reasons': None, 'author': 'Defiant_Race_7544', 'discussion_type': None, 'num_comments': 104, 'send_replies': True, 'whitelist_status': 'all_ads', 'contest_mode': False, 'mod_reports': [], 'author_patreon_flair': False, 'author_flair_text_color': None, 'permalink': '/r/environment/comments/st3tlc/2_flowering_plants_in_antarctica_are_growing_at/', 'parent_whitelist_status': 'all_ads', 'stickied': False, 'url': 'https://www.businessinsider.com/antarctic-flowering-plant-growth-signals-climate-crisis-impact-study-2022-2', 'subreddit_subscribers': 801197, 'created_utc': 1644934256.0, 'num_crossposts': 2, 'media': None, 'is_video': False}}, {'kind': 't3', 'data': {'approved_at_utc': None, 'subreddit': 'environment', 'selftext': '', 'author_fullname': 't2_zc2xc', 'saved': False, 'mod_reason_title': None, 'gilded': 0, 'clicked': False, 'title': 'Louisiana Investigates Massive Methane Cloud Seen From Space', 'link_flair_richtext': [], 'subreddit_name_prefixed': 'r/environment', 'hidden': False, 'pwls': 6, 'link_flair_css_class': None, 'downs': 0, 'thumbnail_height': 126, 'top_awarded_type': None, 'hide_score': False, 'name': 't3_st50gy', 'quarantine': False, 'link_flair_text_color': 'dark', 'upvote_ratio': 0.99, 'author_flair_background_color': None, 'subreddit_type': 'public', 'ups': 594, 'total_awards_received': 0, 'media_embed': {}, 'thumbnail_width': 140, 'author_flair_template_id': None, 'is_original_content': False, 'user_reports': [], 'secure_media': None, 'is_reddit_media_domain': False, 'is_meta': False, 'category': None, 'secure_media_embed': {}, 'link_flair_text': None, 'can_mod_post': False, 'score': 594, 'approved_by': None, 'is_created_from_ads_ui': False, 'author_premium': False, 'thumbnail': 'https://b.thumbs.redditmedia.com/iJAn-tYTnY_8d4Avg_jOK3e7SqSJITcu7GrWP66MCdk.jpg', 'edited': False, 'author_flair_css_class': None, 'author_flair_richtext': [], 'gildings': {}, 'post_hint': 'link', 'content_categories': None, 'is_self': False, 'mod_note': None, 'created': 1644937654.0, 'link_flair_type': 'text', 'wls': 6, 'removed_by_category': None, 'banned_by': None, 'author_flair_type': 'text', 'domain': 'bloomberg.com', 'allow_live_comments': False, 'selftext_html': None, 'likes': None, 'suggested_sort': None, 'banned_at_utc': None, 'url_overridden_by_dest': 'https://www.bloomberg.com/news/articles/2022-02-14/louisiana-investigates-massive-methane-cloud-seen-from-space?srnd=premium&amp;sref=KQPtNSUL', 'view_count': None, 'archived': False, 'no_follow': False, 'is_crosspostable': True, 'pinned': False, 'over_18': False, 'preview': {'images': [{'source': {'url': 'https://external-preview.redd.it/nmViWZTMscJs4yIyP2rlb4XquqeOD1klWmLtK5TOfso.jpg?auto=webp&amp;s=5ef8a45c1dbc0ad1fd0f68bd788d7ad2f2fa002e', 'width': 1200, 'height': 1087}, 'resolutions': [{'url': 'https://external-preview.redd.it/nmViWZTMscJs4yIyP2rlb4XquqeOD1klWmLtK5TOfso.jpg?width=108&amp;crop=smart&amp;auto=webp&amp;s=6c9a39a6cbc7c7316c8104c0c5612584e55de294', 'width': 108, 'height': 97}, {'url': 'https://external-preview.redd.it/nmViWZTMscJs4yIyP2rlb4XquqeOD1klWmLtK5TOfso.jpg?width=216&amp;crop=smart&amp;auto=webp&amp;s=330507928c6e5ccfdeddcc2989ee620bdb355a4f', 'width': 216, 'height': 195}, {'url': 'https://external-preview.redd.it/nmViWZTMscJs4yIyP2rlb4XquqeOD1klWmLtK5TOfso.jpg?width=320&amp;crop=smart&amp;auto=webp&amp;s=af9461f522bf3dfc8596bfe19ecb0b40278210ea', 'width': 320, 'height': 289}, {'url': 'https://external-preview.redd.it/nmViWZTMscJs4yIyP2rlb4XquqeOD1klWmLtK5TOfso.jpg?width=640&amp;crop=smart&amp;auto=webp&amp;s=f6c532770a2bb01567d8f278f7cf5df43d73eb28', 'width': 640, 'height': 579}, {'url': 'https://external-preview.redd.it/nmViWZTMscJs4yIyP2rlb4XquqeOD1klWmLtK5TOfso.jpg?width=960&amp;crop=smart&amp;auto=webp&amp;s=cf9f80423ed0a949c0199711db57045fa01515d7', 'width': 960, 'height': 869}, {'url': 'https://external-preview.redd.it/nmViWZTMscJs4yIyP2rlb4XquqeOD1klWmLtK5TOfso.jpg?width=1080&amp;crop=smart&amp;auto=webp&amp;s=f9eadaed486254f199d8d6098547aefacf15b333', 'width': 1080, 'height': 978}], 'variants': {}, 'id': 'IFnFs8rvuUdNKJj4Ntdfe_pA7g9eOIe5MmvQOmFlZes'}], 'enabled': False}, 'all_awardings': [], 'awarders': [], 'media_only': False, 'can_gild': True, 'spoiler': False, 'locked': False, 'author_flair_text': None, 'treatment_tags': [], 'visited': False, 'removed_by': None, 'num_reports': None, 'distinguished': None, 'subreddit_id': 't5_2qh1n', 'author_is_blocked': False, 'mod_reason_by': None, 'removal_reason': None, 'link_flair_background_color': '', 'id': 'st50gy', 'is_robot_indexable': True, 'report_reasons': None, 'author': 'sanitation123', 'discussion_type': None, 'num_comments': 62, 'send_replies': True, 'whitelist_status': 'all_ads', 'contest_mode': False, 'mod_reports': [], 'author_patreon_flair': False, 'author_flair_text_color': None, 'permalink': '/r/environment/comments/st50gy/louisiana_investigates_massive_methane_cloud_seen/', 'parent_whitelist_status': 'all_ads', 'stickied': False, 'url': 'https://www.bloomberg.com/news/articles/2022-02-14/louisiana-investigates-massive-methane-cloud-seen-from-space?srnd=premium&amp;sref=KQPtNSUL', 'subreddit_subscribers': 801197, 'created_utc': 1644937654.0, 'num_crossposts': 1, 'media': None, 'is_video': False}}, {'kind': 't3', 'data': {'approved_at_utc': None, 'subreddit': 'environment', 'selftext': '', 'author_fullname': 't2_18arl', 'saved': False, 'mod_reason_title': None, 'gilded': 1, 'clicked': False, 'title': 'U.S. corn-based ethanol worse for the climate than gasoline, study finds', 'link_flair_richtext': [], 'subreddit_name_prefixed': 'r/environment', 'hidden': False, 'pwls': 6, 'link_flair_css_class': None, 'downs': 0, 'thumbnail_height': 73, 'top_awarded_type': None, 'hide_score': False, 'name': 't3_ssnpa7', 'quarantine': False, 'link_flair_text_color': 'dark', 'upvote_ratio': 0.93, 'author_flair_background_color': None, 'subreddit_type': 'public', 'ups': 39460, 'total_awards_received': 17, 'media_embed': {}, 'thumbnail_width': 140, 'author_flair_template_id': None, 'is_original_content': False, 'user_reports': [], 'secure_media': None, 'is_reddit_media_domain': False, 'is_meta': False, 'category': None, 'secure_media_embed': {}, 'link_flair_text': None, 'can_mod_post': False, 'score': 39460, 'approved_by': None, 'is_created_from_ads_ui': False, 'author_premium': True, 'thumbnail': 'https://b.thumbs.redditmedia.com/J10E6Gb0wghjnZZJP5D7xha-c5kFb6SbPLlk7dRjbYc.jpg', 'edited': False, 'author_flair_css_class': None, 'author_flair_richtext': [], 'gildings': {'gid_1': 4, 'gid_2': 1}, 'post_hint': 'link', 'content_categories': None, 'is_self': False, 'mod_note': None, 'created': 1644879998.0, 'link_flair_type': 'text', 'wls': 6, 'removed_by_category': None, 'banned_by': None, 'author_flair_type': 'text', 'domain': 'reuters.com', 'allow_live_comments': True, 'selftext_html': None, 'likes': None, 'suggested_sort': None, 'banned_at_utc': None, 'url_overridden_by_dest': 'https://www.reuters.com/business/environment/us-corn-based-ethanol-worse-climate-than-gasoline-study-finds-2022-02-14/', 'view_count': None, 'archived': False, 'no_follow': False, 'is_crosspostable': True, 'pinned': False, 'over_18': False, 'preview': {'images': [{'source': {'url': 'https://external-preview.redd.it/i-bqY4HCu7MltSGCIgmGqbVfKjxhat4m6zJENvt4UnI.jpg?auto=webp&amp;s=055435386011092c482808a3672ca3c2439c9141', 'width': 1200, 'height': 628}, 'resolutions': [{'url': 'https://external-preview.redd.it/i-bqY4HCu7MltSGCIgmGqbVfKjxhat4m6zJENvt4UnI.jpg?width=108&amp;crop=smart&amp;auto=webp&amp;s=f5aca8465a6ee07ec6502176e7e55d7ca94a1ea5', 'width': 108, 'height': 56}, {'url': 'https://external-preview.redd.it/i-bqY4HCu7MltSGCIgmGqbVfKjxhat4m6zJENvt4UnI.jpg?width=216&amp;crop=smart&amp;auto=webp&amp;s=8f21a1b2e0a0e8bc5fa7ebb5cddc5dad3f1c73c9', 'width': 216, 'height': 113}, {'url': 'https://external-preview.redd.it/i-bqY4HCu7MltSGCIgmGqbVfKjxhat4m6zJENvt4UnI.jpg?width=320&amp;crop=smart&amp;auto=webp&amp;s=55375eb983479fe45561eb04d1d09bd9fc21b1a3', 'width': 320, 'height': 167}, {'url': 'https://external-preview.redd.it/i-bqY4HCu7MltSGCIgmGqbVfKjxhat4m6zJENvt4UnI.jpg?width=640&amp;crop=smart&amp;auto=webp&amp;s=9c0a04f2d9984ff165ee71ebf1d770fbbe69db1a', 'width': 640, 'height': 334}, {'url': 'https://external-preview.redd.it/i-bqY4HCu7MltSGCIgmGqbVfKjxhat4m6zJENvt4UnI.jpg?width=960&amp;crop=smart&amp;auto=webp&amp;s=ef3a8501e682c0164b63f1168818d45dd60d51f3', 'width': 960, 'height': 502}, {'url': 'https://external-preview.redd.it/i-bqY4HCu7MltSGCIgmGqbVfKjxhat4m6zJENvt4UnI.jpg?width=1080&amp;crop=smart&amp;auto=webp&amp;s=1c13d6ef55f9296012b1a1beb26a0bdb6980def9', 'width': 1080, 'height': 565}], 'variants': {}, 'id': 'lMjasqqeK4QRRxNgwbA7l8SJ0OibIL9zaNmlCM-1OHE'}], 'enabled': False}, 'all_awardings': [{'giver_coin_reward': None, 'subreddit_id': None, 'is_new': False, 'days_of_drip_extension': 0, 'coin_price': 100, 'id': 'gid_1', 'penny_donate': None, 'award_sub_type': 'GLOBAL', 'coin_reward': 0, 'icon_url': 'https://www.redditstatic.com/gold/awards/icon/silver_512.png', 'days_of_premium': 0, 'tiers_by_required_awardings': None, 'resized_icons': [{'url': 'https://www.redditstatic.com/gold/awards/icon/silver_16.png', 'width': 16, 'height': 16}, {'url': 'https://www.redditstatic.com/gold/awards/icon/silver_32.png', 'width': 32, 'height': 32}, {'url': 'https://www.redditstatic.com/gold/awards/icon/silver_48.png', 'width': 48, 'height': 48}, {'url': 'https://www.redditstatic.com/gold/awards/icon/silver_64.png', 'width': 64, 'height': 64}, {'url': 'https://www.redditstatic.com/gold/awards/icon/silver_128.png', 'width': 128, 'height': 128}], 'icon_width': 512, 'static_icon_width': 512, 'start_date': None, 'is_enabled': True, 'awardings_required_to_grant_benefits': None, 'description': \"Shows the Silver Award... and that's it.\", 'end_date': None, 'subreddit_coin_reward': 0, 'count': 4, 'static_icon_height': 512, 'name': 'Silver', 'resized_static_icons': [{'url': 'https://www.redditstatic.com/gold/awards/icon/silver_16.png', 'width': 16, 'height': 16}, {'url': 'https://www.redditstatic.com/gold/awards/icon/silver_32.png', 'width': 32, 'height': 32}, {'url': 'https://www.redditstatic.com/gold/awards/icon/silver_48.png', 'width': 48, 'height': 48}, {'url': 'https://www.redditstatic.com/gold/awards/icon/silver_64.png', 'width': 64, 'height': 64}, {'url': 'https://www.redditstatic.com/gold/awards/icon/silver_128.png', 'width': 128, 'height': 128}], 'icon_format': None, 'icon_height': 512, 'penny_price': None, 'award_type': 'global', 'static_icon_url': 'https://www.redditstatic.com/gold/awards/icon/silver_512.png'}, {'giver_coin_reward': None, 'subreddit_id': None, 'is_new': False, 'days_of_drip_extension': 0, 'coin_price': 500, 'id': 'gid_2', 'penny_donate': None, 'award_sub_type': 'GLOBAL', 'coin_reward': 100, 'icon_url': 'https://www.redditstatic.com/gold/awards/icon/gold_512.png', 'days_of_premium': 7, 'tiers_by_required_awardings': None, 'resized_icons': [{'url': 'https://www.redditstatic.com/gold/awards/icon/gold_16.png', 'width': 16, 'height': 16}, {'url': 'https://www.redditstatic.com/gold/awards/icon/gold_32.png', 'width': 32, 'height': 32}, {'url': 'https://www.redditstatic.com/gold/awards/icon/gold_48.png', 'width': 48, 'height': 48}, {'url': 'https://www.redditstatic.com/gold/awards/icon/gold_64.png', 'width': 64, 'height': 64}, {'url': 'https://www.redditstatic.com/gold/awards/icon/gold_128.png', 'width': 128, 'height': 128}], 'icon_width': 512, 'static_icon_width': 512, 'start_date': None, 'is_enabled': True, 'awardings_required_to_grant_benefits': None, 'description': 'Gives 100 Reddit Coins and a week of r/lounge access and ad-free browsing.', 'end_date': None, 'subreddit_coin_reward': 0, 'count': 1, 'static_icon_height': 512, 'name': 'Gold', 'resized_static_icons': [{'url': 'https://www.redditstatic.com/gold/awards/icon/gold_16.png', 'width': 16, 'height': 16}, {'url': 'https://www.redditstatic.com/gold/awards/icon/gold_32.png', 'width': 32, 'height': 32}, {'url': 'https://www.redditstatic.com/gold/awards/icon/gold_48.png', 'width': 48, 'height': 48}, {'url': 'https://www.redditstatic.com/gold/awards/icon/gold_64.png', 'width': 64, 'height': 64}, {'url': 'https://www.redditstatic.com/gold/awards/icon/gold_128.png', 'width': 128, 'height': 128}], 'icon_format': None, 'icon_height': 512, 'penny_price': None, 'award_type': 'global', 'static_icon_url': 'https://www.redditstatic.com/gold/awards/icon/gold_512.png'}, {'giver_coin_reward': None, 'subreddit_id': None, 'is_new': False, 'days_of_drip_extension': 0, 'coin_price': 150, 'id': 'award_f44611f1-b89e-46dc-97fe-892280b13b82', 'penny_donate': None, 'award_sub_type': 'GLOBAL', 'coin_reward': 0, 'icon_url': 'https://i.redd.it/award_images/t5_22cerq/klvxk1wggfd41_Helpful.png', 'days_of_premium': 0, 'tiers_by_required_awardings': None, 'resized_icons': [{'url': 'https://preview.redd.it/award_images/t5_22cerq/klvxk1wggfd41_Helpful.png?width=16&amp;height=16&amp;auto=webp&amp;s=a5662dfbdb402bf67866c050aa76c31c147c2f45', 'width': 16, 'height': 16}, {'url': 'https://preview.redd.it/award_images/t5_22cerq/klvxk1wggfd41_Helpful.png?width=32&amp;height=32&amp;auto=webp&amp;s=a6882eb3f380e8e88009789f4d0072e17b8c59f1', 'width': 32, 'height': 32}, {'url': 'https://preview.redd.it/award_images/t5_22cerq/klvxk1wggfd41_Helpful.png?width=48&amp;height=48&amp;auto=webp&amp;s=e50064b090879e8a0b55e433f6ee61d5cb5fbe1d', 'width': 48, 'height': 48}, {'url': 'https://preview.redd.it/award_images/t5_22cerq/klvxk1wggfd41_Helpful.png?width=64&amp;height=64&amp;auto=webp&amp;s=8e5bb2e76683cb6b161830bcdd9642049d6adc11', 'width': 64, 'height': 64}, {'url': 'https://preview.redd.it/award_images/t5_22cerq/klvxk1wggfd41_Helpful.png?width=128&amp;height=128&amp;auto=webp&amp;s=eda4a9246f95f42ee6940cc0ec65306fd20de878', 'width': 128, 'height': 128}], 'icon_width': 2048, 'static_icon_width': 2048, 'start_date': None, 'is_enabled': True, 'awardings_required_to_grant_benefits': None, 'description': 'Thank you stranger. Shows the award.', 'end_date': None, 'subreddit_coin_reward': 0, 'count': 5, 'static_icon_height': 2048, 'name': 'Helpful', 'resized_static_icons': [{'url': 'https://preview.redd.it/award_images/t5_22cerq/klvxk1wggfd41_Helpful.png?width=16&amp;height=16&amp;auto=webp&amp;s=a5662dfbdb402bf67866c050aa76c31c147c2f45', 'width': 16, 'height': 16}, {'url': 'https://preview.redd.it/award_images/t5_22cerq/klvxk1wggfd41_Helpful.png?width=32&amp;height=32&amp;auto=webp&amp;s=a6882eb3f380e8e88009789f4d0072e17b8c59f1', 'width': 32, 'height': 32}, {'url': 'https://preview.redd.it/award_images/t5_22cerq/klvxk1wggfd41_Helpful.png?width=48&amp;height=48&amp;auto=webp&amp;s=e50064b090879e8a0b55e433f6ee61d5cb5fbe1d', 'width': 48, 'height': 48}, {'url': 'https://preview.redd.it/award_images/t5_22cerq/klvxk1wggfd41_Helpful.png?width=64&amp;height=64&amp;auto=webp&amp;s=8e5bb2e76683cb6b161830bcdd9642049d6adc11', 'width': 64, 'height': 64}, {'url': 'https://preview.redd.it/award_images/t5_22cerq/klvxk1wggfd41_Helpful.png?width=128&amp;height=128&amp;auto=webp&amp;s=eda4a9246f95f42ee6940cc0ec65306fd20de878', 'width': 128, 'height': 128}], 'icon_format': None, 'icon_height': 2048, 'penny_price': None, 'award_type': 'global', 'static_icon_url': 'https://i.redd.it/award_images/t5_22cerq/klvxk1wggfd41_Helpful.png'}, {'giver_coin_reward': None, 'subreddit_id': None, 'is_new': False, 'days_of_drip_extension': 0, 'coin_price': 125, 'id': 'award_5f123e3d-4f48-42f4-9c11-e98b566d5897', 'penny_donate': None, 'award_sub_type': 'GLOBAL', 'coin_reward': 0, 'icon_url': 'https://i.redd.it/award_images/t5_22cerq/5izbv4fn0md41_Wholesome.png', 'days_of_premium': 0, 'tiers_by_required_awardings': None, 'resized_icons': [{'url': 'https://preview.redd.it/award_images/t5_22cerq/5izbv4fn0md41_Wholesome.png?width=16&amp;height=16&amp;auto=webp&amp;s=92932f465d58e4c16b12b6eac4ca07d27e3d11c0', 'width': 16, 'height': 16}, {'url': 'https://preview.redd.it/award_images/t5_22cerq/5izbv4fn0md41_Wholesome.png?width=32&amp;height=32&amp;auto=webp&amp;s=d11484a208d68a318bf9d4fcf371171a1cb6a7ef', 'width': 32, 'height': 32}, {'url': 'https://preview.redd.it/award_images/t5_22cerq/5izbv4fn0md41_Wholesome.png?width=48&amp;height=48&amp;auto=webp&amp;s=febdf28b6f39f7da7eb1365325b85e0bb49a9f63', 'width': 48, 'height': 48}, {'url': 'https://preview.redd.it/award_images/t5_22cerq/5izbv4fn0md41_Wholesome.png?width=64&amp;height=64&amp;auto=webp&amp;s=b4406a2d88bf86fa3dc8a45aacf7e0c7bdccc4fb', 'width': 64, 'height': 64}, {'url': 'https://preview.redd.it/award_images/t5_22cerq/5izbv4fn0md41_Wholesome.png?width=128&amp;height=128&amp;auto=webp&amp;s=19555b13e3e196b62eeb9160d1ac1d1b372dcb0b', 'width': 128, 'height': 128}], 'icon_width': 2048, 'static_icon_width': 2048, 'start_date': None, 'is_enabled': True, 'awardings_required_to_grant_benefits': None, 'description': 'When you come across a feel-good thing.', 'end_date': None, 'subreddit_coin_reward': 0, 'count': 4, 'static_icon_height': 2048, 'name': 'Wholesome', 'resized_static_icons': [{'url': 'https://preview.redd.it/award_images/t5_22cerq/5izbv4fn0md41_Wholesome.png?width=16&amp;height=16&amp;auto=webp&amp;s=92932f465d58e4c16b12b6eac4ca07d27e3d11c0', 'width': 16, 'height': 16}, {'url': 'https://preview.redd.it/award_images/t5_22cerq/5izbv4fn0md41_Wholesome.png?width=32&amp;height=32&amp;auto=webp&amp;s=d11484a208d68a318bf9d4fcf371171a1cb6a7ef', 'width': 32, 'height': 32}, {'url': 'https://preview.redd.it/award_images/t5_22cerq/5izbv4fn0md41_Wholesome.png?width=48&amp;height=48&amp;auto=webp&amp;s=febdf28b6f39f7da7eb1365325b85e0bb49a9f63', 'width': 48, 'height': 48}, {'url': 'https://preview.redd.it/award_images/t5_22cerq/5izbv4fn0md41_Wholesome.png?width=64&amp;height=64&amp;auto=webp&amp;s=b4406a2d88bf86fa3dc8a45aacf7e0c7bdccc4fb', 'width': 64, 'height': 64}, {'url': 'https://preview.redd.it/award_images/t5_22cerq/5izbv4fn0md41_Wholesome.png?width=128&amp;height=128&amp;auto=webp&amp;s=19555b13e3e196b62eeb9160d1ac1d1b372dcb0b', 'width': 128, 'height': 128}], 'icon_format': None, 'icon_height': 2048, 'penny_price': None, 'award_type': 'global', 'static_icon_url': 'https://i.redd.it/award_images/t5_22cerq/5izbv4fn0md41_Wholesome.png'}, {'giver_coin_reward': None, 'subreddit_id': None, 'is_new': False, 'days_of_drip_extension': 0, 'coin_price': 30, 'id': 'award_b4ff447e-05a5-42dc-9002-63568807cfe6', 'penny_donate': None, 'award_sub_type': 'PREMIUM', 'coin_reward': 0, 'icon_url': 'https://www.redditstatic.com/gold/awards/icon/Illuminati_512.png', 'days_of_premium': 0, 'tiers_by_required_awardings': None, 'resized_icons': [{'url': 'https://www.redditstatic.com/gold/awards/icon/Illuminati_16.png', 'width': 16, 'height': 16}, {'url': 'https://www.redditstatic.com/gold/awards/icon/Illuminati_32.png', 'width': 32, 'height': 32}, {'url': 'https://www.redditstatic.com/gold/awards/icon/Illuminati_48.png', 'width': 48, 'height': 48}, {'url': 'https://www.redditstatic.com/gold/awards/icon/Illuminati_64.png', 'width': 64, 'height': 64}, {'url': 'https://www.redditstatic.com/gold/awards/icon/Illuminati_128.png', 'width': 128, 'height': 128}], 'icon_width': 2048, 'static_icon_width': 2048, 'start_date': None, 'is_enabled': True, 'awardings_required_to_grant_benefits': None, 'description': 'A glowing commendation for all to see', 'end_date': None, 'subreddit_coin_reward': 0, 'count': 2, 'static_icon_height': 2048, 'name': 'All-Seeing Upvote', 'resized_static_icons': [{'url': 'https://preview.redd.it/award_images/t5_q0gj4/am40b8b08l581_All-SeeingUpvote2.png?width=16&amp;height=16&amp;auto=webp&amp;s=978c93744e53b8c9305467a7be792e5c401eac6c', 'width': 16, 'height': 16}, {'url': 'https://preview.redd.it/award_images/t5_q0gj4/am40b8b08l581_All-SeeingUpvote2.png?width=32&amp;height=32&amp;auto=webp&amp;s=d2ee343eef5048ad3add75d4a4d4e3922bb9565a', 'width': 32, 'height': 32}, {'url': 'https://preview.redd.it/award_images/t5_q0gj4/am40b8b08l581_All-SeeingUpvote2.png?width=48&amp;height=48&amp;auto=webp&amp;s=7d216fd3a05c61d9fb75b27092844c546d958f14', 'width': 48, 'height': 48}, {'url': 'https://preview.redd.it/award_images/t5_q0gj4/am40b8b08l581_All-SeeingUpvote2.png?width=64&amp;height=64&amp;auto=webp&amp;s=b76693f84fd19b04d0c0444a9812d812105e2d8f', 'width': 64, 'height': 64}, {'url': 'https://preview.redd.it/award_images/t5_q0gj4/am40b8b08l581_All-SeeingUpvote2.png?width=128&amp;height=128&amp;auto=webp&amp;s=5353352ae9f443c353ef0b7725dabcfc1b3829a5', 'width': 128, 'height': 128}], 'icon_format': 'APNG', 'icon_height': 2048, 'penny_price': None, 'award_type': 'global', 'static_icon_url': 'https://i.redd.it/award_images/t5_q0gj4/am40b8b08l581_All-SeeingUpvote2.png'}, {'giver_coin_reward': 0, 'subreddit_id': None, 'is_new': False, 'days_of_drip_extension': 0, 'coin_price': 325, 'id': 'award_2bc47247-b107-44a8-a78c-613da21869ff', 'penny_donate': 0, 'award_sub_type': 'GLOBAL', 'coin_reward': 0, 'icon_url': 'https://www.redditstatic.com/gold/awards/icon/Rocket_512.png', 'days_of_premium': 0, 'tiers_by_required_awardings': None, 'resized_icons': [{'url': 'https://www.redditstatic.com/gold/awards/icon/Rocket_16.png', 'width': 16, 'height': 16}, {'url': 'https://www.redditstatic.com/gold/awards/icon/Rocket_32.png', 'width': 32, 'height': 32}, {'url': 'https://www.redditstatic.com/gold/awards/icon/Rocket_48.png', 'width': 48, 'height': 48}, {'url': 'https://www.redditstatic.com/gold/awards/icon/Rocket_64.png', 'width': 64, 'height': 64}, {'url': 'https://www.redditstatic.com/gold/awards/icon/Rocket_128.png', 'width': 128, 'height': 128}], 'icon_width': 512, 'static_icon_width': 512, 'start_date': None, 'is_enabled': True, 'awardings_required_to_grant_benefits': None, 'description': \"Boldly go where we haven't been in a long, long time.\", 'end_date': None, 'subreddit_coin_reward': 0, 'count': 1, 'static_icon_height': 512, 'name': 'To The Stars', 'resized_static_icons': [{'url': 'https://preview.redd.it/award_images/t5_22cerq/1sof6d93g9e51_ToTheStars.png?width=16&amp;height=16&amp;auto=webp&amp;s=83d4d953873a31c0e3e4a0f0b188ff803bb6b92a', 'width': 16, 'height': 16}, {'url': 'https://preview.redd.it/award_images/t5_22cerq/1sof6d93g9e51_ToTheStars.png?width=32&amp;height=32&amp;auto=webp&amp;s=ec9beb8a11f28bbfb3144bd6edac145af0909baa', 'width': 32, 'height': 32}, {'url': 'https://preview.redd.it/award_images/t5_22cerq/1sof6d93g9e51_ToTheStars.png?width=48&amp;height=48&amp;auto=webp&amp;s=82b887ba042297c5b22a7faecec4721bf2dc354d', 'width': 48, 'height': 48}, {'url': 'https://preview.redd.it/award_images/t5_22cerq/1sof6d93g9e51_ToTheStars.png?width=64&amp;height=64&amp;auto=webp&amp;s=545d53613ea7e025301bfa49f38d1981d86ee001', 'width': 64, 'height': 64}, {'url': 'https://preview.redd.it/award_images/t5_22cerq/1sof6d93g9e51_ToTheStars.png?width=128&amp;height=128&amp;auto=webp&amp;s=878ea0423f2a9a57a0750e2fbe26bf482be5c8c3', 'width': 128, 'height': 128}], 'icon_format': 'APNG', 'icon_height': 512, 'penny_price': 0, 'award_type': 'global', 'static_icon_url': 'https://i.redd.it/award_images/t5_22cerq/1sof6d93g9e51_ToTheStars.png'}], 'awarders': [], 'media_only': False, 'can_gild': True, 'spoiler': False, 'locked': False, 'author_flair_text': None, 'treatment_tags': [], 'visited': False, 'removed_by': None, 'num_reports': None, 'distinguished': None, 'subreddit_id': 't5_2qh1n', 'author_is_blocked': False, 'mod_reason_by': None, 'removal_reason': None, 'link_flair_background_color': '', 'id': 'ssnpa7', 'is_robot_indexable': True, 'report_reasons': None, 'author': 'Vailhem', 'discussion_type': None, 'num_comments': 2445, 'send_replies': False, 'whitelist_status': 'all_ads', 'contest_mode': False, 'mod_reports': [], 'author_patreon_flair': False, 'author_flair_text_color': None, 'permalink': '/r/environment/comments/ssnpa7/us_cornbased_ethanol_worse_for_the_climate_than/', 'parent_whitelist_status': 'all_ads', 'stickied': False, 'url': 'https://www.reuters.com/business/environment/us-corn-based-ethanol-worse-climate-than-gasoline-study-finds-2022-02-14/', 'subreddit_subscribers': 801197, 'created_utc': 1644879998.0, 'num_crossposts': 15, 'media': None, 'is_video': False}}, {'kind': 't3', 'data': {'approved_at_utc': None, 'subreddit': 'environment', 'selftext': '', 'author_fullname': 't2_73pw6g99', 'saved': False, 'mod_reason_title': None, 'gilded': 0, 'clicked': False, 'title': 'California Returns as Climate Leader, With Help From the White House | The Biden administration is restoring the state’s power to set its own limits on tailpipe pollution and is largely adopting the state’s rules regarding heavy trucks.', 'link_flair_richtext': [], 'subreddit_name_prefixed': 'r/environment', 'hidden': False, 'pwls': 6, 'link_flair_css_class': None, 'downs': 0, 'thumbnail_height': 73, 'top_awarded_type': None, 'hide_score': False, 'name': 't3_sth1o3', 'quarantine': False, 'link_flair_text_color': 'dark', 'upvote_ratio': 0.87, 'author_flair_background_color': None, 'subreddit_type': 'public', 'ups': 115, 'total_awards_received': 0, 'media_embed': {}, 'thumbnail_width': 140, 'author_flair_template_id': None, 'is_original_content': False, 'user_reports': [], 'secure_media': None, 'is_reddit_media_domain': False, 'is_meta': False, 'category': None, 'secure_media_embed': {}, 'link_flair_text': None, 'can_mod_post': False, 'score': 115, 'approved_by': None, 'is_created_from_ads_ui': False, 'author_premium': False, 'thumbnail': 'https://b.thumbs.redditmedia.com/D4Tes-GPtt6VHY_1Nz_5Sm6TNGoSwOVbQscb2DAUkAM.jpg', 'edited': False, 'author_flair_css_class': None, 'author_flair_richtext': [], 'gildings': {}, 'post_hint': 'link', 'content_categories': None, 'is_self': False, 'mod_note': None, 'created': 1644968782.0, 'link_flair_type': 'text', 'wls': 6, 'removed_by_category': None, 'banned_by': None, 'author_flair_type': 'text', 'domain': 'nytimes.com', 'allow_live_comments': False, 'selftext_html': None, 'likes': None, 'suggested_sort': None, 'banned_at_utc': None, 'url_overridden_by_dest': 'https://www.nytimes.com/2022/02/15/climate/california-waiver-emissions.html?unlocked_article_code=AAAAAAAAAAAAAAAACEIPuomT1JKd6J17Vw1cRCfTTMQmqxCdw_PIxftm3iWka3DPDm8fiO8RAo2J50qKbqNnZtU0xTKaTZpeOb4xSeY3w-peJFdsTA-z5JuYnZBPawMElbWOZEJklZTcQeJ_tjbwcmiyLOo4zezg4xyKaGX1W_SL2GkmJw80vcBhJl610XRZkfqWReUliNMozu5hUs4hPUoIYyeBv_HoChVsap7RPlyHtF5AC6wOUirTnNWc97sAbA1VbFnHR35-6mo6g8hObJJVZO2sak59J7etxOkZGWdqL4y2BpcuR4aylL9itLTFrRHk29OZg00M9DZWwg4LM7gP3TUv&amp;smid=url-share', 'view_count': None, 'archived': False, 'no_follow': False, 'is_crosspostable': True, 'pinned': False, 'over_18': False, 'preview': {'images': [{'source': {'url': 'https://external-preview.redd.it/bLW3sZOifh1ZHmIaOkGpBJfoCIVTIelRtqQ1WfdXlI0.jpg?auto=webp&amp;s=f5d54c2fad60338595c4608330e9659246191981', 'width': 1050, 'height': 550}, 'resolutions': [{'url': 'https://external-preview.redd.it/bLW3sZOifh1ZHmIaOkGpBJfoCIVTIelRtqQ1WfdXlI0.jpg?width=108&amp;crop=smart&amp;auto=webp&amp;s=2650e43fc0d6c8883624132199db5fd163ebf71e', 'width': 108, 'height': 56}, {'url': 'https://external-preview.redd.it/bLW3sZOifh1ZHmIaOkGpBJfoCIVTIelRtqQ1WfdXlI0.jpg?width=216&amp;crop=smart&amp;auto=webp&amp;s=1b42363ebd6874cd1b1c637ff744089a4fde1f81', 'width': 216, 'height': 113}, {'url': 'https://external-preview.redd.it/bLW3sZOifh1ZHmIaOkGpBJfoCIVTIelRtqQ1WfdXlI0.jpg?width=320&amp;crop=smart&amp;auto=webp&amp;s=f2f64e200bc32d28c7007b3746433d26fdd39342', 'width': 320, 'height': 167}, {'url': 'https://external-preview.redd.it/bLW3sZOifh1ZHmIaOkGpBJfoCIVTIelRtqQ1WfdXlI0.jpg?width=640&amp;crop=smart&amp;auto=webp&amp;s=32b41c26558550b5ce3c6e349151bf9bf8f377bf', 'width': 640, 'height': 335}, {'url': 'https://external-preview.redd.it/bLW3sZOifh1ZHmIaOkGpBJfoCIVTIelRtqQ1WfdXlI0.jpg?width=960&amp;crop=smart&amp;auto=webp&amp;s=dd0c8e93101a9282b5591de23e8d49eace7c41ee', 'width': 960, 'height': 502}], 'variants': {}, 'id': 'OFLZo1FpkagQVM93GqLZU-WeNn4EdrhAd0PRiS16tIg'}], 'enabled': False}, 'all_awardings': [], 'awarders': [], 'media_only': False, 'can_gild': True, 'spoiler': False, 'locked': False, 'author_flair_text': None, 'treatment_tags': [], 'visited': False, 'removed_by': None, 'num_reports': None, 'distinguished': None, 'subreddit_id': 't5_2qh1n', 'author_is_blocked': False, 'mod_reason_by': None, 'removal_reason': None, 'link_flair_background_color': '', 'id': 'sth1o3', 'is_robot_indexable': True, 'report_reasons': None, 'author': 'LeafyDrink', 'discussion_type': None, 'num_comments': 1, 'send_replies': True, 'whitelist_status': 'all_ads', 'contest_mode': False, 'mod_reports': [], 'author_patreon_flair': False, 'author_flair_text_color': None, 'permalink': '/r/environment/comments/sth1o3/california_returns_as_climate_leader_with_help/', 'parent_whitelist_status': 'all_ads', 'stickied': False, 'url': 'https://www.nytimes.com/2022/02/15/climate/california-waiver-emissions.html?unlocked_article_code=AAAAAAAAAAAAAAAACEIPuomT1JKd6J17Vw1cRCfTTMQmqxCdw_PIxftm3iWka3DPDm8fiO8RAo2J50qKbqNnZtU0xTKaTZpeOb4xSeY3w-peJFdsTA-z5JuYnZBPawMElbWOZEJklZTcQeJ_tjbwcmiyLOo4zezg4xyKaGX1W_SL2GkmJw80vcBhJl610XRZkfqWReUliNMozu5hUs4hPUoIYyeBv_HoChVsap7RPlyHtF5AC6wOUirTnNWc97sAbA1VbFnHR35-6mo6g8hObJJVZO2sak59J7etxOkZGWdqL4y2BpcuR4aylL9itLTFrRHk29OZg00M9DZWwg4LM7gP3TUv&amp;smid=url-share', 'subreddit_subscribers': 801197, 'created_utc': 1644968782.0, 'num_crossposts': 1, 'media': None, 'is_video': False}}, {'kind': 't3', 'data': {'approved_at_utc': None, 'subreddit': 'environment', 'selftext': '', 'author_fullname': 't2_3ud1a', 'saved': False, 'mod_reason_title': None, 'gilded': 0, 'clicked': False, 'title': 'Scientists raise alarm over ‘dangerously fast’ growth in atmospheric methane', 'link_flair_richtext': [], 'subreddit_name_prefixed': 'r/environment', 'hidden': False, 'pwls': 6, 'link_flair_css_class': None, 'downs': 0, 'thumbnail_height': 78, 'top_awarded_type': None, 'hide_score': False, 'name': 't3_st9uxp', 'quarantine': False, 'link_flair_text_color': 'dark', 'upvote_ratio': 0.97, 'author_flair_background_color': None, 'subreddit_type': 'public', 'ups': 300, 'total_awards_received': 0, 'media_embed': {}, 'thumbnail_width': 140, 'author_flair_template_id': None, 'is_original_content': False, 'user_reports': [], 'secure_media': None, 'is_reddit_media_domain': False, 'is_meta': False, 'category': None, 'secure_media_embed': {}, 'link_flair_text': None, 'can_mod_post': False, 'score': 300, 'approved_by': None, 'is_created_from_ads_ui': False, 'author_premium': True, 'thumbnail': 'https://b.thumbs.redditmedia.com/2GPPeaMooXQY5CAPUSgTW-wnqRxvFlIEpDJTYyJLNRE.jpg', 'edited': False, 'author_flair_css_class': None, 'author_flair_richtext': [], 'gildings': {}, 'post_hint': 'link', 'content_categories': None, 'is_self': False, 'mod_note': None, 'created': 1644950215.0, 'link_flair_type': 'text', 'wls': 6, 'removed_by_category': None, 'banned_by': None, 'author_flair_type': 'text', 'domain': 'nature.com', 'allow_live_comments': False, 'selftext_html': None, 'likes': None, 'suggested_sort': None, 'banned_at_utc': None, 'url_overridden_by_dest': 'https://www.nature.com/articles/d41586-022-00312-2', 'view_count': None, 'archived': False, 'no_follow': False, 'is_crosspostable': True, 'pinned': False, 'over_18': False, 'preview': {'images': [{'source': {'url': 'https://external-preview.redd.it/R8G9Jj4Q5BmNZWQVcj34lHoxM_W8CJqs2--QF8FCkW8.jpg?auto=webp&amp;s=bbf9295a47198b70fa282d8692af05be3bebd413', 'width': 1024, 'height': 576}, 'resolutions': [{'url': 'https://external-preview.redd.it/R8G9Jj4Q5BmNZWQVcj34lHoxM_W8CJqs2--QF8FCkW8.jpg?width=108&amp;crop=smart&amp;auto=webp&amp;s=e95542511e7d49f5406a31c2cf3bec04a11711a3', 'width': 108, 'height': 60}, {'url': 'https://external-preview.redd.it/R8G9Jj4Q5BmNZWQVcj34lHoxM_W8CJqs2--QF8FCkW8.jpg?width=216&amp;crop=smart&amp;auto=webp&amp;s=2e336ec7b1ed89dee45f0f25f10ad11d8f3d0d76', 'width': 216, 'height': 121}, {'url': 'https://external-preview.redd.it/R8G9Jj4Q5BmNZWQVcj34lHoxM_W8CJqs2--QF8FCkW8.jpg?width=320&amp;crop=smart&amp;auto=webp&amp;s=a7abc30fdeb1b64f337748dc218b0e48313871df', 'width': 320, 'height': 180}, {'url': 'https://external-preview.redd.it/R8G9Jj4Q5BmNZWQVcj34lHoxM_W8CJqs2--QF8FCkW8.jpg?width=640&amp;crop=smart&amp;auto=webp&amp;s=1210fcc6679d5c6866fa8c2ec40e229018555f7d', 'width': 640, 'height': 360}, {'url': 'https://external-preview.redd.it/R8G9Jj4Q5BmNZWQVcj34lHoxM_W8CJqs2--QF8FCkW8.jpg?width=960&amp;crop=smart&amp;auto=webp&amp;s=c205329a1094874f10a3f9adc5b2a86d31d22b93', 'width': 960, 'height': 540}], 'variants': {}, 'id': '45_11mn4Jp8fl_LulgMte57xSU6fN3BUCIveg4iproo'}], 'enabled': False}, 'all_awardings': [], 'awarders': [], 'media_only': False, 'can_gild': True, 'spoiler': False, 'locked': False, 'author_flair_text': None, 'treatment_tags': [], 'visited': False, 'removed_by': None, 'num_reports': None, 'distinguished': None, 'subreddit_id': 't5_2qh1n', 'author_is_blocked': False, 'mod_reason_by': None, 'removal_reason': None, 'link_flair_background_color': '', 'id': 'st9uxp', 'is_robot_indexable': True, 'report_reasons': None, 'author': 'Splenda', 'discussion_type': None, 'num_comments': 44, 'send_replies': True, 'whitelist_status': 'all_ads', 'contest_mode': False, 'mod_reports': [], 'author_patreon_flair': False, 'author_flair_text_color': None, 'permalink': '/r/environment/comments/st9uxp/scientists_raise_alarm_over_dangerously_fast/', 'parent_whitelist_status': 'all_ads', 'stickied': False, 'url': 'https://www.nature.com/articles/d41586-022-00312-2', 'subreddit_subscribers': 801197, 'created_utc': 1644950215.0, 'num_crossposts': 0, 'media': None, 'is_video': False}}, {'kind': 't3', 'data': {'approved_at_utc': None, 'subreddit': 'environment', 'selftext': '', 'author_fullname': 't2_ja7vsx5g', 'saved': False, 'mod_reason_title': None, 'gilded': 0, 'clicked': False, 'title': '80,000 litres of oil leaks into sea off Welsh coast | ITV News', 'link_flair_richtext': [], 'subreddit_name_prefixed': 'r/environment', 'hidden': False, 'pwls': 6, 'link_flair_css_class': None, 'downs': 0, 'thumbnail_height': 78, 'top_awarded_type': None, 'hide_score': False, 'name': 't3_st9e37', 'quarantine': False, 'link_flair_text_color': 'dark', 'upvote_ratio': 0.98, 'author_flair_background_color': None, 'subreddit_type': 'public', 'ups': 307, 'total_awards_received': 0, 'media_embed': {}, 'thumbnail_width': 140, 'author_flair_template_id': None, 'is_original_content': False, 'user_reports': [], 'secure_media': None, 'is_reddit_media_domain': False, 'is_meta': False, 'category': None, 'secure_media_embed': {}, 'link_flair_text': None, 'can_mod_post': False, 'score': 307, 'approved_by': None, 'is_created_from_ads_ui': False, 'author_premium': False, 'thumbnail': 'https://b.thumbs.redditmedia.com/l3-aQ5-U019Bgoa6_z2kTGFSoza77qkYJcN8VIT1LnI.jpg', 'edited': False, 'author_flair_css_class': None, 'author_flair_richtext': [], 'gildings': {}, 'post_hint': 'link', 'content_categories': None, 'is_self': False, 'mod_note': None, 'created': 1644949021.0, 'link_flair_type': 'text', 'wls': 6, 'removed_by_category': None, 'banned_by': None, 'author_flair_type': 'text', 'domain': 'itv.com', 'allow_live_comments': True, 'selftext_html': None, 'likes': None, 'suggested_sort': None, 'banned_at_utc': None, 'url_overridden_by_dest': 'https://www.itv.com/news/wales/2022-02-15/80000-litres-of-oil-leaks-into-sea-off-welsh-coast', 'view_count': None, 'archived': False, 'no_follow': False, 'is_crosspostable': True, 'pinned': False, 'over_18': False, 'preview': {'images': [{'source': {'url': 'https://external-preview.redd.it/R4EU2_fqn0xf113bQqBnYVKrCzzYAaitdXYqViu_c-w.jpg?auto=webp&amp;s=bc530989121bd4af391fed1844871b2b839cbbef', 'width': 512, 'height': 288}, 'resolutions': [{'url': 'https://external-preview.redd.it/R4EU2_fqn0xf113bQqBnYVKrCzzYAaitdXYqViu_c-w.jpg?width=108&amp;crop=smart&amp;auto=webp&amp;s=1ab8c4f83825954a42f0b8663c06494a83feec47', 'width': 108, 'height': 60}, {'url': 'https://external-preview.redd.it/R4EU2_fqn0xf113bQqBnYVKrCzzYAaitdXYqViu_c-w.jpg?width=216&amp;crop=smart&amp;auto=webp&amp;s=76b3b167db60b77a7cc29f58cc5e20de4069c1dd', 'width': 216, 'height': 121}, {'url': 'https://external-preview.redd.it/R4EU2_fqn0xf113bQqBnYVKrCzzYAaitdXYqViu_c-w.jpg?width=320&amp;crop=smart&amp;auto=webp&amp;s=ada0d28030d49e29e152e4e82ba5489e63581020', 'width': 320, 'height': 180}], 'variants': {}, 'id': 'khs-NYGKt7zDZmEuqYY1ky-Q67z6oohobVbtL5VmOXY'}], 'enabled': False}, 'all_awardings': [], 'awarders': [], 'media_only': False, 'can_gild': True, 'spoiler': False, 'locked': False, 'author_flair_text': None, 'treatment_tags': [], 'visited': False, 'removed_by': None, 'num_reports': None, 'distinguished': None, 'subreddit_id': 't5_2qh1n', 'author_is_blocked': False, 'mod_reason_by': None, 'removal_reason': None, 'link_flair_background_color': '', 'id': 'st9e37', 'is_robot_indexable': True, 'report_reasons': None, 'author': 'PriniPornado', 'discussion_type': None, 'num_comments': 14, 'send_replies': True, 'whitelist_status': 'all_ads', 'contest_mode': False, 'mod_reports': [], 'author_patreon_flair': False, 'author_flair_text_color': None, 'permalink': '/r/environment/comments/st9e37/80000_litres_of_oil_leaks_into_sea_off_welsh/', 'parent_whitelist_status': 'all_ads', 'stickied': False, 'url': 'https://www.itv.com/news/wales/2022-02-15/80000-litres-of-oil-leaks-into-sea-off-welsh-coast', 'subreddit_subscribers': 801197, 'created_utc': 1644949021.0, 'num_crossposts': 0, 'media': None, 'is_video': False}}, {'kind': 't3', 'data': {'approved_at_utc': None, 'subreddit': 'environment', 'selftext': '', 'author_fullname': 't2_5hfo4a9t', 'saved': False, 'mod_reason_title': None, 'gilded': 0, 'clicked': False, 'title': 'Top environmental groups call on Biden to protect mature trees and forests on federal lands from logging', 'link_flair_richtext': [], 'subreddit_name_prefixed': 'r/environment', 'hidden': False, 'pwls': 6, 'link_flair_css_class': None, 'downs': 0, 'thumbnail_height': 78, 'top_awarded_type': None, 'hide_score': False, 'name': 't3_st7d1m', 'quarantine': False, 'link_flair_text_color': 'dark', 'upvote_ratio': 0.98, 'author_flair_background_color': None, 'subreddit_type': 'public', 'ups': 228, 'total_awards_received': 0, 'media_embed': {}, 'thumbnail_width': 140, 'author_flair_template_id': None, 'is_original_content': False, 'user_reports': [], 'secure_media': None, 'is_reddit_media_domain': False, 'is_meta': False, 'category': None, 'secure_media_embed': {}, 'link_flair_text': None, 'can_mod_post': False, 'score': 228, 'approved_by': None, 'is_created_from_ads_ui': False, 'author_premium': False, 'thumbnail': 'https://b.thumbs.redditmedia.com/rFW_4iYosuAtFOKy7lLuULg9DcNYZnzc2m34iDvQebY.jpg', 'edited': False, 'author_flair_css_class': None, 'author_flair_richtext': [], 'gildings': {}, 'post_hint': 'link', 'content_categories': None, 'is_self': False, 'mod_note': None, 'created': 1644943804.0, 'link_flair_type': 'text', 'wls': 6, 'removed_by_category': None, 'banned_by': None, 'author_flair_type': 'text', 'domain': 'washingtonpost.com', 'allow_live_comments': False, 'selftext_html': None, 'likes': None, 'suggested_sort': None, 'banned_at_utc': None, 'url_overridden_by_dest': 'https://www.washingtonpost.com/politics/2022/02/15/top-environmental-groups-call-president-biden-protect-mature-trees-forests-federal-lands-logging/', 'view_count': None, 'archived': False, 'no_follow': False, 'is_crosspostable': True, 'pinned': False, 'over_18': False, 'preview': {'images': [{'source': {'url': 'https://external-preview.redd.it/ISuvPgm3EXjyfiOsos7h1_CKGD0QUXpsP9-badRAq_4.jpg?auto=webp&amp;s=0c42e4fbfb37043e0fc2335fd9f886028504a45e', 'width': 1440, 'height': 810}, 'resolutions': [{'url': 'https://external-preview.redd.it/ISuvPgm3EXjyfiOsos7h1_CKGD0QUXpsP9-badRAq_4.jpg?width=108&amp;crop=smart&amp;auto=webp&amp;s=ebd06a64443c94042e47e702f5cb2366e77f3acd', 'width': 108, 'height': 60}, {'url': 'https://external-preview.redd.it/ISuvPgm3EXjyfiOsos7h1_CKGD0QUXpsP9-badRAq_4.jpg?width=216&amp;crop=smart&amp;auto=webp&amp;s=3373c2a717fd4df521c4fdfeab927fa842e6c612', 'width': 216, 'height': 121}, {'url': 'https://external-preview.redd.it/ISuvPgm3EXjyfiOsos7h1_CKGD0QUXpsP9-badRAq_4.jpg?width=320&amp;crop=smart&amp;auto=webp&amp;s=77dc1a21fe88d9f8363e62cea55f7d66726236a6', 'width': 320, 'height': 180}, {'url': 'https://external-preview.redd.it/ISuvPgm3EXjyfiOsos7h1_CKGD0QUXpsP9-badRAq_4.jpg?width=640&amp;crop=smart&amp;auto=webp&amp;s=cf76e02e482b0d0bb99f342a47c691270e17810d', 'width': 640, 'height': 360}, {'url': 'https://external-preview.redd.it/ISuvPgm3EXjyfiOsos7h1_CKGD0QUXpsP9-badRAq_4.jpg?width=960&amp;crop=smart&amp;auto=webp&amp;s=3b8d9bae067c1e72364c721667e1569194b43199', 'width': 960, 'height': 540}, {'url': 'https://external-preview.redd.it/ISuvPgm3EXjyfiOsos7h1_CKGD0QUXpsP9-badRAq_4.jpg?width=1080&amp;crop=smart&amp;auto=webp&amp;s=a611142cfea92db2155a41ff246baf7328199d39', 'width': 1080, 'height': 607}], 'variants': {}, 'id': 'y087E5YQofxmk-EmlkH7n_e8t2fg3gnpc_U9PtLd3Gg'}], 'enabled': False}, 'all_awardings': [], 'awarders': [], 'media_only': False, 'can_gild': True, 'spoiler': False, 'locked': False, 'author_flair_text': None, 'treatment_tags': [], 'visited': False, 'removed_by': None, 'num_reports': None, 'distinguished': None, 'subreddit_id': 't5_2qh1n', 'author_is_blocked': False, 'mod_reason_by': None, 'removal_reason': None, 'link_flair_background_color': '', 'id': 'st7d1m', 'is_robot_indexable': True, 'report_reasons': None, 'author': 'AvidLogos', 'discussion_type': None, 'num_comments': 6, 'send_replies': True, 'whitelist_status': 'all_ads', 'contest_mode': False, 'mod_reports': [], 'author_patreon_flair': False, 'author_flair_text_color': None, 'permalink': '/r/environment/comments/st7d1m/top_environmental_groups_call_on_biden_to_protect/', 'parent_whitelist_status': 'all_ads', 'stickied': False, 'url': 'https://www.washingtonpost.com/politics/2022/02/15/top-environmental-groups-call-president-biden-protect-mature-trees-forests-federal-lands-logging/', 'subreddit_subscribers': 801197, 'created_utc': 1644943804.0, 'num_crossposts': 0, 'media': None, 'is_video': False}}, {'kind': 't3', 'data': {'approved_at_utc': None, 'subreddit': 'environment', 'selftext': '', 'author_fullname': 't2_97a3', 'saved': False, 'mod_reason_title': None, 'gilded': 0, 'clicked': False, 'title': 'Sea level to rise one foot along U.S. coastlines by 2050, government report finds', 'link_flair_richtext': [], 'subreddit_name_prefixed': 'r/environment', 'hidden': False, 'pwls': 6, 'link_flair_css_class': None, 'downs': 0, 'thumbnail_height': 93, 'top_awarded_type': None, 'hide_score': False, 'name': 't3_std6mg', 'quarantine': False, 'link_flair_text_color': 'dark', 'upvote_ratio': 0.89, 'author_flair_background_color': None, 'subreddit_type': 'public', 'ups': 96, 'total_awards_received': 0, 'media_embed': {}, 'thumbnail_width': 140, 'author_flair_template_id': None, 'is_original_content': False, 'user_reports': [], 'secure_media': None, 'is_reddit_media_domain': False, 'is_meta': False, 'category': None, 'secure_media_embed': {}, 'link_flair_text': None, 'can_mod_post': False, 'score': 96, 'approved_by': None, 'is_created_from_ads_ui': False, 'author_premium': True, 'thumbnail': 'https://b.thumbs.redditmedia.com/4qPW3Eloaxne5GdqspJmxrbyKVfRA1l0D7O4ucUtsIo.jpg', 'edited': False, 'author_flair_css_class': None, 'author_flair_richtext': [], 'gildings': {}, 'post_hint': 'link', 'content_categories': None, 'is_self': False, 'mod_note': None, 'created': 1644958742.0, 'link_flair_type': 'text', 'wls': 6, 'removed_by_category': None, 'banned_by': None, 'author_flair_type': 'text', 'domain': 'washingtonpost.com', 'allow_live_comments': False, 'selftext_html': None, 'likes': None, 'suggested_sort': None, 'banned_at_utc': None, 'url_overridden_by_dest': 'https://www.washingtonpost.com/climate-environment/2022/02/15/sea-level-rise-2050-climate/', 'view_count': None, 'archived': False, 'no_follow': False, 'is_crosspostable': True, 'pinned': False, 'over_18': False, 'preview': {'images': [{'source': {'url': 'https://external-preview.redd.it/FmYwY93hEVxY7NcwaAF7RMuIPUiA4X2BqxDLAEPuSSA.jpg?auto=webp&amp;s=3efd12afd42e2964cd8cd3db1cfe367e3a8a0632', 'width': 1440, 'height': 960}, 'resolutions': [{'url': 'https://external-preview.redd.it/FmYwY93hEVxY7NcwaAF7RMuIPUiA4X2BqxDLAEPuSSA.jpg?width=108&amp;crop=smart&amp;auto=webp&amp;s=3bc2db0b3b93c6175b5d8feff33652fa0e3114b1', 'width': 108, 'height': 72}, {'url': 'https://external-preview.redd.it/FmYwY93hEVxY7NcwaAF7RMuIPUiA4X2BqxDLAEPuSSA.jpg?width=216&amp;crop=smart&amp;auto=webp&amp;s=d227d1d78cdfe92ecb6ad0d5fbcee8ddca7ed3ae', 'width': 216, 'height': 144}, {'url': 'https://external-preview.redd.it/FmYwY93hEVxY7NcwaAF7RMuIPUiA4X2BqxDLAEPuSSA.jpg?width=320&amp;crop=smart&amp;auto=webp&amp;s=d00bd8cbe7a2938b7fbd2a3c454c0849531f033d', 'width': 320, 'height': 213}, {'url': 'https://external-preview.redd.it/FmYwY93hEVxY7NcwaAF7RMuIPUiA4X2BqxDLAEPuSSA.jpg?width=640&amp;crop=smart&amp;auto=webp&amp;s=ab16a80db17db9b74bafc3ce196e8644a1caf9c0', 'width': 640, 'height': 426}, {'url': 'https://external-preview.redd.it/FmYwY93hEVxY7NcwaAF7RMuIPUiA4X2BqxDLAEPuSSA.jpg?width=960&amp;crop=smart&amp;auto=webp&amp;s=3d02bb552b631c686b30fc53cc13957752872ae8', 'width': 960, 'height': 640}, {'url': 'https://external-preview.redd.it/FmYwY93hEVxY7NcwaAF7RMuIPUiA4X2BqxDLAEPuSSA.jpg?width=1080&amp;crop=smart&amp;auto=webp&amp;s=087520511cecb2a71d40a73fb8d187230095d5a8', 'width': 1080, 'height': 720}], 'variants': {}, 'id': 'fE7w69w5JD8IMXFWdeKUF9NjTe6g3rxfMp8k5wpNL98'}], 'enabled': False}, 'all_awardings': [], 'awarders': [], 'media_only': False, 'can_gild': True, 'spoiler': False, 'locked': False, 'author_flair_text': None, 'treatment_tags': [], 'visited': False, 'removed_by': None, 'num_reports': None, 'distinguished': None, 'subreddit_id': 't5_2qh1n', 'author_is_blocked': False, 'mod_reason_by': None, 'removal_reason': None, 'link_flair_background_color': '', 'id': 'std6mg', 'is_robot_indexable': True, 'report_reasons': None, 'author': 'BlankVerse', 'discussion_type': None, 'num_comments': 46, 'send_replies': True, 'whitelist_status': 'all_ads', 'contest_mode': False, 'mod_reports': [], 'author_patreon_flair': False, 'author_flair_text_color': None, 'permalink': '/r/environment/comments/std6mg/sea_level_to_rise_one_foot_along_us_coastlines_by/', 'parent_whitelist_status': 'all_ads', 'stickied': False, 'url': 'https://www.washingtonpost.com/climate-environment/2022/02/15/sea-level-rise-2050-climate/', 'subreddit_subscribers': 801197, 'created_utc': 1644958742.0, 'num_crossposts': 0, 'media': None, 'is_video': False}}, {'kind': 't3', 'data': {'approved_at_utc': None, 'subreddit': 'environment', 'selftext': '', 'author_fullname': 't2_78uiw9fn', 'saved': False, 'mod_reason_title': None, 'gilded': 0, 'clicked': False, 'title': 'Private Equity Executives Hide Behind Philanthropy as Their Firms Ravage the Earth', 'link_flair_richtext': [], 'subreddit_name_prefixed': 'r/environment', 'hidden': False, 'pwls': 6, 'link_flair_css_class': None, 'downs': 0, 'thumbnail_height': 73, 'top_awarded_type': None, 'hide_score': True, 'name': 't3_stjpj4', 'quarantine': False, 'link_flair_text_color': 'dark', 'upvote_ratio': 0.92, 'author_flair_background_color': None, 'subreddit_type': 'public', 'ups': 29, 'total_awards_received': 0, 'media_embed': {}, 'thumbnail_width': 140, 'author_flair_template_id': None, 'is_original_content': False, 'user_reports': [], 'secure_media': None, 'is_reddit_media_domain': False, 'is_meta': False, 'category': None, 'secure_media_embed': {}, 'link_flair_text': None, 'can_mod_post': False, 'score': 29, 'approved_by': None, 'is_created_from_ads_ui': False, 'author_premium': True, 'thumbnail': 'https://b.thumbs.redditmedia.com/BayA435NeAzhOgBR_6HMiPdyTTJI5WRZnDeOZ6BucPk.jpg', 'edited': False, 'author_flair_css_class': None, 'author_flair_richtext': [], 'gildings': {}, 'post_hint': 'link', 'content_categories': None, 'is_self': False, 'mod_note': None, 'created': 1644976146.0, 'link_flair_type': 'text', 'wls': 6, 'removed_by_category': None, 'banned_by': None, 'author_flair_type': 'text', 'domain': 'commondreams.org', 'allow_live_comments': False, 'selftext_html': None, 'likes': None, 'suggested_sort': None, 'banned_at_utc': None, 'url_overridden_by_dest': 'https://www.commondreams.org/news/2022/02/15/private-equity-executives-hide-behind-philanthropy-their-firms-ravage-earth', 'view_count': None, 'archived': False, 'no_follow': False, 'is_crosspostable': True, 'pinned': False, 'over_18': False, 'preview': {'images': [{'source': {'url': 'https://external-preview.redd.it/ifAyOJnUukgBb9rdEMdJJE_hy_VRBmsB_t8GI0zYi8c.jpg?auto=webp&amp;s=836350ad8d1d8b0ff801448bceaaa0aadc8bbb44', 'width': 1200, 'height': 630}, 'resolutions': [{'url': 'https://external-preview.redd.it/ifAyOJnUukgBb9rdEMdJJE_hy_VRBmsB_t8GI0zYi8c.jpg?width=108&amp;crop=smart&amp;auto=webp&amp;s=4e146d243cc06470ec0ed3bc7b4aa2663587ddb6', 'width': 108, 'height': 56}, {'url': 'https://external-preview.redd.it/ifAyOJnUukgBb9rdEMdJJE_hy_VRBmsB_t8GI0zYi8c.jpg?width=216&amp;crop=smart&amp;auto=webp&amp;s=e77886208dc38f56c041c92366a17cea09b62622', 'width': 216, 'height': 113}, {'url': 'https://external-preview.redd.it/ifAyOJnUukgBb9rdEMdJJE_hy_VRBmsB_t8GI0zYi8c.jpg?width=320&amp;crop=smart&amp;auto=webp&amp;s=7d23e6c24eed64249edc2e96920b0dc41f6d1e26', 'width': 320, 'height': 168}, {'url': 'https://external-preview.redd.it/ifAyOJnUukgBb9rdEMdJJE_hy_VRBmsB_t8GI0zYi8c.jpg?width=640&amp;crop=smart&amp;auto=webp&amp;s=a86887f9ccf9eea04e4be0d61f9e7c43b02d9097', 'width': 640, 'height': 336}, {'url': 'https://external-preview.redd.it/ifAyOJnUukgBb9rdEMdJJE_hy_VRBmsB_t8GI0zYi8c.jpg?width=960&amp;crop=smart&amp;auto=webp&amp;s=94ccb4d601c92238acd282e3eb762fbf5baef17d', 'width': 960, 'height': 504}, {'url': 'https://external-preview.redd.it/ifAyOJnUukgBb9rdEMdJJE_hy_VRBmsB_t8GI0zYi8c.jpg?width=1080&amp;crop=smart&amp;auto=webp&amp;s=d27261500dd5b191ab2750dbc55efb550469d3c1', 'width': 1080, 'height': 567}], 'variants': {}, 'id': 'SJgVvZrt4kTKkuKiGIKMqVx-_H_AW1evW7RXGpCcyuY'}], 'enabled': False}, 'all_awardings': [], 'awarders': [], 'media_only': False, 'can_gild': True, 'spoiler': False, 'locked': False, 'author_flair_text': None, 'treatment_tags': [], 'visited': False, 'removed_by': None, 'num_reports': None, 'distinguished': None, 'subreddit_id': 't5_2qh1n', 'author_is_blocked': False, 'mod_reason_by': None, 'removal_reason': None, 'link_flair_background_color': '', 'id': 'stjpj4', 'is_robot_indexable': True, 'report_reasons': None, 'author': 'Nick__________', 'discussion_type': None, 'num_comments': 2, 'send_replies': True, 'whitelist_status': 'all_ads', 'contest_mode': False, 'mod_reports': [], 'author_patreon_flair': False, 'author_flair_text_color': None, 'permalink': '/r/environment/comments/stjpj4/private_equity_executives_hide_behind/', 'parent_whitelist_status': 'all_ads', 'stickied': False, 'url': 'https://www.commondreams.org/news/2022/02/15/private-equity-executives-hide-behind-philanthropy-their-firms-ravage-earth', 'subreddit_subscribers': 801197, 'created_utc': 1644976146.0, 'num_crossposts': 0, 'media': None, 'is_video': False}}, {'kind': 't3', 'data': {'approved_at_utc': None, 'subreddit': 'environment', 'selftext': '', 'author_fullname': 't2_11hhai', 'saved': False, 'mod_reason_title': None, 'gilded': 0, 'clicked': False, 'title': \"U.S. could see a century's worth of sea rise in just 30 years\", 'link_flair_richtext': [], 'subreddit_name_prefixed': 'r/environment', 'hidden': False, 'pwls': 6, 'link_flair_css_class': None, 'downs': 0, 'thumbnail_height': 78, 'top_awarded_type': None, 'hide_score': False, 'name': 't3_stfrgk', 'quarantine': False, 'link_flair_text_color': 'dark', 'upvote_ratio': 0.89, 'author_flair_background_color': None, 'subreddit_type': 'public', 'ups': 25, 'total_awards_received': 0, 'media_embed': {}, 'thumbnail_width': 140, 'author_flair_template_id': None, 'is_original_content': False, 'user_reports': [], 'secure_media': None, 'is_reddit_media_domain': False, 'is_meta': False, 'category': None, 'secure_media_embed': {}, 'link_flair_text': None, 'can_mod_post': False, 'score': 25, 'approved_by': None, 'is_created_from_ads_ui': False, 'author_premium': False, 'thumbnail': 'https://b.thumbs.redditmedia.com/Ohpe_96TKD8R3YWZleOPr9rLczfp_crf3FJpi21qDVA.jpg', 'edited': False, 'author_flair_css_class': None, 'author_flair_richtext': [], 'gildings': {}, 'post_hint': 'link', 'content_categories': None, 'is_self': False, 'mod_note': None, 'created': 1644965405.0, 'link_flair_type': 'text', 'wls': 6, 'removed_by_category': None, 'banned_by': None, 'author_flair_type': 'text', 'domain': 'ctvnews.ca', 'allow_live_comments': False, 'selftext_html': None, 'likes': None, 'suggested_sort': None, 'banned_at_utc': None, 'url_overridden_by_dest': 'https://www.ctvnews.ca/climate-and-environment/u-s-could-see-a-century-s-worth-of-sea-rise-in-just-30-years-1.5782402', 'view_count': None, 'archived': False, 'no_follow': False, 'is_crosspostable': True, 'pinned': False, 'over_18': False, 'preview': {'images': [{'source': {'url': 'https://external-preview.redd.it/Yggc6nU7_2PcqnAMGzvA294P7jQVHbcirhJEWcbRGMU.jpg?auto=webp&amp;s=f3a08957482e4c90747fd76922ebadc431b21af1', 'width': 620, 'height': 349}, 'resolutions': [{'url': 'https://external-preview.redd.it/Yggc6nU7_2PcqnAMGzvA294P7jQVHbcirhJEWcbRGMU.jpg?width=108&amp;crop=smart&amp;auto=webp&amp;s=f03b3e77f1787f88d32a6516d5d68f6525a1da00', 'width': 108, 'height': 60}, {'url': 'https://external-preview.redd.it/Yggc6nU7_2PcqnAMGzvA294P7jQVHbcirhJEWcbRGMU.jpg?width=216&amp;crop=smart&amp;auto=webp&amp;s=b2ea17b9328704ff2b39865fdfffd0b58fdae924', 'width': 216, 'height': 121}, {'url': 'https://external-preview.redd.it/Yggc6nU7_2PcqnAMGzvA294P7jQVHbcirhJEWcbRGMU.jpg?width=320&amp;crop=smart&amp;auto=webp&amp;s=2434832b292a6e1eacc9030fe0d9f737825bddc8', 'width': 320, 'height': 180}], 'variants': {}, 'id': '-6M509SLeb8unJK_2pnJRPwS0UpbKxMCJiDVwaUTIl4'}], 'enabled': False}, 'all_awardings': [], 'awarders': [], 'media_only': False, 'can_gild': True, 'spoiler': False, 'locked': False, 'author_flair_text': None, 'treatment_tags': [], 'visited': False, 'removed_by': None, 'num_reports': None, 'distinguished': None, 'subreddit_id': 't5_2qh1n', 'author_is_blocked': False, 'mod_reason_by': None, 'removal_reason': None, 'link_flair_background_color': '', 'id': 'stfrgk', 'is_robot_indexable': True, 'report_reasons': None, 'author': 'YoanB', 'discussion_type': None, 'num_comments': 4, 'send_replies': True, 'whitelist_status': 'all_ads', 'contest_mode': False, 'mod_reports': [], 'author_patreon_flair': False, 'author_flair_text_color': None, 'permalink': '/r/environment/comments/stfrgk/us_could_see_a_centurys_worth_of_sea_rise_in_just/', 'parent_whitelist_status': 'all_ads', 'stickied': False, 'url': 'https://www.ctvnews.ca/climate-and-environment/u-s-could-see-a-century-s-worth-of-sea-rise-in-just-30-years-1.5782402', 'subreddit_subscribers': 801197, 'created_utc': 1644965405.0, 'num_crossposts': 0, 'media': None, 'is_video': False}}, {'kind': 't3', 'data': {'approved_at_utc': None, 'subreddit': 'environment', 'selftext': '', 'author_fullname': 't2_4887t', 'saved': False, 'mod_reason_title': None, 'gilded': 0, 'clicked': False, 'title': 'Banks haven’t quit coal. Study says commercial lenders have channeled $1.5 trillion to the industry since 2019', 'link_flair_richtext': [], 'subreddit_name_prefixed': 'r/environment', 'hidden': False, 'pwls': 6, 'link_flair_css_class': None, 'downs': 0, 'thumbnail_height': 86, 'top_awarded_type': None, 'hide_score': False, 'name': 't3_sswja5', 'quarantine': False, 'link_flair_text_color': 'dark', 'upvote_ratio': 0.97, 'author_flair_background_color': None, 'subreddit_type': 'public', 'ups': 430, 'total_awards_received': 0, 'media_embed': {}, 'thumbnail_width': 140, 'author_flair_template_id': None, 'is_original_content': False, 'user_reports': [], 'secure_media': None, 'is_reddit_media_domain': False, 'is_meta': False, 'category': None, 'secure_media_embed': {}, 'link_flair_text': None, 'can_mod_post': False, 'score': 430, 'approved_by': None, 'is_created_from_ads_ui': False, 'author_premium': False, 'thumbnail': 'https://b.thumbs.redditmedia.com/nOpOn1MF5hphYIbOf8mQVOzicw-CEmNPBA9E8bVbJFs.jpg', 'edited': False, 'author_flair_css_class': None, 'author_flair_richtext': [], 'gildings': {}, 'post_hint': 'link', 'content_categories': None, 'is_self': False, 'mod_note': None, 'created': 1644906942.0, 'link_flair_type': 'text', 'wls': 6, 'removed_by_category': None, 'banned_by': None, 'author_flair_type': 'text', 'domain': 'cnbc.com', 'allow_live_comments': False, 'selftext_html': None, 'likes': None, 'suggested_sort': None, 'banned_at_utc': None, 'url_overridden_by_dest': 'https://www.cnbc.com/2022/02/15/climate-research-shows-how-banks-investors-finance-the-coal-industry.html', 'view_count': None, 'archived': False, 'no_follow': False, 'is_crosspostable': True, 'pinned': False, 'over_18': False, 'preview': {'images': [{'source': {'url': 'https://external-preview.redd.it/pZWv5n-czOWOt9_2S-JR653-ZnaM-z1M9x828k20Enw.jpg?auto=webp&amp;s=0fa376e405d203a77be2972047886f71304d0c9c', 'width': 5568, 'height': 3460}, 'resolutions': [{'url': 'https://external-preview.redd.it/pZWv5n-czOWOt9_2S-JR653-ZnaM-z1M9x828k20Enw.jpg?width=108&amp;crop=smart&amp;auto=webp&amp;s=7ba658e174c1fbf1f0dd293bde79ddc114129c8e', 'width': 108, 'height': 67}, {'url': 'https://external-preview.redd.it/pZWv5n-czOWOt9_2S-JR653-ZnaM-z1M9x828k20Enw.jpg?width=216&amp;crop=smart&amp;auto=webp&amp;s=156ade32cb7b2b8646f40b100253a4a1335df440', 'width': 216, 'height': 134}, {'url': 'https://external-preview.redd.it/pZWv5n-czOWOt9_2S-JR653-ZnaM-z1M9x828k20Enw.jpg?width=320&amp;crop=smart&amp;auto=webp&amp;s=f5109052e50965ddcf3656d40fdd0bab9b9a910e', 'width': 320, 'height': 198}, {'url': 'https://external-preview.redd.it/pZWv5n-czOWOt9_2S-JR653-ZnaM-z1M9x828k20Enw.jpg?width=640&amp;crop=smart&amp;auto=webp&amp;s=70372c4bec9321c88b61177ebb111abaad9095eb', 'width': 640, 'height': 397}, {'url': 'https://external-preview.redd.it/pZWv5n-czOWOt9_2S-JR653-ZnaM-z1M9x828k20Enw.jpg?width=960&amp;crop=smart&amp;auto=webp&amp;s=5fbac755b06703073fa20ea8931d85127b513799', 'width': 960, 'height': 596}, {'url': 'https://external-preview.redd.it/pZWv5n-czOWOt9_2S-JR653-ZnaM-z1M9x828k20Enw.jpg?width=1080&amp;crop=smart&amp;auto=webp&amp;s=ecd209ca62d6a3520010e89cb146cdac205ac8ab', 'width': 1080, 'height': 671}], 'variants': {}, 'id': 'lEVe6x57l8hhU7fKtKwJcMmL99ccUMQgY6VERgxz6dU'}], 'enabled': False}, 'all_awardings': [], 'awarders': [], 'media_only': False, 'can_gild': True, 'spoiler': False, 'locked': False, 'author_flair_text': None, 'treatment_tags': [], 'visited': False, 'removed_by': None, 'num_reports': None, 'distinguished': None, 'subreddit_id': 't5_2qh1n', 'author_is_blocked': False, 'mod_reason_by': None, 'removal_reason': None, 'link_flair_background_color': '', 'id': 'sswja5', 'is_robot_indexable': True, 'report_reasons': None, 'author': 'readerseven', 'discussion_type': None, 'num_comments': 5, 'send_replies': False, 'whitelist_status': 'all_ads', 'contest_mode': False, 'mod_reports': [], 'author_patreon_flair': False, 'author_flair_text_color': None, 'permalink': '/r/environment/comments/sswja5/banks_havent_quit_coal_study_says_commercial/', 'parent_whitelist_status': 'all_ads', 'stickied': False, 'url': 'https://www.cnbc.com/2022/02/15/climate-research-shows-how-banks-investors-finance-the-coal-industry.html', 'subreddit_subscribers': 801197, 'created_utc': 1644906942.0, 'num_crossposts': 0, 'media': None, 'is_video': False}}, {'kind': 't3', 'data': {'approved_at_utc': None, 'subreddit': 'environment', 'selftext': '', 'author_fullname': 't2_hhq3wyu', 'saved': False, 'mod_reason_title': None, 'gilded': 0, 'clicked': False, 'title': 'The American West Is Likely Too Far Gone to Return to the Way It Was - The term \"aridification\" has far different implications than \"drought.\"', 'link_flair_richtext': [], 'subreddit_name_prefixed': 'r/environment', 'hidden': False, 'pwls': 6, 'link_flair_css_class': None, 'downs': 0, 'thumbnail_height': 70, 'top_awarded_type': None, 'hide_score': False, 'name': 't3_stcnqr', 'quarantine': False, 'link_flair_text_color': 'dark', 'upvote_ratio': 0.94, 'author_flair_background_color': None, 'subreddit_type': 'public', 'ups': 32, 'total_awards_received': 0, 'media_embed': {}, 'thumbnail_width': 140, 'author_flair_template_id': None, 'is_original_content': False, 'user_reports': [], 'secure_media': None, 'is_reddit_media_domain': False, 'is_meta': False, 'category': None, 'secure_media_embed': {}, 'link_flair_text': None, 'can_mod_post': False, 'score': 32, 'approved_by': None, 'is_created_from_ads_ui': False, 'author_premium': False, 'thumbnail': 'https://b.thumbs.redditmedia.com/qN7oBYswiiZZYNTERBmkl2-q6inF-UKBsmQjpQdlKOo.jpg', 'edited': False, 'author_flair_css_class': None, 'author_flair_richtext': [], 'gildings': {}, 'post_hint': 'link', 'content_categories': None, 'is_self': False, 'mod_note': None, 'created': 1644957335.0, 'link_flair_type': 'text', 'wls': 6, 'removed_by_category': None, 'banned_by': None, 'author_flair_type': 'text', 'domain': 'esquire.com', 'allow_live_comments': False, 'selftext_html': None, 'likes': None, 'suggested_sort': None, 'banned_at_utc': None, 'url_overridden_by_dest': 'https://www.esquire.com/news-politics/politics/a39094524/drought-western-states-aridification/', 'view_count': None, 'archived': False, 'no_follow': False, 'is_crosspostable': True, 'pinned': False, 'over_18': False, 'preview': {'images': [{'source': {'url': 'https://external-preview.redd.it/zmhrL1bwdtHYfgYbhoEJJsNvtZQTtsfKHDwUo6RIpis.jpg?auto=webp&amp;s=56446a3ca8c0448e611fbcf0db8f47789440bb47', 'width': 1200, 'height': 602}, 'resolutions': [{'url': 'https://external-preview.redd.it/zmhrL1bwdtHYfgYbhoEJJsNvtZQTtsfKHDwUo6RIpis.jpg?width=108&amp;crop=smart&amp;auto=webp&amp;s=54671265b3a9facbf9563487e6fb7491d07dbdfb', 'width': 108, 'height': 54}, {'url': 'https://external-preview.redd.it/zmhrL1bwdtHYfgYbhoEJJsNvtZQTtsfKHDwUo6RIpis.jpg?width=216&amp;crop=smart&amp;auto=webp&amp;s=7a49166c2a22550a2e85156979f43f1391783987', 'width': 216, 'height': 108}, {'url': 'https://external-preview.redd.it/zmhrL1bwdtHYfgYbhoEJJsNvtZQTtsfKHDwUo6RIpis.jpg?width=320&amp;crop=smart&amp;auto=webp&amp;s=d1dde6f0c59635acd4e6d7c2748cdf1cb3f025b6', 'width': 320, 'height': 160}, {'url': 'https://external-preview.redd.it/zmhrL1bwdtHYfgYbhoEJJsNvtZQTtsfKHDwUo6RIpis.jpg?width=640&amp;crop=smart&amp;auto=webp&amp;s=61f6ac8dca47e5ca24ff654321aee12e33c08ec1', 'width': 640, 'height': 321}, {'url': 'https://external-preview.redd.it/zmhrL1bwdtHYfgYbhoEJJsNvtZQTtsfKHDwUo6RIpis.jpg?width=960&amp;crop=smart&amp;auto=webp&amp;s=4726d3e7c57147055ecffc6606bf3c85bfb0d1ba', 'width': 960, 'height': 481}, {'url': 'https://external-preview.redd.it/zmhrL1bwdtHYfgYbhoEJJsNvtZQTtsfKHDwUo6RIpis.jpg?width=1080&amp;crop=smart&amp;auto=webp&amp;s=bb43eae9af303e05a1dc299907dbdf3b00b14bc7', 'width': 1080, 'height': 541}], 'variants': {}, 'id': 'YBZAT7gcz2phmcdEWwrIpVhNsPbL2nE8ehjFURrUIY4'}], 'enabled': False}, 'all_awardings': [], 'awarders': [], 'media_only': False, 'can_gild': True, 'spoiler': False, 'locked': False, 'author_flair_text': None, 'treatment_tags': [], 'visited': False, 'removed_by': None, 'num_reports': None, 'distinguished': None, 'subreddit_id': 't5_2qh1n', 'author_is_blocked': False, 'mod_reason_by': None, 'removal_reason': None, 'link_flair_background_color': '', 'id': 'stcnqr', 'is_robot_indexable': True, 'report_reasons': None, 'author': 'TrumpSharted', 'discussion_type': None, 'num_comments': 4, 'send_replies': True, 'whitelist_status': 'all_ads', 'contest_mode': False, 'mod_reports': [], 'author_patreon_flair': False, 'author_flair_text_color': None, 'permalink': '/r/environment/comments/stcnqr/the_american_west_is_likely_too_far_gone_to/', 'parent_whitelist_status': 'all_ads', 'stickied': False, 'url': 'https://www.esquire.com/news-politics/politics/a39094524/drought-western-states-aridification/', 'subreddit_subscribers': 801197, 'created_utc': 1644957335.0, 'num_crossposts': 0, 'media': None, 'is_video': False}}, {'kind': 't3', 'data': {'approved_at_utc': None, 'subreddit': 'environment', 'selftext': '', 'author_fullname': 't2_i10om1ng', 'saved': False, 'mod_reason_title': None, 'gilded': 0, 'clicked': False, 'title': 'Construction begins on New York’s first offshore wind farm', 'link_flair_richtext': [], 'subreddit_name_prefixed': 'r/environment', 'hidden': False, 'pwls': 6, 'link_flair_css_class': None, 'downs': 0, 'thumbnail_height': 73, 'top_awarded_type': None, 'hide_score': False, 'name': 't3_st2jla', 'quarantine': False, 'link_flair_text_color': 'dark', 'upvote_ratio': 0.98, 'author_flair_background_color': None, 'subreddit_type': 'public', 'ups': 95, 'total_awards_received': 0, 'media_embed': {}, 'thumbnail_width': 140, 'author_flair_template_id': None, 'is_original_content': False, 'user_reports': [], 'secure_media': None, 'is_reddit_media_domain': False, 'is_meta': False, 'category': None, 'secure_media_embed': {}, 'link_flair_text': None, 'can_mod_post': False, 'score': 95, 'approved_by': None, 'is_created_from_ads_ui': False, 'author_premium': False, 'thumbnail': 'https://b.thumbs.redditmedia.com/7QAEXM8_TMiMY_Btczy7jylqm2BaJllMUEXB6UO3iIo.jpg', 'edited': False, 'author_flair_css_class': None, 'author_flair_richtext': [], 'gildings': {}, 'post_hint': 'link', 'content_categories': None, 'is_self': False, 'mod_note': None, 'created': 1644930382.0, 'link_flair_type': 'text', 'wls': 6, 'removed_by_category': None, 'banned_by': None, 'author_flair_type': 'text', 'domain': 'theverge.com', 'allow_live_comments': False, 'selftext_html': None, 'likes': None, 'suggested_sort': None, 'banned_at_utc': None, 'url_overridden_by_dest': 'https://www.theverge.com/2022/2/14/22933095/new-york-offshore-wind-farm-south-fork-long-island-construction', 'view_count': None, 'archived': False, 'no_follow': False, 'is_crosspostable': True, 'pinned': False, 'over_18': False, 'preview': {'images': [{'source': {'url': 'https://external-preview.redd.it/p2UlsdVY_SK-Gnt10oXgdEdqry0g_QRCTyqOT6JSWiY.jpg?auto=webp&amp;s=8bb0eb6b7d1c9d497745a8a33519629216c22a74', 'width': 1200, 'height': 628}, 'resolutions': [{'url': 'https://external-preview.redd.it/p2UlsdVY_SK-Gnt10oXgdEdqry0g_QRCTyqOT6JSWiY.jpg?width=108&amp;crop=smart&amp;auto=webp&amp;s=546a2bbcb9a8644e38b59f8122d488392518defe', 'width': 108, 'height': 56}, {'url': 'https://external-preview.redd.it/p2UlsdVY_SK-Gnt10oXgdEdqry0g_QRCTyqOT6JSWiY.jpg?width=216&amp;crop=smart&amp;auto=webp&amp;s=65c88a1cb7bc6b03cdcad917773a9652925d66c4', 'width': 216, 'height': 113}, {'url': 'https://external-preview.redd.it/p2UlsdVY_SK-Gnt10oXgdEdqry0g_QRCTyqOT6JSWiY.jpg?width=320&amp;crop=smart&amp;auto=webp&amp;s=dac5ca2e03a5454b40d4d875f984f38073ef0121', 'width': 320, 'height': 167}, {'url': 'https://external-preview.redd.it/p2UlsdVY_SK-Gnt10oXgdEdqry0g_QRCTyqOT6JSWiY.jpg?width=640&amp;crop=smart&amp;auto=webp&amp;s=1029fdaaaf9b8760518037f86a5563db44871bbc', 'width': 640, 'height': 334}, {'url': 'https://external-preview.redd.it/p2UlsdVY_SK-Gnt10oXgdEdqry0g_QRCTyqOT6JSWiY.jpg?width=960&amp;crop=smart&amp;auto=webp&amp;s=82b2547b578d529428602fb16209c49c458d9147', 'width': 960, 'height': 502}, {'url': 'https://external-preview.redd.it/p2UlsdVY_SK-Gnt10oXgdEdqry0g_QRCTyqOT6JSWiY.jpg?width=1080&amp;crop=smart&amp;auto=webp&amp;s=e9e08c0f1e19590ff8992f58f7e410091958112e', 'width': 1080, 'height': 565}], 'variants': {}, 'id': 'az_P-fDwvIlI25lc1ABLQJGjeRg-HkE3tm4y6EdUr5U'}], 'enabled': False}, 'all_awardings': [], 'awarders': [], 'media_only': False, 'can_gild': True, 'spoiler': False, 'locked': False, 'author_flair_text': None, 'treatment_tags': [], 'visited': False, 'removed_by': None, 'num_reports': None, 'distinguished': None, 'subreddit_id': 't5_2qh1n', 'author_is_blocked': False, 'mod_reason_by': None, 'removal_reason': None, 'link_flair_background_color': '', 'id': 'st2jla', 'is_robot_indexable': True, 'report_reasons': None, 'author': 'stockhackerDFW', 'discussion_type': None, 'num_comments': 3, 'send_replies': False, 'whitelist_status': 'all_ads', 'contest_mode': False, 'mod_reports': [], 'author_patreon_flair': False, 'author_flair_text_color': None, 'permalink': '/r/environment/comments/st2jla/construction_begins_on_new_yorks_first_offshore/', 'parent_whitelist_status': 'all_ads', 'stickied': False, 'url': 'https://www.theverge.com/2022/2/14/22933095/new-york-offshore-wind-farm-south-fork-long-island-construction', 'subreddit_subscribers': 801197, 'created_utc': 1644930382.0, 'num_crossposts': 0, 'media': None, 'is_video': False}}, {'kind': 't3', 'data': {'approved_at_utc': None, 'subreddit': 'environment', 'selftext': '', 'author_fullname': 't2_jn0nv', 'saved': False, 'mod_reason_title': None, 'gilded': 0, 'clicked': False, 'title': 'Private equity’s dirty dozen: the 12 US firms funding dirty energy projects', 'link_flair_richtext': [], 'subreddit_name_prefixed': 'r/environment', 'hidden': False, 'pwls': 6, 'link_flair_css_class': None, 'downs': 0, 'thumbnail_height': 73, 'top_awarded_type': None, 'hide_score': False, 'name': 't3_std1hr', 'quarantine': False, 'link_flair_text_color': 'dark', 'upvote_ratio': 0.96, 'author_flair_background_color': None, 'subreddit_type': 'public', 'ups': 23, 'total_awards_received': 0, 'media_embed': {}, 'thumbnail_width': 140, 'author_flair_template_id': None, 'is_original_content': False, 'user_reports': [], 'secure_media': None, 'is_reddit_media_domain': False, 'is_meta': False, 'category': None, 'secure_media_embed': {}, 'link_flair_text': None, 'can_mod_post': False, 'score': 23, 'approved_by': None, 'is_created_from_ads_ui': False, 'author_premium': True, 'thumbnail': 'https://a.thumbs.redditmedia.com/nlZ7lZLbBkfsMK8iM3ILWPogoc3SMKqIOiTD9Mf2tF4.jpg', 'edited': False, 'author_flair_css_class': None, 'author_flair_richtext': [], 'gildings': {}, 'post_hint': 'link', 'content_categories': None, 'is_self': False, 'mod_note': None, 'created': 1644958370.0, 'link_flair_type': 'text', 'wls': 6, 'removed_by_category': None, 'banned_by': None, 'author_flair_type': 'text', 'domain': 'theguardian.com', 'allow_live_comments': False, 'selftext_html': None, 'likes': None, 'suggested_sort': None, 'banned_at_utc': None, 'url_overridden_by_dest': 'https://www.theguardian.com/environment/2022/feb/15/us-private-equity-firms-funding-dirty-energy-projects', 'view_count': None, 'archived': False, 'no_follow': False, 'is_crosspostable': True, 'pinned': False, 'over_18': False, 'preview': {'images': [{'source': {'url': 'https://external-preview.redd.it/dZRucwceWVsQo0G-6B2KKScdTdjmsGgYzfrpOvhidIo.jpg?auto=webp&amp;s=8b59fd1a8031512ca6c59ad3767bf11868de8817', 'width': 1200, 'height': 630}, 'resolutions': [{'url': 'https://external-preview.redd.it/dZRucwceWVsQo0G-6B2KKScdTdjmsGgYzfrpOvhidIo.jpg?width=108&amp;crop=smart&amp;auto=webp&amp;s=95f0732f5bf0e7e0242f34cfde7f2327cbc8e223', 'width': 108, 'height': 56}, {'url': 'https://external-preview.redd.it/dZRucwceWVsQo0G-6B2KKScdTdjmsGgYzfrpOvhidIo.jpg?width=216&amp;crop=smart&amp;auto=webp&amp;s=2b7ebb5cdd8e67e464571bf0dce2bcab1acb5236', 'width': 216, 'height': 113}, {'url': 'https://external-preview.redd.it/dZRucwceWVsQo0G-6B2KKScdTdjmsGgYzfrpOvhidIo.jpg?width=320&amp;crop=smart&amp;auto=webp&amp;s=164bc25bab7815d11be994679ece8446f90d3d74', 'width': 320, 'height': 168}, {'url': 'https://external-preview.redd.it/dZRucwceWVsQo0G-6B2KKScdTdjmsGgYzfrpOvhidIo.jpg?width=640&amp;crop=smart&amp;auto=webp&amp;s=8ea80b94abe208aeed054140bac3847f0ad39a11', 'width': 640, 'height': 336}, {'url': 'https://external-preview.redd.it/dZRucwceWVsQo0G-6B2KKScdTdjmsGgYzfrpOvhidIo.jpg?width=960&amp;crop=smart&amp;auto=webp&amp;s=ea093f9371e7e7acc35a31e0c1171f2d00fcada3', 'width': 960, 'height': 504}, {'url': 'https://external-preview.redd.it/dZRucwceWVsQo0G-6B2KKScdTdjmsGgYzfrpOvhidIo.jpg?width=1080&amp;crop=smart&amp;auto=webp&amp;s=88b7f1f12a1b85c5c02100915d26a4cd719405e9', 'width': 1080, 'height': 567}], 'variants': {}, 'id': 'vt-ljXGsF62z5JYaSYpb3DWGmDqfJYziSwuNDXb9Jy8'}], 'enabled': False}, 'all_awardings': [], 'awarders': [], 'media_only': False, 'can_gild': True, 'spoiler': False, 'locked': False, 'author_flair_text': None, 'treatment_tags': [], 'visited': False, 'removed_by': None, 'num_reports': None, 'distinguished': None, 'subreddit_id': 't5_2qh1n', 'author_is_blocked': False, 'mod_reason_by': None, 'removal_reason': None, 'link_flair_background_color': '', 'id': 'std1hr', 'is_robot_indexable': True, 'report_reasons': None, 'author': 'newnemo', 'discussion_type': None, 'num_comments': 1, 'send_replies': True, 'whitelist_status': 'all_ads', 'contest_mode': False, 'mod_reports': [], 'author_patreon_flair': False, 'author_flair_text_color': None, 'permalink': '/r/environment/comments/std1hr/private_equitys_dirty_dozen_the_12_us_firms/', 'parent_whitelist_status': 'all_ads', 'stickied': False, 'url': 'https://www.theguardian.com/environment/2022/feb/15/us-private-equity-firms-funding-dirty-energy-projects', 'subreddit_subscribers': 801197, 'created_utc': 1644958370.0, 'num_crossposts': 0, 'media': None, 'is_video': False}}, {'kind': 't3', 'data': {'approved_at_utc': None, 'subreddit': 'environment', 'selftext': '', 'author_fullname': 't2_18arl', 'saved': False, 'mod_reason_title': None, 'gilded': 0, 'clicked': False, 'title': 'The end of native forest logging', 'link_flair_richtext': [], 'subreddit_name_prefixed': 'r/environment', 'hidden': False, 'pwls': 6, 'link_flair_css_class': None, 'downs': 0, 'thumbnail_height': 78, 'top_awarded_type': None, 'hide_score': False, 'name': 't3_stbesq', 'quarantine': False, 'link_flair_text_color': 'dark', 'upvote_ratio': 0.96, 'author_flair_background_color': None, 'subreddit_type': 'public', 'ups': 23, 'total_awards_received': 0, 'media_embed': {}, 'thumbnail_width': 140, 'author_flair_template_id': None, 'is_original_content': False, 'user_reports': [], 'secure_media': None, 'is_reddit_media_domain': False, 'is_meta': False, 'category': None, 'secure_media_embed': {}, 'link_flair_text': None, 'can_mod_post': False, 'score': 23, 'approved_by': None, 'is_created_from_ads_ui': False, 'author_premium': True, 'thumbnail': 'https://b.thumbs.redditmedia.com/QhADtBPAWlNor6V4PIwWXDo16Zr6AFz3ep7SKJinG7M.jpg', 'edited': False, 'author_flair_css_class': None, 'author_flair_richtext': [], 'gildings': {}, 'post_hint': 'link', 'content_categories': None, 'is_self': False, 'mod_note': None, 'created': 1644954113.0, 'link_flair_type': 'text', 'wls': 6, 'removed_by_category': None, 'banned_by': None, 'author_flair_type': 'text', 'domain': 'cosmosmagazine.com', 'allow_live_comments': False, 'selftext_html': None, 'likes': None, 'suggested_sort': None, 'banned_at_utc': None, 'url_overridden_by_dest': 'https://cosmosmagazine.com/earth/sustainability/end-of-native-forest-logging/?amp=1', 'view_count': None, 'archived': False, 'no_follow': False, 'is_crosspostable': True, 'pinned': False, 'over_18': False, 'preview': {'images': [{'source': {'url': 'https://external-preview.redd.it/OvELPKep1b4NU61Wi3IcxAhevz4ChsvsQ1XELtiC0PE.jpg?auto=webp&amp;s=7028e47237f6ae3c8ff24004c98b94bdbe9b6dbf', 'width': 1200, 'height': 675}, 'resolutions': [{'url': 'https://external-preview.redd.it/OvELPKep1b4NU61Wi3IcxAhevz4ChsvsQ1XELtiC0PE.jpg?width=108&amp;crop=smart&amp;auto=webp&amp;s=92ece2b6ede7c0bdc41cef63d232064dce27d26e', 'width': 108, 'height': 60}, {'url': 'https://external-preview.redd.it/OvELPKep1b4NU61Wi3IcxAhevz4ChsvsQ1XELtiC0PE.jpg?width=216&amp;crop=smart&amp;auto=webp&amp;s=83c1e5edef866cb1ccad4ebc97748f6f26bf8b82', 'width': 216, 'height': 121}, {'url': 'https://external-preview.redd.it/OvELPKep1b4NU61Wi3IcxAhevz4ChsvsQ1XELtiC0PE.jpg?width=320&amp;crop=smart&amp;auto=webp&amp;s=4bff63e8036db294bf46919be6355ea0d5ff2b85', 'width': 320, 'height': 180}, {'url': 'https://external-preview.redd.it/OvELPKep1b4NU61Wi3IcxAhevz4ChsvsQ1XELtiC0PE.jpg?width=640&amp;crop=smart&amp;auto=webp&amp;s=99c61c634817ee79fb8bcc6ad7a5b0942f5420e1', 'width': 640, 'height': 360}, {'url': 'https://external-preview.redd.it/OvELPKep1b4NU61Wi3IcxAhevz4ChsvsQ1XELtiC0PE.jpg?width=960&amp;crop=smart&amp;auto=webp&amp;s=737332c759d7a9781bf85ad84c772279e10d946d', 'width': 960, 'height': 540}, {'url': 'https://external-preview.redd.it/OvELPKep1b4NU61Wi3IcxAhevz4ChsvsQ1XELtiC0PE.jpg?width=1080&amp;crop=smart&amp;auto=webp&amp;s=0c59a43b720a881e2ddaf873fa08053bb3cb73d9', 'width': 1080, 'height': 607}], 'variants': {}, 'id': '2J9pJk6Q65nGeCj6G4Eu7ZWHOpm1YsYJORoip5pw6W4'}], 'enabled': False}, 'all_awardings': [], 'awarders': [], 'media_only': False, 'can_gild': True, 'spoiler': False, 'locked': False, 'author_flair_text': None, 'treatment_tags': [], 'visited': False, 'removed_by': None, 'num_reports': None, 'distinguished': None, 'subreddit_id': 't5_2qh1n', 'author_is_blocked': False, 'mod_reason_by': None, 'removal_reason': None, 'link_flair_background_color': '', 'id': 'stbesq', 'is_robot_indexable': True, 'report_reasons': None, 'author': 'Vailhem', 'discussion_type': None, 'num_comments': 1, 'send_replies': False, 'whitelist_status': 'all_ads', 'contest_mode': False, 'mod_reports': [], 'author_patreon_flair': False, 'author_flair_text_color': None, 'permalink': '/r/environment/comments/stbesq/the_end_of_native_forest_logging/', 'parent_whitelist_status': 'all_ads', 'stickied': False, 'url': 'https://cosmosmagazine.com/earth/sustainability/end-of-native-forest-logging/?amp=1', 'subreddit_subscribers': 801197, 'created_utc': 1644954113.0, 'num_crossposts': 0, 'media': None, 'is_video': False}}, {'kind': 't3', 'data': {'approved_at_utc': None, 'subreddit': 'environment', 'selftext': '', 'author_fullname': 't2_34map9ct', 'saved': False, 'mod_reason_title': None, 'gilded': 0, 'clicked': False, 'title': 'The world temperature has remained above average for 445 consecutive months. And 2022 is forcasted to be in the top 10 for hottest years.', 'link_flair_richtext': [], 'subreddit_name_prefixed': 'r/environment', 'hidden': False, 'pwls': 6, 'link_flair_css_class': None, 'downs': 0, 'thumbnail_height': 108, 'top_awarded_type': None, 'hide_score': False, 'name': 't3_ssz1w9', 'quarantine': False, 'link_flair_text_color': 'dark', 'upvote_ratio': 0.96, 'author_flair_background_color': None, 'subreddit_type': 'public', 'ups': 121, 'total_awards_received': 0, 'media_embed': {}, 'thumbnail_width': 140, 'author_flair_template_id': None, 'is_original_content': False, 'user_reports': [], 'secure_media': None, 'is_reddit_media_domain': False, 'is_meta': False, 'category': None, 'secure_media_embed': {}, 'link_flair_text': None, 'can_mod_post': False, 'score': 121, 'approved_by': None, 'is_created_from_ads_ui': False, 'author_premium': False, 'thumbnail': 'https://b.thumbs.redditmedia.com/fMevH4IbRxHR24Fd2peO06o7220sID97Nm3XNE-dTkY.jpg', 'edited': False, 'author_flair_css_class': None, 'author_flair_richtext': [], 'gildings': {}, 'post_hint': 'link', 'content_categories': None, 'is_self': False, 'mod_note': None, 'created': 1644917087.0, 'link_flair_type': 'text', 'wls': 6, 'removed_by_category': None, 'banned_by': None, 'author_flair_type': 'text', 'domain': 'ncei.noaa.gov', 'allow_live_comments': False, 'selftext_html': None, 'likes': None, 'suggested_sort': None, 'banned_at_utc': None, 'url_overridden_by_dest': 'https://www.ncei.noaa.gov/news/global-climate-202201', 'view_count': None, 'archived': False, 'no_follow': False, 'is_crosspostable': True, 'pinned': False, 'over_18': False, 'preview': {'images': [{'source': {'url': 'https://external-preview.redd.it/eN6dlWujPhcptWttmG7Yxbk6aRW5JA3PaTAOdhhpMSY.jpg?auto=webp&amp;s=01103909f0d3820d273e4573eca2cead2ac6f96e', 'width': 325, 'height': 251}, 'resolutions': [{'url': 'https://external-preview.redd.it/eN6dlWujPhcptWttmG7Yxbk6aRW5JA3PaTAOdhhpMSY.jpg?width=108&amp;crop=smart&amp;auto=webp&amp;s=66d2319e918d87f3fab9afbfd12eee41a26f295e', 'width': 108, 'height': 83}, {'url': 'https://external-preview.redd.it/eN6dlWujPhcptWttmG7Yxbk6aRW5JA3PaTAOdhhpMSY.jpg?width=216&amp;crop=smart&amp;auto=webp&amp;s=b85b1eaccdeec5d81df55188a27cb70160096dab', 'width': 216, 'height': 166}, {'url': 'https://external-preview.redd.it/eN6dlWujPhcptWttmG7Yxbk6aRW5JA3PaTAOdhhpMSY.jpg?width=320&amp;crop=smart&amp;auto=webp&amp;s=631d4f106cc021bc0efb147e63152d94b5b95abf', 'width': 320, 'height': 247}], 'variants': {}, 'id': 'A_IpscCZnfpQD9R0pzOJ8uq4S1dKE7BiyjHBz3kH5vA'}], 'enabled': False}, 'all_awardings': [], 'awarders': [], 'media_only': False, 'can_gild': True, 'spoiler': False, 'locked': False, 'author_flair_text': None, 'treatment_tags': [], 'visited': False, 'removed_by': None, 'num_reports': None, 'distinguished': None, 'subreddit_id': 't5_2qh1n', 'author_is_blocked': False, 'mod_reason_by': None, 'removal_reason': None, 'link_flair_background_color': '', 'id': 'ssz1w9', 'is_robot_indexable': True, 'report_reasons': None, 'author': 'Toadfinger', 'discussion_type': None, 'num_comments': 22, 'send_replies': True, 'whitelist_status': 'all_ads', 'contest_mode': False, 'mod_reports': [], 'author_patreon_flair': False, 'author_flair_text_color': None, 'permalink': '/r/environment/comments/ssz1w9/the_world_temperature_has_remained_above_average/', 'parent_whitelist_status': 'all_ads', 'stickied': False, 'url': 'https://www.ncei.noaa.gov/news/global-climate-202201', 'subreddit_subscribers': 801197, 'created_utc': 1644917087.0, 'num_crossposts': 0, 'media': None, 'is_video': False}}, {'kind': 't3', 'data': {'approved_at_utc': None, 'subreddit': 'environment', 'selftext': '', 'author_fullname': 't2_iwi67', 'saved': False, 'mod_reason_title': None, 'gilded': 0, 'clicked': False, 'title': 'Volta is installing 1,000 EV fast-charging stations at Walgreens locations', 'link_flair_richtext': [], 'subreddit_name_prefixed': 'r/environment', 'hidden': False, 'pwls': 6, 'link_flair_css_class': None, 'downs': 0, 'thumbnail_height': 93, 'top_awarded_type': None, 'hide_score': False, 'name': 't3_st5wpp', 'quarantine': False, 'link_flair_text_color': 'dark', 'upvote_ratio': 0.92, 'author_flair_background_color': None, 'subreddit_type': 'public', 'ups': 34, 'total_awards_received': 0, 'media_embed': {}, 'thumbnail_width': 140, 'author_flair_template_id': None, 'is_original_content': False, 'user_reports': [], 'secure_media': None, 'is_reddit_media_domain': False, 'is_meta': False, 'category': None, 'secure_media_embed': {}, 'link_flair_text': None, 'can_mod_post': False, 'score': 34, 'approved_by': None, 'is_created_from_ads_ui': False, 'author_premium': True, 'thumbnail': 'https://b.thumbs.redditmedia.com/sG486IJg0VoftpCEfTIsiACcuX6vbSHSGt6fBiVcGFk.jpg', 'edited': False, 'author_flair_css_class': None, 'author_flair_richtext': [], 'gildings': {}, 'post_hint': 'link', 'content_categories': None, 'is_self': False, 'mod_note': None, 'created': 1644940063.0, 'link_flair_type': 'text', 'wls': 6, 'removed_by_category': None, 'banned_by': None, 'author_flair_type': 'text', 'domain': 'engadget.com', 'allow_live_comments': False, 'selftext_html': None, 'likes': None, 'suggested_sort': None, 'banned_at_utc': None, 'url_overridden_by_dest': 'https://www.engadget.com/volta-walgreens-ev-fast-charging-stations-115559815.html', 'view_count': None, 'archived': False, 'no_follow': False, 'is_crosspostable': True, 'pinned': False, 'over_18': False, 'preview': {'images': [{'source': {'url': 'https://external-preview.redd.it/kJIR2_Di1bom0mtQfu6fDqYnp4rQn48mNyFy6ofMGuI.jpg?auto=webp&amp;s=ac6469ee86e38fea2d0da2e6acc688ed459a172f', 'width': 800, 'height': 533}, 'resolutions': [{'url': 'https://external-preview.redd.it/kJIR2_Di1bom0mtQfu6fDqYnp4rQn48mNyFy6ofMGuI.jpg?width=108&amp;crop=smart&amp;auto=webp&amp;s=8f0aff13c2a8360d19027c7ba900c77611f07131', 'width': 108, 'height': 71}, {'url': 'https://external-preview.redd.it/kJIR2_Di1bom0mtQfu6fDqYnp4rQn48mNyFy6ofMGuI.jpg?width=216&amp;crop=smart&amp;auto=webp&amp;s=c69f9d8f26fbe3697aeb0b052dc7756c4a1686f1', 'width': 216, 'height': 143}, {'url': 'https://external-preview.redd.it/kJIR2_Di1bom0mtQfu6fDqYnp4rQn48mNyFy6ofMGuI.jpg?width=320&amp;crop=smart&amp;auto=webp&amp;s=282977225cf4e8d389eb5df595c0844e32ddaadd', 'width': 320, 'height': 213}, {'url': 'https://external-preview.redd.it/kJIR2_Di1bom0mtQfu6fDqYnp4rQn48mNyFy6ofMGuI.jpg?width=640&amp;crop=smart&amp;auto=webp&amp;s=7b4191a7ca70cf2c5b439737f25024e2a57746d4', 'width': 640, 'height': 426}], 'variants': {}, 'id': 'QVCzM2wb0g56UUXjUQJUynL-pMSbzv7SRoOf7DjiLkg'}], 'enabled': False}, 'all_awardings': [], 'awarders': [], 'media_only': False, 'can_gild': True, 'spoiler': False, 'locked': False, 'author_flair_text': None, 'treatment_tags': [], 'visited': False, 'removed_by': None, 'num_reports': None, 'distinguished': None, 'subreddit_id': 't5_2qh1n', 'author_is_blocked': False, 'mod_reason_by': None, 'removal_reason': None, 'link_flair_background_color': '', 'id': 'st5wpp', 'is_robot_indexable': True, 'report_reasons': None, 'author': 'Philo1927', 'discussion_type': None, 'num_comments': 2, 'send_replies': True, 'whitelist_status': 'all_ads', 'contest_mode': False, 'mod_reports': [], 'author_patreon_flair': False, 'author_flair_text_color': None, 'permalink': '/r/environment/comments/st5wpp/volta_is_installing_1000_ev_fastcharging_stations/', 'parent_whitelist_status': 'all_ads', 'stickied': False, 'url': 'https://www.engadget.com/volta-walgreens-ev-fast-charging-stations-115559815.html', 'subreddit_subscribers': 801197, 'created_utc': 1644940063.0, 'num_crossposts': 0, 'media': None, 'is_video': False}}, {'kind': 't3', 'data': {'approved_at_utc': None, 'subreddit': 'environment', 'selftext': '', 'author_fullname': 't2_f4pw8dbt', 'saved': False, 'mod_reason_title': None, 'gilded': 0, 'clicked': False, 'title': 'Climate Scientists Warn Of Rising Seas In U.S.', 'link_flair_richtext': [], 'subreddit_name_prefixed': 'r/environment', 'hidden': False, 'pwls': 6, 'link_flair_css_class': None, 'downs': 0, 'thumbnail_height': 78, 'top_awarded_type': None, 'hide_score': False, 'name': 't3_stfdz9', 'quarantine': False, 'link_flair_text_color': 'dark', 'upvote_ratio': 0.92, 'author_flair_background_color': None, 'subreddit_type': 'public', 'ups': 10, 'total_awards_received': 0, 'media_embed': {}, 'thumbnail_width': 140, 'author_flair_template_id': None, 'is_original_content': False, 'user_reports': [], 'secure_media': None, 'is_reddit_media_domain': False, 'is_meta': False, 'category': None, 'secure_media_embed': {}, 'link_flair_text': None, 'can_mod_post': False, 'score': 10, 'approved_by': None, 'is_created_from_ads_ui': False, 'author_premium': True, 'thumbnail': 'https://b.thumbs.redditmedia.com/lHK_aD13umNFPI1z3I_oy-pZ8fEMomDH3ByQSwEbcuw.jpg', 'edited': False, 'author_flair_css_class': None, 'author_flair_richtext': [], 'gildings': {}, 'post_hint': 'link', 'content_categories': None, 'is_self': False, 'mod_note': None, 'created': 1644964429.0, 'link_flair_type': 'text', 'wls': 6, 'removed_by_category': None, 'banned_by': None, 'author_flair_type': 'text', 'domain': 'npr.org', 'allow_live_comments': False, 'selftext_html': None, 'likes': None, 'suggested_sort': None, 'banned_at_utc': None, 'url_overridden_by_dest': 'https://www.npr.org/2022/02/15/1080798833/ocean-water-along-u-s-coasts-will-rise-about-one-foot-by-2050-scientists-warn', 'view_count': None, 'archived': False, 'no_follow': False, 'is_crosspostable': True, 'pinned': False, 'over_18': False, 'preview': {'images': [{'source': {'url': 'https://external-preview.redd.it/1GKJOc6vjdqOoGLneT9U3qFmwPyfmEufVIGvqwpM164.jpg?auto=webp&amp;s=49147bb7e6c496d6e81f041ea4c7e0bc2f7d8af1', 'width': 1400, 'height': 787}, 'resolutions': [{'url': 'https://external-preview.redd.it/1GKJOc6vjdqOoGLneT9U3qFmwPyfmEufVIGvqwpM164.jpg?width=108&amp;crop=smart&amp;auto=webp&amp;s=8d8a9afdb3bf5ec063c510e194e992285f789248', 'width': 108, 'height': 60}, {'url': 'https://external-preview.redd.it/1GKJOc6vjdqOoGLneT9U3qFmwPyfmEufVIGvqwpM164.jpg?width=216&amp;crop=smart&amp;auto=webp&amp;s=7429a06a3ba6a3df767188f6c1bc952c4a3d605a', 'width': 216, 'height': 121}, {'url': 'https://external-preview.redd.it/1GKJOc6vjdqOoGLneT9U3qFmwPyfmEufVIGvqwpM164.jpg?width=320&amp;crop=smart&amp;auto=webp&amp;s=c827033a9d4de2cd9c97e9491fea5cd62d0184bd', 'width': 320, 'height': 179}, {'url': 'https://external-preview.redd.it/1GKJOc6vjdqOoGLneT9U3qFmwPyfmEufVIGvqwpM164.jpg?width=640&amp;crop=smart&amp;auto=webp&amp;s=f049f20f8a07d7b03e0438abb9196285118823fc', 'width': 640, 'height': 359}, {'url': 'https://external-preview.redd.it/1GKJOc6vjdqOoGLneT9U3qFmwPyfmEufVIGvqwpM164.jpg?width=960&amp;crop=smart&amp;auto=webp&amp;s=c973bd3430410c646d8fa6e535512fe20bb482ba', 'width': 960, 'height': 539}, {'url': 'https://external-preview.redd.it/1GKJOc6vjdqOoGLneT9U3qFmwPyfmEufVIGvqwpM164.jpg?width=1080&amp;crop=smart&amp;auto=webp&amp;s=4ba8064b1669467ddcc11028d81cac664cf727c0', 'width': 1080, 'height': 607}], 'variants': {}, 'id': 'c6RhAcwklawrNmsmpyh7-lKNz28dNIMe-gAiqvEmRvg'}], 'enabled': False}, 'all_awardings': [], 'awarders': [], 'media_only': False, 'can_gild': True, 'spoiler': False, 'locked': False, 'author_flair_text': None, 'treatment_tags': [], 'visited': False, 'removed_by': None, 'num_reports': None, 'distinguished': None, 'subreddit_id': 't5_2qh1n', 'author_is_blocked': False, 'mod_reason_by': None, 'removal_reason': None, 'link_flair_background_color': '', 'id': 'stfdz9', 'is_robot_indexable': True, 'report_reasons': None, 'author': 'BrighterGreen', 'discussion_type': None, 'num_comments': 0, 'send_replies': True, 'whitelist_status': 'all_ads', 'contest_mode': False, 'mod_reports': [], 'author_patreon_flair': False, 'author_flair_text_color': None, 'permalink': '/r/environment/comments/stfdz9/climate_scientists_warn_of_rising_seas_in_us/', 'parent_whitelist_status': 'all_ads', 'stickied': False, 'url': 'https://www.npr.org/2022/02/15/1080798833/ocean-water-along-u-s-coasts-will-rise-about-one-foot-by-2050-scientists-warn', 'subreddit_subscribers': 801197, 'created_utc': 1644964429.0, 'num_crossposts': 0, 'media': None, 'is_video': False}}, {'kind': 't3', 'data': {'approved_at_utc': None, 'subreddit': 'environment', 'selftext': '', 'author_fullname': 't2_6zz15', 'saved': False, 'mod_reason_title': None, 'gilded': 0, 'clicked': False, 'title': 'The US Southwest is hitting megadrought status', 'link_flair_richtext': [], 'subreddit_name_prefixed': 'r/environment', 'hidden': False, 'pwls': 6, 'link_flair_css_class': None, 'downs': 0, 'thumbnail_height': 70, 'top_awarded_type': None, 'hide_score': False, 'name': 't3_ssj18v', 'quarantine': False, 'link_flair_text_color': 'dark', 'upvote_ratio': 0.98, 'author_flair_background_color': None, 'subreddit_type': 'public', 'ups': 1361, 'total_awards_received': 0, 'media_embed': {}, 'thumbnail_width': 140, 'author_flair_template_id': None, 'is_original_content': False, 'user_reports': [], 'secure_media': None, 'is_reddit_media_domain': False, 'is_meta': False, 'category': None, 'secure_media_embed': {}, 'link_flair_text': None, 'can_mod_post': False, 'score': 1361, 'approved_by': None, 'is_created_from_ads_ui': False, 'author_premium': False, 'thumbnail': 'https://a.thumbs.redditmedia.com/wYOX0Zwlbv75jvggC_dLrwHArMMnWuAvxSgRq1xvUq4.jpg', 'edited': False, 'author_flair_css_class': None, 'author_flair_richtext': [], 'gildings': {}, 'post_hint': 'link', 'content_categories': None, 'is_self': False, 'mod_note': None, 'created': 1644866943.0, 'link_flair_type': 'text', 'wls': 6, 'removed_by_category': None, 'banned_by': None, 'author_flair_type': 'text', 'domain': 'arstechnica.com', 'allow_live_comments': True, 'selftext_html': None, 'likes': None, 'suggested_sort': None, 'banned_at_utc': None, 'url_overridden_by_dest': 'https://arstechnica.com/science/2022/02/the-us-southwest-is-seeing-its-deepest-drought-in-1200-years/', 'view_count': None, 'archived': False, 'no_follow': False, 'is_crosspostable': True, 'pinned': False, 'over_18': False, 'preview': {'images': [{'source': {'url': 'https://external-preview.redd.it/yJ4MWfGtPSt2ogQpw9nd1LPUuHbTUsD90FVRUapYMc8.jpg?auto=webp&amp;s=ed054cd3402d0eb125159be838d070506b5edade', 'width': 760, 'height': 380}, 'resolutions': [{'url': 'https://external-preview.redd.it/yJ4MWfGtPSt2ogQpw9nd1LPUuHbTUsD90FVRUapYMc8.jpg?width=108&amp;crop=smart&amp;auto=webp&amp;s=092c8ddeb1bc8bdf492e132b6fadfab066b39c2b', 'width': 108, 'height': 54}, {'url': 'https://external-preview.redd.it/yJ4MWfGtPSt2ogQpw9nd1LPUuHbTUsD90FVRUapYMc8.jpg?width=216&amp;crop=smart&amp;auto=webp&amp;s=96d73d172c83c78ac4b534fad64227c95340f09a', 'width': 216, 'height': 108}, {'url': 'https://external-preview.redd.it/yJ4MWfGtPSt2ogQpw9nd1LPUuHbTUsD90FVRUapYMc8.jpg?width=320&amp;crop=smart&amp;auto=webp&amp;s=b946b4fdc62d94a4539ca427fffc4842f959fe14', 'width': 320, 'height': 160}, {'url': 'https://external-preview.redd.it/yJ4MWfGtPSt2ogQpw9nd1LPUuHbTUsD90FVRUapYMc8.jpg?width=640&amp;crop=smart&amp;auto=webp&amp;s=40b9c35ab4672e7cba74e838545f227e2b1eb81f', 'width': 640, 'height': 320}], 'variants': {}, 'id': 'r5dCg2DH1Y_uYCmnTtb9C3mCJofw0Zm67pbCgHY8I4M'}], 'enabled': False}, 'all_awardings': [], 'awarders': [], 'media_only': False, 'can_gild': True, 'spoiler': False, 'locked': False, 'author_flair_text': None, 'treatment_tags': [], 'visited': False, 'removed_by': None, 'num_reports': None, 'distinguished': None, 'subreddit_id': 't5_2qh1n', 'author_is_blocked': False, 'mod_reason_by': None, 'removal_reason': None, 'link_flair_background_color': '', 'id': 'ssj18v', 'is_robot_indexable': True, 'report_reasons': None, 'author': 'jonfla', 'discussion_type': None, 'num_comments': 108, 'send_replies': False, 'whitelist_status': 'all_ads', 'contest_mode': False, 'mod_reports': [], 'author_patreon_flair': False, 'author_flair_text_color': None, 'permalink': '/r/environment/comments/ssj18v/the_us_southwest_is_hitting_megadrought_status/', 'parent_whitelist_status': 'all_ads', 'stickied': False, 'url': 'https://arstechnica.com/science/2022/02/the-us-southwest-is-seeing-its-deepest-drought-in-1200-years/', 'subreddit_subscribers': 801197, 'created_utc': 1644866943.0, 'num_crossposts': 2, 'media': None, 'is_video': False}}, {'kind': 't3', 'data': {'approved_at_utc': None, 'subreddit': 'environment', 'selftext': '', 'author_fullname': 't2_59ygx4jr', 'saved': False, 'mod_reason_title': None, 'gilded': 0, 'clicked': False, 'title': 'Bird flu spread in U.S. puts poultry farms on high alert', 'link_flair_richtext': [], 'subreddit_name_prefixed': 'r/environment', 'hidden': False, 'pwls': 6, 'link_flair_css_class': None, 'downs': 0, 'thumbnail_height': 73, 'top_awarded_type': None, 'hide_score': False, 'name': 't3_staimb', 'quarantine': False, 'link_flair_text_color': 'dark', 'upvote_ratio': 0.91, 'author_flair_background_color': None, 'subreddit_type': 'public', 'ups': 17, 'total_awards_received': 0, 'media_embed': {}, 'thumbnail_width': 140, 'author_flair_template_id': None, 'is_original_content': False, 'user_reports': [], 'secure_media': None, 'is_reddit_media_domain': False, 'is_meta': False, 'category': None, 'secure_media_embed': {}, 'link_flair_text': None, 'can_mod_post': False, 'score': 17, 'approved_by': None, 'is_created_from_ads_ui': False, 'author_premium': False, 'thumbnail': 'https://a.thumbs.redditmedia.com/8FAywGQ-BZziybYN6II3bRl1JysrRasOX937Q0DTGT4.jpg', 'edited': False, 'author_flair_css_class': None, 'author_flair_richtext': [], 'gildings': {}, 'post_hint': 'link', 'content_categories': None, 'is_self': False, 'mod_note': None, 'created': 1644951853.0, 'link_flair_type': 'text', 'wls': 6, 'removed_by_category': None, 'banned_by': None, 'author_flair_type': 'text', 'domain': 'nbcnews.com', 'allow_live_comments': False, 'selftext_html': None, 'likes': None, 'suggested_sort': None, 'banned_at_utc': None, 'url_overridden_by_dest': 'https://www.nbcnews.com/news/us-news/bird-flu-spread-us-puts-poultry-farms-high-alert-rcna16334', 'view_count': None, 'archived': False, 'no_follow': False, 'is_crosspostable': True, 'pinned': False, 'over_18': False, 'preview': {'images': [{'source': {'url': 'https://external-preview.redd.it/luFnUe1qg67CCH56v0gY1BmRbSt8T7_iKG70Bkts7_c.jpg?auto=webp&amp;s=73efad273b889738804df3aae55e16e1570facb8', 'width': 1200, 'height': 630}, 'resolutions': [{'url': 'https://external-preview.redd.it/luFnUe1qg67CCH56v0gY1BmRbSt8T7_iKG70Bkts7_c.jpg?width=108&amp;crop=smart&amp;auto=webp&amp;s=abefaa40adf8c13e9a7ca00f38b8a7fde9c88521', 'width': 108, 'height': 56}, {'url': 'https://external-preview.redd.it/luFnUe1qg67CCH56v0gY1BmRbSt8T7_iKG70Bkts7_c.jpg?width=216&amp;crop=smart&amp;auto=webp&amp;s=bf4ca452edb19df13547ac47483de8fad436bf18', 'width': 216, 'height': 113}, {'url': 'https://external-preview.redd.it/luFnUe1qg67CCH56v0gY1BmRbSt8T7_iKG70Bkts7_c.jpg?width=320&amp;crop=smart&amp;auto=webp&amp;s=483a10f93650efb5e7fe8ddaee6928be61460bcc', 'width': 320, 'height': 168}, {'url': 'https://external-preview.redd.it/luFnUe1qg67CCH56v0gY1BmRbSt8T7_iKG70Bkts7_c.jpg?width=640&amp;crop=smart&amp;auto=webp&amp;s=cbbf7e03ed46b62fcb29d9aacec61c92d6f70ea9', 'width': 640, 'height': 336}, {'url': 'https://external-preview.redd.it/luFnUe1qg67CCH56v0gY1BmRbSt8T7_iKG70Bkts7_c.jpg?width=960&amp;crop=smart&amp;auto=webp&amp;s=2702e6a3dfc4e8fdc7ee745ed4276c5e68328c12', 'width': 960, 'height': 504}, {'url': 'https://external-preview.redd.it/luFnUe1qg67CCH56v0gY1BmRbSt8T7_iKG70Bkts7_c.jpg?width=1080&amp;crop=smart&amp;auto=webp&amp;s=8fd07a87c97923c78791a2cf8f2f7059fcd70a45', 'width': 1080, 'height': 567}], 'variants': {}, 'id': 'MGOqO6-STY2jWC7LaBKQzwcZ_i4z_1z2KdOAjsmbvhQ'}], 'enabled': False}, 'all_awardings': [], 'awarders': [], 'media_only': False, 'can_gild': True, 'spoiler': False, 'locked': False, 'author_flair_text': None, 'treatment_tags': [], 'visited': False, 'removed_by': None, 'num_reports': None, 'distinguished': None, 'subreddit_id': 't5_2qh1n', 'author_is_blocked': False, 'mod_reason_by': None, 'removal_reason': None, 'link_flair_background_color': '', 'id': 'staimb', 'is_robot_indexable': True, 'report_reasons': None, 'author': 'GlobalWFundfEP', 'discussion_type': None, 'num_comments': 3, 'send_replies': True, 'whitelist_status': 'all_ads', 'contest_mode': False, 'mod_reports': [], 'author_patreon_flair': False, 'author_flair_text_color': None, 'permalink': '/r/environment/comments/staimb/bird_flu_spread_in_us_puts_poultry_farms_on_high/', 'parent_whitelist_status': 'all_ads', 'stickied': False, 'url': 'https://www.nbcnews.com/news/us-news/bird-flu-spread-us-puts-poultry-farms-high-alert-rcna16334', 'subreddit_subscribers': 801197, 'created_utc': 1644951853.0, 'num_crossposts': 0, 'media': None, 'is_video': False}}, {'kind': 't3', 'data': {'approved_at_utc': None, 'subreddit': 'environment', 'selftext': '', 'author_fullname': 't2_c3pa5', 'saved': False, 'mod_reason_title': None, 'gilded': 0, 'clicked': False, 'title': 'Lichens are in danger of losing the evolutionary race with climate change', 'link_flair_richtext': [], 'subreddit_name_prefixed': 'r/environment', 'hidden': False, 'pwls': 6, 'link_flair_css_class': None, 'downs': 0, 'thumbnail_height': 105, 'top_awarded_type': None, 'hide_score': False, 'name': 't3_st15fk', 'quarantine': False, 'link_flair_text_color': 'dark', 'upvote_ratio': 0.93, 'author_flair_background_color': None, 'subreddit_type': 'public', 'ups': 59, 'total_awards_received': 0, 'media_embed': {}, 'thumbnail_width': 140, 'author_flair_template_id': None, 'is_original_content': False, 'user_reports': [], 'secure_media': None, 'is_reddit_media_domain': False, 'is_meta': False, 'category': None, 'secure_media_embed': {}, 'link_flair_text': None, 'can_mod_post': False, 'score': 59, 'approved_by': None, 'is_created_from_ads_ui': False, 'author_premium': False, 'thumbnail': 'https://b.thumbs.redditmedia.com/WA2JUNy1eypb9dG5pLd1Sqm-P3pBBDQNoLmXEyU02Qw.jpg', 'edited': False, 'author_flair_css_class': None, 'author_flair_richtext': [], 'gildings': {}, 'post_hint': 'link', 'content_categories': None, 'is_self': False, 'mod_note': None, 'created': 1644925581.0, 'link_flair_type': 'text', 'wls': 6, 'removed_by_category': None, 'banned_by': None, 'author_flair_type': 'text', 'domain': 'phys.org', 'allow_live_comments': False, 'selftext_html': None, 'likes': None, 'suggested_sort': None, 'banned_at_utc': None, 'url_overridden_by_dest': 'https://phys.org/news/2022-02-lichens-danger-evolutionary-climate.html', 'view_count': None, 'archived': False, 'no_follow': False, 'is_crosspostable': True, 'pinned': False, 'over_18': False, 'preview': {'images': [{'source': {'url': 'https://external-preview.redd.it/XprnnTXLOdsUzO2tbAAXebOA0uZC_h4e06SdAwWvR-0.jpg?auto=webp&amp;s=81f00488053e07420c993cee67aabf80fc363de0', 'width': 2880, 'height': 2160}, 'resolutions': [{'url': 'https://external-preview.redd.it/XprnnTXLOdsUzO2tbAAXebOA0uZC_h4e06SdAwWvR-0.jpg?width=108&amp;crop=smart&amp;auto=webp&amp;s=ff8806d98f6549d65b90daaf442dccb5bffa96ff', 'width': 108, 'height': 81}, {'url': 'https://external-preview.redd.it/XprnnTXLOdsUzO2tbAAXebOA0uZC_h4e06SdAwWvR-0.jpg?width=216&amp;crop=smart&amp;auto=webp&amp;s=b2060cee67f745f58356b7d8ccedee00ef0c81aa', 'width': 216, 'height': 162}, {'url': 'https://external-preview.redd.it/XprnnTXLOdsUzO2tbAAXebOA0uZC_h4e06SdAwWvR-0.jpg?width=320&amp;crop=smart&amp;auto=webp&amp;s=d1754ed06920985a41f9678f99827c28cb5f3102', 'width': 320, 'height': 240}, {'url': 'https://external-preview.redd.it/XprnnTXLOdsUzO2tbAAXebOA0uZC_h4e06SdAwWvR-0.jpg?width=640&amp;crop=smart&amp;auto=webp&amp;s=ddac8a4babcd3119ac0bd2eaf67eaa7cbcdfa2c6', 'width': 640, 'height': 480}, {'url': 'https://external-preview.redd.it/XprnnTXLOdsUzO2tbAAXebOA0uZC_h4e06SdAwWvR-0.jpg?width=960&amp;crop=smart&amp;auto=webp&amp;s=262cee0274a4e7ee89697c9e5de8ba4b9939100a', 'width': 960, 'height': 720}, {'url': 'https://external-preview.redd.it/XprnnTXLOdsUzO2tbAAXebOA0uZC_h4e06SdAwWvR-0.jpg?width=1080&amp;crop=smart&amp;auto=webp&amp;s=02f4a0ae8ab9919368b1a9a0a6a946d365da7291', 'width': 1080, 'height': 810}], 'variants': {}, 'id': '3ksvcJFAnGejpdLUhQ__qxv6bZdt_chiM24qZXmZuoU'}], 'enabled': False}, 'all_awardings': [], 'awarders': [], 'media_only': False, 'can_gild': True, 'spoiler': False, 'locked': False, 'author_flair_text': None, 'treatment_tags': [], 'visited': False, 'removed_by': None, 'num_reports': None, 'distinguished': None, 'subreddit_id': 't5_2qh1n', 'author_is_blocked': False, 'mod_reason_by': None, 'removal_reason': None, 'link_flair_background_color': '', 'id': 'st15fk', 'is_robot_indexable': True, 'report_reasons': None, 'author': 'miso25', 'discussion_type': None, 'num_comments': 1, 'send_replies': False, 'whitelist_status': 'all_ads', 'contest_mode': False, 'mod_reports': [], 'author_patreon_flair': False, 'author_flair_text_color': None, 'permalink': '/r/environment/comments/st15fk/lichens_are_in_danger_of_losing_the_evolutionary/', 'parent_whitelist_status': 'all_ads', 'stickied': False, 'url': 'https://phys.org/news/2022-02-lichens-danger-evolutionary-climate.html', 'subreddit_subscribers': 801197, 'created_utc': 1644925581.0, 'num_crossposts': 0, 'media': None, 'is_video': False}}, {'kind': 't3', 'data': {'approved_at_utc': None, 'subreddit': 'environment', 'selftext': '', 'author_fullname': 't2_c7g6d', 'saved': False, 'mod_reason_title': None, 'gilded': 0, 'clicked': False, 'title': \"Plastic, chemical pollution beyond planet's safe limit: study\", 'link_flair_richtext': [], 'subreddit_name_prefixed': 'r/environment', 'hidden': False, 'pwls': 6, 'link_flair_css_class': None, 'downs': 0, 'thumbnail_height': 97, 'top_awarded_type': None, 'hide_score': False, 'name': 't3_st0bxq', 'quarantine': False, 'link_flair_text_color': 'dark', 'upvote_ratio': 0.91, 'author_flair_background_color': None, 'subreddit_type': 'public', 'ups': 64, 'total_awards_received': 0, 'media_embed': {}, 'thumbnail_width': 140, 'author_flair_template_id': None, 'is_original_content': False, 'user_reports': [], 'secure_media': None, 'is_reddit_media_domain': False, 'is_meta': False, 'category': None, 'secure_media_embed': {}, 'link_flair_text': None, 'can_mod_post': False, 'score': 64, 'approved_by': None, 'is_created_from_ads_ui': False, 'author_premium': False, 'thumbnail': 'https://b.thumbs.redditmedia.com/D0eY08M6-BDvROBdSCoMSOSmSc3f30Thmg6KY4-KKAU.jpg', 'edited': False, 'author_flair_css_class': None, 'author_flair_richtext': [], 'gildings': {}, 'post_hint': 'link', 'content_categories': None, 'is_self': False, 'mod_note': None, 'created': 1644922441.0, 'link_flair_type': 'text', 'wls': 6, 'removed_by_category': None, 'banned_by': None, 'author_flair_type': 'text', 'domain': 'phys.org', 'allow_live_comments': False, 'selftext_html': None, 'likes': None, 'suggested_sort': None, 'banned_at_utc': None, 'url_overridden_by_dest': 'https://phys.org/news/2022-02-plastic-chemical-pollution-planet-safe.html', 'view_count': None, 'archived': False, 'no_follow': False, 'is_crosspostable': True, 'pinned': False, 'over_18': False, 'preview': {'images': [{'source': {'url': 'https://external-preview.redd.it/cQRo_wKSSETMq1_ERwv-hOQDB11SVbJ2tzmyeM6zJjs.jpg?auto=webp&amp;s=5fcbf89f42783f7ec95d405bb28967d55e741557', 'width': 1024, 'height': 711}, 'resolutions': [{'url': 'https://external-preview.redd.it/cQRo_wKSSETMq1_ERwv-hOQDB11SVbJ2tzmyeM6zJjs.jpg?width=108&amp;crop=smart&amp;auto=webp&amp;s=91b3d7c7b525368434d89a109ebfcb1ab9d12b81', 'width': 108, 'height': 74}, {'url': 'https://external-preview.redd.it/cQRo_wKSSETMq1_ERwv-hOQDB11SVbJ2tzmyeM6zJjs.jpg?width=216&amp;crop=smart&amp;auto=webp&amp;s=f4ddd1668e8cb82f1039808fcc4b7265c4022207', 'width': 216, 'height': 149}, {'url': 'https://external-preview.redd.it/cQRo_wKSSETMq1_ERwv-hOQDB11SVbJ2tzmyeM6zJjs.jpg?width=320&amp;crop=smart&amp;auto=webp&amp;s=0745f6e95b779d8f95f207d0f8bf8d51137d7743', 'width': 320, 'height': 222}, {'url': 'https://external-preview.redd.it/cQRo_wKSSETMq1_ERwv-hOQDB11SVbJ2tzmyeM6zJjs.jpg?width=640&amp;crop=smart&amp;auto=webp&amp;s=1dc8955a4d66e7812558631c495f0d0f5255022b', 'width': 640, 'height': 444}, {'url': 'https://external-preview.redd.it/cQRo_wKSSETMq1_ERwv-hOQDB11SVbJ2tzmyeM6zJjs.jpg?width=960&amp;crop=smart&amp;auto=webp&amp;s=b1d5a94b1784ca61001b14fcfccc07b614b07d6e', 'width': 960, 'height': 666}], 'variants': {}, 'id': 'EVMX5cBFQrw-UX4qdwQknfLddi-Gpck5clJy7xJGoO8'}], 'enabled': False}, 'all_awardings': [], 'awarders': [], 'media_only': False, 'can_gild': True, 'spoiler': False, 'locked': False, 'author_flair_text': None, 'treatment_tags': [], 'visited': False, 'removed_by': None, 'num_reports': None, 'distinguished': None, 'subreddit_id': 't5_2qh1n', 'author_is_blocked': False, 'mod_reason_by': None, 'removal_reason': None, 'link_flair_background_color': '', 'id': 'st0bxq', 'is_robot_indexable': True, 'report_reasons': None, 'author': 'maki23', 'discussion_type': None, 'num_comments': 7, 'send_replies': False, 'whitelist_status': 'all_ads', 'contest_mode': False, 'mod_reports': [], 'author_patreon_flair': False, 'author_flair_text_color': None, 'permalink': '/r/environment/comments/st0bxq/plastic_chemical_pollution_beyond_planets_safe/', 'parent_whitelist_status': 'all_ads', 'stickied': False, 'url': 'https://phys.org/news/2022-02-plastic-chemical-pollution-planet-safe.html', 'subreddit_subscribers': 801197, 'created_utc': 1644922441.0, 'num_crossposts': 0, 'media': None, 'is_video': False}}, {'kind': 't3', 'data': {'approved_at_utc': None, 'subreddit': 'environment', 'selftext': '', 'author_fullname': 't2_em3y5b5b', 'saved': False, 'mod_reason_title': None, 'gilded': 0, 'clicked': False, 'title': 'Trump-Appointed Judge Just Dealt a Blow to Biden’s Climate Efforts – Mother Jones', 'link_flair_richtext': [], 'subreddit_name_prefixed': 'r/environment', 'hidden': False, 'pwls': 6, 'link_flair_css_class': None, 'downs': 0, 'thumbnail_height': 73, 'top_awarded_type': None, 'hide_score': False, 'name': 't3_ssy0d2', 'quarantine': False, 'link_flair_text_color': 'dark', 'upvote_ratio': 0.89, 'author_flair_background_color': None, 'subreddit_type': 'public', 'ups': 107, 'total_awards_received': 0, 'media_embed': {}, 'thumbnail_width': 140, 'author_flair_template_id': None, 'is_original_content': False, 'user_reports': [], 'secure_media': None, 'is_reddit_media_domain': False, 'is_meta': False, 'category': None, 'secure_media_embed': {}, 'link_flair_text': None, 'can_mod_post': False, 'score': 107, 'approved_by': None, 'is_created_from_ads_ui': False, 'author_premium': False, 'thumbnail': 'https://b.thumbs.redditmedia.com/JmqQfXWDU36zvfQaP-IPphIhGHdLIOq9_z1SfXLu3pY.jpg', 'edited': False, 'author_flair_css_class': None, 'author_flair_richtext': [], 'gildings': {}, 'post_hint': 'link', 'content_categories': None, 'is_self': False, 'mod_note': None, 'created': 1644912789.0, 'link_flair_type': 'text', 'wls': 6, 'removed_by_category': None, 'banned_by': None, 'author_flair_type': 'text', 'domain': 'motherjones.com', 'allow_live_comments': False, 'selftext_html': None, 'likes': None, 'suggested_sort': None, 'banned_at_utc': None, 'url_overridden_by_dest': 'https://www.motherjones.com/environment/2022/02/trump-appointee-judge-strikes-down-biden-administration-climate-social-cost-carbon/', 'view_count': None, 'archived': False, 'no_follow': False, 'is_crosspostable': True, 'pinned': False, 'over_18': False, 'preview': {'images': [{'source': {'url': 'https://external-preview.redd.it/1lalKW7JrsOKUdU78yCEZBdVj5-472gDHpCUhakC-ds.jpg?auto=webp&amp;s=ff061d90951f54b58886669a63d66257a35d3570', 'width': 1200, 'height': 630}, 'resolutions': [{'url': 'https://external-preview.redd.it/1lalKW7JrsOKUdU78yCEZBdVj5-472gDHpCUhakC-ds.jpg?width=108&amp;crop=smart&amp;auto=webp&amp;s=fe29e2c080ad509c2db38c84acca4f0cfd08480e', 'width': 108, 'height': 56}, {'url': 'https://external-preview.redd.it/1lalKW7JrsOKUdU78yCEZBdVj5-472gDHpCUhakC-ds.jpg?width=216&amp;crop=smart&amp;auto=webp&amp;s=f846d84905ca5491e9f30ccc98cdc4f169baf834', 'width': 216, 'height': 113}, {'url': 'https://external-preview.redd.it/1lalKW7JrsOKUdU78yCEZBdVj5-472gDHpCUhakC-ds.jpg?width=320&amp;crop=smart&amp;auto=webp&amp;s=a9260abe0b3d82d09e1db07094ae5dbd84dcdfe4', 'width': 320, 'height': 168}, {'url': 'https://external-preview.redd.it/1lalKW7JrsOKUdU78yCEZBdVj5-472gDHpCUhakC-ds.jpg?width=640&amp;crop=smart&amp;auto=webp&amp;s=9ffed76cc78d897309ed1343e6a3a6090d620463', 'width': 640, 'height': 336}, {'url': 'https://external-preview.redd.it/1lalKW7JrsOKUdU78yCEZBdVj5-472gDHpCUhakC-ds.jpg?width=960&amp;crop=smart&amp;auto=webp&amp;s=1109f2810c980423531bd0b68a16e984aa4bf9d9', 'width': 960, 'height': 504}, {'url': 'https://external-preview.redd.it/1lalKW7JrsOKUdU78yCEZBdVj5-472gDHpCUhakC-ds.jpg?width=1080&amp;crop=smart&amp;auto=webp&amp;s=8c57e77318e1fc7a89d086d1180178d64e47ee3a', 'width': 1080, 'height': 567}], 'variants': {}, 'id': '5mhB73YLtbOhM9emhBtd2zRRmx4Rx0MWqMOq6NxcEoI'}], 'enabled': False}, 'all_awardings': [], 'awarders': [], 'media_only': False, 'can_gild': True, 'spoiler': False, 'locked': False, 'author_flair_text': None, 'treatment_tags': [], 'visited': False, 'removed_by': None, 'num_reports': None, 'distinguished': None, 'subreddit_id': 't5_2qh1n', 'author_is_blocked': False, 'mod_reason_by': None, 'removal_reason': None, 'link_flair_background_color': '', 'id': 'ssy0d2', 'is_robot_indexable': True, 'report_reasons': None, 'author': 'karton101', 'discussion_type': None, 'num_comments': 6, 'send_replies': True, 'whitelist_status': 'all_ads', 'contest_mode': False, 'mod_reports': [], 'author_patreon_flair': False, 'author_flair_text_color': None, 'permalink': '/r/environment/comments/ssy0d2/trumpappointed_judge_just_dealt_a_blow_to_bidens/', 'parent_whitelist_status': 'all_ads', 'stickied': False, 'url': 'https://www.motherjones.com/environment/2022/02/trump-appointee-judge-strikes-down-biden-administration-climate-social-cost-carbon/', 'subreddit_subscribers': 801197, 'created_utc': 1644912789.0, 'num_crossposts': 0, 'media': None, 'is_video': False}}], 'before': None}}\n"
     ]
    }
   ],
   "source": [
    "res = requests.get(\"https://oauth.reddit.com/r/environment\",\n",
    "                   headers=headers)\n",
    "\n",
    "print(res.json())  # let's see what we get"
   ]
  },
  {
   "cell_type": "code",
   "execution_count": 10,
   "id": "7845eaa1",
   "metadata": {},
   "outputs": [
    {
     "data": {
      "text/plain": [
       "'Scientists at Stanford develop new catalyst to convert cartman dioxide into gasoline 1000 times more efficiently'"
      ]
     },
     "execution_count": 10,
     "metadata": {},
     "output_type": "execute_result"
    }
   ],
   "source": [
    "post = res.json()['data']['children'][0]\n",
    "post['data']['title']"
   ]
  },
  {
   "cell_type": "code",
   "execution_count": 15,
   "id": "0bdf5446",
   "metadata": {},
   "outputs": [
    {
     "name": "stdout",
     "output_type": "stream",
     "text": [
      "approved_at_utc\n",
      "subreddit\n",
      "selftext\n",
      "author_fullname\n",
      "saved\n",
      "mod_reason_title\n",
      "gilded\n",
      "clicked\n",
      "title\n",
      "link_flair_richtext\n",
      "subreddit_name_prefixed\n",
      "hidden\n",
      "pwls\n",
      "link_flair_css_class\n",
      "downs\n",
      "thumbnail_height\n",
      "top_awarded_type\n",
      "hide_score\n",
      "name\n",
      "quarantine\n",
      "link_flair_text_color\n",
      "upvote_ratio\n",
      "author_flair_background_color\n",
      "subreddit_type\n",
      "ups\n",
      "total_awards_received\n",
      "media_embed\n",
      "thumbnail_width\n",
      "author_flair_template_id\n",
      "is_original_content\n",
      "user_reports\n",
      "secure_media\n",
      "is_reddit_media_domain\n",
      "is_meta\n",
      "category\n",
      "secure_media_embed\n",
      "link_flair_text\n",
      "can_mod_post\n",
      "score\n",
      "approved_by\n",
      "is_created_from_ads_ui\n",
      "author_premium\n",
      "thumbnail\n",
      "edited\n",
      "author_flair_css_class\n",
      "author_flair_richtext\n",
      "gildings\n",
      "post_hint\n",
      "content_categories\n",
      "is_self\n",
      "mod_note\n",
      "created\n",
      "link_flair_type\n",
      "wls\n",
      "removed_by_category\n",
      "banned_by\n",
      "author_flair_type\n",
      "domain\n",
      "allow_live_comments\n",
      "selftext_html\n",
      "likes\n",
      "suggested_sort\n",
      "banned_at_utc\n",
      "url_overridden_by_dest\n",
      "view_count\n",
      "archived\n",
      "no_follow\n",
      "is_crosspostable\n",
      "pinned\n",
      "over_18\n",
      "preview\n",
      "all_awardings\n",
      "awarders\n",
      "media_only\n",
      "can_gild\n",
      "spoiler\n",
      "locked\n",
      "author_flair_text\n",
      "treatment_tags\n",
      "visited\n",
      "removed_by\n",
      "num_reports\n",
      "distinguished\n",
      "subreddit_id\n",
      "author_is_blocked\n",
      "mod_reason_by\n",
      "removal_reason\n",
      "link_flair_background_color\n",
      "id\n",
      "is_robot_indexable\n",
      "report_reasons\n",
      "author\n",
      "discussion_type\n",
      "num_comments\n",
      "send_replies\n",
      "whitelist_status\n",
      "contest_mode\n",
      "mod_reports\n",
      "author_patreon_flair\n",
      "author_flair_text_color\n",
      "permalink\n",
      "parent_whitelist_status\n",
      "stickied\n",
      "url\n",
      "subreddit_subscribers\n",
      "created_utc\n",
      "num_crossposts\n",
      "media\n",
      "is_video\n"
     ]
    }
   ],
   "source": [
    "for k in post['data'].keys():\n",
    "    print(k)"
   ]
  },
  {
   "cell_type": "code",
   "execution_count": 16,
   "id": "7303bc5e",
   "metadata": {},
   "outputs": [
    {
     "data": {
      "text/plain": [
       "200"
      ]
     },
     "execution_count": 16,
     "metadata": {},
     "output_type": "execute_result"
    }
   ],
   "source": [
    "post['data']['num_comments']"
   ]
  },
  {
   "cell_type": "code",
   "execution_count": 23,
   "id": "77d3c386",
   "metadata": {},
   "outputs": [],
   "source": [
    "fullname = post['kind'] + post['data']['id']"
   ]
  },
  {
   "cell_type": "code",
   "execution_count": 28,
   "id": "50fb6ee1",
   "metadata": {},
   "outputs": [],
   "source": [
    "res = requests.get(\"https://oauth.reddit.com/r/environment/comments/article/\"+fullname,\n",
    "                   headers=headers)"
   ]
  },
  {
   "cell_type": "code",
   "execution_count": 29,
   "id": "d40b99a1",
   "metadata": {},
   "outputs": [
    {
     "data": {
      "text/plain": [
       "{'message': 'Not Found', 'error': 404}"
      ]
     },
     "execution_count": 29,
     "metadata": {},
     "output_type": "execute_result"
    }
   ],
   "source": [
    "res.json()"
   ]
  },
  {
   "cell_type": "code",
   "execution_count": 3,
   "id": "02770ad0",
   "metadata": {},
   "outputs": [],
   "source": [
    "reddit_read_only = praw.Reddit(client_id=personal_use_script,         # your client id\n",
    "                               client_secret=secret,      # your client secret\n",
    "                               user_agent='MyBot/0.0.1')"
   ]
  },
  {
   "cell_type": "code",
   "execution_count": 4,
   "id": "e60180f8",
   "metadata": {},
   "outputs": [],
   "source": [
    "subreddit = reddit_read_only.subreddit(\"environment\")"
   ]
  },
  {
   "cell_type": "code",
   "execution_count": 91,
   "id": "f052d423",
   "metadata": {},
   "outputs": [],
   "source": [
    "import datetime"
   ]
  },
  {
   "cell_type": "code",
   "execution_count": 15,
   "id": "65ef495d",
   "metadata": {},
   "outputs": [
    {
     "name": "stdout",
     "output_type": "stream",
     "text": [
      "2022-02-15 22:26:57\n"
     ]
    }
   ],
   "source": [
    "for post in subreddit.new(limit=1):\n",
    "    print(datetime.datetime.fromtimestamp(post.created))"
   ]
  },
  {
   "cell_type": "code",
   "execution_count": null,
   "id": "071d4d19",
   "metadata": {},
   "outputs": [],
   "source": []
  },
  {
   "cell_type": "code",
   "execution_count": 39,
   "id": "df2057b8",
   "metadata": {},
   "outputs": [],
   "source": [
    "params = {}\n",
    "\n",
    "i = 1\n",
    "r_environment = {}\n",
    "\n",
    "for group in range(20):\n",
    "    for post in subreddit.new(limit=500, params=params):\n",
    "\n",
    "        r_environment[i] = {}\n",
    "        r_environment[i]['title'] = post.title\n",
    "        r_environment[i]['date'] = datetime.datetime.fromtimestamp(post.created)\n",
    "        r_environment[i]['selftext'] = post.selftext\n",
    "        r_environment[i]['comments'] = []\n",
    "\n",
    "        for comment in post.comments:\n",
    "            if type(comment) == praw.models.reddit.more.MoreComments:\n",
    "                for c in comment.comments():\n",
    "                    r_environment[i]['comments'].append(c)\n",
    "            else:\n",
    "                r_environment[i]['comments'].append(comment.body)\n",
    "\n",
    "        i += 1\n",
    "    params['after'] = post.name"
   ]
  },
  {
   "cell_type": "code",
   "execution_count": 56,
   "id": "d464e159",
   "metadata": {},
   "outputs": [
    {
     "name": "stdout",
     "output_type": "stream",
     "text": [
      "China makes Olympian effort to cut pollution but remains short of WHO standards\n",
      "Beijing's carbon trading program sets green example\n"
     ]
    }
   ],
   "source": [
    "for post in subreddit.new(limit=2):\n",
    "    print(post.title)"
   ]
  },
  {
   "cell_type": "code",
   "execution_count": 95,
   "id": "806f2c8b",
   "metadata": {},
   "outputs": [
    {
     "name": "stdout",
     "output_type": "stream",
     "text": [
      "Current Time = 23:28:17\n",
      "300\n",
      "Current Time = 23:40:27\n",
      "600\n",
      "Current Time = 23:56:39\n",
      "900\n",
      "Current Time = 23:58:27\n",
      "908\n",
      "Current Time = 00:01:48\n",
      "908\n",
      "Current Time = 00:06:47\n",
      "908\n",
      "Current Time = 00:08:27\n",
      "908\n",
      "Current Time = 00:11:48\n",
      "908\n",
      "Current Time = 00:16:47\n",
      "908\n",
      "Current Time = 00:18:27\n",
      "908\n",
      "Current Time = 00:21:48\n",
      "908\n",
      "Current Time = 00:26:47\n",
      "908\n",
      "Current Time = 00:28:27\n",
      "908\n",
      "Current Time = 00:29:56\n",
      "908\n",
      "Current Time = 00:36:35\n",
      "908\n",
      "Current Time = 00:38:15\n",
      "908\n",
      "Current Time = 00:39:55\n",
      "908\n",
      "Current Time = 00:46:36\n",
      "908\n",
      "Current Time = 00:48:15\n",
      "908\n",
      "Current Time = 00:49:55\n",
      "908\n",
      "Current Time = 00:56:35\n",
      "908\n",
      "Current Time = 00:58:15\n",
      "908\n",
      "Current Time = 00:59:55\n",
      "908\n",
      "Current Time = 01:06:35\n",
      "908\n",
      "Current Time = 01:08:15\n",
      "908\n",
      "Current Time = 01:09:55\n",
      "908\n",
      "Current Time = 01:16:35\n",
      "908\n",
      "Current Time = 01:18:15\n",
      "908\n",
      "Current Time = 01:19:55\n",
      "908\n",
      "Current Time = 01:26:35\n",
      "908\n",
      "Current Time = 01:28:15\n",
      "908\n",
      "Current Time = 01:29:55\n",
      "908\n",
      "Current Time = 01:36:35\n",
      "908\n",
      "Current Time = 01:38:15\n",
      "908\n",
      "Current Time = 01:39:55\n",
      "908\n",
      "Current Time = 01:46:35\n",
      "908\n",
      "Current Time = 01:48:15\n",
      "908\n",
      "Current Time = 01:49:55\n",
      "908\n",
      "Current Time = 01:56:35\n",
      "908\n",
      "Current Time = 01:58:15\n",
      "908\n",
      "Current Time = 01:59:55\n",
      "908\n",
      "Current Time = 02:06:35\n",
      "908\n",
      "Current Time = 02:08:15\n",
      "908\n",
      "Current Time = 02:09:55\n",
      "908\n",
      "Current Time = 02:16:35\n",
      "908\n",
      "Current Time = 02:18:15\n",
      "908\n",
      "Current Time = 02:19:55\n",
      "908\n",
      "Current Time = 02:26:35\n",
      "908\n",
      "Current Time = 02:28:15\n",
      "908\n",
      "Current Time = 02:29:55\n",
      "908\n",
      "Current Time = 02:36:35\n",
      "908\n",
      "Current Time = 02:38:15\n",
      "908\n",
      "Current Time = 02:39:55\n",
      "908\n",
      "Current Time = 02:46:35\n",
      "908\n",
      "Current Time = 02:48:15\n",
      "908\n",
      "Current Time = 02:49:56\n",
      "908\n",
      "Current Time = 02:56:35\n",
      "908\n",
      "Current Time = 02:58:15\n",
      "908\n",
      "Current Time = 02:59:55\n",
      "908\n",
      "Current Time = 03:06:35\n",
      "908\n",
      "Current Time = 03:08:15\n",
      "908\n",
      "Current Time = 03:09:55\n",
      "908\n",
      "Current Time = 03:16:35\n",
      "908\n",
      "Current Time = 03:18:15\n",
      "908\n",
      "Current Time = 03:19:55\n",
      "908\n",
      "Current Time = 03:26:35\n",
      "908\n",
      "Current Time = 03:28:15\n",
      "908\n",
      "Current Time = 03:29:55\n",
      "908\n",
      "Current Time = 03:36:35\n",
      "908\n",
      "Current Time = 03:38:15\n",
      "908\n",
      "Current Time = 03:39:55\n",
      "908\n",
      "Current Time = 03:46:35\n",
      "908\n",
      "Current Time = 03:48:15\n",
      "908\n",
      "Current Time = 03:49:55\n",
      "908\n",
      "Current Time = 03:56:35\n",
      "908\n",
      "Current Time = 03:58:15\n",
      "908\n",
      "Current Time = 03:59:55\n",
      "908\n",
      "Current Time = 04:06:35\n",
      "908\n",
      "Current Time = 04:08:15\n",
      "908\n",
      "Current Time = 04:09:55\n",
      "908\n",
      "Current Time = 04:16:35\n",
      "908\n",
      "Current Time = 04:18:15\n",
      "908\n",
      "Current Time = 04:19:55\n",
      "908\n",
      "Current Time = 04:26:35\n",
      "908\n",
      "Current Time = 04:28:15\n",
      "908\n",
      "Current Time = 04:29:55\n",
      "908\n",
      "Current Time = 04:36:35\n",
      "908\n",
      "Current Time = 04:38:15\n",
      "908\n",
      "Current Time = 04:39:55\n",
      "908\n",
      "Current Time = 04:46:35\n",
      "908\n",
      "Current Time = 04:48:15\n",
      "908\n",
      "Current Time = 04:49:55\n",
      "908\n",
      "Current Time = 04:56:35\n",
      "908\n",
      "Current Time = 04:58:15\n",
      "908\n",
      "Current Time = 04:59:55\n",
      "908\n",
      "Current Time = 05:06:35\n",
      "908\n",
      "Current Time = 05:08:15\n",
      "908\n",
      "Current Time = 05:09:55\n",
      "908\n",
      "Current Time = 05:16:35\n",
      "908\n",
      "Current Time = 05:18:15\n",
      "908\n"
     ]
    }
   ],
   "source": [
    "params = {}\n",
    "\n",
    "i = 1\n",
    "r_environment = {}\n",
    "\n",
    "for _ in range(100):\n",
    "    for group in range(100):\n",
    "        #posts = subreddit.new(limit=3, params=params)\n",
    "        #print(len([post for post in posts]))\n",
    "        #print(r_environment2)\n",
    "        for post in subreddit.new(limit=3, params=params):\n",
    "\n",
    "            r_environment[i] = {}\n",
    "            r_environment[i]['title'] = post.title\n",
    "            #print(r_environment2)\n",
    "            r_environment[i]['date'] = datetime.datetime.fromtimestamp(post.created)\n",
    "            r_environment[i]['selftext'] = post.selftext\n",
    "            r_environment[i]['comments'] = []\n",
    "\n",
    "            for comment in post.comments:\n",
    "                if type(comment) == praw.models.reddit.more.MoreComments:\n",
    "                    for c in comment.comments():\n",
    "                        r_environment[i]['comments'].append(c)\n",
    "                else:\n",
    "                    r_environment[i]['comments'].append(comment.body)\n",
    "\n",
    "            i += 1\n",
    "        params['after'] = post.name\n",
    "    print(\"Current Time =\", dt.now().strftime(\"%H:%M:%S\"))\n",
    "    print(len(r_environment))\n",
    "    time.sleep(2)"
   ]
  },
  {
   "cell_type": "code",
   "execution_count": 79,
   "id": "f1d9f1db",
   "metadata": {},
   "outputs": [],
   "source": [
    "import time\n",
    "time.sleep(2)"
   ]
  },
  {
   "cell_type": "code",
   "execution_count": 86,
   "id": "cbb54aa7",
   "metadata": {},
   "outputs": [],
   "source": [
    "import pandas as pd\n",
    "import datetime"
   ]
  },
  {
   "cell_type": "code",
   "execution_count": 92,
   "id": "e1f629f0",
   "metadata": {},
   "outputs": [],
   "source": [
    "from datetime import datetime as dt\n",
    "\n",
    "now = dt.now()\n",
    "\n",
    "current_time = now.strftime(\"%H:%M:%S\")\n"
   ]
  },
  {
   "cell_type": "code",
   "execution_count": 77,
   "id": "fbe9f165",
   "metadata": {},
   "outputs": [
    {
     "data": {
      "text/plain": [
       "400"
      ]
     },
     "execution_count": 77,
     "metadata": {},
     "output_type": "execute_result"
    }
   ],
   "source": [
    "len(r_environment2)"
   ]
  },
  {
   "cell_type": "code",
   "execution_count": 73,
   "id": "068101e8",
   "metadata": {},
   "outputs": [
    {
     "name": "stdout",
     "output_type": "stream",
     "text": [
      "Private equity’s dirty dozen: the 12 US firms funding dirty energy projects\n",
      "The American West Is Likely Too Far Gone to Return to the Way It Was - The term \"aridification\" has far different implications than \"drought.\"\n"
     ]
    }
   ],
   "source": [
    "for post in subreddit.new(limit=2, params=params2):\n",
    "    print(post.title)"
   ]
  },
  {
   "cell_type": "code",
   "execution_count": 68,
   "id": "b811d0aa",
   "metadata": {},
   "outputs": [
    {
     "data": {
      "text/plain": [
       "{'title': 'Sea level to rise one foot along U.S. coastlines by 2050, government report finds',\n",
       " 'date': datetime.datetime(2022, 2, 15, 14, 59, 2),\n",
       " 'selftext': '',\n",
       " 'comments': ['What does this bode for Florida?',\n",
       "  'I sure hope that gets Mara Lago',\n",
       "  'See you down in Arizona Bay',\n",
       "  \"I've often fantasized about moving to the majestic coast of Oregon, but articles like this remind me why that's not a good idea.\",\n",
       "  'Good thing the US govt doesn’t listen to the US govt /s',\n",
       "  'I mean all they have to do is sell their houses to aquaman and move inland',\n",
       "  'The Wollongong Council (Nsw Australia) had a report that the sea level would rise 20 feet and the water would be up to the main highway in 20 years and they banned any more construction near the ocean.\\n30 years has passed and no sea level rise.',\n",
       "  \"We're all going to be dead by 2050, lol, who gives a fuck about sea level rise when we're all going to fry or starve or die from all out nuclear war by 2030?\",\n",
       "  'That’s fine, it’s only on US coastlines.',\n",
       "  'Is that why all the climate leaders have coastal mansions?',\n",
       "  'So what, sea levels rise and fall ever since the earliest records.',\n",
       "  'They said that 20+ years ago. Nothing.',\n",
       "  'One foot?  Those are rookie numbers.\\n\\n^/s']}"
      ]
     },
     "execution_count": 68,
     "metadata": {},
     "output_type": "execute_result"
    }
   ],
   "source": [
    "r_environment2[100]"
   ]
  },
  {
   "cell_type": "code",
   "execution_count": 51,
   "id": "ef11787b",
   "metadata": {},
   "outputs": [
    {
     "data": {
      "text/plain": [
       "{}"
      ]
     },
     "execution_count": 51,
     "metadata": {},
     "output_type": "execute_result"
    }
   ],
   "source": [
    "r_environment2"
   ]
  },
  {
   "cell_type": "code",
   "execution_count": 34,
   "id": "820ed652",
   "metadata": {},
   "outputs": [
    {
     "data": {
      "text/plain": [
       "datetime.datetime(2022, 1, 31, 15, 33, 25)"
      ]
     },
     "execution_count": 34,
     "metadata": {},
     "output_type": "execute_result"
    }
   ],
   "source": [
    "r_environment[907]['date']"
   ]
  },
  {
   "cell_type": "code",
   "execution_count": 33,
   "id": "d4878979",
   "metadata": {},
   "outputs": [
    {
     "data": {
      "text/plain": [
       "Submission(id='shcvu1')"
      ]
     },
     "execution_count": 33,
     "metadata": {},
     "output_type": "execute_result"
    }
   ],
   "source": [
    "post"
   ]
  },
  {
   "cell_type": "code",
   "execution_count": 23,
   "id": "50c3b91e",
   "metadata": {},
   "outputs": [
    {
     "data": {
      "text/plain": [
       "datetime.datetime(2022, 2, 9, 22, 42, 33)"
      ]
     },
     "execution_count": 23,
     "metadata": {},
     "output_type": "execute_result"
    }
   ],
   "source": [
    "dates[-1]"
   ]
  },
  {
   "cell_type": "code",
   "execution_count": 19,
   "id": "9b3f1317",
   "metadata": {},
   "outputs": [
    {
     "data": {
      "text/plain": [
       "True"
      ]
     },
     "execution_count": 19,
     "metadata": {},
     "output_type": "execute_result"
    }
   ],
   "source": [
    "type(comment) == praw.models.reddit.more.MoreComments"
   ]
  },
  {
   "cell_type": "code",
   "execution_count": 2,
   "id": "619b001d",
   "metadata": {},
   "outputs": [],
   "source": [
    "import pandas as pd\n",
    "from pmaw import PushshiftAPI\n",
    "api = PushshiftAPI()"
   ]
  },
  {
   "cell_type": "code",
   "execution_count": 3,
   "id": "6ee600b5",
   "metadata": {},
   "outputs": [],
   "source": []
  },
  {
   "cell_type": "code",
   "execution_count": 4,
   "id": "918c4b3e",
   "metadata": {},
   "outputs": [
    {
     "name": "stderr",
     "output_type": "stream",
     "text": [
      "Not all PushShift shards are active. Query results may be incomplete.\n"
     ]
    }
   ],
   "source": [
    "submissions = api.search_submissions(subreddit='environment', limit=100)"
   ]
  },
  {
   "cell_type": "code",
   "execution_count": 5,
   "id": "e3b05455",
   "metadata": {},
   "outputs": [],
   "source": [
    "sub_df = pd.DataFrame(submissions)"
   ]
  },
  {
   "cell_type": "code",
   "execution_count": 7,
   "id": "946c18ae",
   "metadata": {},
   "outputs": [
    {
     "data": {
      "text/plain": [
       "Index(['all_awardings', 'allow_live_comments', 'author',\n",
       "       'author_flair_css_class', 'author_flair_richtext', 'author_flair_text',\n",
       "       'author_flair_type', 'author_fullname', 'author_is_blocked',\n",
       "       'author_patreon_flair', 'author_premium', 'awarders', 'can_mod_post',\n",
       "       'contest_mode', 'created_utc', 'domain', 'full_link', 'gildings', 'id',\n",
       "       'is_created_from_ads_ui', 'is_crosspostable', 'is_meta',\n",
       "       'is_original_content', 'is_reddit_media_domain', 'is_robot_indexable',\n",
       "       'is_self', 'is_video', 'link_flair_background_color',\n",
       "       'link_flair_richtext', 'link_flair_text_color', 'link_flair_type',\n",
       "       'locked', 'media_only', 'no_follow', 'num_comments', 'num_crossposts',\n",
       "       'over_18', 'parent_whitelist_status', 'permalink', 'pinned', 'pwls',\n",
       "       'retrieved_on', 'score', 'selftext', 'send_replies', 'spoiler',\n",
       "       'stickied', 'subreddit', 'subreddit_id', 'subreddit_subscribers',\n",
       "       'subreddit_type', 'thumbnail', 'title', 'total_awards_received',\n",
       "       'treatment_tags', 'upvote_ratio', 'url', 'url_overridden_by_dest',\n",
       "       'whitelist_status', 'wls', 'post_hint', 'preview', 'thumbnail_height',\n",
       "       'thumbnail_width', 'crosspost_parent', 'crosspost_parent_list',\n",
       "       'removed_by_category', 'author_cakeday', 'media', 'media_embed',\n",
       "       'secure_media', 'secure_media_embed', 'gallery_data', 'is_gallery',\n",
       "       'media_metadata'],\n",
       "      dtype='object')"
      ]
     },
     "execution_count": 7,
     "metadata": {},
     "output_type": "execute_result"
    }
   ],
   "source": [
    "sub_df.colu"
   ]
  },
  {
   "cell_type": "code",
   "execution_count": 9,
   "id": "12ab15a3",
   "metadata": {},
   "outputs": [
    {
     "data": {
      "text/plain": [
       "0     37\n",
       "1     29\n",
       "2     12\n",
       "3      4\n",
       "4      4\n",
       "5      3\n",
       "14     2\n",
       "7      2\n",
       "17     2\n",
       "11     1\n",
       "57     1\n",
       "79     1\n",
       "50     1\n",
       "18     1\n",
       "Name: num_comments, dtype: int64"
      ]
     },
     "execution_count": 9,
     "metadata": {},
     "output_type": "execute_result"
    }
   ],
   "source": [
    "sub_df.num_comments.value_counts()"
   ]
  },
  {
   "cell_type": "code",
   "execution_count": 16,
   "id": "2371b113",
   "metadata": {},
   "outputs": [
    {
     "data": {
      "text/plain": [
       "'I found this video on YouTube regarding NFT’s of the future. I love the psychedelic biodegradable surfboard NFT’s that M2Bio Sciences released. Let me know your thoughts on this.\\n\\n[https://www.youtube.com/watch?v=ZU\\\\_jIBijdtY&amp;list=LL&amp;index=3&amp;t=5s](https://www.youtube.com/watch?v=ZU_jIBijdtY&amp;list=LL&amp;index=3&amp;t=5s)'"
      ]
     },
     "execution_count": 16,
     "metadata": {},
     "output_type": "execute_result"
    }
   ],
   "source": [
    "sub_df[sub_df.selftext != ''].selftext[42]"
   ]
  },
  {
   "cell_type": "code",
   "execution_count": 62,
   "id": "ed74c9e1",
   "metadata": {},
   "outputs": [
    {
     "name": "stderr",
     "output_type": "stream",
     "text": [
      "Not all PushShift shards are active. Query results may be incomplete.\n"
     ]
    }
   ],
   "source": [
    "comments = api.search_comments(subreddit=\"environment\", limit=10000)"
   ]
  },
  {
   "cell_type": "code",
   "execution_count": 18,
   "id": "f841ecb2",
   "metadata": {},
   "outputs": [
    {
     "data": {
      "text/plain": [
       "{'failed': 0, 'skipped': 0, 'successful': 4, 'total': 4}"
      ]
     },
     "execution_count": 18,
     "metadata": {},
     "output_type": "execute_result"
    }
   ],
   "source": [
    "api.metadata_.get('shards')"
   ]
  },
  {
   "cell_type": "code",
   "execution_count": 63,
   "id": "8124ca8c",
   "metadata": {},
   "outputs": [],
   "source": [
    "comments_df = pd.DataFrame(comments)"
   ]
  },
  {
   "cell_type": "code",
   "execution_count": 55,
   "id": "3c4767aa",
   "metadata": {},
   "outputs": [
    {
     "data": {
      "text/plain": [
       "'Is the government doing anything'"
      ]
     },
     "execution_count": 55,
     "metadata": {},
     "output_type": "execute_result"
    }
   ],
   "source": [
    "comments_df.body[3]"
   ]
  },
  {
   "cell_type": "code",
   "execution_count": 28,
   "id": "c186e771",
   "metadata": {},
   "outputs": [
    {
     "data": {
      "text/plain": [
       "Index(['all_awardings', 'associated_award', 'author',\n",
       "       'author_flair_background_color', 'author_flair_css_class',\n",
       "       'author_flair_richtext', 'author_flair_template_id',\n",
       "       'author_flair_text', 'author_flair_text_color', 'author_flair_type',\n",
       "       'author_fullname', 'author_patreon_flair', 'author_premium', 'awarders',\n",
       "       'body', 'collapsed_because_crowd_control', 'comment_type',\n",
       "       'created_utc', 'gildings', 'id', 'is_submitter', 'link_id', 'locked',\n",
       "       'no_follow', 'parent_id', 'permalink', 'retrieved_on', 'score',\n",
       "       'send_replies', 'stickied', 'subreddit', 'subreddit_id',\n",
       "       'top_awarded_type', 'total_awards_received', 'treatment_tags',\n",
       "       'distinguished'],\n",
       "      dtype='object')"
      ]
     },
     "execution_count": 28,
     "metadata": {},
     "output_type": "execute_result"
    }
   ],
   "source": [
    "comments_df.columns"
   ]
  },
  {
   "cell_type": "code",
   "execution_count": 45,
   "id": "71b87490",
   "metadata": {},
   "outputs": [],
   "source": [
    "import datetime"
   ]
  },
  {
   "cell_type": "code",
   "execution_count": 46,
   "id": "eb5bedbb",
   "metadata": {},
   "outputs": [
    {
     "name": "stdout",
     "output_type": "stream",
     "text": [
      "2021-04-01 12:19:40\n"
     ]
    }
   ],
   "source": [
    "print(datetime.datetime.fromtimestamp(comments_df.created_utc.iloc[0]))"
   ]
  },
  {
   "cell_type": "code",
   "execution_count": 66,
   "id": "ad9dcf03",
   "metadata": {},
   "outputs": [],
   "source": [
    "comments_df['date'] = comments_df.created_utc.apply(lambda x: datetime.datetime.fromtimestamp(x))"
   ]
  },
  {
   "cell_type": "code",
   "execution_count": 67,
   "id": "2bcd8e86",
   "metadata": {},
   "outputs": [
    {
     "data": {
      "text/plain": [
       "Timestamp('2021-02-26 16:54:47')"
      ]
     },
     "execution_count": 67,
     "metadata": {},
     "output_type": "execute_result"
    }
   ],
   "source": [
    "comments_df.date.min()"
   ]
  },
  {
   "cell_type": "code",
   "execution_count": 68,
   "id": "b5d6340c",
   "metadata": {},
   "outputs": [
    {
     "data": {
      "text/plain": [
       "Timestamp('2022-02-23 23:48:52')"
      ]
     },
     "execution_count": 68,
     "metadata": {},
     "output_type": "execute_result"
    }
   ],
   "source": [
    "comments_df.date.max()"
   ]
  },
  {
   "cell_type": "code",
   "execution_count": 64,
   "id": "0b746d1e",
   "metadata": {},
   "outputs": [
    {
     "data": {
      "text/plain": [
       "(10000, 51)"
      ]
     },
     "execution_count": 64,
     "metadata": {},
     "output_type": "execute_result"
    }
   ],
   "source": [
    "comments_df.shape"
   ]
  },
  {
   "cell_type": "code",
   "execution_count": null,
   "id": "6b50b961",
   "metadata": {},
   "outputs": [],
   "source": [
    "print(datetime.datetime.fromtimestamp(comments_df.created_utc.iloc[0]))"
   ]
  },
  {
   "cell_type": "code",
   "execution_count": 31,
   "id": "777966bb",
   "metadata": {},
   "outputs": [
    {
     "data": {
      "text/plain": [
       "0     t3_mhz1ue\n",
       "1     t3_mhnlzb\n",
       "2     t3_mhz1ue\n",
       "3     t3_mhnlzb\n",
       "4     t3_mhnlzb\n",
       "        ...    \n",
       "95    t3_mhltcl\n",
       "96    t3_mhbin2\n",
       "97    t3_mhnlzb\n",
       "98    t3_mhnlzb\n",
       "99    t3_mhnlzb\n",
       "Name: link_id, Length: 100, dtype: object"
      ]
     },
     "execution_count": 31,
     "metadata": {},
     "output_type": "execute_result"
    }
   ],
   "source": [
    "comments_df.link_id"
   ]
  },
  {
   "cell_type": "code",
   "execution_count": 32,
   "id": "c0124af7",
   "metadata": {},
   "outputs": [
    {
     "data": {
      "text/plain": [
       "Index(['all_awardings', 'allow_live_comments', 'author',\n",
       "       'author_flair_css_class', 'author_flair_richtext', 'author_flair_text',\n",
       "       'author_flair_type', 'author_fullname', 'author_is_blocked',\n",
       "       'author_patreon_flair', 'author_premium', 'awarders', 'can_mod_post',\n",
       "       'contest_mode', 'created_utc', 'domain', 'full_link', 'gildings', 'id',\n",
       "       'is_created_from_ads_ui', 'is_crosspostable', 'is_meta',\n",
       "       'is_original_content', 'is_reddit_media_domain', 'is_robot_indexable',\n",
       "       'is_self', 'is_video', 'link_flair_background_color',\n",
       "       'link_flair_richtext', 'link_flair_text_color', 'link_flair_type',\n",
       "       'locked', 'media_only', 'no_follow', 'num_comments', 'num_crossposts',\n",
       "       'over_18', 'parent_whitelist_status', 'permalink', 'pinned', 'pwls',\n",
       "       'retrieved_on', 'score', 'selftext', 'send_replies', 'spoiler',\n",
       "       'stickied', 'subreddit', 'subreddit_id', 'subreddit_subscribers',\n",
       "       'subreddit_type', 'thumbnail', 'title', 'total_awards_received',\n",
       "       'treatment_tags', 'upvote_ratio', 'url', 'url_overridden_by_dest',\n",
       "       'whitelist_status', 'wls', 'post_hint', 'preview', 'thumbnail_height',\n",
       "       'thumbnail_width', 'crosspost_parent', 'crosspost_parent_list',\n",
       "       'removed_by_category', 'author_cakeday', 'media', 'media_embed',\n",
       "       'secure_media', 'secure_media_embed', 'gallery_data', 'is_gallery',\n",
       "       'media_metadata'],\n",
       "      dtype='object')"
      ]
     },
     "execution_count": 32,
     "metadata": {},
     "output_type": "execute_result"
    }
   ],
   "source": [
    "sub_df.columns"
   ]
  },
  {
   "cell_type": "code",
   "execution_count": 44,
   "id": "579a3c67",
   "metadata": {},
   "outputs": [
    {
     "name": "stdout",
     "output_type": "stream",
     "text": [
      "all_awardings []\n",
      "allow_live_comments False\n",
      "author Wagamaga\n",
      "author_flair_css_class None\n",
      "author_flair_richtext []\n",
      "author_flair_text None\n",
      "author_flair_type text\n",
      "author_fullname t2_guf36\n",
      "author_is_blocked False\n",
      "author_patreon_flair False\n",
      "author_premium True\n",
      "awarders []\n",
      "can_mod_post False\n",
      "contest_mode False\n",
      "created_utc 1629911381\n",
      "domain medialibrary.climatecentral.org\n",
      "full_link https://www.reddit.com/r/environment/comments/pbfm19/western_fire_weather_days_increasing_heat_dryness/\n",
      "gildings {}\n",
      "id pbfm19\n",
      "is_created_from_ads_ui False\n",
      "is_crosspostable True\n",
      "is_meta False\n",
      "is_original_content False\n",
      "is_reddit_media_domain False\n",
      "is_robot_indexable True\n",
      "is_self False\n",
      "is_video False\n",
      "link_flair_background_color \n",
      "link_flair_richtext []\n",
      "link_flair_text_color dark\n",
      "link_flair_type text\n",
      "locked False\n",
      "media_only False\n",
      "no_follow True\n",
      "num_comments 0\n",
      "num_crossposts 0\n",
      "over_18 False\n",
      "parent_whitelist_status all_ads\n",
      "permalink /r/environment/comments/pbfm19/western_fire_weather_days_increasing_heat_dryness/\n",
      "pinned False\n",
      "pwls 6\n",
      "retrieved_on 1629911392\n",
      "score 1\n",
      "selftext \n",
      "send_replies True\n",
      "spoiler False\n",
      "stickied False\n",
      "subreddit environment\n",
      "subreddit_id t5_2qh1n\n",
      "subreddit_subscribers 750037\n",
      "subreddit_type public\n",
      "thumbnail default\n",
      "title Western Fire Weather Days Increasing. Heat, dryness, and wind—the main components of wildfire weather—affect fire behavior. A new analysis from Climate Central shows the frequency of fire weather days are increasing across most of the American West, driven by dryness and heat.\n",
      "total_awards_received 0\n",
      "treatment_tags []\n",
      "upvote_ratio 1.0\n",
      "url https://medialibrary.climatecentral.org/resources/western-fire-weather-days-increasing\n",
      "url_overridden_by_dest https://medialibrary.climatecentral.org/resources/western-fire-weather-days-increasing\n",
      "whitelist_status all_ads\n",
      "wls 6\n",
      "post_hint nan\n",
      "preview nan\n",
      "thumbnail_height nan\n",
      "thumbnail_width nan\n",
      "crosspost_parent nan\n",
      "crosspost_parent_list nan\n",
      "removed_by_category nan\n",
      "author_cakeday nan\n",
      "media nan\n",
      "media_embed nan\n",
      "secure_media nan\n",
      "secure_media_embed nan\n",
      "gallery_data nan\n",
      "is_gallery nan\n",
      "media_metadata nan\n"
     ]
    }
   ],
   "source": [
    "for i in range(len(sub_df.columns)):\n",
    "    print(sub_df.columns[i], sub_df.iloc[0, i])"
   ]
  },
  {
   "cell_type": "code",
   "execution_count": 1,
   "id": "ab070f4e",
   "metadata": {},
   "outputs": [],
   "source": [
    "import pandas as pd\n",
    "from pmaw import PushshiftAPI\n",
    "api = PushshiftAPI()"
   ]
  },
  {
   "cell_type": "code",
   "execution_count": 2,
   "id": "cbac72a2",
   "metadata": {},
   "outputs": [
    {
     "name": "stderr",
     "output_type": "stream",
     "text": [
      "Not all PushShift shards are active. Query results may be incomplete.\n"
     ]
    }
   ],
   "source": [
    "r_env = api.search_comments(subreddit=\"environment\", limit=50000)"
   ]
  },
  {
   "cell_type": "code",
   "execution_count": 3,
   "id": "d7081165",
   "metadata": {},
   "outputs": [
    {
     "name": "stderr",
     "output_type": "stream",
     "text": [
      "Not all PushShift shards are active. Query results may be incomplete.\n",
      "Not all PushShift shards are active. Query results may be incomplete.\n",
      "Not all PushShift shards are active. Query results may be incomplete.\n",
      "Not all PushShift shards are active. Query results may be incomplete.\n",
      "Not all PushShift shards are active. Query results may be incomplete.\n",
      "Not all PushShift shards are active. Query results may be incomplete.\n",
      "Not all PushShift shards are active. Query results may be incomplete.\n",
      "Not all PushShift shards are active. Query results may be incomplete.\n",
      "Not all PushShift shards are active. Query results may be incomplete.\n",
      "Not all PushShift shards are active. Query results may be incomplete.\n",
      "Not all PushShift shards are active. Query results may be incomplete.\n",
      "Not all PushShift shards are active. Query results may be incomplete.\n",
      "Not all PushShift shards are active. Query results may be incomplete.\n",
      "Not all PushShift shards are active. Query results may be incomplete.\n",
      "Not all PushShift shards are active. Query results may be incomplete.\n",
      "Not all PushShift shards are active. Query results may be incomplete.\n",
      "Not all PushShift shards are active. Query results may be incomplete.\n",
      "Not all PushShift shards are active. Query results may be incomplete.\n",
      "Not all PushShift shards are active. Query results may be incomplete.\n",
      "Not all PushShift shards are active. Query results may be incomplete.\n",
      "Not all PushShift shards are active. Query results may be incomplete.\n"
     ]
    }
   ],
   "source": [
    "r_cc = api.search_comments(subreddit=\"climatechange\", limit=50000)"
   ]
  },
  {
   "cell_type": "code",
   "execution_count": 8,
   "id": "8bcfc19d",
   "metadata": {},
   "outputs": [
    {
     "name": "stderr",
     "output_type": "stream",
     "text": [
      "Not all PushShift shards are active. Query results may be incomplete.\n",
      "Not all PushShift shards are active. Query results may be incomplete.\n",
      "Not all PushShift shards are active. Query results may be incomplete.\n",
      "Not all PushShift shards are active. Query results may be incomplete.\n",
      "Not all PushShift shards are active. Query results may be incomplete.\n",
      "Not all PushShift shards are active. Query results may be incomplete.\n",
      "Not all PushShift shards are active. Query results may be incomplete.\n",
      "Not all PushShift shards are active. Query results may be incomplete.\n",
      "Not all PushShift shards are active. Query results may be incomplete.\n",
      "Not all PushShift shards are active. Query results may be incomplete.\n",
      "Not all PushShift shards are active. Query results may be incomplete.\n",
      "Not all PushShift shards are active. Query results may be incomplete.\n",
      "Not all PushShift shards are active. Query results may be incomplete.\n",
      "Not all PushShift shards are active. Query results may be incomplete.\n",
      "Not all PushShift shards are active. Query results may be incomplete.\n",
      "Not all PushShift shards are active. Query results may be incomplete.\n"
     ]
    }
   ],
   "source": [
    "r_sus = api.search_comments(subreddit=\"sustainability\", limit=50000)"
   ]
  },
  {
   "cell_type": "code",
   "execution_count": 10,
   "id": "c91917c8",
   "metadata": {},
   "outputs": [
    {
     "name": "stderr",
     "output_type": "stream",
     "text": [
      "Not all PushShift shards are active. Query results may be incomplete.\n",
      "Not all PushShift shards are active. Query results may be incomplete.\n",
      "Not all PushShift shards are active. Query results may be incomplete.\n",
      "Not all PushShift shards are active. Query results may be incomplete.\n",
      "Not all PushShift shards are active. Query results may be incomplete.\n",
      "Not all PushShift shards are active. Query results may be incomplete.\n",
      "Not all PushShift shards are active. Query results may be incomplete.\n",
      "Not all PushShift shards are active. Query results may be incomplete.\n",
      "Not all PushShift shards are active. Query results may be incomplete.\n",
      "Not all PushShift shards are active. Query results may be incomplete.\n",
      "Not all PushShift shards are active. Query results may be incomplete.\n",
      "Not all PushShift shards are active. Query results may be incomplete.\n",
      "Not all PushShift shards are active. Query results may be incomplete.\n",
      "Not all PushShift shards are active. Query results may be incomplete.\n",
      "Not all PushShift shards are active. Query results may be incomplete.\n",
      "Not all PushShift shards are active. Query results may be incomplete.\n",
      "Not all PushShift shards are active. Query results may be incomplete.\n",
      "Not all PushShift shards are active. Query results may be incomplete.\n",
      "Not all PushShift shards are active. Query results may be incomplete.\n",
      "Not all PushShift shards are active. Query results may be incomplete.\n",
      "Not all PushShift shards are active. Query results may be incomplete.\n",
      "Not all PushShift shards are active. Query results may be incomplete.\n",
      "Not all PushShift shards are active. Query results may be incomplete.\n",
      "Not all PushShift shards are active. Query results may be incomplete.\n",
      "Not all PushShift shards are active. Query results may be incomplete.\n",
      "Not all PushShift shards are active. Query results may be incomplete.\n",
      "Not all PushShift shards are active. Query results may be incomplete.\n",
      "Not all PushShift shards are active. Query results may be incomplete.\n",
      "Not all PushShift shards are active. Query results may be incomplete.\n",
      "Not all PushShift shards are active. Query results may be incomplete.\n",
      "Not all PushShift shards are active. Query results may be incomplete.\n",
      "Not all PushShift shards are active. Query results may be incomplete.\n",
      "Not all PushShift shards are active. Query results may be incomplete.\n",
      "Not all PushShift shards are active. Query results may be incomplete.\n",
      "Not all PushShift shards are active. Query results may be incomplete.\n",
      "Not all PushShift shards are active. Query results may be incomplete.\n",
      "Not all PushShift shards are active. Query results may be incomplete.\n",
      "Not all PushShift shards are active. Query results may be incomplete.\n",
      "Not all PushShift shards are active. Query results may be incomplete.\n",
      "Not all PushShift shards are active. Query results may be incomplete.\n",
      "Not all PushShift shards are active. Query results may be incomplete.\n",
      "Not all PushShift shards are active. Query results may be incomplete.\n",
      "Not all PushShift shards are active. Query results may be incomplete.\n",
      "Not all PushShift shards are active. Query results may be incomplete.\n",
      "Not all PushShift shards are active. Query results may be incomplete.\n",
      "Not all PushShift shards are active. Query results may be incomplete.\n",
      "Not all PushShift shards are active. Query results may be incomplete.\n",
      "Not all PushShift shards are active. Query results may be incomplete.\n",
      "Not all PushShift shards are active. Query results may be incomplete.\n",
      "Not all PushShift shards are active. Query results may be incomplete.\n",
      "Not all PushShift shards are active. Query results may be incomplete.\n",
      "Not all PushShift shards are active. Query results may be incomplete.\n",
      "Not all PushShift shards are active. Query results may be incomplete.\n",
      "Not all PushShift shards are active. Query results may be incomplete.\n",
      "Not all PushShift shards are active. Query results may be incomplete.\n",
      "Not all PushShift shards are active. Query results may be incomplete.\n",
      "Not all PushShift shards are active. Query results may be incomplete.\n",
      "Not all PushShift shards are active. Query results may be incomplete.\n",
      "Not all PushShift shards are active. Query results may be incomplete.\n",
      "Not all PushShift shards are active. Query results may be incomplete.\n",
      "Not all PushShift shards are active. Query results may be incomplete.\n",
      "Not all PushShift shards are active. Query results may be incomplete.\n",
      "Not all PushShift shards are active. Query results may be incomplete.\n",
      "Not all PushShift shards are active. Query results may be incomplete.\n",
      "Not all PushShift shards are active. Query results may be incomplete.\n",
      "Not all PushShift shards are active. Query results may be incomplete.\n",
      "Not all PushShift shards are active. Query results may be incomplete.\n",
      "Not all PushShift shards are active. Query results may be incomplete.\n",
      "Not all PushShift shards are active. Query results may be incomplete.\n",
      "Not all PushShift shards are active. Query results may be incomplete.\n",
      "Not all PushShift shards are active. Query results may be incomplete.\n",
      "Not all PushShift shards are active. Query results may be incomplete.\n",
      "Not all PushShift shards are active. Query results may be incomplete.\n"
     ]
    }
   ],
   "source": [
    "r_eco = api.search_comments(subreddit=\"ecology\", limit=50000)"
   ]
  },
  {
   "cell_type": "code",
   "execution_count": 5,
   "id": "40e12222",
   "metadata": {},
   "outputs": [],
   "source": [
    "r_env_df = pd.DataFrame(r_env)"
   ]
  },
  {
   "cell_type": "code",
   "execution_count": 6,
   "id": "4024474e",
   "metadata": {},
   "outputs": [
    {
     "data": {
      "text/plain": [
       "(50000, 51)"
      ]
     },
     "execution_count": 6,
     "metadata": {},
     "output_type": "execute_result"
    }
   ],
   "source": [
    "r_env_df.shape"
   ]
  },
  {
   "cell_type": "code",
   "execution_count": 7,
   "id": "5ec21af2",
   "metadata": {},
   "outputs": [
    {
     "data": {
      "text/plain": [
       "(50000, 51)"
      ]
     },
     "execution_count": 7,
     "metadata": {},
     "output_type": "execute_result"
    }
   ],
   "source": [
    "r_cc_df = pd.DataFrame(r_cc)\n",
    "r_cc_df.shape"
   ]
  },
  {
   "cell_type": "code",
   "execution_count": 9,
   "id": "f8f05b8e",
   "metadata": {},
   "outputs": [
    {
     "data": {
      "text/plain": [
       "(50000, 51)"
      ]
     },
     "execution_count": 9,
     "metadata": {},
     "output_type": "execute_result"
    }
   ],
   "source": [
    "r_sus_df = pd.DataFrame(r_sus)\n",
    "r_sus_df.shape"
   ]
  },
  {
   "cell_type": "code",
   "execution_count": 13,
   "id": "fb586e49",
   "metadata": {},
   "outputs": [
    {
     "data": {
      "text/plain": [
       "(45629, 59)"
      ]
     },
     "execution_count": 13,
     "metadata": {},
     "output_type": "execute_result"
    }
   ],
   "source": [
    "r_eco_df = pd.DataFrame(r_eco)\n",
    "r_eco_df.shape"
   ]
  },
  {
   "cell_type": "code",
   "execution_count": 11,
   "id": "32d98805",
   "metadata": {},
   "outputs": [],
   "source": [
    "r_env_df.to_pickle('../data/r_env.pkl')"
   ]
  },
  {
   "cell_type": "code",
   "execution_count": 14,
   "id": "34bca9d0",
   "metadata": {},
   "outputs": [],
   "source": [
    "r_sus_df.to_pickle('../data/r_sus.pkl')\n",
    "r_cc_df.to_pickle('../data/r_cc.pkl')\n",
    "r_eco_df.to_pickle('../data/r_eco.pkl')"
   ]
  },
  {
   "cell_type": "code",
   "execution_count": null,
   "id": "43f93dff",
   "metadata": {},
   "outputs": [],
   "source": []
  }
 ],
 "metadata": {
  "kernelspec": {
   "display_name": "Python 3 (ipykernel)",
   "language": "python",
   "name": "python3"
  },
  "language_info": {
   "codemirror_mode": {
    "name": "ipython",
    "version": 3
   },
   "file_extension": ".py",
   "mimetype": "text/x-python",
   "name": "python",
   "nbconvert_exporter": "python",
   "pygments_lexer": "ipython3",
   "version": "3.9.7"
  }
 },
 "nbformat": 4,
 "nbformat_minor": 5
}
